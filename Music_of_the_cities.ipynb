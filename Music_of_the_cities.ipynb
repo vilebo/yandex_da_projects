{
 "cells": [
  {
   "cell_type": "markdown",
   "metadata": {
    "id": "E0vqbgi9ay0H"
   },
   "source": [
    "# Яндекс.Музыка"
   ]
  },
  {
   "cell_type": "markdown",
   "metadata": {
    "id": "VUC88oWjTJw2"
   },
   "source": [
    "Сравнение Москвы и Петербурга окружено мифами. Например:\n",
    " * Москва — мегаполис, подчинённый жёсткому ритму рабочей недели;\n",
    " * Петербург — культурная столица, со своими вкусами.\n",
    "\n",
    "На данных Яндекс.Музыки вы сравните поведение пользователей двух столиц.\n",
    "\n",
    "**Цель исследования** — проверьте три гипотезы:\n",
    "1. Активность пользователей зависит от дня недели. Причём в Москве и Петербурге это проявляется по-разному.\n",
    "2. В понедельник утром в Москве преобладают одни жанры, а в Петербурге — другие. Так же и вечером пятницы преобладают разные жанры — в зависимости от города. \n",
    "3. Москва и Петербург предпочитают разные жанры музыки. В Москве чаще слушают поп-музыку, в Петербурге — русский рэп.\n",
    "\n",
    "**Ход исследования**\n",
    "\n",
    "Данные о поведении пользователей вы получите из файла `yandex_music_project.csv`. О качестве данных ничего не известно. Поэтому перед проверкой гипотез понадобится обзор данных. \n",
    "\n",
    "Вы проверите данные на ошибки и оцените их влияние на исследование. Затем, на этапе предобработки вы поищете возможность исправить самые критичные ошибки данных.\n",
    " \n",
    "Таким образом, исследование пройдёт в три этапа:\n",
    " 1. Обзор данных.\n",
    " 2. Предобработка данных.\n",
    " 3. Проверка гипотез.\n",
    "\n"
   ]
  },
  {
   "cell_type": "markdown",
   "metadata": {
    "id": "Ml1hmfXC_Zcs"
   },
   "source": [
    "## Обзор данных\n",
    "\n",
    "Составьте первое представление о данных Яндекс.Музыки.\n",
    "\n",
    "\n"
   ]
  },
  {
   "cell_type": "markdown",
   "metadata": {
    "id": "57eAOGIz_Zcs"
   },
   "source": [
    "Основной инструмент аналитика — `pandas`. Импортируйте эту библиотеку."
   ]
  },
  {
   "cell_type": "code",
   "execution_count": 1,
   "metadata": {
    "id": "AXN7PHPN_Zcs"
   },
   "outputs": [],
   "source": [
    "import warnings\n",
    "warnings.filterwarnings('ignore')\n",
    "import pandas as pd # импорт библиотеки pandas"
   ]
  },
  {
   "cell_type": "markdown",
   "metadata": {
    "id": "SG23P8tt_Zcs"
   },
   "source": [
    "Прочитайте файл `yandex_music_project.csv` из папки `/datasets` и сохраните его в переменной `df`:"
   ]
  },
  {
   "cell_type": "code",
   "execution_count": 2,
   "metadata": {
    "id": "fFVu7vqh_Zct",
    "scrolled": true
   },
   "outputs": [],
   "source": [
    "df = pd.read_csv('/datasets/yandex_music_project.csv') # чтение файла с данными и сохранение в df"
   ]
  },
  {
   "cell_type": "markdown",
   "metadata": {
    "id": "rDoOMd3uTqnZ"
   },
   "source": [
    "Выведите на экран первые десять строк таблицы:"
   ]
  },
  {
   "cell_type": "code",
   "execution_count": 3,
   "metadata": {
    "id": "oWTVX3gW_Zct"
   },
   "outputs": [
    {
     "data": {
      "text/html": [
       "<div>\n",
       "<style scoped>\n",
       "    .dataframe tbody tr th:only-of-type {\n",
       "        vertical-align: middle;\n",
       "    }\n",
       "\n",
       "    .dataframe tbody tr th {\n",
       "        vertical-align: top;\n",
       "    }\n",
       "\n",
       "    .dataframe thead th {\n",
       "        text-align: right;\n",
       "    }\n",
       "</style>\n",
       "<table border=\"1\" class=\"dataframe\">\n",
       "  <thead>\n",
       "    <tr style=\"text-align: right;\">\n",
       "      <th></th>\n",
       "      <th>userID</th>\n",
       "      <th>Track</th>\n",
       "      <th>artist</th>\n",
       "      <th>genre</th>\n",
       "      <th>City</th>\n",
       "      <th>time</th>\n",
       "      <th>Day</th>\n",
       "    </tr>\n",
       "  </thead>\n",
       "  <tbody>\n",
       "    <tr>\n",
       "      <td>0</td>\n",
       "      <td>FFB692EC</td>\n",
       "      <td>Kamigata To Boots</td>\n",
       "      <td>The Mass Missile</td>\n",
       "      <td>rock</td>\n",
       "      <td>Saint-Petersburg</td>\n",
       "      <td>20:28:33</td>\n",
       "      <td>Wednesday</td>\n",
       "    </tr>\n",
       "    <tr>\n",
       "      <td>1</td>\n",
       "      <td>55204538</td>\n",
       "      <td>Delayed Because of Accident</td>\n",
       "      <td>Andreas Rönnberg</td>\n",
       "      <td>rock</td>\n",
       "      <td>Moscow</td>\n",
       "      <td>14:07:09</td>\n",
       "      <td>Friday</td>\n",
       "    </tr>\n",
       "    <tr>\n",
       "      <td>2</td>\n",
       "      <td>20EC38</td>\n",
       "      <td>Funiculì funiculà</td>\n",
       "      <td>Mario Lanza</td>\n",
       "      <td>pop</td>\n",
       "      <td>Saint-Petersburg</td>\n",
       "      <td>20:58:07</td>\n",
       "      <td>Wednesday</td>\n",
       "    </tr>\n",
       "    <tr>\n",
       "      <td>3</td>\n",
       "      <td>A3DD03C9</td>\n",
       "      <td>Dragons in the Sunset</td>\n",
       "      <td>Fire + Ice</td>\n",
       "      <td>folk</td>\n",
       "      <td>Saint-Petersburg</td>\n",
       "      <td>08:37:09</td>\n",
       "      <td>Monday</td>\n",
       "    </tr>\n",
       "    <tr>\n",
       "      <td>4</td>\n",
       "      <td>E2DC1FAE</td>\n",
       "      <td>Soul People</td>\n",
       "      <td>Space Echo</td>\n",
       "      <td>dance</td>\n",
       "      <td>Moscow</td>\n",
       "      <td>08:34:34</td>\n",
       "      <td>Monday</td>\n",
       "    </tr>\n",
       "    <tr>\n",
       "      <td>5</td>\n",
       "      <td>842029A1</td>\n",
       "      <td>Преданная</td>\n",
       "      <td>IMPERVTOR</td>\n",
       "      <td>rusrap</td>\n",
       "      <td>Saint-Petersburg</td>\n",
       "      <td>13:09:41</td>\n",
       "      <td>Friday</td>\n",
       "    </tr>\n",
       "    <tr>\n",
       "      <td>6</td>\n",
       "      <td>4CB90AA5</td>\n",
       "      <td>True</td>\n",
       "      <td>Roman Messer</td>\n",
       "      <td>dance</td>\n",
       "      <td>Moscow</td>\n",
       "      <td>13:00:07</td>\n",
       "      <td>Wednesday</td>\n",
       "    </tr>\n",
       "    <tr>\n",
       "      <td>7</td>\n",
       "      <td>F03E1C1F</td>\n",
       "      <td>Feeling This Way</td>\n",
       "      <td>Polina Griffith</td>\n",
       "      <td>dance</td>\n",
       "      <td>Moscow</td>\n",
       "      <td>20:47:49</td>\n",
       "      <td>Wednesday</td>\n",
       "    </tr>\n",
       "    <tr>\n",
       "      <td>8</td>\n",
       "      <td>8FA1D3BE</td>\n",
       "      <td>И вновь продолжается бой</td>\n",
       "      <td>NaN</td>\n",
       "      <td>ruspop</td>\n",
       "      <td>Moscow</td>\n",
       "      <td>09:17:40</td>\n",
       "      <td>Friday</td>\n",
       "    </tr>\n",
       "    <tr>\n",
       "      <td>9</td>\n",
       "      <td>E772D5C0</td>\n",
       "      <td>Pessimist</td>\n",
       "      <td>NaN</td>\n",
       "      <td>dance</td>\n",
       "      <td>Saint-Petersburg</td>\n",
       "      <td>21:20:49</td>\n",
       "      <td>Wednesday</td>\n",
       "    </tr>\n",
       "  </tbody>\n",
       "</table>\n",
       "</div>"
      ],
      "text/plain": [
       "     userID                        Track            artist   genre  \\\n",
       "0  FFB692EC            Kamigata To Boots  The Mass Missile    rock   \n",
       "1  55204538  Delayed Because of Accident  Andreas Rönnberg    rock   \n",
       "2    20EC38            Funiculì funiculà       Mario Lanza     pop   \n",
       "3  A3DD03C9        Dragons in the Sunset        Fire + Ice    folk   \n",
       "4  E2DC1FAE                  Soul People        Space Echo   dance   \n",
       "5  842029A1                    Преданная         IMPERVTOR  rusrap   \n",
       "6  4CB90AA5                         True      Roman Messer   dance   \n",
       "7  F03E1C1F             Feeling This Way   Polina Griffith   dance   \n",
       "8  8FA1D3BE     И вновь продолжается бой               NaN  ruspop   \n",
       "9  E772D5C0                    Pessimist               NaN   dance   \n",
       "\n",
       "             City        time        Day  \n",
       "0  Saint-Petersburg  20:28:33  Wednesday  \n",
       "1            Moscow  14:07:09     Friday  \n",
       "2  Saint-Petersburg  20:58:07  Wednesday  \n",
       "3  Saint-Petersburg  08:37:09     Monday  \n",
       "4            Moscow  08:34:34     Monday  \n",
       "5  Saint-Petersburg  13:09:41     Friday  \n",
       "6            Moscow  13:00:07  Wednesday  \n",
       "7            Moscow  20:47:49  Wednesday  \n",
       "8            Moscow  09:17:40     Friday  \n",
       "9  Saint-Petersburg  21:20:49  Wednesday  "
      ]
     },
     "metadata": {},
     "output_type": "display_data"
    }
   ],
   "source": [
    "display(df.head(10))# получение первых 10 строк таблицы df"
   ]
  },
  {
   "cell_type": "markdown",
   "metadata": {
    "id": "EO73Kwic_Zct"
   },
   "source": [
    "Одной командой получить общую информацию о таблице:"
   ]
  },
  {
   "cell_type": "code",
   "execution_count": 4,
   "metadata": {
    "id": "DSf2kIb-_Zct"
   },
   "outputs": [
    {
     "name": "stdout",
     "output_type": "stream",
     "text": [
      "<class 'pandas.core.frame.DataFrame'>\n",
      "RangeIndex: 65079 entries, 0 to 65078\n",
      "Data columns (total 7 columns):\n",
      "  userID    65079 non-null object\n",
      "Track       63848 non-null object\n",
      "artist      57876 non-null object\n",
      "genre       63881 non-null object\n",
      "  City      65079 non-null object\n",
      "time        65079 non-null object\n",
      "Day         65079 non-null object\n",
      "dtypes: object(7)\n",
      "memory usage: 3.5+ MB\n"
     ]
    }
   ],
   "source": [
    "df.info()# получение общей информации о данных в таблице df"
   ]
  },
  {
   "cell_type": "markdown",
   "metadata": {
    "id": "TaQ2Iwbr_Zct"
   },
   "source": [
    "Итак, в таблице семь столбцов. Тип данных во всех столбцах — `object`.\n",
    "\n",
    "Согласно документации к данным:\n",
    "* `userID` — идентификатор пользователя;\n",
    "* `Track` — название трека;  \n",
    "* `artist` — имя исполнителя;\n",
    "* `genre` — название жанра;\n",
    "* `City` — город пользователя;\n",
    "* `time` — время начала прослушивания;\n",
    "* `Day` — день недели.\n",
    "\n",
    "В названиях колонок видны три нарушения стиля:\n",
    "1. Строчные буквы сочетаются с прописными.\n",
    "2. Встречаются пробелы.\n",
    "3. Не используется змеиный регистр.\n",
    "\n",
    "\n",
    "\n",
    "Количество значений в столбцах различается. Значит, в данных есть пропущенные значения.\n"
   ]
  },
  {
   "cell_type": "markdown",
   "metadata": {
    "id": "MCB6-dXG_Zct"
   },
   "source": [
    "**Выводы**\n",
    "\n",
    "В каждой строке таблицы — данные о прослушанном треке. Часть колонок описывает саму композицию: название, исполнителя и жанр. Остальные данные рассказывают о пользователе: из какого он города, когда он слушал музыку. \n",
    "\n",
    "Предварительно можно утверждать, что, данных достаточно для проверки гипотез. Но встречаются пропуски в данных, а в названиях колонок — расхождения с хорошим стилем.\n",
    "\n",
    "Чтобы двигаться дальше, нужно устранить проблемы в данных."
   ]
  },
  {
   "cell_type": "markdown",
   "metadata": {
    "id": "SjYF6Ub9_Zct"
   },
   "source": [
    "## Предобработка данных\n",
    "Исправьте стиль в заголовках столбцов, исключите пропуски. Затем проверьте данные на дубликаты."
   ]
  },
  {
   "cell_type": "markdown",
   "metadata": {
    "id": "dIaKXr29_Zct"
   },
   "source": [
    "### Стиль заголовков\n",
    "Выведите на экран названия столбцов:"
   ]
  },
  {
   "cell_type": "code",
   "execution_count": 5,
   "metadata": {
    "id": "oKOTdF_Q_Zct"
   },
   "outputs": [
    {
     "name": "stdout",
     "output_type": "stream",
     "text": [
      "Index(['  userID', 'Track', 'artist', 'genre', '  City  ', 'time', 'Day'], dtype='object')\n"
     ]
    }
   ],
   "source": [
    "print(df.columns)# перечень названий столбцов таблицы df"
   ]
  },
  {
   "cell_type": "markdown",
   "metadata": {
    "id": "zj5534cv_Zct"
   },
   "source": [
    "Приведите названия в соответствие с хорошим стилем:\n",
    "* несколько слов в названии запишите в «змеином_регистре»,\n",
    "* все символы сделайте строчными,\n",
    "* устраните пробелы.\n",
    "\n",
    "Для этого переименуйте колонки так:\n",
    "* `'  userID'` → `'user_id'`;\n",
    "* `'Track'` → `'track'`;\n",
    "* `'  City  '` → `'city'`;\n",
    "* `'Day'` → `'day'`."
   ]
  },
  {
   "cell_type": "code",
   "execution_count": 6,
   "metadata": {
    "id": "ISlFqs5y_Zct"
   },
   "outputs": [],
   "source": [
    "df = df.rename(columns = {'  userID':'user_id', 'Track':'track', '  City  ': 'city', 'Day':'day'})# переименование столбцов"
   ]
  },
  {
   "cell_type": "markdown",
   "metadata": {
    "id": "1dqbh00J_Zct"
   },
   "source": [
    "Проверьте результат. Для этого ещё раз выведите на экран названия столбцов:"
   ]
  },
  {
   "cell_type": "code",
   "execution_count": 7,
   "metadata": {
    "id": "d4NOAmTW_Zct"
   },
   "outputs": [
    {
     "name": "stdout",
     "output_type": "stream",
     "text": [
      "Index(['user_id', 'track', 'artist', 'genre', 'city', 'time', 'day'], dtype='object')\n"
     ]
    }
   ],
   "source": [
    "print(df.columns) # проверка результатов - перечень названий столбцов"
   ]
  },
  {
   "cell_type": "markdown",
   "metadata": {
    "id": "5ISfbcfY_Zct"
   },
   "source": [
    "### Пропуски значений\n",
    "Сначала посчитайте, сколько в таблице пропущенных значений. Для этого достаточно двух методов `pandas`:"
   ]
  },
  {
   "cell_type": "code",
   "execution_count": 8,
   "metadata": {
    "id": "RskX29qr_Zct"
   },
   "outputs": [
    {
     "data": {
      "text/plain": [
       "user_id       0\n",
       "track      1231\n",
       "artist     7203\n",
       "genre      1198\n",
       "city          0\n",
       "time          0\n",
       "day           0\n",
       "dtype: int64"
      ]
     },
     "execution_count": 8,
     "metadata": {},
     "output_type": "execute_result"
    }
   ],
   "source": [
    "df.isna().sum()# подсчёт пропусков"
   ]
  },
  {
   "cell_type": "markdown",
   "metadata": {
    "id": "qubhgnlO_Zct"
   },
   "source": [
    "Не все пропущенные значения влияют на исследование. Так в `track` и `artist` пропуски не важны для вашей работы. Достаточно заменить их явными обозначениями.\n",
    "\n",
    "Но пропуски в `genre` могут помешать сравнению музыкальных вкусов в Москве и Санкт-Петербурге. На практике было бы правильно установить причину пропусков и восстановить данные. Такой возможности нет в учебном проекте. Придётся:\n",
    "* заполнить и эти пропуски явными обозначениями,\n",
    "* оценить, насколько они повредят расчётам. "
   ]
  },
  {
   "cell_type": "markdown",
   "metadata": {
    "id": "fSv2laPA_Zct"
   },
   "source": [
    "Замените пропущенные значения в столбцах `track`, `artist` и `genre` на строку `'unknown'`. Для этого создайте список `columns_to_replace`, переберите его элементы циклом `for` и для каждого столбца выполните замену пропущенных значений:"
   ]
  },
  {
   "cell_type": "code",
   "execution_count": 9,
   "metadata": {
    "id": "KplB5qWs_Zct"
   },
   "outputs": [],
   "source": [
    "# перебор названий столбцов в цикле и замена пропущенных значений на 'unknown'\n",
    "columns_to_replace = ['track', 'artist', 'genre']\n",
    "for item in columns_to_replace:\n",
    "    df[item] = df[item].fillna('unknown')"
   ]
  },
  {
   "cell_type": "markdown",
   "metadata": {
    "id": "Ilsm-MZo_Zct"
   },
   "source": [
    "Убедитесь, что в таблице не осталось пропусков. Для этого ещё раз посчитайте пропущенные значения."
   ]
  },
  {
   "cell_type": "code",
   "execution_count": 10,
   "metadata": {
    "id": "Tq4nYRX4_Zct"
   },
   "outputs": [
    {
     "data": {
      "text/plain": [
       "user_id    0\n",
       "track      0\n",
       "artist     0\n",
       "genre      0\n",
       "city       0\n",
       "time       0\n",
       "day        0\n",
       "dtype: int64"
      ]
     },
     "execution_count": 10,
     "metadata": {},
     "output_type": "execute_result"
    }
   ],
   "source": [
    "df.isna().sum()# подсчёт пропусков"
   ]
  },
  {
   "cell_type": "markdown",
   "metadata": {
    "id": "BWKRtBJ3_Zct"
   },
   "source": [
    "### Дубликаты\n",
    "Посчитайте явные дубликаты в таблице одной командой:"
   ]
  },
  {
   "cell_type": "code",
   "execution_count": 11,
   "metadata": {
    "id": "36eES_S0_Zct"
   },
   "outputs": [
    {
     "data": {
      "text/plain": [
       "3826"
      ]
     },
     "execution_count": 11,
     "metadata": {},
     "output_type": "execute_result"
    }
   ],
   "source": [
    "# подсчёт явных дубликатов\n",
    "df.duplicated().sum()"
   ]
  },
  {
   "cell_type": "markdown",
   "metadata": {
    "id": "Ot25h6XR_Zct"
   },
   "source": [
    "Вызовите специальный метод `pandas`, чтобы удалить явные дубликаты:"
   ]
  },
  {
   "cell_type": "code",
   "execution_count": 12,
   "metadata": {
    "id": "exFHq6tt_Zct"
   },
   "outputs": [],
   "source": [
    "# удаление явных дубликатов (с удалением старых индексов и формированием новых)\n",
    "df = df.drop_duplicates().reset_index(drop=True)"
   ]
  },
  {
   "cell_type": "markdown",
   "metadata": {
    "id": "Im2YwBEG_Zct"
   },
   "source": [
    "Ещё раз посчитайте явные дубликаты в таблице — убедитесь, что полностью от них избавились:"
   ]
  },
  {
   "cell_type": "code",
   "execution_count": 13,
   "metadata": {
    "id": "-8PuNWQ0_Zct"
   },
   "outputs": [
    {
     "data": {
      "text/plain": [
       "0"
      ]
     },
     "execution_count": 13,
     "metadata": {},
     "output_type": "execute_result"
    }
   ],
   "source": [
    "df.duplicated().sum() # проверка на отсутствие дубликатов"
   ]
  },
  {
   "cell_type": "markdown",
   "metadata": {
    "id": "QlFBsxAr_Zct"
   },
   "source": [
    "Теперь избавьтесь от неявных дубликатов в колонке `genre`. Например, название одного и того же жанра может быть записано немного по-разному. Такие ошибки тоже повлияют на результат исследования."
   ]
  },
  {
   "cell_type": "markdown",
   "metadata": {
    "id": "eSjWwsOh_Zct"
   },
   "source": [
    "Выведите на экран список уникальных названий жанров, отсортированный в алфавитном порядке. Для этого:\n",
    "* извлеките нужный столбец датафрейма, \n",
    "* примените к нему метод сортировки,\n",
    "* для отсортированного столбца вызовите метод, который вернёт уникальные значения из столбца."
   ]
  },
  {
   "cell_type": "code",
   "execution_count": 14,
   "metadata": {
    "id": "JIUcqzZN_Zct",
    "scrolled": true
   },
   "outputs": [
    {
     "name": "stdout",
     "output_type": "stream",
     "text": [
      "['acid' 'acoustic' 'action' 'adult' 'africa' 'afrikaans' 'alternative'\n",
      " 'alternativepunk' 'ambient' 'americana' 'animated' 'anime' 'arabesk'\n",
      " 'arabic' 'arena' 'argentinetango' 'art' 'audiobook' 'author' 'avantgarde'\n",
      " 'axé' 'baile' 'balkan' 'beats' 'bigroom' 'black' 'bluegrass' 'blues'\n",
      " 'bollywood' 'bossa' 'brazilian' 'breakbeat' 'breaks' 'broadway'\n",
      " 'cantautori' 'cantopop' 'canzone' 'caribbean' 'caucasian' 'celtic'\n",
      " 'chamber' 'chanson' 'children' 'chill' 'chinese' 'choral' 'christian'\n",
      " 'christmas' 'classical' 'classicmetal' 'club' 'colombian' 'comedy'\n",
      " 'conjazz' 'contemporary' 'country' 'cuban' 'dance' 'dancehall' 'dancepop'\n",
      " 'dark' 'death' 'deep' 'deutschrock' 'deutschspr' 'dirty' 'disco' 'dnb'\n",
      " 'documentary' 'downbeat' 'downtempo' 'drum' 'dub' 'dubstep' 'eastern'\n",
      " 'easy' 'electronic' 'electropop' 'emo' 'entehno' 'epicmetal' 'estrada'\n",
      " 'ethnic' 'eurofolk' 'european' 'experimental' 'extrememetal' 'fado'\n",
      " 'fairytail' 'film' 'fitness' 'flamenco' 'folk' 'folklore' 'folkmetal'\n",
      " 'folkrock' 'folktronica' 'forró' 'frankreich' 'französisch' 'french'\n",
      " 'funk' 'future' 'gangsta' 'garage' 'german' 'ghazal' 'gitarre' 'glitch'\n",
      " 'gospel' 'gothic' 'grime' 'grunge' 'gypsy' 'handsup' \"hard'n'heavy\"\n",
      " 'hardcore' 'hardstyle' 'hardtechno' 'hip' 'hip-hop' 'hiphop' 'historisch'\n",
      " 'holiday' 'hop' 'horror' 'house' 'hymn' 'idm' 'independent' 'indian'\n",
      " 'indie' 'indipop' 'industrial' 'inspirational' 'instrumental'\n",
      " 'international' 'irish' 'jam' 'japanese' 'jazz' 'jewish' 'jpop' 'jungle'\n",
      " 'k-pop' 'karadeniz' 'karaoke' 'kayokyoku' 'korean' 'laiko' 'latin'\n",
      " 'latino' 'leftfield' 'local' 'lounge' 'loungeelectronic' 'lovers'\n",
      " 'malaysian' 'mandopop' 'marschmusik' 'meditative' 'mediterranean'\n",
      " 'melodic' 'metal' 'metalcore' 'mexican' 'middle' 'minimal'\n",
      " 'miscellaneous' 'modern' 'mood' 'mpb' 'muslim' 'native' 'neoklassik'\n",
      " 'neue' 'new' 'newage' 'newwave' 'nu' 'nujazz' 'numetal' 'oceania' 'old'\n",
      " 'opera' 'orchestral' 'other' 'piano' 'podcasts' 'pop' 'popdance'\n",
      " 'popelectronic' 'popeurodance' 'poprussian' 'post' 'posthardcore'\n",
      " 'postrock' 'power' 'progmetal' 'progressive' 'psychedelic' 'punjabi'\n",
      " 'punk' 'quebecois' 'ragga' 'ram' 'rancheras' 'rap' 'rave' 'reggae'\n",
      " 'reggaeton' 'regional' 'relax' 'religious' 'retro' 'rhythm' 'rnb' 'rnr'\n",
      " 'rock' 'rockabilly' 'rockalternative' 'rockindie' 'rockother' 'romance'\n",
      " 'roots' 'ruspop' 'rusrap' 'rusrock' 'russian' 'salsa' 'samba' 'scenic'\n",
      " 'schlager' 'self' 'sertanejo' 'shanson' 'shoegazing' 'showtunes' 'singer'\n",
      " 'ska' 'skarock' 'slow' 'smooth' 'soft' 'soul' 'soulful' 'sound'\n",
      " 'soundtrack' 'southern' 'specialty' 'speech' 'spiritual' 'sport'\n",
      " 'stonerrock' 'surf' 'swing' 'synthpop' 'synthrock' 'sängerportrait'\n",
      " 'tango' 'tanzorchester' 'taraftar' 'tatar' 'tech' 'techno' 'teen'\n",
      " 'thrash' 'top' 'traditional' 'tradjazz' 'trance' 'tribal' 'trip'\n",
      " 'triphop' 'tropical' 'türk' 'türkçe' 'ukrrock' 'unknown' 'urban' 'uzbek'\n",
      " 'variété' 'vi' 'videogame' 'vocal' 'western' 'world' 'worldbeat' 'ïîï'\n",
      " 'электроника']\n"
     ]
    }
   ],
   "source": [
    "# Просмотр уникальных названий жанров\n",
    "genre = df['genre']\n",
    "genre_sorted = genre.sort_values()\n",
    "print(genre_sorted.unique())"
   ]
  },
  {
   "cell_type": "markdown",
   "metadata": {
    "id": "qej-Qmuo_Zct"
   },
   "source": [
    "Просмотрите список и найдите неявные дубликаты названия `hiphop`. Это могут быть названия с ошибками или альтернативные названия того же жанра.\n",
    "\n",
    "Вы увидите следующие неявные дубликаты:\n",
    "* *hip*,\n",
    "* *hop*,\n",
    "* *hip-hop*.\n",
    "\n",
    "Чтобы очистить от них таблицу, напишите функцию `replace_wrong_genres()` с двумя параметрами: \n",
    "* `wrong_genres` — список дубликатов,\n",
    "* `correct_genre` — строка с правильным значением.\n",
    "\n",
    "Функция должна исправить колонку `genre` в таблице `df`: заменить каждое значение из списка `wrong_genres` на значение из `correct_genre`."
   ]
  },
  {
   "cell_type": "code",
   "execution_count": 15,
   "metadata": {
    "id": "ErNDkmns_Zct"
   },
   "outputs": [],
   "source": [
    "# Функция для замены неявных дубликатов\n",
    "def replace_wrong_genres(wrong_genres, correct_genre):\n",
    "    for wrong_genre in wrong_genres:\n",
    "        df['genre'] = df['genre'].replace(wrong_genre, correct_genre)"
   ]
  },
  {
   "cell_type": "markdown",
   "metadata": {
    "id": "aDoBJxbA_Zct"
   },
   "source": [
    "Вызовите `replace_wrong_genres()` и передайте ей такие аргументы, чтобы она устранила неявные дубликаты: вместо `hip`, `hop` и `hip-hop` в таблице должно быть значение `hiphop`:"
   ]
  },
  {
   "cell_type": "code",
   "execution_count": 16,
   "metadata": {
    "id": "YN5i2hpmSo09",
    "scrolled": true
   },
   "outputs": [],
   "source": [
    "# Устранение неявных дубликатов\n",
    "duplicates = ['hip', 'hop', 'hip-hop']\n",
    "genre_name = 'hiphop'\n",
    "replace_wrong_genres(duplicates, genre_name)"
   ]
  },
  {
   "cell_type": "markdown",
   "metadata": {
    "id": "zQKF16_RG15m"
   },
   "source": [
    "Проверьте, что заменили неправильные названия:\n",
    "\n",
    "*   hip\n",
    "*   hop\n",
    "*   hip-hop\n",
    "\n",
    "Выведите отсортированный список уникальных значений столбца `genre`:"
   ]
  },
  {
   "cell_type": "code",
   "execution_count": 17,
   "metadata": {
    "id": "wvixALnFG15m",
    "scrolled": true
   },
   "outputs": [
    {
     "name": "stdout",
     "output_type": "stream",
     "text": [
      "['acid' 'acoustic' 'action' 'adult' 'africa' 'afrikaans' 'alternative'\n",
      " 'alternativepunk' 'ambient' 'americana' 'animated' 'anime' 'arabesk'\n",
      " 'arabic' 'arena' 'argentinetango' 'art' 'audiobook' 'author' 'avantgarde'\n",
      " 'axé' 'baile' 'balkan' 'beats' 'bigroom' 'black' 'bluegrass' 'blues'\n",
      " 'bollywood' 'bossa' 'brazilian' 'breakbeat' 'breaks' 'broadway'\n",
      " 'cantautori' 'cantopop' 'canzone' 'caribbean' 'caucasian' 'celtic'\n",
      " 'chamber' 'chanson' 'children' 'chill' 'chinese' 'choral' 'christian'\n",
      " 'christmas' 'classical' 'classicmetal' 'club' 'colombian' 'comedy'\n",
      " 'conjazz' 'contemporary' 'country' 'cuban' 'dance' 'dancehall' 'dancepop'\n",
      " 'dark' 'death' 'deep' 'deutschrock' 'deutschspr' 'dirty' 'disco' 'dnb'\n",
      " 'documentary' 'downbeat' 'downtempo' 'drum' 'dub' 'dubstep' 'eastern'\n",
      " 'easy' 'electronic' 'electropop' 'emo' 'entehno' 'epicmetal' 'estrada'\n",
      " 'ethnic' 'eurofolk' 'european' 'experimental' 'extrememetal' 'fado'\n",
      " 'fairytail' 'film' 'fitness' 'flamenco' 'folk' 'folklore' 'folkmetal'\n",
      " 'folkrock' 'folktronica' 'forró' 'frankreich' 'französisch' 'french'\n",
      " 'funk' 'future' 'gangsta' 'garage' 'german' 'ghazal' 'gitarre' 'glitch'\n",
      " 'gospel' 'gothic' 'grime' 'grunge' 'gypsy' 'handsup' \"hard'n'heavy\"\n",
      " 'hardcore' 'hardstyle' 'hardtechno' 'hiphop' 'historisch' 'holiday'\n",
      " 'horror' 'house' 'hymn' 'idm' 'independent' 'indian' 'indie' 'indipop'\n",
      " 'industrial' 'inspirational' 'instrumental' 'international' 'irish' 'jam'\n",
      " 'japanese' 'jazz' 'jewish' 'jpop' 'jungle' 'k-pop' 'karadeniz' 'karaoke'\n",
      " 'kayokyoku' 'korean' 'laiko' 'latin' 'latino' 'leftfield' 'local'\n",
      " 'lounge' 'loungeelectronic' 'lovers' 'malaysian' 'mandopop' 'marschmusik'\n",
      " 'meditative' 'mediterranean' 'melodic' 'metal' 'metalcore' 'mexican'\n",
      " 'middle' 'minimal' 'miscellaneous' 'modern' 'mood' 'mpb' 'muslim'\n",
      " 'native' 'neoklassik' 'neue' 'new' 'newage' 'newwave' 'nu' 'nujazz'\n",
      " 'numetal' 'oceania' 'old' 'opera' 'orchestral' 'other' 'piano' 'podcasts'\n",
      " 'pop' 'popdance' 'popelectronic' 'popeurodance' 'poprussian' 'post'\n",
      " 'posthardcore' 'postrock' 'power' 'progmetal' 'progressive' 'psychedelic'\n",
      " 'punjabi' 'punk' 'quebecois' 'ragga' 'ram' 'rancheras' 'rap' 'rave'\n",
      " 'reggae' 'reggaeton' 'regional' 'relax' 'religious' 'retro' 'rhythm'\n",
      " 'rnb' 'rnr' 'rock' 'rockabilly' 'rockalternative' 'rockindie' 'rockother'\n",
      " 'romance' 'roots' 'ruspop' 'rusrap' 'rusrock' 'russian' 'salsa' 'samba'\n",
      " 'scenic' 'schlager' 'self' 'sertanejo' 'shanson' 'shoegazing' 'showtunes'\n",
      " 'singer' 'ska' 'skarock' 'slow' 'smooth' 'soft' 'soul' 'soulful' 'sound'\n",
      " 'soundtrack' 'southern' 'specialty' 'speech' 'spiritual' 'sport'\n",
      " 'stonerrock' 'surf' 'swing' 'synthpop' 'synthrock' 'sängerportrait'\n",
      " 'tango' 'tanzorchester' 'taraftar' 'tatar' 'tech' 'techno' 'teen'\n",
      " 'thrash' 'top' 'traditional' 'tradjazz' 'trance' 'tribal' 'trip'\n",
      " 'triphop' 'tropical' 'türk' 'türkçe' 'ukrrock' 'unknown' 'urban' 'uzbek'\n",
      " 'variété' 'vi' 'videogame' 'vocal' 'western' 'world' 'worldbeat' 'ïîï'\n",
      " 'электроника']\n"
     ]
    }
   ],
   "source": [
    "# Проверка на неявные дубликаты\n",
    "genre = df['genre']\n",
    "genre_sorted = genre.sort_values()\n",
    "print(genre_sorted.unique())\n",
    "\n"
   ]
  },
  {
   "cell_type": "markdown",
   "metadata": {
    "id": "jz6a9-7HQUDd"
   },
   "source": [
    "**Выводы**\n",
    "\n",
    "Предобработка обнаружила три проблемы в данных:\n",
    "\n",
    "- нарушения в стиле заголовков,\n",
    "- пропущенные значения,\n",
    "- дубликаты — явные и неявные.\n",
    "\n",
    "Вы исправили заголовки, чтобы упростить работу с таблицей. Без дубликатов исследование станет более точным.\n",
    "\n",
    "Пропущенные значения вы заменили на `'unknown'`. Ещё предстоит увидеть, не повредят ли исследованию пропуски в колонке `genre`.\n",
    "\n",
    "Теперь можно перейти к проверке гипотез. "
   ]
  },
  {
   "cell_type": "markdown",
   "metadata": {
    "id": "WttZHXH0SqKk"
   },
   "source": [
    "## Проверка гипотез"
   ]
  },
  {
   "cell_type": "markdown",
   "metadata": {
    "id": "Im936VVi_Zcu"
   },
   "source": [
    "### Сравнение поведения пользователей двух столиц"
   ]
  },
  {
   "cell_type": "markdown",
   "metadata": {
    "id": "nwt_MuaL_Zcu"
   },
   "source": [
    "Первая гипотеза утверждает, что пользователи по-разному слушают музыку в Москве и Санкт-Петербурге. Проверьте это предположение по данным о трёх днях недели — понедельнике, среде и пятнице. Для этого:\n",
    "\n",
    "* Разделите пользователей Москвы и Санкт-Петербурга\n",
    "* Сравните, сколько треков послушала каждая группа пользователей в понедельник, среду и пятницу.\n"
   ]
  },
  {
   "cell_type": "markdown",
   "metadata": {
    "id": "8Dw_YMmT_Zcu"
   },
   "source": [
    "Для тренировки сначала выполните каждый из расчётов по отдельности. \n",
    "\n",
    "Оцените активность пользователей в каждом городе. Сгруппируйте данные по городу и посчитайте прослушивания в каждой группе.\n",
    "\n"
   ]
  },
  {
   "cell_type": "code",
   "execution_count": 18,
   "metadata": {
    "id": "0_Qs96oh_Zcu"
   },
   "outputs": [
    {
     "data": {
      "text/plain": [
       "city\n",
       "Moscow              42741\n",
       "Saint-Petersburg    18512\n",
       "Name: track, dtype: int64"
      ]
     },
     "execution_count": 18,
     "metadata": {},
     "output_type": "execute_result"
    }
   ],
   "source": [
    "# Подсчёт прослушиваний в каждом городе\n",
    "df.groupby('city')['track'].count()"
   ]
  },
  {
   "cell_type": "markdown",
   "metadata": {
    "id": "dzli3w8o_Zcu"
   },
   "source": [
    "В Москве прослушиваний больше, чем в Петербурге. Из этого не следует, что московские пользователи чаще слушают музыку. Просто самих пользователей в Москве больше.\n",
    "\n",
    "Теперь сгруппируйте данные по дню недели и подсчитайте прослушивания в понедельник, среду и пятницу. Учтите, что в данных есть информация только о прослушиваниях только за эти дни.\n"
   ]
  },
  {
   "cell_type": "code",
   "execution_count": 19,
   "metadata": {
    "id": "uZMKjiJz_Zcu",
    "scrolled": true
   },
   "outputs": [
    {
     "data": {
      "text/plain": [
       "day\n",
       "Friday       21840\n",
       "Monday       21354\n",
       "Wednesday    18059\n",
       "Name: track, dtype: int64"
      ]
     },
     "execution_count": 19,
     "metadata": {},
     "output_type": "execute_result"
    }
   ],
   "source": [
    "# Подсчёт прослушиваний в каждый из трёх дней\n",
    "df.groupby('day')['track'].count()"
   ]
  },
  {
   "cell_type": "markdown",
   "metadata": {
    "id": "cC2tNrlL_Zcu"
   },
   "source": [
    "В среднем пользователи из двух городов менее активны по средам. Но картина может измениться, если рассмотреть каждый город в отдельности."
   ]
  },
  {
   "cell_type": "markdown",
   "metadata": {
    "id": "POzs8bGa_Zcu"
   },
   "source": [
    "Вы видели, как работает группировка по городу и по дням недели. Теперь напишите функцию, которая объединит два эти расчёта.\n",
    "\n",
    "Создайте функцию `number_tracks()`, которая посчитает прослушивания для заданного дня и города. Ей понадобятся два параметра:\n",
    "* день недели,\n",
    "* название города.\n",
    "\n",
    "В функции сохраните в переменную строки исходной таблицы, у которых значение:\n",
    "  * в колонке `day` равно параметру `day`,\n",
    "  * в колонке `city` равно параметру `city`.\n",
    "\n",
    "Для этого примените последовательную фильтрацию с логической индексацией.\n",
    "\n",
    "Затем посчитайте значения в столбце `user_id` получившейся таблицы. Результат сохраните в новую переменную. Верните эту переменную из функции."
   ]
  },
  {
   "cell_type": "code",
   "execution_count": 20,
   "metadata": {
    "id": "Nz3GdQB1_Zcu"
   },
   "outputs": [],
   "source": [
    "def number_tracks(day, city):\n",
    "    track_list = df[df['day'] == day]\n",
    "    track_list = track_list[df['city'] == city]\n",
    "    track_list_count = track_list['user_id'].count()\n",
    "    return track_list_count\n",
    "\n",
    "\n",
    "# Функция для подсчёта прослушиваний для конкретного города и дня.\n",
    "# С помощью последовательной фильтрации с логической индексацией она \n",
    "# сначала получит из исходной таблицы строки с нужным днём,\n",
    "# затем из результата отфильтрует строки с нужным городом,\n",
    "# методом count() посчитает количество значений в колонке user_id. \n",
    "# Это количество функция вернёт в качестве результата"
   ]
  },
  {
   "cell_type": "markdown",
   "metadata": {
    "id": "ytf7xFrFJQ2r"
   },
   "source": [
    "Вызовите `number_tracks()` шесть раз, меняя значение параметров — так, чтобы получить данные для каждого города в каждый из трёх дней."
   ]
  },
  {
   "cell_type": "code",
   "execution_count": 21,
   "metadata": {
    "id": "rJcRATNQ_Zcu",
    "scrolled": true
   },
   "outputs": [
    {
     "name": "stdout",
     "output_type": "stream",
     "text": [
      "15740\n"
     ]
    }
   ],
   "source": [
    "print(number_tracks('Monday', 'Moscow')) # количество прослушиваний в Москве по понедельникам"
   ]
  },
  {
   "cell_type": "code",
   "execution_count": 22,
   "metadata": {
    "id": "hq_ncZ5T_Zcu"
   },
   "outputs": [
    {
     "name": "stdout",
     "output_type": "stream",
     "text": [
      "5614\n"
     ]
    }
   ],
   "source": [
    "# количество прослушиваний в Санкт-Петербурге по понедельникам\n",
    "print(number_tracks('Monday', 'Saint-Petersburg'))"
   ]
  },
  {
   "cell_type": "code",
   "execution_count": 23,
   "metadata": {
    "id": "_NTy2VPU_Zcu"
   },
   "outputs": [
    {
     "name": "stdout",
     "output_type": "stream",
     "text": [
      "11056\n"
     ]
    }
   ],
   "source": [
    "# количество прослушиваний в Москве по средам\n",
    "print(number_tracks('Wednesday', 'Moscow')) "
   ]
  },
  {
   "cell_type": "code",
   "execution_count": 24,
   "metadata": {
    "id": "j2y3TAwo_Zcu"
   },
   "outputs": [
    {
     "name": "stdout",
     "output_type": "stream",
     "text": [
      "7003\n"
     ]
    }
   ],
   "source": [
    "# количество прослушиваний в Санкт-Петербурге по средам\n",
    "print(number_tracks('Wednesday', 'Saint-Petersburg'))"
   ]
  },
  {
   "cell_type": "code",
   "execution_count": 25,
   "metadata": {
    "id": "vYDw5u_K_Zcu"
   },
   "outputs": [
    {
     "name": "stdout",
     "output_type": "stream",
     "text": [
      "15945\n"
     ]
    }
   ],
   "source": [
    "# количество прослушиваний в Москве по пятницам\n",
    "print(number_tracks('Friday', 'Moscow')) "
   ]
  },
  {
   "cell_type": "code",
   "execution_count": 26,
   "metadata": {
    "id": "8_yzFtW3_Zcu"
   },
   "outputs": [
    {
     "name": "stdout",
     "output_type": "stream",
     "text": [
      "5895\n"
     ]
    }
   ],
   "source": [
    "# количество прослушиваний в Санкт-Петербурге по пятницам\n",
    "print(number_tracks('Friday', 'Saint-Petersburg'))"
   ]
  },
  {
   "cell_type": "markdown",
   "metadata": {
    "id": "7QXffbO-_Zcu"
   },
   "source": [
    "Создайте c помощью конструктора `pd.DataFrame` таблицу, где\n",
    "* названия колонок — `['city', 'monday', 'wednesday', 'friday']`;\n",
    "* данные — результаты, которые вы получили с помощью `number_tracks`."
   ]
  },
  {
   "cell_type": "code",
   "execution_count": 27,
   "metadata": {
    "id": "APAcLpOr_Zcu"
   },
   "outputs": [
    {
     "data": {
      "text/html": [
       "<div>\n",
       "<style scoped>\n",
       "    .dataframe tbody tr th:only-of-type {\n",
       "        vertical-align: middle;\n",
       "    }\n",
       "\n",
       "    .dataframe tbody tr th {\n",
       "        vertical-align: top;\n",
       "    }\n",
       "\n",
       "    .dataframe thead th {\n",
       "        text-align: right;\n",
       "    }\n",
       "</style>\n",
       "<table border=\"1\" class=\"dataframe\">\n",
       "  <thead>\n",
       "    <tr style=\"text-align: right;\">\n",
       "      <th></th>\n",
       "      <th>city</th>\n",
       "      <th>monday</th>\n",
       "      <th>wednesday</th>\n",
       "      <th>friday</th>\n",
       "    </tr>\n",
       "  </thead>\n",
       "  <tbody>\n",
       "    <tr>\n",
       "      <td>0</td>\n",
       "      <td>Moscow</td>\n",
       "      <td>15740</td>\n",
       "      <td>11056</td>\n",
       "      <td>15945</td>\n",
       "    </tr>\n",
       "    <tr>\n",
       "      <td>1</td>\n",
       "      <td>Saint-Petersburg</td>\n",
       "      <td>5614</td>\n",
       "      <td>7003</td>\n",
       "      <td>5895</td>\n",
       "    </tr>\n",
       "  </tbody>\n",
       "</table>\n",
       "</div>"
      ],
      "text/plain": [
       "               city  monday  wednesday  friday\n",
       "0            Moscow   15740      11056   15945\n",
       "1  Saint-Petersburg    5614       7003    5895"
      ]
     },
     "metadata": {},
     "output_type": "display_data"
    }
   ],
   "source": [
    "# Таблица с результатами\n",
    "data = [\n",
    "    ['Moscow', 15740, 11056, 15945],\n",
    "    ['Saint-Petersburg', 5614, 7003, 5895]\n",
    "]\n",
    "columns = ['city', 'monday', 'wednesday', 'friday']\n",
    "\n",
    "tracks_df = pd.DataFrame(data=data,columns=columns)\n",
    "display(tracks_df)"
   ]
  },
  {
   "cell_type": "markdown",
   "metadata": {
    "id": "-EgPIHYu_Zcu"
   },
   "source": [
    "**Выводы**\n",
    "\n",
    "Данные показывают разницу поведения пользователей:\n",
    "\n",
    "- В Москве пик прослушиваний приходится на понедельник и пятницу, а в среду заметен спад.\n",
    "- В Петербурге, наоборот, больше слушают музыку по средам. Активность в понедельник и пятницу здесь почти в равной мере уступает среде.\n",
    "\n",
    "Значит, данные говорят в пользу первой гипотезы."
   ]
  },
  {
   "cell_type": "markdown",
   "metadata": {
    "id": "atZAxtq4_Zcu"
   },
   "source": [
    "### Музыка в начале и в конце недели"
   ]
  },
  {
   "cell_type": "markdown",
   "metadata": {
    "id": "eXrQqXFH_Zcu"
   },
   "source": [
    "Согласно второй гипотезе, утром в понедельник в Москве преобладают одни жанры, а в Петербурге — другие. Так же и вечером пятницы преобладают разные жанры — в зависимости от города."
   ]
  },
  {
   "cell_type": "markdown",
   "metadata": {
    "id": "S8UcW6Hw_Zcu"
   },
   "source": [
    "Сохраните таблицы с данными в две переменные:\n",
    "* по Москве — в `moscow_general`;\n",
    "* по Санкт-Петербургу — в `spb_general`."
   ]
  },
  {
   "cell_type": "code",
   "execution_count": 28,
   "metadata": {
    "id": "qeaFfM_P_Zcu"
   },
   "outputs": [],
   "source": [
    "# получение таблицы moscow_general из тех строк таблицы df, \n",
    "# для которых значение в столбце 'city' равно 'Moscow'\n",
    "moscow_general = df[df['city'] == 'Moscow']\n",
    "\n"
   ]
  },
  {
   "cell_type": "code",
   "execution_count": 29,
   "metadata": {
    "id": "ORaVRKto_Zcu"
   },
   "outputs": [],
   "source": [
    "# получение таблицы spb_general из тех строк таблицы df,\n",
    "# для которых значение в столбце 'city' равно 'Saint-Petersburg'\n",
    "spb_general = df[df['city'] == 'Saint-Petersburg']\n"
   ]
  },
  {
   "cell_type": "markdown",
   "metadata": {
    "id": "MEJV-CX2_Zcu"
   },
   "source": [
    "Создайте функцию `genre_weekday()` с четырьмя параметрами:\n",
    "* таблица (датафрейм) с данными,\n",
    "* день недели,\n",
    "* начальная временная метка в формате 'hh:mm', \n",
    "* последняя временная метка в формате 'hh:mm'.\n",
    "\n",
    "Функция должна вернуть информацию о топ-10 жанров тех треков, которые прослушивали в указанный день, в промежутке между двумя отметками времени."
   ]
  },
  {
   "cell_type": "code",
   "execution_count": 30,
   "metadata": {
    "id": "laJT9BYl_Zcu"
   },
   "outputs": [],
   "source": [
    "# Объявление функции genre_weekday() с параметрами table, day, time1, time2,\n",
    "# которая возвращает информацию о самых популярных жанрах в указанный день в\n",
    "# заданное время:\n",
    "# 1) в переменную genre_df сохраняются те строки переданного датафрейма table, для\n",
    "#    которых одновременно:\n",
    "#    - значение в столбце day равно значению аргумента day\n",
    "#    - значение в столбце time больше значения аргумента time1\n",
    "#    - значение в столбце time меньше значения аргумента time2\n",
    "#    Используйте последовательную фильтрацию с помощью логической индексации.\n",
    "# 2) сгруппировать датафрейм genre_df по столбцу genre, взять один из его\n",
    "#    столбцов и посчитать методом count() количество записей для каждого из\n",
    "#    присутствующих жанров, получившийся Series записать в переменную\n",
    "#    genre_df_count\n",
    "# 3) отсортировать genre_df_count по убыванию встречаемости и сохранить\n",
    "#    в переменную genre_df_sorted\n",
    "# 4) вернуть Series из 10 первых значений genre_df_sorted, это будут топ-10\n",
    "#    популярных жанров (в указанный день, в заданное время)\n",
    "\n",
    "def genre_weekday(table, day, time1, time2):\n",
    "    genre_df = table[table['day'] == day]\n",
    "    genre_df = genre_df[genre_df['time'] > time1]\n",
    "    genre_df = genre_df[genre_df['time'] < time2]\n",
    "    genre_df_count = genre_df.groupby('genre') ['track'].count()\n",
    "    genre_df_sorted = genre_df_count.sort_values(ascending = False)\n",
    "    return genre_df_sorted.head(10)\n"
   ]
  },
  {
   "cell_type": "markdown",
   "metadata": {
    "id": "la2s2_PF_Zcu"
   },
   "source": [
    "Cравните результаты функции `genre_weekday()` для Москвы и Санкт-Петербурга в понедельник утром (с 7:00 до 11:00) и в пятницу вечером (с 17:00 до 23:00):"
   ]
  },
  {
   "cell_type": "code",
   "execution_count": 31,
   "metadata": {
    "id": "yz7itPUQ_Zcu",
    "scrolled": true
   },
   "outputs": [
    {
     "data": {
      "text/plain": [
       "genre\n",
       "pop            781\n",
       "dance          549\n",
       "electronic     480\n",
       "rock           474\n",
       "hiphop         286\n",
       "ruspop         186\n",
       "world          181\n",
       "rusrap         175\n",
       "alternative    164\n",
       "unknown        161\n",
       "Name: track, dtype: int64"
      ]
     },
     "execution_count": 31,
     "metadata": {},
     "output_type": "execute_result"
    }
   ],
   "source": [
    "# вызов функции для утра понедельника в Москве (вместо df — таблица moscow_general)\n",
    "# объекты, хранящие время, являются строками и сравниваются как строки\n",
    "genre_weekday(moscow_general, 'Monday', '07:00', '11:00')"
   ]
  },
  {
   "cell_type": "code",
   "execution_count": 32,
   "metadata": {
    "id": "kwUcHPdy_Zcu"
   },
   "outputs": [
    {
     "data": {
      "text/plain": [
       "genre\n",
       "pop            218\n",
       "dance          182\n",
       "rock           162\n",
       "electronic     147\n",
       "hiphop          80\n",
       "ruspop          64\n",
       "alternative     58\n",
       "rusrap          55\n",
       "jazz            44\n",
       "classical       40\n",
       "Name: track, dtype: int64"
      ]
     },
     "execution_count": 32,
     "metadata": {},
     "output_type": "execute_result"
    }
   ],
   "source": [
    "# вызов функции для утра понедельника в Петербурге (вместо df — таблица spb_general)\n",
    "genre_weekday(spb_general, 'Monday', '07:00', '11:00')"
   ]
  },
  {
   "cell_type": "code",
   "execution_count": 33,
   "metadata": {
    "id": "EzXVRE1o_Zcu"
   },
   "outputs": [
    {
     "data": {
      "text/plain": [
       "genre\n",
       "pop            713\n",
       "rock           517\n",
       "dance          495\n",
       "electronic     482\n",
       "hiphop         273\n",
       "world          208\n",
       "ruspop         170\n",
       "alternative    163\n",
       "classical      163\n",
       "rusrap         142\n",
       "Name: track, dtype: int64"
      ]
     },
     "execution_count": 33,
     "metadata": {},
     "output_type": "execute_result"
    }
   ],
   "source": [
    "# вызов функции для вечера пятницы в Москве\n",
    "genre_weekday(moscow_general, 'Friday', '17:00', '23:00')"
   ]
  },
  {
   "cell_type": "code",
   "execution_count": 34,
   "metadata": {
    "id": "JZaEKu5v_Zcu"
   },
   "outputs": [
    {
     "data": {
      "text/plain": [
       "genre\n",
       "pop            256\n",
       "rock           216\n",
       "electronic     216\n",
       "dance          210\n",
       "hiphop          97\n",
       "alternative     63\n",
       "jazz            61\n",
       "classical       60\n",
       "rusrap          59\n",
       "world           54\n",
       "Name: track, dtype: int64"
      ]
     },
     "execution_count": 34,
     "metadata": {},
     "output_type": "execute_result"
    }
   ],
   "source": [
    "# вызов функции для вечера пятницы в Петербурге\n",
    "genre_weekday(spb_general, 'Friday', '17:00', '23:00')"
   ]
  },
  {
   "cell_type": "markdown",
   "metadata": {
    "id": "wrCe4MNX_Zcu"
   },
   "source": [
    "**Выводы**\n",
    "\n",
    "Если сравнить топ-10 жанров в понедельник утром, можно сделать такие выводы:\n",
    "\n",
    "1. В Москве и Петербурге слушают похожую музыку. Единственное отличие — в московский рейтинг вошёл жанр “world”, а в петербургский — джаз и классика.\n",
    "\n",
    "2. В Москве пропущенных значений оказалось так много, что значение `'unknown'` заняло десятое место среди самых популярных жанров. Значит, пропущенные значения занимают существенную долю в данных и угрожают достоверности исследования.\n",
    "\n",
    "Вечер пятницы не меняет эту картину. Некоторые жанры поднимаются немного выше, другие спускаются, но в целом топ-10 остаётся тем же самым.\n",
    "\n",
    "Таким образом, вторая гипотеза подтвердилась лишь частично:\n",
    "* Пользователи слушают похожую музыку в начале недели и в конце.\n",
    "* Разница между Москвой и Петербургом не слишком выражена. В Москве чаще слушают русскую популярную музыку, в Петербурге — джаз.\n",
    "\n",
    "Однако пропуски в данных ставят под сомнение этот результат. В Москве их так много, что рейтинг топ-10 мог бы выглядеть иначе, если бы не утерянные  данные о жанрах."
   ]
  },
  {
   "cell_type": "markdown",
   "metadata": {
    "id": "JolODAqr_Zcu"
   },
   "source": [
    "### Жанровые предпочтения в Москве и Петербурге\n",
    "\n",
    "Гипотеза: Петербург — столица рэпа, музыку этого жанра там слушают чаще, чем в Москве.  А Москва — город контрастов, в котором, тем не менее, преобладает поп-музыка."
   ]
  },
  {
   "cell_type": "markdown",
   "metadata": {
    "id": "DlegSvaT_Zcu"
   },
   "source": [
    "Сгруппируйте таблицу `moscow_general` по жанру и посчитайте прослушивания треков каждого жанра методом `count()`. Затем отсортируйте результат в порядке убывания и сохраните его в таблице `moscow_genres`."
   ]
  },
  {
   "cell_type": "code",
   "execution_count": 35,
   "metadata": {
    "id": "r19lIPke_Zcu",
    "scrolled": false
   },
   "outputs": [],
   "source": [
    "# одной строкой: группировка таблицы moscow_general по столбцу 'genre', \n",
    "# подсчёт числа значений 'genre' в этой группировке методом count(), \n",
    "# сортировка получившегося Series в порядке убывания и сохранение в moscow_genres\n",
    "\n",
    "moscow_genres = moscow_general.groupby('genre')['track'].count()\n",
    "moscow_genres = moscow_genres.sort_values(ascending = False)\n"
   ]
  },
  {
   "cell_type": "markdown",
   "metadata": {
    "id": "6kMuomxTiIr8"
   },
   "source": [
    "Выведите на экран первые десять строк `moscow_genres`:"
   ]
  },
  {
   "cell_type": "code",
   "execution_count": 36,
   "metadata": {
    "id": "WhCSooF8_Zcv"
   },
   "outputs": [
    {
     "name": "stdout",
     "output_type": "stream",
     "text": [
      "genre\n",
      "pop            5892\n",
      "dance          4435\n",
      "rock           3965\n",
      "electronic     3786\n",
      "hiphop         2096\n",
      "classical      1616\n",
      "world          1432\n",
      "alternative    1379\n",
      "ruspop         1372\n",
      "rusrap         1161\n",
      "Name: track, dtype: int64\n"
     ]
    }
   ],
   "source": [
    "# просмотр первых 10 строк moscow_genres\n",
    "print(moscow_genres.head(10))"
   ]
  },
  {
   "cell_type": "markdown",
   "metadata": {
    "id": "cnPG2vnN_Zcv"
   },
   "source": [
    "Теперь повторите то же и для Петербурга.\n",
    "\n",
    "Сгруппируйте таблицу `spb_general` по жанру. Посчитайте прослушивания треков каждого жанра. Результат отсортируйте в порядке убывания и сохраните в таблице `spb_genres`:\n"
   ]
  },
  {
   "cell_type": "code",
   "execution_count": 37,
   "metadata": {
    "id": "gluLIpE7_Zcv"
   },
   "outputs": [],
   "source": [
    "# одной строкой: группировка таблицы spb_general по столбцу 'genre', \n",
    "# подсчёт числа значений 'genre' в этой группировке методом count(), \n",
    "# сортировка получившегося Series в порядке убывания и сохранение в spb_genres\n",
    "\n",
    "spb_genres = spb_general.groupby('genre')['track'].count()\n",
    "spb_genres = spb_genres.sort_values(ascending = False)"
   ]
  },
  {
   "cell_type": "markdown",
   "metadata": {
    "id": "5Doha_ODgyQ8"
   },
   "source": [
    "Выведите на экран первые десять строк `spb_genres`:"
   ]
  },
  {
   "cell_type": "code",
   "execution_count": 38,
   "metadata": {
    "id": "uaGJHjVU_Zcv"
   },
   "outputs": [
    {
     "name": "stdout",
     "output_type": "stream",
     "text": [
      "genre\n",
      "pop            2431\n",
      "dance          1932\n",
      "rock           1879\n",
      "electronic     1736\n",
      "hiphop          960\n",
      "alternative     649\n",
      "classical       646\n",
      "rusrap          564\n",
      "ruspop          538\n",
      "world           515\n",
      "Name: track, dtype: int64\n"
     ]
    }
   ],
   "source": [
    "# просмотр первых 10 строк spb_genres\n",
    "print(spb_genres.head(10))"
   ]
  },
  {
   "cell_type": "markdown",
   "metadata": {
    "id": "RY51YJYu_Zcv"
   },
   "source": [
    "**Выводы**"
   ]
  },
  {
   "cell_type": "markdown",
   "metadata": {
    "id": "nVhnJEm__Zcv"
   },
   "source": [
    "Гипотеза частично подтвердилась:\n",
    "* Поп-музыка — самый популярный жанр в Москве, как и предполагала гипотеза. Более того, в топ-10 жанров встречается близкий жанр — русская популярная музыка.\n",
    "* Вопреки ожиданиям, рэп одинаково популярен в Москве и Петербурге. \n"
   ]
  },
  {
   "cell_type": "markdown",
   "metadata": {
    "id": "ykKQ0N65_Zcv"
   },
   "source": [
    "## Итоги исследования"
   ]
  },
  {
   "cell_type": "markdown",
   "metadata": {
    "id": "tjUwbHb3_Zcv"
   },
   "source": [
    "Вы проверили три гипотезы и установили:\n",
    "\n",
    "1. День недели по-разному влияет на активность пользователей в Москве и Петербурге. \n",
    "\n",
    "Первая гипотеза полностью подтвердилась.\n",
    "\n",
    "2. Музыкальные предпочтения не сильно меняются в течение недели — будь то Москва или Петербург. Небольшие различия заметны в начале недели, по понедельникам:\n",
    "* в Москве слушают музыку жанра “world”,\n",
    "* в Петербурге — джаз и классику.\n",
    "\n",
    "Таким образом, вторая гипотеза подтвердилась лишь отчасти. Этот результат мог оказаться иным, если бы не пропуски в данных.\n",
    "\n",
    "3. Во вкусах пользователей Москвы и Петербурга больше общего чем различий. Вопреки ожиданиям, предпочтения жанров в Петербурге напоминают московские.\n",
    "\n",
    "Третья гипотеза не подтвердилась. Если различия в предпочтениях и существуют, на основной массе пользователей они незаметны.\n",
    "\n",
    "**На практике исследования содержат проверки статистических гипотез.**\n",
    "Из данных одного сервиса не всегда можно сделать вывод о всех жителях города.\n",
    "Проверки статистических гипотез покажут, насколько они достоверны, исходя из имеющихся данных. \n"
   ]
  }
 ],
 "metadata": {
  "ExecuteTimeLog": [
   {
    "duration": 389,
    "start_time": "2021-12-09T07:29:33.710Z"
   },
   {
    "duration": 800,
    "start_time": "2021-12-09T07:29:48.416Z"
   },
   {
    "duration": 1689,
    "start_time": "2021-12-09T07:30:09.513Z"
   },
   {
    "duration": 3,
    "start_time": "2021-12-09T07:30:40.092Z"
   },
   {
    "duration": 4,
    "start_time": "2021-12-09T07:30:43.915Z"
   },
   {
    "duration": 4,
    "start_time": "2021-12-09T07:30:54.216Z"
   },
   {
    "duration": 1164,
    "start_time": "2021-12-09T07:31:00.400Z"
   },
   {
    "duration": 4,
    "start_time": "2021-12-09T07:31:37.332Z"
   },
   {
    "duration": 4,
    "start_time": "2021-12-09T07:31:42.708Z"
   },
   {
    "duration": 633,
    "start_time": "2021-12-09T07:31:51.416Z"
   },
   {
    "duration": 3,
    "start_time": "2021-12-09T07:42:24.215Z"
   },
   {
    "duration": 300,
    "start_time": "2021-12-09T07:43:07.716Z"
   },
   {
    "duration": 218,
    "start_time": "2021-12-09T07:44:18.601Z"
   },
   {
    "duration": 27,
    "start_time": "2021-12-09T07:45:00.730Z"
   },
   {
    "duration": 38,
    "start_time": "2021-12-09T07:47:25.410Z"
   },
   {
    "duration": 7,
    "start_time": "2021-12-09T07:56:21.484Z"
   },
   {
    "duration": 26,
    "start_time": "2021-12-09T07:56:30.908Z"
   },
   {
    "duration": 6,
    "start_time": "2021-12-09T07:56:59.479Z"
   },
   {
    "duration": 30,
    "start_time": "2021-12-09T08:00:04.296Z"
   },
   {
    "duration": 28,
    "start_time": "2021-12-09T08:08:29.428Z"
   },
   {
    "duration": 31,
    "start_time": "2021-12-09T08:08:34.932Z"
   },
   {
    "duration": 82,
    "start_time": "2021-12-09T08:10:24.672Z"
   },
   {
    "duration": 94,
    "start_time": "2021-12-09T08:11:49.203Z"
   },
   {
    "duration": 76,
    "start_time": "2021-12-09T08:12:15.719Z"
   },
   {
    "duration": 10,
    "start_time": "2021-12-09T08:17:52.836Z"
   },
   {
    "duration": 9,
    "start_time": "2021-12-09T08:18:50.928Z"
   },
   {
    "duration": 10,
    "start_time": "2021-12-09T08:22:55.824Z"
   },
   {
    "duration": 10,
    "start_time": "2021-12-09T08:28:10.544Z"
   },
   {
    "duration": 301,
    "start_time": "2021-12-09T08:30:06.568Z"
   },
   {
    "duration": 564,
    "start_time": "2021-12-09T08:31:10.009Z"
   },
   {
    "duration": 392,
    "start_time": "2021-12-09T08:33:20.129Z"
   },
   {
    "duration": 322,
    "start_time": "2021-12-09T08:34:05.447Z"
   },
   {
    "duration": 13,
    "start_time": "2021-12-09T08:35:23.961Z"
   },
   {
    "duration": 355,
    "start_time": "2021-12-09T08:39:51.198Z"
   },
   {
    "duration": 359,
    "start_time": "2021-12-09T08:41:36.692Z"
   },
   {
    "duration": 288,
    "start_time": "2021-12-09T08:45:38.285Z"
   },
   {
    "duration": 294,
    "start_time": "2021-12-09T08:45:58.051Z"
   },
   {
    "duration": 63,
    "start_time": "2021-12-09T08:46:32.940Z"
   },
   {
    "duration": 64,
    "start_time": "2021-12-09T08:46:48.591Z"
   },
   {
    "duration": 4,
    "start_time": "2021-12-09T08:55:28.513Z"
   },
   {
    "duration": 9169,
    "start_time": "2021-12-09T08:59:37.577Z"
   },
   {
    "duration": 12317,
    "start_time": "2021-12-09T09:00:45.647Z"
   },
   {
    "duration": 7662,
    "start_time": "2021-12-09T09:02:20.002Z"
   },
   {
    "duration": 4,
    "start_time": "2021-12-09T09:02:59.925Z"
   },
   {
    "duration": 8734,
    "start_time": "2021-12-09T09:03:19.160Z"
   },
   {
    "duration": 7453,
    "start_time": "2021-12-09T09:03:39.970Z"
   },
   {
    "duration": 4,
    "start_time": "2021-12-09T09:06:27.534Z"
   },
   {
    "duration": 585,
    "start_time": "2021-12-09T09:06:30.846Z"
   },
   {
    "duration": 13,
    "start_time": "2021-12-09T09:06:46.289Z"
   },
   {
    "duration": 14,
    "start_time": "2021-12-09T09:07:02.649Z"
   },
   {
    "duration": 9,
    "start_time": "2021-12-09T09:07:34.052Z"
   },
   {
    "duration": 55,
    "start_time": "2021-12-09T09:08:17.832Z"
   },
   {
    "duration": 79,
    "start_time": "2021-12-09T09:13:11.657Z"
   },
   {
    "duration": 58,
    "start_time": "2021-12-09T09:13:57.374Z"
   },
   {
    "duration": 46,
    "start_time": "2021-12-09T09:29:00.883Z"
   },
   {
    "duration": 44,
    "start_time": "2021-12-09T09:32:25.414Z"
   },
   {
    "duration": 16,
    "start_time": "2021-12-09T10:25:27.442Z"
   },
   {
    "duration": 17,
    "start_time": "2021-12-09T10:26:20.210Z"
   },
   {
    "duration": 303,
    "start_time": "2021-12-09T10:26:55.588Z"
   },
   {
    "duration": 15,
    "start_time": "2021-12-09T10:29:15.402Z"
   },
   {
    "duration": 43,
    "start_time": "2021-12-09T10:29:58.072Z"
   },
   {
    "duration": 20,
    "start_time": "2021-12-09T10:30:23.217Z"
   },
   {
    "duration": 5,
    "start_time": "2021-12-09T10:47:51.903Z"
   },
   {
    "duration": 616,
    "start_time": "2021-12-09T10:53:54.977Z"
   },
   {
    "duration": 5,
    "start_time": "2021-12-09T10:55:27.971Z"
   },
   {
    "duration": 5,
    "start_time": "2021-12-09T11:08:40.399Z"
   },
   {
    "duration": -106,
    "start_time": "2021-12-09T11:08:55.962Z"
   },
   {
    "duration": 10819,
    "start_time": "2021-12-09T11:08:56.611Z"
   },
   {
    "duration": -72,
    "start_time": "2021-12-09T11:11:49.935Z"
   },
   {
    "duration": 7252,
    "start_time": "2021-12-09T11:12:02.346Z"
   },
   {
    "duration": 4,
    "start_time": "2021-12-09T11:22:32.471Z"
   },
   {
    "duration": 25,
    "start_time": "2021-12-09T11:22:36.171Z"
   },
   {
    "duration": 4,
    "start_time": "2021-12-09T11:23:41.916Z"
   },
   {
    "duration": -82,
    "start_time": "2021-12-09T11:23:55.164Z"
   },
   {
    "duration": 7942,
    "start_time": "2021-12-09T11:23:59.178Z"
   },
   {
    "duration": 4,
    "start_time": "2021-12-09T12:39:35.825Z"
   },
   {
    "duration": 26,
    "start_time": "2021-12-09T12:39:41.453Z"
   },
   {
    "duration": 26,
    "start_time": "2021-12-09T12:41:04.943Z"
   },
   {
    "duration": 25,
    "start_time": "2021-12-09T12:41:04.972Z"
   },
   {
    "duration": 32,
    "start_time": "2021-12-09T12:44:24.065Z"
   },
   {
    "duration": 22,
    "start_time": "2021-12-09T12:44:28.723Z"
   },
   {
    "duration": 26,
    "start_time": "2021-12-09T12:44:32.734Z"
   },
   {
    "duration": 23,
    "start_time": "2021-12-09T12:44:35.902Z"
   },
   {
    "duration": 103,
    "start_time": "2021-12-09T18:53:12.042Z"
   },
   {
    "duration": 2153,
    "start_time": "2021-12-09T18:53:30.965Z"
   },
   {
    "duration": 263,
    "start_time": "2021-12-09T18:55:59.185Z"
   },
   {
    "duration": 729,
    "start_time": "2021-12-09T18:57:22.314Z"
   },
   {
    "duration": 178,
    "start_time": "2021-12-09T18:57:23.046Z"
   },
   {
    "duration": 25,
    "start_time": "2021-12-09T18:57:23.227Z"
   },
   {
    "duration": 34,
    "start_time": "2021-12-09T18:57:23.254Z"
   },
   {
    "duration": 6,
    "start_time": "2021-12-09T18:57:23.290Z"
   },
   {
    "duration": 27,
    "start_time": "2021-12-09T18:57:23.324Z"
   },
   {
    "duration": 9,
    "start_time": "2021-12-09T18:57:23.354Z"
   },
   {
    "duration": 57,
    "start_time": "2021-12-09T18:57:23.367Z"
   },
   {
    "duration": 22,
    "start_time": "2021-12-09T18:57:23.428Z"
   },
   {
    "duration": 28,
    "start_time": "2021-12-09T18:57:23.452Z"
   },
   {
    "duration": 104,
    "start_time": "2021-12-09T18:57:23.482Z"
   },
   {
    "duration": 94,
    "start_time": "2021-12-09T18:57:23.588Z"
   },
   {
    "duration": 77,
    "start_time": "2021-12-09T18:57:23.684Z"
   },
   {
    "duration": 66,
    "start_time": "2021-12-09T18:57:23.764Z"
   },
   {
    "duration": 4,
    "start_time": "2021-12-09T18:57:23.832Z"
   },
   {
    "duration": 16,
    "start_time": "2021-12-09T18:57:23.838Z"
   },
   {
    "duration": 74,
    "start_time": "2021-12-09T18:57:23.856Z"
   },
   {
    "duration": 15,
    "start_time": "2021-12-09T18:57:23.932Z"
   },
   {
    "duration": 13,
    "start_time": "2021-12-09T18:57:23.949Z"
   },
   {
    "duration": 4,
    "start_time": "2021-12-09T18:57:23.965Z"
   },
   {
    "duration": 66,
    "start_time": "2021-12-09T18:57:23.972Z"
   },
   {
    "duration": 23,
    "start_time": "2021-12-09T18:57:24.040Z"
   },
   {
    "duration": 24,
    "start_time": "2021-12-09T18:57:24.067Z"
   },
   {
    "duration": 52,
    "start_time": "2021-12-09T18:57:24.094Z"
   },
   {
    "duration": 25,
    "start_time": "2021-12-09T18:57:24.149Z"
   },
   {
    "duration": 61,
    "start_time": "2021-12-09T18:57:24.176Z"
   },
   {
    "duration": 12,
    "start_time": "2021-12-09T18:57:24.240Z"
   },
   {
    "duration": 8,
    "start_time": "2021-12-09T18:57:24.254Z"
   },
   {
    "duration": 4,
    "start_time": "2021-12-09T18:57:24.265Z"
   },
   {
    "duration": 5,
    "start_time": "2021-12-09T18:57:24.271Z"
   },
   {
    "duration": 14,
    "start_time": "2021-12-09T18:57:24.279Z"
   },
   {
    "duration": 9,
    "start_time": "2021-12-09T18:57:24.324Z"
   },
   {
    "duration": 8,
    "start_time": "2021-12-09T18:57:24.336Z"
   },
   {
    "duration": 7,
    "start_time": "2021-12-09T18:57:24.346Z"
   },
   {
    "duration": 7,
    "start_time": "2021-12-09T18:57:24.355Z"
   },
   {
    "duration": 5,
    "start_time": "2021-12-09T18:57:24.364Z"
   },
   {
    "duration": 7,
    "start_time": "2021-12-09T18:57:24.372Z"
   },
   {
    "duration": 6,
    "start_time": "2021-12-09T18:57:24.381Z"
   },
   {
    "duration": 15,
    "start_time": "2021-12-09T19:08:29.168Z"
   },
   {
    "duration": 30,
    "start_time": "2021-12-09T19:08:47.835Z"
   },
   {
    "duration": 4,
    "start_time": "2021-12-09T19:27:45.974Z"
   },
   {
    "duration": 730,
    "start_time": "2021-12-09T19:30:12.987Z"
   },
   {
    "duration": 175,
    "start_time": "2021-12-09T19:30:13.720Z"
   },
   {
    "duration": 29,
    "start_time": "2021-12-09T19:30:13.898Z"
   },
   {
    "duration": 40,
    "start_time": "2021-12-09T19:30:13.930Z"
   },
   {
    "duration": 5,
    "start_time": "2021-12-09T19:30:13.973Z"
   },
   {
    "duration": 51,
    "start_time": "2021-12-09T19:30:13.980Z"
   },
   {
    "duration": 10,
    "start_time": "2021-12-09T19:30:14.033Z"
   },
   {
    "duration": 37,
    "start_time": "2021-12-09T19:30:14.047Z"
   },
   {
    "duration": 23,
    "start_time": "2021-12-09T19:30:14.087Z"
   },
   {
    "duration": 28,
    "start_time": "2021-12-09T19:30:14.124Z"
   },
   {
    "duration": 95,
    "start_time": "2021-12-09T19:30:14.154Z"
   },
   {
    "duration": 93,
    "start_time": "2021-12-09T19:30:14.252Z"
   },
   {
    "duration": 79,
    "start_time": "2021-12-09T19:30:14.347Z"
   },
   {
    "duration": 57,
    "start_time": "2021-12-09T19:30:14.428Z"
   },
   {
    "duration": 7,
    "start_time": "2021-12-09T19:30:14.487Z"
   },
   {
    "duration": 36,
    "start_time": "2021-12-09T19:30:14.496Z"
   },
   {
    "duration": 58,
    "start_time": "2021-12-09T19:30:14.535Z"
   },
   {
    "duration": 30,
    "start_time": "2021-12-09T19:30:14.595Z"
   },
   {
    "duration": 14,
    "start_time": "2021-12-09T19:30:14.627Z"
   },
   {
    "duration": 4,
    "start_time": "2021-12-09T19:30:14.644Z"
   },
   {
    "duration": 29,
    "start_time": "2021-12-09T19:30:14.650Z"
   },
   {
    "duration": 52,
    "start_time": "2021-12-09T19:30:14.682Z"
   },
   {
    "duration": 21,
    "start_time": "2021-12-09T19:30:14.738Z"
   },
   {
    "duration": 19,
    "start_time": "2021-12-09T19:30:14.762Z"
   },
   {
    "duration": 53,
    "start_time": "2021-12-09T19:30:14.784Z"
   },
   {
    "duration": 21,
    "start_time": "2021-12-09T19:30:14.839Z"
   },
   {
    "duration": 13,
    "start_time": "2021-12-09T19:30:14.862Z"
   },
   {
    "duration": 16,
    "start_time": "2021-12-09T19:30:14.877Z"
   },
   {
    "duration": 38,
    "start_time": "2021-12-09T19:30:14.896Z"
   },
   {
    "duration": 98,
    "start_time": "2021-12-09T19:30:14.936Z"
   },
   {
    "duration": -26,
    "start_time": "2021-12-09T19:30:15.064Z"
   },
   {
    "duration": -27,
    "start_time": "2021-12-09T19:30:15.067Z"
   },
   {
    "duration": -28,
    "start_time": "2021-12-09T19:30:15.070Z"
   },
   {
    "duration": -30,
    "start_time": "2021-12-09T19:30:15.074Z"
   },
   {
    "duration": -32,
    "start_time": "2021-12-09T19:30:15.078Z"
   },
   {
    "duration": -32,
    "start_time": "2021-12-09T19:30:15.081Z"
   },
   {
    "duration": -33,
    "start_time": "2021-12-09T19:30:15.084Z"
   },
   {
    "duration": -34,
    "start_time": "2021-12-09T19:30:15.087Z"
   },
   {
    "duration": 6,
    "start_time": "2021-12-09T20:00:21.508Z"
   },
   {
    "duration": 634,
    "start_time": "2021-12-09T20:04:54.562Z"
   },
   {
    "duration": 5,
    "start_time": "2021-12-09T20:05:48.509Z"
   },
   {
    "duration": 28,
    "start_time": "2021-12-09T20:05:53.148Z"
   },
   {
    "duration": 17,
    "start_time": "2021-12-09T20:05:56.149Z"
   },
   {
    "duration": 25,
    "start_time": "2021-12-09T20:05:59.220Z"
   },
   {
    "duration": 16,
    "start_time": "2021-12-09T20:06:02.962Z"
   },
   {
    "duration": 397,
    "start_time": "2021-12-09T20:17:40.080Z"
   },
   {
    "duration": 364,
    "start_time": "2021-12-09T20:18:30.947Z"
   },
   {
    "duration": 317,
    "start_time": "2021-12-09T20:20:20.699Z"
   },
   {
    "duration": 466,
    "start_time": "2021-12-09T20:21:58.056Z"
   },
   {
    "duration": 36,
    "start_time": "2021-12-09T20:23:25.925Z"
   },
   {
    "duration": 15,
    "start_time": "2021-12-09T20:23:56.906Z"
   },
   {
    "duration": 12,
    "start_time": "2021-12-09T20:24:09.193Z"
   },
   {
    "duration": 16,
    "start_time": "2021-12-09T20:24:26.044Z"
   },
   {
    "duration": 10,
    "start_time": "2021-12-09T20:27:45.223Z"
   },
   {
    "duration": 5,
    "start_time": "2021-12-09T20:27:46.763Z"
   },
   {
    "duration": 6,
    "start_time": "2021-12-09T20:27:49.087Z"
   },
   {
    "duration": 10,
    "start_time": "2021-12-09T20:28:51.828Z"
   },
   {
    "duration": 11,
    "start_time": "2021-12-09T20:29:10.542Z"
   },
   {
    "duration": 11,
    "start_time": "2021-12-09T20:29:20.913Z"
   },
   {
    "duration": 12,
    "start_time": "2021-12-09T20:29:48.481Z"
   },
   {
    "duration": 288,
    "start_time": "2021-12-09T20:31:37.768Z"
   },
   {
    "duration": 10,
    "start_time": "2021-12-09T20:32:35.804Z"
   },
   {
    "duration": 6,
    "start_time": "2021-12-09T20:32:39.307Z"
   },
   {
    "duration": 767,
    "start_time": "2021-12-09T20:34:13.876Z"
   },
   {
    "duration": 183,
    "start_time": "2021-12-09T20:34:14.646Z"
   },
   {
    "duration": 27,
    "start_time": "2021-12-09T20:34:14.833Z"
   },
   {
    "duration": 61,
    "start_time": "2021-12-09T20:34:14.862Z"
   },
   {
    "duration": 5,
    "start_time": "2021-12-09T20:34:14.926Z"
   },
   {
    "duration": 29,
    "start_time": "2021-12-09T20:34:14.933Z"
   },
   {
    "duration": 5,
    "start_time": "2021-12-09T20:34:14.964Z"
   },
   {
    "duration": 68,
    "start_time": "2021-12-09T20:34:14.973Z"
   },
   {
    "duration": 23,
    "start_time": "2021-12-09T20:34:15.045Z"
   },
   {
    "duration": 54,
    "start_time": "2021-12-09T20:34:15.071Z"
   },
   {
    "duration": 98,
    "start_time": "2021-12-09T20:34:15.128Z"
   },
   {
    "duration": 114,
    "start_time": "2021-12-09T20:34:15.229Z"
   },
   {
    "duration": 88,
    "start_time": "2021-12-09T20:34:15.347Z"
   },
   {
    "duration": 62,
    "start_time": "2021-12-09T20:34:15.437Z"
   },
   {
    "duration": 22,
    "start_time": "2021-12-09T20:34:15.501Z"
   },
   {
    "duration": 23,
    "start_time": "2021-12-09T20:34:15.526Z"
   },
   {
    "duration": 82,
    "start_time": "2021-12-09T20:34:15.552Z"
   },
   {
    "duration": 16,
    "start_time": "2021-12-09T20:34:15.637Z"
   },
   {
    "duration": 16,
    "start_time": "2021-12-09T20:34:15.656Z"
   },
   {
    "duration": 4,
    "start_time": "2021-12-09T20:34:15.675Z"
   },
   {
    "duration": 59,
    "start_time": "2021-12-09T20:34:15.682Z"
   },
   {
    "duration": 22,
    "start_time": "2021-12-09T20:34:15.744Z"
   },
   {
    "duration": 58,
    "start_time": "2021-12-09T20:34:15.771Z"
   },
   {
    "duration": 19,
    "start_time": "2021-12-09T20:34:15.832Z"
   },
   {
    "duration": 22,
    "start_time": "2021-12-09T20:34:15.854Z"
   },
   {
    "duration": 48,
    "start_time": "2021-12-09T20:34:15.878Z"
   },
   {
    "duration": 12,
    "start_time": "2021-12-09T20:34:15.928Z"
   },
   {
    "duration": 17,
    "start_time": "2021-12-09T20:34:15.943Z"
   },
   {
    "duration": 10,
    "start_time": "2021-12-09T20:34:15.963Z"
   },
   {
    "duration": 5,
    "start_time": "2021-12-09T20:34:15.976Z"
   },
   {
    "duration": 62,
    "start_time": "2021-12-09T20:34:15.983Z"
   },
   {
    "duration": 16,
    "start_time": "2021-12-09T20:34:16.048Z"
   },
   {
    "duration": 20,
    "start_time": "2021-12-09T20:34:16.066Z"
   },
   {
    "duration": 48,
    "start_time": "2021-12-09T20:34:16.089Z"
   },
   {
    "duration": 12,
    "start_time": "2021-12-09T20:34:16.139Z"
   },
   {
    "duration": 5,
    "start_time": "2021-12-09T20:34:16.154Z"
   },
   {
    "duration": 9,
    "start_time": "2021-12-09T20:34:16.161Z"
   },
   {
    "duration": 6,
    "start_time": "2021-12-09T20:34:16.172Z"
   },
   {
    "duration": 692,
    "start_time": "2021-12-09T20:39:41.743Z"
   },
   {
    "duration": 163,
    "start_time": "2021-12-09T20:39:42.438Z"
   },
   {
    "duration": 29,
    "start_time": "2021-12-09T20:39:42.604Z"
   },
   {
    "duration": 33,
    "start_time": "2021-12-09T20:39:42.636Z"
   },
   {
    "duration": 5,
    "start_time": "2021-12-09T20:39:42.672Z"
   },
   {
    "duration": 63,
    "start_time": "2021-12-09T20:39:42.680Z"
   },
   {
    "duration": 5,
    "start_time": "2021-12-09T20:39:42.746Z"
   },
   {
    "duration": 31,
    "start_time": "2021-12-09T20:39:42.757Z"
   },
   {
    "duration": 52,
    "start_time": "2021-12-09T20:39:42.792Z"
   },
   {
    "duration": 39,
    "start_time": "2021-12-09T20:39:42.848Z"
   },
   {
    "duration": 103,
    "start_time": "2021-12-09T20:39:42.890Z"
   },
   {
    "duration": 103,
    "start_time": "2021-12-09T20:39:42.997Z"
   },
   {
    "duration": 82,
    "start_time": "2021-12-09T20:39:43.102Z"
   },
   {
    "duration": 61,
    "start_time": "2021-12-09T20:39:43.187Z"
   },
   {
    "duration": 4,
    "start_time": "2021-12-09T20:39:43.250Z"
   },
   {
    "duration": 15,
    "start_time": "2021-12-09T20:39:43.257Z"
   },
   {
    "duration": 77,
    "start_time": "2021-12-09T20:39:43.274Z"
   },
   {
    "duration": 14,
    "start_time": "2021-12-09T20:39:43.354Z"
   },
   {
    "duration": 14,
    "start_time": "2021-12-09T20:39:43.371Z"
   },
   {
    "duration": 4,
    "start_time": "2021-12-09T20:39:43.388Z"
   },
   {
    "duration": 22,
    "start_time": "2021-12-09T20:39:43.423Z"
   },
   {
    "duration": 20,
    "start_time": "2021-12-09T20:39:43.448Z"
   },
   {
    "duration": 50,
    "start_time": "2021-12-09T20:39:43.473Z"
   },
   {
    "duration": 20,
    "start_time": "2021-12-09T20:39:43.526Z"
   },
   {
    "duration": 21,
    "start_time": "2021-12-09T20:39:43.549Z"
   },
   {
    "duration": 20,
    "start_time": "2021-12-09T20:39:43.572Z"
   },
   {
    "duration": 10,
    "start_time": "2021-12-09T20:39:43.624Z"
   },
   {
    "duration": 17,
    "start_time": "2021-12-09T20:39:43.637Z"
   },
   {
    "duration": 11,
    "start_time": "2021-12-09T20:39:43.656Z"
   },
   {
    "duration": 5,
    "start_time": "2021-12-09T20:39:43.669Z"
   },
   {
    "duration": 60,
    "start_time": "2021-12-09T20:39:43.677Z"
   },
   {
    "duration": 16,
    "start_time": "2021-12-09T20:39:43.739Z"
   },
   {
    "duration": 20,
    "start_time": "2021-12-09T20:39:43.757Z"
   },
   {
    "duration": 45,
    "start_time": "2021-12-09T20:39:43.779Z"
   },
   {
    "duration": 12,
    "start_time": "2021-12-09T20:39:43.826Z"
   },
   {
    "duration": 6,
    "start_time": "2021-12-09T20:39:43.840Z"
   },
   {
    "duration": 9,
    "start_time": "2021-12-09T20:39:43.848Z"
   },
   {
    "duration": 5,
    "start_time": "2021-12-09T20:39:43.859Z"
   },
   {
    "duration": 583,
    "start_time": "2021-12-10T13:20:43.819Z"
   },
   {
    "duration": 143,
    "start_time": "2021-12-10T13:20:44.404Z"
   },
   {
    "duration": 21,
    "start_time": "2021-12-10T13:20:44.549Z"
   },
   {
    "duration": 50,
    "start_time": "2021-12-10T13:20:44.572Z"
   },
   {
    "duration": 15,
    "start_time": "2021-12-10T13:20:44.624Z"
   },
   {
    "duration": 60,
    "start_time": "2021-12-10T13:20:44.640Z"
   },
   {
    "duration": 17,
    "start_time": "2021-12-10T13:20:44.701Z"
   },
   {
    "duration": 53,
    "start_time": "2021-12-10T13:20:44.720Z"
   },
   {
    "duration": 24,
    "start_time": "2021-12-10T13:20:44.776Z"
   },
   {
    "duration": 49,
    "start_time": "2021-12-10T13:20:44.802Z"
   },
   {
    "duration": 67,
    "start_time": "2021-12-10T13:20:44.853Z"
   },
   {
    "duration": 74,
    "start_time": "2021-12-10T13:20:44.921Z"
   },
   {
    "duration": 67,
    "start_time": "2021-12-10T13:20:44.997Z"
   },
   {
    "duration": 43,
    "start_time": "2021-12-10T13:20:45.066Z"
   },
   {
    "duration": 2,
    "start_time": "2021-12-10T13:20:45.111Z"
   },
   {
    "duration": 11,
    "start_time": "2021-12-10T13:20:45.115Z"
   },
   {
    "duration": 61,
    "start_time": "2021-12-10T13:20:45.128Z"
   },
   {
    "duration": 11,
    "start_time": "2021-12-10T13:20:45.191Z"
   },
   {
    "duration": 12,
    "start_time": "2021-12-10T13:20:45.204Z"
   },
   {
    "duration": 5,
    "start_time": "2021-12-10T13:20:45.218Z"
   },
   {
    "duration": 53,
    "start_time": "2021-12-10T13:20:45.225Z"
   },
   {
    "duration": 21,
    "start_time": "2021-12-10T13:20:45.280Z"
   },
   {
    "duration": 20,
    "start_time": "2021-12-10T13:20:45.302Z"
   },
   {
    "duration": 43,
    "start_time": "2021-12-10T13:20:45.324Z"
   },
   {
    "duration": 22,
    "start_time": "2021-12-10T13:20:45.368Z"
   },
   {
    "duration": 18,
    "start_time": "2021-12-10T13:20:45.392Z"
   },
   {
    "duration": 9,
    "start_time": "2021-12-10T13:20:45.413Z"
   },
   {
    "duration": 40,
    "start_time": "2021-12-10T13:20:45.424Z"
   },
   {
    "duration": 9,
    "start_time": "2021-12-10T13:20:45.466Z"
   },
   {
    "duration": 4,
    "start_time": "2021-12-10T13:20:45.477Z"
   },
   {
    "duration": 25,
    "start_time": "2021-12-10T13:20:45.483Z"
   },
   {
    "duration": 14,
    "start_time": "2021-12-10T13:20:45.510Z"
   },
   {
    "duration": 47,
    "start_time": "2021-12-10T13:20:45.526Z"
   },
   {
    "duration": 12,
    "start_time": "2021-12-10T13:20:45.575Z"
   },
   {
    "duration": 9,
    "start_time": "2021-12-10T13:20:45.589Z"
   },
   {
    "duration": 7,
    "start_time": "2021-12-10T13:20:45.599Z"
   },
   {
    "duration": 19,
    "start_time": "2021-12-10T13:20:45.607Z"
   },
   {
    "duration": 3,
    "start_time": "2021-12-10T13:20:45.628Z"
   },
   {
    "duration": 93,
    "start_time": "2021-12-10T13:30:26.913Z"
   }
  ],
  "colab": {
   "collapsed_sections": [
    "E0vqbgi9ay0H",
    "VUC88oWjTJw2"
   ],
   "name": "yandex_music_project_2021.2.ipynb",
   "provenance": []
  },
  "kernelspec": {
   "display_name": "Python 3 (ipykernel)",
   "language": "python",
   "name": "python3"
  },
  "language_info": {
   "codemirror_mode": {
    "name": "ipython",
    "version": 3
   },
   "file_extension": ".py",
   "mimetype": "text/x-python",
   "name": "python",
   "nbconvert_exporter": "python",
   "pygments_lexer": "ipython3",
   "version": "3.9.5"
  },
  "toc": {
   "base_numbering": 1,
   "nav_menu": {},
   "number_sections": true,
   "sideBar": true,
   "skip_h1_title": true,
   "title_cell": "Table of Contents",
   "title_sidebar": "Contents",
   "toc_cell": false,
   "toc_position": {},
   "toc_section_display": true,
   "toc_window_display": true
  }
 },
 "nbformat": 4,
 "nbformat_minor": 1
}
