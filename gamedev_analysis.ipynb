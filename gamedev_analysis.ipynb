{
 "cells": [
  {
   "cell_type": "markdown",
   "metadata": {
    "toc": true
   },
   "source": [
    "<h1>Table of Contents<span class=\"tocSkip\"></span></h1>\n",
    "<div class=\"toc\"><ul class=\"toc-item\"><li><span><a href=\"#Описание-проекта\" data-toc-modified-id=\"Описание-проекта-1\"><span class=\"toc-item-num\">1&nbsp;&nbsp;</span>Описание проекта</a></span></li><li><span><a href=\"#Изучение-данных-из-файла\" data-toc-modified-id=\"Изучение-данных-из-файла-2\"><span class=\"toc-item-num\">2&nbsp;&nbsp;</span>Изучение данных из файла</a></span><ul class=\"toc-item\"><li><span><a href=\"#Вывод\" data-toc-modified-id=\"Вывод-2.1\"><span class=\"toc-item-num\">2.1&nbsp;&nbsp;</span>Вывод</a></span></li></ul></li><li><span><a href=\"#Предобработка-данных\" data-toc-modified-id=\"Предобработка-данных-3\"><span class=\"toc-item-num\">3&nbsp;&nbsp;</span>Предобработка данных</a></span><ul class=\"toc-item\"><li><span><a href=\"#Замена-названий-столбцов\" data-toc-modified-id=\"Замена-названий-столбцов-3.1\"><span class=\"toc-item-num\">3.1&nbsp;&nbsp;</span>Замена названий столбцов</a></span></li><li><span><a href=\"#Обработка-пропусков\" data-toc-modified-id=\"Обработка-пропусков-3.2\"><span class=\"toc-item-num\">3.2&nbsp;&nbsp;</span>Обработка пропусков</a></span></li><li><span><a href=\"#Замена-типов-данных\" data-toc-modified-id=\"Замена-типов-данных-3.3\"><span class=\"toc-item-num\">3.3&nbsp;&nbsp;</span>Замена типов данных</a></span></li><li><span><a href=\"#Подсчет-суммарных-продаж-во-всех-регионах\" data-toc-modified-id=\"Подсчет-суммарных-продаж-во-всех-регионах-3.4\"><span class=\"toc-item-num\">3.4&nbsp;&nbsp;</span>Подсчет суммарных продаж во всех регионах</a></span></li><li><span><a href=\"#Вывод\" data-toc-modified-id=\"Вывод-3.5\"><span class=\"toc-item-num\">3.5&nbsp;&nbsp;</span>Вывод</a></span></li></ul></li><li><span><a href=\"#Исследовательский-анализ-данных\" data-toc-modified-id=\"Исследовательский-анализ-данных-4\"><span class=\"toc-item-num\">4&nbsp;&nbsp;</span>Исследовательский анализ данных</a></span><ul class=\"toc-item\"><li><span><a href=\"#Посмотрите,-сколько-игр-выпускалось-в-разные-годы.\" data-toc-modified-id=\"Посмотрите,-сколько-игр-выпускалось-в-разные-годы.-4.1\"><span class=\"toc-item-num\">4.1&nbsp;&nbsp;</span>Посмотрите, сколько игр выпускалось в разные годы.</a></span></li><li><span><a href=\"#Посмотрите,-как-менялись-продажи-по-платформам.\" data-toc-modified-id=\"Посмотрите,-как-менялись-продажи-по-платформам.-4.2\"><span class=\"toc-item-num\">4.2&nbsp;&nbsp;</span>Посмотрите, как менялись продажи по платформам.</a></span></li><li><span><a href=\"#Возьмите-данные-за-соответствующий-актуальный-период.\" data-toc-modified-id=\"Возьмите-данные-за-соответствующий-актуальный-период.-4.3\"><span class=\"toc-item-num\">4.3&nbsp;&nbsp;</span>Возьмите данные за соответствующий актуальный период.</a></span></li><li><span><a href=\"#Какие-платформы-лидируют-по-продажам,-растут-или-падают?-Выберите-несколько-потенциально-прибыльных-платформ.\" data-toc-modified-id=\"Какие-платформы-лидируют-по-продажам,-растут-или-падают?-Выберите-несколько-потенциально-прибыльных-платформ.-4.4\"><span class=\"toc-item-num\">4.4&nbsp;&nbsp;</span>Какие платформы лидируют по продажам, растут или падают? Выберите несколько потенциально прибыльных платформ.</a></span></li><li><span><a href=\"#Постройте-график-«ящик-с-усами»-по-глобальным-продажам-игр-в-разбивке-по-платформам.-Опишите-результат.\" data-toc-modified-id=\"Постройте-график-«ящик-с-усами»-по-глобальным-продажам-игр-в-разбивке-по-платформам.-Опишите-результат.-4.5\"><span class=\"toc-item-num\">4.5&nbsp;&nbsp;</span>Постройте график «ящик с усами» по глобальным продажам игр в разбивке по платформам. Опишите результат.</a></span></li><li><span><a href=\"#Посмотрите,-как-влияют-на-продажи-внутри-одной-популярной-платформы-отзывы-пользователей-и-критиков.\" data-toc-modified-id=\"Посмотрите,-как-влияют-на-продажи-внутри-одной-популярной-платформы-отзывы-пользователей-и-критиков.-4.6\"><span class=\"toc-item-num\">4.6&nbsp;&nbsp;</span>Посмотрите, как влияют на продажи внутри одной популярной платформы отзывы пользователей и критиков.</a></span></li><li><span><a href=\"#Соотнесите-выводы-с-продажами-игр-на-других-платформах\" data-toc-modified-id=\"Соотнесите-выводы-с-продажами-игр-на-других-платформах-4.7\"><span class=\"toc-item-num\">4.7&nbsp;&nbsp;</span>Соотнесите выводы с продажами игр на других платформах</a></span></li><li><span><a href=\"#Посмотрите-на-общее-распределение-игр-по-жанрам.\" data-toc-modified-id=\"Посмотрите-на-общее-распределение-игр-по-жанрам.-4.8\"><span class=\"toc-item-num\">4.8&nbsp;&nbsp;</span>Посмотрите на общее распределение игр по жанрам.</a></span></li><li><span><a href=\"#Вывод\" data-toc-modified-id=\"Вывод-4.9\"><span class=\"toc-item-num\">4.9&nbsp;&nbsp;</span>Вывод</a></span></li></ul></li><li><span><a href=\"#Составление-портрета-пользователя-каждого-региона\" data-toc-modified-id=\"Составление-портрета-пользователя-каждого-региона-5\"><span class=\"toc-item-num\">5&nbsp;&nbsp;</span>Составление портрета пользователя каждого региона</a></span><ul class=\"toc-item\"><li><span><a href=\"#Самые-популярные-платформы-(топ-5).\" data-toc-modified-id=\"Самые-популярные-платформы-(топ-5).-5.1\"><span class=\"toc-item-num\">5.1&nbsp;&nbsp;</span>Самые популярные платформы (топ-5).</a></span></li><li><span><a href=\"#Самые-популярные-жанры-(топ-5).\" data-toc-modified-id=\"Самые-популярные-жанры-(топ-5).-5.2\"><span class=\"toc-item-num\">5.2&nbsp;&nbsp;</span>Самые популярные жанры (топ-5).</a></span></li><li><span><a href=\"#Влияет-ли-рейтинг-ESRB-на-продажи-в-отдельном-регионе?\" data-toc-modified-id=\"Влияет-ли-рейтинг-ESRB-на-продажи-в-отдельном-регионе?-5.3\"><span class=\"toc-item-num\">5.3&nbsp;&nbsp;</span>Влияет ли рейтинг ESRB на продажи в отдельном регионе?</a></span></li><li><span><a href=\"#Вывод\" data-toc-modified-id=\"Вывод-5.4\"><span class=\"toc-item-num\">5.4&nbsp;&nbsp;</span>Вывод</a></span></li></ul></li><li><span><a href=\"#Проверка-гипотез.\" data-toc-modified-id=\"Проверка-гипотез.-6\"><span class=\"toc-item-num\">6&nbsp;&nbsp;</span>Проверка гипотез.</a></span><ul class=\"toc-item\"><li><span><a href=\"#Гипотиза:-Средние-пользовательские-рейтинги-платформ-Xbox-One-и-PC-одинаковые.\" data-toc-modified-id=\"Гипотиза:-Средние-пользовательские-рейтинги-платформ-Xbox-One-и-PC-одинаковые.-6.1\"><span class=\"toc-item-num\">6.1&nbsp;&nbsp;</span>Гипотиза: Средние пользовательские рейтинги платформ Xbox One и PC одинаковые.</a></span></li><li><span><a href=\"#Гипотиза:-Средние-пользовательские-рейтинги-жанров-Action-(англ.-«действие»,-экшен-игры)-и-Sports-(англ.-«спортивные-соревнования»)-разные.\" data-toc-modified-id=\"Гипотиза:-Средние-пользовательские-рейтинги-жанров-Action-(англ.-«действие»,-экшен-игры)-и-Sports-(англ.-«спортивные-соревнования»)-разные.-6.2\"><span class=\"toc-item-num\">6.2&nbsp;&nbsp;</span>Гипотиза: Средние пользовательские рейтинги жанров Action (англ. «действие», экшен-игры) и Sports (англ. «спортивные соревнования») разные.</a></span></li><li><span><a href=\"#Вывод\" data-toc-modified-id=\"Вывод-6.3\"><span class=\"toc-item-num\">6.3&nbsp;&nbsp;</span>Вывод</a></span></li></ul></li><li><span><a href=\"#Общий-вывод\" data-toc-modified-id=\"Общий-вывод-7\"><span class=\"toc-item-num\">7&nbsp;&nbsp;</span>Общий вывод</a></span></li></ul></div>"
   ]
  },
  {
   "cell_type": "markdown",
   "metadata": {},
   "source": [
    "# Анализ игрового рынка"
   ]
  },
  {
   "cell_type": "markdown",
   "metadata": {},
   "source": [
    "## Описание проекта"
   ]
  },
  {
   "cell_type": "markdown",
   "metadata": {},
   "source": [
    "Вы работаете в интернет-магазине «Стримчик», который продаёт по всему миру компьютерные игры. Из открытых источников доступны исторические данные о продажах игр, оценки пользователей и экспертов, жанры и платформы (например, Xbox или PlayStation). Вам нужно выявить определяющие успешность игры закономерности. Это позволит сделать ставку на потенциально популярный продукт и спланировать рекламные кампании.\n",
    "\n",
    "\n",
    "**Описание данных:**\n",
    "- Name — название игры\n",
    "- Platform — платформа\n",
    "- Year_of_Release — год выпуска\n",
    "- Genre — жанр игры\n",
    "- NA_sales — продажи в Северной Америке (миллионы проданных копий)\n",
    "- EU_sales — продажи в Европе (миллионы проданных копий)\n",
    "- JP_sales — продажи в Японии (миллионы проданных копий)\n",
    "- Other_sales — продажи в других странах (миллионы проданных копий)\n",
    "- Critic_Score — оценка критиков (максимум 100)\n",
    "- User_Score — оценка пользователей (максимум 10)\n",
    "- Rating — рейтинг от организации ESRB (англ. Entertainment Software Rating Board). Эта ассоциация определяет рейтинг компьютерных игр и присваивает им подходящую возрастную категорию.\n",
    "\n",
    "Данные за 2016 год могут быть неполными."
   ]
  },
  {
   "cell_type": "markdown",
   "metadata": {},
   "source": [
    "## Изучение данных из файла"
   ]
  },
  {
   "cell_type": "code",
   "execution_count": 1,
   "metadata": {},
   "outputs": [],
   "source": [
    "import warnings\n",
    "warnings.filterwarnings('ignore')#скрытие предупреждений\n",
    "\n",
    "import pandas as pd\n",
    "import numpy as np\n",
    "import math\n",
    "import matplotlib.pyplot as plt\n",
    "from scipy import stats as st\n",
    "import seaborn as sns\n",
    "import plotly.graph_objs as go"
   ]
  },
  {
   "cell_type": "code",
   "execution_count": 2,
   "metadata": {
    "scrolled": false
   },
   "outputs": [
    {
     "data": {
      "text/html": [
       "<div>\n",
       "<style scoped>\n",
       "    .dataframe tbody tr th:only-of-type {\n",
       "        vertical-align: middle;\n",
       "    }\n",
       "\n",
       "    .dataframe tbody tr th {\n",
       "        vertical-align: top;\n",
       "    }\n",
       "\n",
       "    .dataframe thead th {\n",
       "        text-align: right;\n",
       "    }\n",
       "</style>\n",
       "<table border=\"1\" class=\"dataframe\">\n",
       "  <thead>\n",
       "    <tr style=\"text-align: right;\">\n",
       "      <th></th>\n",
       "      <th>Name</th>\n",
       "      <th>Platform</th>\n",
       "      <th>Year_of_Release</th>\n",
       "      <th>Genre</th>\n",
       "      <th>NA_sales</th>\n",
       "      <th>EU_sales</th>\n",
       "      <th>JP_sales</th>\n",
       "      <th>Other_sales</th>\n",
       "      <th>Critic_Score</th>\n",
       "      <th>User_Score</th>\n",
       "      <th>Rating</th>\n",
       "    </tr>\n",
       "  </thead>\n",
       "  <tbody>\n",
       "    <tr>\n",
       "      <td>0</td>\n",
       "      <td>Wii Sports</td>\n",
       "      <td>Wii</td>\n",
       "      <td>2006.0</td>\n",
       "      <td>Sports</td>\n",
       "      <td>41.36</td>\n",
       "      <td>28.96</td>\n",
       "      <td>3.77</td>\n",
       "      <td>8.45</td>\n",
       "      <td>76.0</td>\n",
       "      <td>8</td>\n",
       "      <td>E</td>\n",
       "    </tr>\n",
       "    <tr>\n",
       "      <td>1</td>\n",
       "      <td>Super Mario Bros.</td>\n",
       "      <td>NES</td>\n",
       "      <td>1985.0</td>\n",
       "      <td>Platform</td>\n",
       "      <td>29.08</td>\n",
       "      <td>3.58</td>\n",
       "      <td>6.81</td>\n",
       "      <td>0.77</td>\n",
       "      <td>NaN</td>\n",
       "      <td>NaN</td>\n",
       "      <td>NaN</td>\n",
       "    </tr>\n",
       "    <tr>\n",
       "      <td>2</td>\n",
       "      <td>Mario Kart Wii</td>\n",
       "      <td>Wii</td>\n",
       "      <td>2008.0</td>\n",
       "      <td>Racing</td>\n",
       "      <td>15.68</td>\n",
       "      <td>12.76</td>\n",
       "      <td>3.79</td>\n",
       "      <td>3.29</td>\n",
       "      <td>82.0</td>\n",
       "      <td>8.3</td>\n",
       "      <td>E</td>\n",
       "    </tr>\n",
       "    <tr>\n",
       "      <td>3</td>\n",
       "      <td>Wii Sports Resort</td>\n",
       "      <td>Wii</td>\n",
       "      <td>2009.0</td>\n",
       "      <td>Sports</td>\n",
       "      <td>15.61</td>\n",
       "      <td>10.93</td>\n",
       "      <td>3.28</td>\n",
       "      <td>2.95</td>\n",
       "      <td>80.0</td>\n",
       "      <td>8</td>\n",
       "      <td>E</td>\n",
       "    </tr>\n",
       "    <tr>\n",
       "      <td>4</td>\n",
       "      <td>Pokemon Red/Pokemon Blue</td>\n",
       "      <td>GB</td>\n",
       "      <td>1996.0</td>\n",
       "      <td>Role-Playing</td>\n",
       "      <td>11.27</td>\n",
       "      <td>8.89</td>\n",
       "      <td>10.22</td>\n",
       "      <td>1.00</td>\n",
       "      <td>NaN</td>\n",
       "      <td>NaN</td>\n",
       "      <td>NaN</td>\n",
       "    </tr>\n",
       "    <tr>\n",
       "      <td>5</td>\n",
       "      <td>Tetris</td>\n",
       "      <td>GB</td>\n",
       "      <td>1989.0</td>\n",
       "      <td>Puzzle</td>\n",
       "      <td>23.20</td>\n",
       "      <td>2.26</td>\n",
       "      <td>4.22</td>\n",
       "      <td>0.58</td>\n",
       "      <td>NaN</td>\n",
       "      <td>NaN</td>\n",
       "      <td>NaN</td>\n",
       "    </tr>\n",
       "    <tr>\n",
       "      <td>6</td>\n",
       "      <td>New Super Mario Bros.</td>\n",
       "      <td>DS</td>\n",
       "      <td>2006.0</td>\n",
       "      <td>Platform</td>\n",
       "      <td>11.28</td>\n",
       "      <td>9.14</td>\n",
       "      <td>6.50</td>\n",
       "      <td>2.88</td>\n",
       "      <td>89.0</td>\n",
       "      <td>8.5</td>\n",
       "      <td>E</td>\n",
       "    </tr>\n",
       "    <tr>\n",
       "      <td>7</td>\n",
       "      <td>Wii Play</td>\n",
       "      <td>Wii</td>\n",
       "      <td>2006.0</td>\n",
       "      <td>Misc</td>\n",
       "      <td>13.96</td>\n",
       "      <td>9.18</td>\n",
       "      <td>2.93</td>\n",
       "      <td>2.84</td>\n",
       "      <td>58.0</td>\n",
       "      <td>6.6</td>\n",
       "      <td>E</td>\n",
       "    </tr>\n",
       "    <tr>\n",
       "      <td>8</td>\n",
       "      <td>New Super Mario Bros. Wii</td>\n",
       "      <td>Wii</td>\n",
       "      <td>2009.0</td>\n",
       "      <td>Platform</td>\n",
       "      <td>14.44</td>\n",
       "      <td>6.94</td>\n",
       "      <td>4.70</td>\n",
       "      <td>2.24</td>\n",
       "      <td>87.0</td>\n",
       "      <td>8.4</td>\n",
       "      <td>E</td>\n",
       "    </tr>\n",
       "    <tr>\n",
       "      <td>9</td>\n",
       "      <td>Duck Hunt</td>\n",
       "      <td>NES</td>\n",
       "      <td>1984.0</td>\n",
       "      <td>Shooter</td>\n",
       "      <td>26.93</td>\n",
       "      <td>0.63</td>\n",
       "      <td>0.28</td>\n",
       "      <td>0.47</td>\n",
       "      <td>NaN</td>\n",
       "      <td>NaN</td>\n",
       "      <td>NaN</td>\n",
       "    </tr>\n",
       "  </tbody>\n",
       "</table>\n",
       "</div>"
      ],
      "text/plain": [
       "                        Name Platform  Year_of_Release         Genre  \\\n",
       "0                 Wii Sports      Wii           2006.0        Sports   \n",
       "1          Super Mario Bros.      NES           1985.0      Platform   \n",
       "2             Mario Kart Wii      Wii           2008.0        Racing   \n",
       "3          Wii Sports Resort      Wii           2009.0        Sports   \n",
       "4   Pokemon Red/Pokemon Blue       GB           1996.0  Role-Playing   \n",
       "5                     Tetris       GB           1989.0        Puzzle   \n",
       "6      New Super Mario Bros.       DS           2006.0      Platform   \n",
       "7                   Wii Play      Wii           2006.0          Misc   \n",
       "8  New Super Mario Bros. Wii      Wii           2009.0      Platform   \n",
       "9                  Duck Hunt      NES           1984.0       Shooter   \n",
       "\n",
       "   NA_sales  EU_sales  JP_sales  Other_sales  Critic_Score User_Score Rating  \n",
       "0     41.36     28.96      3.77         8.45          76.0          8      E  \n",
       "1     29.08      3.58      6.81         0.77           NaN        NaN    NaN  \n",
       "2     15.68     12.76      3.79         3.29          82.0        8.3      E  \n",
       "3     15.61     10.93      3.28         2.95          80.0          8      E  \n",
       "4     11.27      8.89     10.22         1.00           NaN        NaN    NaN  \n",
       "5     23.20      2.26      4.22         0.58           NaN        NaN    NaN  \n",
       "6     11.28      9.14      6.50         2.88          89.0        8.5      E  \n",
       "7     13.96      9.18      2.93         2.84          58.0        6.6      E  \n",
       "8     14.44      6.94      4.70         2.24          87.0        8.4      E  \n",
       "9     26.93      0.63      0.28         0.47           NaN        NaN    NaN  "
      ]
     },
     "metadata": {},
     "output_type": "display_data"
    }
   ],
   "source": [
    "df = pd.read_csv('/datasets/games.csv')\n",
    "display(df.head(10)) #вывод первых 10 строчек\n"
   ]
  },
  {
   "cell_type": "code",
   "execution_count": 3,
   "metadata": {
    "scrolled": true
   },
   "outputs": [
    {
     "name": "stdout",
     "output_type": "stream",
     "text": [
      "<class 'pandas.core.frame.DataFrame'>\n",
      "RangeIndex: 16715 entries, 0 to 16714\n",
      "Data columns (total 11 columns):\n",
      "Name               16713 non-null object\n",
      "Platform           16715 non-null object\n",
      "Year_of_Release    16446 non-null float64\n",
      "Genre              16713 non-null object\n",
      "NA_sales           16715 non-null float64\n",
      "EU_sales           16715 non-null float64\n",
      "JP_sales           16715 non-null float64\n",
      "Other_sales        16715 non-null float64\n",
      "Critic_Score       8137 non-null float64\n",
      "User_Score         10014 non-null object\n",
      "Rating             9949 non-null object\n",
      "dtypes: float64(6), object(5)\n",
      "memory usage: 1.4+ MB\n"
     ]
    }
   ],
   "source": [
    "df.info() # получение общей информации о данных в таблице "
   ]
  },
  {
   "cell_type": "markdown",
   "metadata": {},
   "source": [
    "### Вывод\n",
    "\n",
    "В распоряжении таблица из 11 столбцов с данными  о продажах игр, оценках пользователей и экспертов, жанрах и платформах.\n",
    "\n",
    "- Названия столбцов нужно привести к единому стилю;\n",
    "- Количество значений в столбцах различается. Значит, в данных есть пропущенные значения;\n",
    "- Некоторые столбцы требуют замены типа данных;\n",
    "- Необходимо проверить таблицу на явные и неявные дубликаты."
   ]
  },
  {
   "cell_type": "markdown",
   "metadata": {},
   "source": [
    "## Предобработка данных"
   ]
  },
  {
   "cell_type": "markdown",
   "metadata": {},
   "source": [
    "Для подготовки данных к исследованию проведу следующие действия:\n",
    "- Заменю названия столбцов (приведу к нижнему регистру);\n",
    "- Преобразую данные в нужные типы. Опишу, в каких столбцах необходима замена типа данных и почему;\n",
    "- Обработаю пропуски при необходимости:\n",
    "    - Объясню, почему заполнила пропуски определённым образом или почему не стала это делать;\n",
    "    - Опишу причины, которые могли привести к пропускам;\n",
    "    - Отдельно разберу  значение 'tbd' в столбце с оценкой пользователей и опишу, как его обработать;\n",
    "- Посчитаю суммарные продажи во всех регионах и запишу их в отдельный столбец."
   ]
  },
  {
   "cell_type": "markdown",
   "metadata": {},
   "source": [
    "### Замена названий столбцов"
   ]
  },
  {
   "cell_type": "code",
   "execution_count": 4,
   "metadata": {},
   "outputs": [
    {
     "name": "stdout",
     "output_type": "stream",
     "text": [
      "<class 'pandas.core.frame.DataFrame'>\n",
      "RangeIndex: 16715 entries, 0 to 16714\n",
      "Data columns (total 11 columns):\n",
      "name               16713 non-null object\n",
      "platform           16715 non-null object\n",
      "year_of_release    16446 non-null float64\n",
      "genre              16713 non-null object\n",
      "na_sales           16715 non-null float64\n",
      "eu_sales           16715 non-null float64\n",
      "jp_sales           16715 non-null float64\n",
      "other_sales        16715 non-null float64\n",
      "critic_score       8137 non-null float64\n",
      "user_score         10014 non-null object\n",
      "rating             9949 non-null object\n",
      "dtypes: float64(6), object(5)\n",
      "memory usage: 1.4+ MB\n"
     ]
    }
   ],
   "source": [
    "#Приведу названия столбцов к нижнему регистру\n",
    "df.columns = df.columns.str.lower()\n",
    "df.info() #Проверяю названия столбцов"
   ]
  },
  {
   "cell_type": "markdown",
   "metadata": {},
   "source": [
    "### Обработка пропусков"
   ]
  },
  {
   "cell_type": "code",
   "execution_count": 5,
   "metadata": {
    "scrolled": true
   },
   "outputs": [
    {
     "data": {
      "text/plain": [
       "name                  2\n",
       "platform              0\n",
       "year_of_release     269\n",
       "genre                 2\n",
       "na_sales              0\n",
       "eu_sales              0\n",
       "jp_sales              0\n",
       "other_sales           0\n",
       "critic_score       8578\n",
       "user_score         6701\n",
       "rating             6766\n",
       "dtype: int64"
      ]
     },
     "execution_count": 5,
     "metadata": {},
     "output_type": "execute_result"
    }
   ],
   "source": [
    "#Посчитаю количество пропусков\n",
    "df.isna().sum()# подсчёт пропусков"
   ]
  },
  {
   "cell_type": "markdown",
   "metadata": {},
   "source": [
    "Так название, год выпуска и жанр важны для дальнейшего исследования, некорректно будет заполнять пропуски какими-либо значениями. Доля пропусков от общего числа в этих столбцах мала - поэтому удалю пустые строки."
   ]
  },
  {
   "cell_type": "code",
   "execution_count": 6,
   "metadata": {},
   "outputs": [],
   "source": [
    "#Удаляю строки с пропущенными значениями в столбцах 'name', 'year_of_release', 'genre'\n",
    "df.dropna(subset = ['name', 'year_of_release', 'genre'], inplace = True)\n"
   ]
  },
  {
   "cell_type": "markdown",
   "metadata": {},
   "source": [
    "Проверю таблицу на явные дубликаты и посмотрю на все уникальные значения в категориальных столбцах 'platform', 'genre', а так же 'critic_score', 'user_score', 'rating' - это поможет определиться с дальнейшей тактикой работы с оставшимися пропусками."
   ]
  },
  {
   "cell_type": "code",
   "execution_count": 7,
   "metadata": {
    "scrolled": true
   },
   "outputs": [
    {
     "name": "stdout",
     "output_type": "stream",
     "text": [
      "0\n"
     ]
    }
   ],
   "source": [
    "# подсчёт явных дубликатов\n",
    "print (df.duplicated().sum())"
   ]
  },
  {
   "cell_type": "code",
   "execution_count": 8,
   "metadata": {
    "scrolled": true
   },
   "outputs": [
    {
     "name": "stdout",
     "output_type": "stream",
     "text": [
      "['Wii' 'NES' 'GB' 'DS' 'X360' 'PS3' 'PS2' 'SNES' 'GBA' 'PS4' '3DS' 'N64'\n",
      " 'PS' 'XB' 'PC' '2600' 'PSP' 'XOne' 'WiiU' 'GC' 'GEN' 'DC' 'PSV' 'SAT'\n",
      " 'SCD' 'WS' 'NG' 'TG16' '3DO' 'GG' 'PCFX']\n"
     ]
    }
   ],
   "source": [
    "#Уникальные значения 'platform'\n",
    "print(df['platform'].unique())"
   ]
  },
  {
   "cell_type": "code",
   "execution_count": 9,
   "metadata": {},
   "outputs": [
    {
     "name": "stdout",
     "output_type": "stream",
     "text": [
      "['Sports' 'Platform' 'Racing' 'Role-Playing' 'Puzzle' 'Misc' 'Shooter'\n",
      " 'Simulation' 'Action' 'Fighting' 'Adventure' 'Strategy']\n"
     ]
    }
   ],
   "source": [
    "#Уникальные значения 'genre'\n",
    "print(df['genre'].unique())"
   ]
  },
  {
   "cell_type": "code",
   "execution_count": 10,
   "metadata": {
    "scrolled": true
   },
   "outputs": [
    {
     "name": "stdout",
     "output_type": "stream",
     "text": [
      "[76. nan 82. 80. 89. 58. 87. 91. 61. 97. 95. 77. 88. 83. 94. 93. 85. 86.\n",
      " 98. 96. 90. 84. 73. 74. 78. 92. 71. 72. 68. 62. 49. 67. 81. 66. 56. 79.\n",
      " 70. 59. 64. 75. 60. 63. 69. 50. 25. 42. 44. 55. 48. 57. 29. 47. 65. 54.\n",
      " 20. 53. 37. 38. 33. 52. 30. 32. 43. 45. 51. 40. 46. 39. 34. 41. 36. 31.\n",
      " 27. 35. 26. 19. 28. 23. 24. 21. 17. 13.]\n"
     ]
    }
   ],
   "source": [
    "#Уникальные значения 'critic_score'\n",
    "print(df['critic_score'].unique())"
   ]
  },
  {
   "cell_type": "markdown",
   "metadata": {},
   "source": [
    "Заполнение рейтинга неуместно, отразится на репрезентативности. Оставлю как есть. Тип столбца заменять не буду, это ни на что не повлияет (кроме красоты числа без лишней точки:))"
   ]
  },
  {
   "cell_type": "code",
   "execution_count": 11,
   "metadata": {
    "scrolled": true
   },
   "outputs": [
    {
     "name": "stdout",
     "output_type": "stream",
     "text": [
      "['8' nan '8.3' '8.5' '6.6' '8.4' '8.6' '7.7' '6.3' '7.4' '8.2' '9' '7.9'\n",
      " '8.1' '8.7' '7.1' '3.4' '5.3' '4.8' '3.2' '8.9' '6.4' '7.8' '7.5' '2.6'\n",
      " '7.2' '9.2' '7' '7.3' '4.3' '7.6' '5.7' '5' '9.1' '6.5' 'tbd' '8.8' '6.9'\n",
      " '9.4' '6.8' '6.1' '6.7' '5.4' '4' '4.9' '4.5' '9.3' '6.2' '4.2' '6' '3.7'\n",
      " '4.1' '5.8' '5.6' '5.5' '4.4' '4.6' '5.9' '3.9' '3.1' '2.9' '5.2' '3.3'\n",
      " '4.7' '5.1' '3.5' '2.5' '1.9' '3' '2.7' '2.2' '2' '9.5' '2.1' '3.6' '2.8'\n",
      " '1.8' '3.8' '0' '1.6' '9.6' '2.4' '1.7' '1.1' '0.3' '1.5' '0.7' '1.2'\n",
      " '2.3' '0.5' '1.3' '0.2' '0.6' '1.4' '0.9' '1' '9.7']\n"
     ]
    }
   ],
   "source": [
    "#Уникальные значения 'user_score'\n",
    "print(df['user_score'].unique())"
   ]
  },
  {
   "cell_type": "markdown",
   "metadata": {},
   "source": [
    "tbd - аббревиатура от английского To Be Determined (будет определено) или To Be Decided (будет решено). Используется, если какая-то информация еще не определена или решение по вопросу не принято. В данном случае, можно предположить, что выгрузка была сделана раньше, чем была заполнена оценка. Проверю, если 'tbd' встречается только в строках за 2016 год (последний год выборки) -  то оставлю эту аббревиатуру, а если распределена по разным годам, то значит - это просто незаполненные оценки пользователей и заменю на nan."
   ]
  },
  {
   "cell_type": "code",
   "execution_count": 12,
   "metadata": {},
   "outputs": [
    {
     "data": {
      "text/plain": [
       "array([2010., 2005., 2011., 2009., 2004., 1999., 2001., 2008., 2007.,\n",
       "       2003., 2000., 2006., 2002., 2015., 2014., 2012., 2013., 2016.,\n",
       "       1997.])"
      ]
     },
     "execution_count": 12,
     "metadata": {},
     "output_type": "execute_result"
    }
   ],
   "source": [
    "#Проверяю года, где встречается значение 'tbd' в 'user_score'\n",
    "df.loc[df['user_score'] == 'tbd', 'year_of_release'].unique()"
   ]
  },
  {
   "cell_type": "code",
   "execution_count": 13,
   "metadata": {},
   "outputs": [
    {
     "data": {
      "text/plain": [
       "2376"
      ]
     },
     "execution_count": 13,
     "metadata": {},
     "output_type": "execute_result"
    }
   ],
   "source": [
    "#Проверю количество строк со значением 'tbd'\n",
    "df.loc[df['user_score'] == 'tbd', 'user_score'].count()"
   ]
  },
  {
   "cell_type": "markdown",
   "metadata": {},
   "source": [
    "Значение 'tbd' встречается в данных за разные года. Значит это *обозначение незаполненных пользователями оценок*. Для единого формата незаполненных оценок заменю  'tbd' на  nan. В данном случае замена на 0 или любое другое значение не уместна, так как это повлияет отразится на репрезентативности. Тип столбца оставлю без изменения."
   ]
  },
  {
   "cell_type": "code",
   "execution_count": 14,
   "metadata": {},
   "outputs": [],
   "source": [
    "#Замена 'tbd' на пропущенные значения 'nan'\n",
    "df.loc[df['user_score'] == 'tbd', 'user_score'] = float('nan')"
   ]
  },
  {
   "cell_type": "code",
   "execution_count": 15,
   "metadata": {
    "scrolled": true
   },
   "outputs": [
    {
     "name": "stdout",
     "output_type": "stream",
     "text": [
      "['E' nan 'M' 'T' 'E10+' 'K-A' 'AO' 'EC' 'RP']\n"
     ]
    }
   ],
   "source": [
    "#Уникальные значения 'rating'\n",
    "print(df['rating'].unique())"
   ]
  },
  {
   "cell_type": "markdown",
   "metadata": {},
   "source": [
    "Для понимания пропусков в стобце 'rating' (рейтинг от организации ESRB) обращусь к расшифровке рейтингов.\n",
    "\n",
    "Entertainment Software Rating Board - ассоциация, которая определяет рейтинг компьютерных игр и присваивает им подходящую возрастную категорию.\n",
    "- «EC» («Early childhood») — «Для детей младшего возраста»\n",
    "- «E» («Everyone») — «Для всех»\n",
    "- «K-A» («Kids to Adults») -  «Для всех от 6 лет и старше»\n",
    "- «E10+» («Everyone 10 and older») — «Для всех от 10 лет и старше»\n",
    "- «T» («Teen») — «Подросткам» для лиц от 13 лет.\n",
    "- «M» («Mature») — «Для взрослых». Материалы игры не подходят для подростков младше 17 лет.\n",
    "- «AO» («Adults Only 18+») — «Только для взрослых»: Содержание игры только для взрослых старше 18 лет.\n",
    "- «RP» («Rating Pending») — «Рейтинг ожидается»: Продукт был отправлен в ESRB и ожидает присвоения рейтинга. \n",
    "\n",
    "Для получения рейтинга издатели присылают в ESRB видеоролики с наиболее впечатляющими и резкими сценами. Кроме того, они заполняют анкету с вопросами о содержании игры (сцены насилия, азартные игры, секс), контексте, системе наград и степени свободы игрока. Затем анкету и видео смотрят как минимум три рецензента и по итогам обсуждения выносят решение.\n",
    "\n",
    "\n",
    "*Так как есть и другие рейтинговые организации (PEGI в Европе, CERO в Японии, USK в Германии), предполагаю, что пропуски в 'rating' связаны с присвоением рейтинга иной организацией. Поэтому пропуски в 'rating' заменю на \"не применимо\" - 'not ESRB'.*\n"
   ]
  },
  {
   "cell_type": "code",
   "execution_count": 16,
   "metadata": {},
   "outputs": [],
   "source": [
    "#Заменю 'nan' на 'not ESRB'\n",
    "df['rating'] = df['rating'].fillna('not ESRB')"
   ]
  },
  {
   "cell_type": "code",
   "execution_count": 17,
   "metadata": {
    "scrolled": true
   },
   "outputs": [
    {
     "data": {
      "text/plain": [
       "name                  0\n",
       "platform              0\n",
       "year_of_release       0\n",
       "genre                 0\n",
       "na_sales              0\n",
       "eu_sales              0\n",
       "jp_sales              0\n",
       "other_sales           0\n",
       "critic_score       8461\n",
       "user_score         8981\n",
       "rating                0\n",
       "dtype: int64"
      ]
     },
     "execution_count": 17,
     "metadata": {},
     "output_type": "execute_result"
    }
   ],
   "source": [
    "#Проведу подсчет пропусков\n",
    "df.isna().sum()# подсчёт пропусков"
   ]
  },
  {
   "cell_type": "markdown",
   "metadata": {},
   "source": [
    "Пропуски остались в двух столбцах. Но замена/удаление пропусков в 'critic_score'  и  'user_score' приведет к искажению результата. Поэтому оставляю их для сохранения репрезентативности."
   ]
  },
  {
   "cell_type": "markdown",
   "metadata": {},
   "source": [
    "### Замена типов данных"
   ]
  },
  {
   "cell_type": "markdown",
   "metadata": {},
   "source": [
    "- Для дальнейшего анализа заменю тип столбца 'year_of_release' на int, т.к. указан только год, без конкретной даты. \n",
    "\n",
    "- Значения 'tbd' в 'user_score' обработаны, приведу столбец к типу float.\n",
    "- Наличие пропусков в столбце 'critic_score' не позволяет изменить тип данных на int, оставлю float/\n",
    "\n",
    "В остальных столбцах типы данных соответсвуют значениям."
   ]
  },
  {
   "cell_type": "code",
   "execution_count": 18,
   "metadata": {
    "scrolled": true
   },
   "outputs": [],
   "source": [
    "#Приведу тип 'year_of_release' к int, т.к. указан только год, без конкретной даты\n",
    "df['year_of_release'] = df['year_of_release'].astype(int)\n",
    "#Приведу тип 'user_score' к float\n",
    "df['user_score'] = df['user_score'].astype('float')"
   ]
  },
  {
   "cell_type": "code",
   "execution_count": 19,
   "metadata": {
    "scrolled": true
   },
   "outputs": [
    {
     "name": "stdout",
     "output_type": "stream",
     "text": [
      "<class 'pandas.core.frame.DataFrame'>\n",
      "Int64Index: 16444 entries, 0 to 16714\n",
      "Data columns (total 11 columns):\n",
      "name               16444 non-null object\n",
      "platform           16444 non-null object\n",
      "year_of_release    16444 non-null int64\n",
      "genre              16444 non-null object\n",
      "na_sales           16444 non-null float64\n",
      "eu_sales           16444 non-null float64\n",
      "jp_sales           16444 non-null float64\n",
      "other_sales        16444 non-null float64\n",
      "critic_score       7983 non-null float64\n",
      "user_score         7463 non-null float64\n",
      "rating             16444 non-null object\n",
      "dtypes: float64(6), int64(1), object(4)\n",
      "memory usage: 1.5+ MB\n"
     ]
    }
   ],
   "source": [
    "df.info() #Проверяю типы данных"
   ]
  },
  {
   "cell_type": "markdown",
   "metadata": {},
   "source": [
    "### Подсчет суммарных продаж во всех регионах"
   ]
  },
  {
   "cell_type": "code",
   "execution_count": 20,
   "metadata": {},
   "outputs": [
    {
     "data": {
      "text/html": [
       "<div>\n",
       "<style scoped>\n",
       "    .dataframe tbody tr th:only-of-type {\n",
       "        vertical-align: middle;\n",
       "    }\n",
       "\n",
       "    .dataframe tbody tr th {\n",
       "        vertical-align: top;\n",
       "    }\n",
       "\n",
       "    .dataframe thead th {\n",
       "        text-align: right;\n",
       "    }\n",
       "</style>\n",
       "<table border=\"1\" class=\"dataframe\">\n",
       "  <thead>\n",
       "    <tr style=\"text-align: right;\">\n",
       "      <th></th>\n",
       "      <th>name</th>\n",
       "      <th>platform</th>\n",
       "      <th>year_of_release</th>\n",
       "      <th>genre</th>\n",
       "      <th>na_sales</th>\n",
       "      <th>eu_sales</th>\n",
       "      <th>jp_sales</th>\n",
       "      <th>other_sales</th>\n",
       "      <th>critic_score</th>\n",
       "      <th>user_score</th>\n",
       "      <th>rating</th>\n",
       "      <th>total_sales</th>\n",
       "    </tr>\n",
       "  </thead>\n",
       "  <tbody>\n",
       "    <tr>\n",
       "      <td>0</td>\n",
       "      <td>Wii Sports</td>\n",
       "      <td>Wii</td>\n",
       "      <td>2006</td>\n",
       "      <td>Sports</td>\n",
       "      <td>41.36</td>\n",
       "      <td>28.96</td>\n",
       "      <td>3.77</td>\n",
       "      <td>8.45</td>\n",
       "      <td>76.0</td>\n",
       "      <td>8.0</td>\n",
       "      <td>E</td>\n",
       "      <td>82.54</td>\n",
       "    </tr>\n",
       "    <tr>\n",
       "      <td>1</td>\n",
       "      <td>Super Mario Bros.</td>\n",
       "      <td>NES</td>\n",
       "      <td>1985</td>\n",
       "      <td>Platform</td>\n",
       "      <td>29.08</td>\n",
       "      <td>3.58</td>\n",
       "      <td>6.81</td>\n",
       "      <td>0.77</td>\n",
       "      <td>NaN</td>\n",
       "      <td>NaN</td>\n",
       "      <td>not ESRB</td>\n",
       "      <td>40.24</td>\n",
       "    </tr>\n",
       "    <tr>\n",
       "      <td>2</td>\n",
       "      <td>Mario Kart Wii</td>\n",
       "      <td>Wii</td>\n",
       "      <td>2008</td>\n",
       "      <td>Racing</td>\n",
       "      <td>15.68</td>\n",
       "      <td>12.76</td>\n",
       "      <td>3.79</td>\n",
       "      <td>3.29</td>\n",
       "      <td>82.0</td>\n",
       "      <td>8.3</td>\n",
       "      <td>E</td>\n",
       "      <td>35.52</td>\n",
       "    </tr>\n",
       "    <tr>\n",
       "      <td>3</td>\n",
       "      <td>Wii Sports Resort</td>\n",
       "      <td>Wii</td>\n",
       "      <td>2009</td>\n",
       "      <td>Sports</td>\n",
       "      <td>15.61</td>\n",
       "      <td>10.93</td>\n",
       "      <td>3.28</td>\n",
       "      <td>2.95</td>\n",
       "      <td>80.0</td>\n",
       "      <td>8.0</td>\n",
       "      <td>E</td>\n",
       "      <td>32.77</td>\n",
       "    </tr>\n",
       "    <tr>\n",
       "      <td>4</td>\n",
       "      <td>Pokemon Red/Pokemon Blue</td>\n",
       "      <td>GB</td>\n",
       "      <td>1996</td>\n",
       "      <td>Role-Playing</td>\n",
       "      <td>11.27</td>\n",
       "      <td>8.89</td>\n",
       "      <td>10.22</td>\n",
       "      <td>1.00</td>\n",
       "      <td>NaN</td>\n",
       "      <td>NaN</td>\n",
       "      <td>not ESRB</td>\n",
       "      <td>31.38</td>\n",
       "    </tr>\n",
       "  </tbody>\n",
       "</table>\n",
       "</div>"
      ],
      "text/plain": [
       "                       name platform  year_of_release         genre  na_sales  \\\n",
       "0                Wii Sports      Wii             2006        Sports     41.36   \n",
       "1         Super Mario Bros.      NES             1985      Platform     29.08   \n",
       "2            Mario Kart Wii      Wii             2008        Racing     15.68   \n",
       "3         Wii Sports Resort      Wii             2009        Sports     15.61   \n",
       "4  Pokemon Red/Pokemon Blue       GB             1996  Role-Playing     11.27   \n",
       "\n",
       "   eu_sales  jp_sales  other_sales  critic_score  user_score    rating  \\\n",
       "0     28.96      3.77         8.45          76.0         8.0         E   \n",
       "1      3.58      6.81         0.77           NaN         NaN  not ESRB   \n",
       "2     12.76      3.79         3.29          82.0         8.3         E   \n",
       "3     10.93      3.28         2.95          80.0         8.0         E   \n",
       "4      8.89     10.22         1.00           NaN         NaN  not ESRB   \n",
       "\n",
       "   total_sales  \n",
       "0        82.54  \n",
       "1        40.24  \n",
       "2        35.52  \n",
       "3        32.77  \n",
       "4        31.38  "
      ]
     },
     "execution_count": 20,
     "metadata": {},
     "output_type": "execute_result"
    }
   ],
   "source": [
    "# Посчитаю количество продаж во всех регионах и запишу в отдельный столбец\n",
    "df['total_sales'] = df['na_sales'] + df['eu_sales'] + df['jp_sales'] + df['other_sales']\n",
    "\n",
    "df.head() #выведу первые строчки таблицы"
   ]
  },
  {
   "cell_type": "markdown",
   "metadata": {},
   "source": [
    "### Вывод\n",
    "\n",
    "Была проведена предобработка данных:\n",
    " - Названия столбцов были приведены к единому стилю;\n",
    " - Удалены строки с пропущенными данными в названии, жанре и дате релиза;\n",
    " - Проведена проверка на дубликаты;\n",
    " - Найдено артефактное значение 'tbd' (незаполненный пользовательский рейтинг) в user_score, заменено на NaN;\n",
    " - Выяснено, что пропуски в столбце rating связаны с наличием различных рейтинговых ассоциаций;\n",
    " - Обработаны пропуски где это было возможно. Пропуски в столбцах critic_score и user_score остались, для сохранения  репрезентативности;\n",
    " - Проведена замена типов данных;\n",
    " - Добавлен столбец с суммой продаж по всем регионам."
   ]
  },
  {
   "cell_type": "markdown",
   "metadata": {},
   "source": [
    "## Исследовательский анализ данных"
   ]
  },
  {
   "cell_type": "markdown",
   "metadata": {},
   "source": [
    "1. Посмотрите, сколько игр выпускалось в разные годы. Важны ли данные за все периоды?\n",
    "2. Посмотрите, как менялись продажи по платформам. Выберите платформы с наибольшими суммарными продажами и постройте распределение по годам. За какой характерный срок появляются новые и исчезают старые платформы?\n",
    "3. Возьмите данные за соответствующий актуальный период. Актуальный период определите самостоятельно в результате исследования предыдущих вопросов. Основной фактор — эти данные помогут построить прогноз на 2017 год.\n",
    "4. Не учитывайте в работе данные за предыдущие годы.\n",
    "5. Какие платформы лидируют по продажам, растут или падают? Выберите несколько потенциально прибыльных платформ.\n",
    "6. Постройте график «ящик с усами» по глобальным продажам игр в разбивке по платформам. Опишите результат.\n",
    "7. Посмотрите, как влияют на продажи внутри одной популярной платформы отзывы пользователей и критиков. Постройте диаграмму рассеяния и посчитайте корреляцию между отзывами и продажами. Сформулируйте выводы.\n",
    "8. Соотнесите выводы с продажами игр на других платформах.\n",
    "9. Посмотрите на общее распределение игр по жанрам. Что можно сказать о самых прибыльных жанрах? Выделяются ли жанры с высокими и низкими продажами?"
   ]
  },
  {
   "cell_type": "markdown",
   "metadata": {},
   "source": [
    "### Посмотрите, сколько игр выпускалось в разные годы. \n",
    "Важны ли данные за все периоды?"
   ]
  },
  {
   "cell_type": "code",
   "execution_count": 21,
   "metadata": {
    "scrolled": false
   },
   "outputs": [
    {
     "data": {
      "text/plain": [
       "Text(0.5, 1.0, 'Количество выпущенных игр по годам')"
      ]
     },
     "execution_count": 21,
     "metadata": {},
     "output_type": "execute_result"
    },
    {
     "data": {
      "image/png": "[encoded data removed]",
      "text/plain": [
       "<Figure size 1080x360 with 1 Axes>"
      ]
     },
     "metadata": {
      "needs_background": "light"
     },
     "output_type": "display_data"
    }
   ],
   "source": [
    "plt.figure(figsize=(15,5))\n",
    "df.groupby('year_of_release')['name'].count().plot(kind='bar', rot=45)\n",
    "plt.title('Количество выпущенных игр по годам')"
   ]
  },
  {
   "cell_type": "markdown",
   "metadata": {},
   "source": [
    "**Вывод:**\n",
    "По графику видно, что до 1994 года практически не выпускалось компьютерных игр. С началом появления домашних пк и развитием програмного обеспечения начинается и рост количества игр. В 2002 года произошел резкий скачок выпущенных за год компьютерных игр. И их количество стремительно увеличивалось вплоть до 2008-2009 годов. Далее начинается спад, связанный видимо с развитием мобильных устройств и переход людей на мобильные платформы. Падение спроса привело к уменьшению количества производимых игр."
   ]
  },
  {
   "cell_type": "markdown",
   "metadata": {},
   "source": [
    "### Посмотрите, как менялись продажи по платформам. \n",
    "Выберите платформы с наибольшими суммарными продажами и постройте распределение по годам. За какой характерный срок появляются новые и исчезают старые платформы?"
   ]
  },
  {
   "cell_type": "code",
   "execution_count": 22,
   "metadata": {
    "scrolled": true
   },
   "outputs": [
    {
     "data": {
      "text/html": [
       "<div>\n",
       "<style scoped>\n",
       "    .dataframe tbody tr th:only-of-type {\n",
       "        vertical-align: middle;\n",
       "    }\n",
       "\n",
       "    .dataframe tbody tr th {\n",
       "        vertical-align: top;\n",
       "    }\n",
       "\n",
       "    .dataframe thead th {\n",
       "        text-align: right;\n",
       "    }\n",
       "</style>\n",
       "<table border=\"1\" class=\"dataframe\">\n",
       "  <thead>\n",
       "    <tr style=\"text-align: right;\">\n",
       "      <th></th>\n",
       "      <th>Сумарные продажи, млн. копий</th>\n",
       "    </tr>\n",
       "    <tr>\n",
       "      <th>platform</th>\n",
       "      <th></th>\n",
       "    </tr>\n",
       "  </thead>\n",
       "  <tbody>\n",
       "    <tr>\n",
       "      <td>PS2</td>\n",
       "      <td>1233.56</td>\n",
       "    </tr>\n",
       "    <tr>\n",
       "      <td>X360</td>\n",
       "      <td>961.24</td>\n",
       "    </tr>\n",
       "    <tr>\n",
       "      <td>PS3</td>\n",
       "      <td>931.34</td>\n",
       "    </tr>\n",
       "    <tr>\n",
       "      <td>Wii</td>\n",
       "      <td>891.18</td>\n",
       "    </tr>\n",
       "    <tr>\n",
       "      <td>DS</td>\n",
       "      <td>802.78</td>\n",
       "    </tr>\n",
       "    <tr>\n",
       "      <td>PS</td>\n",
       "      <td>727.58</td>\n",
       "    </tr>\n",
       "    <tr>\n",
       "      <td>PS4</td>\n",
       "      <td>314.14</td>\n",
       "    </tr>\n",
       "    <tr>\n",
       "      <td>GBA</td>\n",
       "      <td>312.88</td>\n",
       "    </tr>\n",
       "    <tr>\n",
       "      <td>PSP</td>\n",
       "      <td>289.53</td>\n",
       "    </tr>\n",
       "    <tr>\n",
       "      <td>3DS</td>\n",
       "      <td>257.81</td>\n",
       "    </tr>\n",
       "  </tbody>\n",
       "</table>\n",
       "</div>"
      ],
      "text/plain": [
       "          Сумарные продажи, млн. копий\n",
       "platform                              \n",
       "PS2                            1233.56\n",
       "X360                            961.24\n",
       "PS3                             931.34\n",
       "Wii                             891.18\n",
       "DS                              802.78\n",
       "PS                              727.58\n",
       "PS4                             314.14\n",
       "GBA                             312.88\n",
       "PSP                             289.53\n",
       "3DS                             257.81"
      ]
     },
     "metadata": {},
     "output_type": "display_data"
    }
   ],
   "source": [
    "platforms = df.groupby('platform').agg({'total_sales': 'sum'}).sort_values(by = 'total_sales', ascending= False).head(10)\n",
    "platforms.columns = ['Сумарные продажи, млн. копий']\n",
    "display(platforms)"
   ]
  },
  {
   "cell_type": "markdown",
   "metadata": {},
   "source": [
    "Из 10 платформ с наибольшими продажами отберу 6 (т.к. между 6 и 7 платформой наблюдается разрыв в выручке более чем в 2 раза). "
   ]
  },
  {
   "cell_type": "code",
   "execution_count": 23,
   "metadata": {
    "scrolled": true
   },
   "outputs": [
    {
     "name": "stdout",
     "output_type": "stream",
     "text": [
      "Index(['PS2', 'X360', 'PS3', 'Wii', 'DS', 'PS'], dtype='object', name='platform')\n"
     ]
    }
   ],
   "source": [
    "top_6_ind = platforms.head(6).index\n",
    "print(top_6_ind)"
   ]
  },
  {
   "cell_type": "code",
   "execution_count": 24,
   "metadata": {
    "scrolled": false
   },
   "outputs": [
    {
     "data": {
      "text/html": [
       "<div>\n",
       "<style scoped>\n",
       "    .dataframe tbody tr th:only-of-type {\n",
       "        vertical-align: middle;\n",
       "    }\n",
       "\n",
       "    .dataframe tbody tr th {\n",
       "        vertical-align: top;\n",
       "    }\n",
       "\n",
       "    .dataframe thead th {\n",
       "        text-align: right;\n",
       "    }\n",
       "</style>\n",
       "<table border=\"1\" class=\"dataframe\">\n",
       "  <thead>\n",
       "    <tr style=\"text-align: right;\">\n",
       "      <th></th>\n",
       "      <th>name</th>\n",
       "      <th>platform</th>\n",
       "      <th>year_of_release</th>\n",
       "      <th>genre</th>\n",
       "      <th>na_sales</th>\n",
       "      <th>eu_sales</th>\n",
       "      <th>jp_sales</th>\n",
       "      <th>other_sales</th>\n",
       "      <th>critic_score</th>\n",
       "      <th>user_score</th>\n",
       "      <th>rating</th>\n",
       "      <th>total_sales</th>\n",
       "    </tr>\n",
       "  </thead>\n",
       "  <tbody>\n",
       "    <tr>\n",
       "      <td>0</td>\n",
       "      <td>Wii Sports</td>\n",
       "      <td>Wii</td>\n",
       "      <td>2006</td>\n",
       "      <td>Sports</td>\n",
       "      <td>41.36</td>\n",
       "      <td>28.96</td>\n",
       "      <td>3.77</td>\n",
       "      <td>8.45</td>\n",
       "      <td>76.0</td>\n",
       "      <td>8.0</td>\n",
       "      <td>E</td>\n",
       "      <td>82.54</td>\n",
       "    </tr>\n",
       "    <tr>\n",
       "      <td>2</td>\n",
       "      <td>Mario Kart Wii</td>\n",
       "      <td>Wii</td>\n",
       "      <td>2008</td>\n",
       "      <td>Racing</td>\n",
       "      <td>15.68</td>\n",
       "      <td>12.76</td>\n",
       "      <td>3.79</td>\n",
       "      <td>3.29</td>\n",
       "      <td>82.0</td>\n",
       "      <td>8.3</td>\n",
       "      <td>E</td>\n",
       "      <td>35.52</td>\n",
       "    </tr>\n",
       "    <tr>\n",
       "      <td>3</td>\n",
       "      <td>Wii Sports Resort</td>\n",
       "      <td>Wii</td>\n",
       "      <td>2009</td>\n",
       "      <td>Sports</td>\n",
       "      <td>15.61</td>\n",
       "      <td>10.93</td>\n",
       "      <td>3.28</td>\n",
       "      <td>2.95</td>\n",
       "      <td>80.0</td>\n",
       "      <td>8.0</td>\n",
       "      <td>E</td>\n",
       "      <td>32.77</td>\n",
       "    </tr>\n",
       "    <tr>\n",
       "      <td>6</td>\n",
       "      <td>New Super Mario Bros.</td>\n",
       "      <td>DS</td>\n",
       "      <td>2006</td>\n",
       "      <td>Platform</td>\n",
       "      <td>11.28</td>\n",
       "      <td>9.14</td>\n",
       "      <td>6.50</td>\n",
       "      <td>2.88</td>\n",
       "      <td>89.0</td>\n",
       "      <td>8.5</td>\n",
       "      <td>E</td>\n",
       "      <td>29.80</td>\n",
       "    </tr>\n",
       "    <tr>\n",
       "      <td>7</td>\n",
       "      <td>Wii Play</td>\n",
       "      <td>Wii</td>\n",
       "      <td>2006</td>\n",
       "      <td>Misc</td>\n",
       "      <td>13.96</td>\n",
       "      <td>9.18</td>\n",
       "      <td>2.93</td>\n",
       "      <td>2.84</td>\n",
       "      <td>58.0</td>\n",
       "      <td>6.6</td>\n",
       "      <td>E</td>\n",
       "      <td>28.91</td>\n",
       "    </tr>\n",
       "  </tbody>\n",
       "</table>\n",
       "</div>"
      ],
      "text/plain": [
       "                    name platform  year_of_release     genre  na_sales  \\\n",
       "0             Wii Sports      Wii             2006    Sports     41.36   \n",
       "2         Mario Kart Wii      Wii             2008    Racing     15.68   \n",
       "3      Wii Sports Resort      Wii             2009    Sports     15.61   \n",
       "6  New Super Mario Bros.       DS             2006  Platform     11.28   \n",
       "7               Wii Play      Wii             2006      Misc     13.96   \n",
       "\n",
       "   eu_sales  jp_sales  other_sales  critic_score  user_score rating  \\\n",
       "0     28.96      3.77         8.45          76.0         8.0      E   \n",
       "2     12.76      3.79         3.29          82.0         8.3      E   \n",
       "3     10.93      3.28         2.95          80.0         8.0      E   \n",
       "6      9.14      6.50         2.88          89.0         8.5      E   \n",
       "7      9.18      2.93         2.84          58.0         6.6      E   \n",
       "\n",
       "   total_sales  \n",
       "0        82.54  \n",
       "2        35.52  \n",
       "3        32.77  \n",
       "6        29.80  \n",
       "7        28.91  "
      ]
     },
     "metadata": {},
     "output_type": "display_data"
    }
   ],
   "source": [
    "df_top = df.query('platform in @top_6_ind')\n",
    "display(df_top.head())"
   ]
  },
  {
   "cell_type": "code",
   "execution_count": 25,
   "metadata": {
    "scrolled": true
   },
   "outputs": [
    {
     "data": {
      "text/plain": [
       "Text(0.5, 1.0, 'Распределение по годам для платформ с наибольшими суммарными продажами')"
      ]
     },
     "execution_count": 25,
     "metadata": {},
     "output_type": "execute_result"
    },
    {
     "data": {
      "image/png": "[encoded data removed]",
      "text/plain": [
       "<Figure size 1080x360 with 1 Axes>"
      ]
     },
     "metadata": {
      "needs_background": "light"
     },
     "output_type": "display_data"
    }
   ],
   "source": [
    "#Построю график распределения платформ по годам\n",
    "df_top.pivot_table(index = 'year_of_release'\\\n",
    "                   ,columns = 'platform', values = 'total_sales', aggfunc = 'sum').plot(figsize=(15,5))\n",
    "plt.xlim(1995, 2016)\n",
    "plt.title('Распределение по годам для платформ с наибольшими суммарными продажами')"
   ]
  },
  {
   "cell_type": "markdown",
   "metadata": {},
   "source": [
    "**Вывод:**\n",
    "По графику видно, что половину жизненого цикла продажи по каждой платформе падают. Таким образом, чтобы обозначить актуальный период, весь срок жизни платформы нужно разделить на два. Посчитаю средний срок жизни наиболее продаваемых платформ и разделю его на два. Получившееся число буду считать сроком актуального периода. "
   ]
  },
  {
   "cell_type": "markdown",
   "metadata": {},
   "source": [
    "### Возьмите данные за соответствующий актуальный период. \n",
    "\n",
    "Чтобы обозначить актуальный период, весь срок жизни платформы нужно разделить на два (так как половину жизненого цикла продажи по каждой платформе падают). Посчитаю средний срок жизни наиболее продаваемых платформ и разделю его на два. Получившееся число буду считать сроком актуального периода."
   ]
  },
  {
   "cell_type": "code",
   "execution_count": 26,
   "metadata": {
    "scrolled": true
   },
   "outputs": [
    {
     "name": "stdout",
     "output_type": "stream",
     "text": [
      "year_of_release    5.0\n",
      "dtype: float64\n"
     ]
    }
   ],
   "source": [
    "#Посчитаю средний срок жизни наиболее продаваемых платформ и разделю его на два. Значение округлю до целых годов вниз\n",
    "actual_period = np.floor(df_top.groupby(['platform','year_of_release']).agg({'total_sales' : 'sum'})\\\n",
    "    .reset_index().groupby('platform').agg({'year_of_release': 'nunique'}).mean()/2)\n",
    "print( actual_period)"
   ]
  },
  {
   "cell_type": "markdown",
   "metadata": {},
   "source": [
    "Итак, буду считать актуальным периодом 5 лет. Т.к. прогноз строим на 2017 год, далее буду рассматривать данные начиная с 2012 года. **Далее в работе данные за предыдущие годы учитывать не буду.**"
   ]
  },
  {
   "cell_type": "code",
   "execution_count": 27,
   "metadata": {},
   "outputs": [],
   "source": [
    "df= df.query('year_of_release >= 2012')"
   ]
  },
  {
   "cell_type": "markdown",
   "metadata": {},
   "source": [
    "### Какие платформы лидируют по продажам, растут или падают? Выберите несколько потенциально прибыльных платформ."
   ]
  },
  {
   "cell_type": "code",
   "execution_count": 28,
   "metadata": {
    "scrolled": true
   },
   "outputs": [
    {
     "data": {
      "text/plain": [
       "Text(0.5, 1.0, 'Суммарные продажи по платформам, 2012-2016 г.')"
      ]
     },
     "execution_count": 28,
     "metadata": {},
     "output_type": "execute_result"
    },
    {
     "data": {
      "image/png": "[encoded data removed]",
      "text/plain": [
       "<Figure size 720x504 with 1 Axes>"
      ]
     },
     "metadata": {
      "needs_background": "light"
     },
     "output_type": "display_data"
    }
   ],
   "source": [
    "#Отсортирую платформы по суммарным продажам\n",
    "plt.figure(figsize=(10,7))\n",
    "df.groupby('platform')['total_sales'].sum().sort_values().plot(kind='barh', rot=45)\n",
    "plt.title('Суммарные продажи по платформам, 2012-2016 г.')"
   ]
  },
  {
   "cell_type": "code",
   "execution_count": 29,
   "metadata": {
    "scrolled": false
   },
   "outputs": [
    {
     "data": {
      "text/html": [
       "<div>\n",
       "<style scoped>\n",
       "    .dataframe tbody tr th:only-of-type {\n",
       "        vertical-align: middle;\n",
       "    }\n",
       "\n",
       "    .dataframe tbody tr th {\n",
       "        vertical-align: top;\n",
       "    }\n",
       "\n",
       "    .dataframe thead th {\n",
       "        text-align: right;\n",
       "    }\n",
       "</style>\n",
       "<table border=\"1\" class=\"dataframe\">\n",
       "  <thead>\n",
       "    <tr style=\"text-align: right;\">\n",
       "      <th></th>\n",
       "      <th>Сумарные продажи, млн. копий</th>\n",
       "    </tr>\n",
       "    <tr>\n",
       "      <th>platform</th>\n",
       "      <th></th>\n",
       "    </tr>\n",
       "  </thead>\n",
       "  <tbody>\n",
       "    <tr>\n",
       "      <td>PS4</td>\n",
       "      <td>314.14</td>\n",
       "    </tr>\n",
       "    <tr>\n",
       "      <td>PS3</td>\n",
       "      <td>288.79</td>\n",
       "    </tr>\n",
       "    <tr>\n",
       "      <td>X360</td>\n",
       "      <td>236.54</td>\n",
       "    </tr>\n",
       "    <tr>\n",
       "      <td>3DS</td>\n",
       "      <td>194.61</td>\n",
       "    </tr>\n",
       "    <tr>\n",
       "      <td>XOne</td>\n",
       "      <td>159.32</td>\n",
       "    </tr>\n",
       "    <tr>\n",
       "      <td>WiiU</td>\n",
       "      <td>82.19</td>\n",
       "    </tr>\n",
       "    <tr>\n",
       "      <td>PC</td>\n",
       "      <td>62.65</td>\n",
       "    </tr>\n",
       "    <tr>\n",
       "      <td>PSV</td>\n",
       "      <td>49.18</td>\n",
       "    </tr>\n",
       "    <tr>\n",
       "      <td>Wii</td>\n",
       "      <td>35.37</td>\n",
       "    </tr>\n",
       "    <tr>\n",
       "      <td>DS</td>\n",
       "      <td>12.55</td>\n",
       "    </tr>\n",
       "    <tr>\n",
       "      <td>PSP</td>\n",
       "      <td>11.19</td>\n",
       "    </tr>\n",
       "  </tbody>\n",
       "</table>\n",
       "</div>"
      ],
      "text/plain": [
       "          Сумарные продажи, млн. копий\n",
       "platform                              \n",
       "PS4                             314.14\n",
       "PS3                             288.79\n",
       "X360                            236.54\n",
       "3DS                             194.61\n",
       "XOne                            159.32\n",
       "WiiU                             82.19\n",
       "PC                               62.65\n",
       "PSV                              49.18\n",
       "Wii                              35.37\n",
       "DS                               12.55\n",
       "PSP                              11.19"
      ]
     },
     "metadata": {},
     "output_type": "display_data"
    }
   ],
   "source": [
    "platforms = df.groupby('platform').agg({'total_sales': 'sum'}).sort_values(by = 'total_sales', ascending= False)\n",
    "platforms.columns = ['Сумарные продажи, млн. копий']\n",
    "display(platforms)"
   ]
  },
  {
   "cell_type": "code",
   "execution_count": 30,
   "metadata": {},
   "outputs": [],
   "source": [
    "top_5_ind = platforms.head().index\n",
    "df_top_5 = df.query('platform in @top_5_ind') #Отбираю 5 самых прибыльных платформ"
   ]
  },
  {
   "cell_type": "code",
   "execution_count": 31,
   "metadata": {
    "scrolled": false
   },
   "outputs": [
    {
     "data": {
      "text/plain": [
       "Text(0.5, 1.0, 'Распределение продаж по годам для самых прибыльных платформ, 2012-2016г.')"
      ]
     },
     "execution_count": 31,
     "metadata": {},
     "output_type": "execute_result"
    },
    {
     "data": {
      "image/png": "[encoded data removed]",
      "text/plain": [
       "<Figure size 720x360 with 1 Axes>"
      ]
     },
     "metadata": {
      "needs_background": "light"
     },
     "output_type": "display_data"
    }
   ],
   "source": [
    "df_top_5.pivot_table(index = 'year_of_release'\\\n",
    "                   ,columns = 'platform', values = 'total_sales', aggfunc = 'sum').plot(figsize=(10,5))\n",
    "plt.xlim(2012, 2016)\n",
    "plt.title('Распределение продаж по годам для самых прибыльных платформ, 2012-2016г.')"
   ]
  },
  {
   "cell_type": "markdown",
   "metadata": {},
   "source": [
    "**Вывод:**\n",
    "\n",
    "Как было уже замечено ранее, абсолютно по всем платформам заметен спад продаж игр. Это связано с общим снижением на рынке игр. Кроме того спад также может быть связан с неполнотой данных за 2016 год.\n",
    "\n",
    "Отберу 3 наиболее потенциально прибыльных платформы (те, по которым паденее меньше):\n",
    " - **PS4** (входит в семейство игровых приставок PlayStation, выпускается японской компанией Sony);\n",
    " - **XOne** (Xbox One — третья по счёту игровая приставка от компании Microsoft);\n",
    " - **3DS** (Nintendo 3DS - портативная игровая система производства Nintendo, Япония). "
   ]
  },
  {
   "cell_type": "markdown",
   "metadata": {},
   "source": [
    "### Постройте график «ящик с усами» по глобальным продажам игр в разбивке по платформам. Опишите результат."
   ]
  },
  {
   "cell_type": "code",
   "execution_count": 32,
   "metadata": {
    "scrolled": true
   },
   "outputs": [
    {
     "data": {
      "text/plain": [
       "Text(0.5, 1.0, 'Диаграмма размаха продаж игр в разбивке по платформам, 2012-2016г.')"
      ]
     },
     "execution_count": 32,
     "metadata": {},
     "output_type": "execute_result"
    },
    {
     "data": {
      "image/png": "[encoded data removed]",
      "text/plain": [
       "<Figure size 720x720 with 1 Axes>"
      ]
     },
     "metadata": {
      "needs_background": "light"
     },
     "output_type": "display_data"
    }
   ],
   "source": [
    "df.boxplot(column='total_sales', by='platform', figsize=(10,10))\n",
    "plt.ylim(0, 2)\n",
    "plt.xlabel('Название платформы')\n",
    "plt.ylabel('Выручка с игры, млн. долл.')\n",
    "plt.title('Диаграмма размаха продаж игр в разбивке по платформам, 2012-2016г.')"
   ]
  },
  {
   "cell_type": "markdown",
   "metadata": {},
   "source": [
    "**Вывод:**\n",
    "\n",
    "Самое высокое значение медианной выручки с игры наблюдается у платформы X360, причем при самой высокой границе нормальных значений - почти 2 млн долларов. Занятно, что именно по ней наблюдается самый большой спад из всех топовых платформ к концу 2016 года. X360 была выпущена в конце 2005 года и была своего рода прорывом, а к 2016 году жизненый цикл платформы завершается.\n",
    "Разберу 3 наиболее потенциально прибыльные платформы:\n",
    "- **PS4**: медианное значение выручки около 0,2 млн долларов за игру (схожее значение у PS3 и Wii), основная часть (от 25% до 75%) игр продается в промежутке от 0.07 до 0.73 млн. долларов, высокая верхняя граница нормальных значений - 1.75 млн. долларов.\n",
    "- **XOne**: медианное значение выручки чуть выше чем у PS4 (около 0,23 млн долларов, наравне с WiiU), основная часть игр продается в промежутке от 0.07 до 0.7 млн. долларов, высокая верхняя граница нормальных значений - 1.6 млн долларов. В целом, прибыльность схожа  с платформой PS4.\n",
    "- **3DS**: имеет не такие высокие показатели продаж. Медиана - чуть ниже 0.125 млн.долл., 75% игр продаются до 0.3 млн.долл., верхняя граница не доходит до 0.75 млн.долл.\n",
    "\n",
    "Продажи игр для портативных игровым консолей в целом значительно ниже. У PSP показатели самые низкие. Продажи для основной массы игр на этой платформе составили менее 0.125 млн.долл. Чуть выше показатели следжующего поколения- PSV и японской Nintendo DS.\n"
   ]
  },
  {
   "cell_type": "markdown",
   "metadata": {},
   "source": [
    "### Посмотрите, как влияют на продажи внутри одной популярной платформы отзывы пользователей и критиков. \n",
    "\n",
    "Постройте диаграмму рассеяния и посчитайте корреляцию между отзывами и продажами. Сформулируйте выводы."
   ]
  },
  {
   "cell_type": "markdown",
   "metadata": {},
   "source": [
    "На примере одной популярной и потенциально прибыльной платформы **PS4** изучу влияние отзывы пользователей и критиков на продажи."
   ]
  },
  {
   "cell_type": "code",
   "execution_count": 33,
   "metadata": {
    "scrolled": true
   },
   "outputs": [
    {
     "data": {
      "text/html": [
       "<div>\n",
       "<style scoped>\n",
       "    .dataframe tbody tr th:only-of-type {\n",
       "        vertical-align: middle;\n",
       "    }\n",
       "\n",
       "    .dataframe tbody tr th {\n",
       "        vertical-align: top;\n",
       "    }\n",
       "\n",
       "    .dataframe thead th {\n",
       "        text-align: right;\n",
       "    }\n",
       "</style>\n",
       "<table border=\"1\" class=\"dataframe\">\n",
       "  <thead>\n",
       "    <tr style=\"text-align: right;\">\n",
       "      <th></th>\n",
       "      <th>name</th>\n",
       "      <th>platform</th>\n",
       "      <th>year_of_release</th>\n",
       "      <th>genre</th>\n",
       "      <th>na_sales</th>\n",
       "      <th>eu_sales</th>\n",
       "      <th>jp_sales</th>\n",
       "      <th>other_sales</th>\n",
       "      <th>critic_score</th>\n",
       "      <th>user_score</th>\n",
       "      <th>rating</th>\n",
       "      <th>total_sales</th>\n",
       "    </tr>\n",
       "  </thead>\n",
       "  <tbody>\n",
       "    <tr>\n",
       "      <td>16486</td>\n",
       "      <td>Super Dungeon Bros</td>\n",
       "      <td>PS4</td>\n",
       "      <td>2016</td>\n",
       "      <td>Action</td>\n",
       "      <td>0.01</td>\n",
       "      <td>0.0</td>\n",
       "      <td>0.00</td>\n",
       "      <td>0.0</td>\n",
       "      <td>42.0</td>\n",
       "      <td>2.3</td>\n",
       "      <td>E10+</td>\n",
       "      <td>0.01</td>\n",
       "    </tr>\n",
       "    <tr>\n",
       "      <td>16499</td>\n",
       "      <td>Sherlock Holmes: The Devil's Daughter</td>\n",
       "      <td>PS4</td>\n",
       "      <td>2016</td>\n",
       "      <td>Adventure</td>\n",
       "      <td>0.01</td>\n",
       "      <td>0.0</td>\n",
       "      <td>0.00</td>\n",
       "      <td>0.0</td>\n",
       "      <td>70.0</td>\n",
       "      <td>6.8</td>\n",
       "      <td>T</td>\n",
       "      <td>0.01</td>\n",
       "    </tr>\n",
       "    <tr>\n",
       "      <td>16500</td>\n",
       "      <td>Root Letter</td>\n",
       "      <td>PS4</td>\n",
       "      <td>2016</td>\n",
       "      <td>Adventure</td>\n",
       "      <td>0.00</td>\n",
       "      <td>0.0</td>\n",
       "      <td>0.01</td>\n",
       "      <td>0.0</td>\n",
       "      <td>69.0</td>\n",
       "      <td>7.5</td>\n",
       "      <td>not ESRB</td>\n",
       "      <td>0.01</td>\n",
       "    </tr>\n",
       "    <tr>\n",
       "      <td>16526</td>\n",
       "      <td>Dungeons 2</td>\n",
       "      <td>PS4</td>\n",
       "      <td>2016</td>\n",
       "      <td>Role-Playing</td>\n",
       "      <td>0.01</td>\n",
       "      <td>0.0</td>\n",
       "      <td>0.00</td>\n",
       "      <td>0.0</td>\n",
       "      <td>61.0</td>\n",
       "      <td>7.9</td>\n",
       "      <td>T</td>\n",
       "      <td>0.01</td>\n",
       "    </tr>\n",
       "    <tr>\n",
       "      <td>16530</td>\n",
       "      <td>Carmageddon: Max Damage</td>\n",
       "      <td>PS4</td>\n",
       "      <td>2016</td>\n",
       "      <td>Action</td>\n",
       "      <td>0.01</td>\n",
       "      <td>0.0</td>\n",
       "      <td>0.00</td>\n",
       "      <td>0.0</td>\n",
       "      <td>51.0</td>\n",
       "      <td>5.5</td>\n",
       "      <td>M</td>\n",
       "      <td>0.01</td>\n",
       "    </tr>\n",
       "  </tbody>\n",
       "</table>\n",
       "</div>"
      ],
      "text/plain": [
       "                                        name platform  year_of_release  \\\n",
       "16486                     Super Dungeon Bros      PS4             2016   \n",
       "16499  Sherlock Holmes: The Devil's Daughter      PS4             2016   \n",
       "16500                            Root Letter      PS4             2016   \n",
       "16526                             Dungeons 2      PS4             2016   \n",
       "16530                Carmageddon: Max Damage      PS4             2016   \n",
       "\n",
       "              genre  na_sales  eu_sales  jp_sales  other_sales  critic_score  \\\n",
       "16486        Action      0.01       0.0      0.00          0.0          42.0   \n",
       "16499     Adventure      0.01       0.0      0.00          0.0          70.0   \n",
       "16500     Adventure      0.00       0.0      0.01          0.0          69.0   \n",
       "16526  Role-Playing      0.01       0.0      0.00          0.0          61.0   \n",
       "16530        Action      0.01       0.0      0.00          0.0          51.0   \n",
       "\n",
       "       user_score    rating  total_sales  \n",
       "16486         2.3      E10+         0.01  \n",
       "16499         6.8         T         0.01  \n",
       "16500         7.5  not ESRB         0.01  \n",
       "16526         7.9         T         0.01  \n",
       "16530         5.5         M         0.01  "
      ]
     },
     "metadata": {},
     "output_type": "display_data"
    }
   ],
   "source": [
    "#Сделаю выборку по PS4\n",
    "df_ps4 = df.query('platform == \"PS4\" and (critic_score > 0 or user_score > 0)')\n",
    "display(df_ps4.tail())"
   ]
  },
  {
   "cell_type": "code",
   "execution_count": 34,
   "metadata": {
    "scrolled": false
   },
   "outputs": [
    {
     "name": "stdout",
     "output_type": "stream",
     "text": [
      "Зависимость продаж по платформе PS4 от отзывов критиков\n",
      "Коэффициент корреляции Пирсона: 0.406567902061781\n"
     ]
    },
    {
     "data": {
      "text/plain": [
       "Text(0.5, 1.0, 'Диаграмма рассеяния. Зависимость продаж по платформе PS4 от отзывов критиков')"
      ]
     },
     "execution_count": 34,
     "metadata": {},
     "output_type": "execute_result"
    },
    {
     "data": {
      "image/png": "[encoded data removed]",
      "text/plain": [
       "<Figure size 648x360 with 1 Axes>"
      ]
     },
     "metadata": {
      "needs_background": "light"
     },
     "output_type": "display_data"
    }
   ],
   "source": [
    "#Проверю зависимость продаж игр на платформе PS4 от отзывов критиков \n",
    "print('Зависимость продаж по платформе PS4 от отзывов критиков')\n",
    "print('Коэффициент корреляции Пирсона:', df_ps4['total_sales'].corr(df_ps4['critic_score']))\n",
    "df_ps4.plot(x='total_sales', y='critic_score', kind='scatter', figsize=(9, 5)) \n",
    "plt.title('Диаграмма рассеяния. Зависимость продаж по платформе PS4 от отзывов критиков')"
   ]
  },
  {
   "cell_type": "markdown",
   "metadata": {},
   "source": [
    "Кореляция продаж от отзывов критиков составляет 0.4, что показывает умеренную линейную взаимосвязь. \n",
    "\n",
    "Диаграмма рассеяния подтверждает - с увеличением рейтинга критиков увеличивается и уровень выручки."
   ]
  },
  {
   "cell_type": "code",
   "execution_count": 35,
   "metadata": {
    "scrolled": false
   },
   "outputs": [
    {
     "name": "stdout",
     "output_type": "stream",
     "text": [
      "Зависимость продаж по платформе PS4 от отзывов пользователей\n",
      "Коэффициент корреляции Пирсона: -0.031957110204556424\n"
     ]
    },
    {
     "data": {
      "text/plain": [
       "Text(0.5, 1.0, 'Диаграмма рассеяния. Зависимость продаж по платформе PS4 от отзывов пользователей ')"
      ]
     },
     "execution_count": 35,
     "metadata": {},
     "output_type": "execute_result"
    },
    {
     "data": {
      "image/png": "[encoded data removed]",
      "text/plain": [
       "<Figure size 648x360 with 1 Axes>"
      ]
     },
     "metadata": {
      "needs_background": "light"
     },
     "output_type": "display_data"
    }
   ],
   "source": [
    "#Проверю зависимость продаж игр на платформе PS4 от отзывов пользователей \n",
    "print('Зависимость продаж по платформе PS4 от отзывов пользователей')\n",
    "print('Коэффициент корреляции Пирсона:', df_ps4['total_sales'].corr(df_ps4['user_score']))\n",
    "df_ps4.plot(x='total_sales', y='user_score', kind='scatter', figsize=(9, 5)) \n",
    "plt.title('Диаграмма рассеяния. Зависимость продаж по платформе PS4 от отзывов пользователей ')"
   ]
  },
  {
   "cell_type": "markdown",
   "metadata": {},
   "source": [
    "Кореляция продаж от отзывов пользователей стремится к 0, т.е. прямая взаимосвязь между уровнем продаж и отзывами пользователей отсутсвует.  \n",
    "На графике видно, что игры с самыми высокими продажами часто получают средние рейтинги пользователей. Т.е. пользователи более критичны в отношении игр и разброс оценок пользователей в целом шире оценок критиков. "
   ]
  },
  {
   "cell_type": "code",
   "execution_count": 36,
   "metadata": {
    "scrolled": false
   },
   "outputs": [
    {
     "data": {
      "text/plain": [
       "Text(0.5, 1.0, 'Зависимость уровня продаж от отзывов критиков и пользователей')"
      ]
     },
     "execution_count": 36,
     "metadata": {},
     "output_type": "execute_result"
    },
    {
     "data": {
      "image/png": "[encoded data removed]",
      "text/plain": [
       "<Figure size 720x360 with 1 Axes>"
      ]
     },
     "metadata": {
      "needs_background": "light"
     },
     "output_type": "display_data"
    }
   ],
   "source": [
    "plt.figure(figsize=(10,5)) \n",
    "sns.scatterplot(data=df_ps4.query('critic_score > 0 and user_score > 0'), x='critic_score', y='user_score', s = 40, hue='total_sales', palette = \"Set3\" )\n",
    "plt.title('Зависимость уровня продаж от отзывов критиков и пользователей')"
   ]
  },
  {
   "cell_type": "markdown",
   "metadata": {},
   "source": [
    "При совмещении оценок критиков и пользователей заметно, что самые  прибыльные игры почти всегда имеют высокие оценки критиков, при этом пользователи оценивают игры критичнее. Но при этом, оценки пользователей часто совпадают с оценками критиков. \n"
   ]
  },
  {
   "cell_type": "markdown",
   "metadata": {},
   "source": [
    "**Вывод**:\n",
    "\n",
    "- Есть умеренная заимосвязь между оценками критиков и уровнем продаж. Игры с высокими продажами зачастую имеют хорошие отзывы критиков. Плохих отзывов у  прибыльных проектов не наблюдается. Дорогие проекты проводят широкие рекламные кампании, вкладывают деньги в продвижение и, возможно, могут влиять на уровень оценок критиков.\n",
    "\n",
    "- Пользователи более критично оценивают игры. Корреляция уровня продаж с пользовательскими оценками практически равна 0. Даже у финансово успешных игр есть пользовательские оценки ниже среднего.\n",
    "\n",
    "- Но при этом оценки пользователей часто совпадают или находятся рядом с оценками критиков. "
   ]
  },
  {
   "cell_type": "markdown",
   "metadata": {},
   "source": [
    "### Соотнесите выводы с продажами игр на других платформах"
   ]
  },
  {
   "cell_type": "markdown",
   "metadata": {},
   "source": [
    "Проверю зависимость продаж от отзывов для 5 самых прибыльных платформ (выше уже были отобраны по суммарным продажам в выборку 'df_top_5').\n",
    "Особое внимание буду обращать на 3 потенциально самых успешных- PS4 (зависимость продаж от отзывов подробно исследована), XOne, 3DS.\n"
   ]
  },
  {
   "cell_type": "code",
   "execution_count": 59,
   "metadata": {
    "scrolled": false
   },
   "outputs": [
    {
     "data": {
      "text/html": [
       "<style  type=\"text/css\" >\n",
       "</style><table id=\"T_407843cc_8e79_11ec_bd97_02420a390462\" ><thead>    <tr>        <th class=\"blank\" ></th>        <th class=\"blank level0\" ></th>        <th class=\"col_heading level0 col0\" >total_sales</th>        <th class=\"col_heading level0 col1\" >critic_score</th>        <th class=\"col_heading level0 col2\" >user_score</th>    </tr>    <tr>        <th class=\"index_name level0\" >platform</th>        <th class=\"index_name level1\" ></th>        <th class=\"blank\" ></th>        <th class=\"blank\" ></th>        <th class=\"blank\" ></th>    </tr></thead><tbody>\n",
       "                <tr>\n",
       "                        <th id=\"T_407843cc_8e79_11ec_bd97_02420a390462level0_row0\" class=\"row_heading level0 row0\" rowspan=3>3DS</th>\n",
       "                        <th id=\"T_407843cc_8e79_11ec_bd97_02420a390462level1_row0\" class=\"row_heading level1 row0\" >total_sales</th>\n",
       "                        <td id=\"T_407843cc_8e79_11ec_bd97_02420a390462row0_col0\" class=\"data row0 col0\" >1.00</td>\n",
       "                        <td id=\"T_407843cc_8e79_11ec_bd97_02420a390462row0_col1\" class=\"data row0 col1\" >0.32</td>\n",
       "                        <td id=\"T_407843cc_8e79_11ec_bd97_02420a390462row0_col2\" class=\"data row0 col2\" >0.20</td>\n",
       "            </tr>\n",
       "            <tr>\n",
       "                                <th id=\"T_407843cc_8e79_11ec_bd97_02420a390462level1_row1\" class=\"row_heading level1 row1\" >critic_score</th>\n",
       "                        <td id=\"T_407843cc_8e79_11ec_bd97_02420a390462row1_col0\" class=\"data row1 col0\" >0.32</td>\n",
       "                        <td id=\"T_407843cc_8e79_11ec_bd97_02420a390462row1_col1\" class=\"data row1 col1\" >1.00</td>\n",
       "                        <td id=\"T_407843cc_8e79_11ec_bd97_02420a390462row1_col2\" class=\"data row1 col2\" >0.72</td>\n",
       "            </tr>\n",
       "            <tr>\n",
       "                                <th id=\"T_407843cc_8e79_11ec_bd97_02420a390462level1_row2\" class=\"row_heading level1 row2\" >user_score</th>\n",
       "                        <td id=\"T_407843cc_8e79_11ec_bd97_02420a390462row2_col0\" class=\"data row2 col0\" >0.20</td>\n",
       "                        <td id=\"T_407843cc_8e79_11ec_bd97_02420a390462row2_col1\" class=\"data row2 col1\" >0.72</td>\n",
       "                        <td id=\"T_407843cc_8e79_11ec_bd97_02420a390462row2_col2\" class=\"data row2 col2\" >1.00</td>\n",
       "            </tr>\n",
       "            <tr>\n",
       "                        <th id=\"T_407843cc_8e79_11ec_bd97_02420a390462level0_row3\" class=\"row_heading level0 row3\" rowspan=3>PS3</th>\n",
       "                        <th id=\"T_407843cc_8e79_11ec_bd97_02420a390462level1_row3\" class=\"row_heading level1 row3\" >total_sales</th>\n",
       "                        <td id=\"T_407843cc_8e79_11ec_bd97_02420a390462row3_col0\" class=\"data row3 col0\" >1.00</td>\n",
       "                        <td id=\"T_407843cc_8e79_11ec_bd97_02420a390462row3_col1\" class=\"data row3 col1\" >0.33</td>\n",
       "                        <td id=\"T_407843cc_8e79_11ec_bd97_02420a390462row3_col2\" class=\"data row3 col2\" >-0.01</td>\n",
       "            </tr>\n",
       "            <tr>\n",
       "                                <th id=\"T_407843cc_8e79_11ec_bd97_02420a390462level1_row4\" class=\"row_heading level1 row4\" >critic_score</th>\n",
       "                        <td id=\"T_407843cc_8e79_11ec_bd97_02420a390462row4_col0\" class=\"data row4 col0\" >0.33</td>\n",
       "                        <td id=\"T_407843cc_8e79_11ec_bd97_02420a390462row4_col1\" class=\"data row4 col1\" >1.00</td>\n",
       "                        <td id=\"T_407843cc_8e79_11ec_bd97_02420a390462row4_col2\" class=\"data row4 col2\" >0.54</td>\n",
       "            </tr>\n",
       "            <tr>\n",
       "                                <th id=\"T_407843cc_8e79_11ec_bd97_02420a390462level1_row5\" class=\"row_heading level1 row5\" >user_score</th>\n",
       "                        <td id=\"T_407843cc_8e79_11ec_bd97_02420a390462row5_col0\" class=\"data row5 col0\" >-0.01</td>\n",
       "                        <td id=\"T_407843cc_8e79_11ec_bd97_02420a390462row5_col1\" class=\"data row5 col1\" >0.54</td>\n",
       "                        <td id=\"T_407843cc_8e79_11ec_bd97_02420a390462row5_col2\" class=\"data row5 col2\" >1.00</td>\n",
       "            </tr>\n",
       "            <tr>\n",
       "                        <th id=\"T_407843cc_8e79_11ec_bd97_02420a390462level0_row6\" class=\"row_heading level0 row6\" rowspan=3>PS4</th>\n",
       "                        <th id=\"T_407843cc_8e79_11ec_bd97_02420a390462level1_row6\" class=\"row_heading level1 row6\" >total_sales</th>\n",
       "                        <td id=\"T_407843cc_8e79_11ec_bd97_02420a390462row6_col0\" class=\"data row6 col0\" >1.00</td>\n",
       "                        <td id=\"T_407843cc_8e79_11ec_bd97_02420a390462row6_col1\" class=\"data row6 col1\" >0.41</td>\n",
       "                        <td id=\"T_407843cc_8e79_11ec_bd97_02420a390462row6_col2\" class=\"data row6 col2\" >-0.03</td>\n",
       "            </tr>\n",
       "            <tr>\n",
       "                                <th id=\"T_407843cc_8e79_11ec_bd97_02420a390462level1_row7\" class=\"row_heading level1 row7\" >critic_score</th>\n",
       "                        <td id=\"T_407843cc_8e79_11ec_bd97_02420a390462row7_col0\" class=\"data row7 col0\" >0.41</td>\n",
       "                        <td id=\"T_407843cc_8e79_11ec_bd97_02420a390462row7_col1\" class=\"data row7 col1\" >1.00</td>\n",
       "                        <td id=\"T_407843cc_8e79_11ec_bd97_02420a390462row7_col2\" class=\"data row7 col2\" >0.56</td>\n",
       "            </tr>\n",
       "            <tr>\n",
       "                                <th id=\"T_407843cc_8e79_11ec_bd97_02420a390462level1_row8\" class=\"row_heading level1 row8\" >user_score</th>\n",
       "                        <td id=\"T_407843cc_8e79_11ec_bd97_02420a390462row8_col0\" class=\"data row8 col0\" >-0.03</td>\n",
       "                        <td id=\"T_407843cc_8e79_11ec_bd97_02420a390462row8_col1\" class=\"data row8 col1\" >0.56</td>\n",
       "                        <td id=\"T_407843cc_8e79_11ec_bd97_02420a390462row8_col2\" class=\"data row8 col2\" >1.00</td>\n",
       "            </tr>\n",
       "            <tr>\n",
       "                        <th id=\"T_407843cc_8e79_11ec_bd97_02420a390462level0_row9\" class=\"row_heading level0 row9\" rowspan=3>X360</th>\n",
       "                        <th id=\"T_407843cc_8e79_11ec_bd97_02420a390462level1_row9\" class=\"row_heading level1 row9\" >total_sales</th>\n",
       "                        <td id=\"T_407843cc_8e79_11ec_bd97_02420a390462row9_col0\" class=\"data row9 col0\" >1.00</td>\n",
       "                        <td id=\"T_407843cc_8e79_11ec_bd97_02420a390462row9_col1\" class=\"data row9 col1\" >0.36</td>\n",
       "                        <td id=\"T_407843cc_8e79_11ec_bd97_02420a390462row9_col2\" class=\"data row9 col2\" >0.01</td>\n",
       "            </tr>\n",
       "            <tr>\n",
       "                                <th id=\"T_407843cc_8e79_11ec_bd97_02420a390462level1_row10\" class=\"row_heading level1 row10\" >critic_score</th>\n",
       "                        <td id=\"T_407843cc_8e79_11ec_bd97_02420a390462row10_col0\" class=\"data row10 col0\" >0.36</td>\n",
       "                        <td id=\"T_407843cc_8e79_11ec_bd97_02420a390462row10_col1\" class=\"data row10 col1\" >1.00</td>\n",
       "                        <td id=\"T_407843cc_8e79_11ec_bd97_02420a390462row10_col2\" class=\"data row10 col2\" >0.56</td>\n",
       "            </tr>\n",
       "            <tr>\n",
       "                                <th id=\"T_407843cc_8e79_11ec_bd97_02420a390462level1_row11\" class=\"row_heading level1 row11\" >user_score</th>\n",
       "                        <td id=\"T_407843cc_8e79_11ec_bd97_02420a390462row11_col0\" class=\"data row11 col0\" >0.01</td>\n",
       "                        <td id=\"T_407843cc_8e79_11ec_bd97_02420a390462row11_col1\" class=\"data row11 col1\" >0.56</td>\n",
       "                        <td id=\"T_407843cc_8e79_11ec_bd97_02420a390462row11_col2\" class=\"data row11 col2\" >1.00</td>\n",
       "            </tr>\n",
       "            <tr>\n",
       "                        <th id=\"T_407843cc_8e79_11ec_bd97_02420a390462level0_row12\" class=\"row_heading level0 row12\" rowspan=3>XOne</th>\n",
       "                        <th id=\"T_407843cc_8e79_11ec_bd97_02420a390462level1_row12\" class=\"row_heading level1 row12\" >total_sales</th>\n",
       "                        <td id=\"T_407843cc_8e79_11ec_bd97_02420a390462row12_col0\" class=\"data row12 col0\" >1.00</td>\n",
       "                        <td id=\"T_407843cc_8e79_11ec_bd97_02420a390462row12_col1\" class=\"data row12 col1\" >0.42</td>\n",
       "                        <td id=\"T_407843cc_8e79_11ec_bd97_02420a390462row12_col2\" class=\"data row12 col2\" >-0.07</td>\n",
       "            </tr>\n",
       "            <tr>\n",
       "                                <th id=\"T_407843cc_8e79_11ec_bd97_02420a390462level1_row13\" class=\"row_heading level1 row13\" >critic_score</th>\n",
       "                        <td id=\"T_407843cc_8e79_11ec_bd97_02420a390462row13_col0\" class=\"data row13 col0\" >0.42</td>\n",
       "                        <td id=\"T_407843cc_8e79_11ec_bd97_02420a390462row13_col1\" class=\"data row13 col1\" >1.00</td>\n",
       "                        <td id=\"T_407843cc_8e79_11ec_bd97_02420a390462row13_col2\" class=\"data row13 col2\" >0.47</td>\n",
       "            </tr>\n",
       "            <tr>\n",
       "                                <th id=\"T_407843cc_8e79_11ec_bd97_02420a390462level1_row14\" class=\"row_heading level1 row14\" >user_score</th>\n",
       "                        <td id=\"T_407843cc_8e79_11ec_bd97_02420a390462row14_col0\" class=\"data row14 col0\" >-0.07</td>\n",
       "                        <td id=\"T_407843cc_8e79_11ec_bd97_02420a390462row14_col1\" class=\"data row14 col1\" >0.47</td>\n",
       "                        <td id=\"T_407843cc_8e79_11ec_bd97_02420a390462row14_col2\" class=\"data row14 col2\" >1.00</td>\n",
       "            </tr>\n",
       "    </tbody></table>"
      ],
      "text/plain": [
       "<pandas.io.formats.style.Styler at 0x7fe9de9ad590>"
      ]
     },
     "execution_count": 59,
     "metadata": {},
     "output_type": "execute_result"
    }
   ],
   "source": [
    "df_top_5.groupby('platform')[['total_sales','critic_score', 'user_score']].corr().style.format(\"{:.2f}\")"
   ]
  },
  {
   "cell_type": "markdown",
   "metadata": {},
   "source": [
    "Для всех платформ характерна умеренная заимосвязь между оценками критиков и уровнем продаж (коэффицент корреляции порядка 0,3-0,4). \n",
    "\n",
    "Практически отсутствует зависимость между оценками пользователей и уровнем продаж для всех платформ, кроме японской портативной Nintendo 3DS. Для этой консоли корреляция между оценками пользователей и продажами составляет 0.2, между оценками критиков и продажами - 0.32. \n",
    "\n",
    "Посмотрю на зависимости продаж от оценок для Nintendo 3DS более внимательно. Построю матрицу диаграмм рассеяния."
   ]
  },
  {
   "cell_type": "code",
   "execution_count": 38,
   "metadata": {
    "scrolled": false
   },
   "outputs": [
    {
     "data": {
      "image/png": "[encoded data removed]",
      "text/plain": [
       "<Figure size 540x540 with 12 Axes>"
      ]
     },
     "metadata": {
      "needs_background": "light"
     },
     "output_type": "display_data"
    }
   ],
   "source": [
    "# Построю матрицу диаграмм рассеяния для 3DS\n",
    "corr= sns.pairplot((df.query(\n",
    "    'platform == \"3DS\"\\\n",
    "    and critic_score > 0\\\n",
    "    and user_score > 0')[['total_sales','critic_score', 'user_score']]))\n",
    "corr.fig.suptitle('Nintendo 3DS. Матрица диаграмм рассеяния', y= 1.05)\n",
    "plt.show()"
   ]
  },
  {
   "cell_type": "markdown",
   "metadata": {},
   "source": [
    "По графикам заметно, что оценки критиков и пользователей для платформы 3DS часто совпадают. Самые продаваемые игры имеют  высокие оценки пользователей. "
   ]
  },
  {
   "cell_type": "markdown",
   "metadata": {},
   "source": [
    "**Вывод**:\n",
    "Были рассмотрены зависимости продаж от отзывов критиков и пользователей для 5 самых прибыльных платформ.  \n",
    "\n",
    "Как и для PS4, характерна умеренная заимосвязь между уровнем продаж и оценками критиков(коэффицент корреляции порядка 0,3-0,4 для всех платформ из топ-5). \n",
    "\n",
    "Зависимость между оценками пользователей и уровнем продаж практически отсутствует для всех платформ, кроме японской портативной Nintendo 3DS. \n",
    "Успешные игры выпущенные для 3DS имеют высокие оценки пользователей. Оценки критиков и пользователей для этой платформы очень часто совпадают.\n"
   ]
  },
  {
   "cell_type": "markdown",
   "metadata": {},
   "source": [
    "### Посмотрите на общее распределение игр по жанрам. \n",
    "Что можно сказать о самых прибыльных жанрах? Выделяются ли жанры с высокими и низкими продажами?"
   ]
  },
  {
   "cell_type": "markdown",
   "metadata": {},
   "source": [
    "Посмотрю на общее распределение выручки и количества проданых копий по жанрам с помощью столбчатых диаграмм."
   ]
  },
  {
   "cell_type": "code",
   "execution_count": 39,
   "metadata": {
    "scrolled": false
   },
   "outputs": [
    {
     "data": {
      "text/plain": [
       "Text(0.5, 1.0, 'Общие продажи по жанрам игр, 2012-2016г.')"
      ]
     },
     "execution_count": 39,
     "metadata": {},
     "output_type": "execute_result"
    },
    {
     "data": {
      "image/png": "[encoded data removed]",
      "text/plain": [
       "<Figure size 1080x360 with 1 Axes>"
      ]
     },
     "metadata": {
      "needs_background": "light"
     },
     "output_type": "display_data"
    }
   ],
   "source": [
    "sales_grouped = df.groupby('genre').agg({'name': 'count', 'total_sales': 'sum'}).sort_values(by='total_sales', ascending=False)\n",
    "\n",
    "ax = plt.gca()\n",
    "\n",
    "sales_grouped['name'].plot(kind='bar', ax=ax, position=1, figsize=(15,5), color= 'tab:blue', width=0.3)\n",
    "sales_grouped['total_sales'].plot(kind='bar', ax=ax, position=0, figsize=(15,5), color= 'tab:orange', width=0.3, )\n",
    "\n",
    "ax.legend(['Количество продаж', 'Общая сумма продаж'])\n",
    "plt.title('Общие продажи по жанрам игр, 2012-2016г.')"
   ]
  },
  {
   "cell_type": "markdown",
   "metadata": {},
   "source": [
    "Самыми продаваемыми по количеству копий и общей сумме продаж являются игры жанра Action, далее результаты по выручке и количеству проданных копий заметно различаются.\n",
    "\n",
    "По количетсву продаж в порядке убывания: Action, Role-Playing, Adventure, Sports, Shooter\n",
    "\n",
    "По сумме продаж в порядке убывания: Action, Shooter, Role-Playing и Sports\n",
    "\n",
    "Самые низкие продажи по количеству и сумарной выручке приносят Puzzle, Strategy, Simulation. Эти игры требуют много времени и размышлений. Быстро надоедают.\n",
    "\n",
    "Некоторые жанры можно охарактеризовать так:\n",
    "- Action - продаваемые и прибыльные\n",
    "- Shooter - меньше продаж, но больше выручка. Самые дорогие.  Относительно невысокое количество продаж и высокую стоимость можно связать с возрастными ограничениями для этого типа игр.\n",
    "- Adventure - продаваемые, но не приносящие мало прибыли.\n",
    "\n"
   ]
  },
  {
   "cell_type": "code",
   "execution_count": 40,
   "metadata": {
    "scrolled": true
   },
   "outputs": [
    {
     "data": {
      "text/plain": [
       "Text(0.5, 1.0, 'Диаграмма размаха продаж игр в разбивке жанрам, 2012-2016г.')"
      ]
     },
     "execution_count": 40,
     "metadata": {},
     "output_type": "execute_result"
    },
    {
     "data": {
      "image/png": "[encoded data removed]",
      "text/plain": [
       "<Figure size 864x504 with 1 Axes>"
      ]
     },
     "metadata": {
      "needs_background": "light"
     },
     "output_type": "display_data"
    }
   ],
   "source": [
    "#Построю диаграмму размаха продаж игр по жанрам\n",
    "df.boxplot(column='total_sales', by='genre', figsize=(12,7))\n",
    "plt.ylim(0, 2)\n",
    "plt.xlabel('Жанр')\n",
    "plt.ylabel('Выручка с игры, млн. долл.')\n",
    "plt.title('Диаграмма размаха продаж игр в разбивке жанрам, 2012-2016г.')"
   ]
  },
  {
   "cell_type": "markdown",
   "metadata": {},
   "source": [
    "По диаграмме размаха видно, что действительно самыми дорогими являются игры жанра Shooter, медианное значение выручки составляет порядка 0,4 млн. долл., что почти вдвое больше медианных значений других самых дорогих жанров (Sports, Platform). При этом шутеры имеют самый широкий межквартильный размах - от 0.125 до почти 1.5 млн. долл. \n",
    "\n",
    "Самые продаваемые игры Action имеют невысокое медианное значение выручки, сопоставимое со многими другими жанрами: Fighting, Misc, Racing, Role-Playing, Simulation.\n",
    "\n",
    "Adventure имеет самые низкие значения выручки с игры. Что очень странно, так как обычно хорошо графически прорисованы и далеко не самые дешевые в разработке. "
   ]
  },
  {
   "cell_type": "markdown",
   "metadata": {},
   "source": [
    "**Вывод:**\n",
    "Самыми прибыльными можно назвать игры жанров:\n",
    "- **Shooter**. На порядок дороже остальных игр. Достаточно высокая общая выручка при меньшем количестве проданых копий. Относительно невысокое количество продаж и высокую стоимость можно связать с возрастными ограничениями для этого типа игр.\n",
    "- **Action**. Самые высокие показатели количесва и суммы продаж в общем объеме. Медианная стоимость игры сопоставима с многими другими жанрами.\n",
    "- **Sport**. Медианное значение выручки с игры выше среднего по жанрам, в общем объеме по количеству проданых копий и общей сумме продаж находится в лидерах. \n",
    "\n",
    "Самые низкие продажи по количеству и сумарной выручке приносят Puzzle, Strategy, Simulation. Эти игры требуют много времени и размышлений. Быстро надоедают.\n",
    "\n",
    "Adventure - продаваемые, но не приносящие мало прибыли. Имеет самые низкие значения выручки с игры. Что очень странно, так как обычно хорошо графически прорисованы и далеко не самые дешевые в разработке. "
   ]
  },
  {
   "cell_type": "markdown",
   "metadata": {},
   "source": [
    "### Вывод\n",
    "\n",
    "*  Рост рынка компьютерных игр начался с  1990-х годов. Наблюдался резкий скачок в начале 2000-х и стремительное увеличение колличества выпускаемых игр вплоть до 2008-2009 годов. Далее начинается спад, связанный с развитием мобильных устройств и переход людей на мобильные платформы. Падение спроса привело к уменьшению количества производимых игр и снижению выручки. В последние годы наблюдается устойчивый спад на игравом рынке.\n",
    "\n",
    "\n",
    "* Жизненный цикл игровых консолей составляет порядка 10 лет. Однако половину жизненого цикла продажи по каждой платформе падают, поэтому актуальным периодом можно считать 5 лет. За этот срок обычно появляются новые платформы.\n",
    "\n",
    "\n",
    "* 3 наиболее потенциально прибыльных платформы последних лет: **PS4, XOne, 3DS**.\n",
    "\n",
    "    * Самое высокое значение медианной выручки с игры за 2012-2016г. наблюдается у платформы X360, причем при самой высокой границе нормальных значений - почти 2 млн долларов. Занятно, что именно по ней наблюдается самый большой спад из всех топовых платформ к концу 2016 года. X360 была выпущена в конце 2005 года и была своего рода прорывом, а к 2016 году жизненый цикл платформы завершается.\n",
    "\n",
    "    * Прибыльность платформ PS4 и XOne схожа. В большинстве игры на PS4  и XOne продаются в одинаковом диапазоне. \n",
    "\n",
    "    * 3DS имеет не такие высокие показатели продаж. В целом продажи игр для портативных игровых консолей значительно ниже.  \n",
    " \n",
    " \n",
    "* Есть умеренная заимосвязь между оценками критиков и уровнем продаж. Игры с высокими продажами зачастую имеют хорошие отзывы критиков. Плохих отзывов у прибыльных проектов не наблюдается.  В то время как зависимость между отзывами пользователей и продажами почти не прослеживается. Пользователи более критично оценивают игры. Но при этом оценки пользователей часто совпадают или находятся рядом с оценками критиков.\n",
    "\n",
    "\n",
    "* Зависимость между оценками пользователей и уровнем продаж практически отсутствует для всех платформ, кроме японской портативной Nintendo 3DS. Успешные игры выпущенные для 3DS имеют почти всегда высокие оценки пользователей. Оценки критиков и пользователей для этой платформы очень часто совпадают.\n",
    "\n",
    "\n",
    "* Самыми прибыльными можно назвать игры жанров:\n",
    "\n",
    "    * **Shooter**. На порядок дороже остальных игр. Достаточно высокая общая выручка при меньшем количестве проданых копий. Относительно невысокое количество продаж и высокую стоимость можно связать с возрастными ограничениями для этого типа игр.\n",
    "    * **Action**. Самые высокие показатели количества и суммы продаж в общем объеме. Медианная стоимость игры сопоставима с многими другими жанрами.\n",
    "    * **Sport**. Медианное значение выручки с игры выше среднего по жанрам, в общем объеме по количеству проданых копий и общей сумме продаж находится в лидерах.\n",
    "    \n",
    "    \n",
    "* Самые низкие продажи по количеству и сумарной выручке приносят Puzzle, Strategy, Simulation. Эти игры требуют много времени и размышлений. Быстро надоедают.\n",
    "* Adventure - продаваемые, но не приносящие мало прибыли. Имеет самые низкие значения выручки с игры. Что очень странно, так как обычно хорошо графически прорисованы и далеко не самые дешевые в разработке.\n"
   ]
  },
  {
   "cell_type": "markdown",
   "metadata": {},
   "source": [
    "## Составление портрета пользователя каждого региона\n",
    "\n",
    "Определите для пользователя каждого региона (NA, EU, JP):\n",
    "* Самые популярные платформы (топ-5). Опишите различия в долях продаж.\n",
    "* Самые популярные жанры (топ-5). Поясните разницу.\n",
    "* Влияет ли рейтинг ESRB на продажи в отдельном регионе?"
   ]
  },
  {
   "cell_type": "markdown",
   "metadata": {},
   "source": [
    "### Самые популярные платформы (топ-5).\n",
    "Опишите различия в долях продаж."
   ]
  },
  {
   "cell_type": "markdown",
   "metadata": {},
   "source": [
    "__Суммарные продажи покажут только валовый объем но не покажут насколько популярны платформы / игры в среднем, поэтому корректне брать медианные продажи на платформе."
   ]
  },
  {
   "cell_type": "code",
   "execution_count": 41,
   "metadata": {
    "scrolled": true
   },
   "outputs": [
    {
     "data": {
      "text/html": [
       "<div>\n",
       "<style scoped>\n",
       "    .dataframe tbody tr th:only-of-type {\n",
       "        vertical-align: middle;\n",
       "    }\n",
       "\n",
       "    .dataframe tbody tr th {\n",
       "        vertical-align: top;\n",
       "    }\n",
       "\n",
       "    .dataframe thead th {\n",
       "        text-align: right;\n",
       "    }\n",
       "</style>\n",
       "<table border=\"1\" class=\"dataframe\">\n",
       "  <thead>\n",
       "    <tr style=\"text-align: right;\">\n",
       "      <th></th>\n",
       "      <th>na_sales</th>\n",
       "      <th>eu_sales</th>\n",
       "      <th>jp_sales</th>\n",
       "    </tr>\n",
       "  </thead>\n",
       "  <tbody>\n",
       "    <tr>\n",
       "      <td>count</td>\n",
       "      <td>2886.000000</td>\n",
       "      <td>2886.000000</td>\n",
       "      <td>2886.000000</td>\n",
       "    </tr>\n",
       "    <tr>\n",
       "      <td>mean</td>\n",
       "      <td>0.204771</td>\n",
       "      <td>0.175613</td>\n",
       "      <td>0.066729</td>\n",
       "    </tr>\n",
       "    <tr>\n",
       "      <td>std</td>\n",
       "      <td>0.566696</td>\n",
       "      <td>0.505346</td>\n",
       "      <td>0.241575</td>\n",
       "    </tr>\n",
       "    <tr>\n",
       "      <td>min</td>\n",
       "      <td>0.000000</td>\n",
       "      <td>0.000000</td>\n",
       "      <td>0.000000</td>\n",
       "    </tr>\n",
       "    <tr>\n",
       "      <td>25%</td>\n",
       "      <td>0.000000</td>\n",
       "      <td>0.000000</td>\n",
       "      <td>0.000000</td>\n",
       "    </tr>\n",
       "    <tr>\n",
       "      <td>50%</td>\n",
       "      <td>0.030000</td>\n",
       "      <td>0.030000</td>\n",
       "      <td>0.010000</td>\n",
       "    </tr>\n",
       "    <tr>\n",
       "      <td>75%</td>\n",
       "      <td>0.170000</td>\n",
       "      <td>0.140000</td>\n",
       "      <td>0.050000</td>\n",
       "    </tr>\n",
       "    <tr>\n",
       "      <td>max</td>\n",
       "      <td>9.660000</td>\n",
       "      <td>9.090000</td>\n",
       "      <td>4.390000</td>\n",
       "    </tr>\n",
       "  </tbody>\n",
       "</table>\n",
       "</div>"
      ],
      "text/plain": [
       "          na_sales     eu_sales     jp_sales\n",
       "count  2886.000000  2886.000000  2886.000000\n",
       "mean      0.204771     0.175613     0.066729\n",
       "std       0.566696     0.505346     0.241575\n",
       "min       0.000000     0.000000     0.000000\n",
       "25%       0.000000     0.000000     0.000000\n",
       "50%       0.030000     0.030000     0.010000\n",
       "75%       0.170000     0.140000     0.050000\n",
       "max       9.660000     9.090000     4.390000"
      ]
     },
     "execution_count": 41,
     "metadata": {},
     "output_type": "execute_result"
    }
   ],
   "source": [
    "df[['na_sales', 'eu_sales', 'jp_sales']].describe() #Выведу числовые характеристики продаж по регионам"
   ]
  },
  {
   "cell_type": "markdown",
   "metadata": {},
   "source": [
    "Разброс значений во всех столбцах достаточно широкий, поэтому при анализе буду рассматривать медианное значение, а не средние. "
   ]
  },
  {
   "cell_type": "code",
   "execution_count": 42,
   "metadata": {},
   "outputs": [],
   "source": [
    "#Напишу функцию для создания сводных таблиц \n",
    "def pivot_top_in_region(groupby, region_sales):\n",
    "    pivot_top_in_region = df.groupby(groupby).agg({region_sales: ['sum', 'count', 'median']})\n",
    "    pivot_top_in_region.columns = ['сумарные продажи', 'кол-во продаж', 'медианные продажи']\n",
    "    pivot_top_in_region = pivot_top_in_region.sort_values(by = 'сумарные продажи', ascending = False)\n",
    "\n",
    "    return pivot_top_in_region\n",
    "\n"
   ]
  },
  {
   "cell_type": "code",
   "execution_count": 43,
   "metadata": {},
   "outputs": [],
   "source": [
    "#Напишу функцию для создания графиков топ-5\n",
    "def plot_top_in_region(groupby, region_sales, ax):\n",
    "    pivot_table= df.groupby(groupby).agg({region_sales: 'sum'}).sort_values(by=region_sales, ascending=False).head()\n",
    "    title_dict = {'na_sales': 'North America Sales', 'eu_sales': 'Europe Sales', 'jp_sales': 'Japan Sales'}\n",
    "    color_dict = {'na_sales': 'steelblue', 'eu_sales': 'skyblue', 'jp_sales': 'thistle'}\n",
    "    plot = pivot_table.plot(kind='bar', ax=axes[ax], fontsize=12, rot=45,\\\n",
    "                            title = title_dict[region_sales], color=color_dict[region_sales])\n",
    "    plot.set(ylim=(0, 250))"
   ]
  },
  {
   "cell_type": "markdown",
   "metadata": {},
   "source": [
    "**Посмотрю на распределение продаж в Северной Америке**"
   ]
  },
  {
   "cell_type": "code",
   "execution_count": 44,
   "metadata": {
    "scrolled": false
   },
   "outputs": [
    {
     "data": {
      "text/html": [
       "<div>\n",
       "<style scoped>\n",
       "    .dataframe tbody tr th:only-of-type {\n",
       "        vertical-align: middle;\n",
       "    }\n",
       "\n",
       "    .dataframe tbody tr th {\n",
       "        vertical-align: top;\n",
       "    }\n",
       "\n",
       "    .dataframe thead th {\n",
       "        text-align: right;\n",
       "    }\n",
       "</style>\n",
       "<table border=\"1\" class=\"dataframe\">\n",
       "  <thead>\n",
       "    <tr style=\"text-align: right;\">\n",
       "      <th></th>\n",
       "      <th>сумарные продажи</th>\n",
       "      <th>кол-во продаж</th>\n",
       "      <th>медианные продажи</th>\n",
       "    </tr>\n",
       "    <tr>\n",
       "      <th>platform</th>\n",
       "      <th></th>\n",
       "      <th></th>\n",
       "      <th></th>\n",
       "    </tr>\n",
       "  </thead>\n",
       "  <tbody>\n",
       "    <tr>\n",
       "      <td>X360</td>\n",
       "      <td>140.05</td>\n",
       "      <td>292</td>\n",
       "      <td>0.17</td>\n",
       "    </tr>\n",
       "    <tr>\n",
       "      <td>PS4</td>\n",
       "      <td>108.74</td>\n",
       "      <td>392</td>\n",
       "      <td>0.06</td>\n",
       "    </tr>\n",
       "    <tr>\n",
       "      <td>PS3</td>\n",
       "      <td>103.38</td>\n",
       "      <td>493</td>\n",
       "      <td>0.05</td>\n",
       "    </tr>\n",
       "    <tr>\n",
       "      <td>XOne</td>\n",
       "      <td>93.12</td>\n",
       "      <td>247</td>\n",
       "      <td>0.12</td>\n",
       "    </tr>\n",
       "    <tr>\n",
       "      <td>3DS</td>\n",
       "      <td>55.31</td>\n",
       "      <td>396</td>\n",
       "      <td>0.00</td>\n",
       "    </tr>\n",
       "  </tbody>\n",
       "</table>\n",
       "</div>"
      ],
      "text/plain": [
       "          сумарные продажи  кол-во продаж  медианные продажи\n",
       "platform                                                    \n",
       "X360                140.05            292               0.17\n",
       "PS4                 108.74            392               0.06\n",
       "PS3                 103.38            493               0.05\n",
       "XOne                 93.12            247               0.12\n",
       "3DS                  55.31            396               0.00"
      ]
     },
     "metadata": {},
     "output_type": "display_data"
    }
   ],
   "source": [
    "na_platform_sales= pivot_top_in_region('platform', 'na_sales')\n",
    "display(na_platform_sales.head())"
   ]
  },
  {
   "cell_type": "code",
   "execution_count": 68,
   "metadata": {
    "scrolled": false
   },
   "outputs": [
    {
     "data": {
      "text/plain": [
       "Text(0.5, 1.0, 'Распределение продаж по платформам в Северной Америке')"
      ]
     },
     "execution_count": 68,
     "metadata": {},
     "output_type": "execute_result"
    },
    {
     "data": {
      "image/png": "[encoded data removed]",
      "text/plain": [
       "<Figure size 432x432 with 1 Axes>"
      ]
     },
     "metadata": {},
     "output_type": "display_data"
    }
   ],
   "source": [
    "na_platform_sales['сумарные продажи'].plot(kind='pie', figsize=(6,6))\n",
    "plt.title('Распределение продаж по платформам в Северной Америке')"
   ]
  },
  {
   "cell_type": "code",
   "execution_count": 46,
   "metadata": {
    "scrolled": false
   },
   "outputs": [
    {
     "name": "stdout",
     "output_type": "stream",
     "text": [
      "Процент продаж топ-платформ от общих продаж в Северной Америке: 84.7%\n"
     ]
    }
   ],
   "source": [
    "na_top_platform_part = na_platform_sales['сумарные продажи'].head().sum()/na_platform_sales['сумарные продажи'].sum()\n",
    "print('Процент продаж топ-платформ от общих продаж в Северной Америке:', '{:.1%}'.format(na_top_platform_part))"
   ]
  },
  {
   "cell_type": "markdown",
   "metadata": {},
   "source": [
    "**Посмотрю на распределение продаж в Европе**"
   ]
  },
  {
   "cell_type": "code",
   "execution_count": 47,
   "metadata": {},
   "outputs": [
    {
     "data": {
      "text/html": [
       "<div>\n",
       "<style scoped>\n",
       "    .dataframe tbody tr th:only-of-type {\n",
       "        vertical-align: middle;\n",
       "    }\n",
       "\n",
       "    .dataframe tbody tr th {\n",
       "        vertical-align: top;\n",
       "    }\n",
       "\n",
       "    .dataframe thead th {\n",
       "        text-align: right;\n",
       "    }\n",
       "</style>\n",
       "<table border=\"1\" class=\"dataframe\">\n",
       "  <thead>\n",
       "    <tr style=\"text-align: right;\">\n",
       "      <th></th>\n",
       "      <th>сумарные продажи</th>\n",
       "      <th>кол-во продаж</th>\n",
       "      <th>медианные продажи</th>\n",
       "    </tr>\n",
       "    <tr>\n",
       "      <th>platform</th>\n",
       "      <th></th>\n",
       "      <th></th>\n",
       "      <th></th>\n",
       "    </tr>\n",
       "  </thead>\n",
       "  <tbody>\n",
       "    <tr>\n",
       "      <td>PS4</td>\n",
       "      <td>141.09</td>\n",
       "      <td>392</td>\n",
       "      <td>0.08</td>\n",
       "    </tr>\n",
       "    <tr>\n",
       "      <td>PS3</td>\n",
       "      <td>106.86</td>\n",
       "      <td>493</td>\n",
       "      <td>0.03</td>\n",
       "    </tr>\n",
       "    <tr>\n",
       "      <td>X360</td>\n",
       "      <td>74.52</td>\n",
       "      <td>292</td>\n",
       "      <td>0.10</td>\n",
       "    </tr>\n",
       "    <tr>\n",
       "      <td>XOne</td>\n",
       "      <td>51.59</td>\n",
       "      <td>247</td>\n",
       "      <td>0.07</td>\n",
       "    </tr>\n",
       "    <tr>\n",
       "      <td>3DS</td>\n",
       "      <td>42.64</td>\n",
       "      <td>396</td>\n",
       "      <td>0.00</td>\n",
       "    </tr>\n",
       "  </tbody>\n",
       "</table>\n",
       "</div>"
      ],
      "text/plain": [
       "          сумарные продажи  кол-во продаж  медианные продажи\n",
       "platform                                                    \n",
       "PS4                 141.09            392               0.08\n",
       "PS3                 106.86            493               0.03\n",
       "X360                 74.52            292               0.10\n",
       "XOne                 51.59            247               0.07\n",
       "3DS                  42.64            396               0.00"
      ]
     },
     "metadata": {},
     "output_type": "display_data"
    }
   ],
   "source": [
    "eu_platform_sales= pivot_top_in_region('platform', 'eu_sales')\n",
    "display(eu_platform_sales.head())"
   ]
  },
  {
   "cell_type": "code",
   "execution_count": 48,
   "metadata": {},
   "outputs": [
    {
     "data": {
      "text/plain": [
       "Text(0.5, 1.0, 'Распределение продаж по платформам в Европе')"
      ]
     },
     "execution_count": 48,
     "metadata": {},
     "output_type": "execute_result"
    },
    {
     "data": {
      "image/png": "[encoded data removed]",
      "text/plain": [
       "<Figure size 432x432 with 1 Axes>"
      ]
     },
     "metadata": {},
     "output_type": "display_data"
    }
   ],
   "source": [
    "eu_platform_sales['сумарные продажи'].plot(kind='pie', figsize=(6,6))\n",
    "plt.title('Распределение продаж по платформам в Европе')"
   ]
  },
  {
   "cell_type": "code",
   "execution_count": 49,
   "metadata": {},
   "outputs": [
    {
     "name": "stdout",
     "output_type": "stream",
     "text": [
      "Процент продаж топ-платформ от общих продаж в Европе: 82.2%\n"
     ]
    }
   ],
   "source": [
    "eu_top_platform_part = eu_platform_sales['сумарные продажи'].head().sum()/eu_platform_sales['сумарные продажи'].sum()\n",
    "print('Процент продаж топ-платформ от общих продаж в Европе:', '{:.1%}'.format(eu_top_platform_part))"
   ]
  },
  {
   "cell_type": "markdown",
   "metadata": {},
   "source": [
    "**Посмотрю на распределение продаж в Японии**"
   ]
  },
  {
   "cell_type": "code",
   "execution_count": 50,
   "metadata": {},
   "outputs": [
    {
     "data": {
      "text/html": [
       "<div>\n",
       "<style scoped>\n",
       "    .dataframe tbody tr th:only-of-type {\n",
       "        vertical-align: middle;\n",
       "    }\n",
       "\n",
       "    .dataframe tbody tr th {\n",
       "        vertical-align: top;\n",
       "    }\n",
       "\n",
       "    .dataframe thead th {\n",
       "        text-align: right;\n",
       "    }\n",
       "</style>\n",
       "<table border=\"1\" class=\"dataframe\">\n",
       "  <thead>\n",
       "    <tr style=\"text-align: right;\">\n",
       "      <th></th>\n",
       "      <th>сумарные продажи</th>\n",
       "      <th>кол-во продаж</th>\n",
       "      <th>медианные продажи</th>\n",
       "    </tr>\n",
       "    <tr>\n",
       "      <th>platform</th>\n",
       "      <th></th>\n",
       "      <th></th>\n",
       "      <th></th>\n",
       "    </tr>\n",
       "  </thead>\n",
       "  <tbody>\n",
       "    <tr>\n",
       "      <td>3DS</td>\n",
       "      <td>87.79</td>\n",
       "      <td>396</td>\n",
       "      <td>0.06</td>\n",
       "    </tr>\n",
       "    <tr>\n",
       "      <td>PS3</td>\n",
       "      <td>35.29</td>\n",
       "      <td>493</td>\n",
       "      <td>0.03</td>\n",
       "    </tr>\n",
       "    <tr>\n",
       "      <td>PSV</td>\n",
       "      <td>21.04</td>\n",
       "      <td>411</td>\n",
       "      <td>0.03</td>\n",
       "    </tr>\n",
       "    <tr>\n",
       "      <td>PS4</td>\n",
       "      <td>15.96</td>\n",
       "      <td>392</td>\n",
       "      <td>0.01</td>\n",
       "    </tr>\n",
       "    <tr>\n",
       "      <td>WiiU</td>\n",
       "      <td>13.01</td>\n",
       "      <td>147</td>\n",
       "      <td>0.00</td>\n",
       "    </tr>\n",
       "  </tbody>\n",
       "</table>\n",
       "</div>"
      ],
      "text/plain": [
       "          сумарные продажи  кол-во продаж  медианные продажи\n",
       "platform                                                    \n",
       "3DS                  87.79            396               0.06\n",
       "PS3                  35.29            493               0.03\n",
       "PSV                  21.04            411               0.03\n",
       "PS4                  15.96            392               0.01\n",
       "WiiU                 13.01            147               0.00"
      ]
     },
     "metadata": {},
     "output_type": "display_data"
    }
   ],
   "source": [
    "jp_platform_sales= pivot_top_in_region('platform', 'jp_sales')\n",
    "display(jp_platform_sales.head())"
   ]
  },
  {
   "cell_type": "code",
   "execution_count": 51,
   "metadata": {},
   "outputs": [
    {
     "data": {
      "text/plain": [
       "Text(0.5, 1.0, 'Распределение продаж по платформам в Японии')"
      ]
     },
     "execution_count": 51,
     "metadata": {},
     "output_type": "execute_result"
    },
    {
     "data": {
      "image/png": "[encoded data removed]",
      "text/plain": [
       "<Figure size 432x432 with 1 Axes>"
      ]
     },
     "metadata": {},
     "output_type": "display_data"
    }
   ],
   "source": [
    "jp_platform_sales['сумарные продажи'].plot(kind='pie', figsize=(6,6))\n",
    "plt.title('Распределение продаж по платформам в Японии')"
   ]
  },
  {
   "cell_type": "code",
   "execution_count": null,
   "metadata": {},
   "outputs": [],
   "source": []
  },
  {
   "cell_type": "code",
   "execution_count": 52,
   "metadata": {
    "scrolled": true
   },
   "outputs": [
    {
     "name": "stdout",
     "output_type": "stream",
     "text": [
      "Процент продаж топ-платформ от общих продаж в Японии: 89.9%\n"
     ]
    }
   ],
   "source": [
    "jp_top_platform_part = jp_platform_sales['сумарные продажи'].head().sum()/jp_platform_sales['сумарные продажи'].sum()\n",
    "print('Процент продаж топ-платформ от общих продаж в Японии:', '{:.1%}'.format(jp_top_platform_part))"
   ]
  },
  {
   "cell_type": "markdown",
   "metadata": {},
   "source": [
    "Итак, доля продаж топ-платформ от общих продаж составляет:\n",
    "- в Северной Америке: 84.7%\n",
    "- в Европе: 82.2%\n",
    "- в Японии: 89.9%\n",
    "\n"
   ]
  },
  {
   "cell_type": "code",
   "execution_count": 53,
   "metadata": {
    "scrolled": true
   },
   "outputs": [
    {
     "data": {
      "image/png": "[encoded data removed]",
      "text/plain": [
       "<Figure size 1080x360 with 3 Axes>"
      ]
     },
     "metadata": {
      "needs_background": "light"
     },
     "output_type": "display_data"
    }
   ],
   "source": [
    "#Построю графики продаж по регионам, в разбивке по топ-5 платформ\n",
    "fig, axes = plt.subplots(1, 3, figsize=(15,5))\n",
    "\n",
    "fig.suptitle('Продажи по регионам, в разбивке по платформам (топ-5)')\n",
    "plot_top_in_region('platform', 'na_sales', 0)\n",
    "plot_top_in_region('platform', 'eu_sales', 1)\n",
    "plot_top_in_region('platform', 'jp_sales', 2)\n"
   ]
  },
  {
   "cell_type": "markdown",
   "metadata": {},
   "source": [
    "**Вывод:**\n",
    "\n",
    "В Северной Америке и Европе схожий топ-5 платформ. Первенство делят такие игровые гиганты как PlayStation от японской Sony и Xbox от Microsoft.\n",
    "\n",
    "В Северной Америке лидирует X360, второе и третье место делят PS4 и PS3, далее более современная XOne и замыкает Nintendo 3DS. Доля продаж топ-платформ от общих продаж в Северной Америке составляет 84.7%.\n",
    "\n",
    "В Европе отдают предпочтение PlayStation. Первое место - PS4, далее PS3, далее X360 и XOne. Замыкает опять же Nintendo 3DS.\n",
    "Доля продаж топ-платформ от общих продаж в Европе составляет 82.2%.\n",
    "\n",
    "В Японии выбор потребителей заметно отличается. В Японии все платформы японского происхождения:). Заемтно лидирует Nintendo 3DS, далее PS3, портативная PSV, PS4 и Wii U от Nintendo. В Японии любят портативные игровые системы (3DS и PSV), которые позволяют играть в любом месте. \n",
    "Ожидаемо, доля продаж топ-платформ от общих продаж в Японии выше чем в других регионах и составляет 89.9%.\n",
    "\n",
    "В общем объеме продаж рынок Северной Америки самый прибыльный, далее Европа и заметно меньше продаж в Японии (что обусловленно ее размером)."
   ]
  },
  {
   "cell_type": "markdown",
   "metadata": {},
   "source": [
    "### Самые популярные жанры (топ-5).\n",
    "Поясните разницу.\n"
   ]
  },
  {
   "cell_type": "code",
   "execution_count": 54,
   "metadata": {
    "scrolled": false
   },
   "outputs": [
    {
     "data": {
      "image/png": "[encoded data removed]",
      "text/plain": [
       "<Figure size 1080x360 with 3 Axes>"
      ]
     },
     "metadata": {
      "needs_background": "light"
     },
     "output_type": "display_data"
    }
   ],
   "source": [
    "#Построю графики продаж по регионам, в разбивке по топ-5 жанров\n",
    "fig, axes = plt.subplots(1, 3, figsize=(15,5))\n",
    "fig.suptitle('Продажи по регионам, в разбивке по жанрам (топ-5)')\n",
    "plot_top_in_region('genre', 'na_sales', 0)\n",
    "plot_top_in_region('genre', 'eu_sales', 1)\n",
    "plot_top_in_region('genre', 'jp_sales', 2)"
   ]
  },
  {
   "cell_type": "markdown",
   "metadata": {},
   "source": [
    "**Вывод:**\n",
    "\n",
    "И снова вкусы в Северной Америке и Европе схожи. Лидируют Action, Shooter, Sports, Role-Playing. В Северной Америке в 5-ку вошли игры разного жанра (Мiscellaneous), в Европе еще любят гонки.\n",
    "\n",
    "В Японии первенство за ролевыми играми, далее с небольшим отрывом Action, игры разного жанра и практически на одном уровне Simulation и Fighting. Ни шутеры ни игры спортивного жанра не вошли в пятерку. "
   ]
  },
  {
   "cell_type": "markdown",
   "metadata": {},
   "source": [
    "### Влияет ли рейтинг ESRB на продажи в отдельном регионе?"
   ]
  },
  {
   "cell_type": "markdown",
   "metadata": {},
   "source": [
    "Изучу влияние рейтинга ESRB на продажи по регионам.\n",
    "\n",
    "Entertainment Software Rating Board - ассоциация, которая определяет рейтинг компьютерных игр и присваивает им подходящую возрастную категорию.\n",
    "\n",
    "Градация рейтингов:\n",
    "- «EC» («Early childhood») — «Для детей младшего возраста»\n",
    "- «E» («Everyone») — «Для всех»\n",
    "- «K-A» («Kids to Adults») - «Для всех от 6 лет и старше»\n",
    "- «E10+» («Everyone 10 and older») — «Для всех от 10 лет и старше»\n",
    "- «T» («Teen») — «Подросткам» для лиц от 13 лет.\n",
    "- «M» («Mature») — «Для взрослых». Материалы игры не подходят для подростков младше 17 лет.\n",
    "- «AO» («Adults Only 18+») — «Только для взрослых»: Содержание игры только для взрослых старше 18 лет.\n",
    "- «RP» («Rating Pending») — «Рейтинг ожидается»: Продукт был отправлен в ESRB и ожидает присвоения рейтинга."
   ]
  },
  {
   "cell_type": "code",
   "execution_count": 55,
   "metadata": {
    "scrolled": true
   },
   "outputs": [
    {
     "data": {
      "image/png": "[encoded data removed]",
      "text/plain": [
       "<Figure size 1080x360 with 3 Axes>"
      ]
     },
     "metadata": {
      "needs_background": "light"
     },
     "output_type": "display_data"
    }
   ],
   "source": [
    "#Построю графики продаж по регионам, в разбивке по рейтингу ESRB \n",
    "fig, axes = plt.subplots(1, 3, figsize=(15,5))\n",
    "fig.suptitle('Продажи по регионам, в разбивке по жанрам (топ-5)')\n",
    "plot_top_in_region('rating', 'na_sales', 0)\n",
    "plot_top_in_region('rating', 'eu_sales', 1)\n",
    "plot_top_in_region('rating', 'jp_sales', 2)"
   ]
  },
  {
   "cell_type": "markdown",
   "metadata": {},
   "source": [
    "Рынки Северной Америки и Европы снова схожи. Лидируют игры с пометкой «Mature» — «Для взрослых». Материалы таких игр не подходят для подростков младше 17 лет. Продукты с данным рейтингом могут содержать достаточно жестокое насилие, большое количество крови с расчленением, непристойные сексуальные сцены или грубую ненормативную лексику. Что можно связать с популярностью шутеров и других игр,  со сценами насилия. \n",
    "\n",
    "Далее игры для всех («Everyone»). Содержание вполне подходит для возрастной категории от 6 лет. Такие игры могут понравиться и взрослым. Игры с этим рейтингом могут содержать минимальное насилие, в основном «мультяшного» характера.\n",
    "\n",
    "Отдельно стоит отметить, что и в Северной Америке и в Европе серьезную долю занимают игры с рейтингом присвоенным другими рейтинговыми организациями. \n",
    "\n",
    "Игры для всех от 10 лет и игры для подростков от 13 лет тоже входят в пятерку по продажам.\n",
    "\n",
    "\n",
    "В Японии есть своя рейтинговая организация CERO. Поэтому вполне ожидаемо, что игры с рейтингами от ESRB заметно уступают по объему продаж играм \"Not ESRB\". Из игр ESRB в основном продаются игры \"для всех\" и для \"подростков\". Игры для взрослой аудитории занимают меньшую долю, что вероятно связано  с контролем игр для взрослых со стороны  CERO. Замыкают игры 10+.\n"
   ]
  },
  {
   "cell_type": "markdown",
   "metadata": {},
   "source": [
    "### Вывод\n",
    "\n",
    "\n",
    "Рынки Северной Америки и Европы  в целом схожи. \n",
    "\n",
    "Платформы:\n",
    "\n",
    "- Среди платформ первенство делят такие игровые гиганты как PlayStation от японской Sony и Xbox от Microsoft. В Северной Америке чуть больше любят Microsoft, в Европе Sony:\n",
    "    - В Северной Америке лидирует X360, второе и третье место делят PS4 и PS3, далее более современная XOne и замыкает Nintendo 3DS. Доля продаж топ-платформ от общих продаж в Северной Америке составляет 84.7%.\n",
    "    - В Европе первое место - PS4, далее PS3, далее X360 и XOne. Замыкает опять же Nintendo 3DS. Доля продаж топ-платформ от общих продаж в Европе составляет 82.2%.\n",
    "\n",
    "- В Японии выбор потребителей заметно отличается. Японцы любят портативные игровые системы (3DS и PSV), которые позволяют играть где угодно. В Японии все платформы японского происхождения. Заемтно лидирует Nintendo 3DS, далее PS3, портативная PSV, PS4 и Wii U. Доля продаж топ-платформ от общих продаж в Японии выше чем в других регионах и составляет 89.9%.\n",
    "\n",
    "- В общем объеме продаж рынок Северной Америки самый прибыльный, далее Европа и заметно меньше продаж в Японии (что обусловленно ее размером).\n",
    "\n",
    "Жанры:\n",
    "\n",
    "- Самые популярные жанры в Северной Америке и Европе: Action, Shooter, Sports, Role-Playing. В Северной Америке в 5-ку вошли игры разного жанра (Мiscellaneous), в Европе еще любят гонки.\n",
    "\n",
    "- В Японии первенство за ролевыми играми, далее с небольшим отрывом Action, игры разного жанра и практически на одном уровне Simulation и Fighting. Ни шутеры ни игры спортивного жанра не вошли в пятерку. \n",
    "\n",
    "\n",
    "Рейтинги:\n",
    "\n",
    "- В Северной Америке и Европе лидируют игры с пометкой «Mature» — «Для взрослых».  Что можно связать с популярностью шутеров и других игр,  со сценами насилия. Популярны и игры \"Для всех\".\n",
    "\n",
    "- Отдельно стоит отметить, что и в Северной Америке и в Европе серьезную долю занимают игры с рейтингом присвоенным другими рейтинговыми организациями. \n",
    "\n",
    "- В Японии есть своя рейтинговая организация CERO. Поэтому вполне ожидаемо, что игры с рейтингами от ESRB заметно уступают по объему продаж играм \"Not ESRB\". Из игр ESRB в основном продаются игры \"для всех\" и для \"подростков\". Игры для взрослой аудитории занимают меньшую долю, что вероятно связано  с контролем игр для взрослых со стороны  CERO. \n"
   ]
  },
  {
   "cell_type": "markdown",
   "metadata": {},
   "source": [
    "## Проверка гипотез.\n",
    "\n",
    "Проверю следующие гипотезы:\n",
    "\n",
    "- Средние пользовательские рейтинги платформ Xbox One и PC одинаковые;\n",
    "- Средние пользовательские рейтинги жанров Action (англ. «действие», экшен-игры) и Sports (англ. «спортивные соревнования») разные.\n",
    "\n",
    "Пороговое значение alpha задам самостоятельно.\n",
    "\n",
    "Согласно Центральной предельной теореме сумма достаточно большого количества слабо зависимых случайных величин, имеющих примерно одинаковые масштабы имеет распределение, близкое к нормальному. Поэтому для проверки гипотиз могу использовать t-критерий Стьюдента (сравниваемые выборки независимы между собой)."
   ]
  },
  {
   "cell_type": "code",
   "execution_count": 56,
   "metadata": {},
   "outputs": [],
   "source": [
    "x_one = df.query('platform == \"XOne\" and user_score > 0') #выборка по Xbox One\n",
    "pc = df.query('platform == \"PC\" and user_score > 0') #выборка по PC\n",
    "\n",
    "action = df.query('genre == \"Action\" and user_score > 0') #выборка по жанру Action\n",
    "sports = df.query('genre == \"Sports\" and user_score > 0') #выборка по жанру Sports\n"
   ]
  },
  {
   "cell_type": "markdown",
   "metadata": {},
   "source": [
    "### Гипотиза: Средние пользовательские рейтинги платформ Xbox One и PC одинаковые."
   ]
  },
  {
   "cell_type": "markdown",
   "metadata": {},
   "source": [
    "Сформулирую нулевую и альтернативную гипотизы:\n",
    "- H0: Средние пользовательские рейтинги платформ Xbox One и PC одинаковы.\n",
    "- H1: Средние пользовательские рейтинги платформ Xbox One и PC различаются\n",
    "\n",
    "Уровень значимости: alpha = 0.05\n",
    "\n",
    "Посчитаю p-value, используя ttest из библиотеки scipy для сравнения средних двух выборок.\n",
    "\n",
    "Если p-value будет меньше выбранного уровня значимости alpha = 0.05, то нулевую гипотезу о равенстве средних отвергну. В противном случае, сделаю вывод, что данные не позволили отвергнуть нулевую гипотезу."
   ]
  },
  {
   "cell_type": "code",
   "execution_count": 57,
   "metadata": {},
   "outputs": [
    {
     "name": "stdout",
     "output_type": "stream",
     "text": [
      "p-значение: 0.5489537965134912\n",
      "Не получилось отвергнуть нулевую гипотезу\n"
     ]
    }
   ],
   "source": [
    "#Применю ttest к пользовательским рейтингам \"Xbox One\" и \"PC\"\n",
    "alpha = .05\n",
    "\n",
    "results = st.ttest_ind(\n",
    "    x_one['user_score'],\n",
    "    pc['user_score'], equal_var = False) #значение False, т.к. выборки разного размера.\n",
    "\n",
    "print('p-значение:', results.pvalue)\n",
    "\n",
    "if results.pvalue < alpha:\n",
    "    print('Отвергаем нулевую гипотезу')\n",
    "else:\n",
    "    print('Не получилось отвергнуть нулевую гипотезу')"
   ]
  },
  {
   "cell_type": "markdown",
   "metadata": {},
   "source": [
    "**Вывод:** p-value получилось больше выбранного уровня значимости (alpha = 0.05). Не получилось отвергнуть нулевую гипотезу. Средние пользовательские рейтинги платформ Xbox One и PC не различаются при выбраном уровне статистической значимости."
   ]
  },
  {
   "cell_type": "markdown",
   "metadata": {},
   "source": [
    "### Гипотиза: Средние пользовательские рейтинги жанров Action (англ. «действие», экшен-игры) и Sports (англ. «спортивные соревнования») разные.\n"
   ]
  },
  {
   "cell_type": "markdown",
   "metadata": {},
   "source": [
    "Сформулирую нулевую и альтернативную гипотизы:\n",
    "\n",
    "H0: Средние пользовательские рейтинги жанров Action и Sports одинаковы.\n",
    "H1: Средние пользовательские рейтинги жанров Action и Sports различаются.\n",
    "Уровень значимости: alpha = 0.05\n",
    "\n",
    "Посчитаю p-value, используя ttest из библиотеки scipy для сравнения средних двух выборок.\n",
    "\n",
    "Если p-value будет меньше выбранного уровня значимости alpha = 0.05, то нулевую гипотезу о равенстве средних отвергну. В противном случае, сделаю вывод, что данные не позволили отвергнуть нулевую гипотезу."
   ]
  },
  {
   "cell_type": "code",
   "execution_count": 58,
   "metadata": {},
   "outputs": [
    {
     "name": "stdout",
     "output_type": "stream",
     "text": [
      "p-значение: 4.24307776572644e-20\n",
      "Отвергаем нулевую гипотезу\n"
     ]
    }
   ],
   "source": [
    "#Применю ttest к пользовательским рейтингам по жанрам 'Action' и 'Sports'.\n",
    "alpha = .05\n",
    "\n",
    "results = st.ttest_ind(\n",
    "    action['user_score'],\n",
    "    sports['user_score'], equal_var = False) #значение False, т.к. выборки разного размера.\n",
    "\n",
    "print('p-значение:', results.pvalue)\n",
    "\n",
    "if results.pvalue < alpha:\n",
    "    print('Отвергаем нулевую гипотезу')\n",
    "else:\n",
    "    print('Не получилось отвергнуть нулевую гипотезу')"
   ]
  },
  {
   "cell_type": "markdown",
   "metadata": {},
   "source": [
    "**Вывод:** p-value получилось меньше выбранного уровня значимости (alpha = 0.05). Отвергаем нулевую гипотезу. Средние пользовательские рейтинги жанров Action и Sports различаются."
   ]
  },
  {
   "cell_type": "markdown",
   "metadata": {},
   "source": [
    "### Вывод\n",
    "Был проведен статистический анализ пользовательских рейтингов.\n",
    "\n",
    "С помощью t-критерия Стьюдента были проверены гипотезы:\n",
    "\n",
    "- Средние пользовательские рейтинги платформ Xbox One и PC одинаковые;\n",
    "- Средние пользовательские рейтинги жанров Action и Sports разные.\n",
    "\n",
    "Статистическая проверка гипотез подтверила, что:\n",
    "\n",
    "- Средние пользовательские рейтинги платформ Xbox One и PC не различаются при выбраном уровне статистической значимости;\n",
    "- Средние пользовательские рейтинги жанров Action и Sports различаются.\n"
   ]
  },
  {
   "cell_type": "markdown",
   "metadata": {},
   "source": [
    "## Общий вывод"
   ]
  },
  {
   "cell_type": "markdown",
   "metadata": {},
   "source": [
    "Данное исследование было проведено для интернет-магазина «Стримчик», который продаёт по всему миру компьютерные игры. \n",
    "Исследование проводилось для выявления закономерностей, определяющих успешность игр. Это позволит сделать ставку на потенциально популярный продукт и спланировать рекламные кампании.\n",
    "\n",
    "Можно сделать следующие выводы:\n",
    "1. После бурного роста (вплоть до 2009года) **на рынке компьютерных игр наблюдается устойчивый спад**, связанный с развитием мобильных устройств и переходом на мобильные платформы. Падение спроса привело к уменьшению количества производимых игр и общему снижению выручки. \n",
    "\n",
    "2. Жизненный цикл игровых консолей составляет порядка 10 лет. Однако **актуальной платформа остается только половину периода -5 лет**. За этот срок обычно появляются новые платформы.\n",
    "\n",
    "3. Самое высокое значение медианной выручки за рассматриваемый период наблюдается у платформы X360. Но именно по ней наблюдается самый большой спад из всех топовых платформ к концу 2016 года. X360 была выпущена в конце 2005 года и была своего рода прорывом, а к 2016 году жизненый цикл платформы завершается. \n",
    "\n",
    "4. 3 наиболее потенциально прибыльных платформы последних лет: **PS4, XOne, 3DS**.\n",
    "\n",
    "5. Прибыльность платформ PS4 и XOne схожа. В большинстве игры на PS4 и XOne продаются в одинаковом диапазоне. 3DS имеет не такие высокие показатели продаж. В целом продажи игр для портативных игровых консолей значительно ниже.\n",
    "\n",
    "6. Наблюдается **умеренная заимосвязь между оценками критиков и уровнем продаж**. Игры с высокими продажами зачастую имеют хорошие отзывы критиков. Плохих отзывов у прибыльных проектов не наблюдается. \n",
    "\n",
    "7. **Пользователи более критично оценивают игры**. Но при этом оценки пользователей часто совпадают или находятся рядом с оценками критиков. Зависимость между оценками пользователей и уровнем продаж практически отсутствует для всех платформ, кроме японской портативной Nintendo 3DS. Успешные игры выпущенные для 3DS имеют почти всегда высокие оценки пользователей. \n",
    "\n",
    "\n",
    "8. Самыми прибыльными можно назвать игры жанров:\n",
    "    - **Shooter**. На порядок дороже остальных игр. Достаточно высокая общая выручка при меньшем количестве проданых копий. Относительно невысокое количество продаж и высокую стоимость можно связать с возрастными ограничениями для этого типа игр.\n",
    "    - **Action**. Самые высокие показатели количества и суммы продаж в общем объеме. Медианная стоимость игры сопоставима с многими другими жанрами.\n",
    "    - **Sport**. Медианное значение выручки с игры выше среднего по жанрам, в общем объеме по количеству проданых копий и общей сумме продаж находится в лидерах.\n",
    "    \n",
    "9. Самые низкие продажи по количеству и сумарной выручке приносят Puzzle, Strategy, Simulation. Эти игры требуют много времени и размышлений. Быстро надоедают.\n",
    "\n",
    "- Adventure - продаваемые, но не приносящие мало прибыли. Имеет самые низкие значения выручки с игры. Что очень странно, так как обычно хорошо графически прорисованы и далеко не самые дешевые в разработке.\n",
    "\n",
    "\n",
    "10. **Рынки Северной Америки и Европы в целом схожи**. Среди платформ первенство делят такие игровые гиганты как PlayStation от японской Sony и Xbox от Microsoft. \n",
    "\n",
    "    - В Северной Америке лидирует X360, второе и третье место делят PS4 и PS3, далее более современная XOne и замыкает Nintendo 3DS. \n",
    "\n",
    "    - В Европе первое место - PS4, далее PS3, далее X360 и XOne. Замыкает опять же Nintendo 3DS.\n",
    "\n",
    "11. В Японии выбор потребителей заметно отличается. **Японцы любят портативные игровые системы** (3DS и PSV) и выбирают только  платформы японского происхождения. Заемтно лидирует Nintendo 3DS, далее PS3, портативная PSV, PS4 и Wii U. Доля продаж топ-платформ от общих продаж в Японии выше чем в других регионах и составляет 89.9%.\n",
    "\n",
    "12. **Самые популярные жанры в Северной Америке и Европе: Action, Shooter, Sports, Role-Playing. В Японии первенство за ролевыми играми и Action.** Ни шутеры ни игры спортивного жанра не вошли в пятерку.\n",
    "\n",
    "13. **В Северной Америке и Европе лидируют игры с пометкой «Mature» — «Для взрослых»**. Популярны и игры \"Для всех\".\n",
    "\n",
    "    - Отдельно стоит отметить, что и в Северной Америке и в Европе серьезную долю занимают игры с рейтингом присвоенным другими рейтинговыми организациями.\n",
    "\n",
    "14. **В Японии есть своя рейтинговая организация CERO. Поэтому вполне ожидаемо, что игры с рейтингами от ESRB заметно уступают по объему продаж играм \"Not ESRB\"**. Из игр ESRB в основном продаются игры \"для всех\" и для \"подростков\". Игры для взрослой аудитории занимают меньшую долю, что вероятно связано с контролем игр для взрослых со стороны CERO.\n",
    "\n",
    "\n",
    "15. Статистический анализ  пользовательских рейтингов показал, что:\n",
    "    - Средние пользовательские рейтинги платформ Xbox One и PC не различаются при выбраном уровне статистической значимости;\n",
    "    - Средние пользовательские рейтинги жанров Action и Sports различаются.\n"
   ]
  }
 ],
 "metadata": {
  "ExecuteTimeLog": [
   {
    "duration": 445,
    "start_time": "2022-02-02T11:30:25.330Z"
   },
   {
    "duration": 1532,
    "start_time": "2022-02-02T11:30:30.698Z"
   },
   {
    "duration": 93,
    "start_time": "2022-02-02T11:30:32.518Z"
   },
   {
    "duration": 328,
    "start_time": "2022-02-03T20:27:04.735Z"
   },
   {
    "duration": 1419,
    "start_time": "2022-02-03T20:27:07.781Z"
   },
   {
    "duration": 68,
    "start_time": "2022-02-03T20:27:09.746Z"
   },
   {
    "duration": 13,
    "start_time": "2022-02-03T20:27:19.021Z"
   },
   {
    "duration": 42,
    "start_time": "2022-02-03T20:40:47.430Z"
   },
   {
    "duration": 12,
    "start_time": "2022-02-03T20:59:07.010Z"
   },
   {
    "duration": 1186,
    "start_time": "2022-02-03T21:03:09.402Z"
   },
   {
    "duration": 4,
    "start_time": "2022-02-03T21:03:29.260Z"
   },
   {
    "duration": 4,
    "start_time": "2022-02-03T21:03:33.331Z"
   },
   {
    "duration": 19,
    "start_time": "2022-02-03T21:03:45.937Z"
   },
   {
    "duration": 304,
    "start_time": "2022-02-03T21:05:57.558Z"
   },
   {
    "duration": 16,
    "start_time": "2022-02-03T21:12:14.487Z"
   },
   {
    "duration": 38,
    "start_time": "2022-02-03T21:13:40.510Z"
   },
   {
    "duration": 15,
    "start_time": "2022-02-03T21:14:32.722Z"
   },
   {
    "duration": 23,
    "start_time": "2022-02-03T21:14:55.348Z"
   },
   {
    "duration": 21,
    "start_time": "2022-02-03T21:25:29.253Z"
   },
   {
    "duration": 5,
    "start_time": "2022-02-03T21:26:38.286Z"
   },
   {
    "duration": 9,
    "start_time": "2022-02-03T21:27:11.978Z"
   },
   {
    "duration": 6,
    "start_time": "2022-02-03T21:27:43.016Z"
   },
   {
    "duration": 6,
    "start_time": "2022-02-03T21:32:55.800Z"
   },
   {
    "duration": 3,
    "start_time": "2022-02-03T21:32:59.427Z"
   },
   {
    "duration": 8,
    "start_time": "2022-02-03T21:39:30.484Z"
   },
   {
    "duration": 10,
    "start_time": "2022-02-03T21:43:24.757Z"
   },
   {
    "duration": 8,
    "start_time": "2022-02-03T21:44:33.174Z"
   },
   {
    "duration": 13,
    "start_time": "2022-02-03T21:44:40.931Z"
   },
   {
    "duration": 8,
    "start_time": "2022-02-03T21:52:33.227Z"
   },
   {
    "duration": 9,
    "start_time": "2022-02-03T21:58:53.805Z"
   },
   {
    "duration": 11,
    "start_time": "2022-02-03T21:59:17.661Z"
   },
   {
    "duration": 8,
    "start_time": "2022-02-03T22:00:54.425Z"
   },
   {
    "duration": 6,
    "start_time": "2022-02-03T22:08:59.249Z"
   },
   {
    "duration": 12,
    "start_time": "2022-02-03T22:09:01.957Z"
   },
   {
    "duration": 13,
    "start_time": "2022-02-03T22:09:52.306Z"
   },
   {
    "duration": 8,
    "start_time": "2022-02-03T22:31:09.909Z"
   },
   {
    "duration": 9,
    "start_time": "2022-02-03T22:31:20.997Z"
   },
   {
    "duration": 6,
    "start_time": "2022-02-03T22:50:45.923Z"
   },
   {
    "duration": 15,
    "start_time": "2022-02-03T22:57:04.947Z"
   },
   {
    "duration": 29,
    "start_time": "2022-02-03T23:14:08.652Z"
   },
   {
    "duration": 1881,
    "start_time": "2022-02-03T23:14:46.477Z"
   },
   {
    "duration": 91,
    "start_time": "2022-02-03T23:14:48.362Z"
   },
   {
    "duration": 19,
    "start_time": "2022-02-03T23:14:48.457Z"
   },
   {
    "duration": 14,
    "start_time": "2022-02-03T23:14:48.479Z"
   },
   {
    "duration": 12,
    "start_time": "2022-02-03T23:14:48.495Z"
   },
   {
    "duration": 47,
    "start_time": "2022-02-03T23:14:48.509Z"
   },
   {
    "duration": 20,
    "start_time": "2022-02-03T23:14:48.559Z"
   },
   {
    "duration": 6,
    "start_time": "2022-02-03T23:14:48.583Z"
   },
   {
    "duration": 11,
    "start_time": "2022-02-03T23:14:48.592Z"
   },
   {
    "duration": 45,
    "start_time": "2022-02-03T23:14:48.605Z"
   },
   {
    "duration": 10,
    "start_time": "2022-02-03T23:14:48.653Z"
   },
   {
    "duration": 23,
    "start_time": "2022-02-03T23:14:48.666Z"
   },
   {
    "duration": 20,
    "start_time": "2022-02-03T23:14:48.692Z"
   },
   {
    "duration": 11,
    "start_time": "2022-02-03T23:14:48.715Z"
   },
   {
    "duration": 31,
    "start_time": "2022-02-03T23:14:48.729Z"
   },
   {
    "duration": 17,
    "start_time": "2022-02-03T23:14:48.763Z"
   },
   {
    "duration": 11,
    "start_time": "2022-02-03T23:14:48.783Z"
   },
   {
    "duration": 61,
    "start_time": "2022-02-03T23:14:48.797Z"
   },
   {
    "duration": 6,
    "start_time": "2022-02-03T23:31:29.805Z"
   },
   {
    "duration": 6,
    "start_time": "2022-02-03T23:33:01.602Z"
   },
   {
    "duration": 93,
    "start_time": "2022-02-03T23:36:19.810Z"
   },
   {
    "duration": 6,
    "start_time": "2022-02-03T23:36:27.566Z"
   },
   {
    "duration": 6,
    "start_time": "2022-02-03T23:36:29.819Z"
   },
   {
    "duration": 410,
    "start_time": "2022-02-04T19:03:34.246Z"
   },
   {
    "duration": 1208,
    "start_time": "2022-02-04T19:03:45.888Z"
   },
   {
    "duration": 54,
    "start_time": "2022-02-04T19:03:47.099Z"
   },
   {
    "duration": 10,
    "start_time": "2022-02-04T19:03:47.155Z"
   },
   {
    "duration": 9,
    "start_time": "2022-02-04T19:03:47.167Z"
   },
   {
    "duration": 11,
    "start_time": "2022-02-04T19:03:47.177Z"
   },
   {
    "duration": 9,
    "start_time": "2022-02-04T19:03:47.190Z"
   },
   {
    "duration": 30,
    "start_time": "2022-02-04T19:03:47.200Z"
   },
   {
    "duration": 4,
    "start_time": "2022-02-04T19:03:47.233Z"
   },
   {
    "duration": 5,
    "start_time": "2022-02-04T19:03:47.239Z"
   },
   {
    "duration": 6,
    "start_time": "2022-02-04T19:03:47.246Z"
   },
   {
    "duration": 6,
    "start_time": "2022-02-04T19:03:47.254Z"
   },
   {
    "duration": 10,
    "start_time": "2022-02-04T19:03:47.262Z"
   },
   {
    "duration": 7,
    "start_time": "2022-02-04T19:03:47.273Z"
   },
   {
    "duration": 43,
    "start_time": "2022-02-04T19:03:47.282Z"
   },
   {
    "duration": 7,
    "start_time": "2022-02-04T19:03:47.327Z"
   },
   {
    "duration": 9,
    "start_time": "2022-02-04T19:03:47.335Z"
   },
   {
    "duration": 14,
    "start_time": "2022-02-04T19:03:47.346Z"
   },
   {
    "duration": 10,
    "start_time": "2022-02-04T19:03:47.362Z"
   },
   {
    "duration": 3,
    "start_time": "2022-02-04T19:03:47.374Z"
   },
   {
    "duration": 16,
    "start_time": "2022-02-04T19:03:47.378Z"
   },
   {
    "duration": 839,
    "start_time": "2022-02-04T19:03:47.418Z"
   },
   {
    "duration": 877,
    "start_time": "2022-02-04T19:05:45.229Z"
   },
   {
    "duration": 714,
    "start_time": "2022-02-04T19:05:58.104Z"
   },
   {
    "duration": 373,
    "start_time": "2022-02-04T19:09:07.586Z"
   },
   {
    "duration": 387,
    "start_time": "2022-02-04T19:42:02.114Z"
   },
   {
    "duration": 368,
    "start_time": "2022-02-04T19:44:44.810Z"
   },
   {
    "duration": 334,
    "start_time": "2022-02-04T19:45:54.914Z"
   },
   {
    "duration": 497,
    "start_time": "2022-02-04T19:50:18.561Z"
   },
   {
    "duration": 9,
    "start_time": "2022-02-04T19:53:52.404Z"
   },
   {
    "duration": 9,
    "start_time": "2022-02-04T19:54:31.223Z"
   },
   {
    "duration": 9,
    "start_time": "2022-02-04T19:57:05.644Z"
   },
   {
    "duration": 11,
    "start_time": "2022-02-04T19:57:55.295Z"
   },
   {
    "duration": 11,
    "start_time": "2022-02-04T20:00:47.213Z"
   },
   {
    "duration": 347,
    "start_time": "2022-02-04T20:02:18.062Z"
   },
   {
    "duration": 388,
    "start_time": "2022-02-04T20:02:29.303Z"
   },
   {
    "duration": 3,
    "start_time": "2022-02-04T20:12:41.305Z"
   },
   {
    "duration": 4,
    "start_time": "2022-02-04T20:12:59.796Z"
   },
   {
    "duration": 282,
    "start_time": "2022-02-04T20:14:30.553Z"
   },
   {
    "duration": 270,
    "start_time": "2022-02-04T20:15:27.792Z"
   },
   {
    "duration": 1168,
    "start_time": "2022-02-04T20:16:38.321Z"
   },
   {
    "duration": 55,
    "start_time": "2022-02-04T20:16:39.491Z"
   },
   {
    "duration": 10,
    "start_time": "2022-02-04T20:16:39.548Z"
   },
   {
    "duration": 9,
    "start_time": "2022-02-04T20:16:39.560Z"
   },
   {
    "duration": 8,
    "start_time": "2022-02-04T20:16:39.571Z"
   },
   {
    "duration": 9,
    "start_time": "2022-02-04T20:16:39.581Z"
   },
   {
    "duration": 37,
    "start_time": "2022-02-04T20:16:39.592Z"
   },
   {
    "duration": 4,
    "start_time": "2022-02-04T20:16:39.632Z"
   },
   {
    "duration": 10,
    "start_time": "2022-02-04T20:16:39.638Z"
   },
   {
    "duration": 6,
    "start_time": "2022-02-04T20:16:39.649Z"
   },
   {
    "duration": 4,
    "start_time": "2022-02-04T20:16:39.657Z"
   },
   {
    "duration": 9,
    "start_time": "2022-02-04T20:16:39.663Z"
   },
   {
    "duration": 8,
    "start_time": "2022-02-04T20:16:39.673Z"
   },
   {
    "duration": 37,
    "start_time": "2022-02-04T20:16:39.682Z"
   },
   {
    "duration": 8,
    "start_time": "2022-02-04T20:16:39.720Z"
   },
   {
    "duration": 6,
    "start_time": "2022-02-04T20:16:39.729Z"
   },
   {
    "duration": 10,
    "start_time": "2022-02-04T20:16:39.737Z"
   },
   {
    "duration": 9,
    "start_time": "2022-02-04T20:16:39.749Z"
   },
   {
    "duration": 5,
    "start_time": "2022-02-04T20:16:39.760Z"
   },
   {
    "duration": 21,
    "start_time": "2022-02-04T20:16:39.767Z"
   },
   {
    "duration": 399,
    "start_time": "2022-02-04T20:16:39.789Z"
   },
   {
    "duration": 338,
    "start_time": "2022-02-04T20:16:40.190Z"
   },
   {
    "duration": 10,
    "start_time": "2022-02-04T20:16:40.531Z"
   },
   {
    "duration": 12,
    "start_time": "2022-02-04T20:16:40.543Z"
   },
   {
    "duration": 639,
    "start_time": "2022-02-04T20:16:40.556Z"
   },
   {
    "duration": -633,
    "start_time": "2022-02-04T20:16:41.830Z"
   },
   {
    "duration": 1157,
    "start_time": "2022-02-04T20:16:51.131Z"
   },
   {
    "duration": 51,
    "start_time": "2022-02-04T20:16:52.290Z"
   },
   {
    "duration": 9,
    "start_time": "2022-02-04T20:16:52.343Z"
   },
   {
    "duration": 11,
    "start_time": "2022-02-04T20:16:52.354Z"
   },
   {
    "duration": 8,
    "start_time": "2022-02-04T20:16:52.367Z"
   },
   {
    "duration": 14,
    "start_time": "2022-02-04T20:16:52.377Z"
   },
   {
    "duration": 33,
    "start_time": "2022-02-04T20:16:52.393Z"
   },
   {
    "duration": 4,
    "start_time": "2022-02-04T20:16:52.428Z"
   },
   {
    "duration": 9,
    "start_time": "2022-02-04T20:16:52.434Z"
   },
   {
    "duration": 8,
    "start_time": "2022-02-04T20:16:52.445Z"
   },
   {
    "duration": 6,
    "start_time": "2022-02-04T20:16:52.454Z"
   },
   {
    "duration": 11,
    "start_time": "2022-02-04T20:16:52.462Z"
   },
   {
    "duration": 7,
    "start_time": "2022-02-04T20:16:52.475Z"
   },
   {
    "duration": 9,
    "start_time": "2022-02-04T20:16:52.483Z"
   },
   {
    "duration": 31,
    "start_time": "2022-02-04T20:16:52.493Z"
   },
   {
    "duration": 11,
    "start_time": "2022-02-04T20:16:52.526Z"
   },
   {
    "duration": 13,
    "start_time": "2022-02-04T20:16:52.538Z"
   },
   {
    "duration": 9,
    "start_time": "2022-02-04T20:16:52.553Z"
   },
   {
    "duration": 3,
    "start_time": "2022-02-04T20:16:52.564Z"
   },
   {
    "duration": 17,
    "start_time": "2022-02-04T20:16:52.569Z"
   },
   {
    "duration": 389,
    "start_time": "2022-02-04T20:16:52.588Z"
   },
   {
    "duration": 334,
    "start_time": "2022-02-04T20:16:52.979Z"
   },
   {
    "duration": 10,
    "start_time": "2022-02-04T20:16:53.316Z"
   },
   {
    "duration": 4,
    "start_time": "2022-02-04T20:16:53.328Z"
   },
   {
    "duration": 434,
    "start_time": "2022-02-04T20:16:53.334Z"
   },
   {
    "duration": -624,
    "start_time": "2022-02-04T20:16:54.395Z"
   },
   {
    "duration": 25,
    "start_time": "2022-02-04T20:18:46.261Z"
   },
   {
    "duration": 24,
    "start_time": "2022-02-04T20:19:04.511Z"
   },
   {
    "duration": 240,
    "start_time": "2022-02-04T20:19:31.098Z"
   },
   {
    "duration": 248,
    "start_time": "2022-02-04T20:21:51.892Z"
   },
   {
    "duration": 253,
    "start_time": "2022-02-04T20:22:02.511Z"
   },
   {
    "duration": 245,
    "start_time": "2022-02-04T20:22:16.681Z"
   },
   {
    "duration": 383,
    "start_time": "2022-02-04T20:22:39.470Z"
   },
   {
    "duration": 89,
    "start_time": "2022-02-04T20:24:15.654Z"
   },
   {
    "duration": 306,
    "start_time": "2022-02-04T20:25:26.090Z"
   },
   {
    "duration": 417,
    "start_time": "2022-02-04T20:29:40.231Z"
   },
   {
    "duration": 322,
    "start_time": "2022-02-04T20:32:07.371Z"
   },
   {
    "duration": 328,
    "start_time": "2022-02-04T20:34:55.735Z"
   },
   {
    "duration": 257,
    "start_time": "2022-02-04T20:44:03.779Z"
   },
   {
    "duration": 13,
    "start_time": "2022-02-04T20:45:29.201Z"
   },
   {
    "duration": 430,
    "start_time": "2022-02-04T21:19:49.750Z"
   },
   {
    "duration": 4,
    "start_time": "2022-02-04T21:20:39.948Z"
   },
   {
    "duration": 18,
    "start_time": "2022-02-04T21:21:07.289Z"
   },
   {
    "duration": 312,
    "start_time": "2022-02-04T21:21:17.897Z"
   },
   {
    "duration": 13,
    "start_time": "2022-02-04T21:21:28.852Z"
   },
   {
    "duration": 308,
    "start_time": "2022-02-04T21:28:05.194Z"
   },
   {
    "duration": 6928,
    "start_time": "2022-02-04T21:32:14.451Z"
   },
   {
    "duration": 13,
    "start_time": "2022-02-04T21:51:54.634Z"
   },
   {
    "duration": 12,
    "start_time": "2022-02-04T21:52:04.321Z"
   },
   {
    "duration": 13,
    "start_time": "2022-02-04T21:52:26.992Z"
   },
   {
    "duration": 13,
    "start_time": "2022-02-04T21:54:31.512Z"
   },
   {
    "duration": 12,
    "start_time": "2022-02-04T21:55:51.064Z"
   },
   {
    "duration": 13,
    "start_time": "2022-02-04T22:10:34.947Z"
   },
   {
    "duration": 7,
    "start_time": "2022-02-04T22:20:02.352Z"
   },
   {
    "duration": 355,
    "start_time": "2022-02-04T22:24:48.790Z"
   },
   {
    "duration": 1122,
    "start_time": "2022-02-04T22:26:30.770Z"
   },
   {
    "duration": 52,
    "start_time": "2022-02-04T22:26:31.894Z"
   },
   {
    "duration": 9,
    "start_time": "2022-02-04T22:26:31.948Z"
   },
   {
    "duration": 10,
    "start_time": "2022-02-04T22:26:31.959Z"
   },
   {
    "duration": 9,
    "start_time": "2022-02-04T22:26:31.971Z"
   },
   {
    "duration": 36,
    "start_time": "2022-02-04T22:26:31.982Z"
   },
   {
    "duration": 15,
    "start_time": "2022-02-04T22:26:32.020Z"
   },
   {
    "duration": 4,
    "start_time": "2022-02-04T22:26:32.038Z"
   },
   {
    "duration": 8,
    "start_time": "2022-02-04T22:26:32.044Z"
   },
   {
    "duration": 7,
    "start_time": "2022-02-04T22:26:32.053Z"
   },
   {
    "duration": 4,
    "start_time": "2022-02-04T22:26:32.062Z"
   },
   {
    "duration": 13,
    "start_time": "2022-02-04T22:26:32.068Z"
   },
   {
    "duration": 10,
    "start_time": "2022-02-04T22:26:32.082Z"
   },
   {
    "duration": 30,
    "start_time": "2022-02-04T22:26:32.093Z"
   },
   {
    "duration": 9,
    "start_time": "2022-02-04T22:26:32.124Z"
   },
   {
    "duration": 10,
    "start_time": "2022-02-04T22:26:32.135Z"
   },
   {
    "duration": 15,
    "start_time": "2022-02-04T22:26:32.146Z"
   },
   {
    "duration": 13,
    "start_time": "2022-02-04T22:26:32.163Z"
   },
   {
    "duration": 6,
    "start_time": "2022-02-04T22:26:32.178Z"
   },
   {
    "duration": 18,
    "start_time": "2022-02-04T22:26:32.186Z"
   },
   {
    "duration": 394,
    "start_time": "2022-02-04T22:26:32.205Z"
   },
   {
    "duration": 19,
    "start_time": "2022-02-04T22:26:32.601Z"
   },
   {
    "duration": 3,
    "start_time": "2022-02-04T22:26:32.624Z"
   },
   {
    "duration": 20,
    "start_time": "2022-02-04T22:26:32.629Z"
   },
   {
    "duration": 325,
    "start_time": "2022-02-04T22:26:32.650Z"
   },
   {
    "duration": 12,
    "start_time": "2022-02-04T22:26:32.977Z"
   },
   {
    "duration": 7,
    "start_time": "2022-02-04T22:26:32.991Z"
   },
   {
    "duration": 29740,
    "start_time": "2022-02-04T22:26:33.019Z"
   },
   {
    "duration": 2,
    "start_time": "2022-02-04T22:27:02.761Z"
   },
   {
    "duration": 380,
    "start_time": "2022-02-04T22:28:18.122Z"
   },
   {
    "duration": 488,
    "start_time": "2022-02-04T22:29:14.867Z"
   },
   {
    "duration": 208,
    "start_time": "2022-02-04T22:29:33.758Z"
   },
   {
    "duration": 227,
    "start_time": "2022-02-04T22:29:46.237Z"
   },
   {
    "duration": 219,
    "start_time": "2022-02-04T22:32:51.807Z"
   },
   {
    "duration": 226,
    "start_time": "2022-02-04T22:33:34.686Z"
   },
   {
    "duration": 223,
    "start_time": "2022-02-04T22:37:02.827Z"
   },
   {
    "duration": 444,
    "start_time": "2022-02-04T22:37:11.349Z"
   },
   {
    "duration": 224,
    "start_time": "2022-02-04T22:37:44.138Z"
   },
   {
    "duration": 230,
    "start_time": "2022-02-04T22:38:06.609Z"
   },
   {
    "duration": 340,
    "start_time": "2022-02-04T22:41:06.939Z"
   },
   {
    "duration": 215,
    "start_time": "2022-02-04T22:41:12.748Z"
   },
   {
    "duration": 11,
    "start_time": "2022-02-04T22:43:13.356Z"
   },
   {
    "duration": 10,
    "start_time": "2022-02-04T22:43:44.753Z"
   },
   {
    "duration": 4,
    "start_time": "2022-02-04T22:45:29.568Z"
   },
   {
    "duration": 293,
    "start_time": "2022-02-04T22:47:39.596Z"
   },
   {
    "duration": 6,
    "start_time": "2022-02-04T22:47:47.619Z"
   },
   {
    "duration": 348,
    "start_time": "2022-02-04T22:47:49.213Z"
   },
   {
    "duration": 342,
    "start_time": "2022-02-04T22:48:10.065Z"
   },
   {
    "duration": 250,
    "start_time": "2022-02-04T22:48:15.589Z"
   },
   {
    "duration": 351,
    "start_time": "2022-02-04T22:49:48.000Z"
   },
   {
    "duration": 369,
    "start_time": "2022-02-05T11:51:23.317Z"
   },
   {
    "duration": 1471,
    "start_time": "2022-02-05T11:51:32.033Z"
   },
   {
    "duration": 67,
    "start_time": "2022-02-05T11:51:33.507Z"
   },
   {
    "duration": 13,
    "start_time": "2022-02-05T11:51:33.577Z"
   },
   {
    "duration": 16,
    "start_time": "2022-02-05T11:51:33.593Z"
   },
   {
    "duration": 38,
    "start_time": "2022-02-05T11:51:33.611Z"
   },
   {
    "duration": 11,
    "start_time": "2022-02-05T11:51:33.652Z"
   },
   {
    "duration": 25,
    "start_time": "2022-02-05T11:51:33.665Z"
   },
   {
    "duration": 6,
    "start_time": "2022-02-05T11:51:33.695Z"
   },
   {
    "duration": 8,
    "start_time": "2022-02-05T11:51:33.704Z"
   },
   {
    "duration": 6,
    "start_time": "2022-02-05T11:51:33.749Z"
   },
   {
    "duration": 8,
    "start_time": "2022-02-05T11:51:33.757Z"
   },
   {
    "duration": 12,
    "start_time": "2022-02-05T11:51:33.767Z"
   },
   {
    "duration": 7,
    "start_time": "2022-02-05T11:51:33.781Z"
   },
   {
    "duration": 9,
    "start_time": "2022-02-05T11:51:33.791Z"
   },
   {
    "duration": 46,
    "start_time": "2022-02-05T11:51:33.803Z"
   },
   {
    "duration": 11,
    "start_time": "2022-02-05T11:51:33.852Z"
   },
   {
    "duration": 26,
    "start_time": "2022-02-05T11:51:33.865Z"
   },
   {
    "duration": 24,
    "start_time": "2022-02-05T11:51:33.894Z"
   },
   {
    "duration": 29,
    "start_time": "2022-02-05T11:51:33.921Z"
   },
   {
    "duration": 28,
    "start_time": "2022-02-05T11:51:33.953Z"
   },
   {
    "duration": 616,
    "start_time": "2022-02-05T11:51:33.984Z"
   },
   {
    "duration": 18,
    "start_time": "2022-02-05T11:51:34.603Z"
   },
   {
    "duration": 5,
    "start_time": "2022-02-05T11:51:34.649Z"
   },
   {
    "duration": 29,
    "start_time": "2022-02-05T11:51:34.658Z"
   },
   {
    "duration": 500,
    "start_time": "2022-02-05T11:51:34.689Z"
   },
   {
    "duration": 18,
    "start_time": "2022-02-05T11:51:35.192Z"
   },
   {
    "duration": 35,
    "start_time": "2022-02-05T11:51:35.213Z"
   },
   {
    "duration": 374,
    "start_time": "2022-02-05T11:51:35.251Z"
   },
   {
    "duration": 28,
    "start_time": "2022-02-05T11:51:35.628Z"
   },
   {
    "duration": 10,
    "start_time": "2022-02-05T11:51:35.659Z"
   },
   {
    "duration": 423,
    "start_time": "2022-02-05T11:51:35.672Z"
   },
   {
    "duration": 636,
    "start_time": "2022-02-05T11:51:36.097Z"
   },
   {
    "duration": 711,
    "start_time": "2022-02-05T11:53:48.718Z"
   },
   {
    "duration": 622,
    "start_time": "2022-02-05T11:53:59.459Z"
   },
   {
    "duration": 623,
    "start_time": "2022-02-05T11:54:09.919Z"
   },
   {
    "duration": 623,
    "start_time": "2022-02-05T11:54:25.383Z"
   },
   {
    "duration": 635,
    "start_time": "2022-02-05T11:55:27.865Z"
   },
   {
    "duration": 723,
    "start_time": "2022-02-05T11:55:40.616Z"
   },
   {
    "duration": 896,
    "start_time": "2022-02-05T12:13:04.155Z"
   },
   {
    "duration": 635,
    "start_time": "2022-02-05T12:17:58.989Z"
   },
   {
    "duration": 645,
    "start_time": "2022-02-05T12:20:23.055Z"
   },
   {
    "duration": 646,
    "start_time": "2022-02-05T12:20:39.738Z"
   },
   {
    "duration": 641,
    "start_time": "2022-02-05T12:22:32.812Z"
   },
   {
    "duration": 763,
    "start_time": "2022-02-05T12:23:06.958Z"
   },
   {
    "duration": 6,
    "start_time": "2022-02-05T13:33:39.546Z"
   },
   {
    "duration": 10,
    "start_time": "2022-02-05T13:41:24.369Z"
   },
   {
    "duration": 6,
    "start_time": "2022-02-05T13:42:36.355Z"
   },
   {
    "duration": 12,
    "start_time": "2022-02-05T13:43:01.556Z"
   },
   {
    "duration": 10,
    "start_time": "2022-02-05T13:43:44.164Z"
   },
   {
    "duration": 1505,
    "start_time": "2022-02-05T13:45:03.844Z"
   },
   {
    "duration": 70,
    "start_time": "2022-02-05T13:45:05.351Z"
   },
   {
    "duration": 25,
    "start_time": "2022-02-05T13:45:05.424Z"
   },
   {
    "duration": 14,
    "start_time": "2022-02-05T13:45:05.452Z"
   },
   {
    "duration": 11,
    "start_time": "2022-02-05T13:45:05.469Z"
   },
   {
    "duration": 16,
    "start_time": "2022-02-05T13:45:05.482Z"
   },
   {
    "duration": 59,
    "start_time": "2022-02-05T13:45:05.500Z"
   },
   {
    "duration": 6,
    "start_time": "2022-02-05T13:45:05.565Z"
   },
   {
    "duration": 9,
    "start_time": "2022-02-05T13:45:05.574Z"
   },
   {
    "duration": 10,
    "start_time": "2022-02-05T13:45:05.586Z"
   },
   {
    "duration": 7,
    "start_time": "2022-02-05T13:45:05.599Z"
   },
   {
    "duration": 11,
    "start_time": "2022-02-05T13:45:05.649Z"
   },
   {
    "duration": 9,
    "start_time": "2022-02-05T13:45:05.664Z"
   },
   {
    "duration": 14,
    "start_time": "2022-02-05T13:45:05.676Z"
   },
   {
    "duration": 9,
    "start_time": "2022-02-05T13:45:05.692Z"
   },
   {
    "duration": 45,
    "start_time": "2022-02-05T13:45:05.704Z"
   },
   {
    "duration": 15,
    "start_time": "2022-02-05T13:45:05.752Z"
   },
   {
    "duration": 12,
    "start_time": "2022-02-05T13:45:05.770Z"
   },
   {
    "duration": 16,
    "start_time": "2022-02-05T13:45:05.785Z"
   },
   {
    "duration": 64,
    "start_time": "2022-02-05T13:45:05.804Z"
   },
   {
    "duration": 614,
    "start_time": "2022-02-05T13:45:05.872Z"
   },
   {
    "duration": 18,
    "start_time": "2022-02-05T13:45:06.489Z"
   },
   {
    "duration": 5,
    "start_time": "2022-02-05T13:45:06.514Z"
   },
   {
    "duration": 37,
    "start_time": "2022-02-05T13:45:06.552Z"
   },
   {
    "duration": 521,
    "start_time": "2022-02-05T13:45:06.591Z"
   },
   {
    "duration": 34,
    "start_time": "2022-02-05T13:45:07.115Z"
   },
   {
    "duration": 10,
    "start_time": "2022-02-05T13:45:07.153Z"
   },
   {
    "duration": 447,
    "start_time": "2022-02-05T13:45:07.166Z"
   },
   {
    "duration": 14,
    "start_time": "2022-02-05T13:45:07.616Z"
   },
   {
    "duration": 24,
    "start_time": "2022-02-05T13:45:07.632Z"
   },
   {
    "duration": 581,
    "start_time": "2022-02-05T13:45:07.659Z"
   },
   {
    "duration": 680,
    "start_time": "2022-02-05T13:45:08.242Z"
   },
   {
    "duration": 453,
    "start_time": "2022-02-05T13:50:49.305Z"
   },
   {
    "duration": 23,
    "start_time": "2022-02-05T13:51:01.741Z"
   },
   {
    "duration": 550,
    "start_time": "2022-02-05T13:53:33.624Z"
   },
   {
    "duration": 468,
    "start_time": "2022-02-05T13:55:44.163Z"
   },
   {
    "duration": 463,
    "start_time": "2022-02-05T13:57:13.282Z"
   },
   {
    "duration": 37,
    "start_time": "2022-02-05T14:01:03.761Z"
   },
   {
    "duration": 26,
    "start_time": "2022-02-05T14:01:39.251Z"
   },
   {
    "duration": 39,
    "start_time": "2022-02-05T14:02:31.049Z"
   },
   {
    "duration": 25,
    "start_time": "2022-02-05T14:02:49.640Z"
   },
   {
    "duration": 471,
    "start_time": "2022-02-05T14:03:50.820Z"
   },
   {
    "duration": 438,
    "start_time": "2022-02-05T14:03:55.063Z"
   },
   {
    "duration": 457,
    "start_time": "2022-02-05T14:04:04.695Z"
   },
   {
    "duration": 483,
    "start_time": "2022-02-05T14:04:33.545Z"
   },
   {
    "duration": 6,
    "start_time": "2022-02-05T14:15:38.830Z"
   },
   {
    "duration": 5,
    "start_time": "2022-02-05T14:15:45.739Z"
   },
   {
    "duration": 6,
    "start_time": "2022-02-05T14:16:13.422Z"
   },
   {
    "duration": 6,
    "start_time": "2022-02-05T14:16:15.574Z"
   },
   {
    "duration": 95,
    "start_time": "2022-02-05T14:17:20.212Z"
   },
   {
    "duration": 6,
    "start_time": "2022-02-05T14:17:51.958Z"
   },
   {
    "duration": 5,
    "start_time": "2022-02-05T14:18:24.143Z"
   },
   {
    "duration": 5,
    "start_time": "2022-02-05T14:18:34.794Z"
   },
   {
    "duration": 5,
    "start_time": "2022-02-05T14:18:38.703Z"
   },
   {
    "duration": 5,
    "start_time": "2022-02-05T14:18:57.998Z"
   },
   {
    "duration": 8,
    "start_time": "2022-02-05T14:19:04.093Z"
   },
   {
    "duration": 843,
    "start_time": "2022-02-05T14:26:23.133Z"
   },
   {
    "duration": 385,
    "start_time": "2022-02-05T14:38:45.678Z"
   },
   {
    "duration": 595,
    "start_time": "2022-02-05T14:39:17.826Z"
   },
   {
    "duration": 491,
    "start_time": "2022-02-05T14:44:38.075Z"
   },
   {
    "duration": 507,
    "start_time": "2022-02-05T14:47:16.716Z"
   },
   {
    "duration": 479,
    "start_time": "2022-02-05T14:48:13.229Z"
   },
   {
    "duration": 566,
    "start_time": "2022-02-05T14:49:00.425Z"
   },
   {
    "duration": 492,
    "start_time": "2022-02-05T14:50:18.116Z"
   },
   {
    "duration": 501,
    "start_time": "2022-02-05T14:55:34.288Z"
   },
   {
    "duration": 469,
    "start_time": "2022-02-05T14:55:45.068Z"
   },
   {
    "duration": 319,
    "start_time": "2022-02-05T14:59:04.844Z"
   },
   {
    "duration": 414,
    "start_time": "2022-02-05T14:59:20.244Z"
   },
   {
    "duration": 526,
    "start_time": "2022-02-05T15:00:13.118Z"
   },
   {
    "duration": 533,
    "start_time": "2022-02-05T15:01:19.526Z"
   },
   {
    "duration": 537,
    "start_time": "2022-02-05T15:02:02.306Z"
   },
   {
    "duration": 518,
    "start_time": "2022-02-05T15:04:03.389Z"
   },
   {
    "duration": 751,
    "start_time": "2022-02-05T15:08:49.339Z"
   },
   {
    "duration": 574,
    "start_time": "2022-02-05T15:09:01.944Z"
   },
   {
    "duration": 513,
    "start_time": "2022-02-05T15:09:54.544Z"
   },
   {
    "duration": 514,
    "start_time": "2022-02-05T15:10:08.546Z"
   },
   {
    "duration": 940,
    "start_time": "2022-02-05T15:11:14.441Z"
   },
   {
    "duration": 622,
    "start_time": "2022-02-05T15:11:27.868Z"
   },
   {
    "duration": 737,
    "start_time": "2022-02-05T15:11:40.180Z"
   },
   {
    "duration": 588,
    "start_time": "2022-02-05T15:11:50.195Z"
   },
   {
    "duration": 546,
    "start_time": "2022-02-05T15:12:12.945Z"
   },
   {
    "duration": 457,
    "start_time": "2022-02-05T15:15:07.854Z"
   },
   {
    "duration": 475,
    "start_time": "2022-02-05T15:17:24.733Z"
   },
   {
    "duration": 431,
    "start_time": "2022-02-05T15:17:30.874Z"
   },
   {
    "duration": 1104,
    "start_time": "2022-02-05T15:19:12.765Z"
   },
   {
    "duration": 1024,
    "start_time": "2022-02-05T15:19:50.451Z"
   },
   {
    "duration": 1046,
    "start_time": "2022-02-05T15:21:04.030Z"
   },
   {
    "duration": 1140,
    "start_time": "2022-02-05T15:21:38.597Z"
   },
   {
    "duration": 1363,
    "start_time": "2022-02-05T15:23:22.122Z"
   },
   {
    "duration": 1440,
    "start_time": "2022-02-05T15:23:39.239Z"
   },
   {
    "duration": 220,
    "start_time": "2022-02-05T15:24:16.895Z"
   },
   {
    "duration": 93,
    "start_time": "2022-02-05T15:24:29.660Z"
   },
   {
    "duration": 464,
    "start_time": "2022-02-05T15:25:57.759Z"
   },
   {
    "duration": 548,
    "start_time": "2022-02-05T15:33:33.514Z"
   },
   {
    "duration": 1353,
    "start_time": "2022-02-05T15:33:48.947Z"
   },
   {
    "duration": 69,
    "start_time": "2022-02-05T15:33:50.302Z"
   },
   {
    "duration": 13,
    "start_time": "2022-02-05T15:33:50.374Z"
   },
   {
    "duration": 13,
    "start_time": "2022-02-05T15:33:50.390Z"
   },
   {
    "duration": 18,
    "start_time": "2022-02-05T15:33:50.405Z"
   },
   {
    "duration": 32,
    "start_time": "2022-02-05T15:33:50.426Z"
   },
   {
    "duration": 21,
    "start_time": "2022-02-05T15:33:50.460Z"
   },
   {
    "duration": 6,
    "start_time": "2022-02-05T15:33:50.484Z"
   },
   {
    "duration": 7,
    "start_time": "2022-02-05T15:33:50.497Z"
   },
   {
    "duration": 7,
    "start_time": "2022-02-05T15:33:50.548Z"
   },
   {
    "duration": 9,
    "start_time": "2022-02-05T15:33:50.559Z"
   },
   {
    "duration": 18,
    "start_time": "2022-02-05T15:33:50.571Z"
   },
   {
    "duration": 13,
    "start_time": "2022-02-05T15:33:50.591Z"
   },
   {
    "duration": 9,
    "start_time": "2022-02-05T15:33:50.606Z"
   },
   {
    "duration": 5,
    "start_time": "2022-02-05T15:33:50.648Z"
   },
   {
    "duration": 8,
    "start_time": "2022-02-05T15:33:50.656Z"
   },
   {
    "duration": 13,
    "start_time": "2022-02-05T15:33:50.667Z"
   },
   {
    "duration": 8,
    "start_time": "2022-02-05T15:33:50.682Z"
   },
   {
    "duration": 23,
    "start_time": "2022-02-05T15:33:50.693Z"
   },
   {
    "duration": 55,
    "start_time": "2022-02-05T15:33:50.719Z"
   },
   {
    "duration": 608,
    "start_time": "2022-02-05T15:33:50.776Z"
   },
   {
    "duration": 14,
    "start_time": "2022-02-05T15:33:51.387Z"
   },
   {
    "duration": 6,
    "start_time": "2022-02-05T15:33:51.403Z"
   },
   {
    "duration": 53,
    "start_time": "2022-02-05T15:33:51.411Z"
   },
   {
    "duration": 478,
    "start_time": "2022-02-05T15:33:51.466Z"
   },
   {
    "duration": 16,
    "start_time": "2022-02-05T15:33:51.949Z"
   },
   {
    "duration": 7,
    "start_time": "2022-02-05T15:33:51.969Z"
   },
   {
    "duration": 553,
    "start_time": "2022-02-05T15:33:51.979Z"
   },
   {
    "duration": 31,
    "start_time": "2022-02-05T15:33:52.535Z"
   },
   {
    "duration": 10,
    "start_time": "2022-02-05T15:33:52.570Z"
   },
   {
    "duration": 446,
    "start_time": "2022-02-05T15:33:52.583Z"
   },
   {
    "duration": 700,
    "start_time": "2022-02-05T15:33:53.031Z"
   },
   {
    "duration": 38,
    "start_time": "2022-02-05T15:33:53.734Z"
   },
   {
    "duration": 558,
    "start_time": "2022-02-05T15:33:53.774Z"
   },
   {
    "duration": 477,
    "start_time": "2022-02-05T15:33:54.335Z"
   },
   {
    "duration": 600,
    "start_time": "2022-02-05T15:33:54.814Z"
   },
   {
    "duration": 3,
    "start_time": "2022-02-05T16:09:00.648Z"
   },
   {
    "duration": 563,
    "start_time": "2022-02-05T16:16:25.388Z"
   },
   {
    "duration": 421,
    "start_time": "2022-02-05T16:57:18.533Z"
   },
   {
    "duration": 30,
    "start_time": "2022-02-05T17:02:41.924Z"
   },
   {
    "duration": 33,
    "start_time": "2022-02-05T17:03:43.700Z"
   },
   {
    "duration": 301,
    "start_time": "2022-02-05T17:04:25.951Z"
   },
   {
    "duration": 35,
    "start_time": "2022-02-05T17:05:42.883Z"
   },
   {
    "duration": 310,
    "start_time": "2022-02-05T17:06:09.929Z"
   },
   {
    "duration": 24,
    "start_time": "2022-02-05T17:13:20.480Z"
   },
   {
    "duration": 7761,
    "start_time": "2022-02-05T17:17:18.717Z"
   },
   {
    "duration": 359,
    "start_time": "2022-02-05T17:20:26.037Z"
   },
   {
    "duration": 291,
    "start_time": "2022-02-05T17:21:01.625Z"
   },
   {
    "duration": 27,
    "start_time": "2022-02-05T17:26:49.573Z"
   },
   {
    "duration": 741,
    "start_time": "2022-02-05T17:42:22.728Z"
   },
   {
    "duration": 29,
    "start_time": "2022-02-05T17:42:33.343Z"
   },
   {
    "duration": 97,
    "start_time": "2022-02-05T17:52:01.290Z"
   },
   {
    "duration": 85,
    "start_time": "2022-02-05T17:52:13.274Z"
   },
   {
    "duration": 99,
    "start_time": "2022-02-05T17:52:18.938Z"
   },
   {
    "duration": 4053,
    "start_time": "2022-02-05T17:52:32.968Z"
   },
   {
    "duration": 3980,
    "start_time": "2022-02-05T17:52:48.795Z"
   },
   {
    "duration": 294,
    "start_time": "2022-02-05T17:54:31.029Z"
   },
   {
    "duration": 419,
    "start_time": "2022-02-05T17:54:45.831Z"
   },
   {
    "duration": 3739,
    "start_time": "2022-02-05T17:55:37.268Z"
   },
   {
    "duration": 3520,
    "start_time": "2022-02-05T17:56:24.032Z"
   },
   {
    "duration": 3663,
    "start_time": "2022-02-05T17:56:47.188Z"
   },
   {
    "duration": 1328,
    "start_time": "2022-02-05T18:02:06.528Z"
   },
   {
    "duration": 1436,
    "start_time": "2022-02-05T18:02:21.171Z"
   },
   {
    "duration": 1423,
    "start_time": "2022-02-05T18:02:31.040Z"
   },
   {
    "duration": 3936,
    "start_time": "2022-02-05T18:03:29.232Z"
   },
   {
    "duration": 328,
    "start_time": "2022-02-05T18:06:17.080Z"
   },
   {
    "duration": 1509,
    "start_time": "2022-02-05T18:08:00.090Z"
   },
   {
    "duration": 1402,
    "start_time": "2022-02-05T18:09:19.035Z"
   },
   {
    "duration": 1849,
    "start_time": "2022-02-05T18:09:40.220Z"
   },
   {
    "duration": 1969,
    "start_time": "2022-02-05T18:10:44.979Z"
   },
   {
    "duration": 1537,
    "start_time": "2022-02-05T18:11:08.292Z"
   },
   {
    "duration": 8894,
    "start_time": "2022-02-05T18:11:22.000Z"
   },
   {
    "duration": 1450,
    "start_time": "2022-02-05T18:12:07.451Z"
   },
   {
    "duration": 1506,
    "start_time": "2022-02-05T18:12:48.237Z"
   },
   {
    "duration": 3461,
    "start_time": "2022-02-05T18:13:18.854Z"
   },
   {
    "duration": 3522,
    "start_time": "2022-02-05T18:14:39.733Z"
   },
   {
    "duration": 359,
    "start_time": "2022-02-05T18:34:03.268Z"
   },
   {
    "duration": 363,
    "start_time": "2022-02-05T18:40:38.297Z"
   },
   {
    "duration": 303,
    "start_time": "2022-02-05T18:41:14.214Z"
   },
   {
    "duration": 301,
    "start_time": "2022-02-05T18:43:21.366Z"
   },
   {
    "duration": 1909,
    "start_time": "2022-02-05T18:44:21.952Z"
   },
   {
    "duration": 66,
    "start_time": "2022-02-05T18:44:23.864Z"
   },
   {
    "duration": 18,
    "start_time": "2022-02-05T18:44:23.934Z"
   },
   {
    "duration": 14,
    "start_time": "2022-02-05T18:44:23.955Z"
   },
   {
    "duration": 12,
    "start_time": "2022-02-05T18:44:23.972Z"
   },
   {
    "duration": 12,
    "start_time": "2022-02-05T18:44:23.987Z"
   },
   {
    "duration": 58,
    "start_time": "2022-02-05T18:44:24.002Z"
   },
   {
    "duration": 6,
    "start_time": "2022-02-05T18:44:24.065Z"
   },
   {
    "duration": 9,
    "start_time": "2022-02-05T18:44:24.076Z"
   },
   {
    "duration": 8,
    "start_time": "2022-02-05T18:44:24.087Z"
   },
   {
    "duration": 7,
    "start_time": "2022-02-05T18:44:24.097Z"
   },
   {
    "duration": 53,
    "start_time": "2022-02-05T18:44:24.106Z"
   },
   {
    "duration": 10,
    "start_time": "2022-02-05T18:44:24.163Z"
   },
   {
    "duration": 12,
    "start_time": "2022-02-05T18:44:24.176Z"
   },
   {
    "duration": 15,
    "start_time": "2022-02-05T18:44:24.191Z"
   },
   {
    "duration": 42,
    "start_time": "2022-02-05T18:44:24.208Z"
   },
   {
    "duration": 17,
    "start_time": "2022-02-05T18:44:24.254Z"
   },
   {
    "duration": 9,
    "start_time": "2022-02-05T18:44:24.274Z"
   },
   {
    "duration": 18,
    "start_time": "2022-02-05T18:44:24.285Z"
   },
   {
    "duration": 57,
    "start_time": "2022-02-05T18:44:24.307Z"
   },
   {
    "duration": 631,
    "start_time": "2022-02-05T18:44:24.367Z"
   },
   {
    "duration": 15,
    "start_time": "2022-02-05T18:44:25.001Z"
   },
   {
    "duration": 26,
    "start_time": "2022-02-05T18:44:25.021Z"
   },
   {
    "duration": 25,
    "start_time": "2022-02-05T18:44:25.051Z"
   },
   {
    "duration": 492,
    "start_time": "2022-02-05T18:44:25.078Z"
   },
   {
    "duration": 19,
    "start_time": "2022-02-05T18:44:25.573Z"
   },
   {
    "duration": 7,
    "start_time": "2022-02-05T18:44:25.594Z"
   },
   {
    "duration": 407,
    "start_time": "2022-02-05T18:44:25.604Z"
   },
   {
    "duration": 14,
    "start_time": "2022-02-05T18:44:26.014Z"
   },
   {
    "duration": 8,
    "start_time": "2022-02-05T18:44:26.049Z"
   },
   {
    "duration": 435,
    "start_time": "2022-02-05T18:44:26.059Z"
   },
   {
    "duration": 737,
    "start_time": "2022-02-05T18:44:26.497Z"
   },
   {
    "duration": 35,
    "start_time": "2022-02-05T18:44:27.237Z"
   },
   {
    "duration": 580,
    "start_time": "2022-02-05T18:44:27.276Z"
   },
   {
    "duration": 446,
    "start_time": "2022-02-05T18:44:27.859Z"
   },
   {
    "duration": 612,
    "start_time": "2022-02-05T18:44:28.308Z"
   },
   {
    "duration": 711,
    "start_time": "2022-02-05T18:44:28.923Z"
   },
   {
    "duration": 4221,
    "start_time": "2022-02-05T18:44:29.637Z"
   },
   {
    "duration": 720,
    "start_time": "2022-02-05T18:44:33.861Z"
   },
   {
    "duration": 735,
    "start_time": "2022-02-05T18:46:10.697Z"
   },
   {
    "duration": 677,
    "start_time": "2022-02-05T18:46:40.290Z"
   },
   {
    "duration": 669,
    "start_time": "2022-02-05T18:46:50.611Z"
   },
   {
    "duration": 631,
    "start_time": "2022-02-05T18:47:59.068Z"
   },
   {
    "duration": 645,
    "start_time": "2022-02-05T18:48:05.918Z"
   },
   {
    "duration": 862,
    "start_time": "2022-02-05T18:48:18.541Z"
   },
   {
    "duration": 479,
    "start_time": "2022-02-05T18:54:42.562Z"
   },
   {
    "duration": 477,
    "start_time": "2022-02-05T18:57:48.936Z"
   },
   {
    "duration": 458,
    "start_time": "2022-02-05T18:58:42.266Z"
   },
   {
    "duration": 535,
    "start_time": "2022-02-05T18:59:40.993Z"
   },
   {
    "duration": 469,
    "start_time": "2022-02-05T18:59:47.640Z"
   },
   {
    "duration": 520,
    "start_time": "2022-02-05T19:01:11.898Z"
   },
   {
    "duration": 477,
    "start_time": "2022-02-05T19:01:50.764Z"
   },
   {
    "duration": 486,
    "start_time": "2022-02-05T19:02:02.483Z"
   },
   {
    "duration": 473,
    "start_time": "2022-02-05T19:04:15.108Z"
   },
   {
    "duration": 472,
    "start_time": "2022-02-05T19:04:31.889Z"
   },
   {
    "duration": 56,
    "start_time": "2022-02-05T19:06:34.746Z"
   },
   {
    "duration": 59,
    "start_time": "2022-02-05T19:11:39.739Z"
   },
   {
    "duration": 458,
    "start_time": "2022-02-05T19:11:49.194Z"
   },
   {
    "duration": 474,
    "start_time": "2022-02-05T19:15:48.951Z"
   },
   {
    "duration": 470,
    "start_time": "2022-02-05T19:16:41.250Z"
   },
   {
    "duration": 576,
    "start_time": "2022-02-05T19:24:31.755Z"
   },
   {
    "duration": 489,
    "start_time": "2022-02-05T19:24:43.741Z"
   },
   {
    "duration": 691,
    "start_time": "2022-02-05T19:25:01.834Z"
   },
   {
    "duration": 475,
    "start_time": "2022-02-05T19:25:08.512Z"
   },
   {
    "duration": 459,
    "start_time": "2022-02-05T19:26:58.182Z"
   },
   {
    "duration": 476,
    "start_time": "2022-02-05T19:33:42.662Z"
   },
   {
    "duration": 657,
    "start_time": "2022-02-05T19:58:12.427Z"
   },
   {
    "duration": 642,
    "start_time": "2022-02-05T19:58:25.006Z"
   },
   {
    "duration": 1831,
    "start_time": "2022-02-08T11:16:11.145Z"
   },
   {
    "duration": 64,
    "start_time": "2022-02-08T11:16:12.979Z"
   },
   {
    "duration": 13,
    "start_time": "2022-02-08T11:16:13.046Z"
   },
   {
    "duration": 18,
    "start_time": "2022-02-08T11:16:13.062Z"
   },
   {
    "duration": 11,
    "start_time": "2022-02-08T11:16:13.083Z"
   },
   {
    "duration": 43,
    "start_time": "2022-02-08T11:16:13.097Z"
   },
   {
    "duration": 22,
    "start_time": "2022-02-08T11:16:13.143Z"
   },
   {
    "duration": 5,
    "start_time": "2022-02-08T11:16:13.171Z"
   },
   {
    "duration": 9,
    "start_time": "2022-02-08T11:16:13.180Z"
   },
   {
    "duration": 6,
    "start_time": "2022-02-08T11:16:13.233Z"
   },
   {
    "duration": 8,
    "start_time": "2022-02-08T11:16:13.242Z"
   },
   {
    "duration": 12,
    "start_time": "2022-02-08T11:16:13.252Z"
   },
   {
    "duration": 7,
    "start_time": "2022-02-08T11:16:13.266Z"
   },
   {
    "duration": 11,
    "start_time": "2022-02-08T11:16:13.276Z"
   },
   {
    "duration": 46,
    "start_time": "2022-02-08T11:16:13.290Z"
   },
   {
    "duration": 9,
    "start_time": "2022-02-08T11:16:13.338Z"
   },
   {
    "duration": 17,
    "start_time": "2022-02-08T11:16:13.349Z"
   },
   {
    "duration": 12,
    "start_time": "2022-02-08T11:16:13.369Z"
   },
   {
    "duration": 19,
    "start_time": "2022-02-08T11:16:13.383Z"
   },
   {
    "duration": 48,
    "start_time": "2022-02-08T11:16:13.404Z"
   },
   {
    "duration": 608,
    "start_time": "2022-02-08T11:16:13.454Z"
   },
   {
    "duration": 15,
    "start_time": "2022-02-08T11:16:14.065Z"
   },
   {
    "duration": 4,
    "start_time": "2022-02-08T11:16:14.085Z"
   },
   {
    "duration": 51,
    "start_time": "2022-02-08T11:16:14.093Z"
   },
   {
    "duration": 490,
    "start_time": "2022-02-08T11:16:14.147Z"
   },
   {
    "duration": 18,
    "start_time": "2022-02-08T11:16:14.640Z"
   },
   {
    "duration": 9,
    "start_time": "2022-02-08T11:16:14.661Z"
   },
   {
    "duration": 394,
    "start_time": "2022-02-08T11:16:14.673Z"
   },
   {
    "duration": 16,
    "start_time": "2022-02-08T11:16:15.070Z"
   },
   {
    "duration": 12,
    "start_time": "2022-02-08T11:16:15.089Z"
   },
   {
    "duration": 433,
    "start_time": "2022-02-08T11:16:15.103Z"
   },
   {
    "duration": 684,
    "start_time": "2022-02-08T11:16:15.538Z"
   },
   {
    "duration": 30,
    "start_time": "2022-02-08T11:16:16.224Z"
   },
   {
    "duration": 545,
    "start_time": "2022-02-08T11:16:16.256Z"
   },
   {
    "duration": 470,
    "start_time": "2022-02-08T11:16:16.804Z"
   },
   {
    "duration": 586,
    "start_time": "2022-02-08T11:16:17.277Z"
   },
   {
    "duration": 606,
    "start_time": "2022-02-08T11:16:17.865Z"
   },
   {
    "duration": 4064,
    "start_time": "2022-02-08T11:16:18.473Z"
   },
   {
    "duration": 625,
    "start_time": "2022-02-08T11:16:22.540Z"
   },
   {
    "duration": 669,
    "start_time": "2022-02-08T11:16:23.168Z"
   },
   {
    "duration": 9,
    "start_time": "2022-02-08T11:16:23.841Z"
   },
   {
    "duration": 1602,
    "start_time": "2022-02-08T20:13:16.880Z"
   },
   {
    "duration": 52,
    "start_time": "2022-02-08T20:13:18.483Z"
   },
   {
    "duration": 10,
    "start_time": "2022-02-08T20:13:18.538Z"
   },
   {
    "duration": 10,
    "start_time": "2022-02-08T20:13:18.550Z"
   },
   {
    "duration": 12,
    "start_time": "2022-02-08T20:13:18.562Z"
   },
   {
    "duration": 27,
    "start_time": "2022-02-08T20:13:18.575Z"
   },
   {
    "duration": 17,
    "start_time": "2022-02-08T20:13:18.604Z"
   },
   {
    "duration": 4,
    "start_time": "2022-02-08T20:13:18.624Z"
   },
   {
    "duration": 7,
    "start_time": "2022-02-08T20:13:18.630Z"
   },
   {
    "duration": 7,
    "start_time": "2022-02-08T20:13:18.639Z"
   },
   {
    "duration": 6,
    "start_time": "2022-02-08T20:13:18.647Z"
   },
   {
    "duration": 9,
    "start_time": "2022-02-08T20:13:18.655Z"
   },
   {
    "duration": 37,
    "start_time": "2022-02-08T20:13:18.666Z"
   },
   {
    "duration": 13,
    "start_time": "2022-02-08T20:13:18.705Z"
   },
   {
    "duration": 9,
    "start_time": "2022-02-08T20:13:18.720Z"
   },
   {
    "duration": 18,
    "start_time": "2022-02-08T20:13:18.731Z"
   },
   {
    "duration": 13,
    "start_time": "2022-02-08T20:13:18.751Z"
   },
   {
    "duration": 10,
    "start_time": "2022-02-08T20:13:18.766Z"
   },
   {
    "duration": 21,
    "start_time": "2022-02-08T20:13:18.778Z"
   },
   {
    "duration": 18,
    "start_time": "2022-02-08T20:13:18.801Z"
   },
   {
    "duration": 492,
    "start_time": "2022-02-08T20:13:18.821Z"
   },
   {
    "duration": 12,
    "start_time": "2022-02-08T20:13:19.315Z"
   },
   {
    "duration": 4,
    "start_time": "2022-02-08T20:13:19.332Z"
   },
   {
    "duration": 19,
    "start_time": "2022-02-08T20:13:19.339Z"
   },
   {
    "duration": 407,
    "start_time": "2022-02-08T20:13:19.360Z"
   },
   {
    "duration": 30,
    "start_time": "2022-02-08T20:13:19.769Z"
   },
   {
    "duration": 7,
    "start_time": "2022-02-08T20:13:19.802Z"
   },
   {
    "duration": 293,
    "start_time": "2022-02-08T20:13:19.810Z"
   },
   {
    "duration": 11,
    "start_time": "2022-02-08T20:13:20.105Z"
   },
   {
    "duration": 16,
    "start_time": "2022-02-08T20:13:20.118Z"
   },
   {
    "duration": 318,
    "start_time": "2022-02-08T20:13:20.136Z"
   },
   {
    "duration": 499,
    "start_time": "2022-02-08T20:13:20.457Z"
   },
   {
    "duration": 19,
    "start_time": "2022-02-08T20:13:20.958Z"
   },
   {
    "duration": 483,
    "start_time": "2022-02-08T20:13:20.979Z"
   },
   {
    "duration": 399,
    "start_time": "2022-02-08T20:13:21.464Z"
   },
   {
    "duration": 485,
    "start_time": "2022-02-08T20:13:21.866Z"
   },
   {
    "duration": 376,
    "start_time": "2022-02-08T20:13:22.353Z"
   },
   {
    "duration": 2705,
    "start_time": "2022-02-08T20:13:22.731Z"
   },
   {
    "duration": 480,
    "start_time": "2022-02-08T20:13:25.438Z"
   },
   {
    "duration": 518,
    "start_time": "2022-02-08T20:13:25.920Z"
   },
   {
    "duration": 5,
    "start_time": "2022-02-08T20:13:26.440Z"
   },
   {
    "duration": 611,
    "start_time": "2022-02-08T20:33:57.969Z"
   },
   {
    "duration": 56,
    "start_time": "2022-02-08T20:46:11.781Z"
   },
   {
    "duration": 4,
    "start_time": "2022-02-08T20:46:33.768Z"
   },
   {
    "duration": 838,
    "start_time": "2022-02-08T20:46:37.998Z"
   },
   {
    "duration": 4,
    "start_time": "2022-02-08T20:47:21.520Z"
   },
   {
    "duration": 538,
    "start_time": "2022-02-08T20:47:23.115Z"
   },
   {
    "duration": 4,
    "start_time": "2022-02-08T20:50:08.097Z"
   },
   {
    "duration": 4,
    "start_time": "2022-02-08T20:50:28.017Z"
   },
   {
    "duration": 535,
    "start_time": "2022-02-08T20:50:32.619Z"
   },
   {
    "duration": 5,
    "start_time": "2022-02-08T20:51:02.107Z"
   },
   {
    "duration": 89,
    "start_time": "2022-02-08T20:51:04.698Z"
   },
   {
    "duration": 93,
    "start_time": "2022-02-08T20:51:12.109Z"
   },
   {
    "duration": 95,
    "start_time": "2022-02-08T20:51:25.565Z"
   },
   {
    "duration": 89,
    "start_time": "2022-02-08T20:53:04.947Z"
   },
   {
    "duration": 509,
    "start_time": "2022-02-08T20:53:05.576Z"
   },
   {
    "duration": 90,
    "start_time": "2022-02-08T20:53:25.747Z"
   },
   {
    "duration": 527,
    "start_time": "2022-02-08T20:53:28.613Z"
   },
   {
    "duration": 93,
    "start_time": "2022-02-08T21:01:06.213Z"
   },
   {
    "duration": 86,
    "start_time": "2022-02-08T21:01:26.252Z"
   },
   {
    "duration": 93,
    "start_time": "2022-02-08T21:01:41.497Z"
   },
   {
    "duration": 95,
    "start_time": "2022-02-08T21:01:56.357Z"
   },
   {
    "duration": 509,
    "start_time": "2022-02-08T21:01:58.841Z"
   },
   {
    "duration": 83,
    "start_time": "2022-02-08T21:02:08.532Z"
   },
   {
    "duration": 94,
    "start_time": "2022-02-08T21:02:18.518Z"
   },
   {
    "duration": 6,
    "start_time": "2022-02-08T21:02:51.314Z"
   },
   {
    "duration": 1112,
    "start_time": "2022-02-08T21:02:53.372Z"
   },
   {
    "duration": 4,
    "start_time": "2022-02-08T21:03:19.965Z"
   },
   {
    "duration": 1200,
    "start_time": "2022-02-08T21:03:23.638Z"
   },
   {
    "duration": 5,
    "start_time": "2022-02-08T21:03:47.004Z"
   },
   {
    "duration": 636,
    "start_time": "2022-02-08T21:03:50.118Z"
   },
   {
    "duration": 4,
    "start_time": "2022-02-08T21:04:11.099Z"
   },
   {
    "duration": 592,
    "start_time": "2022-02-08T21:04:13.180Z"
   },
   {
    "duration": 4,
    "start_time": "2022-02-08T21:06:57.792Z"
   },
   {
    "duration": 597,
    "start_time": "2022-02-08T21:07:00.096Z"
   },
   {
    "duration": 5,
    "start_time": "2022-02-08T21:08:03.940Z"
   },
   {
    "duration": 627,
    "start_time": "2022-02-08T21:08:06.489Z"
   },
   {
    "duration": 4,
    "start_time": "2022-02-08T21:09:27.159Z"
   },
   {
    "duration": 4,
    "start_time": "2022-02-08T21:09:34.921Z"
   },
   {
    "duration": 579,
    "start_time": "2022-02-08T21:09:36.671Z"
   },
   {
    "duration": 4,
    "start_time": "2022-02-08T21:10:03.032Z"
   },
   {
    "duration": 138,
    "start_time": "2022-02-08T21:10:05.020Z"
   },
   {
    "duration": 4,
    "start_time": "2022-02-08T21:10:20.950Z"
   },
   {
    "duration": 133,
    "start_time": "2022-02-08T21:10:23.478Z"
   },
   {
    "duration": 4,
    "start_time": "2022-02-08T21:11:10.659Z"
   },
   {
    "duration": 735,
    "start_time": "2022-02-08T21:11:12.675Z"
   },
   {
    "duration": 4,
    "start_time": "2022-02-08T21:12:30.175Z"
   },
   {
    "duration": 582,
    "start_time": "2022-02-08T21:12:31.806Z"
   },
   {
    "duration": 4,
    "start_time": "2022-02-08T21:12:41.640Z"
   },
   {
    "duration": 581,
    "start_time": "2022-02-08T21:12:44.994Z"
   },
   {
    "duration": 87,
    "start_time": "2022-02-08T21:17:44.051Z"
   },
   {
    "duration": 4,
    "start_time": "2022-02-08T21:17:49.353Z"
   },
   {
    "duration": 1120,
    "start_time": "2022-02-08T21:17:51.157Z"
   },
   {
    "duration": 4,
    "start_time": "2022-02-08T21:18:43.746Z"
   },
   {
    "duration": 562,
    "start_time": "2022-02-08T21:18:46.184Z"
   },
   {
    "duration": 5,
    "start_time": "2022-02-08T21:19:35.094Z"
   },
   {
    "duration": 1057,
    "start_time": "2022-02-08T21:19:36.344Z"
   },
   {
    "duration": 4,
    "start_time": "2022-02-08T21:19:48.052Z"
   },
   {
    "duration": 559,
    "start_time": "2022-02-08T21:19:52.202Z"
   },
   {
    "duration": 582,
    "start_time": "2022-02-08T21:25:06.886Z"
   },
   {
    "duration": 736,
    "start_time": "2022-02-08T21:26:00.103Z"
   },
   {
    "duration": 308,
    "start_time": "2022-02-08T21:27:23.058Z"
   },
   {
    "duration": 531,
    "start_time": "2022-02-08T21:27:36.016Z"
   },
   {
    "duration": 551,
    "start_time": "2022-02-08T21:31:50.501Z"
   },
   {
    "duration": 803,
    "start_time": "2022-02-08T21:33:23.818Z"
   },
   {
    "duration": 824,
    "start_time": "2022-02-08T21:33:39.693Z"
   },
   {
    "duration": 534,
    "start_time": "2022-02-08T21:34:12.041Z"
   },
   {
    "duration": 4,
    "start_time": "2022-02-08T21:36:02.991Z"
   },
   {
    "duration": 1026,
    "start_time": "2022-02-08T21:36:05.601Z"
   },
   {
    "duration": 7,
    "start_time": "2022-02-08T21:36:52.041Z"
   },
   {
    "duration": 549,
    "start_time": "2022-02-08T21:36:54.278Z"
   },
   {
    "duration": 6,
    "start_time": "2022-02-08T21:37:21.105Z"
   },
   {
    "duration": 695,
    "start_time": "2022-02-08T21:37:23.664Z"
   },
   {
    "duration": 5,
    "start_time": "2022-02-08T21:44:50.974Z"
   },
   {
    "duration": 565,
    "start_time": "2022-02-08T21:44:53.496Z"
   },
   {
    "duration": 4,
    "start_time": "2022-02-08T21:47:07.755Z"
   },
   {
    "duration": 546,
    "start_time": "2022-02-08T21:47:10.176Z"
   },
   {
    "duration": 722,
    "start_time": "2022-02-08T21:53:53.257Z"
   },
   {
    "duration": 4,
    "start_time": "2022-02-08T21:54:23.719Z"
   },
   {
    "duration": 552,
    "start_time": "2022-02-08T21:54:39.449Z"
   },
   {
    "duration": 615,
    "start_time": "2022-02-08T21:55:30.071Z"
   },
   {
    "duration": 557,
    "start_time": "2022-02-08T22:19:02.773Z"
   },
   {
    "duration": 5,
    "start_time": "2022-02-08T22:20:00.385Z"
   },
   {
    "duration": 763,
    "start_time": "2022-02-08T22:20:04.133Z"
   },
   {
    "duration": 560,
    "start_time": "2022-02-08T22:20:07.823Z"
   },
   {
    "duration": 4,
    "start_time": "2022-02-08T22:21:31.645Z"
   },
   {
    "duration": 527,
    "start_time": "2022-02-08T22:21:34.668Z"
   },
   {
    "duration": 540,
    "start_time": "2022-02-08T22:22:00.677Z"
   },
   {
    "duration": 541,
    "start_time": "2022-02-08T22:27:28.239Z"
   },
   {
    "duration": 522,
    "start_time": "2022-02-08T22:28:51.553Z"
   },
   {
    "duration": 5,
    "start_time": "2022-02-08T22:29:07.496Z"
   },
   {
    "duration": 532,
    "start_time": "2022-02-08T22:29:09.832Z"
   },
   {
    "duration": 531,
    "start_time": "2022-02-08T22:29:16.156Z"
   },
   {
    "duration": 4,
    "start_time": "2022-02-08T22:29:48.821Z"
   },
   {
    "duration": 725,
    "start_time": "2022-02-08T22:29:50.767Z"
   },
   {
    "duration": 586,
    "start_time": "2022-02-08T22:29:53.731Z"
   },
   {
    "duration": 551,
    "start_time": "2022-02-08T22:29:56.627Z"
   },
   {
    "duration": 577,
    "start_time": "2022-02-08T22:30:57.716Z"
   },
   {
    "duration": 557,
    "start_time": "2022-02-08T22:31:31.623Z"
   },
   {
    "duration": 98,
    "start_time": "2022-02-09T07:59:04.221Z"
   },
   {
    "duration": 5,
    "start_time": "2022-02-09T08:00:12.227Z"
   },
   {
    "duration": 2417,
    "start_time": "2022-02-09T08:00:14.643Z"
   },
   {
    "duration": 2007,
    "start_time": "2022-02-09T08:00:39.624Z"
   },
   {
    "duration": 61,
    "start_time": "2022-02-09T08:00:41.634Z"
   },
   {
    "duration": 27,
    "start_time": "2022-02-09T08:00:41.699Z"
   },
   {
    "duration": 15,
    "start_time": "2022-02-09T08:00:41.728Z"
   },
   {
    "duration": 11,
    "start_time": "2022-02-09T08:00:41.745Z"
   },
   {
    "duration": 12,
    "start_time": "2022-02-09T08:00:41.759Z"
   },
   {
    "duration": 57,
    "start_time": "2022-02-09T08:00:41.774Z"
   },
   {
    "duration": 5,
    "start_time": "2022-02-09T08:00:41.833Z"
   },
   {
    "duration": 5,
    "start_time": "2022-02-09T08:00:41.842Z"
   },
   {
    "duration": 6,
    "start_time": "2022-02-09T08:00:41.850Z"
   },
   {
    "duration": 6,
    "start_time": "2022-02-09T08:00:41.858Z"
   },
   {
    "duration": 60,
    "start_time": "2022-02-09T08:00:41.866Z"
   },
   {
    "duration": 9,
    "start_time": "2022-02-09T08:00:41.929Z"
   },
   {
    "duration": 9,
    "start_time": "2022-02-09T08:00:41.940Z"
   },
   {
    "duration": 9,
    "start_time": "2022-02-09T08:00:41.951Z"
   },
   {
    "duration": 9,
    "start_time": "2022-02-09T08:00:41.963Z"
   },
   {
    "duration": 55,
    "start_time": "2022-02-09T08:00:41.975Z"
   },
   {
    "duration": 10,
    "start_time": "2022-02-09T08:00:42.033Z"
   },
   {
    "duration": 14,
    "start_time": "2022-02-09T08:00:42.045Z"
   },
   {
    "duration": 64,
    "start_time": "2022-02-09T08:00:42.061Z"
   },
   {
    "duration": 618,
    "start_time": "2022-02-09T08:00:42.128Z"
   },
   {
    "duration": 16,
    "start_time": "2022-02-09T08:00:42.749Z"
   },
   {
    "duration": 5,
    "start_time": "2022-02-09T08:00:42.767Z"
   },
   {
    "duration": 60,
    "start_time": "2022-02-09T08:00:42.775Z"
   },
   {
    "duration": 507,
    "start_time": "2022-02-09T08:00:42.838Z"
   },
   {
    "duration": 17,
    "start_time": "2022-02-09T08:00:43.348Z"
   },
   {
    "duration": 8,
    "start_time": "2022-02-09T08:00:43.371Z"
   },
   {
    "duration": 387,
    "start_time": "2022-02-09T08:00:43.382Z"
   },
   {
    "duration": 14,
    "start_time": "2022-02-09T08:00:43.772Z"
   },
   {
    "duration": 8,
    "start_time": "2022-02-09T08:00:43.788Z"
   },
   {
    "duration": 416,
    "start_time": "2022-02-09T08:00:43.823Z"
   },
   {
    "duration": 685,
    "start_time": "2022-02-09T08:00:44.242Z"
   },
   {
    "duration": 27,
    "start_time": "2022-02-09T08:00:44.930Z"
   },
   {
    "duration": 582,
    "start_time": "2022-02-09T08:00:44.960Z"
   },
   {
    "duration": 445,
    "start_time": "2022-02-09T08:00:45.545Z"
   },
   {
    "duration": 581,
    "start_time": "2022-02-09T08:00:45.993Z"
   },
   {
    "duration": 663,
    "start_time": "2022-02-09T08:00:46.576Z"
   },
   {
    "duration": 3607,
    "start_time": "2022-02-09T08:00:47.241Z"
   },
   {
    "duration": 621,
    "start_time": "2022-02-09T08:00:50.851Z"
   },
   {
    "duration": 1086,
    "start_time": "2022-02-09T08:00:51.476Z"
   },
   {
    "duration": 6,
    "start_time": "2022-02-09T08:00:52.565Z"
   },
   {
    "duration": 1078,
    "start_time": "2022-02-09T08:00:52.574Z"
   },
   {
    "duration": 189,
    "start_time": "2022-02-09T08:00:53.467Z"
   },
   {
    "duration": 187,
    "start_time": "2022-02-09T08:00:53.471Z"
   },
   {
    "duration": 186,
    "start_time": "2022-02-09T08:00:53.475Z"
   },
   {
    "duration": 182,
    "start_time": "2022-02-09T08:00:53.481Z"
   },
   {
    "duration": 100,
    "start_time": "2022-02-09T08:02:07.785Z"
   },
   {
    "duration": 5,
    "start_time": "2022-02-09T08:02:28.306Z"
   },
   {
    "duration": 595,
    "start_time": "2022-02-09T08:02:30.749Z"
   },
   {
    "duration": 5,
    "start_time": "2022-02-09T08:03:36.178Z"
   },
   {
    "duration": 1111,
    "start_time": "2022-02-09T08:03:39.151Z"
   },
   {
    "duration": 5,
    "start_time": "2022-02-09T08:12:07.593Z"
   },
   {
    "duration": 730,
    "start_time": "2022-02-09T08:12:09.482Z"
   },
   {
    "duration": 424,
    "start_time": "2022-02-09T08:13:29.975Z"
   },
   {
    "duration": 304,
    "start_time": "2022-02-09T08:13:45.812Z"
   },
   {
    "duration": 363,
    "start_time": "2022-02-09T08:13:52.831Z"
   },
   {
    "duration": 102,
    "start_time": "2022-02-09T08:14:28.107Z"
   },
   {
    "duration": 26,
    "start_time": "2022-02-09T08:14:47.767Z"
   },
   {
    "duration": 24,
    "start_time": "2022-02-09T08:15:32.569Z"
   },
   {
    "duration": 285,
    "start_time": "2022-02-09T08:16:13.682Z"
   },
   {
    "duration": 356,
    "start_time": "2022-02-09T08:19:23.465Z"
   },
   {
    "duration": 91,
    "start_time": "2022-02-09T08:20:17.906Z"
   },
   {
    "duration": 888,
    "start_time": "2022-02-09T08:20:29.803Z"
   },
   {
    "duration": 115,
    "start_time": "2022-02-09T08:21:42.388Z"
   },
   {
    "duration": 1112,
    "start_time": "2022-02-09T08:22:15.317Z"
   },
   {
    "duration": 351,
    "start_time": "2022-02-09T08:22:45.853Z"
   },
   {
    "duration": 277,
    "start_time": "2022-02-09T08:26:20.327Z"
   },
   {
    "duration": 17,
    "start_time": "2022-02-09T08:26:35.228Z"
   },
   {
    "duration": 18,
    "start_time": "2022-02-09T08:30:40.868Z"
   },
   {
    "duration": 19,
    "start_time": "2022-02-09T08:31:06.086Z"
   },
   {
    "duration": 292,
    "start_time": "2022-02-09T08:31:25.823Z"
   },
   {
    "duration": 18,
    "start_time": "2022-02-09T08:33:12.596Z"
   },
   {
    "duration": 613,
    "start_time": "2022-02-09T08:36:02.653Z"
   },
   {
    "duration": 23,
    "start_time": "2022-02-09T08:37:28.331Z"
   },
   {
    "duration": 21,
    "start_time": "2022-02-09T08:37:43.257Z"
   },
   {
    "duration": 536,
    "start_time": "2022-02-09T09:02:31.149Z"
   },
   {
    "duration": 28,
    "start_time": "2022-02-09T09:02:37.225Z"
   },
   {
    "duration": 6,
    "start_time": "2022-02-09T09:02:41.179Z"
   },
   {
    "duration": 30,
    "start_time": "2022-02-09T09:05:24.938Z"
   },
   {
    "duration": 31,
    "start_time": "2022-02-09T09:06:07.918Z"
   },
   {
    "duration": 7,
    "start_time": "2022-02-09T09:07:54.721Z"
   },
   {
    "duration": 9,
    "start_time": "2022-02-09T09:13:41.838Z"
   },
   {
    "duration": 15,
    "start_time": "2022-02-09T09:19:24.630Z"
   },
   {
    "duration": 651,
    "start_time": "2022-02-09T09:22:43.560Z"
   },
   {
    "duration": 750,
    "start_time": "2022-02-09T09:22:52.783Z"
   },
   {
    "duration": 6,
    "start_time": "2022-02-09T09:23:09.516Z"
   },
   {
    "duration": 757,
    "start_time": "2022-02-09T09:23:11.510Z"
   },
   {
    "duration": 1466,
    "start_time": "2022-02-09T09:25:05.206Z"
   },
   {
    "duration": 1423,
    "start_time": "2022-02-09T09:25:37.569Z"
   },
   {
    "duration": 24,
    "start_time": "2022-02-09T09:25:52.572Z"
   },
   {
    "duration": 23,
    "start_time": "2022-02-09T09:27:10.331Z"
   },
   {
    "duration": 7,
    "start_time": "2022-02-09T09:54:06.994Z"
   },
   {
    "duration": 3848,
    "start_time": "2022-02-09T09:56:29.448Z"
   },
   {
    "duration": 8094,
    "start_time": "2022-02-09T09:59:31.138Z"
   },
   {
    "duration": 28,
    "start_time": "2022-02-09T09:59:44.929Z"
   },
   {
    "duration": 20,
    "start_time": "2022-02-09T10:02:18.310Z"
   },
   {
    "duration": 5,
    "start_time": "2022-02-09T10:10:28.963Z"
   },
   {
    "duration": 20,
    "start_time": "2022-02-09T10:10:45.103Z"
   },
   {
    "duration": 22,
    "start_time": "2022-02-09T10:11:26.380Z"
   },
   {
    "duration": 6,
    "start_time": "2022-02-09T10:13:15.725Z"
   },
   {
    "duration": 16,
    "start_time": "2022-02-09T10:13:18.476Z"
   },
   {
    "duration": 99,
    "start_time": "2022-02-09T10:20:28.334Z"
   },
   {
    "duration": 5,
    "start_time": "2022-02-09T10:20:32.868Z"
   },
   {
    "duration": 17,
    "start_time": "2022-02-09T10:20:34.736Z"
   },
   {
    "duration": 28,
    "start_time": "2022-02-09T10:21:05.054Z"
   },
   {
    "duration": 4,
    "start_time": "2022-02-09T10:22:40.969Z"
   },
   {
    "duration": 19,
    "start_time": "2022-02-09T10:22:47.137Z"
   },
   {
    "duration": 332,
    "start_time": "2022-02-09T10:27:08.237Z"
   },
   {
    "duration": 306,
    "start_time": "2022-02-09T10:27:27.988Z"
   },
   {
    "duration": 6,
    "start_time": "2022-02-09T10:27:32.200Z"
   },
   {
    "duration": 21,
    "start_time": "2022-02-09T10:27:34.057Z"
   },
   {
    "duration": 15,
    "start_time": "2022-02-09T10:34:50.169Z"
   },
   {
    "duration": 8,
    "start_time": "2022-02-09T10:34:57.056Z"
   },
   {
    "duration": 21,
    "start_time": "2022-02-09T10:40:25.425Z"
   },
   {
    "duration": 297,
    "start_time": "2022-02-09T10:42:34.825Z"
   },
   {
    "duration": 37,
    "start_time": "2022-02-09T10:45:01.858Z"
   },
   {
    "duration": 26,
    "start_time": "2022-02-09T10:47:05.115Z"
   },
   {
    "duration": 14,
    "start_time": "2022-02-09T10:47:38.998Z"
   },
   {
    "duration": 13,
    "start_time": "2022-02-09T10:47:41.338Z"
   },
   {
    "duration": 20,
    "start_time": "2022-02-09T10:47:54.438Z"
   },
   {
    "duration": 7,
    "start_time": "2022-02-09T10:49:21.967Z"
   },
   {
    "duration": 5,
    "start_time": "2022-02-09T10:51:23.888Z"
   },
   {
    "duration": 5,
    "start_time": "2022-02-09T10:51:26.495Z"
   },
   {
    "duration": 143,
    "start_time": "2022-02-09T10:54:01.614Z"
   },
   {
    "duration": 110,
    "start_time": "2022-02-09T10:54:10.530Z"
   },
   {
    "duration": 324,
    "start_time": "2022-02-09T10:54:19.173Z"
   },
   {
    "duration": 492,
    "start_time": "2022-02-09T10:54:48.494Z"
   },
   {
    "duration": 306,
    "start_time": "2022-02-09T10:56:11.480Z"
   },
   {
    "duration": 309,
    "start_time": "2022-02-09T10:59:18.885Z"
   },
   {
    "duration": 9,
    "start_time": "2022-02-09T10:59:33.523Z"
   },
   {
    "duration": 104,
    "start_time": "2022-02-09T11:01:46.436Z"
   },
   {
    "duration": 130,
    "start_time": "2022-02-09T11:01:57.268Z"
   },
   {
    "duration": 6,
    "start_time": "2022-02-09T11:02:54.415Z"
   },
   {
    "duration": 5,
    "start_time": "2022-02-09T11:05:00.216Z"
   },
   {
    "duration": 20,
    "start_time": "2022-02-09T11:05:01.790Z"
   },
   {
    "duration": 5,
    "start_time": "2022-02-09T11:05:04.758Z"
   },
   {
    "duration": 112,
    "start_time": "2022-02-09T11:10:06.805Z"
   },
   {
    "duration": 124,
    "start_time": "2022-02-09T11:10:30.170Z"
   },
   {
    "duration": 29,
    "start_time": "2022-02-09T11:11:42.014Z"
   },
   {
    "duration": 367,
    "start_time": "2022-02-09T11:32:52.787Z"
   },
   {
    "duration": 159,
    "start_time": "2022-02-09T11:33:03.950Z"
   },
   {
    "duration": 17,
    "start_time": "2022-02-09T11:34:26.823Z"
   },
   {
    "duration": 13,
    "start_time": "2022-02-09T11:34:54.447Z"
   },
   {
    "duration": 171,
    "start_time": "2022-02-09T11:35:55.705Z"
   },
   {
    "duration": 244,
    "start_time": "2022-02-09T11:37:55.180Z"
   },
   {
    "duration": 329,
    "start_time": "2022-02-09T11:38:05.015Z"
   },
   {
    "duration": 195,
    "start_time": "2022-02-09T11:38:10.368Z"
   },
   {
    "duration": 200,
    "start_time": "2022-02-09T11:38:17.990Z"
   },
   {
    "duration": 177,
    "start_time": "2022-02-09T11:38:38.547Z"
   },
   {
    "duration": 202,
    "start_time": "2022-02-09T11:38:48.296Z"
   },
   {
    "duration": 20,
    "start_time": "2022-02-09T11:40:25.380Z"
   },
   {
    "duration": 191,
    "start_time": "2022-02-09T11:40:43.636Z"
   },
   {
    "duration": 20,
    "start_time": "2022-02-09T11:41:45.808Z"
   },
   {
    "duration": 27,
    "start_time": "2022-02-09T11:42:46.422Z"
   },
   {
    "duration": 6,
    "start_time": "2022-02-09T11:43:14.882Z"
   },
   {
    "duration": 19,
    "start_time": "2022-02-09T11:43:40.443Z"
   },
   {
    "duration": 201,
    "start_time": "2022-02-09T11:43:43.751Z"
   },
   {
    "duration": 6,
    "start_time": "2022-02-09T11:43:46.370Z"
   },
   {
    "duration": 22,
    "start_time": "2022-02-09T11:48:39.156Z"
   },
   {
    "duration": 217,
    "start_time": "2022-02-09T11:48:43.956Z"
   },
   {
    "duration": 7,
    "start_time": "2022-02-09T11:48:53.701Z"
   },
   {
    "duration": 27,
    "start_time": "2022-02-09T11:50:56.820Z"
   },
   {
    "duration": 202,
    "start_time": "2022-02-09T11:51:01.462Z"
   },
   {
    "duration": 8,
    "start_time": "2022-02-09T11:51:06.198Z"
   },
   {
    "duration": 11,
    "start_time": "2022-02-09T11:52:24.923Z"
   },
   {
    "duration": 1345,
    "start_time": "2022-02-09T11:52:27.463Z"
   },
   {
    "duration": 1987,
    "start_time": "2022-02-09T19:53:05.414Z"
   },
   {
    "duration": 66,
    "start_time": "2022-02-09T19:53:07.403Z"
   },
   {
    "duration": 15,
    "start_time": "2022-02-09T19:53:07.472Z"
   },
   {
    "duration": 17,
    "start_time": "2022-02-09T19:53:07.490Z"
   },
   {
    "duration": 15,
    "start_time": "2022-02-09T19:53:07.510Z"
   },
   {
    "duration": 50,
    "start_time": "2022-02-09T19:53:07.527Z"
   },
   {
    "duration": 23,
    "start_time": "2022-02-09T19:53:07.580Z"
   },
   {
    "duration": 5,
    "start_time": "2022-02-09T19:53:07.607Z"
   },
   {
    "duration": 7,
    "start_time": "2022-02-09T19:53:07.615Z"
   },
   {
    "duration": 46,
    "start_time": "2022-02-09T19:53:07.625Z"
   },
   {
    "duration": 6,
    "start_time": "2022-02-09T19:53:07.674Z"
   },
   {
    "duration": 13,
    "start_time": "2022-02-09T19:53:07.682Z"
   },
   {
    "duration": 11,
    "start_time": "2022-02-09T19:53:07.697Z"
   },
   {
    "duration": 11,
    "start_time": "2022-02-09T19:53:07.710Z"
   },
   {
    "duration": 46,
    "start_time": "2022-02-09T19:53:07.724Z"
   },
   {
    "duration": 9,
    "start_time": "2022-02-09T19:53:07.773Z"
   },
   {
    "duration": 22,
    "start_time": "2022-02-09T19:53:07.784Z"
   },
   {
    "duration": 8,
    "start_time": "2022-02-09T19:53:07.808Z"
   },
   {
    "duration": 15,
    "start_time": "2022-02-09T19:53:07.819Z"
   },
   {
    "duration": 55,
    "start_time": "2022-02-09T19:53:07.837Z"
   },
   {
    "duration": 745,
    "start_time": "2022-02-09T19:53:07.895Z"
   },
   {
    "duration": 28,
    "start_time": "2022-02-09T19:53:08.642Z"
   },
   {
    "duration": 5,
    "start_time": "2022-02-09T19:53:08.676Z"
   },
   {
    "duration": 27,
    "start_time": "2022-02-09T19:53:08.684Z"
   },
   {
    "duration": 624,
    "start_time": "2022-02-09T19:53:08.713Z"
   },
   {
    "duration": 33,
    "start_time": "2022-02-09T19:53:09.340Z"
   },
   {
    "duration": 7,
    "start_time": "2022-02-09T19:53:09.376Z"
   },
   {
    "duration": 404,
    "start_time": "2022-02-09T19:53:09.386Z"
   },
   {
    "duration": 16,
    "start_time": "2022-02-09T19:53:09.793Z"
   },
   {
    "duration": 8,
    "start_time": "2022-02-09T19:53:09.812Z"
   },
   {
    "duration": 475,
    "start_time": "2022-02-09T19:53:09.822Z"
   },
   {
    "duration": 705,
    "start_time": "2022-02-09T19:53:10.300Z"
   },
   {
    "duration": 26,
    "start_time": "2022-02-09T19:53:11.007Z"
   },
   {
    "duration": 611,
    "start_time": "2022-02-09T19:53:11.036Z"
   },
   {
    "duration": 500,
    "start_time": "2022-02-09T19:53:11.649Z"
   },
   {
    "duration": 595,
    "start_time": "2022-02-09T19:53:12.152Z"
   },
   {
    "duration": 608,
    "start_time": "2022-02-09T19:53:12.749Z"
   },
   {
    "duration": 3847,
    "start_time": "2022-02-09T19:53:13.360Z"
   },
   {
    "duration": 645,
    "start_time": "2022-02-09T19:53:17.210Z"
   },
   {
    "duration": 706,
    "start_time": "2022-02-09T19:53:17.858Z"
   },
   {
    "duration": 33,
    "start_time": "2022-02-09T19:53:18.566Z"
   },
   {
    "duration": 5,
    "start_time": "2022-02-09T19:53:18.602Z"
   },
   {
    "duration": 25,
    "start_time": "2022-02-09T19:53:18.610Z"
   },
   {
    "duration": 206,
    "start_time": "2022-02-09T19:53:18.669Z"
   },
   {
    "duration": 6,
    "start_time": "2022-02-09T19:53:18.878Z"
   },
   {
    "duration": 656,
    "start_time": "2022-02-09T19:53:18.887Z"
   },
   {
    "duration": 27,
    "start_time": "2022-02-09T19:53:19.546Z"
   },
   {
    "duration": 219,
    "start_time": "2022-02-09T19:53:19.576Z"
   },
   {
    "duration": 6,
    "start_time": "2022-02-09T19:53:19.798Z"
   },
   {
    "duration": 22,
    "start_time": "2022-02-09T19:53:19.807Z"
   },
   {
    "duration": 227,
    "start_time": "2022-02-09T19:53:19.832Z"
   },
   {
    "duration": 10,
    "start_time": "2022-02-09T19:53:20.062Z"
   },
   {
    "duration": 9,
    "start_time": "2022-02-09T19:53:20.075Z"
   },
   {
    "duration": 912,
    "start_time": "2022-02-09T19:53:20.086Z"
   },
   {
    "duration": 949,
    "start_time": "2022-02-09T19:53:21.001Z"
   },
   {
    "duration": 849,
    "start_time": "2022-02-09T19:53:21.953Z"
   },
   {
    "duration": 22,
    "start_time": "2022-02-09T19:53:22.804Z"
   },
   {
    "duration": 8,
    "start_time": "2022-02-09T19:53:22.828Z"
   },
   {
    "duration": 36,
    "start_time": "2022-02-09T19:53:22.838Z"
   },
   {
    "duration": 7,
    "start_time": "2022-02-09T20:05:08.411Z"
   },
   {
    "duration": 890,
    "start_time": "2022-02-09T20:05:10.300Z"
   },
   {
    "duration": 6,
    "start_time": "2022-02-09T20:05:25.628Z"
   },
   {
    "duration": 6,
    "start_time": "2022-02-09T20:05:30.548Z"
   },
   {
    "duration": 780,
    "start_time": "2022-02-09T20:05:31.997Z"
   },
   {
    "duration": 1096,
    "start_time": "2022-02-09T20:06:14.808Z"
   },
   {
    "duration": 6,
    "start_time": "2022-02-09T20:06:33.954Z"
   },
   {
    "duration": 96,
    "start_time": "2022-02-09T20:06:35.391Z"
   },
   {
    "duration": 85,
    "start_time": "2022-02-09T20:07:31.957Z"
   },
   {
    "duration": 282,
    "start_time": "2022-02-09T20:07:48.438Z"
   },
   {
    "duration": 830,
    "start_time": "2022-02-09T20:08:01.434Z"
   },
   {
    "duration": 7,
    "start_time": "2022-02-09T20:08:07.178Z"
   },
   {
    "duration": 764,
    "start_time": "2022-02-09T20:08:09.183Z"
   },
   {
    "duration": 786,
    "start_time": "2022-02-09T20:09:31.917Z"
   },
   {
    "duration": 6,
    "start_time": "2022-02-09T20:09:45.477Z"
   },
   {
    "duration": 768,
    "start_time": "2022-02-09T20:09:46.838Z"
   },
   {
    "duration": 996,
    "start_time": "2022-02-09T20:09:51.885Z"
   },
   {
    "duration": 777,
    "start_time": "2022-02-09T20:10:02.832Z"
   },
   {
    "duration": 6,
    "start_time": "2022-02-09T20:10:20.800Z"
   },
   {
    "duration": 848,
    "start_time": "2022-02-09T20:10:22.188Z"
   },
   {
    "duration": 771,
    "start_time": "2022-02-09T20:10:28.966Z"
   },
   {
    "duration": 832,
    "start_time": "2022-02-09T20:10:32.922Z"
   },
   {
    "duration": 5,
    "start_time": "2022-02-09T20:11:28.255Z"
   },
   {
    "duration": 845,
    "start_time": "2022-02-09T20:11:42.936Z"
   },
   {
    "duration": 1972,
    "start_time": "2022-02-09T20:11:53.029Z"
   },
   {
    "duration": 70,
    "start_time": "2022-02-09T20:11:55.004Z"
   },
   {
    "duration": 16,
    "start_time": "2022-02-09T20:11:55.077Z"
   },
   {
    "duration": 28,
    "start_time": "2022-02-09T20:11:55.096Z"
   },
   {
    "duration": 16,
    "start_time": "2022-02-09T20:11:55.126Z"
   },
   {
    "duration": 33,
    "start_time": "2022-02-09T20:11:55.145Z"
   },
   {
    "duration": 40,
    "start_time": "2022-02-09T20:11:55.181Z"
   },
   {
    "duration": 6,
    "start_time": "2022-02-09T20:11:55.225Z"
   },
   {
    "duration": 9,
    "start_time": "2022-02-09T20:11:55.235Z"
   },
   {
    "duration": 22,
    "start_time": "2022-02-09T20:11:55.247Z"
   },
   {
    "duration": 13,
    "start_time": "2022-02-09T20:11:55.272Z"
   },
   {
    "duration": 20,
    "start_time": "2022-02-09T20:11:55.287Z"
   },
   {
    "duration": 21,
    "start_time": "2022-02-09T20:11:55.309Z"
   },
   {
    "duration": 31,
    "start_time": "2022-02-09T20:11:55.332Z"
   },
   {
    "duration": 23,
    "start_time": "2022-02-09T20:11:55.366Z"
   },
   {
    "duration": 23,
    "start_time": "2022-02-09T20:11:55.392Z"
   },
   {
    "duration": 20,
    "start_time": "2022-02-09T20:11:55.418Z"
   },
   {
    "duration": 22,
    "start_time": "2022-02-09T20:11:55.440Z"
   },
   {
    "duration": 16,
    "start_time": "2022-02-09T20:11:55.464Z"
   },
   {
    "duration": 24,
    "start_time": "2022-02-09T20:11:55.483Z"
   },
   {
    "duration": 682,
    "start_time": "2022-02-09T20:11:55.509Z"
   },
   {
    "duration": 14,
    "start_time": "2022-02-09T20:11:56.194Z"
   },
   {
    "duration": 5,
    "start_time": "2022-02-09T20:11:56.214Z"
   },
   {
    "duration": 56,
    "start_time": "2022-02-09T20:11:56.222Z"
   },
   {
    "duration": 510,
    "start_time": "2022-02-09T20:11:56.280Z"
   },
   {
    "duration": 20,
    "start_time": "2022-02-09T20:11:56.793Z"
   },
   {
    "duration": 8,
    "start_time": "2022-02-09T20:11:56.815Z"
   },
   {
    "duration": 414,
    "start_time": "2022-02-09T20:11:56.826Z"
   },
   {
    "duration": 26,
    "start_time": "2022-02-09T20:11:57.243Z"
   },
   {
    "duration": 9,
    "start_time": "2022-02-09T20:11:57.273Z"
   },
   {
    "duration": 459,
    "start_time": "2022-02-09T20:11:57.285Z"
   },
   {
    "duration": 703,
    "start_time": "2022-02-09T20:11:57.747Z"
   },
   {
    "duration": 30,
    "start_time": "2022-02-09T20:11:58.452Z"
   },
   {
    "duration": 590,
    "start_time": "2022-02-09T20:11:58.486Z"
   },
   {
    "duration": 492,
    "start_time": "2022-02-09T20:11:59.078Z"
   },
   {
    "duration": 597,
    "start_time": "2022-02-09T20:11:59.572Z"
   },
   {
    "duration": 611,
    "start_time": "2022-02-09T20:12:00.171Z"
   },
   {
    "duration": 3979,
    "start_time": "2022-02-09T20:12:00.785Z"
   },
   {
    "duration": 667,
    "start_time": "2022-02-09T20:12:04.770Z"
   },
   {
    "duration": 711,
    "start_time": "2022-02-09T20:12:05.440Z"
   },
   {
    "duration": 36,
    "start_time": "2022-02-09T20:12:06.153Z"
   },
   {
    "duration": 4,
    "start_time": "2022-02-09T20:12:06.192Z"
   },
   {
    "duration": 23,
    "start_time": "2022-02-09T20:12:06.199Z"
   },
   {
    "duration": 225,
    "start_time": "2022-02-09T20:12:06.224Z"
   },
   {
    "duration": 17,
    "start_time": "2022-02-09T20:12:06.452Z"
   },
   {
    "duration": 19,
    "start_time": "2022-02-09T20:12:06.471Z"
   },
   {
    "duration": 209,
    "start_time": "2022-02-09T20:12:06.492Z"
   },
   {
    "duration": 6,
    "start_time": "2022-02-09T20:12:06.704Z"
   },
   {
    "duration": 23,
    "start_time": "2022-02-09T20:12:06.713Z"
   },
   {
    "duration": 230,
    "start_time": "2022-02-09T20:12:06.739Z"
   },
   {
    "duration": 7,
    "start_time": "2022-02-09T20:12:06.971Z"
   },
   {
    "duration": 6,
    "start_time": "2022-02-09T20:12:06.980Z"
   },
   {
    "duration": 777,
    "start_time": "2022-02-09T20:12:06.988Z"
   },
   {
    "duration": 799,
    "start_time": "2022-02-09T20:12:07.770Z"
   },
   {
    "duration": 747,
    "start_time": "2022-02-09T20:12:08.572Z"
   },
   {
    "duration": 24,
    "start_time": "2022-02-09T20:12:09.322Z"
   },
   {
    "duration": 25,
    "start_time": "2022-02-09T20:12:09.348Z"
   },
   {
    "duration": 11,
    "start_time": "2022-02-09T20:12:09.375Z"
   },
   {
    "duration": 7,
    "start_time": "2022-02-09T20:15:16.749Z"
   },
   {
    "duration": 1402,
    "start_time": "2022-02-09T20:15:19.505Z"
   },
   {
    "duration": 1430,
    "start_time": "2022-02-09T20:15:35.560Z"
   },
   {
    "duration": 951,
    "start_time": "2022-02-09T20:16:18.774Z"
   },
   {
    "duration": 6,
    "start_time": "2022-02-09T20:16:21.506Z"
   },
   {
    "duration": 1040,
    "start_time": "2022-02-09T20:16:23.477Z"
   },
   {
    "duration": 6,
    "start_time": "2022-02-09T20:16:29.971Z"
   },
   {
    "duration": 936,
    "start_time": "2022-02-09T20:16:42.318Z"
   },
   {
    "duration": 1990,
    "start_time": "2022-02-09T20:16:58.241Z"
   },
   {
    "duration": 66,
    "start_time": "2022-02-09T20:17:00.233Z"
   },
   {
    "duration": 16,
    "start_time": "2022-02-09T20:17:00.302Z"
   },
   {
    "duration": 16,
    "start_time": "2022-02-09T20:17:00.322Z"
   },
   {
    "duration": 37,
    "start_time": "2022-02-09T20:17:00.341Z"
   },
   {
    "duration": 13,
    "start_time": "2022-02-09T20:17:00.380Z"
   },
   {
    "duration": 22,
    "start_time": "2022-02-09T20:17:00.396Z"
   },
   {
    "duration": 6,
    "start_time": "2022-02-09T20:17:00.422Z"
   },
   {
    "duration": 5,
    "start_time": "2022-02-09T20:17:00.471Z"
   },
   {
    "duration": 7,
    "start_time": "2022-02-09T20:17:00.479Z"
   },
   {
    "duration": 10,
    "start_time": "2022-02-09T20:17:00.489Z"
   },
   {
    "duration": 13,
    "start_time": "2022-02-09T20:17:00.502Z"
   },
   {
    "duration": 8,
    "start_time": "2022-02-09T20:17:00.518Z"
   },
   {
    "duration": 10,
    "start_time": "2022-02-09T20:17:00.569Z"
   },
   {
    "duration": 22,
    "start_time": "2022-02-09T20:17:00.582Z"
   },
   {
    "duration": 26,
    "start_time": "2022-02-09T20:17:00.607Z"
   },
   {
    "duration": 40,
    "start_time": "2022-02-09T20:17:00.635Z"
   },
   {
    "duration": 14,
    "start_time": "2022-02-09T20:17:00.677Z"
   },
   {
    "duration": 25,
    "start_time": "2022-02-09T20:17:00.693Z"
   },
   {
    "duration": 23,
    "start_time": "2022-02-09T20:17:00.721Z"
   },
   {
    "duration": 735,
    "start_time": "2022-02-09T20:17:00.747Z"
   },
   {
    "duration": 18,
    "start_time": "2022-02-09T20:17:01.485Z"
   },
   {
    "duration": 6,
    "start_time": "2022-02-09T20:17:01.511Z"
   },
   {
    "duration": 59,
    "start_time": "2022-02-09T20:17:01.520Z"
   },
   {
    "duration": 516,
    "start_time": "2022-02-09T20:17:01.582Z"
   },
   {
    "duration": 18,
    "start_time": "2022-02-09T20:17:02.101Z"
   },
   {
    "duration": 9,
    "start_time": "2022-02-09T20:17:02.123Z"
   },
   {
    "duration": 421,
    "start_time": "2022-02-09T20:17:02.135Z"
   },
   {
    "duration": 25,
    "start_time": "2022-02-09T20:17:02.559Z"
   },
   {
    "duration": 19,
    "start_time": "2022-02-09T20:17:02.587Z"
   },
   {
    "duration": 467,
    "start_time": "2022-02-09T20:17:02.608Z"
   },
   {
    "duration": 714,
    "start_time": "2022-02-09T20:17:03.078Z"
   },
   {
    "duration": 28,
    "start_time": "2022-02-09T20:17:03.794Z"
   },
   {
    "duration": 617,
    "start_time": "2022-02-09T20:17:03.824Z"
   },
   {
    "duration": 477,
    "start_time": "2022-02-09T20:17:04.444Z"
   },
   {
    "duration": 588,
    "start_time": "2022-02-09T20:17:04.924Z"
   },
   {
    "duration": 610,
    "start_time": "2022-02-09T20:17:05.514Z"
   },
   {
    "duration": 3808,
    "start_time": "2022-02-09T20:17:06.127Z"
   },
   {
    "duration": 660,
    "start_time": "2022-02-09T20:17:09.938Z"
   },
   {
    "duration": 709,
    "start_time": "2022-02-09T20:17:10.600Z"
   },
   {
    "duration": 27,
    "start_time": "2022-02-09T20:17:11.311Z"
   },
   {
    "duration": 5,
    "start_time": "2022-02-09T20:17:11.340Z"
   },
   {
    "duration": 19,
    "start_time": "2022-02-09T20:17:11.370Z"
   },
   {
    "duration": 221,
    "start_time": "2022-02-09T20:17:11.391Z"
   },
   {
    "duration": 6,
    "start_time": "2022-02-09T20:17:11.614Z"
   },
   {
    "duration": 19,
    "start_time": "2022-02-09T20:17:11.622Z"
   },
   {
    "duration": 229,
    "start_time": "2022-02-09T20:17:11.643Z"
   },
   {
    "duration": 7,
    "start_time": "2022-02-09T20:17:11.874Z"
   },
   {
    "duration": 20,
    "start_time": "2022-02-09T20:17:11.884Z"
   },
   {
    "duration": 218,
    "start_time": "2022-02-09T20:17:11.907Z"
   },
   {
    "duration": 7,
    "start_time": "2022-02-09T20:17:12.128Z"
   },
   {
    "duration": 9,
    "start_time": "2022-02-09T20:17:12.138Z"
   },
   {
    "duration": 1138,
    "start_time": "2022-02-09T20:17:12.170Z"
   },
   {
    "duration": 87,
    "start_time": "2022-02-09T20:17:13.225Z"
   },
   {
    "duration": 85,
    "start_time": "2022-02-09T20:17:13.229Z"
   },
   {
    "duration": 84,
    "start_time": "2022-02-09T20:17:13.233Z"
   },
   {
    "duration": 83,
    "start_time": "2022-02-09T20:17:13.236Z"
   },
   {
    "duration": 80,
    "start_time": "2022-02-09T20:17:13.241Z"
   },
   {
    "duration": 7,
    "start_time": "2022-02-09T20:17:27.373Z"
   },
   {
    "duration": 764,
    "start_time": "2022-02-09T20:17:29.337Z"
   },
   {
    "duration": 753,
    "start_time": "2022-02-09T20:50:55.418Z"
   },
   {
    "duration": 777,
    "start_time": "2022-02-09T21:06:03.194Z"
   },
   {
    "duration": 5,
    "start_time": "2022-02-09T21:22:18.123Z"
   },
   {
    "duration": 1960,
    "start_time": "2022-02-09T22:02:57.813Z"
   },
   {
    "duration": 75,
    "start_time": "2022-02-09T22:02:59.777Z"
   },
   {
    "duration": 18,
    "start_time": "2022-02-09T22:02:59.855Z"
   },
   {
    "duration": 15,
    "start_time": "2022-02-09T22:02:59.876Z"
   },
   {
    "duration": 12,
    "start_time": "2022-02-09T22:02:59.893Z"
   },
   {
    "duration": 13,
    "start_time": "2022-02-09T22:02:59.907Z"
   },
   {
    "duration": 65,
    "start_time": "2022-02-09T22:02:59.923Z"
   },
   {
    "duration": 5,
    "start_time": "2022-02-09T22:02:59.992Z"
   },
   {
    "duration": 11,
    "start_time": "2022-02-09T22:03:00.000Z"
   },
   {
    "duration": 11,
    "start_time": "2022-02-09T22:03:00.014Z"
   },
   {
    "duration": 42,
    "start_time": "2022-02-09T22:03:00.028Z"
   },
   {
    "duration": 13,
    "start_time": "2022-02-09T22:03:00.073Z"
   },
   {
    "duration": 14,
    "start_time": "2022-02-09T22:03:00.088Z"
   },
   {
    "duration": 11,
    "start_time": "2022-02-09T22:03:00.104Z"
   },
   {
    "duration": 14,
    "start_time": "2022-02-09T22:03:00.117Z"
   },
   {
    "duration": 6,
    "start_time": "2022-02-09T22:03:00.134Z"
   },
   {
    "duration": 38,
    "start_time": "2022-02-09T22:03:00.142Z"
   },
   {
    "duration": 9,
    "start_time": "2022-02-09T22:03:00.182Z"
   },
   {
    "duration": 14,
    "start_time": "2022-02-09T22:03:00.194Z"
   },
   {
    "duration": 62,
    "start_time": "2022-02-09T22:03:00.210Z"
   },
   {
    "duration": 637,
    "start_time": "2022-02-09T22:03:00.274Z"
   },
   {
    "duration": 17,
    "start_time": "2022-02-09T22:03:00.913Z"
   },
   {
    "duration": 8,
    "start_time": "2022-02-09T22:03:00.936Z"
   },
   {
    "duration": 48,
    "start_time": "2022-02-09T22:03:00.947Z"
   },
   {
    "duration": 517,
    "start_time": "2022-02-09T22:03:00.998Z"
   },
   {
    "duration": 17,
    "start_time": "2022-02-09T22:03:01.517Z"
   },
   {
    "duration": 33,
    "start_time": "2022-02-09T22:03:01.537Z"
   },
   {
    "duration": 392,
    "start_time": "2022-02-09T22:03:01.572Z"
   },
   {
    "duration": 15,
    "start_time": "2022-02-09T22:03:01.967Z"
   },
   {
    "duration": 10,
    "start_time": "2022-02-09T22:03:01.984Z"
   },
   {
    "duration": 466,
    "start_time": "2022-02-09T22:03:01.996Z"
   },
   {
    "duration": 701,
    "start_time": "2022-02-09T22:03:02.465Z"
   },
   {
    "duration": 27,
    "start_time": "2022-02-09T22:03:03.169Z"
   },
   {
    "duration": 582,
    "start_time": "2022-02-09T22:03:03.198Z"
   },
   {
    "duration": 455,
    "start_time": "2022-02-09T22:03:03.782Z"
   },
   {
    "duration": 579,
    "start_time": "2022-02-09T22:03:04.240Z"
   },
   {
    "duration": 593,
    "start_time": "2022-02-09T22:03:04.821Z"
   },
   {
    "duration": 3655,
    "start_time": "2022-02-09T22:03:05.417Z"
   },
   {
    "duration": 629,
    "start_time": "2022-02-09T22:03:09.074Z"
   },
   {
    "duration": 701,
    "start_time": "2022-02-09T22:03:09.705Z"
   },
   {
    "duration": 30,
    "start_time": "2022-02-09T22:03:10.408Z"
   },
   {
    "duration": 29,
    "start_time": "2022-02-09T22:03:10.440Z"
   },
   {
    "duration": 7,
    "start_time": "2022-02-09T22:03:10.472Z"
   },
   {
    "duration": 21,
    "start_time": "2022-02-09T22:03:10.483Z"
   },
   {
    "duration": 234,
    "start_time": "2022-02-09T22:03:10.507Z"
   },
   {
    "duration": 7,
    "start_time": "2022-02-09T22:03:10.744Z"
   },
   {
    "duration": 22,
    "start_time": "2022-02-09T22:03:10.770Z"
   },
   {
    "duration": 228,
    "start_time": "2022-02-09T22:03:10.795Z"
   },
   {
    "duration": 6,
    "start_time": "2022-02-09T22:03:11.025Z"
   },
   {
    "duration": 41,
    "start_time": "2022-02-09T22:03:11.034Z"
   },
   {
    "duration": 199,
    "start_time": "2022-02-09T22:03:11.077Z"
   },
   {
    "duration": 5,
    "start_time": "2022-02-09T22:03:11.279Z"
   },
   {
    "duration": 877,
    "start_time": "2022-02-09T22:03:11.287Z"
   },
   {
    "duration": 860,
    "start_time": "2022-02-09T22:03:12.169Z"
   },
   {
    "duration": 733,
    "start_time": "2022-02-09T22:03:13.032Z"
   },
   {
    "duration": 22,
    "start_time": "2022-02-09T22:03:13.768Z"
   },
   {
    "duration": 12,
    "start_time": "2022-02-09T22:03:13.793Z"
   },
   {
    "duration": 10,
    "start_time": "2022-02-09T22:03:13.807Z"
   },
   {
    "duration": 14,
    "start_time": "2022-02-09T22:03:44.659Z"
   },
   {
    "duration": 2040,
    "start_time": "2022-02-09T22:07:33.960Z"
   },
   {
    "duration": 66,
    "start_time": "2022-02-09T22:07:36.002Z"
   },
   {
    "duration": 14,
    "start_time": "2022-02-09T22:07:36.074Z"
   },
   {
    "duration": 17,
    "start_time": "2022-02-09T22:07:36.091Z"
   },
   {
    "duration": 12,
    "start_time": "2022-02-09T22:07:36.111Z"
   },
   {
    "duration": 52,
    "start_time": "2022-02-09T22:07:36.126Z"
   },
   {
    "duration": 25,
    "start_time": "2022-02-09T22:07:36.181Z"
   },
   {
    "duration": 6,
    "start_time": "2022-02-09T22:07:36.212Z"
   },
   {
    "duration": 47,
    "start_time": "2022-02-09T22:07:36.222Z"
   },
   {
    "duration": 6,
    "start_time": "2022-02-09T22:07:36.272Z"
   },
   {
    "duration": 12,
    "start_time": "2022-02-09T22:07:36.281Z"
   },
   {
    "duration": 13,
    "start_time": "2022-02-09T22:07:36.295Z"
   },
   {
    "duration": 8,
    "start_time": "2022-02-09T22:07:36.310Z"
   },
   {
    "duration": 9,
    "start_time": "2022-02-09T22:07:36.320Z"
   },
   {
    "duration": 6,
    "start_time": "2022-02-09T22:07:36.370Z"
   },
   {
    "duration": 8,
    "start_time": "2022-02-09T22:07:36.378Z"
   },
   {
    "duration": 17,
    "start_time": "2022-02-09T22:07:36.389Z"
   },
   {
    "duration": 9,
    "start_time": "2022-02-09T22:07:36.408Z"
   },
   {
    "duration": 56,
    "start_time": "2022-02-09T22:07:36.420Z"
   },
   {
    "duration": 25,
    "start_time": "2022-02-09T22:07:36.478Z"
   },
   {
    "duration": 642,
    "start_time": "2022-02-09T22:07:36.505Z"
   },
   {
    "duration": 23,
    "start_time": "2022-02-09T22:07:37.150Z"
   },
   {
    "duration": 6,
    "start_time": "2022-02-09T22:07:37.179Z"
   },
   {
    "duration": 28,
    "start_time": "2022-02-09T22:07:37.188Z"
   },
   {
    "duration": 542,
    "start_time": "2022-02-09T22:07:37.218Z"
   },
   {
    "duration": 20,
    "start_time": "2022-02-09T22:07:37.763Z"
   },
   {
    "duration": 10,
    "start_time": "2022-02-09T22:07:37.786Z"
   },
   {
    "duration": 516,
    "start_time": "2022-02-09T22:07:37.799Z"
   },
   {
    "duration": 15,
    "start_time": "2022-02-09T22:07:38.318Z"
   },
   {
    "duration": 35,
    "start_time": "2022-02-09T22:07:38.336Z"
   },
   {
    "duration": 451,
    "start_time": "2022-02-09T22:07:38.374Z"
   },
   {
    "duration": 961,
    "start_time": "2022-02-09T22:07:38.828Z"
   },
   {
    "duration": 25,
    "start_time": "2022-02-09T22:07:39.792Z"
   },
   {
    "duration": 608,
    "start_time": "2022-02-09T22:07:39.819Z"
   },
   {
    "duration": 498,
    "start_time": "2022-02-09T22:07:40.430Z"
   },
   {
    "duration": 619,
    "start_time": "2022-02-09T22:07:40.932Z"
   },
   {
    "duration": 697,
    "start_time": "2022-02-09T22:07:41.553Z"
   },
   {
    "duration": 3811,
    "start_time": "2022-02-09T22:07:42.253Z"
   },
   {
    "duration": 638,
    "start_time": "2022-02-09T22:07:46.069Z"
   },
   {
    "duration": 803,
    "start_time": "2022-02-09T22:07:46.710Z"
   },
   {
    "duration": 32,
    "start_time": "2022-02-09T22:07:47.516Z"
   },
   {
    "duration": 21,
    "start_time": "2022-02-09T22:07:47.550Z"
   },
   {
    "duration": 8,
    "start_time": "2022-02-09T22:07:47.574Z"
   },
   {
    "duration": 23,
    "start_time": "2022-02-09T22:07:47.584Z"
   },
   {
    "duration": 224,
    "start_time": "2022-02-09T22:07:47.610Z"
   },
   {
    "duration": 7,
    "start_time": "2022-02-09T22:07:47.837Z"
   },
   {
    "duration": 41,
    "start_time": "2022-02-09T22:07:47.847Z"
   },
   {
    "duration": 209,
    "start_time": "2022-02-09T22:07:47.890Z"
   },
   {
    "duration": 5,
    "start_time": "2022-02-09T22:07:48.102Z"
   },
   {
    "duration": 22,
    "start_time": "2022-02-09T22:07:48.109Z"
   },
   {
    "duration": 221,
    "start_time": "2022-02-09T22:07:48.133Z"
   },
   {
    "duration": 15,
    "start_time": "2022-02-09T22:07:48.356Z"
   },
   {
    "duration": 845,
    "start_time": "2022-02-09T22:07:48.374Z"
   },
   {
    "duration": 886,
    "start_time": "2022-02-09T22:07:49.221Z"
   },
   {
    "duration": 862,
    "start_time": "2022-02-09T22:07:50.109Z"
   },
   {
    "duration": 23,
    "start_time": "2022-02-09T22:07:50.973Z"
   },
   {
    "duration": 15,
    "start_time": "2022-02-09T22:07:50.999Z"
   },
   {
    "duration": 14,
    "start_time": "2022-02-09T22:07:51.017Z"
   },
   {
    "duration": 1324,
    "start_time": "2022-02-15T15:33:17.904Z"
   },
   {
    "duration": 48,
    "start_time": "2022-02-15T15:33:19.229Z"
   },
   {
    "duration": 10,
    "start_time": "2022-02-15T15:33:19.279Z"
   },
   {
    "duration": 12,
    "start_time": "2022-02-15T15:33:19.291Z"
   },
   {
    "duration": 8,
    "start_time": "2022-02-15T15:33:19.305Z"
   },
   {
    "duration": 15,
    "start_time": "2022-02-15T15:33:19.315Z"
   },
   {
    "duration": 15,
    "start_time": "2022-02-15T15:33:19.332Z"
   },
   {
    "duration": 4,
    "start_time": "2022-02-15T15:33:19.349Z"
   },
   {
    "duration": 6,
    "start_time": "2022-02-15T15:33:19.354Z"
   },
   {
    "duration": 6,
    "start_time": "2022-02-15T15:33:19.361Z"
   },
   {
    "duration": 4,
    "start_time": "2022-02-15T15:33:19.368Z"
   },
   {
    "duration": 7,
    "start_time": "2022-02-15T15:33:19.373Z"
   },
   {
    "duration": 5,
    "start_time": "2022-02-15T15:33:19.381Z"
   },
   {
    "duration": 6,
    "start_time": "2022-02-15T15:33:19.387Z"
   },
   {
    "duration": 5,
    "start_time": "2022-02-15T15:33:19.395Z"
   },
   {
    "duration": 5,
    "start_time": "2022-02-15T15:33:19.401Z"
   },
   {
    "duration": 8,
    "start_time": "2022-02-15T15:33:19.408Z"
   },
   {
    "duration": 5,
    "start_time": "2022-02-15T15:33:19.418Z"
   },
   {
    "duration": 13,
    "start_time": "2022-02-15T15:33:19.424Z"
   },
   {
    "duration": 15,
    "start_time": "2022-02-15T15:33:19.438Z"
   },
   {
    "duration": 362,
    "start_time": "2022-02-15T15:33:19.454Z"
   },
   {
    "duration": 13,
    "start_time": "2022-02-15T15:33:19.818Z"
   },
   {
    "duration": 3,
    "start_time": "2022-02-15T15:33:19.835Z"
   },
   {
    "duration": 17,
    "start_time": "2022-02-15T15:33:19.840Z"
   },
   {
    "duration": 410,
    "start_time": "2022-02-15T15:33:19.858Z"
   },
   {
    "duration": 10,
    "start_time": "2022-02-15T15:33:20.270Z"
   },
   {
    "duration": 5,
    "start_time": "2022-02-15T15:33:20.282Z"
   },
   {
    "duration": 247,
    "start_time": "2022-02-15T15:33:20.289Z"
   },
   {
    "duration": 10,
    "start_time": "2022-02-15T15:33:20.537Z"
   },
   {
    "duration": 9,
    "start_time": "2022-02-15T15:33:20.549Z"
   },
   {
    "duration": 279,
    "start_time": "2022-02-15T15:33:20.560Z"
   },
   {
    "duration": 398,
    "start_time": "2022-02-15T15:33:20.841Z"
   },
   {
    "duration": 17,
    "start_time": "2022-02-15T15:33:21.240Z"
   },
   {
    "duration": 402,
    "start_time": "2022-02-15T15:33:21.259Z"
   },
   {
    "duration": 371,
    "start_time": "2022-02-15T15:33:21.663Z"
   },
   {
    "duration": 406,
    "start_time": "2022-02-15T15:33:22.036Z"
   },
   {
    "duration": 303,
    "start_time": "2022-02-15T15:33:22.444Z"
   },
   {
    "duration": 2201,
    "start_time": "2022-02-15T15:33:22.749Z"
   },
   {
    "duration": 398,
    "start_time": "2022-02-15T15:33:24.952Z"
   },
   {
    "duration": 434,
    "start_time": "2022-02-15T15:33:25.352Z"
   },
   {
    "duration": 17,
    "start_time": "2022-02-15T15:33:25.788Z"
   },
   {
    "duration": 4,
    "start_time": "2022-02-15T15:33:25.806Z"
   },
   {
    "duration": 21,
    "start_time": "2022-02-15T15:33:25.811Z"
   },
   {
    "duration": 17,
    "start_time": "2022-02-15T15:33:25.833Z"
   },
   {
    "duration": 125,
    "start_time": "2022-02-15T15:33:25.851Z"
   },
   {
    "duration": 4,
    "start_time": "2022-02-15T15:33:25.978Z"
   },
   {
    "duration": 16,
    "start_time": "2022-02-15T15:33:25.983Z"
   },
   {
    "duration": 121,
    "start_time": "2022-02-15T15:33:26.001Z"
   },
   {
    "duration": 8,
    "start_time": "2022-02-15T15:33:26.124Z"
   },
   {
    "duration": 18,
    "start_time": "2022-02-15T15:33:26.133Z"
   },
   {
    "duration": 126,
    "start_time": "2022-02-15T15:33:26.152Z"
   },
   {
    "duration": 4,
    "start_time": "2022-02-15T15:33:26.280Z"
   },
   {
    "duration": 432,
    "start_time": "2022-02-15T15:33:26.285Z"
   },
   {
    "duration": 471,
    "start_time": "2022-02-15T15:33:26.718Z"
   },
   {
    "duration": 423,
    "start_time": "2022-02-15T15:33:27.190Z"
   },
   {
    "duration": 19,
    "start_time": "2022-02-15T15:33:27.614Z"
   },
   {
    "duration": 6,
    "start_time": "2022-02-15T15:33:27.634Z"
   },
   {
    "duration": 6,
    "start_time": "2022-02-15T15:33:27.642Z"
   },
   {
    "duration": 17,
    "start_time": "2022-02-15T16:06:36.533Z"
   },
   {
    "duration": 294,
    "start_time": "2022-02-15T16:07:04.393Z"
   },
   {
    "duration": 182,
    "start_time": "2022-02-15T16:07:14.691Z"
   },
   {
    "duration": 373,
    "start_time": "2022-02-15T16:07:25.715Z"
   },
   {
    "duration": 610,
    "start_time": "2022-02-15T16:07:36.528Z"
   },
   {
    "duration": 595,
    "start_time": "2022-02-15T16:09:08.757Z"
   },
   {
    "duration": 573,
    "start_time": "2022-02-15T16:09:20.826Z"
   },
   {
    "duration": 548,
    "start_time": "2022-02-15T16:09:29.228Z"
   },
   {
    "duration": 99,
    "start_time": "2022-02-15T16:13:51.271Z"
   },
   {
    "duration": 110,
    "start_time": "2022-02-15T16:13:56.767Z"
   }
  ],
  "kernelspec": {
   "display_name": "Python 3 (ipykernel)",
   "language": "python",
   "name": "python3"
  },
  "language_info": {
   "codemirror_mode": {
    "name": "ipython",
    "version": 3
   },
   "file_extension": ".py",
   "mimetype": "text/x-python",
   "name": "python",
   "nbconvert_exporter": "python",
   "pygments_lexer": "ipython3",
   "version": "3.9.5"
  },
  "toc": {
   "base_numbering": 1,
   "nav_menu": {},
   "number_sections": true,
   "sideBar": true,
   "skip_h1_title": true,
   "title_cell": "Table of Contents",
   "title_sidebar": "Contents",
   "toc_cell": true,
   "toc_position": {
    "height": "calc(100% - 180px)",
    "left": "10px",
    "top": "150px",
    "width": "165px"
   },
   "toc_section_display": true,
   "toc_window_display": true
  }
 },
 "nbformat": 4,
 "nbformat_minor": 2
}
