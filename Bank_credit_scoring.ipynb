{
 "cells": [
  {
   "cell_type": "markdown",
   "metadata": {},
   "source": [
    "# Исследование надёжности заёмщиков\n",
    "\n",
    "Заказчик — кредитный отдел банка. Нужно разобраться, влияет ли семейное положение и количество детей клиента на факт погашения кредита в срок. Входные данные от банка — статистика о платёжеспособности клиентов.\n",
    "\n",
    "Результаты исследования будут учтены при построении модели **кредитного скоринга** — специальной системы, которая оценивает способность потенциального заёмщика вернуть кредит банку."
   ]
  },
  {
   "cell_type": "markdown",
   "metadata": {},
   "source": [
    "## Открытие файла с данными и изучение общей информации"
   ]
  },
  {
   "cell_type": "code",
   "execution_count": 1,
   "metadata": {
    "scrolled": true
   },
   "outputs": [
    {
     "data": {
      "text/html": [
       "<div>\n",
       "<style scoped>\n",
       "    .dataframe tbody tr th:only-of-type {\n",
       "        vertical-align: middle;\n",
       "    }\n",
       "\n",
       "    .dataframe tbody tr th {\n",
       "        vertical-align: top;\n",
       "    }\n",
       "\n",
       "    .dataframe thead th {\n",
       "        text-align: right;\n",
       "    }\n",
       "</style>\n",
       "<table border=\"1\" class=\"dataframe\">\n",
       "  <thead>\n",
       "    <tr style=\"text-align: right;\">\n",
       "      <th></th>\n",
       "      <th>children</th>\n",
       "      <th>days_employed</th>\n",
       "      <th>dob_years</th>\n",
       "      <th>education</th>\n",
       "      <th>education_id</th>\n",
       "      <th>family_status</th>\n",
       "      <th>family_status_id</th>\n",
       "      <th>gender</th>\n",
       "      <th>income_type</th>\n",
       "      <th>debt</th>\n",
       "      <th>total_income</th>\n",
       "      <th>purpose</th>\n",
       "    </tr>\n",
       "  </thead>\n",
       "  <tbody>\n",
       "    <tr>\n",
       "      <td>0</td>\n",
       "      <td>1</td>\n",
       "      <td>-8437.673028</td>\n",
       "      <td>42</td>\n",
       "      <td>высшее</td>\n",
       "      <td>0</td>\n",
       "      <td>женат / замужем</td>\n",
       "      <td>0</td>\n",
       "      <td>F</td>\n",
       "      <td>сотрудник</td>\n",
       "      <td>0</td>\n",
       "      <td>253875.639453</td>\n",
       "      <td>покупка жилья</td>\n",
       "    </tr>\n",
       "    <tr>\n",
       "      <td>1</td>\n",
       "      <td>1</td>\n",
       "      <td>-4024.803754</td>\n",
       "      <td>36</td>\n",
       "      <td>среднее</td>\n",
       "      <td>1</td>\n",
       "      <td>женат / замужем</td>\n",
       "      <td>0</td>\n",
       "      <td>F</td>\n",
       "      <td>сотрудник</td>\n",
       "      <td>0</td>\n",
       "      <td>112080.014102</td>\n",
       "      <td>приобретение автомобиля</td>\n",
       "    </tr>\n",
       "    <tr>\n",
       "      <td>2</td>\n",
       "      <td>0</td>\n",
       "      <td>-5623.422610</td>\n",
       "      <td>33</td>\n",
       "      <td>Среднее</td>\n",
       "      <td>1</td>\n",
       "      <td>женат / замужем</td>\n",
       "      <td>0</td>\n",
       "      <td>M</td>\n",
       "      <td>сотрудник</td>\n",
       "      <td>0</td>\n",
       "      <td>145885.952297</td>\n",
       "      <td>покупка жилья</td>\n",
       "    </tr>\n",
       "    <tr>\n",
       "      <td>3</td>\n",
       "      <td>3</td>\n",
       "      <td>-4124.747207</td>\n",
       "      <td>32</td>\n",
       "      <td>среднее</td>\n",
       "      <td>1</td>\n",
       "      <td>женат / замужем</td>\n",
       "      <td>0</td>\n",
       "      <td>M</td>\n",
       "      <td>сотрудник</td>\n",
       "      <td>0</td>\n",
       "      <td>267628.550329</td>\n",
       "      <td>дополнительное образование</td>\n",
       "    </tr>\n",
       "    <tr>\n",
       "      <td>4</td>\n",
       "      <td>0</td>\n",
       "      <td>340266.072047</td>\n",
       "      <td>53</td>\n",
       "      <td>среднее</td>\n",
       "      <td>1</td>\n",
       "      <td>гражданский брак</td>\n",
       "      <td>1</td>\n",
       "      <td>F</td>\n",
       "      <td>пенсионер</td>\n",
       "      <td>0</td>\n",
       "      <td>158616.077870</td>\n",
       "      <td>сыграть свадьбу</td>\n",
       "    </tr>\n",
       "    <tr>\n",
       "      <td>5</td>\n",
       "      <td>0</td>\n",
       "      <td>-926.185831</td>\n",
       "      <td>27</td>\n",
       "      <td>высшее</td>\n",
       "      <td>0</td>\n",
       "      <td>гражданский брак</td>\n",
       "      <td>1</td>\n",
       "      <td>M</td>\n",
       "      <td>компаньон</td>\n",
       "      <td>0</td>\n",
       "      <td>255763.565419</td>\n",
       "      <td>покупка жилья</td>\n",
       "    </tr>\n",
       "    <tr>\n",
       "      <td>6</td>\n",
       "      <td>0</td>\n",
       "      <td>-2879.202052</td>\n",
       "      <td>43</td>\n",
       "      <td>высшее</td>\n",
       "      <td>0</td>\n",
       "      <td>женат / замужем</td>\n",
       "      <td>0</td>\n",
       "      <td>F</td>\n",
       "      <td>компаньон</td>\n",
       "      <td>0</td>\n",
       "      <td>240525.971920</td>\n",
       "      <td>операции с жильем</td>\n",
       "    </tr>\n",
       "    <tr>\n",
       "      <td>7</td>\n",
       "      <td>0</td>\n",
       "      <td>-152.779569</td>\n",
       "      <td>50</td>\n",
       "      <td>СРЕДНЕЕ</td>\n",
       "      <td>1</td>\n",
       "      <td>женат / замужем</td>\n",
       "      <td>0</td>\n",
       "      <td>M</td>\n",
       "      <td>сотрудник</td>\n",
       "      <td>0</td>\n",
       "      <td>135823.934197</td>\n",
       "      <td>образование</td>\n",
       "    </tr>\n",
       "    <tr>\n",
       "      <td>8</td>\n",
       "      <td>2</td>\n",
       "      <td>-6929.865299</td>\n",
       "      <td>35</td>\n",
       "      <td>ВЫСШЕЕ</td>\n",
       "      <td>0</td>\n",
       "      <td>гражданский брак</td>\n",
       "      <td>1</td>\n",
       "      <td>F</td>\n",
       "      <td>сотрудник</td>\n",
       "      <td>0</td>\n",
       "      <td>95856.832424</td>\n",
       "      <td>на проведение свадьбы</td>\n",
       "    </tr>\n",
       "    <tr>\n",
       "      <td>9</td>\n",
       "      <td>0</td>\n",
       "      <td>-2188.756445</td>\n",
       "      <td>41</td>\n",
       "      <td>среднее</td>\n",
       "      <td>1</td>\n",
       "      <td>женат / замужем</td>\n",
       "      <td>0</td>\n",
       "      <td>M</td>\n",
       "      <td>сотрудник</td>\n",
       "      <td>0</td>\n",
       "      <td>144425.938277</td>\n",
       "      <td>покупка жилья для семьи</td>\n",
       "    </tr>\n",
       "  </tbody>\n",
       "</table>\n",
       "</div>"
      ],
      "text/plain": [
       "   children  days_employed  dob_years education  education_id  \\\n",
       "0         1   -8437.673028         42    высшее             0   \n",
       "1         1   -4024.803754         36   среднее             1   \n",
       "2         0   -5623.422610         33   Среднее             1   \n",
       "3         3   -4124.747207         32   среднее             1   \n",
       "4         0  340266.072047         53   среднее             1   \n",
       "5         0    -926.185831         27    высшее             0   \n",
       "6         0   -2879.202052         43    высшее             0   \n",
       "7         0    -152.779569         50   СРЕДНЕЕ             1   \n",
       "8         2   -6929.865299         35    ВЫСШЕЕ             0   \n",
       "9         0   -2188.756445         41   среднее             1   \n",
       "\n",
       "      family_status  family_status_id gender income_type  debt   total_income  \\\n",
       "0   женат / замужем                 0      F   сотрудник     0  253875.639453   \n",
       "1   женат / замужем                 0      F   сотрудник     0  112080.014102   \n",
       "2   женат / замужем                 0      M   сотрудник     0  145885.952297   \n",
       "3   женат / замужем                 0      M   сотрудник     0  267628.550329   \n",
       "4  гражданский брак                 1      F   пенсионер     0  158616.077870   \n",
       "5  гражданский брак                 1      M   компаньон     0  255763.565419   \n",
       "6   женат / замужем                 0      F   компаньон     0  240525.971920   \n",
       "7   женат / замужем                 0      M   сотрудник     0  135823.934197   \n",
       "8  гражданский брак                 1      F   сотрудник     0   95856.832424   \n",
       "9   женат / замужем                 0      M   сотрудник     0  144425.938277   \n",
       "\n",
       "                      purpose  \n",
       "0               покупка жилья  \n",
       "1     приобретение автомобиля  \n",
       "2               покупка жилья  \n",
       "3  дополнительное образование  \n",
       "4             сыграть свадьбу  \n",
       "5               покупка жилья  \n",
       "6           операции с жильем  \n",
       "7                 образование  \n",
       "8       на проведение свадьбы  \n",
       "9     покупка жилья для семьи  "
      ]
     },
     "metadata": {},
     "output_type": "display_data"
    }
   ],
   "source": [
    "import warnings\n",
    "warnings.filterwarnings('ignore')#скрытие предупреждений\n",
    "import pandas as pd\n",
    "\n",
    "df = pd.read_csv('/datasets/data.csv')\n",
    "display(df.head(10))\n"
   ]
  },
  {
   "cell_type": "code",
   "execution_count": 2,
   "metadata": {},
   "outputs": [
    {
     "name": "stdout",
     "output_type": "stream",
     "text": [
      "<class 'pandas.core.frame.DataFrame'>\n",
      "RangeIndex: 21525 entries, 0 to 21524\n",
      "Data columns (total 12 columns):\n",
      "children            21525 non-null int64\n",
      "days_employed       19351 non-null float64\n",
      "dob_years           21525 non-null int64\n",
      "education           21525 non-null object\n",
      "education_id        21525 non-null int64\n",
      "family_status       21525 non-null object\n",
      "family_status_id    21525 non-null int64\n",
      "gender              21525 non-null object\n",
      "income_type         21525 non-null object\n",
      "debt                21525 non-null int64\n",
      "total_income        19351 non-null float64\n",
      "purpose             21525 non-null object\n",
      "dtypes: float64(2), int64(5), object(5)\n",
      "memory usage: 2.0+ MB\n"
     ]
    }
   ],
   "source": [
    "df.info()# получение общуей информации о данных в таблице df"
   ]
  },
  {
   "cell_type": "markdown",
   "metadata": {},
   "source": [
    "**Вывод**"
   ]
  },
  {
   "cell_type": "markdown",
   "metadata": {},
   "source": [
    "Ознакомившись с таблицей, можно сделать следующие выводы:\n",
    "\n",
    "В таблице 12 столбцов. \n",
    "\n",
    "Согласно документации к данным:\n",
    "    \n",
    "- children — количество детей в семье\n",
    "- days_employed — общий трудовой стаж в днях\n",
    "- dob_years — возраст клиента в годах\n",
    "- education — уровень образования клиента\n",
    "- education_id — идентификатор уровня образования\n",
    "- family_status — семейное положение\n",
    "- family_status_id — идентификатор семейного положения\n",
    "- gender — пол клиента\n",
    "- income_type — тип занятости\n",
    "- debt — имел ли задолженность по возврату кредитов\n",
    "- total_income — ежемесячный доход\n",
    "- purpose — цель получения кредита\n",
    "\n",
    "\n",
    "Названия столбцов приведены к единому стилю и не требуют изменения\n",
    "\n",
    "Требует предобработки:\n",
    "1. Количество значений в столбцах различается. Значит, в данных есть пропущенные значения в столбцах 'days_employed' и 'total_income'.\n",
    "2. В столбце 'days_employed' (общий трудовой стаж в днях) имеются отрицательные значения и заметен слишком большой разброс значений. Следует проверить гипотезу, что при выгрузке данных из разных источников возникла ошибка и данные записаны в разном формате. Часть данных представлена не в днях, а более мелких едницах измерения.\n",
    "3. Тип данных в стобцах 'days_employed' и 'total_income' необходтмо заменить на целочисленный.\n",
    "3. Необходимо проверить таблицу на явные и неявные дубликаты. Сразу заметны различия в написании в столбце 'education'."
   ]
  },
  {
   "cell_type": "markdown",
   "metadata": {},
   "source": [
    "## Предобработка данных"
   ]
  },
  {
   "cell_type": "markdown",
   "metadata": {},
   "source": [
    "### Обработка пропусков"
   ]
  },
  {
   "cell_type": "markdown",
   "metadata": {},
   "source": [
    "Сначала определю количество пропущенных значений с помощью методов isna() и sum():"
   ]
  },
  {
   "cell_type": "code",
   "execution_count": 3,
   "metadata": {
    "scrolled": true
   },
   "outputs": [
    {
     "data": {
      "text/plain": [
       "children               0\n",
       "days_employed       2174\n",
       "dob_years              0\n",
       "education              0\n",
       "education_id           0\n",
       "family_status          0\n",
       "family_status_id       0\n",
       "gender                 0\n",
       "income_type            0\n",
       "debt                   0\n",
       "total_income        2174\n",
       "purpose                0\n",
       "dtype: int64"
      ]
     },
     "execution_count": 3,
     "metadata": {},
     "output_type": "execute_result"
    }
   ],
   "source": [
    "df.isna().sum()# подсчёт пропусков"
   ]
  },
  {
   "cell_type": "code",
   "execution_count": 4,
   "metadata": {
    "scrolled": true
   },
   "outputs": [
    {
     "data": {
      "text/plain": [
       "count     19351.000000\n",
       "mean      63046.497661\n",
       "std      140827.311974\n",
       "min      -18388.949901\n",
       "25%       -2747.423625\n",
       "50%       -1203.369529\n",
       "75%        -291.095954\n",
       "max      401755.400475\n",
       "Name: days_employed, dtype: float64"
      ]
     },
     "execution_count": 4,
     "metadata": {},
     "output_type": "execute_result"
    }
   ],
   "source": [
    "#определяние диапозона разброса значений в столбце 'days_employed'\n",
    "df['days_employed'].describe()"
   ]
  },
  {
   "cell_type": "markdown",
   "metadata": {},
   "source": [
    "Заметен не только очень широкий разброс значений, но и отрицательные величины, что не соответсвует описанию столбца 'days_employed' (общий трудовой стаж в днях). Посмотрю на разброс значений с помощью гистограммы."
   ]
  },
  {
   "cell_type": "code",
   "execution_count": 5,
   "metadata": {
    "scrolled": false
   },
   "outputs": [
    {
     "data": {
      "text/plain": [
       "<matplotlib.axes._subplots.AxesSubplot at 0x7fdc4a1d4bd0>"
      ]
     },
     "execution_count": 5,
     "metadata": {},
     "output_type": "execute_result"
    },
    {
     "data": {
      "image/png": "[encoded data removed]",
      "text/plain": [
       "<Figure size 432x288 with 1 Axes>"
      ]
     },
     "metadata": {
      "needs_background": "light"
     },
     "output_type": "display_data"
    }
   ],
   "source": [
    "#построение гистограммы для 'days_employed'\n",
    "df['days_employed'].hist() "
   ]
  },
  {
   "cell_type": "markdown",
   "metadata": {},
   "source": [
    "По гистограмме видно, что часть значений больше 300000, значит эти значения представлены не в днях, а в более мелкой единице измерения - часах.\n",
    "Таким образом, необходимо привести отрицательные значения столбца к модулю, а значения, выходящие за предел 300000 - перевести в часы."
   ]
  },
  {
   "cell_type": "code",
   "execution_count": 6,
   "metadata": {},
   "outputs": [],
   "source": [
    "#беру значения по модулю\n",
    "df['days_employed'] = abs(df['days_employed'])\n",
    "\n",
    "#применяю логическую индексацию с методом loc(), для перевода значений в часах в дни:\n",
    "\n",
    "df.loc[df['days_employed'] > 300000, 'days_employed'] = df.loc[df['days_employed'] > 300000, 'days_employed'] /24"
   ]
  },
  {
   "cell_type": "code",
   "execution_count": 7,
   "metadata": {
    "scrolled": true
   },
   "outputs": [
    {
     "data": {
      "text/plain": [
       "count    19351.000000\n",
       "mean      4641.641176\n",
       "std       5355.964289\n",
       "min         24.141633\n",
       "25%        927.009265\n",
       "50%       2194.220567\n",
       "75%       5537.882441\n",
       "max      18388.949901\n",
       "Name: days_employed, dtype: float64"
      ]
     },
     "execution_count": 7,
     "metadata": {},
     "output_type": "execute_result"
    }
   ],
   "source": [
    "df['days_employed'].describe() # проверка получившегося разброса значений"
   ]
  },
  {
   "cell_type": "markdown",
   "metadata": {},
   "source": [
    "Значения распределяются корректно. Минимальное значение больше 0, максимальное составляет 50 лет трудового стажа. Гипотеза об ошибке при выгрузке подтвердилась, перевод аномально больших значений в часы привел к корректному распределнию данных."
   ]
  },
  {
   "cell_type": "markdown",
   "metadata": {},
   "source": [
    "Далее необходимо заполнить пропущенные значения в столбцах 'days_employed' и 'total_income'. Так как выборка не является однородной, заполнение должно происходить не по среднему арифметическому, а по медианному значению. Но просто заполнить медианным значением по столбцам будет не совсем корректно. Проверим гипотезу, что пропуски зависят от семейного положения 'family_status' или от типа дохода 'income_type'"
   ]
  },
  {
   "cell_type": "code",
   "execution_count": 8,
   "metadata": {
    "scrolled": true
   },
   "outputs": [
    {
     "data": {
      "text/html": [
       "<div>\n",
       "<style scoped>\n",
       "    .dataframe tbody tr th:only-of-type {\n",
       "        vertical-align: middle;\n",
       "    }\n",
       "\n",
       "    .dataframe tbody tr th {\n",
       "        vertical-align: top;\n",
       "    }\n",
       "\n",
       "    .dataframe thead th {\n",
       "        text-align: right;\n",
       "    }\n",
       "</style>\n",
       "<table border=\"1\" class=\"dataframe\">\n",
       "  <thead>\n",
       "    <tr style=\"text-align: right;\">\n",
       "      <th></th>\n",
       "      <th>missing_days_employed</th>\n",
       "      <th>missing_total_income</th>\n",
       "    </tr>\n",
       "    <tr>\n",
       "      <th>family_status</th>\n",
       "      <th></th>\n",
       "      <th></th>\n",
       "    </tr>\n",
       "  </thead>\n",
       "  <tbody>\n",
       "    <tr>\n",
       "      <td>гражданский брак</td>\n",
       "      <td>0.105818</td>\n",
       "      <td>0.105818</td>\n",
       "    </tr>\n",
       "    <tr>\n",
       "      <td>Не женат / не замужем</td>\n",
       "      <td>0.102382</td>\n",
       "      <td>0.102382</td>\n",
       "    </tr>\n",
       "    <tr>\n",
       "      <td>женат / замужем</td>\n",
       "      <td>0.099919</td>\n",
       "      <td>0.099919</td>\n",
       "    </tr>\n",
       "    <tr>\n",
       "      <td>вдовец / вдова</td>\n",
       "      <td>0.098958</td>\n",
       "      <td>0.098958</td>\n",
       "    </tr>\n",
       "    <tr>\n",
       "      <td>в разводе</td>\n",
       "      <td>0.093724</td>\n",
       "      <td>0.093724</td>\n",
       "    </tr>\n",
       "  </tbody>\n",
       "</table>\n",
       "</div>"
      ],
      "text/plain": [
       "                       missing_days_employed  missing_total_income\n",
       "family_status                                                     \n",
       "гражданский брак                    0.105818              0.105818\n",
       "Не женат / не замужем               0.102382              0.102382\n",
       "женат / замужем                     0.099919              0.099919\n",
       "вдовец / вдова                      0.098958              0.098958\n",
       "в разводе                           0.093724              0.093724"
      ]
     },
     "metadata": {},
     "output_type": "display_data"
    },
    {
     "data": {
      "text/html": [
       "<div>\n",
       "<style scoped>\n",
       "    .dataframe tbody tr th:only-of-type {\n",
       "        vertical-align: middle;\n",
       "    }\n",
       "\n",
       "    .dataframe tbody tr th {\n",
       "        vertical-align: top;\n",
       "    }\n",
       "\n",
       "    .dataframe thead th {\n",
       "        text-align: right;\n",
       "    }\n",
       "</style>\n",
       "<table border=\"1\" class=\"dataframe\">\n",
       "  <thead>\n",
       "    <tr style=\"text-align: right;\">\n",
       "      <th></th>\n",
       "      <th>missing_days_employed</th>\n",
       "      <th>missing_total_income</th>\n",
       "    </tr>\n",
       "    <tr>\n",
       "      <th>income_type</th>\n",
       "      <th></th>\n",
       "      <th></th>\n",
       "    </tr>\n",
       "  </thead>\n",
       "  <tbody>\n",
       "    <tr>\n",
       "      <td>предприниматель</td>\n",
       "      <td>0.500000</td>\n",
       "      <td>0.500000</td>\n",
       "    </tr>\n",
       "    <tr>\n",
       "      <td>пенсионер</td>\n",
       "      <td>0.107106</td>\n",
       "      <td>0.107106</td>\n",
       "    </tr>\n",
       "    <tr>\n",
       "      <td>госслужащий</td>\n",
       "      <td>0.100754</td>\n",
       "      <td>0.100754</td>\n",
       "    </tr>\n",
       "    <tr>\n",
       "      <td>компаньон</td>\n",
       "      <td>0.099902</td>\n",
       "      <td>0.099902</td>\n",
       "    </tr>\n",
       "    <tr>\n",
       "      <td>сотрудник</td>\n",
       "      <td>0.099379</td>\n",
       "      <td>0.099379</td>\n",
       "    </tr>\n",
       "    <tr>\n",
       "      <td>безработный</td>\n",
       "      <td>0.000000</td>\n",
       "      <td>0.000000</td>\n",
       "    </tr>\n",
       "    <tr>\n",
       "      <td>в декрете</td>\n",
       "      <td>0.000000</td>\n",
       "      <td>0.000000</td>\n",
       "    </tr>\n",
       "    <tr>\n",
       "      <td>студент</td>\n",
       "      <td>0.000000</td>\n",
       "      <td>0.000000</td>\n",
       "    </tr>\n",
       "  </tbody>\n",
       "</table>\n",
       "</div>"
      ],
      "text/plain": [
       "                 missing_days_employed  missing_total_income\n",
       "income_type                                                 \n",
       "предприниматель               0.500000              0.500000\n",
       "пенсионер                     0.107106              0.107106\n",
       "госслужащий                   0.100754              0.100754\n",
       "компаньон                     0.099902              0.099902\n",
       "сотрудник                     0.099379              0.099379\n",
       "безработный                   0.000000              0.000000\n",
       "в декрете                     0.000000              0.000000\n",
       "студент                       0.000000              0.000000"
      ]
     },
     "metadata": {},
     "output_type": "display_data"
    }
   ],
   "source": [
    "df['missing_days_employed'] = df['days_employed'].isna() # пропуски столбца 'days_employed'\n",
    "df['missing_total_income'] = df['total_income'].isna()  # пропуски столбца 'total_income'\n",
    "\n",
    "#группировка пропущенных значений по семейному положению и подсчет среднего по группам\n",
    "display(df.groupby('family_status').agg({'missing_days_employed' : 'mean',\n",
    "                                         'missing_total_income' : 'mean'}).sort_values(by = 'missing_days_employed', \n",
    "                                                                               ascending =False))\n",
    "#группировка пропущенных значений по типу дохода и подсчет среднего по группам\n",
    "display(df.groupby('income_type').agg({'missing_days_employed' : 'mean',\n",
    "                                       'missing_total_income' : 'mean'}).sort_values(by = 'missing_days_employed', \n",
    "                                                                               ascending =False))\n",
    "\n",
    "\n"
   ]
  },
  {
   "cell_type": "markdown",
   "metadata": {},
   "source": [
    "Занятно, что категории с пропусками совпадают для обоих столбцов. Можно сделать вывод, что пропуски не случайны. \n",
    "Процент пропусков при группировке по семейному положению приблизительно схож. При группировке по типу дохода - видны перекосы. Т.е. наличие пропусков зависит от типа дохода. Таким образом логично заполнять пропуски для обоих столбцов медианным значением с группировкой по типу дохода 'income_type':"
   ]
  },
  {
   "cell_type": "code",
   "execution_count": 9,
   "metadata": {},
   "outputs": [
    {
     "name": "stdout",
     "output_type": "stream",
     "text": [
      "Трудовой стаж. Пропуски до: 2174\n",
      "Трудовой стаж. Пропуски после: 0\n"
     ]
    }
   ],
   "source": [
    "#заполнение пропусков в столбце 'days_employed' едианным значением с группировкой по 'income_type'\n",
    "print('Трудовой стаж. Пропуски до:', df['days_employed'].isna().sum())\n",
    "\n",
    "for income in df['income_type'].unique():\n",
    "    median = df.loc[df['income_type'] == income , 'days_employed'].median()\n",
    "    df.loc[(df['days_employed'].isna()) & (df['income_type'] == income), 'days_employed'] = median\n",
    "           \n",
    "print('Трудовой стаж. Пропуски после:', df['days_employed'].isna().sum())"
   ]
  },
  {
   "cell_type": "code",
   "execution_count": 10,
   "metadata": {},
   "outputs": [
    {
     "name": "stdout",
     "output_type": "stream",
     "text": [
      "Ежемесячный доход. Пропуски до: 2174\n",
      "Ежемесячный доход. Пропуски после: 0\n"
     ]
    }
   ],
   "source": [
    "#заполнение пропусков в столбце 'total_income' едианным значением с группировкой по 'income_type'\n",
    "print('Ежемесячный доход. Пропуски до:', df['total_income'].isna().sum())\n",
    "\n",
    "for income in df['income_type'].unique():\n",
    "    median = df.loc[df['income_type'] == income , 'total_income'].median()\n",
    "    df.loc[(df['total_income'].isna()) & (df['income_type'] == income), 'total_income'] = median\n",
    "           \n",
    "print('Ежемесячный доход. Пропуски после:', df['total_income'].isna().sum())"
   ]
  },
  {
   "cell_type": "markdown",
   "metadata": {},
   "source": [
    "**Вывод**"
   ]
  },
  {
   "cell_type": "markdown",
   "metadata": {},
   "source": [
    "При ознакомлении с таблицей, были обнаружены пропущенные значения в столбцах 'days_employed'(общий трудовой стаж в днях) и 'total_income'(ежемесячный доход). \n",
    "Было выясненно, что распределение пропусков зависит от типа дохода 'income_type', причем для обоих столбцов процент пропусков оказался одинаковым. Таким образом, можно сделать вывод, что пропуски в 'days_employed' и 'total_income' не случайны и находятся в прямой зависимости друг от друга. \n",
    "Была выявлена группа \"предприниматель\" с наибольшим процентом пропусков - 50% от общего числа значений.\n",
    "Пропуски были заполнены медианным значением (так как выборка не однородка) с группировкой данных по типу дохода 'income_type'. Так получилось сохранить репрезентативность выборки для заполняемых данных.\n",
    "\n",
    "В столбце 'days_employed' (общий трудовой стаж в днях) имелись отрицательные значения и был заметен слишком большой разброс значений. Возможная причина - выгрузка происходила из разных систем с разными единицами измерения. Значения столбца были приведены к единому формату - положительные значения в часах.\n",
    "\n"
   ]
  },
  {
   "cell_type": "markdown",
   "metadata": {},
   "source": [
    "### Замена типа данных"
   ]
  },
  {
   "cell_type": "markdown",
   "metadata": {},
   "source": [
    "Необходимо заменить тип данных в столбцах 'days_employed' и 'total_income' на целочисленный (int64). \n",
    "Так как значения столбцов имеют формат вещественных чисел (float64), для перевода буду использовать метод astype(). \n",
    "Для проверки вызову метод info()\n"
   ]
  },
  {
   "cell_type": "code",
   "execution_count": 11,
   "metadata": {},
   "outputs": [
    {
     "name": "stdout",
     "output_type": "stream",
     "text": [
      "<class 'pandas.core.frame.DataFrame'>\n",
      "RangeIndex: 21525 entries, 0 to 21524\n",
      "Data columns (total 14 columns):\n",
      "children                 21525 non-null int64\n",
      "days_employed            21525 non-null int64\n",
      "dob_years                21525 non-null int64\n",
      "education                21525 non-null object\n",
      "education_id             21525 non-null int64\n",
      "family_status            21525 non-null object\n",
      "family_status_id         21525 non-null int64\n",
      "gender                   21525 non-null object\n",
      "income_type              21525 non-null object\n",
      "debt                     21525 non-null int64\n",
      "total_income             21525 non-null int64\n",
      "purpose                  21525 non-null object\n",
      "missing_days_employed    21525 non-null bool\n",
      "missing_total_income     21525 non-null bool\n",
      "dtypes: bool(2), int64(7), object(5)\n",
      "memory usage: 2.0+ MB\n"
     ]
    }
   ],
   "source": [
    "df['days_employed'] = df['days_employed'].astype(int)\n",
    "df['total_income'] = df['total_income'].astype(int)\n",
    "df.info()"
   ]
  },
  {
   "cell_type": "markdown",
   "metadata": {},
   "source": [
    "**Вывод**"
   ]
  },
  {
   "cell_type": "markdown",
   "metadata": {},
   "source": [
    "В столбцах 'days_employed' и 'total_income' был заменен вещественный тип данных на целочисленный методом astype(). Выбор метода обусловлен изначальным типом данных столбцов. (метод to_nomeric() применяется для строковых значений и превращает значение столбца в значение типа float64, т.е. не применим к данной задаче).\n"
   ]
  },
  {
   "cell_type": "markdown",
   "metadata": {},
   "source": [
    "### Обработка дубликатов"
   ]
  },
  {
   "cell_type": "markdown",
   "metadata": {},
   "source": [
    "При первом ознакомлении с таблицей были сразу видны дубликаты с разным регистром в столбце 'education'. \n",
    "Поэтому приведу значения столбца 'education' к нижнему регистру методом lower(), а затем проверю на явные дубликаты:"
   ]
  },
  {
   "cell_type": "code",
   "execution_count": 12,
   "metadata": {
    "scrolled": true
   },
   "outputs": [
    {
     "name": "stdout",
     "output_type": "stream",
     "text": [
      "71\n"
     ]
    }
   ],
   "source": [
    "df['education'] = df['education'].str.lower()\n",
    "# подсчёт явных дубликатов\n",
    "print (df.duplicated().sum())\n"
   ]
  },
  {
   "cell_type": "code",
   "execution_count": 13,
   "metadata": {},
   "outputs": [
    {
     "name": "stdout",
     "output_type": "stream",
     "text": [
      "0\n"
     ]
    }
   ],
   "source": [
    "# удаление явных дубликатов (с удалением старых индексов и формированием новых)\n",
    "df = df.drop_duplicates().reset_index(drop=True)\n",
    "print (df.duplicated().sum())"
   ]
  },
  {
   "cell_type": "markdown",
   "metadata": {
    "scrolled": true
   },
   "source": [
    "Проверим нужные для исследования столбцы на неявные дубликаты и артефакты. \n",
    "Меня интересуют столбцы, которые понадобятся для проверки гипотез, а именно:\n",
    "- 'children' - наличие детей\n",
    "- 'family_status' - семейное положение\n",
    "- 'income_type' - тип занятости\n",
    "- 'purpose' - цели кредита \n"
   ]
  },
  {
   "cell_type": "code",
   "execution_count": 14,
   "metadata": {
    "scrolled": true
   },
   "outputs": [
    {
     "name": "stdout",
     "output_type": "stream",
     "text": [
      " 0     14091\n",
      " 1      4808\n",
      " 2      2052\n",
      " 3       330\n",
      " 20       76\n",
      "-1        47\n",
      " 4        41\n",
      " 5         9\n",
      "Name: children, dtype: int64\n"
     ]
    }
   ],
   "source": [
    "print(df['children'].value_counts()) # проверяю, какие значения встречаются и столбце и их колличество"
   ]
  },
  {
   "cell_type": "markdown",
   "metadata": {},
   "source": [
    "В столбце 'children' дубликатов нет, но найдены значения (20 и -1), которые не отражают действительность - артефакты. Возможная причина - выгрузка из разных систем. Возможно, что '-1' - это иная запись отсутсвия детей, а '20' - это опечатка. Так как данный столбец потребуется для проверки гипотезы о зависимости наличия детей и возврата кредита в срок - обработаю эти значения. Так как нет уверенности в истинном происхождении этих значений - заменю артефакты медианным значением по столбцу. Доля артефактных значений от общего числа слишком мала и в целом такое действие не повлияет на результат исследования, но сохранит среднее столбца."
   ]
  },
  {
   "cell_type": "code",
   "execution_count": 15,
   "metadata": {
    "scrolled": true
   },
   "outputs": [
    {
     "name": "stdout",
     "output_type": "stream",
     "text": [
      "0    14214\n",
      "1     4808\n",
      "2     2052\n",
      "3      330\n",
      "4       41\n",
      "5        9\n",
      "Name: children, dtype: int64\n"
     ]
    }
   ],
   "source": [
    "#заменяю медианным значением артефакты и проверяю \n",
    "df.loc[df['children'] == -1, 'children'] = df['children'].median() \n",
    "df.loc[df['children'] == 20, 'children'] = df['children'].median()\n",
    "\n",
    "df['children'] = df['children'].astype(int)\n",
    "\n",
    "print(df['children'].value_counts())\n",
    "         "
   ]
  },
  {
   "cell_type": "code",
   "execution_count": 16,
   "metadata": {
    "scrolled": false
   },
   "outputs": [
    {
     "name": "stdout",
     "output_type": "stream",
     "text": [
      "['женат / замужем' 'гражданский брак' 'вдовец / вдова' 'в разводе'\n",
      " 'Не женат / не замужем']\n"
     ]
    }
   ],
   "source": [
    "print(df['family_status'].unique()) # дубликатов нет"
   ]
  },
  {
   "cell_type": "code",
   "execution_count": 17,
   "metadata": {},
   "outputs": [
    {
     "name": "stdout",
     "output_type": "stream",
     "text": [
      "['сотрудник' 'пенсионер' 'компаньон' 'госслужащий' 'безработный'\n",
      " 'предприниматель' 'студент' 'в декрете']\n"
     ]
    }
   ],
   "source": [
    "print(df['income_type'].unique()) # дубликатов нет"
   ]
  },
  {
   "cell_type": "code",
   "execution_count": 18,
   "metadata": {
    "scrolled": true
   },
   "outputs": [
    {
     "name": "stdout",
     "output_type": "stream",
     "text": [
      "['автомобили', 'автомобиль', 'высшее образование', 'дополнительное образование', 'жилье', 'заняться высшим образованием', 'заняться образованием', 'на покупку автомобиля', 'на покупку подержанного автомобиля', 'на покупку своего автомобиля', 'на проведение свадьбы', 'недвижимость', 'образование', 'операции с жильем', 'операции с коммерческой недвижимостью', 'операции с недвижимостью', 'операции со своей недвижимостью', 'покупка жилой недвижимости', 'покупка жилья', 'покупка жилья для сдачи', 'покупка жилья для семьи', 'покупка коммерческой недвижимости', 'покупка недвижимости', 'покупка своего жилья', 'получение высшего образования', 'получение дополнительного образования', 'получение образования', 'приобретение автомобиля', 'профильное образование', 'ремонт жилью', 'свадьба', 'свой автомобиль', 'сделка с автомобилем', 'сделка с подержанным автомобилем', 'строительство жилой недвижимости', 'строительство недвижимости', 'строительство собственной недвижимости', 'сыграть свадьбу']\n"
     ]
    }
   ],
   "source": [
    "print(sorted(df['purpose'].unique())) # так как целей много - сразу отсортирую значения по алфавиту для наглядности"
   ]
  },
  {
   "cell_type": "markdown",
   "metadata": {},
   "source": [
    "В столбце 'purpose' много словесных дубликатов, потребуется лемматизация (приведение слова к его словесной форме) для выделения основных категорий целей получения кредита."
   ]
  },
  {
   "cell_type": "markdown",
   "metadata": {},
   "source": [
    "**Вывод**"
   ]
  },
  {
   "cell_type": "markdown",
   "metadata": {},
   "source": [
    "Наличие дубликатов в данных может привести к некорректным результатам, поэтому поиск и удаление дубликатов - очень важная часть исследования.\n",
    "Был проведен поиск и удаление явных дубликатов и проверка на неявные дубликаты столбцов, необходимых для дальнейшего исследования.\n",
    "В столбце 'children' были найдены  и обработаны артефакты.\n",
    "Выявлена необходимость лемматизации значений столбца 'purpose' для выделения основных категорий целей получения кредита.\n"
   ]
  },
  {
   "cell_type": "markdown",
   "metadata": {},
   "source": [
    "### Лемматизация"
   ]
  },
  {
   "cell_type": "markdown",
   "metadata": {},
   "source": [
    "При обработке дубликатов, было выявлена необходимость применение процесса лемматизации для столбца 'purpose' - цели получения кредита. Импортирую библиотеку PyMystem и проведу лемматизацию."
   ]
  },
  {
   "cell_type": "code",
   "execution_count": 33,
   "metadata": {
    "scrolled": false
   },
   "outputs": [
    {
     "name": "stdout",
     "output_type": "stream",
     "text": [
      "Counter({' ': 96, 'покупка': 10, 'недвижимость': 10, 'автомобиль': 9, 'образование': 9, 'жилье': 7, 'с': 5, 'операция': 4, 'на': 4, 'свой': 4, 'свадьба': 3, 'строительство': 3, 'получение': 3, 'высокий': 3, 'дополнительный': 2, 'для': 2, 'коммерческий': 2, 'жилой': 2, 'подержать': 2, 'заниматься': 2, 'сделка': 2, 'приобретение': 1, 'сыграть': 1, 'проведение': 1, 'семья': 1, 'собственный': 1, 'со': 1, 'профильный': 1, 'сдача': 1, 'ремонт': 1, '\\n': 1})\n"
     ]
    }
   ],
   "source": [
    "import pymystem3\n",
    "from pymystem3 import Mystem\n",
    "m = Mystem()\n",
    "\n",
    "#создаю список слов, сведенных к лемме\n",
    "purpose_str = df['purpose'].unique()\n",
    "lemmas = \" \".join(purpose_str)\n",
    "lemmas = m.lemmatize(lemmas)\n",
    "\n",
    "#посчитаю частоту появления слов\n",
    "from collections import Counter\n",
    "print(Counter(lemmas))\n",
    "\n"
   ]
  },
  {
   "cell_type": "code",
   "execution_count": 34,
   "metadata": {
    "scrolled": false
   },
   "outputs": [
    {
     "name": "stdout",
     "output_type": "stream",
     "text": [
      "Counter({' ': 55023, 'недвижимость': 6351, 'покупка': 5897, 'жилье': 4460, 'автомобиль': 4306, 'образование': 4013, 'с': 2918, 'операция': 2604, 'свадьба': 2324, 'свой': 2230, 'на': 2222, 'строительство': 1878, 'высокий': 1374, 'получение': 1314, 'коммерческий': 1311, 'для': 1289, 'жилой': 1230, 'сделка': 941, 'дополнительный': 906, 'заниматься': 904, 'подержать': 853, 'проведение': 768, 'сыграть': 765, 'сдача': 651, 'семья': 638, 'собственный': 635, 'со': 627, 'ремонт': 607, 'приобретение': 461, 'профильный': 436, 'подержанный': 111, '\\n': 1})\n"
     ]
    }
   ],
   "source": [
    "lemmas_purpose = \" \".join(df['purpose'])\n",
    "lemmas_purpose = m.lemmatize(lemmas_purpose)\n",
    "\n",
    "print(Counter(lemmas_purpose))"
   ]
  },
  {
   "cell_type": "markdown",
   "metadata": {},
   "source": [
    "Вручную выделю самые частые существительные для определения категорий и напишу функцию, которая будет последовательно лемматизировать каждую ячейку столбца 'purpose' и проверять,к какой из категорий онат относится."
   ]
  },
  {
   "cell_type": "code",
   "execution_count": 21,
   "metadata": {
    "scrolled": true
   },
   "outputs": [
    {
     "data": {
      "text/html": [
       "<div>\n",
       "<style scoped>\n",
       "    .dataframe tbody tr th:only-of-type {\n",
       "        vertical-align: middle;\n",
       "    }\n",
       "\n",
       "    .dataframe tbody tr th {\n",
       "        vertical-align: top;\n",
       "    }\n",
       "\n",
       "    .dataframe thead th {\n",
       "        text-align: right;\n",
       "    }\n",
       "</style>\n",
       "<table border=\"1\" class=\"dataframe\">\n",
       "  <thead>\n",
       "    <tr style=\"text-align: right;\">\n",
       "      <th></th>\n",
       "      <th>purpose</th>\n",
       "      <th>purpose_category</th>\n",
       "    </tr>\n",
       "  </thead>\n",
       "  <tbody>\n",
       "    <tr>\n",
       "      <td>0</td>\n",
       "      <td>покупка жилья</td>\n",
       "      <td>недвижимость</td>\n",
       "    </tr>\n",
       "    <tr>\n",
       "      <td>1</td>\n",
       "      <td>приобретение автомобиля</td>\n",
       "      <td>автомобиль</td>\n",
       "    </tr>\n",
       "    <tr>\n",
       "      <td>2</td>\n",
       "      <td>покупка жилья</td>\n",
       "      <td>недвижимость</td>\n",
       "    </tr>\n",
       "    <tr>\n",
       "      <td>3</td>\n",
       "      <td>дополнительное образование</td>\n",
       "      <td>образование</td>\n",
       "    </tr>\n",
       "    <tr>\n",
       "      <td>4</td>\n",
       "      <td>сыграть свадьбу</td>\n",
       "      <td>свадьба</td>\n",
       "    </tr>\n",
       "    <tr>\n",
       "      <td>...</td>\n",
       "      <td>...</td>\n",
       "      <td>...</td>\n",
       "    </tr>\n",
       "    <tr>\n",
       "      <td>21449</td>\n",
       "      <td>операции с жильем</td>\n",
       "      <td>недвижимость</td>\n",
       "    </tr>\n",
       "    <tr>\n",
       "      <td>21450</td>\n",
       "      <td>сделка с автомобилем</td>\n",
       "      <td>автомобиль</td>\n",
       "    </tr>\n",
       "    <tr>\n",
       "      <td>21451</td>\n",
       "      <td>недвижимость</td>\n",
       "      <td>недвижимость</td>\n",
       "    </tr>\n",
       "    <tr>\n",
       "      <td>21452</td>\n",
       "      <td>на покупку своего автомобиля</td>\n",
       "      <td>автомобиль</td>\n",
       "    </tr>\n",
       "    <tr>\n",
       "      <td>21453</td>\n",
       "      <td>на покупку автомобиля</td>\n",
       "      <td>автомобиль</td>\n",
       "    </tr>\n",
       "  </tbody>\n",
       "</table>\n",
       "<p>21454 rows × 2 columns</p>\n",
       "</div>"
      ],
      "text/plain": [
       "                            purpose purpose_category\n",
       "0                     покупка жилья     недвижимость\n",
       "1           приобретение автомобиля       автомобиль\n",
       "2                     покупка жилья     недвижимость\n",
       "3        дополнительное образование      образование\n",
       "4                   сыграть свадьбу          свадьба\n",
       "...                             ...              ...\n",
       "21449             операции с жильем     недвижимость\n",
       "21450          сделка с автомобилем       автомобиль\n",
       "21451                  недвижимость     недвижимость\n",
       "21452  на покупку своего автомобиля       автомобиль\n",
       "21453         на покупку автомобиля       автомобиль\n",
       "\n",
       "[21454 rows x 2 columns]"
      ]
     },
     "metadata": {},
     "output_type": "display_data"
    }
   ],
   "source": [
    "#функция для проверки каждой ячейки столбца 'purpose' и присвоения соответсвующей категории\n",
    "def categorize(purpose):\n",
    "    purpose_lemmas = m.lemmatize(purpose)\n",
    "    if 'недвижимость' in purpose_lemmas or 'жилье' in purpose_lemmas:\n",
    "        return 'недвижимость'\n",
    "    if 'автомобиль' in purpose_lemmas:\n",
    "        return 'автомобиль'\n",
    "    if 'образование' in purpose_lemmas:\n",
    "        return 'образование'\n",
    "    if 'свадьба' in purpose_lemmas:\n",
    "        return 'свадьба'\n",
    "    return  'иное'\n",
    "    \n",
    "#создаю новый столбец 'category' и с помощью метода apply применяю функцию categorize\n",
    "df['purpose_category'] = df['purpose'].apply(categorize)\n",
    "#вывожу результат в виде таблицы из нужных столбцов\n",
    "display(df.loc[:, ['purpose', 'purpose_category']])"
   ]
  },
  {
   "cell_type": "markdown",
   "metadata": {},
   "source": [
    "**Вывод**"
   ]
  },
  {
   "cell_type": "markdown",
   "metadata": {},
   "source": [
    "Для значений столбца 'purpose' были выделены леммы и определены основные категории целей получения кредита. \n",
    "Данный этап очень важен для дальнейшего исследования и ответа на вопрос о влиянии целей на возврат кредита в срок."
   ]
  },
  {
   "cell_type": "markdown",
   "metadata": {},
   "source": [
    "### Категоризация данных"
   ]
  },
  {
   "cell_type": "markdown",
   "metadata": {},
   "source": [
    "Проведу категоризацию данных - объединение избранных данных в произвольные группы по заданному параметру.\n",
    "\n",
    "Cделаю классификацию по типу для стобцов family_status и education: \n",
    "\n",
    "Создадам отдельные «словари», где названию категории будет соответствовать номер. И в будущих таблицах будет возможно обращаться уже не к строке, а к её числовому обозначению. Это полезно сделать для упрощения визуальной работы с таблицей и простоты фильтрации.\n",
    "В «словаре» возможны дубликаты. Для их удаления применю методы drop_duplicates() и reset_index().\n"
   ]
  },
  {
   "cell_type": "code",
   "execution_count": 22,
   "metadata": {
    "scrolled": true
   },
   "outputs": [
    {
     "data": {
      "text/html": [
       "<div>\n",
       "<style scoped>\n",
       "    .dataframe tbody tr th:only-of-type {\n",
       "        vertical-align: middle;\n",
       "    }\n",
       "\n",
       "    .dataframe tbody tr th {\n",
       "        vertical-align: top;\n",
       "    }\n",
       "\n",
       "    .dataframe thead th {\n",
       "        text-align: right;\n",
       "    }\n",
       "</style>\n",
       "<table border=\"1\" class=\"dataframe\">\n",
       "  <thead>\n",
       "    <tr style=\"text-align: right;\">\n",
       "      <th></th>\n",
       "      <th>family_status</th>\n",
       "      <th>family_status_id</th>\n",
       "    </tr>\n",
       "  </thead>\n",
       "  <tbody>\n",
       "    <tr>\n",
       "      <td>0</td>\n",
       "      <td>женат / замужем</td>\n",
       "      <td>0</td>\n",
       "    </tr>\n",
       "    <tr>\n",
       "      <td>1</td>\n",
       "      <td>гражданский брак</td>\n",
       "      <td>1</td>\n",
       "    </tr>\n",
       "    <tr>\n",
       "      <td>2</td>\n",
       "      <td>вдовец / вдова</td>\n",
       "      <td>2</td>\n",
       "    </tr>\n",
       "    <tr>\n",
       "      <td>3</td>\n",
       "      <td>в разводе</td>\n",
       "      <td>3</td>\n",
       "    </tr>\n",
       "    <tr>\n",
       "      <td>4</td>\n",
       "      <td>Не женат / не замужем</td>\n",
       "      <td>4</td>\n",
       "    </tr>\n",
       "  </tbody>\n",
       "</table>\n",
       "</div>"
      ],
      "text/plain": [
       "           family_status  family_status_id\n",
       "0        женат / замужем                 0\n",
       "1       гражданский брак                 1\n",
       "2         вдовец / вдова                 2\n",
       "3              в разводе                 3\n",
       "4  Не женат / не замужем                 4"
      ]
     },
     "metadata": {},
     "output_type": "display_data"
    }
   ],
   "source": [
    "family_status_category = df[['family_status','family_status_id']]\n",
    "family_status_category = family_status_category.drop_duplicates().reset_index(drop=True)\n",
    "display(family_status_category.sort_values('family_status_id',ascending=True))\n"
   ]
  },
  {
   "cell_type": "code",
   "execution_count": 23,
   "metadata": {
    "scrolled": false
   },
   "outputs": [
    {
     "data": {
      "text/html": [
       "<div>\n",
       "<style scoped>\n",
       "    .dataframe tbody tr th:only-of-type {\n",
       "        vertical-align: middle;\n",
       "    }\n",
       "\n",
       "    .dataframe tbody tr th {\n",
       "        vertical-align: top;\n",
       "    }\n",
       "\n",
       "    .dataframe thead th {\n",
       "        text-align: right;\n",
       "    }\n",
       "</style>\n",
       "<table border=\"1\" class=\"dataframe\">\n",
       "  <thead>\n",
       "    <tr style=\"text-align: right;\">\n",
       "      <th></th>\n",
       "      <th>education</th>\n",
       "      <th>education_id</th>\n",
       "    </tr>\n",
       "  </thead>\n",
       "  <tbody>\n",
       "    <tr>\n",
       "      <td>0</td>\n",
       "      <td>высшее</td>\n",
       "      <td>0</td>\n",
       "    </tr>\n",
       "    <tr>\n",
       "      <td>1</td>\n",
       "      <td>среднее</td>\n",
       "      <td>1</td>\n",
       "    </tr>\n",
       "    <tr>\n",
       "      <td>2</td>\n",
       "      <td>неоконченное высшее</td>\n",
       "      <td>2</td>\n",
       "    </tr>\n",
       "    <tr>\n",
       "      <td>3</td>\n",
       "      <td>начальное</td>\n",
       "      <td>3</td>\n",
       "    </tr>\n",
       "    <tr>\n",
       "      <td>4</td>\n",
       "      <td>ученая степень</td>\n",
       "      <td>4</td>\n",
       "    </tr>\n",
       "  </tbody>\n",
       "</table>\n",
       "</div>"
      ],
      "text/plain": [
       "             education  education_id\n",
       "0               высшее             0\n",
       "1              среднее             1\n",
       "2  неоконченное высшее             2\n",
       "3            начальное             3\n",
       "4       ученая степень             4"
      ]
     },
     "metadata": {},
     "output_type": "display_data"
    }
   ],
   "source": [
    "education_category = df[['education','education_id']]\n",
    "education_category = education_category.drop_duplicates().reset_index(drop=True)\n",
    "display(education_category.sort_values('education_id',ascending=True))"
   ]
  },
  {
   "cell_type": "markdown",
   "metadata": {},
   "source": [
    "Для категоризации по уровню дохода напишу функцию, которая оценивает размер ежемесячного дохода и присваивает категорию.\n",
    "Задам следующие параметры:\n",
    "\n",
    "    * низкий доход - доход ниже и равен половине медианы;\n",
    "    * высокий доход - больше или равен значению в 1.5 медианы;\n",
    "    * к среднему доходу отнесу все значения между."
   ]
  },
  {
   "cell_type": "code",
   "execution_count": 24,
   "metadata": {},
   "outputs": [
    {
     "name": "stdout",
     "output_type": "stream",
     "text": [
      "средний доход    15555\n",
      "высокий доход     4320\n",
      "низкий доход      1579\n",
      "Name: total_income_category, dtype: int64\n"
     ]
    }
   ],
   "source": [
    "# функция для оценки размера ежемесячного дохода и разделения по категориям\n",
    "def total_income_categorize(income):\n",
    "    \n",
    "    total_income_median = df['total_income'].median()\n",
    "    \n",
    "    if income <= total_income_median * 0.5:\n",
    "        return 'низкий доход'\n",
    "    if income >= total_income_median * 1.5:\n",
    "        return 'высокий доход'\n",
    "    return 'средний доход'\n",
    "\n",
    "\n",
    "#добавляю столбец, где хранятся результаты применения функции\n",
    "df['total_income_category'] = df['total_income'].apply(total_income_categorize)\n",
    "#вывожу статистику по каждой группе\n",
    "print(df['total_income_category'].value_counts())"
   ]
  },
  {
   "cell_type": "markdown",
   "metadata": {},
   "source": [
    "**Вывод**"
   ]
  },
  {
   "cell_type": "markdown",
   "metadata": {},
   "source": [
    "С помощью категоризации были исследованы значения категориальных столбцов, произведена проверка на дубликаты и их удаление. Выделены категории ежемесячного дохода. Эти категории будут необходимы для ответа на вопрос о зависимость между уровнем дохода и возвратом кредита в срок\n"
   ]
  },
  {
   "cell_type": "markdown",
   "metadata": {},
   "source": [
    "## Ответы на вопросы"
   ]
  },
  {
   "cell_type": "markdown",
   "metadata": {},
   "source": [
    "Для обобщения данных и их наглядного представления буду использовать сводные таблицы. С помощью них будет легче ответить на основные вопросы исследования.\n",
    "Сводные таблицы можно создавать двумя способами:\n",
    "- с помощью метода pivot_table()\n",
    "- с помощью цепочки методов groupby() и agg()\n",
    "\n",
    "На мой взгляд цепочка методов groupby() и agg() более лаконична и понятна в написании кода и выводимом результате. Поэтому буду использовать этот способ."
   ]
  },
  {
   "cell_type": "markdown",
   "metadata": {},
   "source": [
    "- Есть ли зависимость между наличием детей и возвратом кредита в срок?"
   ]
  },
  {
   "cell_type": "code",
   "execution_count": 25,
   "metadata": {
    "scrolled": true
   },
   "outputs": [
    {
     "data": {
      "text/html": [
       "<style  type=\"text/css\" >\n",
       "</style><table id=\"T_85b2605c_6576_11ec_889a_02420a392a20\" ><thead>    <tr>        <th class=\"blank level0\" ></th>        <th class=\"col_heading level0 col0\" >% невозврата</th>        <th class=\"col_heading level0 col1\" >кол-во заемщиков</th>        <th class=\"col_heading level0 col2\" >кол-во должников</th>    </tr>    <tr>        <th class=\"index_name level0\" >children</th>        <th class=\"blank\" ></th>        <th class=\"blank\" ></th>        <th class=\"blank\" ></th>    </tr></thead><tbody>\n",
       "                <tr>\n",
       "                        <th id=\"T_85b2605c_6576_11ec_889a_02420a392a20level0_row0\" class=\"row_heading level0 row0\" >4</th>\n",
       "                        <td id=\"T_85b2605c_6576_11ec_889a_02420a392a20row0_col0\" class=\"data row0 col0\" >9.76%</td>\n",
       "                        <td id=\"T_85b2605c_6576_11ec_889a_02420a392a20row0_col1\" class=\"data row0 col1\" >41</td>\n",
       "                        <td id=\"T_85b2605c_6576_11ec_889a_02420a392a20row0_col2\" class=\"data row0 col2\" >4</td>\n",
       "            </tr>\n",
       "            <tr>\n",
       "                        <th id=\"T_85b2605c_6576_11ec_889a_02420a392a20level0_row1\" class=\"row_heading level0 row1\" >2</th>\n",
       "                        <td id=\"T_85b2605c_6576_11ec_889a_02420a392a20row1_col0\" class=\"data row1 col0\" >9.45%</td>\n",
       "                        <td id=\"T_85b2605c_6576_11ec_889a_02420a392a20row1_col1\" class=\"data row1 col1\" >2052</td>\n",
       "                        <td id=\"T_85b2605c_6576_11ec_889a_02420a392a20row1_col2\" class=\"data row1 col2\" >194</td>\n",
       "            </tr>\n",
       "            <tr>\n",
       "                        <th id=\"T_85b2605c_6576_11ec_889a_02420a392a20level0_row2\" class=\"row_heading level0 row2\" >1</th>\n",
       "                        <td id=\"T_85b2605c_6576_11ec_889a_02420a392a20row2_col0\" class=\"data row2 col0\" >9.23%</td>\n",
       "                        <td id=\"T_85b2605c_6576_11ec_889a_02420a392a20row2_col1\" class=\"data row2 col1\" >4808</td>\n",
       "                        <td id=\"T_85b2605c_6576_11ec_889a_02420a392a20row2_col2\" class=\"data row2 col2\" >444</td>\n",
       "            </tr>\n",
       "            <tr>\n",
       "                        <th id=\"T_85b2605c_6576_11ec_889a_02420a392a20level0_row3\" class=\"row_heading level0 row3\" >3</th>\n",
       "                        <td id=\"T_85b2605c_6576_11ec_889a_02420a392a20row3_col0\" class=\"data row3 col0\" >8.18%</td>\n",
       "                        <td id=\"T_85b2605c_6576_11ec_889a_02420a392a20row3_col1\" class=\"data row3 col1\" >330</td>\n",
       "                        <td id=\"T_85b2605c_6576_11ec_889a_02420a392a20row3_col2\" class=\"data row3 col2\" >27</td>\n",
       "            </tr>\n",
       "            <tr>\n",
       "                        <th id=\"T_85b2605c_6576_11ec_889a_02420a392a20level0_row4\" class=\"row_heading level0 row4\" >0</th>\n",
       "                        <td id=\"T_85b2605c_6576_11ec_889a_02420a392a20row4_col0\" class=\"data row4 col0\" >7.54%</td>\n",
       "                        <td id=\"T_85b2605c_6576_11ec_889a_02420a392a20row4_col1\" class=\"data row4 col1\" >14214</td>\n",
       "                        <td id=\"T_85b2605c_6576_11ec_889a_02420a392a20row4_col2\" class=\"data row4 col2\" >1072</td>\n",
       "            </tr>\n",
       "            <tr>\n",
       "                        <th id=\"T_85b2605c_6576_11ec_889a_02420a392a20level0_row5\" class=\"row_heading level0 row5\" >5</th>\n",
       "                        <td id=\"T_85b2605c_6576_11ec_889a_02420a392a20row5_col0\" class=\"data row5 col0\" >0.00%</td>\n",
       "                        <td id=\"T_85b2605c_6576_11ec_889a_02420a392a20row5_col1\" class=\"data row5 col1\" >9</td>\n",
       "                        <td id=\"T_85b2605c_6576_11ec_889a_02420a392a20row5_col2\" class=\"data row5 col2\" >0</td>\n",
       "            </tr>\n",
       "    </tbody></table>"
      ],
      "text/plain": [
       "<pandas.io.formats.style.Styler at 0x7fdc41826bd0>"
      ]
     },
     "execution_count": 25,
     "metadata": {},
     "output_type": "execute_result"
    }
   ],
   "source": [
    "report_children = df.groupby('children').agg({'debt': ['mean', 'count', 'sum']})\n",
    "report_children.columns = ['% невозврата', 'кол-во заемщиков', 'кол-во должников']\n",
    "report_children = report_children.sort_values(by = '% невозврата', ascending = False)\n",
    "report_children.style.format({'% невозврата' : '{:.2%}'})\n"
   ]
  },
  {
   "cell_type": "markdown",
   "metadata": {},
   "source": [
    "**Вывод**"
   ]
  },
  {
   "cell_type": "markdown",
   "metadata": {},
   "source": [
    "Процент невозврата кредита у заемщиков без детей ниже чем у заемщиков с детьми, причем зависимости процента невозврата от количество детей не наблюдается.\n",
    "Можно сделать вывод, наличие детей влияет на факт возврата кредита в срок. Люди с детьми имеют задолженности по кредитам чаще. Это может быть связанно с тем, что люди с детьми имеют больше необходимых статей расходов и чаще сталкиваются с дополнительными расходами."
   ]
  },
  {
   "cell_type": "markdown",
   "metadata": {},
   "source": [
    "- Есть ли зависимость между семейным положением и возвратом кредита в срок?"
   ]
  },
  {
   "cell_type": "code",
   "execution_count": 26,
   "metadata": {},
   "outputs": [
    {
     "data": {
      "text/html": [
       "<style  type=\"text/css\" >\n",
       "</style><table id=\"T_85b841c0_6576_11ec_889a_02420a392a20\" ><thead>    <tr>        <th class=\"blank level0\" ></th>        <th class=\"col_heading level0 col0\" >% невозврата</th>        <th class=\"col_heading level0 col1\" >кол-во заемщиков</th>        <th class=\"col_heading level0 col2\" >кол-во должников</th>    </tr>    <tr>        <th class=\"index_name level0\" >family_status</th>        <th class=\"blank\" ></th>        <th class=\"blank\" ></th>        <th class=\"blank\" ></th>    </tr></thead><tbody>\n",
       "                <tr>\n",
       "                        <th id=\"T_85b841c0_6576_11ec_889a_02420a392a20level0_row0\" class=\"row_heading level0 row0\" >Не женат / не замужем</th>\n",
       "                        <td id=\"T_85b841c0_6576_11ec_889a_02420a392a20row0_col0\" class=\"data row0 col0\" >9.75%</td>\n",
       "                        <td id=\"T_85b841c0_6576_11ec_889a_02420a392a20row0_col1\" class=\"data row0 col1\" >2810</td>\n",
       "                        <td id=\"T_85b841c0_6576_11ec_889a_02420a392a20row0_col2\" class=\"data row0 col2\" >274</td>\n",
       "            </tr>\n",
       "            <tr>\n",
       "                        <th id=\"T_85b841c0_6576_11ec_889a_02420a392a20level0_row1\" class=\"row_heading level0 row1\" >гражданский брак</th>\n",
       "                        <td id=\"T_85b841c0_6576_11ec_889a_02420a392a20row1_col0\" class=\"data row1 col0\" >9.35%</td>\n",
       "                        <td id=\"T_85b841c0_6576_11ec_889a_02420a392a20row1_col1\" class=\"data row1 col1\" >4151</td>\n",
       "                        <td id=\"T_85b841c0_6576_11ec_889a_02420a392a20row1_col2\" class=\"data row1 col2\" >388</td>\n",
       "            </tr>\n",
       "            <tr>\n",
       "                        <th id=\"T_85b841c0_6576_11ec_889a_02420a392a20level0_row2\" class=\"row_heading level0 row2\" >женат / замужем</th>\n",
       "                        <td id=\"T_85b841c0_6576_11ec_889a_02420a392a20row2_col0\" class=\"data row2 col0\" >7.55%</td>\n",
       "                        <td id=\"T_85b841c0_6576_11ec_889a_02420a392a20row2_col1\" class=\"data row2 col1\" >12339</td>\n",
       "                        <td id=\"T_85b841c0_6576_11ec_889a_02420a392a20row2_col2\" class=\"data row2 col2\" >931</td>\n",
       "            </tr>\n",
       "            <tr>\n",
       "                        <th id=\"T_85b841c0_6576_11ec_889a_02420a392a20level0_row3\" class=\"row_heading level0 row3\" >в разводе</th>\n",
       "                        <td id=\"T_85b841c0_6576_11ec_889a_02420a392a20row3_col0\" class=\"data row3 col0\" >7.11%</td>\n",
       "                        <td id=\"T_85b841c0_6576_11ec_889a_02420a392a20row3_col1\" class=\"data row3 col1\" >1195</td>\n",
       "                        <td id=\"T_85b841c0_6576_11ec_889a_02420a392a20row3_col2\" class=\"data row3 col2\" >85</td>\n",
       "            </tr>\n",
       "            <tr>\n",
       "                        <th id=\"T_85b841c0_6576_11ec_889a_02420a392a20level0_row4\" class=\"row_heading level0 row4\" >вдовец / вдова</th>\n",
       "                        <td id=\"T_85b841c0_6576_11ec_889a_02420a392a20row4_col0\" class=\"data row4 col0\" >6.57%</td>\n",
       "                        <td id=\"T_85b841c0_6576_11ec_889a_02420a392a20row4_col1\" class=\"data row4 col1\" >959</td>\n",
       "                        <td id=\"T_85b841c0_6576_11ec_889a_02420a392a20row4_col2\" class=\"data row4 col2\" >63</td>\n",
       "            </tr>\n",
       "    </tbody></table>"
      ],
      "text/plain": [
       "<pandas.io.formats.style.Styler at 0x7fdc41551890>"
      ]
     },
     "execution_count": 26,
     "metadata": {},
     "output_type": "execute_result"
    }
   ],
   "source": [
    "report_family_status = df.groupby('family_status').agg({'debt': ['mean', 'count', 'sum']})\n",
    "report_family_status.columns = ['% невозврата', 'кол-во заемщиков', 'кол-во должников']\n",
    "report_family_status = report_family_status.sort_values(by = '% невозврата', ascending = False)\n",
    "report_family_status.style.format({'% невозврата' : '{:.2%}'})"
   ]
  },
  {
   "cell_type": "markdown",
   "metadata": {},
   "source": [
    " **Вывод**"
   ]
  },
  {
   "cell_type": "markdown",
   "metadata": {},
   "source": [
    "Наибольший процент невозврата по кредитам имеют 'неженатые' и находящиеся в 'гражданском браке'. Заемщики из категорий 'женат / замужем','в разводе', 'вдовец / вдова' являются более надежными. Возможно это связанно с более взвешенным подходом к долговым обязательствам и планированием бюджета."
   ]
  },
  {
   "cell_type": "markdown",
   "metadata": {},
   "source": [
    "- Есть ли зависимость между уровнем дохода и возвратом кредита в срок?"
   ]
  },
  {
   "cell_type": "code",
   "execution_count": 27,
   "metadata": {
    "scrolled": false
   },
   "outputs": [
    {
     "data": {
      "text/html": [
       "<style  type=\"text/css\" >\n",
       "</style><table id=\"T_85bb6422_6576_11ec_889a_02420a392a20\" ><thead>    <tr>        <th class=\"blank level0\" ></th>        <th class=\"col_heading level0 col0\" >% невозврата</th>        <th class=\"col_heading level0 col1\" >кол-во заемщиков</th>        <th class=\"col_heading level0 col2\" >кол-во должников</th>    </tr>    <tr>        <th class=\"index_name level0\" >total_income_category</th>        <th class=\"blank\" ></th>        <th class=\"blank\" ></th>        <th class=\"blank\" ></th>    </tr></thead><tbody>\n",
       "                <tr>\n",
       "                        <th id=\"T_85bb6422_6576_11ec_889a_02420a392a20level0_row0\" class=\"row_heading level0 row0\" >средний доход</th>\n",
       "                        <td id=\"T_85bb6422_6576_11ec_889a_02420a392a20row0_col0\" class=\"data row0 col0\" >8.54%</td>\n",
       "                        <td id=\"T_85bb6422_6576_11ec_889a_02420a392a20row0_col1\" class=\"data row0 col1\" >15555</td>\n",
       "                        <td id=\"T_85bb6422_6576_11ec_889a_02420a392a20row0_col2\" class=\"data row0 col2\" >1328</td>\n",
       "            </tr>\n",
       "            <tr>\n",
       "                        <th id=\"T_85bb6422_6576_11ec_889a_02420a392a20level0_row1\" class=\"row_heading level0 row1\" >высокий доход</th>\n",
       "                        <td id=\"T_85bb6422_6576_11ec_889a_02420a392a20row1_col0\" class=\"data row1 col0\" >7.04%</td>\n",
       "                        <td id=\"T_85bb6422_6576_11ec_889a_02420a392a20row1_col1\" class=\"data row1 col1\" >4320</td>\n",
       "                        <td id=\"T_85bb6422_6576_11ec_889a_02420a392a20row1_col2\" class=\"data row1 col2\" >304</td>\n",
       "            </tr>\n",
       "            <tr>\n",
       "                        <th id=\"T_85bb6422_6576_11ec_889a_02420a392a20level0_row2\" class=\"row_heading level0 row2\" >низкий доход</th>\n",
       "                        <td id=\"T_85bb6422_6576_11ec_889a_02420a392a20row2_col0\" class=\"data row2 col0\" >6.90%</td>\n",
       "                        <td id=\"T_85bb6422_6576_11ec_889a_02420a392a20row2_col1\" class=\"data row2 col1\" >1579</td>\n",
       "                        <td id=\"T_85bb6422_6576_11ec_889a_02420a392a20row2_col2\" class=\"data row2 col2\" >109</td>\n",
       "            </tr>\n",
       "    </tbody></table>"
      ],
      "text/plain": [
       "<pandas.io.formats.style.Styler at 0x7fdc3e523a10>"
      ]
     },
     "execution_count": 27,
     "metadata": {},
     "output_type": "execute_result"
    }
   ],
   "source": [
    "report_income = df.groupby('total_income_category').agg({'debt': ['mean', 'count', 'sum']})\n",
    "report_income.columns = ['% невозврата', 'кол-во заемщиков', 'кол-во должников' ]\n",
    "report_income = report_income.sort_values(by = '% невозврата', ascending = False)\n",
    "report_income.style.format({'% невозврата' : '{:.2%}'})"
   ]
  },
  {
   "cell_type": "markdown",
   "metadata": {},
   "source": [
    "**Вывод**"
   ]
  },
  {
   "cell_type": "markdown",
   "metadata": {},
   "source": [
    "Процент невозврата по категории 'средний доход' самый высокий, но это и самая многочисленная категория. Можно сделать вывод, что заемщики с высоким доходом реже имеют задолженности по кредитам. Низкий процент невозврата у заемщиков с доходом меньше среднего может быть связан с тем, что им в целом реже дают кредиты и они проходят более строгий отбор при кридитовании."
   ]
  },
  {
   "cell_type": "markdown",
   "metadata": {},
   "source": [
    "- Как разные цели кредита влияют на его возврат в срок?"
   ]
  },
  {
   "cell_type": "code",
   "execution_count": 28,
   "metadata": {
    "scrolled": true
   },
   "outputs": [
    {
     "data": {
      "text/html": [
       "<style  type=\"text/css\" >\n",
       "</style><table id=\"T_85be91f6_6576_11ec_889a_02420a392a20\" ><thead>    <tr>        <th class=\"blank level0\" ></th>        <th class=\"col_heading level0 col0\" >% невозврата</th>        <th class=\"col_heading level0 col1\" >кол-во заемщиков</th>        <th class=\"col_heading level0 col2\" >кол-во должников</th>    </tr>    <tr>        <th class=\"index_name level0\" >purpose_category</th>        <th class=\"blank\" ></th>        <th class=\"blank\" ></th>        <th class=\"blank\" ></th>    </tr></thead><tbody>\n",
       "                <tr>\n",
       "                        <th id=\"T_85be91f6_6576_11ec_889a_02420a392a20level0_row0\" class=\"row_heading level0 row0\" >автомобиль</th>\n",
       "                        <td id=\"T_85be91f6_6576_11ec_889a_02420a392a20row0_col0\" class=\"data row0 col0\" >9.36%</td>\n",
       "                        <td id=\"T_85be91f6_6576_11ec_889a_02420a392a20row0_col1\" class=\"data row0 col1\" >4306</td>\n",
       "                        <td id=\"T_85be91f6_6576_11ec_889a_02420a392a20row0_col2\" class=\"data row0 col2\" >403</td>\n",
       "            </tr>\n",
       "            <tr>\n",
       "                        <th id=\"T_85be91f6_6576_11ec_889a_02420a392a20level0_row1\" class=\"row_heading level0 row1\" >образование</th>\n",
       "                        <td id=\"T_85be91f6_6576_11ec_889a_02420a392a20row1_col0\" class=\"data row1 col0\" >9.22%</td>\n",
       "                        <td id=\"T_85be91f6_6576_11ec_889a_02420a392a20row1_col1\" class=\"data row1 col1\" >4013</td>\n",
       "                        <td id=\"T_85be91f6_6576_11ec_889a_02420a392a20row1_col2\" class=\"data row1 col2\" >370</td>\n",
       "            </tr>\n",
       "            <tr>\n",
       "                        <th id=\"T_85be91f6_6576_11ec_889a_02420a392a20level0_row2\" class=\"row_heading level0 row2\" >свадьба</th>\n",
       "                        <td id=\"T_85be91f6_6576_11ec_889a_02420a392a20row2_col0\" class=\"data row2 col0\" >8.00%</td>\n",
       "                        <td id=\"T_85be91f6_6576_11ec_889a_02420a392a20row2_col1\" class=\"data row2 col1\" >2324</td>\n",
       "                        <td id=\"T_85be91f6_6576_11ec_889a_02420a392a20row2_col2\" class=\"data row2 col2\" >186</td>\n",
       "            </tr>\n",
       "            <tr>\n",
       "                        <th id=\"T_85be91f6_6576_11ec_889a_02420a392a20level0_row3\" class=\"row_heading level0 row3\" >недвижимость</th>\n",
       "                        <td id=\"T_85be91f6_6576_11ec_889a_02420a392a20row3_col0\" class=\"data row3 col0\" >7.23%</td>\n",
       "                        <td id=\"T_85be91f6_6576_11ec_889a_02420a392a20row3_col1\" class=\"data row3 col1\" >10811</td>\n",
       "                        <td id=\"T_85be91f6_6576_11ec_889a_02420a392a20row3_col2\" class=\"data row3 col2\" >782</td>\n",
       "            </tr>\n",
       "    </tbody></table>"
      ],
      "text/plain": [
       "<pandas.io.formats.style.Styler at 0x7fdc3e523190>"
      ]
     },
     "execution_count": 28,
     "metadata": {},
     "output_type": "execute_result"
    }
   ],
   "source": [
    "report_purpose= df.groupby('purpose_category').agg({'debt': ['mean', 'count', 'sum']})\n",
    "report_purpose.columns = ['% невозврата', 'кол-во заемщиков', 'кол-во должников' ]\n",
    "report_purpose = report_purpose.sort_values(by = '% невозврата', ascending = False)\n",
    "report_purpose.style.format({'% невозврата' : '{:.2%}'})"
   ]
  },
  {
   "cell_type": "markdown",
   "metadata": {},
   "source": [
    "**Вывод**"
   ]
  },
  {
   "cell_type": "markdown",
   "metadata": {},
   "source": [
    "Самый высокий процент невозврата у автокредита и кредита на образование. Самый низкий у кредита на недвижимость. Это может быть связано с условиями займа. Люди чаще бояться потерять находящуюся в залоге банка недвижимость, чем нарушить иные долговые обязательства."
   ]
  },
  {
   "cell_type": "markdown",
   "metadata": {},
   "source": [
    "## Шаг 4. Общий вывод"
   ]
  },
  {
   "cell_type": "markdown",
   "metadata": {},
   "source": [
    "Данное исследование было подготовлено для кредитного отдела банка с целью определения влияния семейного положения и количества детей на факт возврата кредита в срок и дальнейшего построения модели кредитного скоринга.\n",
    "Были сделаны следующие выводы:\n",
    "\n",
    "1. Наличие детей увеличивает вероятность невозврата кредита. При этом явной завсимости от количества детей не выявлено. Люди с детьми имеют больше необходимых статей расходов и чаще сталкиваются с дополнительными расходами, поэтому имеют задолженности чаще.\n",
    "\n",
    "2. Наибольший процент невозврата по кредитам имеют 'неженатые' и находящиеся в 'гражданском браке'. Заемщики из категорий 'женат / замужем','в разводе', 'вдовец / вдова' являются более надежными. Возможно это связанно с более взвешенным подходом к долговым обязательствам и планированием бюджета.\n",
    "Но нужно заметить, что возможно выделение категории 'молодая семья' повлияло бы на результат, так как в такой категории дети появляются чаще и появление новых статей расходов может повлиять на увеличение процента невозврата кредита.\n",
    "\n",
    "Также была провена зависимость уровня дохода на возврат кредита и влияние целей кредита на его возврат.\n",
    "\n",
    "Заемщики с высоким доходом реже имеют задолженности по кредитам. Заемщики с низким доходом проходят более строгий отбор при выдаче кредита и поэтому процент невозврата по этой категории низкий.\n",
    "\n",
    "Самый высокий процент невозврата у автокредита и кредита на образование. Самый низкий у кредита на недвижимость. Это может быть связано с условиями займа. Люди чаще бояться потерять находящуюся в залоге банка недвижимость, чем нарушить иные долговые обязательства.\n",
    "\n",
    "\n",
    "\n",
    " "
   ]
  }
 ],
 "metadata": {
  "ExecuteTimeLog": [
   {
    "duration": 1171,
    "start_time": "2021-12-20T19:38:38.789Z"
   },
   {
    "duration": 109,
    "start_time": "2021-12-20T19:38:54.122Z"
   },
   {
    "duration": 150,
    "start_time": "2021-12-20T19:39:08.944Z"
   },
   {
    "duration": 22,
    "start_time": "2021-12-20T20:22:34.623Z"
   },
   {
    "duration": 834,
    "start_time": "2021-12-21T11:25:34.470Z"
   },
   {
    "duration": 79,
    "start_time": "2021-12-21T11:27:34.333Z"
   },
   {
    "duration": 89,
    "start_time": "2021-12-21T11:28:34.652Z"
   },
   {
    "duration": 3,
    "start_time": "2021-12-21T12:07:58.781Z"
   },
   {
    "duration": 12,
    "start_time": "2021-12-21T12:12:32.171Z"
   },
   {
    "duration": 13,
    "start_time": "2021-12-21T12:32:12.237Z"
   },
   {
    "duration": 510,
    "start_time": "2021-12-21T19:20:48.013Z"
   },
   {
    "duration": 1733,
    "start_time": "2021-12-21T19:21:06.092Z"
   },
   {
    "duration": 516,
    "start_time": "2021-12-21T19:21:15.031Z"
   },
   {
    "duration": 119,
    "start_time": "2021-12-21T19:21:58.895Z"
   },
   {
    "duration": 736,
    "start_time": "2021-12-21T19:22:07.432Z"
   },
   {
    "duration": 480,
    "start_time": "2021-12-21T19:59:57.405Z"
   },
   {
    "duration": 338,
    "start_time": "2021-12-21T20:00:10.277Z"
   },
   {
    "duration": 4268,
    "start_time": "2021-12-21T20:12:11.436Z"
   },
   {
    "duration": 15,
    "start_time": "2021-12-21T20:19:42.519Z"
   },
   {
    "duration": 12,
    "start_time": "2021-12-21T20:19:52.498Z"
   },
   {
    "duration": 17,
    "start_time": "2021-12-21T20:20:14.537Z"
   },
   {
    "duration": 393,
    "start_time": "2021-12-21T20:21:08.690Z"
   },
   {
    "duration": 15,
    "start_time": "2021-12-21T20:21:26.720Z"
   },
   {
    "duration": 331,
    "start_time": "2021-12-21T20:26:30.452Z"
   },
   {
    "duration": 525,
    "start_time": "2021-12-21T20:26:54.256Z"
   },
   {
    "duration": 339,
    "start_time": "2021-12-21T20:27:10.768Z"
   },
   {
    "duration": 13,
    "start_time": "2021-12-21T20:27:40.524Z"
   },
   {
    "duration": 19,
    "start_time": "2021-12-21T20:27:48.272Z"
   },
   {
    "duration": 12,
    "start_time": "2021-12-21T20:28:21.755Z"
   },
   {
    "duration": 14,
    "start_time": "2021-12-21T20:28:31.288Z"
   },
   {
    "duration": 421,
    "start_time": "2021-12-21T20:29:09.346Z"
   },
   {
    "duration": 15,
    "start_time": "2021-12-21T20:29:17.122Z"
   },
   {
    "duration": 12,
    "start_time": "2021-12-21T20:29:41.544Z"
   },
   {
    "duration": 3,
    "start_time": "2021-12-21T20:30:15.158Z"
   },
   {
    "duration": 11,
    "start_time": "2021-12-21T20:30:23.161Z"
   },
   {
    "duration": 465,
    "start_time": "2021-12-21T20:32:06.155Z"
   },
   {
    "duration": 20,
    "start_time": "2021-12-21T20:32:11.067Z"
   },
   {
    "duration": 12,
    "start_time": "2021-12-21T20:34:20.649Z"
   },
   {
    "duration": 18,
    "start_time": "2021-12-21T20:38:25.357Z"
   },
   {
    "duration": 15,
    "start_time": "2021-12-21T20:39:00.541Z"
   },
   {
    "duration": 378,
    "start_time": "2021-12-21T20:41:28.212Z"
   },
   {
    "duration": 1610,
    "start_time": "2021-12-21T20:52:47.834Z"
   },
   {
    "duration": 181,
    "start_time": "2021-12-21T20:52:49.447Z"
   },
   {
    "duration": -27,
    "start_time": "2021-12-21T20:52:49.658Z"
   },
   {
    "duration": -34,
    "start_time": "2021-12-21T20:52:49.667Z"
   },
   {
    "duration": -40,
    "start_time": "2021-12-21T20:52:49.674Z"
   },
   {
    "duration": -46,
    "start_time": "2021-12-21T20:52:49.682Z"
   },
   {
    "duration": -56,
    "start_time": "2021-12-21T20:52:49.693Z"
   },
   {
    "duration": 13,
    "start_time": "2021-12-21T20:53:12.048Z"
   },
   {
    "duration": 13,
    "start_time": "2021-12-21T20:53:15.038Z"
   },
   {
    "duration": 335,
    "start_time": "2021-12-21T20:53:26.646Z"
   },
   {
    "duration": 16,
    "start_time": "2021-12-21T21:02:56.371Z"
   },
   {
    "duration": 16,
    "start_time": "2021-12-21T21:17:32.825Z"
   },
   {
    "duration": 12,
    "start_time": "2021-12-21T21:17:49.744Z"
   },
   {
    "duration": 286,
    "start_time": "2021-12-21T21:18:18.421Z"
   },
   {
    "duration": 13,
    "start_time": "2021-12-21T21:22:37.759Z"
   },
   {
    "duration": 85,
    "start_time": "2021-12-21T21:36:04.510Z"
   },
   {
    "duration": 288,
    "start_time": "2021-12-21T21:36:32.324Z"
   },
   {
    "duration": 291,
    "start_time": "2021-12-21T21:53:56.563Z"
   },
   {
    "duration": 11,
    "start_time": "2021-12-21T21:54:17.308Z"
   },
   {
    "duration": 367,
    "start_time": "2021-12-22T07:58:29.218Z"
   },
   {
    "duration": 1585,
    "start_time": "2021-12-22T07:58:59.880Z"
   },
   {
    "duration": 101,
    "start_time": "2021-12-22T07:59:01.467Z"
   },
   {
    "duration": -70,
    "start_time": "2021-12-22T07:59:01.641Z"
   },
   {
    "duration": -72,
    "start_time": "2021-12-22T07:59:01.644Z"
   },
   {
    "duration": -87,
    "start_time": "2021-12-22T07:59:01.660Z"
   },
   {
    "duration": -92,
    "start_time": "2021-12-22T07:59:01.667Z"
   },
   {
    "duration": -100,
    "start_time": "2021-12-22T07:59:01.676Z"
   },
   {
    "duration": -107,
    "start_time": "2021-12-22T07:59:01.685Z"
   },
   {
    "duration": -109,
    "start_time": "2021-12-22T07:59:01.688Z"
   },
   {
    "duration": 128,
    "start_time": "2021-12-22T07:59:19.282Z"
   },
   {
    "duration": 83,
    "start_time": "2021-12-22T07:59:24.216Z"
   },
   {
    "duration": 14,
    "start_time": "2021-12-22T07:59:37.181Z"
   },
   {
    "duration": 12,
    "start_time": "2021-12-22T07:59:40.275Z"
   },
   {
    "duration": 308,
    "start_time": "2021-12-22T07:59:44.489Z"
   },
   {
    "duration": 16,
    "start_time": "2021-12-22T07:59:49.732Z"
   },
   {
    "duration": 15,
    "start_time": "2021-12-22T07:59:51.842Z"
   },
   {
    "duration": 21,
    "start_time": "2021-12-22T07:59:56.718Z"
   },
   {
    "duration": 33,
    "start_time": "2021-12-22T08:02:34.869Z"
   },
   {
    "duration": 75,
    "start_time": "2021-12-22T08:03:13.277Z"
   },
   {
    "duration": 31,
    "start_time": "2021-12-22T08:04:43.479Z"
   },
   {
    "duration": 90,
    "start_time": "2021-12-22T08:27:26.410Z"
   },
   {
    "duration": 463,
    "start_time": "2021-12-22T08:28:12.634Z"
   },
   {
    "duration": 270,
    "start_time": "2021-12-22T08:29:34.845Z"
   },
   {
    "duration": 63,
    "start_time": "2021-12-22T08:29:51.277Z"
   },
   {
    "duration": 63,
    "start_time": "2021-12-22T08:32:38.503Z"
   },
   {
    "duration": 65,
    "start_time": "2021-12-22T08:35:48.021Z"
   },
   {
    "duration": 64,
    "start_time": "2021-12-22T08:36:29.960Z"
   },
   {
    "duration": 62,
    "start_time": "2021-12-22T08:37:06.225Z"
   },
   {
    "duration": 1618,
    "start_time": "2021-12-22T08:37:20.538Z"
   },
   {
    "duration": 15,
    "start_time": "2021-12-22T08:37:22.160Z"
   },
   {
    "duration": 13,
    "start_time": "2021-12-22T08:37:22.179Z"
   },
   {
    "duration": 342,
    "start_time": "2021-12-22T08:37:22.195Z"
   },
   {
    "duration": 13,
    "start_time": "2021-12-22T08:37:22.540Z"
   },
   {
    "duration": 15,
    "start_time": "2021-12-22T08:37:22.568Z"
   },
   {
    "duration": 39,
    "start_time": "2021-12-22T08:37:22.586Z"
   },
   {
    "duration": 99,
    "start_time": "2021-12-22T08:37:22.629Z"
   },
   {
    "duration": 83,
    "start_time": "2021-12-22T08:37:22.731Z"
   },
   {
    "duration": 94,
    "start_time": "2021-12-22T08:37:25.640Z"
   },
   {
    "duration": 12,
    "start_time": "2021-12-22T08:37:35.035Z"
   },
   {
    "duration": 11,
    "start_time": "2021-12-22T08:37:37.296Z"
   },
   {
    "duration": 418,
    "start_time": "2021-12-22T08:37:41.908Z"
   },
   {
    "duration": 10,
    "start_time": "2021-12-22T08:37:46.080Z"
   },
   {
    "duration": 12,
    "start_time": "2021-12-22T08:37:48.569Z"
   },
   {
    "duration": 36,
    "start_time": "2021-12-22T08:37:56.633Z"
   },
   {
    "duration": 66,
    "start_time": "2021-12-22T08:38:05.348Z"
   },
   {
    "duration": 451,
    "start_time": "2021-12-22T09:21:20.003Z"
   },
   {
    "duration": 425,
    "start_time": "2021-12-22T09:21:31.700Z"
   },
   {
    "duration": 84,
    "start_time": "2021-12-22T09:22:07.530Z"
   },
   {
    "duration": 1708,
    "start_time": "2021-12-22T09:24:05.968Z"
   },
   {
    "duration": 18,
    "start_time": "2021-12-22T09:24:07.680Z"
   },
   {
    "duration": 16,
    "start_time": "2021-12-22T09:24:07.704Z"
   },
   {
    "duration": 392,
    "start_time": "2021-12-22T09:24:07.723Z"
   },
   {
    "duration": 14,
    "start_time": "2021-12-22T09:24:08.118Z"
   },
   {
    "duration": 33,
    "start_time": "2021-12-22T09:24:08.134Z"
   },
   {
    "duration": 41,
    "start_time": "2021-12-22T09:24:08.176Z"
   },
   {
    "duration": 107,
    "start_time": "2021-12-22T09:24:08.220Z"
   },
   {
    "duration": 85,
    "start_time": "2021-12-22T09:24:08.329Z"
   },
   {
    "duration": 104,
    "start_time": "2021-12-22T09:24:08.417Z"
   },
   {
    "duration": -40,
    "start_time": "2021-12-22T09:24:08.564Z"
   },
   {
    "duration": 119,
    "start_time": "2021-12-22T09:24:15.812Z"
   },
   {
    "duration": 23,
    "start_time": "2021-12-22T09:24:23.261Z"
   },
   {
    "duration": 16,
    "start_time": "2021-12-22T09:24:25.065Z"
   },
   {
    "duration": 371,
    "start_time": "2021-12-22T09:24:28.181Z"
   },
   {
    "duration": 13,
    "start_time": "2021-12-22T09:24:31.660Z"
   },
   {
    "duration": 19,
    "start_time": "2021-12-22T09:24:33.180Z"
   },
   {
    "duration": 45,
    "start_time": "2021-12-22T09:24:37.032Z"
   },
   {
    "duration": 65,
    "start_time": "2021-12-22T09:24:40.584Z"
   },
   {
    "duration": 82,
    "start_time": "2021-12-22T09:24:42.628Z"
   },
   {
    "duration": 18,
    "start_time": "2021-12-22T09:24:56.133Z"
   },
   {
    "duration": 24,
    "start_time": "2021-12-22T10:19:21.920Z"
   },
   {
    "duration": 395,
    "start_time": "2021-12-22T10:23:51.803Z"
   },
   {
    "duration": 284,
    "start_time": "2021-12-22T10:24:26.815Z"
   },
   {
    "duration": 272,
    "start_time": "2021-12-22T10:41:55.890Z"
   },
   {
    "duration": 125,
    "start_time": "2021-12-22T11:10:58.405Z"
   },
   {
    "duration": 1603,
    "start_time": "2021-12-22T11:11:43.199Z"
   },
   {
    "duration": 12,
    "start_time": "2021-12-22T11:11:44.805Z"
   },
   {
    "duration": 17,
    "start_time": "2021-12-22T11:11:44.820Z"
   },
   {
    "duration": 357,
    "start_time": "2021-12-22T11:11:44.840Z"
   },
   {
    "duration": 15,
    "start_time": "2021-12-22T11:11:45.200Z"
   },
   {
    "duration": 31,
    "start_time": "2021-12-22T11:11:45.217Z"
   },
   {
    "duration": 41,
    "start_time": "2021-12-22T11:11:45.251Z"
   },
   {
    "duration": 87,
    "start_time": "2021-12-22T11:11:45.296Z"
   },
   {
    "duration": 62,
    "start_time": "2021-12-22T11:11:45.385Z"
   },
   {
    "duration": 21,
    "start_time": "2021-12-22T11:11:45.466Z"
   },
   {
    "duration": 95,
    "start_time": "2021-12-22T11:11:45.490Z"
   },
   {
    "duration": -14,
    "start_time": "2021-12-22T11:11:45.602Z"
   },
   {
    "duration": 79,
    "start_time": "2021-12-22T11:12:03.723Z"
   },
   {
    "duration": 23,
    "start_time": "2021-12-22T11:13:34.188Z"
   },
   {
    "duration": 81,
    "start_time": "2021-12-22T11:13:58.082Z"
   },
   {
    "duration": 18,
    "start_time": "2021-12-22T11:14:12.111Z"
   },
   {
    "duration": 3,
    "start_time": "2021-12-22T11:14:29.758Z"
   },
   {
    "duration": 42,
    "start_time": "2021-12-22T11:14:32.116Z"
   },
   {
    "duration": 3,
    "start_time": "2021-12-22T17:14:25.355Z"
   },
   {
    "duration": 326,
    "start_time": "2021-12-22T17:14:51.065Z"
   },
   {
    "duration": 1504,
    "start_time": "2021-12-22T17:15:04.592Z"
   },
   {
    "duration": 24,
    "start_time": "2021-12-22T17:15:06.099Z"
   },
   {
    "duration": 13,
    "start_time": "2021-12-22T17:15:06.127Z"
   },
   {
    "duration": 315,
    "start_time": "2021-12-22T17:15:06.143Z"
   },
   {
    "duration": 12,
    "start_time": "2021-12-22T17:15:06.460Z"
   },
   {
    "duration": 21,
    "start_time": "2021-12-22T17:15:06.474Z"
   },
   {
    "duration": 43,
    "start_time": "2021-12-22T17:15:06.498Z"
   },
   {
    "duration": 79,
    "start_time": "2021-12-22T17:15:06.545Z"
   },
   {
    "duration": 60,
    "start_time": "2021-12-22T17:15:06.626Z"
   },
   {
    "duration": 39,
    "start_time": "2021-12-22T17:15:06.688Z"
   },
   {
    "duration": 101,
    "start_time": "2021-12-22T17:15:06.730Z"
   },
   {
    "duration": 1489,
    "start_time": "2021-12-22T17:15:05.345Z"
   },
   {
    "duration": 1486,
    "start_time": "2021-12-22T17:15:05.350Z"
   },
   {
    "duration": 83,
    "start_time": "2021-12-22T17:16:32.843Z"
   },
   {
    "duration": 14,
    "start_time": "2021-12-22T17:16:32.929Z"
   },
   {
    "duration": 12,
    "start_time": "2021-12-22T17:16:32.947Z"
   },
   {
    "duration": 323,
    "start_time": "2021-12-22T17:16:32.962Z"
   },
   {
    "duration": 12,
    "start_time": "2021-12-22T17:16:33.288Z"
   },
   {
    "duration": 26,
    "start_time": "2021-12-22T17:16:33.303Z"
   },
   {
    "duration": 36,
    "start_time": "2021-12-22T17:16:33.332Z"
   },
   {
    "duration": 105,
    "start_time": "2021-12-22T17:16:33.372Z"
   },
   {
    "duration": 71,
    "start_time": "2021-12-22T17:16:33.480Z"
   },
   {
    "duration": 18,
    "start_time": "2021-12-22T17:16:33.554Z"
   },
   {
    "duration": 102,
    "start_time": "2021-12-22T17:16:33.574Z"
   },
   {
    "duration": 800,
    "start_time": "2021-12-22T17:16:32.879Z"
   },
   {
    "duration": 799,
    "start_time": "2021-12-22T17:16:32.882Z"
   },
   {
    "duration": 38,
    "start_time": "2021-12-22T17:16:54.010Z"
   },
   {
    "duration": 26,
    "start_time": "2021-12-22T17:18:33.188Z"
   },
   {
    "duration": 44,
    "start_time": "2021-12-22T17:18:50.900Z"
   },
   {
    "duration": 8,
    "start_time": "2021-12-22T17:19:09.000Z"
   },
   {
    "duration": 90,
    "start_time": "2021-12-22T17:47:00.091Z"
   },
   {
    "duration": 6,
    "start_time": "2021-12-22T17:47:18.071Z"
   },
   {
    "duration": -85,
    "start_time": "2021-12-22T18:35:06.867Z"
   },
   {
    "duration": 6,
    "start_time": "2021-12-22T18:35:11.058Z"
   },
   {
    "duration": 5,
    "start_time": "2021-12-22T18:37:12.979Z"
   },
   {
    "duration": 6,
    "start_time": "2021-12-22T18:49:43.754Z"
   },
   {
    "duration": 173,
    "start_time": "2021-12-22T18:50:22.115Z"
   },
   {
    "duration": 7,
    "start_time": "2021-12-22T18:50:32.255Z"
   },
   {
    "duration": 8,
    "start_time": "2021-12-22T18:58:16.312Z"
   },
   {
    "duration": 11,
    "start_time": "2021-12-22T18:59:31.395Z"
   },
   {
    "duration": 131,
    "start_time": "2021-12-22T19:52:10.801Z"
   },
   {
    "duration": 7,
    "start_time": "2021-12-22T19:52:16.986Z"
   },
   {
    "duration": 13,
    "start_time": "2021-12-22T19:55:49.966Z"
   },
   {
    "duration": 13,
    "start_time": "2021-12-22T19:56:36.859Z"
   },
   {
    "duration": 461,
    "start_time": "2021-12-22T19:57:28.338Z"
   },
   {
    "duration": 10,
    "start_time": "2021-12-22T19:58:47.871Z"
   },
   {
    "duration": 15,
    "start_time": "2021-12-22T20:01:24.237Z"
   },
   {
    "duration": 15,
    "start_time": "2021-12-22T20:01:51.047Z"
   },
   {
    "duration": 17,
    "start_time": "2021-12-22T20:02:08.567Z"
   },
   {
    "duration": 446,
    "start_time": "2021-12-22T20:02:34.606Z"
   },
   {
    "duration": 13,
    "start_time": "2021-12-22T20:03:13.919Z"
   },
   {
    "duration": 7,
    "start_time": "2021-12-22T20:30:02.972Z"
   },
   {
    "duration": 7,
    "start_time": "2021-12-22T20:41:36.712Z"
   },
   {
    "duration": 13,
    "start_time": "2021-12-22T21:23:15.923Z"
   },
   {
    "duration": 13,
    "start_time": "2021-12-22T21:23:39.209Z"
   },
   {
    "duration": 12,
    "start_time": "2021-12-22T21:24:19.496Z"
   },
   {
    "duration": 13,
    "start_time": "2021-12-22T21:26:54.045Z"
   },
   {
    "duration": 12,
    "start_time": "2021-12-22T21:29:57.606Z"
   },
   {
    "duration": 11,
    "start_time": "2021-12-22T21:30:10.463Z"
   },
   {
    "duration": 8,
    "start_time": "2021-12-22T21:30:52.684Z"
   },
   {
    "duration": 282,
    "start_time": "2021-12-22T21:31:01.197Z"
   },
   {
    "duration": 15,
    "start_time": "2021-12-22T21:31:38.772Z"
   },
   {
    "duration": 11,
    "start_time": "2021-12-22T21:38:59.043Z"
   },
   {
    "duration": 82,
    "start_time": "2021-12-22T21:39:36.544Z"
   },
   {
    "duration": 85,
    "start_time": "2021-12-22T21:39:40.616Z"
   },
   {
    "duration": 13,
    "start_time": "2021-12-22T21:39:51.122Z"
   },
   {
    "duration": 137,
    "start_time": "2021-12-22T21:40:30.960Z"
   },
   {
    "duration": 14,
    "start_time": "2021-12-22T21:40:36.150Z"
   },
   {
    "duration": 103,
    "start_time": "2021-12-22T21:42:04.706Z"
   },
   {
    "duration": 15,
    "start_time": "2021-12-22T21:42:11.355Z"
   },
   {
    "duration": 18,
    "start_time": "2021-12-22T21:52:16.416Z"
   },
   {
    "duration": 11,
    "start_time": "2021-12-22T21:55:24.196Z"
   },
   {
    "duration": 7,
    "start_time": "2021-12-22T21:56:32.148Z"
   },
   {
    "duration": 7,
    "start_time": "2021-12-22T21:57:55.935Z"
   },
   {
    "duration": 6,
    "start_time": "2021-12-22T22:01:27.371Z"
   },
   {
    "duration": 7,
    "start_time": "2021-12-22T22:04:56.404Z"
   },
   {
    "duration": 295,
    "start_time": "2021-12-22T22:18:08.536Z"
   },
   {
    "duration": 311,
    "start_time": "2021-12-22T22:18:35.366Z"
   },
   {
    "duration": 1155,
    "start_time": "2021-12-23T07:38:04.935Z"
   },
   {
    "duration": 8,
    "start_time": "2021-12-23T07:38:06.092Z"
   },
   {
    "duration": 8,
    "start_time": "2021-12-23T07:38:06.103Z"
   },
   {
    "duration": 210,
    "start_time": "2021-12-23T07:38:06.113Z"
   },
   {
    "duration": 9,
    "start_time": "2021-12-23T07:38:06.324Z"
   },
   {
    "duration": 8,
    "start_time": "2021-12-23T07:38:06.334Z"
   },
   {
    "duration": 22,
    "start_time": "2021-12-23T07:38:06.343Z"
   },
   {
    "duration": 61,
    "start_time": "2021-12-23T07:38:06.367Z"
   },
   {
    "duration": 39,
    "start_time": "2021-12-23T07:38:06.430Z"
   },
   {
    "duration": 31,
    "start_time": "2021-12-23T07:38:06.471Z"
   },
   {
    "duration": 26,
    "start_time": "2021-12-23T07:38:06.504Z"
   },
   {
    "duration": 29,
    "start_time": "2021-12-23T07:38:06.532Z"
   },
   {
    "duration": 4,
    "start_time": "2021-12-23T07:38:06.563Z"
   },
   {
    "duration": 11,
    "start_time": "2021-12-23T07:38:06.592Z"
   },
   {
    "duration": 4,
    "start_time": "2021-12-23T07:38:06.604Z"
   },
   {
    "duration": 5,
    "start_time": "2021-12-23T07:38:06.609Z"
   },
   {
    "duration": 5,
    "start_time": "2021-12-23T07:38:06.616Z"
   },
   {
    "duration": 354,
    "start_time": "2021-12-23T07:38:06.622Z"
   },
   {
    "duration": 208,
    "start_time": "2021-12-23T07:49:01.745Z"
   },
   {
    "duration": 198,
    "start_time": "2021-12-23T07:55:41.906Z"
   },
   {
    "duration": 174,
    "start_time": "2021-12-23T07:56:17.021Z"
   },
   {
    "duration": 191,
    "start_time": "2021-12-23T07:56:43.224Z"
   },
   {
    "duration": 191,
    "start_time": "2021-12-23T07:58:08.701Z"
   },
   {
    "duration": 201,
    "start_time": "2021-12-23T07:58:16.701Z"
   },
   {
    "duration": 172,
    "start_time": "2021-12-23T08:01:07.615Z"
   },
   {
    "duration": 219,
    "start_time": "2021-12-23T08:01:15.087Z"
   },
   {
    "duration": 58,
    "start_time": "2021-12-23T08:02:36.576Z"
   },
   {
    "duration": 5,
    "start_time": "2021-12-23T08:02:43.262Z"
   },
   {
    "duration": 196,
    "start_time": "2021-12-23T08:05:48.457Z"
   },
   {
    "duration": 175,
    "start_time": "2021-12-23T08:07:43.846Z"
   },
   {
    "duration": 3258,
    "start_time": "2021-12-23T08:17:52.896Z"
   },
   {
    "duration": 3412,
    "start_time": "2021-12-23T08:19:21.508Z"
   },
   {
    "duration": 3465,
    "start_time": "2021-12-23T08:21:45.663Z"
   },
   {
    "duration": 3343,
    "start_time": "2021-12-23T08:22:09.804Z"
   },
   {
    "duration": 27,
    "start_time": "2021-12-23T08:23:58.811Z"
   },
   {
    "duration": 658,
    "start_time": "2021-12-23T08:25:03.042Z"
   },
   {
    "duration": 682,
    "start_time": "2021-12-23T08:25:20.721Z"
   },
   {
    "duration": 697,
    "start_time": "2021-12-23T08:25:36.950Z"
   },
   {
    "duration": 679,
    "start_time": "2021-12-23T08:26:52.812Z"
   },
   {
    "duration": 685,
    "start_time": "2021-12-23T08:29:19.157Z"
   },
   {
    "duration": 2729,
    "start_time": "2021-12-23T08:40:52.218Z"
   },
   {
    "duration": 12,
    "start_time": "2021-12-23T08:59:41.162Z"
   },
   {
    "duration": 13,
    "start_time": "2021-12-23T09:00:13.840Z"
   },
   {
    "duration": 10,
    "start_time": "2021-12-23T09:00:37.045Z"
   },
   {
    "duration": 11,
    "start_time": "2021-12-23T09:17:17.280Z"
   },
   {
    "duration": 224,
    "start_time": "2021-12-23T09:36:49.730Z"
   },
   {
    "duration": 181,
    "start_time": "2021-12-23T09:37:42.331Z"
   },
   {
    "duration": 11456,
    "start_time": "2021-12-23T09:42:39.269Z"
   },
   {
    "duration": 11765,
    "start_time": "2021-12-23T09:43:43.651Z"
   },
   {
    "duration": 11784,
    "start_time": "2021-12-23T09:54:42.405Z"
   },
   {
    "duration": 65,
    "start_time": "2021-12-23T10:20:31.323Z"
   },
   {
    "duration": -65,
    "start_time": "2021-12-23T10:20:52.088Z"
   },
   {
    "duration": 12989,
    "start_time": "2021-12-23T10:21:01.948Z"
   },
   {
    "duration": 11914,
    "start_time": "2021-12-23T10:22:14.812Z"
   },
   {
    "duration": 11849,
    "start_time": "2021-12-23T10:22:36.250Z"
   },
   {
    "duration": 12061,
    "start_time": "2021-12-23T10:23:52.591Z"
   },
   {
    "duration": 6787,
    "start_time": "2021-12-23T10:29:08.831Z"
   },
   {
    "duration": 13,
    "start_time": "2021-12-23T10:29:53.516Z"
   },
   {
    "duration": 15,
    "start_time": "2021-12-23T10:30:27.221Z"
   },
   {
    "duration": 10,
    "start_time": "2021-12-23T10:30:27.315Z"
   },
   {
    "duration": 16,
    "start_time": "2021-12-23T10:30:41.378Z"
   },
   {
    "duration": 19,
    "start_time": "2021-12-23T10:37:49.543Z"
   },
   {
    "duration": 196,
    "start_time": "2021-12-23T10:38:58.388Z"
   },
   {
    "duration": 212,
    "start_time": "2021-12-23T10:43:29.150Z"
   },
   {
    "duration": 144,
    "start_time": "2021-12-23T10:43:39.074Z"
   },
   {
    "duration": 178,
    "start_time": "2021-12-23T10:44:18.086Z"
   },
   {
    "duration": 7,
    "start_time": "2021-12-23T10:44:28.324Z"
   },
   {
    "duration": 16,
    "start_time": "2021-12-23T10:45:14.648Z"
   },
   {
    "duration": 187,
    "start_time": "2021-12-23T10:46:13.548Z"
   },
   {
    "duration": 205,
    "start_time": "2021-12-23T10:48:06.715Z"
   },
   {
    "duration": 18,
    "start_time": "2021-12-23T10:48:55.969Z"
   },
   {
    "duration": 20,
    "start_time": "2021-12-23T10:49:51.654Z"
   },
   {
    "duration": 18,
    "start_time": "2021-12-23T10:51:01.869Z"
   },
   {
    "duration": 21,
    "start_time": "2021-12-23T12:42:36.888Z"
   },
   {
    "duration": 7,
    "start_time": "2021-12-23T12:48:38.936Z"
   },
   {
    "duration": 21,
    "start_time": "2021-12-23T12:50:05.100Z"
   },
   {
    "duration": 10,
    "start_time": "2021-12-23T12:52:43.934Z"
   },
   {
    "duration": 202,
    "start_time": "2021-12-23T12:54:16.317Z"
   },
   {
    "duration": 62,
    "start_time": "2021-12-23T12:54:42.064Z"
   },
   {
    "duration": 217,
    "start_time": "2021-12-23T12:54:49.474Z"
   },
   {
    "duration": 17,
    "start_time": "2021-12-23T12:55:06.329Z"
   },
   {
    "duration": 63,
    "start_time": "2021-12-23T13:12:06.885Z"
   },
   {
    "duration": 285,
    "start_time": "2021-12-23T13:12:37.137Z"
   },
   {
    "duration": 457,
    "start_time": "2021-12-23T20:00:24.152Z"
   },
   {
    "duration": 436,
    "start_time": "2021-12-23T20:01:03.670Z"
   },
   {
    "duration": 182,
    "start_time": "2021-12-23T20:01:15.899Z"
   },
   {
    "duration": 1206,
    "start_time": "2021-12-23T20:01:25.178Z"
   },
   {
    "duration": 9,
    "start_time": "2021-12-23T20:01:26.386Z"
   },
   {
    "duration": 9,
    "start_time": "2021-12-23T20:01:26.397Z"
   },
   {
    "duration": 211,
    "start_time": "2021-12-23T20:01:26.407Z"
   },
   {
    "duration": 8,
    "start_time": "2021-12-23T20:01:26.620Z"
   },
   {
    "duration": 8,
    "start_time": "2021-12-23T20:01:26.630Z"
   },
   {
    "duration": 22,
    "start_time": "2021-12-23T20:01:26.640Z"
   },
   {
    "duration": 62,
    "start_time": "2021-12-23T20:01:26.664Z"
   },
   {
    "duration": 40,
    "start_time": "2021-12-23T20:01:26.729Z"
   },
   {
    "duration": 14,
    "start_time": "2021-12-23T20:01:26.791Z"
   },
   {
    "duration": 24,
    "start_time": "2021-12-23T20:01:26.807Z"
   },
   {
    "duration": 28,
    "start_time": "2021-12-23T20:01:26.832Z"
   },
   {
    "duration": 33,
    "start_time": "2021-12-23T20:01:26.862Z"
   },
   {
    "duration": 13,
    "start_time": "2021-12-23T20:01:26.896Z"
   },
   {
    "duration": 4,
    "start_time": "2021-12-23T20:01:26.911Z"
   },
   {
    "duration": 5,
    "start_time": "2021-12-23T20:01:26.916Z"
   },
   {
    "duration": 5,
    "start_time": "2021-12-23T20:01:26.922Z"
   },
   {
    "duration": 684,
    "start_time": "2021-12-23T20:01:26.929Z"
   },
   {
    "duration": 2879,
    "start_time": "2021-12-23T20:01:27.615Z"
   },
   {
    "duration": 1082,
    "start_time": "2021-12-23T20:01:30.496Z"
   },
   {
    "duration": -96,
    "start_time": "2021-12-23T20:01:31.676Z"
   },
   {
    "duration": -106,
    "start_time": "2021-12-23T20:01:31.688Z"
   },
   {
    "duration": -111,
    "start_time": "2021-12-23T20:01:31.694Z"
   },
   {
    "duration": -120,
    "start_time": "2021-12-23T20:01:31.705Z"
   },
   {
    "duration": -123,
    "start_time": "2021-12-23T20:01:31.709Z"
   },
   {
    "duration": -127,
    "start_time": "2021-12-23T20:01:31.715Z"
   },
   {
    "duration": -134,
    "start_time": "2021-12-23T20:01:31.723Z"
   },
   {
    "duration": 22,
    "start_time": "2021-12-23T20:01:49.640Z"
   },
   {
    "duration": 11,
    "start_time": "2021-12-23T20:01:53.237Z"
   },
   {
    "duration": 3,
    "start_time": "2021-12-23T20:01:56.869Z"
   },
   {
    "duration": 11633,
    "start_time": "2021-12-23T20:02:02.439Z"
   },
   {
    "duration": 30,
    "start_time": "2021-12-23T20:02:14.074Z"
   },
   {
    "duration": 14,
    "start_time": "2021-12-23T20:02:20.332Z"
   },
   {
    "duration": 19,
    "start_time": "2021-12-23T20:02:35.807Z"
   },
   {
    "duration": 22,
    "start_time": "2021-12-23T20:13:20.047Z"
   },
   {
    "duration": 20,
    "start_time": "2021-12-23T20:14:37.217Z"
   },
   {
    "duration": 286,
    "start_time": "2021-12-23T20:16:41.093Z"
   },
   {
    "duration": 45,
    "start_time": "2021-12-23T20:21:34.377Z"
   },
   {
    "duration": 14,
    "start_time": "2021-12-23T20:25:34.214Z"
   },
   {
    "duration": 38,
    "start_time": "2021-12-23T20:27:01.960Z"
   },
   {
    "duration": 31,
    "start_time": "2021-12-23T20:27:12.163Z"
   },
   {
    "duration": 29,
    "start_time": "2021-12-23T20:28:15.651Z"
   },
   {
    "duration": 11642,
    "start_time": "2021-12-23T20:30:46.821Z"
   },
   {
    "duration": 18,
    "start_time": "2021-12-23T20:35:44.013Z"
   },
   {
    "duration": 33,
    "start_time": "2021-12-23T20:40:05.677Z"
   },
   {
    "duration": 37,
    "start_time": "2021-12-23T20:44:34.394Z"
   },
   {
    "duration": 30,
    "start_time": "2021-12-23T20:45:36.141Z"
   },
   {
    "duration": 15,
    "start_time": "2021-12-23T20:47:25.907Z"
   },
   {
    "duration": 20,
    "start_time": "2021-12-23T20:47:41.183Z"
   },
   {
    "duration": 15,
    "start_time": "2021-12-23T20:48:10.995Z"
   },
   {
    "duration": 11352,
    "start_time": "2021-12-23T20:57:37.383Z"
   },
   {
    "duration": 35,
    "start_time": "2021-12-23T20:57:48.741Z"
   },
   {
    "duration": 11926,
    "start_time": "2021-12-23T20:58:38.760Z"
   },
   {
    "duration": 14,
    "start_time": "2021-12-23T20:58:50.692Z"
   },
   {
    "duration": 11737,
    "start_time": "2021-12-23T21:02:19.148Z"
   },
   {
    "duration": 14,
    "start_time": "2021-12-23T21:02:35.196Z"
   },
   {
    "duration": 2762,
    "start_time": "2021-12-23T21:04:15.596Z"
   },
   {
    "duration": 13,
    "start_time": "2021-12-23T21:04:49.120Z"
   },
   {
    "duration": 61,
    "start_time": "2021-12-23T21:09:44.109Z"
   },
   {
    "duration": 12,
    "start_time": "2021-12-23T21:10:06.666Z"
   },
   {
    "duration": 183,
    "start_time": "2021-12-23T21:12:09.370Z"
   },
   {
    "duration": 2672,
    "start_time": "2021-12-23T21:57:47.525Z"
   },
   {
    "duration": 23,
    "start_time": "2021-12-23T22:10:26.413Z"
   },
   {
    "duration": 20,
    "start_time": "2021-12-23T22:12:29.074Z"
   },
   {
    "duration": 13,
    "start_time": "2021-12-23T22:13:17.906Z"
   },
   {
    "duration": 13,
    "start_time": "2021-12-23T22:14:23.156Z"
   },
   {
    "duration": 13,
    "start_time": "2021-12-23T22:14:34.376Z"
   },
   {
    "duration": 590,
    "start_time": "2021-12-23T22:15:07.842Z"
   },
   {
    "duration": 10,
    "start_time": "2021-12-23T22:15:08.434Z"
   },
   {
    "duration": 9,
    "start_time": "2021-12-23T22:15:08.446Z"
   },
   {
    "duration": 9,
    "start_time": "2021-12-23T22:15:08.457Z"
   },
   {
    "duration": 278,
    "start_time": "2021-12-23T22:15:08.467Z"
   },
   {
    "duration": 8,
    "start_time": "2021-12-23T22:15:08.746Z"
   },
   {
    "duration": 8,
    "start_time": "2021-12-23T22:15:08.756Z"
   },
   {
    "duration": 44,
    "start_time": "2021-12-23T22:15:08.766Z"
   },
   {
    "duration": 42,
    "start_time": "2021-12-23T22:15:08.812Z"
   },
   {
    "duration": 62,
    "start_time": "2021-12-23T22:15:08.856Z"
   },
   {
    "duration": 13,
    "start_time": "2021-12-23T22:15:08.920Z"
   },
   {
    "duration": 25,
    "start_time": "2021-12-23T22:15:08.935Z"
   },
   {
    "duration": 54,
    "start_time": "2021-12-23T22:15:08.961Z"
   },
   {
    "duration": 4,
    "start_time": "2021-12-23T22:15:09.017Z"
   },
   {
    "duration": 14,
    "start_time": "2021-12-23T22:15:09.023Z"
   },
   {
    "duration": 4,
    "start_time": "2021-12-23T22:15:09.039Z"
   },
   {
    "duration": 4,
    "start_time": "2021-12-23T22:15:09.045Z"
   },
   {
    "duration": 7,
    "start_time": "2021-12-23T22:15:09.050Z"
   },
   {
    "duration": 707,
    "start_time": "2021-12-23T22:15:09.058Z"
   },
   {
    "duration": 2856,
    "start_time": "2021-12-23T22:15:09.767Z"
   },
   {
    "duration": 11,
    "start_time": "2021-12-23T22:15:12.625Z"
   },
   {
    "duration": 10,
    "start_time": "2021-12-23T22:15:12.637Z"
   },
   {
    "duration": 11,
    "start_time": "2021-12-23T22:15:12.650Z"
   },
   {
    "duration": 2,
    "start_time": "2021-12-23T22:15:12.662Z"
   },
   {
    "duration": 30,
    "start_time": "2021-12-23T22:15:12.666Z"
   },
   {
    "duration": 11502,
    "start_time": "2021-12-23T22:15:12.697Z"
   },
   {
    "duration": 349,
    "start_time": "2021-12-23T22:15:24.200Z"
   },
   {
    "duration": 15,
    "start_time": "2021-12-23T22:15:24.551Z"
   },
   {
    "duration": 28,
    "start_time": "2021-12-23T22:15:24.567Z"
   },
   {
    "duration": 12,
    "start_time": "2021-12-23T22:15:24.597Z"
   },
   {
    "duration": 7,
    "start_time": "2021-12-23T22:18:03.919Z"
   },
   {
    "duration": 6,
    "start_time": "2021-12-23T22:18:38.211Z"
   },
   {
    "duration": 66,
    "start_time": "2021-12-23T22:18:44.427Z"
   },
   {
    "duration": 9,
    "start_time": "2021-12-23T22:19:17.296Z"
   },
   {
    "duration": 10,
    "start_time": "2021-12-23T22:25:58.377Z"
   },
   {
    "duration": 252,
    "start_time": "2021-12-23T22:29:06.667Z"
   },
   {
    "duration": 16,
    "start_time": "2021-12-23T22:29:18.028Z"
   },
   {
    "duration": 19,
    "start_time": "2021-12-23T22:31:17.439Z"
   },
   {
    "duration": 21,
    "start_time": "2021-12-23T22:31:33.818Z"
   },
   {
    "duration": 18,
    "start_time": "2021-12-23T22:32:53.518Z"
   },
   {
    "duration": 17,
    "start_time": "2021-12-23T22:33:23.019Z"
   },
   {
    "duration": 19,
    "start_time": "2021-12-23T22:36:24.203Z"
   },
   {
    "duration": 14,
    "start_time": "2021-12-23T22:59:43.497Z"
   },
   {
    "duration": 15,
    "start_time": "2021-12-23T23:00:27.919Z"
   },
   {
    "duration": 15,
    "start_time": "2021-12-23T23:01:01.686Z"
   },
   {
    "duration": 13,
    "start_time": "2021-12-23T23:01:28.957Z"
   },
   {
    "duration": 2772,
    "start_time": "2021-12-23T23:44:19.451Z"
   },
   {
    "duration": 13,
    "start_time": "2021-12-23T23:44:37.720Z"
   },
   {
    "duration": 582,
    "start_time": "2021-12-24T19:13:12.731Z"
   },
   {
    "duration": 10,
    "start_time": "2021-12-24T19:13:13.315Z"
   },
   {
    "duration": 9,
    "start_time": "2021-12-24T19:13:13.327Z"
   },
   {
    "duration": 8,
    "start_time": "2021-12-24T19:13:13.338Z"
   },
   {
    "duration": 285,
    "start_time": "2021-12-24T19:13:13.347Z"
   },
   {
    "duration": 8,
    "start_time": "2021-12-24T19:13:13.634Z"
   },
   {
    "duration": 10,
    "start_time": "2021-12-24T19:13:13.643Z"
   },
   {
    "duration": 45,
    "start_time": "2021-12-24T19:13:13.656Z"
   },
   {
    "duration": 41,
    "start_time": "2021-12-24T19:13:13.703Z"
   },
   {
    "duration": 57,
    "start_time": "2021-12-24T19:13:13.745Z"
   },
   {
    "duration": 12,
    "start_time": "2021-12-24T19:13:13.804Z"
   },
   {
    "duration": 25,
    "start_time": "2021-12-24T19:13:13.818Z"
   },
   {
    "duration": 55,
    "start_time": "2021-12-24T19:13:13.844Z"
   },
   {
    "duration": 5,
    "start_time": "2021-12-24T19:13:13.900Z"
   },
   {
    "duration": 12,
    "start_time": "2021-12-24T19:13:13.906Z"
   },
   {
    "duration": 5,
    "start_time": "2021-12-24T19:13:13.920Z"
   },
   {
    "duration": 5,
    "start_time": "2021-12-24T19:13:13.926Z"
   },
   {
    "duration": 6,
    "start_time": "2021-12-24T19:13:13.933Z"
   },
   {
    "duration": 712,
    "start_time": "2021-12-24T19:13:13.940Z"
   },
   {
    "duration": 2944,
    "start_time": "2021-12-24T19:13:14.654Z"
   },
   {
    "duration": 12,
    "start_time": "2021-12-24T19:13:17.599Z"
   },
   {
    "duration": 11,
    "start_time": "2021-12-24T19:13:17.612Z"
   },
   {
    "duration": 11381,
    "start_time": "2021-12-24T19:13:17.626Z"
   },
   {
    "duration": 644,
    "start_time": "2021-12-24T19:13:29.009Z"
   },
   {
    "duration": 14,
    "start_time": "2021-12-24T19:13:29.655Z"
   },
   {
    "duration": 11,
    "start_time": "2021-12-24T19:13:29.671Z"
   },
   {
    "duration": 12,
    "start_time": "2021-12-24T19:13:29.692Z"
   },
   {
    "duration": 122,
    "start_time": "2021-12-25T11:01:43.976Z"
   },
   {
    "duration": 130,
    "start_time": "2021-12-25T11:05:01.758Z"
   },
   {
    "duration": 169,
    "start_time": "2021-12-25T11:05:58.974Z"
   },
   {
    "duration": 134,
    "start_time": "2021-12-25T11:06:48.032Z"
   },
   {
    "duration": 427,
    "start_time": "2021-12-25T11:11:47.806Z"
   },
   {
    "duration": 826,
    "start_time": "2021-12-25T11:12:02.287Z"
   },
   {
    "duration": 15,
    "start_time": "2021-12-25T11:12:03.115Z"
   },
   {
    "duration": 30,
    "start_time": "2021-12-25T11:12:03.132Z"
   },
   {
    "duration": 11,
    "start_time": "2021-12-25T11:12:03.165Z"
   },
   {
    "duration": 408,
    "start_time": "2021-12-25T11:12:03.178Z"
   },
   {
    "duration": 12,
    "start_time": "2021-12-25T11:12:03.588Z"
   },
   {
    "duration": 13,
    "start_time": "2021-12-25T11:12:03.603Z"
   },
   {
    "duration": 66,
    "start_time": "2021-12-25T11:12:03.621Z"
   },
   {
    "duration": 86,
    "start_time": "2021-12-25T11:12:03.691Z"
   },
   {
    "duration": 60,
    "start_time": "2021-12-25T11:12:03.780Z"
   },
   {
    "duration": 18,
    "start_time": "2021-12-25T11:12:03.858Z"
   },
   {
    "duration": 39,
    "start_time": "2021-12-25T11:12:03.878Z"
   },
   {
    "duration": 68,
    "start_time": "2021-12-25T11:12:03.920Z"
   },
   {
    "duration": 7,
    "start_time": "2021-12-25T11:12:03.990Z"
   },
   {
    "duration": 17,
    "start_time": "2021-12-25T11:12:03.999Z"
   },
   {
    "duration": 7,
    "start_time": "2021-12-25T11:12:04.019Z"
   },
   {
    "duration": 6,
    "start_time": "2021-12-25T11:12:04.060Z"
   },
   {
    "duration": 15,
    "start_time": "2021-12-25T11:12:04.068Z"
   },
   {
    "duration": 3244,
    "start_time": "2021-12-25T11:12:04.086Z"
   },
   {
    "duration": 3997,
    "start_time": "2021-12-25T11:12:07.332Z"
   },
   {
    "duration": 35,
    "start_time": "2021-12-25T11:12:11.332Z"
   },
   {
    "duration": 19,
    "start_time": "2021-12-25T11:12:11.370Z"
   },
   {
    "duration": 16083,
    "start_time": "2021-12-25T11:12:11.395Z"
   },
   {
    "duration": 736,
    "start_time": "2021-12-25T11:12:27.481Z"
   },
   {
    "duration": 23,
    "start_time": "2021-12-25T11:12:28.220Z"
   },
   {
    "duration": 29,
    "start_time": "2021-12-25T11:12:28.246Z"
   },
   {
    "duration": 19,
    "start_time": "2021-12-25T11:12:28.278Z"
   },
   {
    "duration": 3426,
    "start_time": "2021-12-25T11:12:28.300Z"
   },
   {
    "duration": 3224,
    "start_time": "2021-12-25T11:13:39.051Z"
   },
   {
    "duration": 3711,
    "start_time": "2021-12-25T11:14:33.794Z"
   },
   {
    "duration": 3252,
    "start_time": "2021-12-25T11:15:10.084Z"
   },
   {
    "duration": 518,
    "start_time": "2021-12-25T11:15:31.415Z"
   },
   {
    "duration": 910,
    "start_time": "2021-12-25T11:15:56.444Z"
   },
   {
    "duration": 1406,
    "start_time": "2021-12-25T11:16:55.412Z"
   },
   {
    "duration": 1007,
    "start_time": "2021-12-25T11:20:30.015Z"
   },
   {
    "duration": 952,
    "start_time": "2021-12-25T11:21:07.544Z"
   },
   {
    "duration": 3398,
    "start_time": "2021-12-25T11:22:06.219Z"
   },
   {
    "duration": 405,
    "start_time": "2021-12-25T11:27:38.200Z"
   },
   {
    "duration": 498,
    "start_time": "2021-12-25T11:28:13.975Z"
   },
   {
    "duration": 534,
    "start_time": "2021-12-25T11:28:27.117Z"
   },
   {
    "duration": 2424,
    "start_time": "2021-12-25T11:28:39.119Z"
   },
   {
    "duration": 916,
    "start_time": "2021-12-25T11:29:16.084Z"
   },
   {
    "duration": 2378,
    "start_time": "2021-12-25T11:29:19.717Z"
   },
   {
    "duration": 2452,
    "start_time": "2021-12-25T11:31:22.200Z"
   },
   {
    "duration": 980,
    "start_time": "2021-12-25T11:31:51.117Z"
   },
   {
    "duration": 2411,
    "start_time": "2021-12-25T11:32:20.120Z"
   },
   {
    "duration": 2274,
    "start_time": "2021-12-25T11:33:04.196Z"
   },
   {
    "duration": 868,
    "start_time": "2021-12-25T11:33:20.093Z"
   },
   {
    "duration": 15,
    "start_time": "2021-12-25T11:33:20.963Z"
   },
   {
    "duration": 13,
    "start_time": "2021-12-25T11:33:20.981Z"
   },
   {
    "duration": 12,
    "start_time": "2021-12-25T11:33:20.997Z"
   },
   {
    "duration": 529,
    "start_time": "2021-12-25T11:33:21.011Z"
   },
   {
    "duration": 19,
    "start_time": "2021-12-25T11:33:21.542Z"
   },
   {
    "duration": 12,
    "start_time": "2021-12-25T11:33:21.563Z"
   },
   {
    "duration": 33,
    "start_time": "2021-12-25T11:33:21.578Z"
   },
   {
    "duration": 96,
    "start_time": "2021-12-25T11:33:21.613Z"
   },
   {
    "duration": 81,
    "start_time": "2021-12-25T11:33:21.712Z"
   },
   {
    "duration": 21,
    "start_time": "2021-12-25T11:33:21.796Z"
   },
   {
    "duration": 61,
    "start_time": "2021-12-25T11:33:21.819Z"
   },
   {
    "duration": 50,
    "start_time": "2021-12-25T11:33:21.882Z"
   },
   {
    "duration": 28,
    "start_time": "2021-12-25T11:33:21.935Z"
   },
   {
    "duration": 17,
    "start_time": "2021-12-25T11:33:21.965Z"
   },
   {
    "duration": 5,
    "start_time": "2021-12-25T11:33:21.985Z"
   },
   {
    "duration": 5,
    "start_time": "2021-12-25T11:33:21.993Z"
   },
   {
    "duration": 7,
    "start_time": "2021-12-25T11:33:22.000Z"
   },
   {
    "duration": 922,
    "start_time": "2021-12-25T11:33:22.058Z"
   },
   {
    "duration": 2526,
    "start_time": "2021-12-25T11:33:22.984Z"
   },
   {
    "duration": 4090,
    "start_time": "2021-12-25T11:33:25.513Z"
   },
   {
    "duration": 15,
    "start_time": "2021-12-25T11:33:29.606Z"
   },
   {
    "duration": 37,
    "start_time": "2021-12-25T11:33:29.626Z"
   },
   {
    "duration": 15981,
    "start_time": "2021-12-25T11:33:29.665Z"
   },
   {
    "duration": 885,
    "start_time": "2021-12-25T11:33:45.649Z"
   },
   {
    "duration": 31,
    "start_time": "2021-12-25T11:33:46.537Z"
   },
   {
    "duration": 18,
    "start_time": "2021-12-25T11:33:46.570Z"
   },
   {
    "duration": 19,
    "start_time": "2021-12-25T11:33:46.590Z"
   },
   {
    "duration": 2460,
    "start_time": "2021-12-25T11:34:39.391Z"
   },
   {
    "duration": 148,
    "start_time": "2021-12-25T11:37:19.735Z"
   },
   {
    "duration": 2375,
    "start_time": "2021-12-25T11:37:45.387Z"
   },
   {
    "duration": 2400,
    "start_time": "2021-12-25T11:41:44.120Z"
   },
   {
    "duration": 1086,
    "start_time": "2021-12-25T11:42:01.617Z"
   },
   {
    "duration": 2387,
    "start_time": "2021-12-25T11:42:04.728Z"
   },
   {
    "duration": 7,
    "start_time": "2021-12-25T16:59:04.524Z"
   }
  ],
  "kernelspec": {
   "display_name": "Python 3 (ipykernel)",
   "language": "python",
   "name": "python3"
  },
  "language_info": {
   "codemirror_mode": {
    "name": "ipython",
    "version": 3
   },
   "file_extension": ".py",
   "mimetype": "text/x-python",
   "name": "python",
   "nbconvert_exporter": "python",
   "pygments_lexer": "ipython3",
   "version": "3.9.5"
  },
  "toc": {
   "base_numbering": 1,
   "nav_menu": {},
   "number_sections": true,
   "sideBar": true,
   "skip_h1_title": true,
   "title_cell": "Table of Contents",
   "title_sidebar": "Contents",
   "toc_cell": false,
   "toc_position": {},
   "toc_section_display": true,
   "toc_window_display": false
  }
 },
 "nbformat": 4,
 "nbformat_minor": 2
}
