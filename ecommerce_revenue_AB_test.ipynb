{
 "cells": [
  {
   "cell_type": "markdown",
   "metadata": {
    "toc": true
   },
   "source": [
    "<h1>Table of Contents<span class=\"tocSkip\"></span></h1>\n",
    "<div class=\"toc\"><ul class=\"toc-item\"><li><span><a href=\"#Описание-проекта\" data-toc-modified-id=\"Описание-проекта-1\"><span class=\"toc-item-num\">1&nbsp;&nbsp;</span>Описание проекта</a></span></li><li><span><a href=\"#Изучение-данных\" data-toc-modified-id=\"Изучение-данных-2\"><span class=\"toc-item-num\">2&nbsp;&nbsp;</span>Изучение данных</a></span><ul class=\"toc-item\"><li><span><a href=\"#Вывод\" data-toc-modified-id=\"Вывод-2.1\"><span class=\"toc-item-num\">2.1&nbsp;&nbsp;</span>Вывод</a></span></li></ul></li><li><span><a href=\"#Часть-1.-Приоритизация-гипотез.\" data-toc-modified-id=\"Часть-1.-Приоритизация-гипотез.-3\"><span class=\"toc-item-num\">3&nbsp;&nbsp;</span>Часть 1. Приоритизация гипотез.</a></span><ul class=\"toc-item\"><li><span><a href=\"#Вывод\" data-toc-modified-id=\"Вывод-3.1\"><span class=\"toc-item-num\">3.1&nbsp;&nbsp;</span>Вывод</a></span></li></ul></li><li><span><a href=\"#Часть-2.-Анализ-A/B-теста\" data-toc-modified-id=\"Часть-2.-Анализ-A/B-теста-4\"><span class=\"toc-item-num\">4&nbsp;&nbsp;</span>Часть 2. Анализ A/B-теста</a></span><ul class=\"toc-item\"><li><span><a href=\"#Построение-графика-кумулятивной-выручки-по-группам.\" data-toc-modified-id=\"Построение-графика-кумулятивной-выручки-по-группам.-4.1\"><span class=\"toc-item-num\">4.1&nbsp;&nbsp;</span>Построение графика кумулятивной выручки по группам.</a></span></li><li><span><a href=\"#Построение-графика-кумулятивного-среднего-чека-по-группам.\" data-toc-modified-id=\"Построение-графика-кумулятивного-среднего-чека-по-группам.-4.2\"><span class=\"toc-item-num\">4.2&nbsp;&nbsp;</span>Построение графика кумулятивного среднего чека по группам.</a></span></li><li><span><a href=\"#Построение-графика-относительного-изменения-кумулятивного-среднего-чека-группы-B-к-группе-A.\" data-toc-modified-id=\"Построение-графика-относительного-изменения-кумулятивного-среднего-чека-группы-B-к-группе-A.-4.3\"><span class=\"toc-item-num\">4.3&nbsp;&nbsp;</span>Построение графика относительного изменения кумулятивного среднего чека группы B к группе A.</a></span></li><li><span><a href=\"#Построенме-графика-кумулятивной-конверсии-по-группам.\" data-toc-modified-id=\"Построенме-графика-кумулятивной-конверсии-по-группам.-4.4\"><span class=\"toc-item-num\">4.4&nbsp;&nbsp;</span>Построенме графика кумулятивной конверсии по группам.</a></span></li><li><span><a href=\"#Построение-графика-относительного-изменения-кумулятивной-конверсии-группы-B-к-группе-A.\" data-toc-modified-id=\"Построение-графика-относительного-изменения-кумулятивной-конверсии-группы-B-к-группе-A.-4.5\"><span class=\"toc-item-num\">4.5&nbsp;&nbsp;</span>Построение графика относительного изменения кумулятивной конверсии группы B к группе A.</a></span></li><li><span><a href=\"#Построение-точечного-графика-количества-заказов-по-пользователям.\" data-toc-modified-id=\"Построение-точечного-графика-количества-заказов-по-пользователям.-4.6\"><span class=\"toc-item-num\">4.6&nbsp;&nbsp;</span>Построение точечного графика количества заказов по пользователям.</a></span></li><li><span><a href=\"#Расчет-95-го-и-99-го-перцентилей-количества-заказов-на-пользователя.-Выбор-границы-для-определения-аномальных-пользователей.\" data-toc-modified-id=\"Расчет-95-го-и-99-го-перцентилей-количества-заказов-на-пользователя.-Выбор-границы-для-определения-аномальных-пользователей.-4.7\"><span class=\"toc-item-num\">4.7&nbsp;&nbsp;</span>Расчет 95-го и 99-го перцентилей количества заказов на пользователя. Выбор границы для определения аномальных пользователей.</a></span></li><li><span><a href=\"#Построение-точечного-графика-стоимостей-заказов.\" data-toc-modified-id=\"Построение-точечного-графика-стоимостей-заказов.-4.8\"><span class=\"toc-item-num\">4.8&nbsp;&nbsp;</span>Построение точечного графика стоимостей заказов.</a></span></li><li><span><a href=\"#Расчет-95-й-и-99-й-перцентилей-стоимости-заказов.-Выбор-границы-для-определения-аномальных-заказов.\" data-toc-modified-id=\"Расчет-95-й-и-99-й-перцентилей-стоимости-заказов.-Выбор-границы-для-определения-аномальных-заказов.-4.9\"><span class=\"toc-item-num\">4.9&nbsp;&nbsp;</span>Расчет 95-й и 99-й перцентилей стоимости заказов. Выбор границы для определения аномальных заказов.</a></span></li></ul></li><li><span><a href=\"#Часть-3.-Статистическая-значимость\" data-toc-modified-id=\"Часть-3.-Статистическая-значимость-5\"><span class=\"toc-item-num\">5&nbsp;&nbsp;</span>Часть 3. Статистическая значимость</a></span><ul class=\"toc-item\"><li><span><a href=\"#Расчет-статистической-значимости-различий-в-конверсии-между-группами-по-«сырым»-данным\" data-toc-modified-id=\"Расчет-статистической-значимости-различий-в-конверсии-между-группами-по-«сырым»-данным-5.1\"><span class=\"toc-item-num\">5.1&nbsp;&nbsp;</span>Расчет статистической значимости различий в конверсии между группами по «сырым» данным</a></span></li><li><span><a href=\"#Расчет-статистической-значимости-различий-в-среднем-чеке-заказа-между-группами-по-«сырым»-данным.\" data-toc-modified-id=\"Расчет-статистической-значимости-различий-в-среднем-чеке-заказа-между-группами-по-«сырым»-данным.-5.2\"><span class=\"toc-item-num\">5.2&nbsp;&nbsp;</span>Расчет статистической значимости различий в среднем чеке заказа между группами по «сырым» данным.</a></span></li><li><span><a href=\"#Расчет-статистической-значимости-различий-в-конверсии-между-группами-по-«очищенным»-данным.\" data-toc-modified-id=\"Расчет-статистической-значимости-различий-в-конверсии-между-группами-по-«очищенным»-данным.-5.3\"><span class=\"toc-item-num\">5.3&nbsp;&nbsp;</span>Расчет статистической значимости различий в конверсии между группами по «очищенным» данным.</a></span></li><li><span><a href=\"#Расчет-статистической-значимости-различий-в-среднем-чеке-заказа-между-группами-по-«очищенным»-данным.\" data-toc-modified-id=\"Расчет-статистической-значимости-различий-в-среднем-чеке-заказа-между-группами-по-«очищенным»-данным.-5.4\"><span class=\"toc-item-num\">5.4&nbsp;&nbsp;</span>Расчет статистической значимости различий в среднем чеке заказа между группами по «очищенным» данным.</a></span></li><li><span><a href=\"#Принятие-решения-по-результатам-теста.\" data-toc-modified-id=\"Принятие-решения-по-результатам-теста.-5.5\"><span class=\"toc-item-num\">5.5&nbsp;&nbsp;</span>Принятие решения по результатам теста.</a></span></li></ul></li><li><span><a href=\"#Вывод\" data-toc-modified-id=\"Вывод-6\"><span class=\"toc-item-num\">6&nbsp;&nbsp;</span>Вывод</a></span></li></ul></div>"
   ]
  },
  {
   "cell_type": "markdown",
   "metadata": {},
   "source": [
    "# Проверка гипотез по увеличению выручки в интернет-магазине"
   ]
  },
  {
   "cell_type": "markdown",
   "metadata": {},
   "source": [
    "## Описание проекта"
   ]
  },
  {
   "cell_type": "markdown",
   "metadata": {},
   "source": [
    "**Контекст**\n",
    "\n",
    "Вы — аналитик крупного интернет-магазина. Вместе с отделом маркетинга вы подготовили список гипотез для увеличения выручки.\n",
    "Приоритизируйте гипотезы, запустите A/B-тест и проанализируйте результаты.\n",
    "\n",
    "**Описание данных**\n",
    "\n",
    "Данные для первой части:\n",
    "\n",
    "Файл /datasets/hypothesis.csv\n",
    "\n",
    "* **Hypothesis** — краткое описание гипотезы;\n",
    "* **Reach** — охват пользователей по 10-балльной шкале;\n",
    "* **Impact** — влияние на пользователей по 10-балльной шкале;\n",
    "* **Confidence** — уверенность в гипотезе по 10-балльной шкале;\n",
    "* **Efforts** — затраты ресурсов на проверку гипотезы по 10-балльной шкале. Чем больше значение Efforts, тем дороже проверка гипотезы.\n",
    "\n",
    "Данные для второй части\n",
    "\n",
    "Файл /datasets/orders.csv\n",
    "\n",
    "\n",
    "* **transactionId** — идентификатор заказа;\n",
    "* **visitorId** — идентификатор пользователя, совершившего заказ;\n",
    "* **date** — дата, когда был совершён заказ;\n",
    "* **revenue** — выручка заказа;\n",
    "* **group** — группа A/B-теста, в которую попал заказ.\n",
    "\n",
    "Файл /datasets/visitors.csv. Скачать датасет\n",
    "\n",
    "\n",
    "* **date** — дата;\n",
    "* **group** — группа A/B-теста;\n",
    "* **visitors** — количество пользователей в указанную дату в указанной группе A/B-теста"
   ]
  },
  {
   "cell_type": "markdown",
   "metadata": {},
   "source": [
    "## Изучение данных"
   ]
  },
  {
   "cell_type": "code",
   "execution_count": 1,
   "metadata": {},
   "outputs": [],
   "source": [
    "import warnings\n",
    "warnings.filterwarnings('ignore')#скрытие предупреждений\n",
    "\n",
    "import pandas as pd\n",
    "import numpy as np\n",
    "import math\n",
    "import datetime as dt\n",
    "import matplotlib.pyplot as plt\n",
    "from pandas.plotting import register_matplotlib_converters\n",
    "from scipy import stats as st\n",
    "import seaborn as sns\n",
    "import plotly.graph_objs as go\n",
    "\n",
    "\n",
    "#сокращение количества цифр после запятой\n",
    "pd.set_option('display.precision',2)"
   ]
  },
  {
   "cell_type": "code",
   "execution_count": 2,
   "metadata": {},
   "outputs": [],
   "source": [
    "# загрузка таблиц\n",
    "hypothesis = pd.read_csv('/datasets/hypothesis.csv')\n",
    "orders = pd.read_csv('/datasets/orders.csv')\n",
    "visitors = pd.read_csv('/datasets/visitors.csv')\n"
   ]
  },
  {
   "cell_type": "code",
   "execution_count": 3,
   "metadata": {},
   "outputs": [],
   "source": [
    "#Напишу функцию для просмотра основных сведений о таблице\n",
    "def table_info(table):\n",
    "    \n",
    "    display(table.head(10))\n",
    "    display(table.info())\n",
    "    display(table.describe())\n",
    "    print('Явных дубликатов в таблице:', table.duplicated().sum())\n",
    "    \n",
    "    return table_info\n"
   ]
  },
  {
   "cell_type": "code",
   "execution_count": 4,
   "metadata": {
    "scrolled": true
   },
   "outputs": [
    {
     "data": {
      "text/html": [
       "<div>\n",
       "<style scoped>\n",
       "    .dataframe tbody tr th:only-of-type {\n",
       "        vertical-align: middle;\n",
       "    }\n",
       "\n",
       "    .dataframe tbody tr th {\n",
       "        vertical-align: top;\n",
       "    }\n",
       "\n",
       "    .dataframe thead th {\n",
       "        text-align: right;\n",
       "    }\n",
       "</style>\n",
       "<table border=\"1\" class=\"dataframe\">\n",
       "  <thead>\n",
       "    <tr style=\"text-align: right;\">\n",
       "      <th></th>\n",
       "      <th>Hypothesis</th>\n",
       "      <th>Reach</th>\n",
       "      <th>Impact</th>\n",
       "      <th>Confidence</th>\n",
       "      <th>Efforts</th>\n",
       "    </tr>\n",
       "  </thead>\n",
       "  <tbody>\n",
       "    <tr>\n",
       "      <th>0</th>\n",
       "      <td>Добавить два новых канала привлечения трафика,...</td>\n",
       "      <td>3</td>\n",
       "      <td>10</td>\n",
       "      <td>8</td>\n",
       "      <td>6</td>\n",
       "    </tr>\n",
       "    <tr>\n",
       "      <th>1</th>\n",
       "      <td>Запустить собственную службу доставки, что сок...</td>\n",
       "      <td>2</td>\n",
       "      <td>5</td>\n",
       "      <td>4</td>\n",
       "      <td>10</td>\n",
       "    </tr>\n",
       "    <tr>\n",
       "      <th>2</th>\n",
       "      <td>Добавить блоки рекомендаций товаров на сайт ин...</td>\n",
       "      <td>8</td>\n",
       "      <td>3</td>\n",
       "      <td>7</td>\n",
       "      <td>3</td>\n",
       "    </tr>\n",
       "    <tr>\n",
       "      <th>3</th>\n",
       "      <td>Изменить структура категорий, что увеличит кон...</td>\n",
       "      <td>8</td>\n",
       "      <td>3</td>\n",
       "      <td>3</td>\n",
       "      <td>8</td>\n",
       "    </tr>\n",
       "    <tr>\n",
       "      <th>4</th>\n",
       "      <td>Изменить цвет фона главной страницы, чтобы уве...</td>\n",
       "      <td>3</td>\n",
       "      <td>1</td>\n",
       "      <td>1</td>\n",
       "      <td>1</td>\n",
       "    </tr>\n",
       "    <tr>\n",
       "      <th>5</th>\n",
       "      <td>Добавить страницу отзывов клиентов о магазине,...</td>\n",
       "      <td>3</td>\n",
       "      <td>2</td>\n",
       "      <td>2</td>\n",
       "      <td>3</td>\n",
       "    </tr>\n",
       "    <tr>\n",
       "      <th>6</th>\n",
       "      <td>Показать на главной странице баннеры с актуаль...</td>\n",
       "      <td>5</td>\n",
       "      <td>3</td>\n",
       "      <td>8</td>\n",
       "      <td>3</td>\n",
       "    </tr>\n",
       "    <tr>\n",
       "      <th>7</th>\n",
       "      <td>Добавить форму подписки на все основные страни...</td>\n",
       "      <td>10</td>\n",
       "      <td>7</td>\n",
       "      <td>8</td>\n",
       "      <td>5</td>\n",
       "    </tr>\n",
       "    <tr>\n",
       "      <th>8</th>\n",
       "      <td>Запустить акцию, дающую скидку на товар в день...</td>\n",
       "      <td>1</td>\n",
       "      <td>9</td>\n",
       "      <td>9</td>\n",
       "      <td>5</td>\n",
       "    </tr>\n",
       "  </tbody>\n",
       "</table>\n",
       "</div>"
      ],
      "text/plain": [
       "                                          Hypothesis  Reach  Impact  \\\n",
       "0  Добавить два новых канала привлечения трафика,...      3      10   \n",
       "1  Запустить собственную службу доставки, что сок...      2       5   \n",
       "2  Добавить блоки рекомендаций товаров на сайт ин...      8       3   \n",
       "3  Изменить структура категорий, что увеличит кон...      8       3   \n",
       "4  Изменить цвет фона главной страницы, чтобы уве...      3       1   \n",
       "5  Добавить страницу отзывов клиентов о магазине,...      3       2   \n",
       "6  Показать на главной странице баннеры с актуаль...      5       3   \n",
       "7  Добавить форму подписки на все основные страни...     10       7   \n",
       "8  Запустить акцию, дающую скидку на товар в день...      1       9   \n",
       "\n",
       "   Confidence  Efforts  \n",
       "0           8        6  \n",
       "1           4       10  \n",
       "2           7        3  \n",
       "3           3        8  \n",
       "4           1        1  \n",
       "5           2        3  \n",
       "6           8        3  \n",
       "7           8        5  \n",
       "8           9        5  "
      ]
     },
     "metadata": {},
     "output_type": "display_data"
    },
    {
     "name": "stdout",
     "output_type": "stream",
     "text": [
      "<class 'pandas.core.frame.DataFrame'>\n",
      "RangeIndex: 9 entries, 0 to 8\n",
      "Data columns (total 5 columns):\n",
      " #   Column      Non-Null Count  Dtype \n",
      "---  ------      --------------  ----- \n",
      " 0   Hypothesis  9 non-null      object\n",
      " 1   Reach       9 non-null      int64 \n",
      " 2   Impact      9 non-null      int64 \n",
      " 3   Confidence  9 non-null      int64 \n",
      " 4   Efforts     9 non-null      int64 \n",
      "dtypes: int64(4), object(1)\n",
      "memory usage: 488.0+ bytes\n"
     ]
    },
    {
     "data": {
      "text/plain": [
       "None"
      ]
     },
     "metadata": {},
     "output_type": "display_data"
    },
    {
     "data": {
      "text/html": [
       "<div>\n",
       "<style scoped>\n",
       "    .dataframe tbody tr th:only-of-type {\n",
       "        vertical-align: middle;\n",
       "    }\n",
       "\n",
       "    .dataframe tbody tr th {\n",
       "        vertical-align: top;\n",
       "    }\n",
       "\n",
       "    .dataframe thead th {\n",
       "        text-align: right;\n",
       "    }\n",
       "</style>\n",
       "<table border=\"1\" class=\"dataframe\">\n",
       "  <thead>\n",
       "    <tr style=\"text-align: right;\">\n",
       "      <th></th>\n",
       "      <th>Reach</th>\n",
       "      <th>Impact</th>\n",
       "      <th>Confidence</th>\n",
       "      <th>Efforts</th>\n",
       "    </tr>\n",
       "  </thead>\n",
       "  <tbody>\n",
       "    <tr>\n",
       "      <th>count</th>\n",
       "      <td>9.00</td>\n",
       "      <td>9.00</td>\n",
       "      <td>9.00</td>\n",
       "      <td>9.00</td>\n",
       "    </tr>\n",
       "    <tr>\n",
       "      <th>mean</th>\n",
       "      <td>4.78</td>\n",
       "      <td>4.78</td>\n",
       "      <td>5.56</td>\n",
       "      <td>4.89</td>\n",
       "    </tr>\n",
       "    <tr>\n",
       "      <th>std</th>\n",
       "      <td>3.15</td>\n",
       "      <td>3.19</td>\n",
       "      <td>3.05</td>\n",
       "      <td>2.80</td>\n",
       "    </tr>\n",
       "    <tr>\n",
       "      <th>min</th>\n",
       "      <td>1.00</td>\n",
       "      <td>1.00</td>\n",
       "      <td>1.00</td>\n",
       "      <td>1.00</td>\n",
       "    </tr>\n",
       "    <tr>\n",
       "      <th>25%</th>\n",
       "      <td>3.00</td>\n",
       "      <td>3.00</td>\n",
       "      <td>3.00</td>\n",
       "      <td>3.00</td>\n",
       "    </tr>\n",
       "    <tr>\n",
       "      <th>50%</th>\n",
       "      <td>3.00</td>\n",
       "      <td>3.00</td>\n",
       "      <td>7.00</td>\n",
       "      <td>5.00</td>\n",
       "    </tr>\n",
       "    <tr>\n",
       "      <th>75%</th>\n",
       "      <td>8.00</td>\n",
       "      <td>7.00</td>\n",
       "      <td>8.00</td>\n",
       "      <td>6.00</td>\n",
       "    </tr>\n",
       "    <tr>\n",
       "      <th>max</th>\n",
       "      <td>10.00</td>\n",
       "      <td>10.00</td>\n",
       "      <td>9.00</td>\n",
       "      <td>10.00</td>\n",
       "    </tr>\n",
       "  </tbody>\n",
       "</table>\n",
       "</div>"
      ],
      "text/plain": [
       "       Reach  Impact  Confidence  Efforts\n",
       "count   9.00    9.00        9.00     9.00\n",
       "mean    4.78    4.78        5.56     4.89\n",
       "std     3.15    3.19        3.05     2.80\n",
       "min     1.00    1.00        1.00     1.00\n",
       "25%     3.00    3.00        3.00     3.00\n",
       "50%     3.00    3.00        7.00     5.00\n",
       "75%     8.00    7.00        8.00     6.00\n",
       "max    10.00   10.00        9.00    10.00"
      ]
     },
     "metadata": {},
     "output_type": "display_data"
    },
    {
     "name": "stdout",
     "output_type": "stream",
     "text": [
      "Явных дубликатов в таблице: 0\n"
     ]
    }
   ],
   "source": [
    "#Информация о таблице hypothesis\n",
    "hypothesis_info = table_info(hypothesis)"
   ]
  },
  {
   "cell_type": "markdown",
   "metadata": {},
   "source": [
    "В таблице **hypothesis** меняем только регистр в названии столбцов. Остальное в порядке, пропусков нет, дубликатов нет."
   ]
  },
  {
   "cell_type": "code",
   "execution_count": 5,
   "metadata": {},
   "outputs": [],
   "source": [
    "#меняю регистр в названии столбцов таблицы hypothesis\n",
    "hypothesis.columns = hypothesis.columns.str.lower()"
   ]
  },
  {
   "cell_type": "code",
   "execution_count": 6,
   "metadata": {
    "scrolled": true
   },
   "outputs": [
    {
     "data": {
      "text/html": [
       "<div>\n",
       "<style scoped>\n",
       "    .dataframe tbody tr th:only-of-type {\n",
       "        vertical-align: middle;\n",
       "    }\n",
       "\n",
       "    .dataframe tbody tr th {\n",
       "        vertical-align: top;\n",
       "    }\n",
       "\n",
       "    .dataframe thead th {\n",
       "        text-align: right;\n",
       "    }\n",
       "</style>\n",
       "<table border=\"1\" class=\"dataframe\">\n",
       "  <thead>\n",
       "    <tr style=\"text-align: right;\">\n",
       "      <th></th>\n",
       "      <th>transactionId</th>\n",
       "      <th>visitorId</th>\n",
       "      <th>date</th>\n",
       "      <th>revenue</th>\n",
       "      <th>group</th>\n",
       "    </tr>\n",
       "  </thead>\n",
       "  <tbody>\n",
       "    <tr>\n",
       "      <th>0</th>\n",
       "      <td>3667963787</td>\n",
       "      <td>3312258926</td>\n",
       "      <td>2019-08-15</td>\n",
       "      <td>1650</td>\n",
       "      <td>B</td>\n",
       "    </tr>\n",
       "    <tr>\n",
       "      <th>1</th>\n",
       "      <td>2804400009</td>\n",
       "      <td>3642806036</td>\n",
       "      <td>2019-08-15</td>\n",
       "      <td>730</td>\n",
       "      <td>B</td>\n",
       "    </tr>\n",
       "    <tr>\n",
       "      <th>2</th>\n",
       "      <td>2961555356</td>\n",
       "      <td>4069496402</td>\n",
       "      <td>2019-08-15</td>\n",
       "      <td>400</td>\n",
       "      <td>A</td>\n",
       "    </tr>\n",
       "    <tr>\n",
       "      <th>3</th>\n",
       "      <td>3797467345</td>\n",
       "      <td>1196621759</td>\n",
       "      <td>2019-08-15</td>\n",
       "      <td>9759</td>\n",
       "      <td>B</td>\n",
       "    </tr>\n",
       "    <tr>\n",
       "      <th>4</th>\n",
       "      <td>2282983706</td>\n",
       "      <td>2322279887</td>\n",
       "      <td>2019-08-15</td>\n",
       "      <td>2308</td>\n",
       "      <td>B</td>\n",
       "    </tr>\n",
       "    <tr>\n",
       "      <th>5</th>\n",
       "      <td>182168103</td>\n",
       "      <td>935554773</td>\n",
       "      <td>2019-08-15</td>\n",
       "      <td>2210</td>\n",
       "      <td>B</td>\n",
       "    </tr>\n",
       "    <tr>\n",
       "      <th>6</th>\n",
       "      <td>398296753</td>\n",
       "      <td>2900797465</td>\n",
       "      <td>2019-08-15</td>\n",
       "      <td>1860</td>\n",
       "      <td>B</td>\n",
       "    </tr>\n",
       "    <tr>\n",
       "      <th>7</th>\n",
       "      <td>2626614568</td>\n",
       "      <td>78758296</td>\n",
       "      <td>2019-08-15</td>\n",
       "      <td>1044</td>\n",
       "      <td>A</td>\n",
       "    </tr>\n",
       "    <tr>\n",
       "      <th>8</th>\n",
       "      <td>1576988021</td>\n",
       "      <td>295230930</td>\n",
       "      <td>2019-08-15</td>\n",
       "      <td>13710</td>\n",
       "      <td>A</td>\n",
       "    </tr>\n",
       "    <tr>\n",
       "      <th>9</th>\n",
       "      <td>1506739906</td>\n",
       "      <td>1882260405</td>\n",
       "      <td>2019-08-15</td>\n",
       "      <td>1855</td>\n",
       "      <td>B</td>\n",
       "    </tr>\n",
       "  </tbody>\n",
       "</table>\n",
       "</div>"
      ],
      "text/plain": [
       "   transactionId   visitorId        date  revenue group\n",
       "0     3667963787  3312258926  2019-08-15     1650     B\n",
       "1     2804400009  3642806036  2019-08-15      730     B\n",
       "2     2961555356  4069496402  2019-08-15      400     A\n",
       "3     3797467345  1196621759  2019-08-15     9759     B\n",
       "4     2282983706  2322279887  2019-08-15     2308     B\n",
       "5      182168103   935554773  2019-08-15     2210     B\n",
       "6      398296753  2900797465  2019-08-15     1860     B\n",
       "7     2626614568    78758296  2019-08-15     1044     A\n",
       "8     1576988021   295230930  2019-08-15    13710     A\n",
       "9     1506739906  1882260405  2019-08-15     1855     B"
      ]
     },
     "metadata": {},
     "output_type": "display_data"
    },
    {
     "name": "stdout",
     "output_type": "stream",
     "text": [
      "<class 'pandas.core.frame.DataFrame'>\n",
      "RangeIndex: 1197 entries, 0 to 1196\n",
      "Data columns (total 5 columns):\n",
      " #   Column         Non-Null Count  Dtype \n",
      "---  ------         --------------  ----- \n",
      " 0   transactionId  1197 non-null   int64 \n",
      " 1   visitorId      1197 non-null   int64 \n",
      " 2   date           1197 non-null   object\n",
      " 3   revenue        1197 non-null   int64 \n",
      " 4   group          1197 non-null   object\n",
      "dtypes: int64(3), object(2)\n",
      "memory usage: 46.9+ KB\n"
     ]
    },
    {
     "data": {
      "text/plain": [
       "None"
      ]
     },
     "metadata": {},
     "output_type": "display_data"
    },
    {
     "data": {
      "text/html": [
       "<div>\n",
       "<style scoped>\n",
       "    .dataframe tbody tr th:only-of-type {\n",
       "        vertical-align: middle;\n",
       "    }\n",
       "\n",
       "    .dataframe tbody tr th {\n",
       "        vertical-align: top;\n",
       "    }\n",
       "\n",
       "    .dataframe thead th {\n",
       "        text-align: right;\n",
       "    }\n",
       "</style>\n",
       "<table border=\"1\" class=\"dataframe\">\n",
       "  <thead>\n",
       "    <tr style=\"text-align: right;\">\n",
       "      <th></th>\n",
       "      <th>transactionId</th>\n",
       "      <th>visitorId</th>\n",
       "      <th>revenue</th>\n",
       "    </tr>\n",
       "  </thead>\n",
       "  <tbody>\n",
       "    <tr>\n",
       "      <th>count</th>\n",
       "      <td>1.20e+03</td>\n",
       "      <td>1.20e+03</td>\n",
       "      <td>1.20e+03</td>\n",
       "    </tr>\n",
       "    <tr>\n",
       "      <th>mean</th>\n",
       "      <td>2.16e+09</td>\n",
       "      <td>2.17e+09</td>\n",
       "      <td>8.35e+03</td>\n",
       "    </tr>\n",
       "    <tr>\n",
       "      <th>std</th>\n",
       "      <td>1.23e+09</td>\n",
       "      <td>1.24e+09</td>\n",
       "      <td>3.92e+04</td>\n",
       "    </tr>\n",
       "    <tr>\n",
       "      <th>min</th>\n",
       "      <td>1.06e+06</td>\n",
       "      <td>5.11e+06</td>\n",
       "      <td>5.00e+01</td>\n",
       "    </tr>\n",
       "    <tr>\n",
       "      <th>25%</th>\n",
       "      <td>1.17e+09</td>\n",
       "      <td>1.11e+09</td>\n",
       "      <td>1.22e+03</td>\n",
       "    </tr>\n",
       "    <tr>\n",
       "      <th>50%</th>\n",
       "      <td>2.15e+09</td>\n",
       "      <td>2.22e+09</td>\n",
       "      <td>2.98e+03</td>\n",
       "    </tr>\n",
       "    <tr>\n",
       "      <th>75%</th>\n",
       "      <td>3.24e+09</td>\n",
       "      <td>3.18e+09</td>\n",
       "      <td>8.29e+03</td>\n",
       "    </tr>\n",
       "    <tr>\n",
       "      <th>max</th>\n",
       "      <td>4.29e+09</td>\n",
       "      <td>4.28e+09</td>\n",
       "      <td>1.29e+06</td>\n",
       "    </tr>\n",
       "  </tbody>\n",
       "</table>\n",
       "</div>"
      ],
      "text/plain": [
       "       transactionId  visitorId   revenue\n",
       "count       1.20e+03   1.20e+03  1.20e+03\n",
       "mean        2.16e+09   2.17e+09  8.35e+03\n",
       "std         1.23e+09   1.24e+09  3.92e+04\n",
       "min         1.06e+06   5.11e+06  5.00e+01\n",
       "25%         1.17e+09   1.11e+09  1.22e+03\n",
       "50%         2.15e+09   2.22e+09  2.98e+03\n",
       "75%         3.24e+09   3.18e+09  8.29e+03\n",
       "max         4.29e+09   4.28e+09  1.29e+06"
      ]
     },
     "metadata": {},
     "output_type": "display_data"
    },
    {
     "name": "stdout",
     "output_type": "stream",
     "text": [
      "Явных дубликатов в таблице: 0\n"
     ]
    }
   ],
   "source": [
    "#Информация о таблице orders\n",
    "orders_info =  table_info(orders)"
   ]
  },
  {
   "cell_type": "markdown",
   "metadata": {},
   "source": [
    "В таблице **orders** требует замены только формат даты. Остальное в порядке, пропусков нет, дубликатов нет."
   ]
  },
  {
   "cell_type": "code",
   "execution_count": 7,
   "metadata": {},
   "outputs": [],
   "source": [
    "#Замена типа данных даты на корректный\n",
    "orders['date'] = pd.to_datetime(orders['date'], format='%Y-%m-%d')"
   ]
  },
  {
   "cell_type": "code",
   "execution_count": 8,
   "metadata": {
    "scrolled": true
   },
   "outputs": [
    {
     "data": {
      "text/html": [
       "<div>\n",
       "<style scoped>\n",
       "    .dataframe tbody tr th:only-of-type {\n",
       "        vertical-align: middle;\n",
       "    }\n",
       "\n",
       "    .dataframe tbody tr th {\n",
       "        vertical-align: top;\n",
       "    }\n",
       "\n",
       "    .dataframe thead th {\n",
       "        text-align: right;\n",
       "    }\n",
       "</style>\n",
       "<table border=\"1\" class=\"dataframe\">\n",
       "  <thead>\n",
       "    <tr style=\"text-align: right;\">\n",
       "      <th></th>\n",
       "      <th>date</th>\n",
       "      <th>group</th>\n",
       "      <th>visitors</th>\n",
       "    </tr>\n",
       "  </thead>\n",
       "  <tbody>\n",
       "    <tr>\n",
       "      <th>0</th>\n",
       "      <td>2019-08-01</td>\n",
       "      <td>A</td>\n",
       "      <td>719</td>\n",
       "    </tr>\n",
       "    <tr>\n",
       "      <th>1</th>\n",
       "      <td>2019-08-02</td>\n",
       "      <td>A</td>\n",
       "      <td>619</td>\n",
       "    </tr>\n",
       "    <tr>\n",
       "      <th>2</th>\n",
       "      <td>2019-08-03</td>\n",
       "      <td>A</td>\n",
       "      <td>507</td>\n",
       "    </tr>\n",
       "    <tr>\n",
       "      <th>3</th>\n",
       "      <td>2019-08-04</td>\n",
       "      <td>A</td>\n",
       "      <td>717</td>\n",
       "    </tr>\n",
       "    <tr>\n",
       "      <th>4</th>\n",
       "      <td>2019-08-05</td>\n",
       "      <td>A</td>\n",
       "      <td>756</td>\n",
       "    </tr>\n",
       "    <tr>\n",
       "      <th>5</th>\n",
       "      <td>2019-08-06</td>\n",
       "      <td>A</td>\n",
       "      <td>667</td>\n",
       "    </tr>\n",
       "    <tr>\n",
       "      <th>6</th>\n",
       "      <td>2019-08-07</td>\n",
       "      <td>A</td>\n",
       "      <td>644</td>\n",
       "    </tr>\n",
       "    <tr>\n",
       "      <th>7</th>\n",
       "      <td>2019-08-08</td>\n",
       "      <td>A</td>\n",
       "      <td>610</td>\n",
       "    </tr>\n",
       "    <tr>\n",
       "      <th>8</th>\n",
       "      <td>2019-08-09</td>\n",
       "      <td>A</td>\n",
       "      <td>617</td>\n",
       "    </tr>\n",
       "    <tr>\n",
       "      <th>9</th>\n",
       "      <td>2019-08-10</td>\n",
       "      <td>A</td>\n",
       "      <td>406</td>\n",
       "    </tr>\n",
       "  </tbody>\n",
       "</table>\n",
       "</div>"
      ],
      "text/plain": [
       "         date group  visitors\n",
       "0  2019-08-01     A       719\n",
       "1  2019-08-02     A       619\n",
       "2  2019-08-03     A       507\n",
       "3  2019-08-04     A       717\n",
       "4  2019-08-05     A       756\n",
       "5  2019-08-06     A       667\n",
       "6  2019-08-07     A       644\n",
       "7  2019-08-08     A       610\n",
       "8  2019-08-09     A       617\n",
       "9  2019-08-10     A       406"
      ]
     },
     "metadata": {},
     "output_type": "display_data"
    },
    {
     "name": "stdout",
     "output_type": "stream",
     "text": [
      "<class 'pandas.core.frame.DataFrame'>\n",
      "RangeIndex: 62 entries, 0 to 61\n",
      "Data columns (total 3 columns):\n",
      " #   Column    Non-Null Count  Dtype \n",
      "---  ------    --------------  ----- \n",
      " 0   date      62 non-null     object\n",
      " 1   group     62 non-null     object\n",
      " 2   visitors  62 non-null     int64 \n",
      "dtypes: int64(1), object(2)\n",
      "memory usage: 1.6+ KB\n"
     ]
    },
    {
     "data": {
      "text/plain": [
       "None"
      ]
     },
     "metadata": {},
     "output_type": "display_data"
    },
    {
     "data": {
      "text/html": [
       "<div>\n",
       "<style scoped>\n",
       "    .dataframe tbody tr th:only-of-type {\n",
       "        vertical-align: middle;\n",
       "    }\n",
       "\n",
       "    .dataframe tbody tr th {\n",
       "        vertical-align: top;\n",
       "    }\n",
       "\n",
       "    .dataframe thead th {\n",
       "        text-align: right;\n",
       "    }\n",
       "</style>\n",
       "<table border=\"1\" class=\"dataframe\">\n",
       "  <thead>\n",
       "    <tr style=\"text-align: right;\">\n",
       "      <th></th>\n",
       "      <th>visitors</th>\n",
       "    </tr>\n",
       "  </thead>\n",
       "  <tbody>\n",
       "    <tr>\n",
       "      <th>count</th>\n",
       "      <td>62.00</td>\n",
       "    </tr>\n",
       "    <tr>\n",
       "      <th>mean</th>\n",
       "      <td>607.29</td>\n",
       "    </tr>\n",
       "    <tr>\n",
       "      <th>std</th>\n",
       "      <td>114.40</td>\n",
       "    </tr>\n",
       "    <tr>\n",
       "      <th>min</th>\n",
       "      <td>361.00</td>\n",
       "    </tr>\n",
       "    <tr>\n",
       "      <th>25%</th>\n",
       "      <td>534.00</td>\n",
       "    </tr>\n",
       "    <tr>\n",
       "      <th>50%</th>\n",
       "      <td>624.50</td>\n",
       "    </tr>\n",
       "    <tr>\n",
       "      <th>75%</th>\n",
       "      <td>710.50</td>\n",
       "    </tr>\n",
       "    <tr>\n",
       "      <th>max</th>\n",
       "      <td>770.00</td>\n",
       "    </tr>\n",
       "  </tbody>\n",
       "</table>\n",
       "</div>"
      ],
      "text/plain": [
       "       visitors\n",
       "count     62.00\n",
       "mean     607.29\n",
       "std      114.40\n",
       "min      361.00\n",
       "25%      534.00\n",
       "50%      624.50\n",
       "75%      710.50\n",
       "max      770.00"
      ]
     },
     "metadata": {},
     "output_type": "display_data"
    },
    {
     "name": "stdout",
     "output_type": "stream",
     "text": [
      "Явных дубликатов в таблице: 0\n"
     ]
    }
   ],
   "source": [
    "#Информация о таблице visitors\n",
    "visitors_info =  table_info(visitors)"
   ]
  },
  {
   "cell_type": "markdown",
   "metadata": {},
   "source": [
    "В таблице **visitors** требует замены только формат даты. Остальное в порядке, пропусков нет, дубликатов нет."
   ]
  },
  {
   "cell_type": "code",
   "execution_count": 9,
   "metadata": {},
   "outputs": [],
   "source": [
    "#Замена типа данных даты на корректный\n",
    "visitors['date'] = pd.to_datetime(visitors['date'], format='%Y-%m-%d')"
   ]
  },
  {
   "cell_type": "code",
   "execution_count": 10,
   "metadata": {},
   "outputs": [
    {
     "name": "stdout",
     "output_type": "stream",
     "text": [
      "<class 'pandas.core.frame.DataFrame'>\n",
      "RangeIndex: 9 entries, 0 to 8\n",
      "Data columns (total 5 columns):\n",
      " #   Column      Non-Null Count  Dtype \n",
      "---  ------      --------------  ----- \n",
      " 0   hypothesis  9 non-null      object\n",
      " 1   reach       9 non-null      int64 \n",
      " 2   impact      9 non-null      int64 \n",
      " 3   confidence  9 non-null      int64 \n",
      " 4   efforts     9 non-null      int64 \n",
      "dtypes: int64(4), object(1)\n",
      "memory usage: 488.0+ bytes\n",
      "<class 'pandas.core.frame.DataFrame'>\n",
      "RangeIndex: 1197 entries, 0 to 1196\n",
      "Data columns (total 5 columns):\n",
      " #   Column         Non-Null Count  Dtype         \n",
      "---  ------         --------------  -----         \n",
      " 0   transactionId  1197 non-null   int64         \n",
      " 1   visitorId      1197 non-null   int64         \n",
      " 2   date           1197 non-null   datetime64[ns]\n",
      " 3   revenue        1197 non-null   int64         \n",
      " 4   group          1197 non-null   object        \n",
      "dtypes: datetime64[ns](1), int64(3), object(1)\n",
      "memory usage: 46.9+ KB\n",
      "<class 'pandas.core.frame.DataFrame'>\n",
      "RangeIndex: 62 entries, 0 to 61\n",
      "Data columns (total 3 columns):\n",
      " #   Column    Non-Null Count  Dtype         \n",
      "---  ------    --------------  -----         \n",
      " 0   date      62 non-null     datetime64[ns]\n",
      " 1   group     62 non-null     object        \n",
      " 2   visitors  62 non-null     int64         \n",
      "dtypes: datetime64[ns](1), int64(1), object(1)\n",
      "memory usage: 1.6+ KB\n"
     ]
    }
   ],
   "source": [
    "#Проверю изменения\n",
    "\n",
    "hypothesis.info()\n",
    "orders.info()\n",
    "visitors.info()"
   ]
  },
  {
   "cell_type": "markdown",
   "metadata": {},
   "source": [
    "### Вывод\n",
    "\n",
    "Была проведена предобработка данных:\n",
    "- Названия столбцов были приведены к единому стилю;\n",
    "- Проведена замена типов данных;\n",
    "- Проведена проверка на пропуски и дубликаты."
   ]
  },
  {
   "cell_type": "markdown",
   "metadata": {},
   "source": [
    "## Часть 1. Приоритизация гипотез."
   ]
  },
  {
   "cell_type": "markdown",
   "metadata": {},
   "source": [
    "Сначала определю приоритет гипотез при помощи фреймворков ICE и RICE.\n",
    "\n",
    "Способы приоритизации задач:\n",
    "- ICE (от англ. impact, confidence, effort / ease «влияние, уверенность, усилия / простота») \n",
    "\n",
    "$ICE =\\frac{impact * confidence}{effort}$\n",
    "\n",
    "- RICE (R от англ. reach, «охват») - модификация фреймворка ICE\n",
    "\n",
    "$RICE =\\frac{reach * impact * confidence}{effort}$\n",
    "                                "
   ]
  },
  {
   "cell_type": "code",
   "execution_count": 11,
   "metadata": {
    "scrolled": false
   },
   "outputs": [
    {
     "data": {
      "text/html": [
       "<div>\n",
       "<style scoped>\n",
       "    .dataframe tbody tr th:only-of-type {\n",
       "        vertical-align: middle;\n",
       "    }\n",
       "\n",
       "    .dataframe tbody tr th {\n",
       "        vertical-align: top;\n",
       "    }\n",
       "\n",
       "    .dataframe thead th {\n",
       "        text-align: right;\n",
       "    }\n",
       "</style>\n",
       "<table border=\"1\" class=\"dataframe\">\n",
       "  <thead>\n",
       "    <tr style=\"text-align: right;\">\n",
       "      <th></th>\n",
       "      <th>hypothesis</th>\n",
       "      <th>ICE</th>\n",
       "    </tr>\n",
       "  </thead>\n",
       "  <tbody>\n",
       "    <tr>\n",
       "      <th>8</th>\n",
       "      <td>Запустить акцию, дающую скидку на товар в день...</td>\n",
       "      <td>16.20</td>\n",
       "    </tr>\n",
       "    <tr>\n",
       "      <th>0</th>\n",
       "      <td>Добавить два новых канала привлечения трафика,...</td>\n",
       "      <td>13.33</td>\n",
       "    </tr>\n",
       "    <tr>\n",
       "      <th>7</th>\n",
       "      <td>Добавить форму подписки на все основные страни...</td>\n",
       "      <td>11.20</td>\n",
       "    </tr>\n",
       "    <tr>\n",
       "      <th>6</th>\n",
       "      <td>Показать на главной странице баннеры с актуаль...</td>\n",
       "      <td>8.00</td>\n",
       "    </tr>\n",
       "    <tr>\n",
       "      <th>2</th>\n",
       "      <td>Добавить блоки рекомендаций товаров на сайт ин...</td>\n",
       "      <td>7.00</td>\n",
       "    </tr>\n",
       "    <tr>\n",
       "      <th>1</th>\n",
       "      <td>Запустить собственную службу доставки, что сок...</td>\n",
       "      <td>2.00</td>\n",
       "    </tr>\n",
       "    <tr>\n",
       "      <th>5</th>\n",
       "      <td>Добавить страницу отзывов клиентов о магазине,...</td>\n",
       "      <td>1.33</td>\n",
       "    </tr>\n",
       "    <tr>\n",
       "      <th>3</th>\n",
       "      <td>Изменить структура категорий, что увеличит кон...</td>\n",
       "      <td>1.12</td>\n",
       "    </tr>\n",
       "    <tr>\n",
       "      <th>4</th>\n",
       "      <td>Изменить цвет фона главной страницы, чтобы уве...</td>\n",
       "      <td>1.00</td>\n",
       "    </tr>\n",
       "  </tbody>\n",
       "</table>\n",
       "</div>"
      ],
      "text/plain": [
       "                                          hypothesis    ICE\n",
       "8  Запустить акцию, дающую скидку на товар в день...  16.20\n",
       "0  Добавить два новых канала привлечения трафика,...  13.33\n",
       "7  Добавить форму подписки на все основные страни...  11.20\n",
       "6  Показать на главной странице баннеры с актуаль...   8.00\n",
       "2  Добавить блоки рекомендаций товаров на сайт ин...   7.00\n",
       "1  Запустить собственную службу доставки, что сок...   2.00\n",
       "5  Добавить страницу отзывов клиентов о магазине,...   1.33\n",
       "3  Изменить структура категорий, что увеличит кон...   1.12\n",
       "4  Изменить цвет фона главной страницы, чтобы уве...   1.00"
      ]
     },
     "metadata": {},
     "output_type": "display_data"
    }
   ],
   "source": [
    "hypothesis['ICE'] = (\n",
    "hypothesis['impact'] * hypothesis['confidence'] / hypothesis['efforts']\n",
    ")\n",
    "display(hypothesis[['hypothesis','ICE']].sort_values(by='ICE', ascending=False))"
   ]
  },
  {
   "cell_type": "markdown",
   "metadata": {},
   "source": [
    "**Наиболее перспективные гипотезы по ICE: 8, 0, 7.**"
   ]
  },
  {
   "cell_type": "code",
   "execution_count": 12,
   "metadata": {
    "scrolled": true
   },
   "outputs": [
    {
     "data": {
      "text/html": [
       "<div>\n",
       "<style scoped>\n",
       "    .dataframe tbody tr th:only-of-type {\n",
       "        vertical-align: middle;\n",
       "    }\n",
       "\n",
       "    .dataframe tbody tr th {\n",
       "        vertical-align: top;\n",
       "    }\n",
       "\n",
       "    .dataframe thead th {\n",
       "        text-align: right;\n",
       "    }\n",
       "</style>\n",
       "<table border=\"1\" class=\"dataframe\">\n",
       "  <thead>\n",
       "    <tr style=\"text-align: right;\">\n",
       "      <th></th>\n",
       "      <th>hypothesis</th>\n",
       "      <th>RICE</th>\n",
       "      <th>reach</th>\n",
       "    </tr>\n",
       "  </thead>\n",
       "  <tbody>\n",
       "    <tr>\n",
       "      <th>7</th>\n",
       "      <td>Добавить форму подписки на все основные страни...</td>\n",
       "      <td>112.0</td>\n",
       "      <td>10</td>\n",
       "    </tr>\n",
       "    <tr>\n",
       "      <th>2</th>\n",
       "      <td>Добавить блоки рекомендаций товаров на сайт ин...</td>\n",
       "      <td>56.0</td>\n",
       "      <td>8</td>\n",
       "    </tr>\n",
       "    <tr>\n",
       "      <th>0</th>\n",
       "      <td>Добавить два новых канала привлечения трафика,...</td>\n",
       "      <td>40.0</td>\n",
       "      <td>3</td>\n",
       "    </tr>\n",
       "    <tr>\n",
       "      <th>6</th>\n",
       "      <td>Показать на главной странице баннеры с актуаль...</td>\n",
       "      <td>40.0</td>\n",
       "      <td>5</td>\n",
       "    </tr>\n",
       "    <tr>\n",
       "      <th>8</th>\n",
       "      <td>Запустить акцию, дающую скидку на товар в день...</td>\n",
       "      <td>16.2</td>\n",
       "      <td>1</td>\n",
       "    </tr>\n",
       "    <tr>\n",
       "      <th>3</th>\n",
       "      <td>Изменить структура категорий, что увеличит кон...</td>\n",
       "      <td>9.0</td>\n",
       "      <td>8</td>\n",
       "    </tr>\n",
       "    <tr>\n",
       "      <th>1</th>\n",
       "      <td>Запустить собственную службу доставки, что сок...</td>\n",
       "      <td>4.0</td>\n",
       "      <td>2</td>\n",
       "    </tr>\n",
       "    <tr>\n",
       "      <th>5</th>\n",
       "      <td>Добавить страницу отзывов клиентов о магазине,...</td>\n",
       "      <td>4.0</td>\n",
       "      <td>3</td>\n",
       "    </tr>\n",
       "    <tr>\n",
       "      <th>4</th>\n",
       "      <td>Изменить цвет фона главной страницы, чтобы уве...</td>\n",
       "      <td>3.0</td>\n",
       "      <td>3</td>\n",
       "    </tr>\n",
       "  </tbody>\n",
       "</table>\n",
       "</div>"
      ],
      "text/plain": [
       "                                          hypothesis   RICE  reach\n",
       "7  Добавить форму подписки на все основные страни...  112.0     10\n",
       "2  Добавить блоки рекомендаций товаров на сайт ин...   56.0      8\n",
       "0  Добавить два новых канала привлечения трафика,...   40.0      3\n",
       "6  Показать на главной странице баннеры с актуаль...   40.0      5\n",
       "8  Запустить акцию, дающую скидку на товар в день...   16.2      1\n",
       "3  Изменить структура категорий, что увеличит кон...    9.0      8\n",
       "1  Запустить собственную службу доставки, что сок...    4.0      2\n",
       "5  Добавить страницу отзывов клиентов о магазине,...    4.0      3\n",
       "4  Изменить цвет фона главной страницы, чтобы уве...    3.0      3"
      ]
     },
     "metadata": {},
     "output_type": "display_data"
    }
   ],
   "source": [
    "hypothesis['RICE'] = (\n",
    "hypothesis['reach'] * hypothesis['impact'] * hypothesis['confidence'] / hypothesis['efforts']\n",
    ")\n",
    "display(hypothesis[['hypothesis', 'RICE', 'reach']].sort_values(by='RICE', ascending=False))"
   ]
  },
  {
   "cell_type": "markdown",
   "metadata": {},
   "source": [
    "Кроме силы гипотез, стоит учитывать и то, как много пользователей она затронет (ее \"охват\"). **Наиболее перспективные гипотезы по RICE: 7, 2, 0, 6.** Гипотеза 8 имеет слабый охват, поэтому сдвинулась аж на 5-е место. В то время, как максимальный обхват у 7-й гипотезы вывел ее на первое место."
   ]
  },
  {
   "cell_type": "markdown",
   "metadata": {},
   "source": [
    "### Вывод\n",
    "\n",
    "При использовании фреймворка RICE учитывается не только сила гипотезы, но и ее охват, т.е. скольких пользователей затронет изменение. Для экономии сил и времени важно учитывать охват изменений. Даже при высоком рейтинге по ICE, но небольшом охвате гипотеза может значительно опуститься в приоритете. Чтобы максимизировать ожидаемое улучшение ключевых метрик бизнеса имеет смысл рассматривать только самые приоритетные гипотезы.\n",
    "\n",
    "\n",
    "**Наиболее перспективные гипотезы по RICE: 7, 2, 0, 6.**"
   ]
  },
  {
   "cell_type": "markdown",
   "metadata": {},
   "source": [
    "## Часть 2. Анализ A/B-теста"
   ]
  },
  {
   "cell_type": "markdown",
   "metadata": {},
   "source": []
  },
  {
   "cell_type": "markdown",
   "metadata": {},
   "source": [
    "Перед проведением A/B-теста проверю колличество пользователей в группах A и B. "
   ]
  },
  {
   "cell_type": "code",
   "execution_count": 13,
   "metadata": {
    "scrolled": true
   },
   "outputs": [
    {
     "data": {
      "text/html": [
       "<div>\n",
       "<style scoped>\n",
       "    .dataframe tbody tr th:only-of-type {\n",
       "        vertical-align: middle;\n",
       "    }\n",
       "\n",
       "    .dataframe tbody tr th {\n",
       "        vertical-align: top;\n",
       "    }\n",
       "\n",
       "    .dataframe thead th {\n",
       "        text-align: right;\n",
       "    }\n",
       "</style>\n",
       "<table border=\"1\" class=\"dataframe\">\n",
       "  <thead>\n",
       "    <tr style=\"text-align: right;\">\n",
       "      <th></th>\n",
       "      <th>users_count</th>\n",
       "    </tr>\n",
       "    <tr>\n",
       "      <th>group</th>\n",
       "      <th></th>\n",
       "    </tr>\n",
       "  </thead>\n",
       "  <tbody>\n",
       "    <tr>\n",
       "      <th>A</th>\n",
       "      <td>557</td>\n",
       "    </tr>\n",
       "    <tr>\n",
       "      <th>B</th>\n",
       "      <td>640</td>\n",
       "    </tr>\n",
       "  </tbody>\n",
       "</table>\n",
       "</div>"
      ],
      "text/plain": [
       "       users_count\n",
       "group             \n",
       "A              557\n",
       "B              640"
      ]
     },
     "metadata": {},
     "output_type": "display_data"
    }
   ],
   "source": [
    " #сводная таблица с количеством пользрвателей по группам\n",
    "users_groups  = orders.groupby('group').agg({'visitorId': 'count'})\n",
    "users_groups.columns= ['users_count']\n",
    "display(users_groups)\n",
    "  "
   ]
  },
  {
   "cell_type": "markdown",
   "metadata": {},
   "source": [
    "Разница в размере групп состовляет 15%. Проверю, возможно есть пользователи, вошедшие в обе группы. Сгруппирую таблицу по visitorId и отберу пользователей входящих в обе группы.\n"
   ]
  },
  {
   "cell_type": "code",
   "execution_count": 14,
   "metadata": {
    "scrolled": true
   },
   "outputs": [
    {
     "data": {
      "text/html": [
       "<div>\n",
       "<style scoped>\n",
       "    .dataframe tbody tr th:only-of-type {\n",
       "        vertical-align: middle;\n",
       "    }\n",
       "\n",
       "    .dataframe tbody tr th {\n",
       "        vertical-align: top;\n",
       "    }\n",
       "\n",
       "    .dataframe thead th {\n",
       "        text-align: right;\n",
       "    }\n",
       "</style>\n",
       "<table border=\"1\" class=\"dataframe\">\n",
       "  <thead>\n",
       "    <tr style=\"text-align: right;\">\n",
       "      <th></th>\n",
       "      <th>groups</th>\n",
       "      <th>group_names</th>\n",
       "    </tr>\n",
       "    <tr>\n",
       "      <th>visitorId</th>\n",
       "      <th></th>\n",
       "      <th></th>\n",
       "    </tr>\n",
       "  </thead>\n",
       "  <tbody>\n",
       "    <tr>\n",
       "      <th>8300375</th>\n",
       "      <td>2</td>\n",
       "      <td>[B, A]</td>\n",
       "    </tr>\n",
       "    <tr>\n",
       "      <th>199603092</th>\n",
       "      <td>2</td>\n",
       "      <td>[A, B]</td>\n",
       "    </tr>\n",
       "    <tr>\n",
       "      <th>232979603</th>\n",
       "      <td>2</td>\n",
       "      <td>[B, A]</td>\n",
       "    </tr>\n",
       "    <tr>\n",
       "      <th>237748145</th>\n",
       "      <td>2</td>\n",
       "      <td>[B, A]</td>\n",
       "    </tr>\n",
       "    <tr>\n",
       "      <th>276558944</th>\n",
       "      <td>2</td>\n",
       "      <td>[B, A]</td>\n",
       "    </tr>\n",
       "  </tbody>\n",
       "</table>\n",
       "</div>"
      ],
      "text/plain": [
       "           groups group_names\n",
       "visitorId                    \n",
       "8300375         2      [B, A]\n",
       "199603092       2      [A, B]\n",
       "232979603       2      [B, A]\n",
       "237748145       2      [B, A]\n",
       "276558944       2      [B, A]"
      ]
     },
     "metadata": {},
     "output_type": "display_data"
    },
    {
     "name": "stdout",
     "output_type": "stream",
     "text": [
      "Пользователей, вошедших в обе группы: 58\n"
     ]
    }
   ],
   "source": [
    "#Сводная таблица с пользователями, вошедшими в обе группы.\n",
    "duplicated_users = orders.groupby('visitorId').agg({'group':['nunique', 'unique']})\n",
    "duplicated_users.columns= ['groups', 'group_names']\n",
    "duplicated_users = duplicated_users.query('groups > 1')\n",
    "display(duplicated_users.head())\n",
    "\n",
    "print('Пользователей, вошедших в обе группы:', duplicated_users['groups'].count())"
   ]
  },
  {
   "cell_type": "markdown",
   "metadata": {},
   "source": [
    "**Вывод:**\n",
    "Разница в размере групп состовляет 15%(в группе В на 83 человека больше, при этом 58 из них входят также в группу A). Безусловно, это снижает доверие к тесту. Однако убрать пересекающихся пользователей не получится, так как это повлияет также и на таблицу visits (в которой они также могут быть учтены). Необходимо учесть этот момент, а также сообщить разработчикам о недостаточном качестве предоставленных данных.\n"
   ]
  },
  {
   "cell_type": "markdown",
   "metadata": {},
   "source": [
    "### Построение графика кумулятивной выручки по группам. "
   ]
  },
  {
   "cell_type": "markdown",
   "metadata": {},
   "source": [
    "Сначала соберу кумулятивные данные, это позволит построить графики."
   ]
  },
  {
   "cell_type": "code",
   "execution_count": 15,
   "metadata": {},
   "outputs": [
    {
     "data": {
      "text/html": [
       "<div>\n",
       "<style scoped>\n",
       "    .dataframe tbody tr th:only-of-type {\n",
       "        vertical-align: middle;\n",
       "    }\n",
       "\n",
       "    .dataframe tbody tr th {\n",
       "        vertical-align: top;\n",
       "    }\n",
       "\n",
       "    .dataframe thead th {\n",
       "        text-align: right;\n",
       "    }\n",
       "</style>\n",
       "<table border=\"1\" class=\"dataframe\">\n",
       "  <thead>\n",
       "    <tr style=\"text-align: right;\">\n",
       "      <th></th>\n",
       "      <th>date</th>\n",
       "      <th>group</th>\n",
       "      <th>orders</th>\n",
       "      <th>buyers</th>\n",
       "      <th>revenue</th>\n",
       "      <th>visitors</th>\n",
       "    </tr>\n",
       "  </thead>\n",
       "  <tbody>\n",
       "    <tr>\n",
       "      <th>0</th>\n",
       "      <td>2019-08-01</td>\n",
       "      <td>A</td>\n",
       "      <td>24</td>\n",
       "      <td>20</td>\n",
       "      <td>148579</td>\n",
       "      <td>719</td>\n",
       "    </tr>\n",
       "    <tr>\n",
       "      <th>1</th>\n",
       "      <td>2019-08-01</td>\n",
       "      <td>B</td>\n",
       "      <td>21</td>\n",
       "      <td>20</td>\n",
       "      <td>101217</td>\n",
       "      <td>713</td>\n",
       "    </tr>\n",
       "    <tr>\n",
       "      <th>2</th>\n",
       "      <td>2019-08-02</td>\n",
       "      <td>A</td>\n",
       "      <td>44</td>\n",
       "      <td>38</td>\n",
       "      <td>242401</td>\n",
       "      <td>1338</td>\n",
       "    </tr>\n",
       "    <tr>\n",
       "      <th>3</th>\n",
       "      <td>2019-08-02</td>\n",
       "      <td>B</td>\n",
       "      <td>45</td>\n",
       "      <td>43</td>\n",
       "      <td>266748</td>\n",
       "      <td>1294</td>\n",
       "    </tr>\n",
       "    <tr>\n",
       "      <th>4</th>\n",
       "      <td>2019-08-03</td>\n",
       "      <td>A</td>\n",
       "      <td>68</td>\n",
       "      <td>62</td>\n",
       "      <td>354874</td>\n",
       "      <td>1845</td>\n",
       "    </tr>\n",
       "  </tbody>\n",
       "</table>\n",
       "</div>"
      ],
      "text/plain": [
       "        date group  orders  buyers  revenue  visitors\n",
       "0 2019-08-01     A      24      20   148579       719\n",
       "1 2019-08-01     B      21      20   101217       713\n",
       "2 2019-08-02     A      44      38   242401      1338\n",
       "3 2019-08-02     B      45      43   266748      1294\n",
       "4 2019-08-03     A      68      62   354874      1845"
      ]
     },
     "metadata": {},
     "output_type": "display_data"
    }
   ],
   "source": [
    "# массив уникальных пар значений дат и групп теста\n",
    "datesGroups = orders[['date', 'group']].drop_duplicates()\n",
    "\n",
    "# агрегированные кумулятивные по дням данные  о заказах \n",
    "ordersAggregated = datesGroups.apply(\n",
    "    lambda x: orders[\n",
    "        np.logical_and(\n",
    "            orders['date'] <= x['date'], orders['group'] == x['group']\n",
    "        )\n",
    "    ].agg(\n",
    "        {\n",
    "            'date': 'max',\n",
    "            'group': 'max',\n",
    "            'transactionId': 'nunique',\n",
    "            'visitorId': 'nunique',\n",
    "            'revenue': 'sum',\n",
    "        }\n",
    "    ),\n",
    "    axis=1,\n",
    ").sort_values(by=['date', 'group'])\n",
    "\n",
    "# агрегированные кумулятивные по дням данные о посетителях\n",
    "visitorsAggregated = datesGroups.apply(\n",
    "    lambda x: visitors[\n",
    "        np.logical_and(\n",
    "            visitors['date'] <= x['date'], visitors['group'] == x['group']\n",
    "        )\n",
    "    ].agg({'date': 'max', 'group': 'max', 'visitors': 'sum'}),\n",
    "    axis=1,\n",
    ").sort_values(by=['date', 'group'])\n",
    "\n",
    "# объединю кумулятивные данные в одной таблице и присвою ее столбцам понятные названия\n",
    "cumulativeData = ordersAggregated.merge(\n",
    "    visitorsAggregated, left_on=['date', 'group'], right_on=['date', 'group']\n",
    ")\n",
    "cumulativeData.columns = [\n",
    "    'date',\n",
    "    'group',\n",
    "    'orders',\n",
    "    'buyers',\n",
    "    'revenue',\n",
    "    'visitors',\n",
    "]\n",
    "\n",
    "display(cumulativeData.head())"
   ]
  },
  {
   "cell_type": "markdown",
   "metadata": {},
   "source": [
    "Таблица готова, теперь можно построить графики кумулятивной выручки по дням и группам A/B-тестирования:"
   ]
  },
  {
   "cell_type": "code",
   "execution_count": 16,
   "metadata": {},
   "outputs": [],
   "source": [
    "# датафрейм с кумулятивным количеством заказов и кумулятивной выручкой по дням в группе А\n",
    "cumulativeRevenueA = cumulativeData[cumulativeData['group']=='A'][['date','revenue', 'orders']]\n",
    "# датафрейм с кумулятивным количеством заказов и кумулятивной выручкой по дням в группе B\n",
    "cumulativeRevenueB = cumulativeData[cumulativeData['group']=='B'][['date','revenue', 'orders']]\n",
    "\n"
   ]
  },
  {
   "cell_type": "code",
   "execution_count": 17,
   "metadata": {
    "scrolled": true
   },
   "outputs": [
    {
     "data": {
      "text/plain": [
       "<matplotlib.legend.Legend at 0x7f937d2b9c70>"
      ]
     },
     "execution_count": 17,
     "metadata": {},
     "output_type": "execute_result"
    },
    {
     "data": {
      "image/png": "[encoded data removed]",
      "text/plain": [
       "<Figure size 720x360 with 1 Axes>"
      ]
     },
     "metadata": {
      "needs_background": "light"
     },
     "output_type": "display_data"
    }
   ],
   "source": [
    "plt.figure(figsize=(10, 5))\n",
    "# график выручки группы А\n",
    "plt.plot(cumulativeRevenueA['date'], cumulativeRevenueA['revenue'], label='A')\n",
    "\n",
    "# график выручки группы B\n",
    "plt.plot(cumulativeRevenueB['date'], cumulativeRevenueB['revenue'], label='B')\n",
    "plt.xticks(rotation=45)\n",
    "plt.grid()\n",
    "plt.title('Кумулятивная выручка по дням и группам A/B-тестирования')\n",
    "plt.legend() "
   ]
  },
  {
   "cell_type": "markdown",
   "metadata": {},
   "source": [
    "**Вывод:**\n",
    "\n",
    "- Выручка по группе А равномерно увеличивается в течение всего теста. \n",
    "- В группе B заметен резкий скачок после 17.08.19. Это может сигнализировать о всплеске числа заказов, либо о появлении очень дорогих заказов в выборке. В дальнейшем нужно будет избавиться от выбросов. \n"
   ]
  },
  {
   "cell_type": "markdown",
   "metadata": {},
   "source": [
    "### Построение графика кумулятивного среднего чека по группам. "
   ]
  },
  {
   "cell_type": "markdown",
   "metadata": {},
   "source": [
    "Далее построю график кумулятивного среднего чека по группам."
   ]
  },
  {
   "cell_type": "code",
   "execution_count": 18,
   "metadata": {
    "scrolled": true
   },
   "outputs": [
    {
     "data": {
      "image/png": "[encoded data removed]",
      "text/plain": [
       "<Figure size 720x360 with 1 Axes>"
      ]
     },
     "metadata": {
      "needs_background": "light"
     },
     "output_type": "display_data"
    }
   ],
   "source": [
    "plt.figure(figsize=(10, 5))\n",
    "plt.plot(cumulativeRevenueA['date'], cumulativeRevenueA['revenue']/cumulativeRevenueA['orders'], label='A')\n",
    "plt.plot(cumulativeRevenueB['date'], cumulativeRevenueB['revenue']/cumulativeRevenueB['orders'], label='B')\n",
    "plt.xticks(rotation=45)\n",
    "plt.grid()\n",
    "plt.title('Кумулятивный средний чек по группам')\n",
    "plt.legend();"
   ]
  },
  {
   "cell_type": "markdown",
   "metadata": {},
   "source": [
    "**Вывод:**\n",
    "- Средний чек становится более-менее равномерным только ближе к середине теста. \n",
    "- Опять заметен резкий скачок по группе В (видимо была совершена крупная покупка), после которого начинается снижение среднего чека по этой группе. \n",
    "- По группе  А средний чек  устанавливается после 13.08.19 и начинает плавно расти.\n",
    "\n"
   ]
  },
  {
   "cell_type": "markdown",
   "metadata": {},
   "source": [
    "### Построение графика относительного изменения кумулятивного среднего чека группы B к группе A. "
   ]
  },
  {
   "cell_type": "markdown",
   "metadata": {},
   "source": [
    "Далее объединю таблицы cumulativeRevenueA и cumulativeRevenueB методом merge() так, чтобы она содержала столбцы: ['date', 'revenueA', 'revenueB', 'ordersA', 'ordersB']. Построю график относительно различия кумулятивного среднего чека группы B к группе A.\n"
   ]
  },
  {
   "cell_type": "code",
   "execution_count": 19,
   "metadata": {
    "scrolled": false
   },
   "outputs": [
    {
     "data": {
      "text/html": [
       "<div>\n",
       "<style scoped>\n",
       "    .dataframe tbody tr th:only-of-type {\n",
       "        vertical-align: middle;\n",
       "    }\n",
       "\n",
       "    .dataframe tbody tr th {\n",
       "        vertical-align: top;\n",
       "    }\n",
       "\n",
       "    .dataframe thead th {\n",
       "        text-align: right;\n",
       "    }\n",
       "</style>\n",
       "<table border=\"1\" class=\"dataframe\">\n",
       "  <thead>\n",
       "    <tr style=\"text-align: right;\">\n",
       "      <th></th>\n",
       "      <th>date</th>\n",
       "      <th>revenueA</th>\n",
       "      <th>ordersA</th>\n",
       "      <th>revenueB</th>\n",
       "      <th>ordersB</th>\n",
       "    </tr>\n",
       "  </thead>\n",
       "  <tbody>\n",
       "    <tr>\n",
       "      <th>0</th>\n",
       "      <td>2019-08-01</td>\n",
       "      <td>148579</td>\n",
       "      <td>24</td>\n",
       "      <td>101217</td>\n",
       "      <td>21</td>\n",
       "    </tr>\n",
       "    <tr>\n",
       "      <th>1</th>\n",
       "      <td>2019-08-02</td>\n",
       "      <td>242401</td>\n",
       "      <td>44</td>\n",
       "      <td>266748</td>\n",
       "      <td>45</td>\n",
       "    </tr>\n",
       "    <tr>\n",
       "      <th>2</th>\n",
       "      <td>2019-08-03</td>\n",
       "      <td>354874</td>\n",
       "      <td>68</td>\n",
       "      <td>380996</td>\n",
       "      <td>61</td>\n",
       "    </tr>\n",
       "    <tr>\n",
       "      <th>3</th>\n",
       "      <td>2019-08-04</td>\n",
       "      <td>425699</td>\n",
       "      <td>84</td>\n",
       "      <td>489567</td>\n",
       "      <td>78</td>\n",
       "    </tr>\n",
       "    <tr>\n",
       "      <th>4</th>\n",
       "      <td>2019-08-05</td>\n",
       "      <td>549917</td>\n",
       "      <td>109</td>\n",
       "      <td>581995</td>\n",
       "      <td>101</td>\n",
       "    </tr>\n",
       "  </tbody>\n",
       "</table>\n",
       "</div>"
      ],
      "text/plain": [
       "        date  revenueA  ordersA  revenueB  ordersB\n",
       "0 2019-08-01    148579       24    101217       21\n",
       "1 2019-08-02    242401       44    266748       45\n",
       "2 2019-08-03    354874       68    380996       61\n",
       "3 2019-08-04    425699       84    489567       78\n",
       "4 2019-08-05    549917      109    581995      101"
      ]
     },
     "metadata": {},
     "output_type": "display_data"
    }
   ],
   "source": [
    "# собираю данные в одном датафрейме\n",
    "mergedCumulativeRevenue = cumulativeRevenueA.merge(cumulativeRevenueB, on='date', how='left', suffixes=['A', 'B'])\n",
    "\n",
    "display(mergedCumulativeRevenue.head())"
   ]
  },
  {
   "cell_type": "code",
   "execution_count": 20,
   "metadata": {},
   "outputs": [
    {
     "data": {
      "image/png": "[encoded data removed]",
      "text/plain": [
       "<Figure size 720x360 with 1 Axes>"
      ]
     },
     "metadata": {
      "needs_background": "light"
     },
     "output_type": "display_data"
    }
   ],
   "source": [
    "plt.figure(figsize=(10, 5))\n",
    "# cтрою отношение средних чеков\n",
    "plt.plot(\n",
    "    mergedCumulativeRevenue['date'], \n",
    "    (mergedCumulativeRevenue['revenueB']/mergedCumulativeRevenue['ordersB'])/(mergedCumulativeRevenue['revenueA']/mergedCumulativeRevenue['ordersA'])-1\n",
    ")\n",
    "\n",
    "# добавляю ось X\n",
    "plt.axhline(y=0, color='grey', linestyle='--') \n",
    "\n",
    "plt.xticks(rotation=45)\n",
    "plt.grid()\n",
    "plt.title('Изменения относительного кумулятивного среднего чека');"
   ]
  },
  {
   "cell_type": "markdown",
   "metadata": {},
   "source": [
    "**Вывод:**\n",
    "\n",
    "График различия между сегментами резко «скачет». Причем выбросы каюжется возможны и в начале тоже, а не только 17.08.19"
   ]
  },
  {
   "cell_type": "markdown",
   "metadata": {},
   "source": [
    "### Построенме графика кумулятивной конверсии по группам. "
   ]
  },
  {
   "cell_type": "markdown",
   "metadata": {},
   "source": [
    "Аналогично проанализирую график кумулятивной конверсии.    \n",
    "Добавлю в cumulativeData столбец 'conversion' c отношением числа заказов к количеству пользователей в указанной группе в указанный день.   \n",
    "В переменныех cumulativeDataA и cumulativeDataB сохраню данные о заказах по сегментам."
   ]
  },
  {
   "cell_type": "code",
   "execution_count": 21,
   "metadata": {},
   "outputs": [],
   "source": [
    "# считаю кумулятивную конверсию\n",
    "cumulativeData['conversion'] = cumulativeData['orders']/cumulativeData['visitors']\n",
    "\n",
    "# данные по группе A\n",
    "cumulativeDataA = cumulativeData[cumulativeData['group']=='A']\n",
    "\n",
    "# данные по группе B\n",
    "cumulativeDataB = cumulativeData[cumulativeData['group']=='B']\n"
   ]
  },
  {
   "cell_type": "code",
   "execution_count": 22,
   "metadata": {
    "scrolled": false
   },
   "outputs": [
    {
     "data": {
      "text/plain": [
       "(18109.0, 18139.0, 0.02, 0.05)"
      ]
     },
     "execution_count": 22,
     "metadata": {},
     "output_type": "execute_result"
    },
    {
     "data": {
      "image/png": "[encoded data removed]",
      "text/plain": [
       "<Figure size 720x360 with 1 Axes>"
      ]
     },
     "metadata": {
      "needs_background": "light"
     },
     "output_type": "display_data"
    }
   ],
   "source": [
    "# строю графики\n",
    "plt.figure(figsize=(10, 5))\n",
    "plt.plot(cumulativeDataA['date'], cumulativeDataA['conversion'], label='A')\n",
    "plt.plot(cumulativeDataB['date'], cumulativeDataB['conversion'], label='B')\n",
    "plt.xticks(rotation=45)\n",
    "plt.grid()\n",
    "plt.title('Кумулятивная конверсия по группам')\n",
    "plt.legend()\n",
    "\n",
    "# задам масштаб осей\n",
    "plt.axis(xmin=cumulativeDataA['date'].min(), xmax=cumulativeDataA['date'].max(), ymin=0.02, ymax=0.05)"
   ]
  },
  {
   "cell_type": "markdown",
   "metadata": {},
   "source": [
    "**Вывод:**\n",
    "В начале теста конверсия по обеим группам прыгает, но постепенно устанавливается. Конверсия  по группе В фиксируется приблизительно около одного значения выше показателей по группе А. "
   ]
  },
  {
   "cell_type": "markdown",
   "metadata": {},
   "source": [
    "### Построение графика относительного изменения кумулятивной конверсии группы B к группе A. "
   ]
  },
  {
   "cell_type": "markdown",
   "metadata": {},
   "source": [
    "Построю график относительного различия кумулятивных конверсий. Для этого сначала объединю таблицы cumulativeDataA и cumulativeDataB.\n"
   ]
  },
  {
   "cell_type": "code",
   "execution_count": 23,
   "metadata": {
    "scrolled": true
   },
   "outputs": [
    {
     "data": {
      "text/html": [
       "<div>\n",
       "<style scoped>\n",
       "    .dataframe tbody tr th:only-of-type {\n",
       "        vertical-align: middle;\n",
       "    }\n",
       "\n",
       "    .dataframe tbody tr th {\n",
       "        vertical-align: top;\n",
       "    }\n",
       "\n",
       "    .dataframe thead th {\n",
       "        text-align: right;\n",
       "    }\n",
       "</style>\n",
       "<table border=\"1\" class=\"dataframe\">\n",
       "  <thead>\n",
       "    <tr style=\"text-align: right;\">\n",
       "      <th></th>\n",
       "      <th>date</th>\n",
       "      <th>conversionA</th>\n",
       "      <th>conversionB</th>\n",
       "    </tr>\n",
       "  </thead>\n",
       "  <tbody>\n",
       "    <tr>\n",
       "      <th>0</th>\n",
       "      <td>2019-08-01</td>\n",
       "      <td>0.03</td>\n",
       "      <td>0.03</td>\n",
       "    </tr>\n",
       "    <tr>\n",
       "      <th>1</th>\n",
       "      <td>2019-08-02</td>\n",
       "      <td>0.03</td>\n",
       "      <td>0.03</td>\n",
       "    </tr>\n",
       "    <tr>\n",
       "      <th>2</th>\n",
       "      <td>2019-08-03</td>\n",
       "      <td>0.04</td>\n",
       "      <td>0.03</td>\n",
       "    </tr>\n",
       "    <tr>\n",
       "      <th>3</th>\n",
       "      <td>2019-08-04</td>\n",
       "      <td>0.03</td>\n",
       "      <td>0.03</td>\n",
       "    </tr>\n",
       "    <tr>\n",
       "      <th>4</th>\n",
       "      <td>2019-08-05</td>\n",
       "      <td>0.03</td>\n",
       "      <td>0.03</td>\n",
       "    </tr>\n",
       "  </tbody>\n",
       "</table>\n",
       "</div>"
      ],
      "text/plain": [
       "        date  conversionA  conversionB\n",
       "0 2019-08-01         0.03         0.03\n",
       "1 2019-08-02         0.03         0.03\n",
       "2 2019-08-03         0.04         0.03\n",
       "3 2019-08-04         0.03         0.03\n",
       "4 2019-08-05         0.03         0.03"
      ]
     },
     "metadata": {},
     "output_type": "display_data"
    }
   ],
   "source": [
    "mergedCumulativeConversions = cumulativeDataA[['date','conversion']].merge(cumulativeDataB[['date','conversion']],\n",
    "                                                                           on='date', how='left', suffixes=['A', 'B'])\n",
    "display(mergedCumulativeConversions.head())"
   ]
  },
  {
   "cell_type": "code",
   "execution_count": 24,
   "metadata": {
    "scrolled": true
   },
   "outputs": [
    {
     "data": {
      "text/plain": [
       "<matplotlib.legend.Legend at 0x7f937cd7a1f0>"
      ]
     },
     "execution_count": 24,
     "metadata": {},
     "output_type": "execute_result"
    },
    {
     "data": {
      "image/png": "[encoded data removed]",
      "text/plain": [
       "<Figure size 720x360 with 1 Axes>"
      ]
     },
     "metadata": {
      "needs_background": "light"
     },
     "output_type": "display_data"
    }
   ],
   "source": [
    "plt.figure(figsize=(10, 5))\n",
    "plt.plot(\n",
    "    mergedCumulativeConversions['date'], \n",
    "    mergedCumulativeConversions['conversionB']/mergedCumulativeConversions['conversionA']-1,\n",
    "    label=\"Относительный прирост конверсии группы B относительно группы A\"\n",
    ")\n",
    "plt.xticks(rotation=45)\n",
    "plt.grid()\n",
    "plt.title('График относительного различия кумулятивной конверсии группы B к группе A')\n",
    "\n",
    "plt.axhline(y=0.0, color='grey', linestyle='-.')\n",
    "plt.axhline(y=0.15, color='black', linestyle='--')\n",
    "\n",
    "plt.legend()\n"
   ]
  },
  {
   "cell_type": "markdown",
   "metadata": {},
   "source": [
    "**Вывод:**\n",
    "Почти с начала теста группа В лидирует по конверсии. Прирост конверсии группы В колеблится около 15% относительно группы А."
   ]
  },
  {
   "cell_type": "markdown",
   "metadata": {},
   "source": [
    "### Построение точечного графика количества заказов по пользователям."
   ]
  },
  {
   "cell_type": "markdown",
   "metadata": {},
   "source": [
    "Проведу анализ выбросов и всплесков.  \n",
    "\n"
   ]
  },
  {
   "cell_type": "code",
   "execution_count": 25,
   "metadata": {},
   "outputs": [
    {
     "data": {
      "text/html": [
       "<div>\n",
       "<style scoped>\n",
       "    .dataframe tbody tr th:only-of-type {\n",
       "        vertical-align: middle;\n",
       "    }\n",
       "\n",
       "    .dataframe tbody tr th {\n",
       "        vertical-align: top;\n",
       "    }\n",
       "\n",
       "    .dataframe thead th {\n",
       "        text-align: right;\n",
       "    }\n",
       "</style>\n",
       "<table border=\"1\" class=\"dataframe\">\n",
       "  <thead>\n",
       "    <tr style=\"text-align: right;\">\n",
       "      <th></th>\n",
       "      <th>userId</th>\n",
       "      <th>orders</th>\n",
       "    </tr>\n",
       "  </thead>\n",
       "  <tbody>\n",
       "    <tr>\n",
       "      <th>0</th>\n",
       "      <td>5114589</td>\n",
       "      <td>1</td>\n",
       "    </tr>\n",
       "    <tr>\n",
       "      <th>1</th>\n",
       "      <td>6958315</td>\n",
       "      <td>1</td>\n",
       "    </tr>\n",
       "    <tr>\n",
       "      <th>2</th>\n",
       "      <td>8300375</td>\n",
       "      <td>2</td>\n",
       "    </tr>\n",
       "    <tr>\n",
       "      <th>3</th>\n",
       "      <td>11685486</td>\n",
       "      <td>1</td>\n",
       "    </tr>\n",
       "    <tr>\n",
       "      <th>4</th>\n",
       "      <td>39475350</td>\n",
       "      <td>1</td>\n",
       "    </tr>\n",
       "  </tbody>\n",
       "</table>\n",
       "</div>"
      ],
      "text/plain": [
       "     userId  orders\n",
       "0   5114589       1\n",
       "1   6958315       1\n",
       "2   8300375       2\n",
       "3  11685486       1\n",
       "4  39475350       1"
      ]
     },
     "metadata": {},
     "output_type": "display_data"
    }
   ],
   "source": [
    "#Создам таблицу с числом заказов по пользователям\n",
    "ordersByUsers =  orders.drop(['group', 'revenue', 'date'], axis=1).groupby('visitorId', as_index=False).agg({'transactionId' : pd.Series.nunique})\n",
    "ordersByUsers.columns = ['userId', 'orders']\n",
    "ordersByUsers.sort_values(by='orders',ascending=False)\n",
    "display(ordersByUsers.head())"
   ]
  },
  {
   "cell_type": "code",
   "execution_count": 26,
   "metadata": {
    "scrolled": false
   },
   "outputs": [
    {
     "data": {
      "text/plain": [
       "Text(0.5, 1.0, 'Точечный график количества заказов на пользователя')"
      ]
     },
     "execution_count": 26,
     "metadata": {},
     "output_type": "execute_result"
    },
    {
     "data": {
      "image/png": "[encoded data removed]",
      "text/plain": [
       "<Figure size 432x288 with 1 Axes>"
      ]
     },
     "metadata": {
      "needs_background": "light"
     },
     "output_type": "display_data"
    }
   ],
   "source": [
    "# серия из чисел от 0 до количества наблюдений в ordersByUsers\n",
    "x_values = pd.Series(range(0, len(ordersByUsers)))\n",
    "# строю точечный график количества заказов \n",
    "plt.scatter(x_values, ordersByUsers['orders']) \n",
    "plt.grid()\n",
    "plt.title('Точечный график количества заказов на пользователя')"
   ]
  },
  {
   "cell_type": "markdown",
   "metadata": {},
   "source": [
    "**Вывод:**\n",
    "По графику видно, что пользоватлей, сделавших более 2х заказов совсем немного. Возможно это выбросы. Необходимо посчитать выборочные перцентили и определить границу  аномальных пользователей."
   ]
  },
  {
   "cell_type": "markdown",
   "metadata": {},
   "source": [
    "### Расчет 95-го и 99-го перцентилей количества заказов на пользователя. Выбор границы для определения аномальных пользователей."
   ]
  },
  {
   "cell_type": "markdown",
   "metadata": {},
   "source": [
    "Для подсчёта перцентилей применю метод percentile() и определю границу для определения аномальных пользователей."
   ]
  },
  {
   "cell_type": "code",
   "execution_count": 27,
   "metadata": {
    "scrolled": false
   },
   "outputs": [
    {
     "name": "stdout",
     "output_type": "stream",
     "text": [
      "Перцентили количества заказов на пользователя :\n",
      "95: 2\n",
      "99: 4\n"
     ]
    }
   ],
   "source": [
    "# 95-й и 99-й выборочные перцентили количества заказов по пользователям\n",
    "orders_percentile_95 =  np.percentile(ordersByUsers['orders'], 95)\n",
    "orders_percentile_99 =  np.percentile(ordersByUsers['orders'], 99)  \n",
    "print('Перцентили количества заказов на пользователя :\\n95: {:.0f}\\n99: {:.0f}'.format(orders_percentile_95,orders_percentile_99))\n"
   ]
  },
  {
   "cell_type": "markdown",
   "metadata": {},
   "source": [
    "**Вывод**:\n",
    "Получается, не больше 5% пользоватлей сделали больше 2х заказов и не более 1% больше 4. Полагаясь на график и расчет перцентилей, буду считать аномальными пользователей, сделавших более 2х заказов (95 перцентиль). "
   ]
  },
  {
   "cell_type": "markdown",
   "metadata": {},
   "source": [
    "### Построение точечного графика стоимостей заказов. "
   ]
  },
  {
   "cell_type": "code",
   "execution_count": 28,
   "metadata": {
    "scrolled": false
   },
   "outputs": [
    {
     "data": {
      "text/plain": [
       "Text(0.5, 1.0, 'Точечный график стоимостей заказов')"
      ]
     },
     "execution_count": 28,
     "metadata": {},
     "output_type": "execute_result"
    },
    {
     "data": {
      "image/png": "[encoded data removed]",
      "text/plain": [
       "<Figure size 720x360 with 1 Axes>"
      ]
     },
     "metadata": {
      "needs_background": "light"
     },
     "output_type": "display_data"
    }
   ],
   "source": [
    "plt.figure(figsize=(10, 5))\n",
    "# серия из чисел от 0 до количества наблюдений в orders['revenue']\n",
    "x_values = pd.Series(range(0, len(orders['revenue'])))\n",
    "# строю точечный график стоимостей заказов \n",
    "plt.scatter(x_values, orders['revenue']) \n",
    "plt.grid()\n",
    "plt.title('Точечный график стоимостей заказов')"
   ]
  },
  {
   "cell_type": "markdown",
   "metadata": {},
   "source": [
    "### Расчет 95-й и 99-й перцентилей стоимости заказов. Выбор границы для определения аномальных заказов."
   ]
  },
  {
   "cell_type": "code",
   "execution_count": 29,
   "metadata": {
    "scrolled": true
   },
   "outputs": [
    {
     "name": "stdout",
     "output_type": "stream",
     "text": [
      "Перцентили стоимости заказов:\n",
      "95: 28000\n",
      "99: 58233\n"
     ]
    }
   ],
   "source": [
    "# 95-й и 99-й выборочные перцентили стоимости заказов\n",
    "revenue_percentile_95 =  np.percentile(orders['revenue'], 95)\n",
    "revenue_percentile_99 =  np.percentile(orders['revenue'], 99)  \n",
    "print('Перцентили стоимости заказов:\\n95: {:.0f}\\n99: {:.0f}'.format(revenue_percentile_95,revenue_percentile_99))\n"
   ]
  },
  {
   "cell_type": "markdown",
   "metadata": {},
   "source": [
    "**Вывод:**\n",
    "Получилсь, что только 5% заказов дороже 28000 у.е., буду считать это число границей для определения аномальных заказов."
   ]
  },
  {
   "cell_type": "markdown",
   "metadata": {},
   "source": [
    "## Часть 3. Статистическая значимость\n",
    "\n",
    "Согласно Центральной предельной теореме сумма достаточно большого количества слабо зависимых случайных величин, имеющих примерно одинаковые масштабы имеет распределение, близкое к нормальному. Для проверки гипотиз можно было бы использовать t-критерий Стьюдента, при условии очищения данных от выбросов (t-тест работает со средними, которые при наличии аномалий сдвигаются). Но так как буду проводить проверки по \"сырым\" (без очищения выбросов) и \"очищенным\" данным буду применять U-критерий Манна-Уитни (работает с рангами, никак не учитывая сами значения, поэтому выбросы ему не страшны)."
   ]
  },
  {
   "cell_type": "markdown",
   "metadata": {},
   "source": [
    "### Расчет статистической значимости различий в конверсии между группами по «сырым» данным"
   ]
  },
  {
   "cell_type": "markdown",
   "metadata": {},
   "source": [
    "Посчитаю статистическую значимость различий в конверсии и среднем чеке между группами по «сырым» данным — без удаления аномальных пользователей.\n"
   ]
  },
  {
   "cell_type": "code",
   "execution_count": 30,
   "metadata": {},
   "outputs": [
    {
     "name": "stdout",
     "output_type": "stream",
     "text": [
      "Кол-во покупателей в группе A: 503\n",
      "Кол-во покупок в группе А: 557\n",
      "Кол-во посетителей в группе A: 18736\n",
      "-----------\n",
      "Кол-во покупателей в группе B: 586\n",
      "Кол-во покупок в группе B: 640\n",
      "Кол-во посетителей в группе B: 18916\n"
     ]
    }
   ],
   "source": [
    "#Сгруппирую таблицы с количеством заказов для каждого из пользователей (совершивших хотя бы 1 покупку)\n",
    "ordersByUsersA = orders[orders['group']=='A'].groupby('visitorId', as_index=False).agg({'transactionId':'nunique'})\n",
    "ordersByUsersA.columns = ['visitorId', 'orders']\n",
    "ordersByUsersB = orders[orders['group']=='B'].groupby('visitorId', as_index=False).agg({'transactionId':'nunique'})\n",
    "ordersByUsersB.columns = ['visitorId', 'orders']\n",
    "\n",
    "\n",
    "print('Кол-во покупателей в группе A: {}'.format(len(ordersByUsersA)))\n",
    "print('Кол-во покупок в группе А: {}'.format(ordersByUsersA['orders'].sum()))\n",
    "print('Кол-во посетителей в группе A: {}'.format(visitors[visitors['group']=='A']['visitors'].sum()))\n",
    "print('-----------')\n",
    "print('Кол-во покупателей в группе B: {}'.format(len(ordersByUsersB)))\n",
    "print('Кол-во покупок в группе B: {}'.format(ordersByUsersB['orders'].sum()))\n",
    "print('Кол-во посетителей в группе B: {}'.format(visitors[visitors['group']=='B']['visitors'].sum()))"
   ]
  },
  {
   "cell_type": "code",
   "execution_count": 31,
   "metadata": {},
   "outputs": [],
   "source": [
    "\n",
    "#посетители не сделавшие заказов\n",
    "list_orders_A =[]\n",
    "for i in range(0,(visitors[visitors['group']=='A']['visitors'].sum()-len(ordersByUsersA))):\n",
    "    list_orders_A.append(0)\n",
    "non_purchased_users_A = pd.Series(data = list_orders_A, name = 'orders')\n",
    "\n",
    "list_orders_B =[]\n",
    "for i in range(0,(visitors[visitors['group']=='B']['visitors'].sum()-len(ordersByUsersB))):\n",
    "    list_orders_B.append(0)\n",
    "non_purchased_users_B = pd.Series(data = list_orders_B, name = 'orders')\n",
    "\n",
    "#составляю списки кол-ва заказов sampleA и sampleB со всеми пользователями (в том числе и не купившими) по группам\n",
    "sampleA = pd.concat([ordersByUsersA['orders'], non_purchased_users_A], axis=0)\n",
    "sampleB = pd.concat([ordersByUsersB['orders'], non_purchased_users_B], axis=0)\n"
   ]
  },
  {
   "cell_type": "markdown",
   "metadata": {},
   "source": [
    "Сформулирую нулевую и альтернативную гипотизы:\n",
    "- H0: Конверсии группы А и группы В одинаковы\n",
    "- H1: Конверсии группы А и группы В различаются\n",
    "\n",
    "Задам уровень значимости: alpha = 0.05\n",
    "\n",
    "Посчитаю p-value, используя тест Манна-Уитни из библиотеки scipy для сравнения средних двух выборок.\n",
    "\n",
    "Если p-value будет меньше выбранного уровня значимости alpha = 0.05, то нулевую гипотезу о равенстве конверсий отвергну. В противном случае, сделаю вывод, что данные не позволили отвергнуть нулевую гипотезу."
   ]
  },
  {
   "cell_type": "code",
   "execution_count": 32,
   "metadata": {},
   "outputs": [
    {
     "name": "stdout",
     "output_type": "stream",
     "text": [
      "P-value: 0.01679\n",
      "Средняя конверсия группы А: 3.0%\n",
      "Средняя конверсия группы B: 3.4%\n",
      "Относительный прирост конверсии группы B по отношению к группе A: 13.8%\n",
      "Отвергаем нулевую гипотезу\n"
     ]
    }
   ],
   "source": [
    "alpha = .05\n",
    "\n",
    "results = st.mannwhitneyu(sampleA, sampleB)\n",
    "print('P-value: {:.5f}'.format(results.pvalue))\n",
    "print('Средняя конверсия группы А: {:.1%}'.format(sampleA.mean()))\n",
    "print('Средняя конверсия группы B: {:.1%}'.format(sampleB.mean()))\n",
    "print('Относительный прирост конверсии группы B по отношению к группе A: {:.1%}'.format(sampleB.mean()/sampleA.mean()-1))\n",
    "\n",
    "\n",
    "if results.pvalue < alpha:\n",
    "    print('Отвергаем нулевую гипотезу')\n",
    "else:\n",
    "    print('Не получилось отвергнуть нулевую гипотезу')"
   ]
  },
  {
   "cell_type": "markdown",
   "metadata": {},
   "source": [
    "**Вывод:**\n",
    "p-value получилось меньше выбранного уровня значимости (alpha = 0.05). Отвергаем нулевую гипотезу о равенстве средних конверсий. **По неочищенным данным разница конверсий групп A и B статистически значима.**"
   ]
  },
  {
   "cell_type": "markdown",
   "metadata": {},
   "source": [
    "### Расчет статистической значимости различий в среднем чеке заказа между группами по «сырым» данным."
   ]
  },
  {
   "cell_type": "markdown",
   "metadata": {},
   "source": [
    "Далее изучим различие среднего чека по сырым данным.\n",
    "\n",
    "Сформулирую нулевую и альтернативную гипотизы:\n",
    "- H0: Средний чек группы А и группы В одинаковы\n",
    "- H1: Средний чек группы А и группы В различаются\n",
    "\n",
    "Задам уровень значимости: alpha = 0.05"
   ]
  },
  {
   "cell_type": "code",
   "execution_count": 33,
   "metadata": {
    "scrolled": true
   },
   "outputs": [
    {
     "name": "stdout",
     "output_type": "stream",
     "text": [
      "P-value: 0.72929\n",
      "Средний чек группы А: 7334\n",
      "Средний чек группы B: 9231\n",
      "Относительное изменение среднего чека в группе B по отношению группы A: 25.9%\n",
      "Не получилось отвергнуть нулевую гипотезу\n"
     ]
    }
   ],
   "source": [
    "alpha = .05\n",
    "results = st.mannwhitneyu(orders[orders['group']=='A']['revenue'], orders[orders['group']=='B']['revenue'])\n",
    "print('P-value: {:.5f}'.format(results.pvalue))\n",
    "\n",
    "print('Средний чек группы А: {:.0f}'.format(orders[orders['group']=='A']['revenue'].mean()))\n",
    "print('Средний чек группы B: {:.0f}'.format(orders[orders['group']=='B']['revenue'].mean()))\n",
    "print('Относительное изменение среднего чека в группе B по отношению группы A: {:.1%}'.format(\n",
    "orders[orders['group']=='B']['revenue'].mean()/orders[orders['group']=='A']['revenue'].mean()-1))\n",
    "\n",
    "\n",
    "if results.pvalue < alpha:\n",
    "    print('Отвергаем нулевую гипотезу')\n",
    "else:\n",
    "    print('Не получилось отвергнуть нулевую гипотезу')"
   ]
  },
  {
   "cell_type": "markdown",
   "metadata": {},
   "source": [
    "**Вывод:** \n",
    "p-value получилось больше выбранного уровня значимости (alpha = 0.05).  Гипотезу о равенстве средних чеков отвергнуть не получилось.  \n",
    "Т.е. **несмотря на разницу среднего чека в 1897 у.е., различие не статистически значимо (по неочищенным данным).**"
   ]
  },
  {
   "cell_type": "markdown",
   "metadata": {},
   "source": [
    "### Расчет статистической значимости различий в конверсии между группами по «очищенным» данным."
   ]
  },
  {
   "cell_type": "markdown",
   "metadata": {},
   "source": [
    "Ранее было выяснено, что 95% пользователей не делает более 2 заказов и сумма 1 покупки в 95% случаев не превышает 28000 у.е. Проведу очищение данных от аномальных пользователей, выходящих за эти значения. "
   ]
  },
  {
   "cell_type": "code",
   "execution_count": 34,
   "metadata": {},
   "outputs": [],
   "source": [
    "#зададам предельные количество заказов и сумму покупки для формирования списка аномальных пользователей\n",
    "limit_orders = orders_percentile_95\n",
    "limit_revenue = revenue_percentile_95"
   ]
  },
  {
   "cell_type": "code",
   "execution_count": 35,
   "metadata": {},
   "outputs": [
    {
     "name": "stdout",
     "output_type": "stream",
     "text": [
      "Количество аномальных пользователей: 74\n"
     ]
    }
   ],
   "source": [
    "#срез пользователей с аномально большим количеством заказов\n",
    "usersWithManyOrders = pd.concat([ordersByUsersA[ordersByUsersA['orders']>limit_orders]['visitorId'], \n",
    "                                ordersByUsersB[ordersByUsersB['orders']>limit_orders]['visitorId']], axis = 0)\n",
    "#срез пользователей с аномально дорогими заказами\n",
    "usersWithExpensiveOrders = orders[orders['revenue']>limit_revenue]['visitorId']\n",
    "#аномальные пользователи\n",
    "abnormalUsers = pd.concat([usersWithManyOrders, usersWithExpensiveOrders], axis = 0).drop_duplicates().sort_values()\n",
    "print('Количество аномальных пользователей: {}'.format(len(abnormalUsers)))"
   ]
  },
  {
   "cell_type": "code",
   "execution_count": 36,
   "metadata": {
    "scrolled": true
   },
   "outputs": [],
   "source": [
    "#очищенные от аномальных пользователей выборки количества заказов:\n",
    "sampleAFiltered = pd.concat([\n",
    "    ordersByUsersA[np.logical_not(ordersByUsersA['visitorId'].isin(abnormalUsers))]['orders'],\n",
    "    non_purchased_users_A\n",
    "], axis = 0)\n",
    "sampleBFiltered = pd.concat([\n",
    "    ordersByUsersB[np.logical_not(ordersByUsersB['visitorId'].isin(abnormalUsers))]['orders'],\n",
    "    non_purchased_users_B\n",
    "], axis = 0)\n"
   ]
  },
  {
   "cell_type": "markdown",
   "metadata": {},
   "source": [
    "Сформулирую нулевую и альтернативную гипотизы:\n",
    "\n",
    "H0: Конверсии группы А и группы В одинаковы  \n",
    "H1: Конверсии группы А и группы В различаются  \n",
    "Задам уровень значимости: alpha = 0.05\n",
    "\n",
    "Посчитаю p-value, используя тест Манна-Уитни из библиотеки scipy для сравнения средних двух выборок.\n",
    "\n",
    "Если p-value будет меньше выбранного уровня значимости alpha = 0.05, то нулевую гипотезу о равенстве конверсий отвергну. В противном случае, сделаю вывод, что данные не позволили отвергнуть нулевую гипотезу."
   ]
  },
  {
   "cell_type": "code",
   "execution_count": 37,
   "metadata": {
    "scrolled": true
   },
   "outputs": [
    {
     "name": "stdout",
     "output_type": "stream",
     "text": [
      "P-value: 0.01304\n",
      "Средняя конверсия группы А: 2.5%\n",
      "Средняя конверсия группы B: 3.0%\n",
      "Относительный прирост конверсии группы B по отношению к группе A: 17.3%\n",
      "Отвергаем нулевую гипотезу\n"
     ]
    }
   ],
   "source": [
    "alpha = .05\n",
    "\n",
    "results = st.mannwhitneyu(sampleAFiltered, sampleBFiltered)\n",
    "print('P-value: {:.5f}'.format(results.pvalue))\n",
    "print('Средняя конверсия группы А: {:.1%}'.format(sampleAFiltered.mean()))\n",
    "print('Средняя конверсия группы B: {:.1%}'.format(sampleBFiltered.mean()))\n",
    "print('Относительный прирост конверсии группы B по отношению к группе A: {:.1%}'.format(sampleBFiltered.mean()/sampleAFiltered.mean()-1))\n",
    "\n",
    "\n",
    "if results.pvalue < alpha:\n",
    "    print('Отвергаем нулевую гипотезу')\n",
    "else:\n",
    "    print('Не получилось отвергнуть нулевую гипотезу')"
   ]
  },
  {
   "cell_type": "markdown",
   "metadata": {},
   "source": [
    "**Вывод:**\n",
    "После отчистки от аномалий конверсия по группам уменьшилась, но конверсия по группе В все равно привышает конверсию группы А на 17%.\n",
    "По очищенным данным p-value получилось меньше выбранного уровня значимости (alpha = 0.05). Отвергаем нулевую гипотезу о равенстве средних конверсий. **По очищенным данным разница конверсий групп A и B статистически значима.**"
   ]
  },
  {
   "cell_type": "markdown",
   "metadata": {},
   "source": [
    "###  Расчет статистической значимости различий в среднем чеке заказа между группами по «очищенным» данным. "
   ]
  },
  {
   "cell_type": "markdown",
   "metadata": {},
   "source": [
    "Сформулирую нулевую и альтернативную гипотизы:\n",
    "\n",
    "H0: Средний чек группы А и группы В одинаковы\n",
    "H1: Средний чек группы А и группы В различаются\n",
    "Задам уровень значимости: alpha = 0.05"
   ]
  },
  {
   "cell_type": "code",
   "execution_count": 38,
   "metadata": {
    "scrolled": true
   },
   "outputs": [
    {
     "name": "stdout",
     "output_type": "stream",
     "text": [
      "P-value: 0.73848\n",
      "Средний чек группы А: 5167\n",
      "Средний чек группы B: 5065\n",
      "Относительное изменение среднего чека в группе B по отношению группы A: -2.0%\n",
      "Не получилось отвергнуть нулевую гипотезу\n"
     ]
    }
   ],
   "source": [
    "alpha = .05\n",
    "results = st.mannwhitneyu(orders[np.logical_and(orders['group']=='A', np.logical_not(orders['visitorId'].isin(abnormalUsers)))]['revenue'],\n",
    "                             orders[np.logical_and(orders['group']=='B', np.logical_not(orders['visitorId'].isin(abnormalUsers)))]['revenue'])\n",
    "print('P-value: {:.5f}'.format(results.pvalue))\n",
    "\n",
    "print('Средний чек группы А: {:.0f}'.format(\n",
    "    orders[np.logical_and(orders['group']=='A', np.logical_not(orders['visitorId'].isin(abnormalUsers)))]['revenue'].mean()))\n",
    "print('Средний чек группы B: {:.0f}'.format(\n",
    "    orders[np.logical_and(orders['group']=='B', np.logical_not(orders['visitorId'].isin(abnormalUsers)))]['revenue'].mean()))\n",
    "print('Относительное изменение среднего чека в группе B по отношению группы A: {:.1%}'.format(\n",
    "orders[np.logical_and(orders['group']=='B', np.logical_not(orders['visitorId'].isin(abnormalUsers)))]['revenue'].mean()\\\n",
    "/orders[np.logical_and(orders['group']=='A', np.logical_not(orders['visitorId'].isin(abnormalUsers)))]['revenue'].mean()-1))\n",
    "\n",
    "\n",
    "if results.pvalue < alpha:\n",
    "    print('Отвергаем нулевую гипотезу')\n",
    "else:\n",
    "    print('Не получилось отвергнуть нулевую гипотезу')"
   ]
  },
  {
   "cell_type": "markdown",
   "metadata": {},
   "source": [
    "**Вывод:** \n",
    "Снова не можем отвергнуть нулевую гипотезу о равенстве среднего чека. Однако, средние чеки значительно выровнялись, теперь нет большой разницы в средних чеках между группа А и В.\n",
    "Делаю вывод, что **по очищенным данным различие в средних чеках в группах A и B не статистически значимо.**"
   ]
  },
  {
   "cell_type": "markdown",
   "metadata": {},
   "source": [
    "### Принятие решения по результатам теста. \n",
    "\n",
    "Варианты решений:\n",
    "1. Остановить тест, зафиксировать победу одной из групп. \n",
    "2. Остановить тест, зафиксировать отсутствие различий между группами. \n",
    "3. Продолжить тест."
   ]
  },
  {
   "cell_type": "markdown",
   "metadata": {},
   "source": [
    "**При анализе графиков по неочищенным данным, было выявлено что:**\n",
    " 1. Кумулятивные метрики по выручке и конверсии лидировали в группе B, но наблюдался резкий скачок в графике по тгруппе В. \n",
    " 2. На графике кумулятивного среднего чека в группе B были заметны резкие колебания. \n",
    " \n",
    "Было сделано предположение, что колебания связаны с аномальными покупателями. Определенных выводов  только по графикам сделать не получалось.  \n",
    "\n",
    "Были проведены две пары статистических тестов по \"сырым\" (без очищения выбросов) и \"очищенным\" данным. Статистическая значимость расчитывалась с помощью U-критерия Манна-Уитни, так как он работает с рангами, и наличие выбросов на тест не влияет.\n",
    "\n",
    "Было выявлено:\n",
    "1. **Есть статистически значимое различие по конверсии между группами как по «сырым», так и по данным после фильтрации аномалий**; Показатель конверсии до и после очистки в группе B оказался больше, чем в группе A. Относительный прирост конверсии группы B по отношению к группе A до очистки составил: 13.8%, после очистки - 17.3%.\n",
    "\n",
    "2. **Нет статистически значимого различия по среднему чеку между группами ни по «сырым», ни по данным после фильтрации аномалий**; При этом после очистки от выбросов разница между средними чеками стала минимальна, а средний чек по группе А оказался больше чем в группе В.\n",
    " \n",
    "\n",
    "Таким образом, несмотря на отсуствие статистически значимого различия по среднему чеку между группами А и В, было достигнуто увеличение конверсии по группе  В (показатель конверсии в группе В больше показателся в группе А на 13.8% и на 17.3% по «сырым» и очищенным данным соответсвенно).  \n",
    "Данная разница показателей конверсии между группами А и В является статистически значимой, что пользволяет принять решение:  - **Остановить A/B тест и зафиксировать победу группы B**. \n",
    "\n"
   ]
  },
  {
   "cell_type": "markdown",
   "metadata": {},
   "source": [
    "## Вывод\n",
    "\n",
    "Была проведена аналитическая работа для крупного интернет-магазина. Вместе с отделом маркетинга был подготовлен список гипотез для увеличения выручки.\n",
    "Были приоритизированы гипотезы, запущен A/B-тест и проанализированы результаты.\n",
    "Было выявлено:\n",
    "1. Наиболее перспективные гипотезы по RICE: 7, 2, 0, 6.\n",
    "\n",
    "\n",
    "2. При анализе размера групп была выявлена разница в 15%(в группе В на 83 человека больше, при этом 58 из них входят также в группу A). Безусловно, в какой-то мере это снижает доверие к тесту. Необходимо сообщить разработчикам о недостаточном качестве предоставленных данных.\n",
    "\n",
    "\n",
    "3. При анализе графиков по неочищенным данным, было выявлено что:  \n",
    "    3.1. Кумулятивные метрики по выручке и конверсии лидировали в группе B, но наблюдался резкий скачок в графике по тгруппе В.   \n",
    "    3.2. На графике кумулятивного среднего чека в группе B были заметны резкие колебания.\n",
    "    \n",
    "    \n",
    "4. Было сделано предположение, что колебания связаны с аномальными покупателями. Определенных выводов только по графикам сделать не получалось.\n",
    "\n",
    "\n",
    "5. Были проведены две пары статистических тестов по \"сырым\" (без очищения выбросов) и \"очищенным\" данным. Статистическая значимость расчитывалась с помощью U-критерия Манна-Уитни, так как он работает с рангами, и наличие выбросов на тест не влияет.  Было выявлено:  \n",
    "    5.1. **Есть статистически значимое различие по конверсии между группами как по «сырым», так и по данным после фильтрации аномалий; Показатель конверсии до и после очистки в группе B оказался больше, чем в группе A. Относительный прирост конверсии группы B по отношению к группе A до очистки составил: 13.8%, после очистки - 17.3%.**  \n",
    "    5.2. **Нет статистически значимого различия по среднему чеку между группами ни по «сырым», ни по данным после фильтрации аномалий; При этом после очистки от выбросов разница между средними чеками стала минимальна, а средний чек по группе А оказался больше чем в группе В.**\n",
    "\n",
    "\n",
    "6. Несмотря на отсуствие статистически значимого различия по среднему чеку между группами А и В, было достигнуто увеличение конверсии по группе В (показатель конверсии в группе В больше показателся в группе А на 13.8% и на 17.3% по «сырым» и очищенным данным соответсвенно). Данная разница показателей конверсии между группами А и В является статистически значимой, что пользволяет принять решение: **Остановить A/B тест и зафиксировать победу группы B**."
   ]
  }
 ],
 "metadata": {
  "ExecuteTimeLog": [
   {
    "duration": 1413,
    "start_time": "2022-03-22T19:55:30.848Z"
   },
   {
    "duration": 37,
    "start_time": "2022-03-22T19:56:59.612Z"
   },
   {
    "duration": 4,
    "start_time": "2022-03-22T20:06:27.227Z"
   },
   {
    "duration": 4,
    "start_time": "2022-03-22T20:06:47.471Z"
   },
   {
    "duration": 127,
    "start_time": "2022-03-22T20:08:10.886Z"
   },
   {
    "duration": 3,
    "start_time": "2022-03-22T20:08:41.848Z"
   },
   {
    "duration": 34,
    "start_time": "2022-03-22T20:08:43.969Z"
   },
   {
    "duration": 3,
    "start_time": "2022-03-22T20:09:19.148Z"
   },
   {
    "duration": 34,
    "start_time": "2022-03-22T20:09:20.745Z"
   },
   {
    "duration": 3,
    "start_time": "2022-03-22T20:11:02.851Z"
   },
   {
    "duration": 36,
    "start_time": "2022-03-22T20:11:07.186Z"
   },
   {
    "duration": 41,
    "start_time": "2022-03-22T20:12:17.381Z"
   },
   {
    "duration": 30,
    "start_time": "2022-03-22T20:12:58.143Z"
   },
   {
    "duration": 4,
    "start_time": "2022-03-22T20:46:24.347Z"
   },
   {
    "duration": 5,
    "start_time": "2022-03-22T20:53:45.885Z"
   },
   {
    "duration": 4,
    "start_time": "2022-03-22T20:54:19.588Z"
   },
   {
    "duration": 25,
    "start_time": "2022-03-22T20:55:04.021Z"
   },
   {
    "duration": 14,
    "start_time": "2022-03-22T21:16:11.514Z"
   },
   {
    "duration": 18,
    "start_time": "2022-03-22T21:17:26.688Z"
   },
   {
    "duration": 12,
    "start_time": "2022-03-22T21:17:42.417Z"
   },
   {
    "duration": 46,
    "start_time": "2022-03-22T21:18:09.160Z"
   },
   {
    "duration": 12,
    "start_time": "2022-03-22T21:19:45.591Z"
   },
   {
    "duration": 11,
    "start_time": "2022-03-22T21:21:00.434Z"
   },
   {
    "duration": 13,
    "start_time": "2022-03-22T21:21:55.544Z"
   },
   {
    "duration": 11,
    "start_time": "2022-03-22T21:25:01.170Z"
   },
   {
    "duration": 4,
    "start_time": "2022-03-22T21:27:35.655Z"
   },
   {
    "duration": 10,
    "start_time": "2022-03-22T21:27:51.155Z"
   },
   {
    "duration": 25,
    "start_time": "2022-03-22T21:28:07.304Z"
   },
   {
    "duration": 13,
    "start_time": "2022-03-22T21:32:58.449Z"
   },
   {
    "duration": 11,
    "start_time": "2022-03-22T21:33:08.142Z"
   },
   {
    "duration": 14,
    "start_time": "2022-03-22T21:34:34.363Z"
   },
   {
    "duration": 10,
    "start_time": "2022-03-22T21:34:51.764Z"
   },
   {
    "duration": 80,
    "start_time": "2022-03-23T12:40:50.794Z"
   },
   {
    "duration": 1833,
    "start_time": "2022-03-23T12:41:01.211Z"
   },
   {
    "duration": 43,
    "start_time": "2022-03-23T12:41:03.048Z"
   },
   {
    "duration": 5,
    "start_time": "2022-03-23T12:41:03.094Z"
   },
   {
    "duration": 88,
    "start_time": "2022-03-23T12:41:03.101Z"
   },
   {
    "duration": 5,
    "start_time": "2022-03-23T12:41:03.191Z"
   },
   {
    "duration": 88,
    "start_time": "2022-03-23T12:41:03.199Z"
   },
   {
    "duration": 7,
    "start_time": "2022-03-23T12:41:03.290Z"
   },
   {
    "duration": 66,
    "start_time": "2022-03-23T12:41:03.299Z"
   },
   {
    "duration": 10,
    "start_time": "2022-03-23T12:41:03.383Z"
   },
   {
    "duration": 72,
    "start_time": "2022-03-23T12:41:03.397Z"
   },
   {
    "duration": 29,
    "start_time": "2022-03-23T12:41:03.472Z"
   },
   {
    "duration": 26,
    "start_time": "2022-03-23T12:41:03.504Z"
   },
   {
    "duration": 296,
    "start_time": "2022-03-23T12:41:03.532Z"
   },
   {
    "duration": 40,
    "start_time": "2022-03-23T12:41:46.106Z"
   },
   {
    "duration": 121,
    "start_time": "2022-03-23T12:42:06.380Z"
   },
   {
    "duration": 120,
    "start_time": "2022-03-23T12:42:30.968Z"
   },
   {
    "duration": 127,
    "start_time": "2022-03-23T12:42:59.956Z"
   },
   {
    "duration": 159,
    "start_time": "2022-03-23T12:57:44.358Z"
   },
   {
    "duration": 130,
    "start_time": "2022-03-23T12:58:17.068Z"
   },
   {
    "duration": 3370,
    "start_time": "2022-03-23T12:59:24.548Z"
   },
   {
    "duration": 3356,
    "start_time": "2022-03-23T13:00:01.341Z"
   },
   {
    "duration": 127,
    "start_time": "2022-03-23T13:00:21.335Z"
   },
   {
    "duration": 5,
    "start_time": "2022-03-23T13:02:44.977Z"
   },
   {
    "duration": 7,
    "start_time": "2022-03-23T13:03:13.492Z"
   },
   {
    "duration": 17,
    "start_time": "2022-03-23T13:10:02.111Z"
   },
   {
    "duration": 145,
    "start_time": "2022-03-23T13:17:22.414Z"
   },
   {
    "duration": 12,
    "start_time": "2022-03-23T13:19:09.641Z"
   },
   {
    "duration": 96,
    "start_time": "2022-03-23T20:12:19.575Z"
   },
   {
    "duration": 1826,
    "start_time": "2022-03-23T20:12:27.295Z"
   },
   {
    "duration": 73,
    "start_time": "2022-03-23T20:12:29.124Z"
   },
   {
    "duration": 4,
    "start_time": "2022-03-23T20:12:29.200Z"
   },
   {
    "duration": 71,
    "start_time": "2022-03-23T20:12:29.207Z"
   },
   {
    "duration": 4,
    "start_time": "2022-03-23T20:12:29.283Z"
   },
   {
    "duration": 67,
    "start_time": "2022-03-23T20:12:29.290Z"
   },
   {
    "duration": 26,
    "start_time": "2022-03-23T20:12:29.359Z"
   },
   {
    "duration": 59,
    "start_time": "2022-03-23T20:12:29.388Z"
   },
   {
    "duration": 14,
    "start_time": "2022-03-23T20:12:29.450Z"
   },
   {
    "duration": 74,
    "start_time": "2022-03-23T20:12:29.482Z"
   },
   {
    "duration": 22,
    "start_time": "2022-03-23T20:12:29.560Z"
   },
   {
    "duration": 18,
    "start_time": "2022-03-23T20:12:29.584Z"
   },
   {
    "duration": 34,
    "start_time": "2022-03-23T20:12:29.604Z"
   },
   {
    "duration": 141,
    "start_time": "2022-03-23T20:12:29.642Z"
   },
   {
    "duration": 144,
    "start_time": "2022-03-23T20:12:29.786Z"
   },
   {
    "duration": 237,
    "start_time": "2022-03-23T20:42:18.221Z"
   },
   {
    "duration": 1696,
    "start_time": "2022-03-24T08:34:03.206Z"
   },
   {
    "duration": 43,
    "start_time": "2022-03-24T08:34:04.905Z"
   },
   {
    "duration": 5,
    "start_time": "2022-03-24T08:34:04.950Z"
   },
   {
    "duration": 56,
    "start_time": "2022-03-24T08:34:04.957Z"
   },
   {
    "duration": 4,
    "start_time": "2022-03-24T08:34:05.016Z"
   },
   {
    "duration": 84,
    "start_time": "2022-03-24T08:34:05.022Z"
   },
   {
    "duration": 6,
    "start_time": "2022-03-24T08:34:05.109Z"
   },
   {
    "duration": 73,
    "start_time": "2022-03-24T08:34:05.117Z"
   },
   {
    "duration": 4,
    "start_time": "2022-03-24T08:34:05.193Z"
   },
   {
    "duration": 70,
    "start_time": "2022-03-24T08:34:05.201Z"
   },
   {
    "duration": 20,
    "start_time": "2022-03-24T08:34:05.274Z"
   },
   {
    "duration": 16,
    "start_time": "2022-03-24T08:34:05.296Z"
   },
   {
    "duration": 15,
    "start_time": "2022-03-24T08:34:05.315Z"
   },
   {
    "duration": 182,
    "start_time": "2022-03-24T08:34:05.332Z"
   },
   {
    "duration": 188,
    "start_time": "2022-03-24T08:34:05.518Z"
   },
   {
    "duration": 1292,
    "start_time": "2022-03-24T08:35:53.071Z"
   },
   {
    "duration": 682,
    "start_time": "2022-03-24T08:37:17.938Z"
   },
   {
    "duration": 464,
    "start_time": "2022-03-24T08:37:38.887Z"
   },
   {
    "duration": 12,
    "start_time": "2022-03-24T08:45:59.099Z"
   },
   {
    "duration": 13,
    "start_time": "2022-03-24T08:46:46.204Z"
   },
   {
    "duration": 1438,
    "start_time": "2022-03-24T08:48:40.805Z"
   },
   {
    "duration": 49,
    "start_time": "2022-03-24T08:48:42.247Z"
   },
   {
    "duration": 6,
    "start_time": "2022-03-24T08:48:42.299Z"
   },
   {
    "duration": 76,
    "start_time": "2022-03-24T08:48:42.310Z"
   },
   {
    "duration": 5,
    "start_time": "2022-03-24T08:48:42.388Z"
   },
   {
    "duration": 83,
    "start_time": "2022-03-24T08:48:42.397Z"
   },
   {
    "duration": 7,
    "start_time": "2022-03-24T08:48:42.483Z"
   },
   {
    "duration": 75,
    "start_time": "2022-03-24T08:48:42.492Z"
   },
   {
    "duration": 5,
    "start_time": "2022-03-24T08:48:42.570Z"
   },
   {
    "duration": 36,
    "start_time": "2022-03-24T08:48:42.579Z"
   },
   {
    "duration": 15,
    "start_time": "2022-03-24T08:48:42.617Z"
   },
   {
    "duration": 19,
    "start_time": "2022-03-24T08:48:42.667Z"
   },
   {
    "duration": 12,
    "start_time": "2022-03-24T08:48:42.689Z"
   },
   {
    "duration": 165,
    "start_time": "2022-03-24T08:48:42.703Z"
   },
   {
    "duration": 504,
    "start_time": "2022-03-24T08:48:42.871Z"
   },
   {
    "duration": 13,
    "start_time": "2022-03-24T08:48:43.378Z"
   },
   {
    "duration": 186,
    "start_time": "2022-03-24T08:48:43.393Z"
   },
   {
    "duration": 458,
    "start_time": "2022-03-24T08:48:54.662Z"
   },
   {
    "duration": 5,
    "start_time": "2022-03-24T08:50:52.321Z"
   },
   {
    "duration": 19,
    "start_time": "2022-03-24T08:50:59.958Z"
   },
   {
    "duration": 278,
    "start_time": "2022-03-24T08:52:11.989Z"
   },
   {
    "duration": 321,
    "start_time": "2022-03-24T08:52:23.005Z"
   },
   {
    "duration": 356,
    "start_time": "2022-03-24T08:56:03.015Z"
   },
   {
    "duration": 342,
    "start_time": "2022-03-24T08:57:51.181Z"
   },
   {
    "duration": 331,
    "start_time": "2022-03-24T08:58:01.739Z"
   },
   {
    "duration": 314,
    "start_time": "2022-03-24T08:59:22.418Z"
   },
   {
    "duration": 423,
    "start_time": "2022-03-24T09:00:09.838Z"
   },
   {
    "duration": 18,
    "start_time": "2022-03-24T09:02:37.838Z"
   },
   {
    "duration": 278,
    "start_time": "2022-03-24T09:03:32.638Z"
   },
   {
    "duration": 333,
    "start_time": "2022-03-24T09:05:00.866Z"
   },
   {
    "duration": 332,
    "start_time": "2022-03-24T09:05:10.073Z"
   },
   {
    "duration": 272,
    "start_time": "2022-03-24T09:08:08.285Z"
   },
   {
    "duration": 333,
    "start_time": "2022-03-24T09:08:13.557Z"
   },
   {
    "duration": 308,
    "start_time": "2022-03-24T09:08:41.080Z"
   },
   {
    "duration": 17,
    "start_time": "2022-03-24T09:21:43.429Z"
   },
   {
    "duration": 303,
    "start_time": "2022-03-24T09:23:31.069Z"
   },
   {
    "duration": 388,
    "start_time": "2022-03-24T09:54:48.416Z"
   },
   {
    "duration": 22,
    "start_time": "2022-03-24T10:00:45.349Z"
   },
   {
    "duration": 16,
    "start_time": "2022-03-24T10:01:14.160Z"
   },
   {
    "duration": 18,
    "start_time": "2022-03-24T10:04:06.190Z"
   },
   {
    "duration": 363,
    "start_time": "2022-03-24T10:05:13.415Z"
   },
   {
    "duration": 337,
    "start_time": "2022-03-24T10:06:22.109Z"
   },
   {
    "duration": 362,
    "start_time": "2022-03-24T10:06:48.887Z"
   },
   {
    "duration": 422,
    "start_time": "2022-03-24T10:08:22.257Z"
   },
   {
    "duration": 496,
    "start_time": "2022-03-24T10:10:45.626Z"
   },
   {
    "duration": 17,
    "start_time": "2022-03-24T10:14:50.565Z"
   },
   {
    "duration": 22,
    "start_time": "2022-03-24T10:15:00.697Z"
   },
   {
    "duration": 495,
    "start_time": "2022-03-24T10:15:05.619Z"
   },
   {
    "duration": 8,
    "start_time": "2022-03-24T10:28:50.235Z"
   },
   {
    "duration": 270,
    "start_time": "2022-03-24T10:30:55.927Z"
   },
   {
    "duration": 127,
    "start_time": "2022-03-24T10:31:56.289Z"
   },
   {
    "duration": 138,
    "start_time": "2022-03-24T10:32:13.237Z"
   },
   {
    "duration": 288,
    "start_time": "2022-03-24T10:32:52.556Z"
   },
   {
    "duration": 313,
    "start_time": "2022-03-24T10:33:14.090Z"
   },
   {
    "duration": 12,
    "start_time": "2022-03-24T10:50:34.731Z"
   },
   {
    "duration": 90,
    "start_time": "2022-03-24T10:51:07.739Z"
   },
   {
    "duration": 12,
    "start_time": "2022-03-24T10:51:14.864Z"
   },
   {
    "duration": 21,
    "start_time": "2022-03-24T10:51:33.179Z"
   },
   {
    "duration": 20,
    "start_time": "2022-03-24T10:53:02.987Z"
   },
   {
    "duration": 20,
    "start_time": "2022-03-24T10:53:10.500Z"
   },
   {
    "duration": 274,
    "start_time": "2022-03-24T10:53:36.396Z"
   },
   {
    "duration": 300,
    "start_time": "2022-03-24T10:55:26.118Z"
   },
   {
    "duration": 418,
    "start_time": "2022-03-24T10:56:23.642Z"
   },
   {
    "duration": 392,
    "start_time": "2022-03-24T10:56:46.676Z"
   },
   {
    "duration": 403,
    "start_time": "2022-03-24T10:57:17.699Z"
   },
   {
    "duration": 418,
    "start_time": "2022-03-24T10:57:37.802Z"
   },
   {
    "duration": 101,
    "start_time": "2022-03-24T10:58:47.865Z"
   },
   {
    "duration": 441,
    "start_time": "2022-03-24T10:58:59.576Z"
   },
   {
    "duration": 435,
    "start_time": "2022-03-24T11:00:17.056Z"
   },
   {
    "duration": 431,
    "start_time": "2022-03-24T11:03:28.758Z"
   },
   {
    "duration": 373,
    "start_time": "2022-03-24T11:19:25.353Z"
   },
   {
    "duration": 318,
    "start_time": "2022-03-24T11:19:31.003Z"
   },
   {
    "duration": 290,
    "start_time": "2022-03-24T11:19:44.305Z"
   },
   {
    "duration": 187,
    "start_time": "2022-03-24T11:27:42.592Z"
   },
   {
    "duration": 299,
    "start_time": "2022-03-24T11:39:40.345Z"
   },
   {
    "duration": 190,
    "start_time": "2022-03-24T11:40:06.785Z"
   },
   {
    "duration": 191,
    "start_time": "2022-03-24T11:40:12.947Z"
   },
   {
    "duration": 12,
    "start_time": "2022-03-24T11:43:19.505Z"
   },
   {
    "duration": 6,
    "start_time": "2022-03-24T11:43:48.237Z"
   },
   {
    "duration": 5,
    "start_time": "2022-03-24T11:44:11.713Z"
   },
   {
    "duration": 1672,
    "start_time": "2022-03-24T20:02:56.815Z"
   },
   {
    "duration": 43,
    "start_time": "2022-03-24T20:02:58.490Z"
   },
   {
    "duration": 4,
    "start_time": "2022-03-24T20:02:58.535Z"
   },
   {
    "duration": 54,
    "start_time": "2022-03-24T20:02:58.542Z"
   },
   {
    "duration": 4,
    "start_time": "2022-03-24T20:02:58.598Z"
   },
   {
    "duration": 81,
    "start_time": "2022-03-24T20:02:58.604Z"
   },
   {
    "duration": 7,
    "start_time": "2022-03-24T20:02:58.687Z"
   },
   {
    "duration": 73,
    "start_time": "2022-03-24T20:02:58.697Z"
   },
   {
    "duration": 4,
    "start_time": "2022-03-24T20:02:58.775Z"
   },
   {
    "duration": 34,
    "start_time": "2022-03-24T20:02:58.783Z"
   },
   {
    "duration": 49,
    "start_time": "2022-03-24T20:02:58.819Z"
   },
   {
    "duration": 16,
    "start_time": "2022-03-24T20:02:58.870Z"
   },
   {
    "duration": 16,
    "start_time": "2022-03-24T20:02:58.888Z"
   },
   {
    "duration": 164,
    "start_time": "2022-03-24T20:02:58.906Z"
   },
   {
    "duration": 484,
    "start_time": "2022-03-24T20:02:59.072Z"
   },
   {
    "duration": 13,
    "start_time": "2022-03-24T20:02:59.558Z"
   },
   {
    "duration": 488,
    "start_time": "2022-03-24T20:02:59.573Z"
   },
   {
    "duration": 310,
    "start_time": "2022-03-24T20:03:00.068Z"
   },
   {
    "duration": 16,
    "start_time": "2022-03-24T20:03:00.381Z"
   },
   {
    "duration": 511,
    "start_time": "2022-03-24T20:03:00.400Z"
   },
   {
    "duration": 10,
    "start_time": "2022-03-24T20:03:00.915Z"
   },
   {
    "duration": 325,
    "start_time": "2022-03-24T20:03:00.928Z"
   },
   {
    "duration": 26,
    "start_time": "2022-03-24T20:03:01.255Z"
   },
   {
    "duration": 445,
    "start_time": "2022-03-24T20:03:01.283Z"
   },
   {
    "duration": 239,
    "start_time": "2022-03-24T20:03:01.731Z"
   },
   {
    "duration": 209,
    "start_time": "2022-03-24T20:03:01.972Z"
   },
   {
    "duration": 7,
    "start_time": "2022-03-24T20:03:02.183Z"
   },
   {
    "duration": 234,
    "start_time": "2022-03-24T20:03:02.195Z"
   },
   {
    "duration": 282,
    "start_time": "2022-03-24T20:06:25.798Z"
   },
   {
    "duration": 252,
    "start_time": "2022-03-24T20:07:08.024Z"
   },
   {
    "duration": 6,
    "start_time": "2022-03-24T20:07:40.900Z"
   },
   {
    "duration": 6,
    "start_time": "2022-03-24T20:08:17.480Z"
   },
   {
    "duration": 6,
    "start_time": "2022-03-24T20:08:43.672Z"
   },
   {
    "duration": 330,
    "start_time": "2022-03-24T20:09:38.370Z"
   },
   {
    "duration": 220,
    "start_time": "2022-03-24T20:15:28.327Z"
   },
   {
    "duration": 226,
    "start_time": "2022-03-24T20:15:41.957Z"
   },
   {
    "duration": 440,
    "start_time": "2022-03-24T20:17:43.283Z"
   },
   {
    "duration": 227,
    "start_time": "2022-03-24T20:20:30.314Z"
   },
   {
    "duration": 264,
    "start_time": "2022-03-24T20:21:20.056Z"
   },
   {
    "duration": 248,
    "start_time": "2022-03-24T20:21:59.998Z"
   },
   {
    "duration": 203,
    "start_time": "2022-03-24T20:22:14.569Z"
   },
   {
    "duration": 307,
    "start_time": "2022-03-24T20:22:30.075Z"
   },
   {
    "duration": 406,
    "start_time": "2022-03-24T20:22:41.402Z"
   },
   {
    "duration": 320,
    "start_time": "2022-03-24T20:22:48.357Z"
   },
   {
    "duration": 503,
    "start_time": "2022-03-24T20:23:00.121Z"
   },
   {
    "duration": 450,
    "start_time": "2022-03-24T20:23:19.791Z"
   },
   {
    "duration": 230,
    "start_time": "2022-03-24T20:24:56.391Z"
   },
   {
    "duration": 245,
    "start_time": "2022-03-24T20:25:15.839Z"
   },
   {
    "duration": 305,
    "start_time": "2022-03-24T20:35:35.025Z"
   },
   {
    "duration": 635,
    "start_time": "2022-03-24T21:37:03.533Z"
   },
   {
    "duration": 75,
    "start_time": "2022-03-24T21:51:05.056Z"
   },
   {
    "duration": 122,
    "start_time": "2022-03-24T21:54:30.438Z"
   },
   {
    "duration": 45,
    "start_time": "2022-03-24T21:54:46.283Z"
   },
   {
    "duration": 17,
    "start_time": "2022-03-24T22:04:55.445Z"
   },
   {
    "duration": 16,
    "start_time": "2022-03-24T22:05:55.041Z"
   },
   {
    "duration": 101,
    "start_time": "2022-03-25T19:13:43.193Z"
   },
   {
    "duration": 118,
    "start_time": "2022-03-25T19:14:12.901Z"
   },
   {
    "duration": 111,
    "start_time": "2022-03-25T19:14:31.730Z"
   },
   {
    "duration": 95,
    "start_time": "2022-03-25T19:14:51.367Z"
   },
   {
    "duration": 98,
    "start_time": "2022-03-25T19:14:59.754Z"
   },
   {
    "duration": 1758,
    "start_time": "2022-03-25T19:15:11.392Z"
   },
   {
    "duration": 40,
    "start_time": "2022-03-25T19:15:13.153Z"
   },
   {
    "duration": 5,
    "start_time": "2022-03-25T19:15:13.195Z"
   },
   {
    "duration": 62,
    "start_time": "2022-03-25T19:15:13.203Z"
   },
   {
    "duration": 4,
    "start_time": "2022-03-25T19:15:13.274Z"
   },
   {
    "duration": 57,
    "start_time": "2022-03-25T19:15:13.280Z"
   },
   {
    "duration": 34,
    "start_time": "2022-03-25T19:15:13.340Z"
   },
   {
    "duration": 46,
    "start_time": "2022-03-25T19:15:13.377Z"
   },
   {
    "duration": 6,
    "start_time": "2022-03-25T19:15:13.425Z"
   },
   {
    "duration": 70,
    "start_time": "2022-03-25T19:15:13.435Z"
   },
   {
    "duration": 15,
    "start_time": "2022-03-25T19:15:13.507Z"
   },
   {
    "duration": 48,
    "start_time": "2022-03-25T19:15:13.525Z"
   },
   {
    "duration": 16,
    "start_time": "2022-03-25T19:15:13.576Z"
   },
   {
    "duration": 163,
    "start_time": "2022-03-25T19:15:13.594Z"
   },
   {
    "duration": 528,
    "start_time": "2022-03-25T19:15:13.759Z"
   },
   {
    "duration": 12,
    "start_time": "2022-03-25T19:15:14.290Z"
   },
   {
    "duration": 661,
    "start_time": "2022-03-25T19:15:14.304Z"
   },
   {
    "duration": 450,
    "start_time": "2022-03-25T19:15:14.967Z"
   },
   {
    "duration": 26,
    "start_time": "2022-03-25T19:15:15.420Z"
   },
   {
    "duration": 554,
    "start_time": "2022-03-25T19:15:15.448Z"
   },
   {
    "duration": 10,
    "start_time": "2022-03-25T19:15:16.005Z"
   },
   {
    "duration": 405,
    "start_time": "2022-03-25T19:15:16.018Z"
   },
   {
    "duration": 25,
    "start_time": "2022-03-25T19:15:16.425Z"
   },
   {
    "duration": 478,
    "start_time": "2022-03-25T19:15:16.452Z"
   },
   {
    "duration": 344,
    "start_time": "2022-03-25T19:15:16.933Z"
   },
   {
    "duration": 283,
    "start_time": "2022-03-25T19:15:17.280Z"
   },
   {
    "duration": 11,
    "start_time": "2022-03-25T19:15:17.566Z"
   },
   {
    "duration": 345,
    "start_time": "2022-03-25T19:15:17.583Z"
   },
   {
    "duration": 7,
    "start_time": "2022-03-25T19:15:17.931Z"
   },
   {
    "duration": 1069,
    "start_time": "2022-03-25T19:15:17.940Z"
   },
   {
    "duration": 33,
    "start_time": "2022-03-25T19:15:19.011Z"
   },
   {
    "duration": 35,
    "start_time": "2022-03-25T19:15:19.046Z"
   },
   {
    "duration": 6,
    "start_time": "2022-03-25T19:15:47.670Z"
   },
   {
    "duration": 7,
    "start_time": "2022-03-25T19:15:53.069Z"
   },
   {
    "duration": 5,
    "start_time": "2022-03-25T19:17:45.867Z"
   },
   {
    "duration": 7,
    "start_time": "2022-03-25T19:17:59.135Z"
   },
   {
    "duration": 8,
    "start_time": "2022-03-25T19:18:21.440Z"
   },
   {
    "duration": 7,
    "start_time": "2022-03-25T19:21:34.033Z"
   },
   {
    "duration": 6,
    "start_time": "2022-03-25T19:21:42.448Z"
   },
   {
    "duration": 7,
    "start_time": "2022-03-25T19:22:19.062Z"
   },
   {
    "duration": 7,
    "start_time": "2022-03-25T19:23:34.445Z"
   },
   {
    "duration": 6,
    "start_time": "2022-03-25T19:24:13.556Z"
   },
   {
    "duration": 192,
    "start_time": "2022-03-25T19:36:02.042Z"
   },
   {
    "duration": 76,
    "start_time": "2022-03-25T19:36:21.659Z"
   },
   {
    "duration": 70,
    "start_time": "2022-03-25T19:53:48.789Z"
   },
   {
    "duration": 24,
    "start_time": "2022-03-25T20:15:37.683Z"
   },
   {
    "duration": 360,
    "start_time": "2022-03-25T20:16:49.298Z"
   },
   {
    "duration": 25,
    "start_time": "2022-03-25T20:16:59.958Z"
   },
   {
    "duration": 27,
    "start_time": "2022-03-25T20:21:46.590Z"
   },
   {
    "duration": 24,
    "start_time": "2022-03-25T20:22:18.871Z"
   },
   {
    "duration": 23,
    "start_time": "2022-03-25T20:26:04.567Z"
   },
   {
    "duration": 1593,
    "start_time": "2022-03-25T20:27:42.970Z"
   },
   {
    "duration": 39,
    "start_time": "2022-03-25T20:27:44.565Z"
   },
   {
    "duration": 4,
    "start_time": "2022-03-25T20:27:44.607Z"
   },
   {
    "duration": 70,
    "start_time": "2022-03-25T20:27:44.614Z"
   },
   {
    "duration": 4,
    "start_time": "2022-03-25T20:27:44.686Z"
   },
   {
    "duration": 51,
    "start_time": "2022-03-25T20:27:44.692Z"
   },
   {
    "duration": 32,
    "start_time": "2022-03-25T20:27:44.745Z"
   },
   {
    "duration": 38,
    "start_time": "2022-03-25T20:27:44.780Z"
   },
   {
    "duration": 5,
    "start_time": "2022-03-25T20:27:44.821Z"
   },
   {
    "duration": 72,
    "start_time": "2022-03-25T20:27:44.830Z"
   },
   {
    "duration": 19,
    "start_time": "2022-03-25T20:27:44.904Z"
   },
   {
    "duration": 174,
    "start_time": "2022-03-25T20:27:44.926Z"
   },
   {
    "duration": 21,
    "start_time": "2022-03-25T20:27:45.102Z"
   },
   {
    "duration": 132,
    "start_time": "2022-03-25T20:27:45.125Z"
   },
   {
    "duration": 538,
    "start_time": "2022-03-25T20:27:45.259Z"
   },
   {
    "duration": 9,
    "start_time": "2022-03-25T20:27:45.800Z"
   },
   {
    "duration": 494,
    "start_time": "2022-03-25T20:27:45.811Z"
   },
   {
    "duration": 335,
    "start_time": "2022-03-25T20:27:46.307Z"
   },
   {
    "duration": 17,
    "start_time": "2022-03-25T20:27:46.644Z"
   },
   {
    "duration": 438,
    "start_time": "2022-03-25T20:27:46.674Z"
   },
   {
    "duration": 8,
    "start_time": "2022-03-25T20:27:47.115Z"
   },
   {
    "duration": 331,
    "start_time": "2022-03-25T20:27:47.125Z"
   },
   {
    "duration": 28,
    "start_time": "2022-03-25T20:27:47.458Z"
   },
   {
    "duration": 452,
    "start_time": "2022-03-25T20:27:47.488Z"
   },
   {
    "duration": 306,
    "start_time": "2022-03-25T20:27:47.943Z"
   },
   {
    "duration": 231,
    "start_time": "2022-03-25T20:27:48.252Z"
   },
   {
    "duration": 7,
    "start_time": "2022-03-25T20:27:48.485Z"
   },
   {
    "duration": 267,
    "start_time": "2022-03-25T20:27:48.497Z"
   },
   {
    "duration": 7,
    "start_time": "2022-03-25T20:27:48.774Z"
   },
   {
    "duration": 109,
    "start_time": "2022-03-25T20:27:48.783Z"
   },
   {
    "duration": 160,
    "start_time": "2022-03-25T20:27:48.894Z"
   },
   {
    "duration": 0,
    "start_time": "2022-03-25T20:27:49.056Z"
   },
   {
    "duration": 0,
    "start_time": "2022-03-25T20:27:49.058Z"
   },
   {
    "duration": 0,
    "start_time": "2022-03-25T20:27:49.059Z"
   },
   {
    "duration": 57,
    "start_time": "2022-03-25T20:28:28.714Z"
   },
   {
    "duration": 33,
    "start_time": "2022-03-25T20:28:36.427Z"
   },
   {
    "duration": 33,
    "start_time": "2022-03-25T20:31:13.394Z"
   },
   {
    "duration": 92,
    "start_time": "2022-03-25T20:32:57.001Z"
   },
   {
    "duration": 34,
    "start_time": "2022-03-25T20:33:10.307Z"
   },
   {
    "duration": 6,
    "start_time": "2022-03-25T20:36:56.937Z"
   },
   {
    "duration": 28,
    "start_time": "2022-03-25T20:37:10.815Z"
   },
   {
    "duration": 34,
    "start_time": "2022-03-25T20:37:23.436Z"
   },
   {
    "duration": 34,
    "start_time": "2022-03-25T20:37:31.664Z"
   },
   {
    "duration": 18,
    "start_time": "2022-03-25T20:41:47.459Z"
   },
   {
    "duration": 18,
    "start_time": "2022-03-25T20:43:23.207Z"
   },
   {
    "duration": 16,
    "start_time": "2022-03-25T20:43:33.794Z"
   },
   {
    "duration": 20,
    "start_time": "2022-03-25T20:44:14.502Z"
   },
   {
    "duration": 18,
    "start_time": "2022-03-25T20:45:37.950Z"
   },
   {
    "duration": 19,
    "start_time": "2022-03-25T20:48:08.157Z"
   },
   {
    "duration": 4,
    "start_time": "2022-03-25T20:54:45.938Z"
   },
   {
    "duration": 14,
    "start_time": "2022-03-25T20:56:10.859Z"
   },
   {
    "duration": 12,
    "start_time": "2022-03-25T20:59:03.042Z"
   },
   {
    "duration": 12,
    "start_time": "2022-03-25T20:59:16.459Z"
   },
   {
    "duration": 10,
    "start_time": "2022-03-25T21:03:30.296Z"
   },
   {
    "duration": 34,
    "start_time": "2022-03-25T21:05:21.380Z"
   },
   {
    "duration": 33,
    "start_time": "2022-03-25T21:07:13.142Z"
   },
   {
    "duration": 10,
    "start_time": "2022-03-25T21:24:53.145Z"
   },
   {
    "duration": 12,
    "start_time": "2022-03-25T21:25:18.326Z"
   },
   {
    "duration": 36,
    "start_time": "2022-03-25T21:25:59.616Z"
   },
   {
    "duration": 12,
    "start_time": "2022-03-25T21:26:18.221Z"
   },
   {
    "duration": 1570,
    "start_time": "2022-03-25T21:26:30.150Z"
   },
   {
    "duration": 38,
    "start_time": "2022-03-25T21:26:31.722Z"
   },
   {
    "duration": 5,
    "start_time": "2022-03-25T21:26:31.762Z"
   },
   {
    "duration": 53,
    "start_time": "2022-03-25T21:26:31.770Z"
   },
   {
    "duration": 4,
    "start_time": "2022-03-25T21:26:31.825Z"
   },
   {
    "duration": 100,
    "start_time": "2022-03-25T21:26:31.832Z"
   },
   {
    "duration": 9,
    "start_time": "2022-03-25T21:26:31.935Z"
   },
   {
    "duration": 53,
    "start_time": "2022-03-25T21:26:31.975Z"
   },
   {
    "duration": 7,
    "start_time": "2022-03-25T21:26:32.030Z"
   },
   {
    "duration": 46,
    "start_time": "2022-03-25T21:26:32.073Z"
   },
   {
    "duration": 16,
    "start_time": "2022-03-25T21:26:32.121Z"
   },
   {
    "duration": 49,
    "start_time": "2022-03-25T21:26:32.139Z"
   },
   {
    "duration": 13,
    "start_time": "2022-03-25T21:26:32.190Z"
   },
   {
    "duration": 158,
    "start_time": "2022-03-25T21:26:32.205Z"
   },
   {
    "duration": 580,
    "start_time": "2022-03-25T21:26:32.374Z"
   },
   {
    "duration": 9,
    "start_time": "2022-03-25T21:26:32.956Z"
   },
   {
    "duration": 758,
    "start_time": "2022-03-25T21:26:32.974Z"
   },
   {
    "duration": 511,
    "start_time": "2022-03-25T21:26:33.735Z"
   },
   {
    "duration": 36,
    "start_time": "2022-03-25T21:26:34.250Z"
   },
   {
    "duration": 420,
    "start_time": "2022-03-25T21:26:34.288Z"
   },
   {
    "duration": 7,
    "start_time": "2022-03-25T21:26:34.711Z"
   },
   {
    "duration": 337,
    "start_time": "2022-03-25T21:26:34.720Z"
   },
   {
    "duration": 26,
    "start_time": "2022-03-25T21:26:35.059Z"
   },
   {
    "duration": 437,
    "start_time": "2022-03-25T21:26:35.087Z"
   },
   {
    "duration": 329,
    "start_time": "2022-03-25T21:26:35.526Z"
   },
   {
    "duration": 209,
    "start_time": "2022-03-25T21:26:35.874Z"
   },
   {
    "duration": 7,
    "start_time": "2022-03-25T21:26:36.085Z"
   },
   {
    "duration": 268,
    "start_time": "2022-03-25T21:26:36.097Z"
   },
   {
    "duration": 13,
    "start_time": "2022-03-25T21:26:36.367Z"
   },
   {
    "duration": 147,
    "start_time": "2022-03-25T21:26:36.383Z"
   },
   {
    "duration": 58,
    "start_time": "2022-03-25T21:26:36.533Z"
   },
   {
    "duration": 345,
    "start_time": "2022-03-25T21:26:36.594Z"
   },
   {
    "duration": 0,
    "start_time": "2022-03-25T21:26:36.943Z"
   },
   {
    "duration": 0,
    "start_time": "2022-03-25T21:26:36.945Z"
   },
   {
    "duration": 0,
    "start_time": "2022-03-25T21:26:36.947Z"
   },
   {
    "duration": 0,
    "start_time": "2022-03-25T21:26:36.950Z"
   },
   {
    "duration": 0,
    "start_time": "2022-03-25T21:26:36.953Z"
   },
   {
    "duration": 0,
    "start_time": "2022-03-25T21:26:36.974Z"
   },
   {
    "duration": 38,
    "start_time": "2022-03-25T21:27:00.179Z"
   },
   {
    "duration": 31,
    "start_time": "2022-03-25T21:28:07.172Z"
   },
   {
    "duration": 1543,
    "start_time": "2022-03-25T21:28:40.515Z"
   },
   {
    "duration": 37,
    "start_time": "2022-03-25T21:28:42.060Z"
   },
   {
    "duration": 5,
    "start_time": "2022-03-25T21:28:42.099Z"
   },
   {
    "duration": 57,
    "start_time": "2022-03-25T21:28:42.107Z"
   },
   {
    "duration": 5,
    "start_time": "2022-03-25T21:28:42.174Z"
   },
   {
    "duration": 51,
    "start_time": "2022-03-25T21:28:42.181Z"
   },
   {
    "duration": 7,
    "start_time": "2022-03-25T21:28:42.234Z"
   },
   {
    "duration": 35,
    "start_time": "2022-03-25T21:28:42.274Z"
   },
   {
    "duration": 5,
    "start_time": "2022-03-25T21:28:42.312Z"
   },
   {
    "duration": 73,
    "start_time": "2022-03-25T21:28:42.321Z"
   },
   {
    "duration": 18,
    "start_time": "2022-03-25T21:28:42.396Z"
   },
   {
    "duration": 17,
    "start_time": "2022-03-25T21:28:42.416Z"
   },
   {
    "duration": 39,
    "start_time": "2022-03-25T21:28:42.436Z"
   },
   {
    "duration": 167,
    "start_time": "2022-03-25T21:28:42.478Z"
   },
   {
    "duration": 481,
    "start_time": "2022-03-25T21:28:42.648Z"
   },
   {
    "duration": 10,
    "start_time": "2022-03-25T21:28:43.132Z"
   },
   {
    "duration": 794,
    "start_time": "2022-03-25T21:28:43.146Z"
   },
   {
    "duration": 526,
    "start_time": "2022-03-25T21:28:43.943Z"
   },
   {
    "duration": 26,
    "start_time": "2022-03-25T21:28:44.475Z"
   },
   {
    "duration": 638,
    "start_time": "2022-03-25T21:28:44.504Z"
   },
   {
    "duration": 9,
    "start_time": "2022-03-25T21:28:45.145Z"
   },
   {
    "duration": 374,
    "start_time": "2022-03-25T21:28:45.157Z"
   },
   {
    "duration": 20,
    "start_time": "2022-03-25T21:28:45.534Z"
   },
   {
    "duration": 472,
    "start_time": "2022-03-25T21:28:45.557Z"
   },
   {
    "duration": 273,
    "start_time": "2022-03-25T21:28:46.032Z"
   },
   {
    "duration": 227,
    "start_time": "2022-03-25T21:28:46.307Z"
   },
   {
    "duration": 8,
    "start_time": "2022-03-25T21:28:46.535Z"
   },
   {
    "duration": 265,
    "start_time": "2022-03-25T21:28:46.547Z"
   },
   {
    "duration": 7,
    "start_time": "2022-03-25T21:28:46.816Z"
   },
   {
    "duration": 129,
    "start_time": "2022-03-25T21:28:46.826Z"
   },
   {
    "duration": 42,
    "start_time": "2022-03-25T21:28:46.957Z"
   },
   {
    "duration": 38,
    "start_time": "2022-03-25T21:28:47.002Z"
   },
   {
    "duration": 42,
    "start_time": "2022-03-25T21:28:47.042Z"
   },
   {
    "duration": 4,
    "start_time": "2022-03-25T21:28:47.086Z"
   },
   {
    "duration": 42,
    "start_time": "2022-03-25T21:28:47.093Z"
   },
   {
    "duration": 15,
    "start_time": "2022-03-25T21:28:47.137Z"
   },
   {
    "duration": 42,
    "start_time": "2022-03-25T21:28:47.155Z"
   },
   {
    "duration": 162,
    "start_time": "2022-03-25T21:28:47.199Z"
   },
   {
    "duration": 30,
    "start_time": "2022-03-25T21:31:34.832Z"
   },
   {
    "duration": 25,
    "start_time": "2022-03-25T21:36:40.906Z"
   },
   {
    "duration": 10,
    "start_time": "2022-03-25T21:39:24.052Z"
   },
   {
    "duration": 99,
    "start_time": "2022-03-25T21:40:04.412Z"
   },
   {
    "duration": 11,
    "start_time": "2022-03-25T21:40:20.192Z"
   },
   {
    "duration": 96,
    "start_time": "2022-03-25T21:41:55.511Z"
   },
   {
    "duration": 28,
    "start_time": "2022-03-25T21:42:16.510Z"
   },
   {
    "duration": 29,
    "start_time": "2022-03-25T21:42:51.748Z"
   },
   {
    "duration": 27,
    "start_time": "2022-03-25T21:48:12.031Z"
   },
   {
    "duration": 33,
    "start_time": "2022-03-25T21:51:33.534Z"
   },
   {
    "duration": 33,
    "start_time": "2022-03-25T21:51:46.228Z"
   },
   {
    "duration": 46,
    "start_time": "2022-03-26T11:22:48.573Z"
   },
   {
    "duration": 1327,
    "start_time": "2022-03-26T11:27:03.996Z"
   },
   {
    "duration": 46,
    "start_time": "2022-03-26T11:27:05.325Z"
   },
   {
    "duration": 4,
    "start_time": "2022-03-26T11:27:05.373Z"
   },
   {
    "duration": 43,
    "start_time": "2022-03-26T11:27:05.379Z"
   },
   {
    "duration": 3,
    "start_time": "2022-03-26T11:27:05.424Z"
   },
   {
    "duration": 51,
    "start_time": "2022-03-26T11:27:05.429Z"
   },
   {
    "duration": 5,
    "start_time": "2022-03-26T11:27:05.483Z"
   },
   {
    "duration": 37,
    "start_time": "2022-03-26T11:27:05.489Z"
   },
   {
    "duration": 12,
    "start_time": "2022-03-26T11:27:05.528Z"
   },
   {
    "duration": 35,
    "start_time": "2022-03-26T11:27:05.543Z"
   },
   {
    "duration": 17,
    "start_time": "2022-03-26T11:27:05.580Z"
   },
   {
    "duration": 12,
    "start_time": "2022-03-26T11:27:05.599Z"
   },
   {
    "duration": 14,
    "start_time": "2022-03-26T11:27:05.613Z"
   },
   {
    "duration": 89,
    "start_time": "2022-03-26T11:27:05.628Z"
   },
   {
    "duration": 285,
    "start_time": "2022-03-26T11:27:05.718Z"
   },
   {
    "duration": 6,
    "start_time": "2022-03-26T11:27:06.005Z"
   },
   {
    "duration": 379,
    "start_time": "2022-03-26T11:27:06.013Z"
   },
   {
    "duration": 198,
    "start_time": "2022-03-26T11:27:06.394Z"
   },
   {
    "duration": 11,
    "start_time": "2022-03-26T11:27:06.594Z"
   },
   {
    "duration": 377,
    "start_time": "2022-03-26T11:27:06.607Z"
   },
   {
    "duration": 6,
    "start_time": "2022-03-26T11:27:06.986Z"
   },
   {
    "duration": 282,
    "start_time": "2022-03-26T11:27:06.994Z"
   },
   {
    "duration": 18,
    "start_time": "2022-03-26T11:27:07.278Z"
   },
   {
    "duration": 438,
    "start_time": "2022-03-26T11:27:07.298Z"
   },
   {
    "duration": 162,
    "start_time": "2022-03-26T11:27:07.738Z"
   },
   {
    "duration": 139,
    "start_time": "2022-03-26T11:27:07.901Z"
   },
   {
    "duration": 6,
    "start_time": "2022-03-26T11:27:08.042Z"
   },
   {
    "duration": 191,
    "start_time": "2022-03-26T11:27:08.053Z"
   },
   {
    "duration": 6,
    "start_time": "2022-03-26T11:27:08.246Z"
   },
   {
    "duration": 124,
    "start_time": "2022-03-26T11:27:08.254Z"
   },
   {
    "duration": 18,
    "start_time": "2022-03-26T11:27:08.380Z"
   },
   {
    "duration": 49,
    "start_time": "2022-03-26T11:27:08.400Z"
   },
   {
    "duration": 15,
    "start_time": "2022-03-26T11:27:08.451Z"
   },
   {
    "duration": 4,
    "start_time": "2022-03-26T11:27:08.467Z"
   },
   {
    "duration": 13,
    "start_time": "2022-03-26T11:27:08.472Z"
   },
   {
    "duration": 12,
    "start_time": "2022-03-26T11:27:08.487Z"
   },
   {
    "duration": 61,
    "start_time": "2022-03-26T11:27:08.500Z"
   },
   {
    "duration": 20,
    "start_time": "2022-03-26T11:27:08.562Z"
   },
   {
    "duration": 1216,
    "start_time": "2022-03-26T12:38:16.519Z"
   },
   {
    "duration": 37,
    "start_time": "2022-03-26T12:38:17.737Z"
   },
   {
    "duration": 4,
    "start_time": "2022-03-26T12:38:17.775Z"
   },
   {
    "duration": 59,
    "start_time": "2022-03-26T12:38:17.780Z"
   },
   {
    "duration": 3,
    "start_time": "2022-03-26T12:38:17.841Z"
   },
   {
    "duration": 37,
    "start_time": "2022-03-26T12:38:17.846Z"
   },
   {
    "duration": 5,
    "start_time": "2022-03-26T12:38:17.885Z"
   },
   {
    "duration": 52,
    "start_time": "2022-03-26T12:38:17.891Z"
   },
   {
    "duration": 4,
    "start_time": "2022-03-26T12:38:17.944Z"
   },
   {
    "duration": 25,
    "start_time": "2022-03-26T12:38:17.951Z"
   },
   {
    "duration": 10,
    "start_time": "2022-03-26T12:38:17.978Z"
   },
   {
    "duration": 10,
    "start_time": "2022-03-26T12:38:17.990Z"
   },
   {
    "duration": 9,
    "start_time": "2022-03-26T12:38:18.034Z"
   },
   {
    "duration": 66,
    "start_time": "2022-03-26T12:38:18.044Z"
   },
   {
    "duration": 291,
    "start_time": "2022-03-26T12:38:18.111Z"
   },
   {
    "duration": 7,
    "start_time": "2022-03-26T12:38:18.404Z"
   },
   {
    "duration": 275,
    "start_time": "2022-03-26T12:38:18.412Z"
   },
   {
    "duration": 186,
    "start_time": "2022-03-26T12:38:18.689Z"
   },
   {
    "duration": 13,
    "start_time": "2022-03-26T12:38:18.877Z"
   },
   {
    "duration": 341,
    "start_time": "2022-03-26T12:38:18.892Z"
   },
   {
    "duration": 7,
    "start_time": "2022-03-26T12:38:19.234Z"
   },
   {
    "duration": 205,
    "start_time": "2022-03-26T12:38:19.243Z"
   },
   {
    "duration": 14,
    "start_time": "2022-03-26T12:38:19.450Z"
   },
   {
    "duration": 296,
    "start_time": "2022-03-26T12:38:19.466Z"
   },
   {
    "duration": 121,
    "start_time": "2022-03-26T12:38:19.764Z"
   },
   {
    "duration": 124,
    "start_time": "2022-03-26T12:38:19.886Z"
   },
   {
    "duration": 5,
    "start_time": "2022-03-26T12:38:20.012Z"
   },
   {
    "duration": 143,
    "start_time": "2022-03-26T12:38:20.033Z"
   },
   {
    "duration": 4,
    "start_time": "2022-03-26T12:38:20.177Z"
   },
   {
    "duration": 102,
    "start_time": "2022-03-26T12:38:20.183Z"
   },
   {
    "duration": 18,
    "start_time": "2022-03-26T12:38:20.287Z"
   },
   {
    "duration": 40,
    "start_time": "2022-03-26T12:38:20.307Z"
   },
   {
    "duration": 13,
    "start_time": "2022-03-26T12:38:20.349Z"
   },
   {
    "duration": 3,
    "start_time": "2022-03-26T12:38:20.363Z"
   },
   {
    "duration": 15,
    "start_time": "2022-03-26T12:38:20.367Z"
   },
   {
    "duration": 9,
    "start_time": "2022-03-26T12:38:20.383Z"
   },
   {
    "duration": 42,
    "start_time": "2022-03-26T12:38:20.393Z"
   },
   {
    "duration": 17,
    "start_time": "2022-03-26T12:38:20.437Z"
   },
   {
    "duration": 119,
    "start_time": "2022-03-26T12:38:20.456Z"
   },
   {
    "duration": 158,
    "start_time": "2022-03-28T12:13:47.670Z"
   }
  ],
  "kernelspec": {
   "display_name": "Python 3 (ipykernel)",
   "language": "python",
   "name": "python3"
  },
  "language_info": {
   "codemirror_mode": {
    "name": "ipython",
    "version": 3
   },
   "file_extension": ".py",
   "mimetype": "text/x-python",
   "name": "python",
   "nbconvert_exporter": "python",
   "pygments_lexer": "ipython3",
   "version": "3.9.5"
  },
  "toc": {
   "base_numbering": 1,
   "nav_menu": {},
   "number_sections": true,
   "sideBar": true,
   "skip_h1_title": true,
   "title_cell": "Table of Contents",
   "title_sidebar": "Contents",
   "toc_cell": true,
   "toc_position": {
    "height": "calc(100% - 180px)",
    "left": "10px",
    "top": "150px",
    "width": "289.6px"
   },
   "toc_section_display": true,
   "toc_window_display": true
  }
 },
 "nbformat": 4,
 "nbformat_minor": 2
}
