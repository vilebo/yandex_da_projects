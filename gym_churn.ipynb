{
 "cells": [
  {
   "cell_type": "markdown",
   "metadata": {
    "toc": true
   },
   "source": [
    "<h1>Table of Contents<span class=\"tocSkip\"></span></h1>\n",
    "<div class=\"toc\"><ul class=\"toc-item\"><li><span><a href=\"#Описание-проекта\" data-toc-modified-id=\"Описание-проекта-1\"><span class=\"toc-item-num\">1&nbsp;&nbsp;</span>Описание проекта</a></span></li><li><span><a href=\"#Общая-информация\" data-toc-modified-id=\"Общая-информация-2\"><span class=\"toc-item-num\">2&nbsp;&nbsp;</span>Общая информация</a></span><ul class=\"toc-item\"><li><span><a href=\"#Вывод\" data-toc-modified-id=\"Вывод-2.1\"><span class=\"toc-item-num\">2.1&nbsp;&nbsp;</span>Вывод</a></span></li></ul></li><li><span><a href=\"#Исследовательский-анализ-данных-(EDA)\" data-toc-modified-id=\"Исследовательский-анализ-данных-(EDA)-3\"><span class=\"toc-item-num\">3&nbsp;&nbsp;</span>Исследовательский анализ данных (EDA)</a></span><ul class=\"toc-item\"><li><span><a href=\"#Изучение-данных\" data-toc-modified-id=\"Изучение-данных-3.1\"><span class=\"toc-item-num\">3.1&nbsp;&nbsp;</span>Изучение данных</a></span></li><li><span><a href=\"#Анализ-распределений-признаков\" data-toc-modified-id=\"Анализ-распределений-признаков-3.2\"><span class=\"toc-item-num\">3.2&nbsp;&nbsp;</span>Анализ распределений признаков</a></span></li><li><span><a href=\"#Матрица-корреляции\" data-toc-modified-id=\"Матрица-корреляции-3.3\"><span class=\"toc-item-num\">3.3&nbsp;&nbsp;</span>Матрица корреляции</a></span></li><li><span><a href=\"#Вывод\" data-toc-modified-id=\"Вывод-3.4\"><span class=\"toc-item-num\">3.4&nbsp;&nbsp;</span>Вывод</a></span></li></ul></li><li><span><a href=\"#Построение-модели-прогнозирования-оттока-клиентов\" data-toc-modified-id=\"Построение-модели-прогнозирования-оттока-клиентов-4\"><span class=\"toc-item-num\">4&nbsp;&nbsp;</span>Построение модели прогнозирования оттока клиентов</a></span><ul class=\"toc-item\"><li><span><a href=\"#Вывод\" data-toc-modified-id=\"Вывод-4.1\"><span class=\"toc-item-num\">4.1&nbsp;&nbsp;</span>Вывод</a></span></li></ul></li><li><span><a href=\"#Кластеризация-клиентов\" data-toc-modified-id=\"Кластеризация-клиентов-5\"><span class=\"toc-item-num\">5&nbsp;&nbsp;</span>Кластеризация клиентов</a></span><ul class=\"toc-item\"><li><span><a href=\"#Построение-дендограммы\" data-toc-modified-id=\"Построение-дендограммы-5.1\"><span class=\"toc-item-num\">5.1&nbsp;&nbsp;</span>Построение дендограммы</a></span></li><li><span><a href=\"#Обучение-модели-кластеризации-на-основании-алгоритма-K-Means-и-прогнозирование-кластеров-клиентов\" data-toc-modified-id=\"Обучение-модели-кластеризации-на-основании-алгоритма-K-Means-и-прогнозирование-кластеров-клиентов-5.2\"><span class=\"toc-item-num\">5.2&nbsp;&nbsp;</span>Обучение модели кластеризации на основании алгоритма K-Means и прогнозирование кластеров клиентов</a></span></li><li><span><a href=\"#Cредние-значения-признаков-для-кластеров\" data-toc-modified-id=\"Cредние-значения-признаков-для-кластеров-5.3\"><span class=\"toc-item-num\">5.3&nbsp;&nbsp;</span>Cредние значения признаков для кластеров</a></span></li><li><span><a href=\"#Построение-распределения-признаков-для-кластеров\" data-toc-modified-id=\"Построение-распределения-признаков-для-кластеров-5.4\"><span class=\"toc-item-num\">5.4&nbsp;&nbsp;</span>Построение распределения признаков для кластеров</a></span></li><li><span><a href=\"#Расчет-доли-оттока-.-Какие-кластеры-склонны-к-оттоку,-а-какие-—-надёжны?\" data-toc-modified-id=\"Расчет-доли-оттока-.-Какие-кластеры-склонны-к-оттоку,-а-какие-—-надёжны?-5.5\"><span class=\"toc-item-num\">5.5&nbsp;&nbsp;</span>Расчет доли оттока . Какие кластеры склонны к оттоку, а какие — надёжны?</a></span></li><li><span><a href=\"#Вывод\" data-toc-modified-id=\"Вывод-5.6\"><span class=\"toc-item-num\">5.6&nbsp;&nbsp;</span>Вывод</a></span></li></ul></li><li><span><a href=\"#Выводы-и-рекомендации\" data-toc-modified-id=\"Выводы-и-рекомендации-6\"><span class=\"toc-item-num\">6&nbsp;&nbsp;</span>Выводы и рекомендации</a></span></li></ul></div>"
   ]
  },
  {
   "cell_type": "markdown",
   "metadata": {},
   "source": [
    "# Проноз оттока посетителей длясети фитнесс-центров"
   ]
  },
  {
   "cell_type": "markdown",
   "metadata": {},
   "source": [
    "## Описание проекта"
   ]
  },
  {
   "cell_type": "markdown",
   "metadata": {},
   "source": [
    "**Задача**\n",
    "\n",
    "Сеть фитнес-центров «Культурист-датасаентист» разрабатывает стратегию взаимодействия с клиентами на основе аналитических данных.   \n",
    "Чтобы бороться с оттоком, отдел по работе с клиентами «Культуриста-датасаентиста» перевёл в электронный вид множество клиентских анкет. Задача — провести анализ и подготовить план действий по удержанию клиентов.   \n",
    "\n",
    "А именно:   \n",
    "\n",
    "- спрогнозировать вероятность оттока (на уровне следующего месяца) для каждого клиента;   \n",
    "\n",
    "- сформировать типичные портреты клиентов: выделить несколько наиболее ярких групп и охарактеризовать их основные свойства;  \n",
    "\n",
    "- проанализировать основные признаки, наиболее сильно влияющие на отток;  \n",
    "\n",
    "- сформулировать основные выводы и разработать рекомендации по повышению качества работы с клиентами:  \n",
    "\n",
    "    1) выделить целевые группы клиентов;   \n",
    "    2) предложить меры по снижению оттока;   \n",
    "    3) определить другие особенности взаимодействия с клиентами.  \n",
    "    \n",
    "    \n",
    " **Путь к файлу:** /datasets/gym_churn.csv \n",
    " \n",
    " **Описание данных**   \n",
    " \n",
    " Данные клиента за предыдущий до проверки факта оттока месяц:  \n",
    "- **'gender'** — пол;  \n",
    "- **'Near_Location'** — проживание или работа в районе, где находится фитнес-центр;  \n",
    "- **'Partner'** — сотрудник компании-партнёра клуба (сотрудничество с компаниями, чьи сотрудники могут получать скидки на абонемент — в таком случае фитнес-центр хранит информацию о работодателе клиента);  \n",
    "- **Promo_friends** — факт первоначальной записи в рамках акции «приведи друга» (использовал промо-код от знакомого при оплате первого абонемента);  \n",
    "- **'Phone'** — наличие контактного телефона;  \n",
    "- **'Age'** — возраст;  \n",
    "- **'Lifetime'** — время с момента первого обращения в фитнес-центр (в месяцах).  \n",
    "\n",
    "Информация на основе журнала посещений, покупок и информация о текущем статусе абонемента клиента:\n",
    "\n",
    "- **'Contract_period'** — длительность текущего действующего абонемента (месяц, 6 месяцев, год);\n",
    "- **'Month_to_end_contract'** — срок до окончания текущего действующего абонемента (в месяцах);\n",
    "- **'Group_visits'** — факт посещения групповых занятий;\n",
    "- **'Avg_class_frequency_total'** — средняя частота посещений в неделю за все время с начала действия абонемента;\n",
    "- **'Avg_class_frequency_current_month'** — средняя частота посещений в неделю за предыдущий месяц;\n",
    "- **'Avg_additional_charges_total'** — суммарная выручка от других услуг фитнес-центра: кафе, спорттовары, косметический и массажный салон.\n",
    "- **'Churn'** — факт оттока в текущем месяце.\n",
    " \n",
    "    "
   ]
  },
  {
   "cell_type": "markdown",
   "metadata": {},
   "source": [
    "## Общая информация"
   ]
  },
  {
   "cell_type": "code",
   "execution_count": 46,
   "metadata": {},
   "outputs": [],
   "source": [
    "import warnings\n",
    "warnings.filterwarnings('ignore') #скрытие предупреждений\n",
    "\n",
    "import pandas as pd\n",
    "import numpy as np\n",
    "import matplotlib.pyplot as plt\n",
    "import seaborn as sns\n",
    "from plotly import graph_objects as go\n",
    "\n",
    "from sklearn.model_selection import train_test_split\n",
    "from sklearn.linear_model import LogisticRegression\n",
    "from sklearn.ensemble import RandomForestClassifier\n",
    "from sklearn.preprocessing import StandardScaler\n",
    "from sklearn.metrics import accuracy_score, precision_score, recall_score\n",
    "from scipy.cluster.hierarchy import dendrogram, linkage \n",
    "from sklearn.cluster import KMeans\n",
    "from sklearn.metrics import silhouette_score\n",
    "\n",
    "\n",
    "\n",
    "#сокращение количества цифр после запятой\n",
    "pd.set_option('display.precision',2)\n",
    "\n",
    "#увеличение максимальной ширины столбцов\n",
    "pd.options.display.max_colwidth = 100"
   ]
  },
  {
   "cell_type": "code",
   "execution_count": 2,
   "metadata": {},
   "outputs": [],
   "source": [
    "#загрузка таблицы\n",
    "gym_churn = pd.read_csv('/datasets/gym_churn.csv')"
   ]
  },
  {
   "cell_type": "code",
   "execution_count": 3,
   "metadata": {},
   "outputs": [],
   "source": [
    "#Функция для просмотра основных сведений о таблице\n",
    "def table_info(table):\n",
    "    \n",
    "    display(table.head())\n",
    "    display(table.info())\n",
    "    print('Явных дубликатов в таблице:', table.duplicated().sum())\n",
    "    \n",
    "    return table_info"
   ]
  },
  {
   "cell_type": "code",
   "execution_count": 4,
   "metadata": {
    "scrolled": true
   },
   "outputs": [
    {
     "data": {
      "text/html": [
       "<div>\n",
       "<style scoped>\n",
       "    .dataframe tbody tr th:only-of-type {\n",
       "        vertical-align: middle;\n",
       "    }\n",
       "\n",
       "    .dataframe tbody tr th {\n",
       "        vertical-align: top;\n",
       "    }\n",
       "\n",
       "    .dataframe thead th {\n",
       "        text-align: right;\n",
       "    }\n",
       "</style>\n",
       "<table border=\"1\" class=\"dataframe\">\n",
       "  <thead>\n",
       "    <tr style=\"text-align: right;\">\n",
       "      <th></th>\n",
       "      <th>gender</th>\n",
       "      <th>Near_Location</th>\n",
       "      <th>Partner</th>\n",
       "      <th>Promo_friends</th>\n",
       "      <th>Phone</th>\n",
       "      <th>Contract_period</th>\n",
       "      <th>Group_visits</th>\n",
       "      <th>Age</th>\n",
       "      <th>Avg_additional_charges_total</th>\n",
       "      <th>Month_to_end_contract</th>\n",
       "      <th>Lifetime</th>\n",
       "      <th>Avg_class_frequency_total</th>\n",
       "      <th>Avg_class_frequency_current_month</th>\n",
       "      <th>Churn</th>\n",
       "    </tr>\n",
       "  </thead>\n",
       "  <tbody>\n",
       "    <tr>\n",
       "      <th>0</th>\n",
       "      <td>1</td>\n",
       "      <td>1</td>\n",
       "      <td>1</td>\n",
       "      <td>1</td>\n",
       "      <td>0</td>\n",
       "      <td>6</td>\n",
       "      <td>1</td>\n",
       "      <td>29</td>\n",
       "      <td>14.23</td>\n",
       "      <td>5.0</td>\n",
       "      <td>3</td>\n",
       "      <td>0.02</td>\n",
       "      <td>0.00</td>\n",
       "      <td>0</td>\n",
       "    </tr>\n",
       "    <tr>\n",
       "      <th>1</th>\n",
       "      <td>0</td>\n",
       "      <td>1</td>\n",
       "      <td>0</td>\n",
       "      <td>0</td>\n",
       "      <td>1</td>\n",
       "      <td>12</td>\n",
       "      <td>1</td>\n",
       "      <td>31</td>\n",
       "      <td>113.20</td>\n",
       "      <td>12.0</td>\n",
       "      <td>7</td>\n",
       "      <td>1.92</td>\n",
       "      <td>1.91</td>\n",
       "      <td>0</td>\n",
       "    </tr>\n",
       "    <tr>\n",
       "      <th>2</th>\n",
       "      <td>0</td>\n",
       "      <td>1</td>\n",
       "      <td>1</td>\n",
       "      <td>0</td>\n",
       "      <td>1</td>\n",
       "      <td>1</td>\n",
       "      <td>0</td>\n",
       "      <td>28</td>\n",
       "      <td>129.45</td>\n",
       "      <td>1.0</td>\n",
       "      <td>2</td>\n",
       "      <td>1.86</td>\n",
       "      <td>1.74</td>\n",
       "      <td>0</td>\n",
       "    </tr>\n",
       "    <tr>\n",
       "      <th>3</th>\n",
       "      <td>0</td>\n",
       "      <td>1</td>\n",
       "      <td>1</td>\n",
       "      <td>1</td>\n",
       "      <td>1</td>\n",
       "      <td>12</td>\n",
       "      <td>1</td>\n",
       "      <td>33</td>\n",
       "      <td>62.67</td>\n",
       "      <td>12.0</td>\n",
       "      <td>2</td>\n",
       "      <td>3.21</td>\n",
       "      <td>3.36</td>\n",
       "      <td>0</td>\n",
       "    </tr>\n",
       "    <tr>\n",
       "      <th>4</th>\n",
       "      <td>1</td>\n",
       "      <td>1</td>\n",
       "      <td>1</td>\n",
       "      <td>1</td>\n",
       "      <td>1</td>\n",
       "      <td>1</td>\n",
       "      <td>0</td>\n",
       "      <td>26</td>\n",
       "      <td>198.36</td>\n",
       "      <td>1.0</td>\n",
       "      <td>3</td>\n",
       "      <td>1.11</td>\n",
       "      <td>1.12</td>\n",
       "      <td>0</td>\n",
       "    </tr>\n",
       "  </tbody>\n",
       "</table>\n",
       "</div>"
      ],
      "text/plain": [
       "   gender  Near_Location  Partner  Promo_friends  Phone  Contract_period  \\\n",
       "0       1              1        1              1      0                6   \n",
       "1       0              1        0              0      1               12   \n",
       "2       0              1        1              0      1                1   \n",
       "3       0              1        1              1      1               12   \n",
       "4       1              1        1              1      1                1   \n",
       "\n",
       "   Group_visits  Age  Avg_additional_charges_total  Month_to_end_contract  \\\n",
       "0             1   29                         14.23                    5.0   \n",
       "1             1   31                        113.20                   12.0   \n",
       "2             0   28                        129.45                    1.0   \n",
       "3             1   33                         62.67                   12.0   \n",
       "4             0   26                        198.36                    1.0   \n",
       "\n",
       "   Lifetime  Avg_class_frequency_total  Avg_class_frequency_current_month  \\\n",
       "0         3                       0.02                               0.00   \n",
       "1         7                       1.92                               1.91   \n",
       "2         2                       1.86                               1.74   \n",
       "3         2                       3.21                               3.36   \n",
       "4         3                       1.11                               1.12   \n",
       "\n",
       "   Churn  \n",
       "0      0  \n",
       "1      0  \n",
       "2      0  \n",
       "3      0  \n",
       "4      0  "
      ]
     },
     "metadata": {},
     "output_type": "display_data"
    },
    {
     "name": "stdout",
     "output_type": "stream",
     "text": [
      "<class 'pandas.core.frame.DataFrame'>\n",
      "RangeIndex: 4000 entries, 0 to 3999\n",
      "Data columns (total 14 columns):\n",
      " #   Column                             Non-Null Count  Dtype  \n",
      "---  ------                             --------------  -----  \n",
      " 0   gender                             4000 non-null   int64  \n",
      " 1   Near_Location                      4000 non-null   int64  \n",
      " 2   Partner                            4000 non-null   int64  \n",
      " 3   Promo_friends                      4000 non-null   int64  \n",
      " 4   Phone                              4000 non-null   int64  \n",
      " 5   Contract_period                    4000 non-null   int64  \n",
      " 6   Group_visits                       4000 non-null   int64  \n",
      " 7   Age                                4000 non-null   int64  \n",
      " 8   Avg_additional_charges_total       4000 non-null   float64\n",
      " 9   Month_to_end_contract              4000 non-null   float64\n",
      " 10  Lifetime                           4000 non-null   int64  \n",
      " 11  Avg_class_frequency_total          4000 non-null   float64\n",
      " 12  Avg_class_frequency_current_month  4000 non-null   float64\n",
      " 13  Churn                              4000 non-null   int64  \n",
      "dtypes: float64(4), int64(10)\n",
      "memory usage: 437.6 KB\n"
     ]
    },
    {
     "data": {
      "text/plain": [
       "None"
      ]
     },
     "metadata": {},
     "output_type": "display_data"
    },
    {
     "name": "stdout",
     "output_type": "stream",
     "text": [
      "Явных дубликатов в таблице: 0\n"
     ]
    }
   ],
   "source": [
    "#Информация о таблице \n",
    "gym_churn_info = table_info(gym_churn)"
   ]
  },
  {
   "cell_type": "markdown",
   "metadata": {},
   "source": [
    "В целом, на первый взгляд данные в порядке. Явных дубликатов нет, пропусков нет, типы данных соответсвующие. Приведу названия столбцов к нижнему регистру и приступлю к анализу."
   ]
  },
  {
   "cell_type": "code",
   "execution_count": 5,
   "metadata": {
    "scrolled": true
   },
   "outputs": [],
   "source": [
    "# Приведу названия столбцов к нижнему регистру\n",
    "gym_churn.columns = gym_churn.columns.str.lower()"
   ]
  },
  {
   "cell_type": "markdown",
   "metadata": {},
   "source": [
    "### Вывод\n",
    "\n",
    "Таблица загружена, данные в порядке. Явных дубликатов нет, пропусков нет, типы данных подходящие.   \n",
    "Названия столбцов были приведены к нижнему регистру. \n",
    "Можно приступать к анализу."
   ]
  },
  {
   "cell_type": "markdown",
   "metadata": {},
   "source": [
    "## Исследовательский анализ данных (EDA)\n",
    "\n",
    "План действий:\n",
    "- С помощью метода describe() изучить датасет: есть ли в нем отсутствующие признаки, какие средние значения и стандартные отклонения;  \n",
    "- Посмотреть на средние значения признаков в двух группах — тех, кто ушел в отток и тех, кто остался;  \n",
    "- Построить столбчатые гистограммы и распределения признаков для тех, кто ушёл (отток) и тех, кто остался (не попали в отток);\n",
    "- Построить матрицу корреляций и отобразите её."
   ]
  },
  {
   "cell_type": "markdown",
   "metadata": {},
   "source": [
    "### Изучение данных"
   ]
  },
  {
   "cell_type": "code",
   "execution_count": 6,
   "metadata": {},
   "outputs": [
    {
     "data": {
      "text/html": [
       "<div>\n",
       "<style scoped>\n",
       "    .dataframe tbody tr th:only-of-type {\n",
       "        vertical-align: middle;\n",
       "    }\n",
       "\n",
       "    .dataframe tbody tr th {\n",
       "        vertical-align: top;\n",
       "    }\n",
       "\n",
       "    .dataframe thead th {\n",
       "        text-align: right;\n",
       "    }\n",
       "</style>\n",
       "<table border=\"1\" class=\"dataframe\">\n",
       "  <thead>\n",
       "    <tr style=\"text-align: right;\">\n",
       "      <th></th>\n",
       "      <th>gender</th>\n",
       "      <th>near_location</th>\n",
       "      <th>partner</th>\n",
       "      <th>promo_friends</th>\n",
       "      <th>phone</th>\n",
       "      <th>contract_period</th>\n",
       "      <th>group_visits</th>\n",
       "      <th>age</th>\n",
       "      <th>avg_additional_charges_total</th>\n",
       "      <th>month_to_end_contract</th>\n",
       "      <th>lifetime</th>\n",
       "      <th>avg_class_frequency_total</th>\n",
       "      <th>avg_class_frequency_current_month</th>\n",
       "      <th>churn</th>\n",
       "    </tr>\n",
       "  </thead>\n",
       "  <tbody>\n",
       "    <tr>\n",
       "      <th>count</th>\n",
       "      <td>4000.00</td>\n",
       "      <td>4000.00</td>\n",
       "      <td>4000.00</td>\n",
       "      <td>4000.00</td>\n",
       "      <td>4000.0</td>\n",
       "      <td>4000.00</td>\n",
       "      <td>4000.00</td>\n",
       "      <td>4000.00</td>\n",
       "      <td>4000.00</td>\n",
       "      <td>4000.00</td>\n",
       "      <td>4000.00</td>\n",
       "      <td>4000.00</td>\n",
       "      <td>4000.00</td>\n",
       "      <td>4000.00</td>\n",
       "    </tr>\n",
       "    <tr>\n",
       "      <th>mean</th>\n",
       "      <td>0.51</td>\n",
       "      <td>0.85</td>\n",
       "      <td>0.49</td>\n",
       "      <td>0.31</td>\n",
       "      <td>0.9</td>\n",
       "      <td>4.68</td>\n",
       "      <td>0.41</td>\n",
       "      <td>29.18</td>\n",
       "      <td>146.94</td>\n",
       "      <td>4.32</td>\n",
       "      <td>3.72</td>\n",
       "      <td>1.88</td>\n",
       "      <td>1.77</td>\n",
       "      <td>0.27</td>\n",
       "    </tr>\n",
       "    <tr>\n",
       "      <th>std</th>\n",
       "      <td>0.50</td>\n",
       "      <td>0.36</td>\n",
       "      <td>0.50</td>\n",
       "      <td>0.46</td>\n",
       "      <td>0.3</td>\n",
       "      <td>4.55</td>\n",
       "      <td>0.49</td>\n",
       "      <td>3.26</td>\n",
       "      <td>96.36</td>\n",
       "      <td>4.19</td>\n",
       "      <td>3.75</td>\n",
       "      <td>0.97</td>\n",
       "      <td>1.05</td>\n",
       "      <td>0.44</td>\n",
       "    </tr>\n",
       "    <tr>\n",
       "      <th>min</th>\n",
       "      <td>0.00</td>\n",
       "      <td>0.00</td>\n",
       "      <td>0.00</td>\n",
       "      <td>0.00</td>\n",
       "      <td>0.0</td>\n",
       "      <td>1.00</td>\n",
       "      <td>0.00</td>\n",
       "      <td>18.00</td>\n",
       "      <td>0.15</td>\n",
       "      <td>1.00</td>\n",
       "      <td>0.00</td>\n",
       "      <td>0.00</td>\n",
       "      <td>0.00</td>\n",
       "      <td>0.00</td>\n",
       "    </tr>\n",
       "    <tr>\n",
       "      <th>25%</th>\n",
       "      <td>0.00</td>\n",
       "      <td>1.00</td>\n",
       "      <td>0.00</td>\n",
       "      <td>0.00</td>\n",
       "      <td>1.0</td>\n",
       "      <td>1.00</td>\n",
       "      <td>0.00</td>\n",
       "      <td>27.00</td>\n",
       "      <td>68.87</td>\n",
       "      <td>1.00</td>\n",
       "      <td>1.00</td>\n",
       "      <td>1.18</td>\n",
       "      <td>0.96</td>\n",
       "      <td>0.00</td>\n",
       "    </tr>\n",
       "    <tr>\n",
       "      <th>50%</th>\n",
       "      <td>1.00</td>\n",
       "      <td>1.00</td>\n",
       "      <td>0.00</td>\n",
       "      <td>0.00</td>\n",
       "      <td>1.0</td>\n",
       "      <td>1.00</td>\n",
       "      <td>0.00</td>\n",
       "      <td>29.00</td>\n",
       "      <td>136.22</td>\n",
       "      <td>1.00</td>\n",
       "      <td>3.00</td>\n",
       "      <td>1.83</td>\n",
       "      <td>1.72</td>\n",
       "      <td>0.00</td>\n",
       "    </tr>\n",
       "    <tr>\n",
       "      <th>75%</th>\n",
       "      <td>1.00</td>\n",
       "      <td>1.00</td>\n",
       "      <td>1.00</td>\n",
       "      <td>1.00</td>\n",
       "      <td>1.0</td>\n",
       "      <td>6.00</td>\n",
       "      <td>1.00</td>\n",
       "      <td>31.00</td>\n",
       "      <td>210.95</td>\n",
       "      <td>6.00</td>\n",
       "      <td>5.00</td>\n",
       "      <td>2.54</td>\n",
       "      <td>2.51</td>\n",
       "      <td>1.00</td>\n",
       "    </tr>\n",
       "    <tr>\n",
       "      <th>max</th>\n",
       "      <td>1.00</td>\n",
       "      <td>1.00</td>\n",
       "      <td>1.00</td>\n",
       "      <td>1.00</td>\n",
       "      <td>1.0</td>\n",
       "      <td>12.00</td>\n",
       "      <td>1.00</td>\n",
       "      <td>41.00</td>\n",
       "      <td>552.59</td>\n",
       "      <td>12.00</td>\n",
       "      <td>31.00</td>\n",
       "      <td>6.02</td>\n",
       "      <td>6.15</td>\n",
       "      <td>1.00</td>\n",
       "    </tr>\n",
       "  </tbody>\n",
       "</table>\n",
       "</div>"
      ],
      "text/plain": [
       "        gender  near_location  partner  promo_friends   phone  \\\n",
       "count  4000.00        4000.00  4000.00        4000.00  4000.0   \n",
       "mean      0.51           0.85     0.49           0.31     0.9   \n",
       "std       0.50           0.36     0.50           0.46     0.3   \n",
       "min       0.00           0.00     0.00           0.00     0.0   \n",
       "25%       0.00           1.00     0.00           0.00     1.0   \n",
       "50%       1.00           1.00     0.00           0.00     1.0   \n",
       "75%       1.00           1.00     1.00           1.00     1.0   \n",
       "max       1.00           1.00     1.00           1.00     1.0   \n",
       "\n",
       "       contract_period  group_visits      age  avg_additional_charges_total  \\\n",
       "count          4000.00       4000.00  4000.00                       4000.00   \n",
       "mean              4.68          0.41    29.18                        146.94   \n",
       "std               4.55          0.49     3.26                         96.36   \n",
       "min               1.00          0.00    18.00                          0.15   \n",
       "25%               1.00          0.00    27.00                         68.87   \n",
       "50%               1.00          0.00    29.00                        136.22   \n",
       "75%               6.00          1.00    31.00                        210.95   \n",
       "max              12.00          1.00    41.00                        552.59   \n",
       "\n",
       "       month_to_end_contract  lifetime  avg_class_frequency_total  \\\n",
       "count                4000.00   4000.00                    4000.00   \n",
       "mean                    4.32      3.72                       1.88   \n",
       "std                     4.19      3.75                       0.97   \n",
       "min                     1.00      0.00                       0.00   \n",
       "25%                     1.00      1.00                       1.18   \n",
       "50%                     1.00      3.00                       1.83   \n",
       "75%                     6.00      5.00                       2.54   \n",
       "max                    12.00     31.00                       6.02   \n",
       "\n",
       "       avg_class_frequency_current_month    churn  \n",
       "count                            4000.00  4000.00  \n",
       "mean                                1.77     0.27  \n",
       "std                                 1.05     0.44  \n",
       "min                                 0.00     0.00  \n",
       "25%                                 0.96     0.00  \n",
       "50%                                 1.72     0.00  \n",
       "75%                                 2.51     1.00  \n",
       "max                                 6.15     1.00  "
      ]
     },
     "execution_count": 6,
     "metadata": {},
     "output_type": "execute_result"
    }
   ],
   "source": [
    "# изучение структуры, средних значения и стандартных отклонений\n",
    "gym_churn.describe()"
   ]
  },
  {
   "cell_type": "markdown",
   "metadata": {},
   "source": [
    "В датасете есть стобцы с булевыми значениями (0/1) - gender, near_location, partner, promo_friends, phone, group_visits, churn. Т.е. чем ближе среднее к единице, тем больше клиентов с этим признаком.  \n",
    "\n",
    "Основные выводы:\n",
    "\n",
    "- По полу клиенты разделяются практически поровну;\n",
    "- Большая часть клиентов (85%) живут или работают рядом с фитнес-центром;\n",
    "- Половина клиентов пришли по корпоративной программе (сотрудники компаний-партнеров);\n",
    "- 31% клиентов пришли по рекомендации (воспользовались акцией \"Приведи друга\" при покупке первого абонемента);\n",
    "- 10% клиентов не указали телефон;\n",
    "- Половина клиентов имеют абонемент всего на месяц, только 25% приобрели абонементы на 6 и более месяцев;\n",
    "- 41% клиентов посещают групповые занятия;\n",
    "- Клиентами клуба являютсмя достаточно молодые люди, средний возраст клиентов 29 лет;\n",
    "- Выручка от прочих услуг в среднем - 147у.е. с клиента, однако дополнительными услугами клиенты пользуются в разной степени (достаточно широкий разброс значений);\n",
    "- Среднее время до конца абонемента 4,3 месяца, но у большинства всего месяц (опять же широкий разброс значений);\n",
    "- Средняя \"продолжительность жизни\" клиентов составляеть около 4 месяцев, медианное значение - 3 месяца. Но есть и приверженцы, кто занимается в клубе почти 3 года;\n",
    "- Средняя частота посещений в неделю за все время с начала действия абонемента - 1.88 дня, 25% клиентов посещают зал 2-3 раза в неделю;\n",
    "- Средняя частота посещений в неделю за предыдущий месяц почти совпадает с посещаемостью за все время;\n",
    "- Факт оттока в текущем месяце зафиксирован у 27% клиентов, т.е. более четверти клиентов перестали пользоваться услугами фитнес-центра, по сравнению с прошлым месяцем. Это очень высокий показатель.\n"
   ]
  },
  {
   "cell_type": "markdown",
   "metadata": {},
   "source": [
    "Посмотрю на распределение средних значений в двух группах — тех, кто ушел в отток и тех, кто остался."
   ]
  },
  {
   "cell_type": "code",
   "execution_count": 7,
   "metadata": {},
   "outputs": [
    {
     "data": {
      "text/html": [
       "<div>\n",
       "<style scoped>\n",
       "    .dataframe tbody tr th:only-of-type {\n",
       "        vertical-align: middle;\n",
       "    }\n",
       "\n",
       "    .dataframe tbody tr th {\n",
       "        vertical-align: top;\n",
       "    }\n",
       "\n",
       "    .dataframe thead th {\n",
       "        text-align: right;\n",
       "    }\n",
       "</style>\n",
       "<table border=\"1\" class=\"dataframe\">\n",
       "  <thead>\n",
       "    <tr style=\"text-align: right;\">\n",
       "      <th></th>\n",
       "      <th>gender</th>\n",
       "      <th>near_location</th>\n",
       "      <th>partner</th>\n",
       "      <th>promo_friends</th>\n",
       "      <th>phone</th>\n",
       "      <th>contract_period</th>\n",
       "      <th>group_visits</th>\n",
       "      <th>age</th>\n",
       "      <th>avg_additional_charges_total</th>\n",
       "      <th>month_to_end_contract</th>\n",
       "      <th>lifetime</th>\n",
       "      <th>avg_class_frequency_total</th>\n",
       "      <th>avg_class_frequency_current_month</th>\n",
       "    </tr>\n",
       "    <tr>\n",
       "      <th>churn</th>\n",
       "      <th></th>\n",
       "      <th></th>\n",
       "      <th></th>\n",
       "      <th></th>\n",
       "      <th></th>\n",
       "      <th></th>\n",
       "      <th></th>\n",
       "      <th></th>\n",
       "      <th></th>\n",
       "      <th></th>\n",
       "      <th></th>\n",
       "      <th></th>\n",
       "      <th></th>\n",
       "    </tr>\n",
       "  </thead>\n",
       "  <tbody>\n",
       "    <tr>\n",
       "      <th>0</th>\n",
       "      <td>0.51</td>\n",
       "      <td>0.87</td>\n",
       "      <td>0.53</td>\n",
       "      <td>0.35</td>\n",
       "      <td>0.9</td>\n",
       "      <td>5.75</td>\n",
       "      <td>0.46</td>\n",
       "      <td>29.98</td>\n",
       "      <td>158.45</td>\n",
       "      <td>5.28</td>\n",
       "      <td>4.71</td>\n",
       "      <td>2.02</td>\n",
       "      <td>2.03</td>\n",
       "    </tr>\n",
       "    <tr>\n",
       "      <th>1</th>\n",
       "      <td>0.51</td>\n",
       "      <td>0.77</td>\n",
       "      <td>0.36</td>\n",
       "      <td>0.18</td>\n",
       "      <td>0.9</td>\n",
       "      <td>1.73</td>\n",
       "      <td>0.27</td>\n",
       "      <td>26.99</td>\n",
       "      <td>115.08</td>\n",
       "      <td>1.66</td>\n",
       "      <td>0.99</td>\n",
       "      <td>1.47</td>\n",
       "      <td>1.04</td>\n",
       "    </tr>\n",
       "  </tbody>\n",
       "</table>\n",
       "</div>"
      ],
      "text/plain": [
       "       gender  near_location  partner  promo_friends  phone  contract_period  \\\n",
       "churn                                                                          \n",
       "0        0.51           0.87     0.53           0.35    0.9             5.75   \n",
       "1        0.51           0.77     0.36           0.18    0.9             1.73   \n",
       "\n",
       "       group_visits    age  avg_additional_charges_total  \\\n",
       "churn                                                      \n",
       "0              0.46  29.98                        158.45   \n",
       "1              0.27  26.99                        115.08   \n",
       "\n",
       "       month_to_end_contract  lifetime  avg_class_frequency_total  \\\n",
       "churn                                                               \n",
       "0                       5.28      4.71                       2.02   \n",
       "1                       1.66      0.99                       1.47   \n",
       "\n",
       "       avg_class_frequency_current_month  \n",
       "churn                                     \n",
       "0                                   2.03  \n",
       "1                                   1.04  "
      ]
     },
     "execution_count": 7,
     "metadata": {},
     "output_type": "execute_result"
    }
   ],
   "source": [
    "# Посмотрю на различия средних значений в зависимости от признака 'churn'\n",
    "gym_churn.groupby('churn').mean()"
   ]
  },
  {
   "cell_type": "markdown",
   "metadata": {},
   "source": [
    "Среди оставшихся пользователей больше средний процент живущих/работающих рядом (но всего на 10%), занимающихся по партнерской программе и пришедших по рекомендации друга. Заметно отличается и срок абонемента - средний срок абонементов отпавших клиентов 1,75 мес, против 5,75 для оставшихся (это скорее всего связано с партнерской программой, когда работодатель оплачивает абонемент на длительный срок - 6 мес). Отпавшие клиенты реже посещали групповые занятия, тратели деньги на дополнительные товары и услуги, а также реже посещали зал (в среднем 1 раз в неделю, против 2 раз среди оставшихся).  \n",
    "Можно сделать вывод, что оставшиеся клиенты более вовлечены и лояльны.  \n",
    "При этом, отпавшие клиенты по большей части живут/работают рядом, но редко приходят по приглашению друга и покупают абонементы на короткий срок.  "
   ]
  },
  {
   "cell_type": "markdown",
   "metadata": {},
   "source": [
    "### Анализ распределений признаков\n",
    "\n",
    "Построю столбчатые гистограммы и распределения признаков для тех, кто ушел и тех, кто остался.\n",
    "\n",
    "Как уже было выявлено, в таблице есть дискретные переменные (столбцы с булевыми переменными) и непрерывные. Для первых буду использовать столбчатые диаграммы, а для визуализации распределения непрерывных значений буду использовать метод distplot(), который сочетает гистограмму с линейным графиком."
   ]
  },
  {
   "cell_type": "code",
   "execution_count": 8,
   "metadata": {},
   "outputs": [],
   "source": [
    "# отберу булевые столбцы \n",
    "bool_columns = ['gender', 'near_location', 'partner', 'promo_friends', 'phone', 'group_visits']\n",
    "#столбцы с непрерывными значениями\n",
    "not_bool_columns = ['contract_period', 'age', 'avg_additional_charges_total', 'month_to_end_contract', 'lifetime', 'avg_class_frequency_total', 'avg_class_frequency_current_month']\n",
    "\n",
    "\n",
    "stayed = gym_churn.query('churn==0')\n",
    "left = gym_churn.query('churn==1')\n"
   ]
  },
  {
   "cell_type": "code",
   "execution_count": 9,
   "metadata": {},
   "outputs": [],
   "source": [
    "#for col in bool_columns:\n",
    "#    if col in bool_columns:\n",
    "        #gym_churn.groupby('churn')[col].hist()\n",
    "        \n",
    "        #plt.title(col)\n",
    "        #plt.legend(['Остались', 'Ушли в отток'])\n",
    "        #plt.show()\n"
   ]
  },
  {
   "cell_type": "code",
   "execution_count": 10,
   "metadata": {},
   "outputs": [
    {
     "data": {
      "image/png": "[encoded data removed]",
      "text/plain": [
       "<Figure size 1152x720 with 6 Axes>"
      ]
     },
     "metadata": {
      "needs_background": "light"
     },
     "output_type": "display_data"
    }
   ],
   "source": [
    "row_count, col_count = 2, 3 \n",
    "fig, ax = plt.subplots(figsize = (16, 10))\n",
    "for n, col in enumerate(bool_columns):\n",
    "        plt.subplot(row_count, col_count, n+1)\n",
    "        gym_churn.groupby('churn')[col].hist(ax = plt.gca())\n",
    "        plt.title(col)\n",
    "        plt.legend(['Остались', 'Ушли в отток'])\n",
    "        \n",
    "plt.suptitle('Распределения параметров с разбивкой по оттоку (булевые признаки)',fontsize=20)\n",
    "plt.tight_layout()"
   ]
  },
  {
   "cell_type": "markdown",
   "metadata": {},
   "source": [
    "- Пол не влияет на факт оттока;\n",
    "- Клиенты не живущие/работающие рядом с фитнесс-центом чаще уходят, чем остаются;\n",
    "- Среди клиентов, не участвующих в партнерской программе приблизительно равны доли ушедших и оставшихся. Клиенты, являющиеся участниками партнерской программы уходят реже;\n",
    "- Клиенты пришедшие по приглашению друга обычно остаются;\n",
    "- Отсуствие телефона в малой степени влияет на отток;\n",
    "- Посещающие групповые занятия реже уходят в отток;"
   ]
  },
  {
   "cell_type": "code",
   "execution_count": 31,
   "metadata": {},
   "outputs": [
    {
     "data": {
      "image/png": "[encoded data removed]",
      "text/plain": [
       "<Figure size 1152x1440 with 7 Axes>"
      ]
     },
     "metadata": {
      "needs_background": "light"
     },
     "output_type": "display_data"
    }
   ],
   "source": [
    "not_bool_columns = ['contract_period', 'age', 'avg_additional_charges_total', 'month_to_end_contract', 'lifetime', 'avg_class_frequency_total', 'avg_class_frequency_current_month']\n",
    "\n",
    "row_count, col_count = 4, 2 \n",
    "fig, ax = plt.subplots(figsize = (16, 20))\n",
    "for n, col in enumerate(not_bool_columns):\n",
    "        plt.subplot(row_count, col_count, n+1)\n",
    "        sns.distplot(stayed[col])\n",
    "        sns.distplot(left[col])\n",
    "        plt.title(col)\n",
    "        plt.legend(['Остались', 'Ушли в отток'])\n",
    "        #plt.show()\n",
    "plt.suptitle('Распределения параметров с разбивкой по оттоку',fontsize=20)    \n",
    "plt.tight_layout()"
   ]
  },
  {
   "cell_type": "markdown",
   "metadata": {},
   "source": [
    "- Клиенты с короткими абонементами значительно чаще уходят, самой опасной длиной абонемента можно считать 1 мес.;\n",
    "- Возраст не влияет на отток;\n",
    "- Уходящие в отток клиенты реже покупают/меньше тратят на дополнительные услуги;\n",
    "- Чем дольше до конца абонемента, тем чаще клиенты остаются и не уходят в отток; \n",
    "- Стоит выделить признак 'lifetime'- чем больше срок жизни клиента, тем он лояльнее;\n",
    "- В отток чаще уходят клиенты редко посещающие фитнес-центр. Если клиент посещает зал 3 и более раз в неделю, то он с большой долей вероятности останется. "
   ]
  },
  {
   "cell_type": "markdown",
   "metadata": {},
   "source": [
    "### Матрица корреляции\n",
    "\n",
    "Построю матрицу корреляции и посмотрю, какие признаки наиболее сильно коррелируют с целевой переменной и какие признаки сильно коррелируют между собой (что следует учесть  при построении модели)."
   ]
  },
  {
   "cell_type": "code",
   "execution_count": 12,
   "metadata": {
    "scrolled": false
   },
   "outputs": [
    {
     "data": {
      "image/png": "[encoded data removed]",
      "text/plain": [
       "<Figure size 1008x720 with 2 Axes>"
      ]
     },
     "metadata": {
      "needs_background": "light"
     },
     "output_type": "display_data"
    }
   ],
   "source": [
    "plt.figure(figsize=(14,10))\n",
    "sns.heatmap(data = gym_churn.corr(), annot=True, square=True, cmap='Blues')\n",
    "plt.title('Матрица корреляций')\n",
    "plt.show()"
   ]
  },
  {
   "cell_type": "markdown",
   "metadata": {},
   "source": [
    "- Не видно явной зависимости оттока клиентов от каких-либо признаков; \n",
    "\n",
    "- Наблюдается сильная корреляция между посещаемостью фитнес-центра за последний месяц и за весь период (уже было отмечено ранее), а также сроком абонемента и количеством месяцев до его окончания (что вполне логично).\n"
   ]
  },
  {
   "cell_type": "markdown",
   "metadata": {},
   "source": [
    "###  Вывод\n",
    "\n",
    "1. В ходе исселдовательского анализа было выявлено:\n",
    "    - По полу клиенты разделяются практически поровну;  \n",
    "    - Большая часть клиентов (85%) живут или работают рядом с фитнес-центром;  \n",
    "    - Половина клиентов пришли по корпоративной программе (сотрудники компаний-партнеров);  \n",
    "    - 31% клиентов пришли по рекомендации (воспользовались акцией \"Приведи друга\" при покупке первого абонемента);  \n",
    "    - 10% клиентов не указали телефон;\n",
    "    - **Половина клиентов имеют абонемент всего на месяц, только 25% приобрели абонементы на 6 и более месяцев**;  \n",
    "    - 41% клиентов посещают групповые занятия;\n",
    "    - Средний возраст клиентов 29 лет;\n",
    "    - Выручка от прочих услуг в среднем - 147у.е. с клиента, однако дополнительными услугами клиенты пользуются в разной степени (достаточно широкий разброс значений);\n",
    "    - Средняя \"продолжительность жизни\" клиентов составляеть около 4 месяцев, медианное значение - 3 месяца. Но есть и приверженцы, кто занимается в клубе почти 3 года;\n",
    "    - Средняя частота посещений в неделю за все время с начала действия абонемента - 1.88 дня, 25% клиентов посещают зал 2-3 раза в неделю;\n",
    "    - **Факт оттока в текущем месяце зафиксирован у 27% клиентов, т.е. более четверти клиентов перестали пользоваться услугами фитнес-центра, по сравнению с прошлым месяцем. Это очень высокий показатель.**\n",
    "\n",
    "\n",
    "2. Среди оставшихся пользователей в среднем больше живущих/работающих рядом (но всего на 10%), занимающихся по партнерской программе и пришедших по рекомендации друга. **Заметно отличается срок абонемента - средний срок абонементов отпавших клиентов 1,75 мес, против 5,75 для оставшихся (это скорее всего связано с партнерской программой, когда работодатель оплачивает абонемент на длительный срок - 6 мес)**. Отпавшие клиенты реже посещали групповые занятия, тратели деньги на дополнительные товары и услуги, а также реже посещали зал (в среднем 1 раз в неделю, против 2 раз среди оставшихся).  \n",
    "Можно сделать вывод, что оставшиеся клиенты более вовлечены и лояльны.\n",
    "**При этом, отпавшие клиенты по большей части живут/работают рядом, но редко приходят по приглашению друга и обычно покупают абонементы на короткий срок.**\n",
    "\n",
    "3. При изучении распределений признаков выявлено:\n",
    "    - Пол и возраст не влияет на факт оттока;\n",
    "    - Клиенты не живущие/работающие рядом с фитнесс-центом чаще уходят, чем остаются;\n",
    "    - Среди клиентов, не участвующих в партнерской программе приблизительно равны доли ушедших и оставшихся. Клиенты, являющиеся участниками партнерской программы уходят реже;\n",
    "    - Клиенты пришедшие по приглашению друга обычно остаются;\n",
    "    - Отсуствие телефона в малой степени влияет на отток;\n",
    "    - Посещающие групповые занятия реже уходят в отток;\n",
    "    - **Клиенты с короткими абонементами значительно чаще уходят, самой опасной длиной абонемента можно считать 1 мес.**;\n",
    "    - Чем дольше до конца абонемента, тем чаще клиенты остаются и не уходят в отток, чем больше срок жизни клиента, тем он лояльнее;\n",
    "    - В отток чаще уходят клиенты редко посещающие фитнес-центр. Если клиент посещает зал 3 и более раз в неделю, то он с большой долей вероятности останется.  \n",
    "    \n",
    "4. При построении матрицы корреляции было выявлено, что:\n",
    "    - Не видно явной зависимости оттока клиентов от каких-либо признаков;\n",
    "    - Наблюдается сильная корреляция между посещаемостью фитнес-центра за последний месяц и за весь период, а также сроком абонемента и количеством месяцев до его окончания.\n"
   ]
  },
  {
   "cell_type": "markdown",
   "metadata": {},
   "source": [
    "## Построение модели прогнозирования оттока клиентов\n",
    "\n",
    "\n",
    "План действий:  \n",
    "\n",
    "Построить модель бинарной классификации клиентов, где целевой признак — факт оттока клиента в следующем месяце:  \n",
    "    \n",
    "    - Разбить данные на обучающую и валидационную выборку функцией train_test_split();\n",
    "    - Обучить модель на train-выборке двумя способами:\n",
    "                        - логистической регрессией,  \n",
    "                        - случайным лесом.  \n",
    "                        \n",
    "    - Оценить метрики accuracy, precision и recall для обеих моделей на валидационной выборке. Сравнить по ним модели. \n",
    "    - Определить, какая модель показала себя лучше на основании метрик."
   ]
  },
  {
   "cell_type": "markdown",
   "metadata": {},
   "source": [
    "*По сути, когда мы решаем задачу бинарной классификации, обращаясь к логистической регрессии, то преобразуем линейную регрессию для вычисления вероятности принадлежности к классу 1. Именно поэтому логистическая, как и линейная регрессия , принадлежит к линейным моделям.*"
   ]
  },
  {
   "cell_type": "markdown",
   "metadata": {},
   "source": [
    "Так как в двух парах признаков наблюдается сильная корреляция (между посещаемостью фитнес-центра за последний месяц и за весь период, сроком абонемента и количеством месяцев до его окончания), что может негативно сказаться на качестве модели логистической регрессии. Удалю по одному из этих признаков для избежания мультиколлинеарности и как следствие переобучения модели."
   ]
  },
  {
   "cell_type": "code",
   "execution_count": 13,
   "metadata": {},
   "outputs": [],
   "source": [
    "#удаляю столбцы с высокой корреляцией\n",
    "gym_churn = gym_churn.drop(['month_to_end_contract', 'avg_class_frequency_current_month'], axis=1)"
   ]
  },
  {
   "cell_type": "markdown",
   "metadata": {},
   "source": [
    "Далее разделю выборку на признаки и целевую перемнную 'churn', разделю модель на обучающую и валидационную выборки, а также проведу стандартизацию, чтобы свести признаки к одному масштабу."
   ]
  },
  {
   "cell_type": "code",
   "execution_count": 14,
   "metadata": {},
   "outputs": [],
   "source": [
    "# разделю данные на признаки (матрица X) и целевую переменную (y)\n",
    "X = gym_churn.drop('churn', axis = 1)\n",
    "y = gym_churn['churn']\n",
    "\n",
    "# разделю модель на обучающую и валидационную выборку\n",
    "X_train, X_test, y_train, y_test = train_test_split(X, y, test_size=0.2, random_state=0)\n"
   ]
  },
  {
   "cell_type": "code",
   "execution_count": 15,
   "metadata": {},
   "outputs": [],
   "source": [
    "#Провожу стандартизацию \n",
    "# создам бъект класса StandardScaler и применю его к обучающей выборке\n",
    "scaler = StandardScaler()\n",
    "X_train_st = scaler.fit_transform(X_train)  # обучаею scaler и одновременно трансформирую матрицу для обучающей выборки\n",
    "# применяю стандартизацию к матрице признаков для тестовой выборки\n",
    "X_test_st = scaler.transform(X_test)\n"
   ]
  },
  {
   "cell_type": "markdown",
   "metadata": {},
   "source": [
    "Задам алгоритмы для моделей логистической регрессии и случайного леса, обучу модели, составлю прогнозы и выведу метрики классификации:  \n",
    "\n",
    "- accuracy - это доля верно угаданных ответов из всех прогнозов. Чем ближе значение accuracy к 100%, тем лучше;  \n",
    "- precision - точность. Т.е. доля правильных ответов только среди целевого класса;  \n",
    "- recall - полнота. Показывает, сколько реальных объектов \"1\" класса получилось обнаружить с помощью модели.  \n",
    "\n",
    "\n",
    "Каждая метрика принимает значения от 0 до 1. Чем ближе к единице, тем лучше. \n"
   ]
  },
  {
   "cell_type": "code",
   "execution_count": 16,
   "metadata": {
    "scrolled": true
   },
   "outputs": [
    {
     "name": "stdout",
     "output_type": "stream",
     "text": [
      "Метрики для модели логистической регрессии:\n",
      " accuracy_score: 0.89875\n",
      " precision_score: 0.7881773399014779\n",
      " recall_score:0.8080808080808081\n",
      "-------------------------------------\n",
      "Метрики для модели случайного леса:\n",
      " accuracy_score: 0.89\n",
      " precision_score: 0.7864583333333334\n",
      " recall_score:0.7626262626262627\n"
     ]
    }
   ],
   "source": [
    "# Задам алгоритм для модели логистической регрессии\n",
    "lr_model = LogisticRegression(random_state=0)\n",
    "# обучаю модель\n",
    "lr_model.fit(X_train_st, y_train)\n",
    "# прогнозы по обученной модели\n",
    "lr_predictions = lr_model.predict(X_test_st)\n",
    "lr_probabilities = lr_model.predict_proba(X_test_st)[:,1]\n",
    "# Вывожу метрики\n",
    "print('Метрики для модели логистической регрессии:')\n",
    "print(' accuracy_score: {}\\n precision_score: {}\\n recall_score:{}'.format(\n",
    "    accuracy_score(y_test, lr_predictions),\n",
    "    precision_score(y_test, lr_predictions),\n",
    "    recall_score(y_test, lr_predictions)\n",
    "))\n",
    "\n",
    "# Задам алгоритм для модели случайного леса\n",
    "rf_model = RandomForestClassifier(n_estimators = 100, random_state = 0) #n_estimators — число деревьев, на основании которых будем строить лес\n",
    "# обучаю модель\n",
    "rf_model.fit(X_train_st, y_train)\n",
    "# прогнозы по обученной модели\n",
    "rf_predictions = rf_model.predict(X_test_st)\n",
    "rf_probabilities = rf_model.predict_proba(X_test_st)[:,1]\n",
    "print('-------------------------------------')\n",
    "# Вывожу метрики\n",
    "print('Метрики для модели случайного леса:')\n",
    "print(' accuracy_score: {}\\n precision_score: {}\\n recall_score:{}'.format(\n",
    "    accuracy_score(y_test, rf_predictions),\n",
    "    precision_score(y_test, rf_predictions),\n",
    "    recall_score(y_test, rf_predictions)\n",
    "))\n"
   ]
  },
  {
   "cell_type": "markdown",
   "metadata": {},
   "source": [
    "Доля правильных ответов (accuracy) и точность прогноза (precision) для обеих моделей практически равны, полнота (recall) для модели логистической регрессии выше (81%) чем для модели случайного леса(76%). Таким образом, из-за достаточно высоких показателей метрик обе модели удачны, но модель логистической регрессии показала себя чуть лучше. \n"
   ]
  },
  {
   "cell_type": "markdown",
   "metadata": {},
   "source": [
    "### Вывод \n",
    "\n",
    "- Во избежание мультиколлинеарности были удалены сильно коррелирующие между собой столбцы (по одному из двух пар);\n",
    "- Для приведения признаков к одному масштабу проведена стандартизация;\n",
    "- Заданы алгоритмы и обучены две модели - логистической регрессии и случайного леса;\n",
    "- Оцениены метрики accuracy, precision и recall для обеих моделей на валидационной выборке;\n",
    "- **Доля правильных ответов (accuracy) и точность прогноза (precision) для обеих моделей практически равны, полнота (recall) для модели логистической регрессии выше (81%) чем для модели случайного леса(76%). Таким образом, из-за достаточно высоких показателей метрик обе модели удачны, но модель логистической регрессии показала себя чуть лучше.**"
   ]
  },
  {
   "cell_type": "markdown",
   "metadata": {},
   "source": [
    "## Кластеризация клиентов\n",
    "\n",
    "План действий:\n",
    "\n",
    "- Построить матрицу расстояний функцией linkage() на стандартизованной матрице признаков и нарисовать дендрограмму. \n",
    "- Обучить модель кластеризации на основании алгоритма K-Means и спрогнозировать кластеры клиентов. \n",
    "- Посмотреть на средние значения признаков для кластеров. \n",
    "- Построить распределения признаков для кластеров. \n",
    "- Для каждого полученного кластера посчитайте долю оттока. Определить, какие кластеры склонны к оттоку, а какие — надёжны."
   ]
  },
  {
   "cell_type": "markdown",
   "metadata": {},
   "source": [
    "### Построение дендограммы"
   ]
  },
  {
   "cell_type": "markdown",
   "metadata": {},
   "source": [
    "Возьму датасет с признаками (матрица Х) с исключенными столбцами с высокой корреляцией, стандартизирую данные (стандартизация из прошлого пункта не подходит, так как кластеризация - это задача обучения без учителя и делить выборку на обучающую и валидационную не нужно), нарисую дендограмму. "
   ]
  },
  {
   "cell_type": "code",
   "execution_count": 17,
   "metadata": {},
   "outputs": [],
   "source": [
    "# стандартизация всех параметров\n",
    "scaler.fit(X)\n",
    "\n",
    "# преобразование набора данных\n",
    "X_st = scaler.transform(X)\n"
   ]
  },
  {
   "cell_type": "code",
   "execution_count": 18,
   "metadata": {
    "scrolled": false
   },
   "outputs": [
    {
     "data": {
      "image/png": "[encoded data removed]",
      "text/plain": [
       "<Figure size 1080x720 with 1 Axes>"
      ]
     },
     "metadata": {
      "needs_background": "light"
     },
     "output_type": "display_data"
    }
   ],
   "source": [
    "# формирую таблицу связок\n",
    "linked = linkage(X_st, method = 'ward') \n",
    "# рисую дендограмму\n",
    "plt.figure(figsize=(15, 10))  \n",
    "dendrogram(linked, orientation='top')\n",
    "plt.title('Иерархическая кластеризация', fontsize=16)\n",
    "plt.show()"
   ]
  },
  {
   "cell_type": "markdown",
   "metadata": {},
   "source": [
    "Визуально выресовалось 4 кластера, но если провести линию между 40 и 60 - получится 5 кластеров (линия пересечет вертикальные линии 5 групп). Возможно, 2 кластер получатся достаточно похожими по характеристикам."
   ]
  },
  {
   "cell_type": "markdown",
   "metadata": {},
   "source": [
    "### Обучение модели кластеризации на основании алгоритма K-Means и прогнозирование кластеров клиентов"
   ]
  },
  {
   "cell_type": "code",
   "execution_count": 19,
   "metadata": {},
   "outputs": [],
   "source": [
    "# задам модель k_means с числом кластеров 5 и фиксирую значение random_state\n",
    "km = KMeans(n_clusters=5, random_state=0)\n",
    "# прогнозирую кластеры для наблюдений (алгоритм присваивает им номера от 0 до 4)\n",
    "labels = km.fit_predict(X_st)\n",
    "# сохраню метки кластера в поле датасета\n",
    "gym_churn['cluster_km'] = labels"
   ]
  },
  {
   "cell_type": "markdown",
   "metadata": {},
   "source": [
    "Теперь можно вывести статистику по средним значениям признаков по кластерам."
   ]
  },
  {
   "cell_type": "markdown",
   "metadata": {},
   "source": [
    "### Cредние значения признаков для кластеров"
   ]
  },
  {
   "cell_type": "code",
   "execution_count": 20,
   "metadata": {
    "scrolled": true
   },
   "outputs": [
    {
     "data": {
      "text/html": [
       "<div>\n",
       "<style scoped>\n",
       "    .dataframe tbody tr th:only-of-type {\n",
       "        vertical-align: middle;\n",
       "    }\n",
       "\n",
       "    .dataframe tbody tr th {\n",
       "        vertical-align: top;\n",
       "    }\n",
       "\n",
       "    .dataframe thead th {\n",
       "        text-align: right;\n",
       "    }\n",
       "</style>\n",
       "<table border=\"1\" class=\"dataframe\">\n",
       "  <thead>\n",
       "    <tr style=\"text-align: right;\">\n",
       "      <th>cluster_km</th>\n",
       "      <th>0</th>\n",
       "      <th>1</th>\n",
       "      <th>2</th>\n",
       "      <th>3</th>\n",
       "      <th>4</th>\n",
       "    </tr>\n",
       "  </thead>\n",
       "  <tbody>\n",
       "    <tr>\n",
       "      <th>gender</th>\n",
       "      <td>0.50</td>\n",
       "      <td>0.49</td>\n",
       "      <td>0.51</td>\n",
       "      <td>0.54</td>\n",
       "      <td>0.52</td>\n",
       "    </tr>\n",
       "    <tr>\n",
       "      <th>near_location</th>\n",
       "      <td>0.00</td>\n",
       "      <td>1.00</td>\n",
       "      <td>1.00</td>\n",
       "      <td>1.00</td>\n",
       "      <td>0.86</td>\n",
       "    </tr>\n",
       "    <tr>\n",
       "      <th>partner</th>\n",
       "      <td>0.49</td>\n",
       "      <td>0.96</td>\n",
       "      <td>0.24</td>\n",
       "      <td>0.25</td>\n",
       "      <td>0.47</td>\n",
       "    </tr>\n",
       "    <tr>\n",
       "      <th>promo_friends</th>\n",
       "      <td>0.08</td>\n",
       "      <td>0.89</td>\n",
       "      <td>0.06</td>\n",
       "      <td>0.08</td>\n",
       "      <td>0.31</td>\n",
       "    </tr>\n",
       "    <tr>\n",
       "      <th>phone</th>\n",
       "      <td>1.00</td>\n",
       "      <td>1.00</td>\n",
       "      <td>1.00</td>\n",
       "      <td>1.00</td>\n",
       "      <td>0.00</td>\n",
       "    </tr>\n",
       "    <tr>\n",
       "      <th>contract_period</th>\n",
       "      <td>3.03</td>\n",
       "      <td>7.66</td>\n",
       "      <td>2.82</td>\n",
       "      <td>4.53</td>\n",
       "      <td>4.78</td>\n",
       "    </tr>\n",
       "    <tr>\n",
       "      <th>group_visits</th>\n",
       "      <td>0.24</td>\n",
       "      <td>0.46</td>\n",
       "      <td>0.00</td>\n",
       "      <td>1.00</td>\n",
       "      <td>0.43</td>\n",
       "    </tr>\n",
       "    <tr>\n",
       "      <th>age</th>\n",
       "      <td>28.72</td>\n",
       "      <td>29.54</td>\n",
       "      <td>28.77</td>\n",
       "      <td>29.54</td>\n",
       "      <td>29.30</td>\n",
       "    </tr>\n",
       "    <tr>\n",
       "      <th>avg_additional_charges_total</th>\n",
       "      <td>137.54</td>\n",
       "      <td>155.86</td>\n",
       "      <td>143.38</td>\n",
       "      <td>148.09</td>\n",
       "      <td>144.21</td>\n",
       "    </tr>\n",
       "    <tr>\n",
       "      <th>lifetime</th>\n",
       "      <td>3.06</td>\n",
       "      <td>4.38</td>\n",
       "      <td>3.34</td>\n",
       "      <td>3.76</td>\n",
       "      <td>3.94</td>\n",
       "    </tr>\n",
       "    <tr>\n",
       "      <th>avg_class_frequency_total</th>\n",
       "      <td>1.77</td>\n",
       "      <td>1.98</td>\n",
       "      <td>1.80</td>\n",
       "      <td>1.94</td>\n",
       "      <td>1.85</td>\n",
       "    </tr>\n",
       "    <tr>\n",
       "      <th>churn</th>\n",
       "      <td>0.40</td>\n",
       "      <td>0.12</td>\n",
       "      <td>0.38</td>\n",
       "      <td>0.20</td>\n",
       "      <td>0.27</td>\n",
       "    </tr>\n",
       "  </tbody>\n",
       "</table>\n",
       "</div>"
      ],
      "text/plain": [
       "cluster_km                         0       1       2       3       4\n",
       "gender                          0.50    0.49    0.51    0.54    0.52\n",
       "near_location                   0.00    1.00    1.00    1.00    0.86\n",
       "partner                         0.49    0.96    0.24    0.25    0.47\n",
       "promo_friends                   0.08    0.89    0.06    0.08    0.31\n",
       "phone                           1.00    1.00    1.00    1.00    0.00\n",
       "contract_period                 3.03    7.66    2.82    4.53    4.78\n",
       "group_visits                    0.24    0.46    0.00    1.00    0.43\n",
       "age                            28.72   29.54   28.77   29.54   29.30\n",
       "avg_additional_charges_total  137.54  155.86  143.38  148.09  144.21\n",
       "lifetime                        3.06    4.38    3.34    3.76    3.94\n",
       "avg_class_frequency_total       1.77    1.98    1.80    1.94    1.85\n",
       "churn                           0.40    0.12    0.38    0.20    0.27"
      ]
     },
     "execution_count": 20,
     "metadata": {},
     "output_type": "execute_result"
    }
   ],
   "source": [
    "#Так как признаков много, для удобства транспонирую таблицу\n",
    "gym_churn.groupby('cluster_km').mean().T "
   ]
  },
  {
   "cell_type": "markdown",
   "metadata": {},
   "source": [
    "**Пол и возраст равномерно распределены по кластерам, видимо они не влияют на отток, эти параметры дальше не буду рассматривать.**   \n",
    "\n",
    "\n",
    "\n",
    "\n",
    "**Вырисовываются следующие характеристики кластеров:**\n",
    "\n",
    "**Кластер 0:**\n",
    "- Самый высокий отток - 40%;  \n",
    "- Живут/ работают далеко от фитнес-центра;\n",
    "- Половина - участники партнерской программы;  \n",
    "- Редко приходят по рекомендации друзей;  \n",
    "- Абонементы в среднем на 3 месяца.\n",
    "\n",
    "\n",
    "**Кластер 1:**\n",
    "- Самые \"живучие\" клиенты с низким оттоком - всего 12%;  \n",
    "- Участники партнерской программы -96%;  \n",
    "- Пользуются рекомендацией друзей;  \n",
    "- Самые длинные контракты среди всех кластеров- в среднем почти 8 мес;  \n",
    "- Много тратят;\n",
    "- Посещают зал в среднем 2 раза в неделю.\n",
    "------\n",
    "Не клиенты, а мечта)))\n",
    "\n",
    "**Кластер 2:**\n",
    "- Большой отток - 38%;  \n",
    "- Не посещают групповые занятия вообще;  \n",
    "- Реже всего приходят по приглашению друга;  \n",
    "- Абонементы в среднем меньше 3 месяцев;\n",
    "\n",
    "**Кластер 3:** \n",
    "- Отток -20%;\n",
    "- Достаточно длинные абонементы, в среднем на 4-5 месяцев;\n",
    "- Все ходят на групповые занятия;  \n",
    "- Живут рядом;\n",
    "- Тратят достаточно много на доп. услуги;\n",
    "\n",
    "**Кластер 4:**\n",
    "- Отток - 27%;  \n",
    "- Половина -участники партнерской программы;\n",
    "- Не указали телефон;\n",
    "- Достаточно длинные абонементы, посещают часто;\n",
    "- Достаточно давно занимаются в этом фитнес-центре.\n",
    "\n"
   ]
  },
  {
   "cell_type": "markdown",
   "metadata": {},
   "source": [
    "На мой взгляд кластеризация прошла не самым успешным образом, так как не хватает разброса по длине абонементов, частоте посещений, тратам на доп. услуги. Явно выделены признаки отсутствия телефона, посещения групповых занятий - которые логически не кажутся самыми основными критериями для оттока.   \n",
    "\n",
    "Поэтому посмотрю на количество клиентов по каждой группе, а так же расчитаю метрику силуэта, которая показывает насколько объект своего кластера похож на свой кластер больше, чем на чужой. \n"
   ]
  },
  {
   "cell_type": "code",
   "execution_count": 21,
   "metadata": {
    "scrolled": true
   },
   "outputs": [
    {
     "data": {
      "text/plain": [
       "cluster_km\n",
       "0     561\n",
       "1    1050\n",
       "2    1132\n",
       "3     871\n",
       "4     386\n",
       "Name: gender, dtype: int64"
      ]
     },
     "execution_count": 21,
     "metadata": {},
     "output_type": "execute_result"
    }
   ],
   "source": [
    "#Количество клиентов в кластерах\n",
    "gym_churn.groupby(['cluster_km'])['gender'].count()"
   ]
  },
  {
   "cell_type": "markdown",
   "metadata": {},
   "source": [
    "С распределением по колличеству, в целом, нормально. Кластеры 0 и 2 с большим оттоком, самый сильный кластер (1) - второй по величине. 3 и 4 кластеры во многом схожи, по численности как один большой."
   ]
  },
  {
   "cell_type": "code",
   "execution_count": 22,
   "metadata": {
    "scrolled": true
   },
   "outputs": [
    {
     "name": "stdout",
     "output_type": "stream",
     "text": [
      "Silhouette_score: 0.14\n"
     ]
    }
   ],
   "source": [
    "from sklearn.metrics import silhouette_score\n",
    "print('Silhouette_score: {:.2f}'.format(silhouette_score(X_st, labels)))"
   ]
  },
  {
   "cell_type": "markdown",
   "metadata": {},
   "source": [
    "Значение метрики силуэта принимает значения от -1 до 1. Чем ближе к 1, тем качественнее кластеризация. Судя по значению метрики(0.14) - кластеризация прошла действительно неудачно."
   ]
  },
  {
   "cell_type": "markdown",
   "metadata": {},
   "source": [
    "### Построение распределения признаков для кластеров"
   ]
  },
  {
   "cell_type": "markdown",
   "metadata": {},
   "source": [
    "Построю графики для визуализации распределния признаков по кластерам. Пол и возраст рассматривать не буду, так как они равномерно распределены по кластерам."
   ]
  },
  {
   "cell_type": "code",
   "execution_count": 41,
   "metadata": {
    "scrolled": true
   },
   "outputs": [
    {
     "data": {
      "image/png": "[encoded data removed]",
      "text/plain": [
       "<Figure size 1152x720 with 5 Axes>"
      ]
     },
     "metadata": {
      "needs_background": "light"
     },
     "output_type": "display_data"
    }
   ],
   "source": [
    "# Гистограммы для булевых признаков\n",
    "bool_columns_cutted = ['near_location', 'partner', 'promo_friends', 'phone', 'group_visits']\n",
    "row_count, col_count = 2, 3 \n",
    "fig, ax = plt.subplots(figsize = (16, 10))\n",
    "for n, col in enumerate(bool_columns_cutted):\n",
    "        plt.subplot(row_count, col_count, n+1)\n",
    "        gym_churn.groupby('cluster_km')[col].hist()\n",
    "        plt.title(col)\n",
    "        plt.legend(['0', '1', '2', '3', '4'])\n",
    "        \n",
    "plt.suptitle('Распределения параметров с разбивкой по кластерам (булевые признаки)',fontsize=20)\n",
    "plt.tight_layout()"
   ]
  },
  {
   "cell_type": "markdown",
   "metadata": {},
   "source": [
    "Графики подтверждают выводы, сделанные по таблице средних значений. 0 кластер - живут далеко, 1 кластер - хороши во всем, 2 кластер - не посещают групповые занятия, 3 - имеют хоршие показатели, при этом в основном пришли сами, без партнерской программы и рекомендаций друзей, 4 - не указали телефон."
   ]
  },
  {
   "cell_type": "code",
   "execution_count": 36,
   "metadata": {},
   "outputs": [
    {
     "data": {
      "image/png": "[encoded data removed]",
      "text/plain": [
       "<Figure size 1152x720 with 4 Axes>"
      ]
     },
     "metadata": {
      "needs_background": "light"
     },
     "output_type": "display_data"
    }
   ],
   "source": [
    "#Для оценки распределния в остальных парметрах буду использовать боксплоты\n",
    "not_bool_columns_cutted = ['contract_period',  'avg_additional_charges_total', 'lifetime',  'avg_class_frequency_total']\n",
    "\n",
    "row_count, col_count = 2, 2 \n",
    "fig, ax = plt.subplots(figsize = (16, 10))\n",
    "for n, col in enumerate(not_bool_columns_cutted):\n",
    "        plt.subplot(row_count, col_count, n+1)\n",
    "        sns.boxplot(data = gym_churn, x = 'cluster_km', y = col , width=0.4)\n",
    "        plt.title(col)\n",
    "        \n",
    "plt.suptitle('Распределения параметров с разбивкой по кластерам',fontsize=20)    \n",
    "plt.tight_layout()\n"
   ]
  },
  {
   "cell_type": "markdown",
   "metadata": {},
   "source": [
    "Графики боксплотов подтверждают предположение о неочень качественном разделении на кластеры. Кроме длины абонемента для 1 кластера (значительно больше по сравнению с другими) и короткого срока жизни клиентов 0 кластера, заметно, что диапазоны основных значений по кластерам различаются незначительно. Т.е. разделение по бинарным признакам заметнее, чем по признакам с непрерывными значениями."
   ]
  },
  {
   "cell_type": "markdown",
   "metadata": {},
   "source": [
    "### Расчет доли оттока . Какие кластеры склонны к оттоку, а какие — надёжны?"
   ]
  },
  {
   "cell_type": "code",
   "execution_count": 50,
   "metadata": {
    "scrolled": true
   },
   "outputs": [
    {
     "data": {
      "text/plain": [
       "cluster_km\n",
       "0    0.21\n",
       "1    0.12\n",
       "2    0.41\n",
       "3    0.16\n",
       "4    0.10\n",
       "Name: churn, dtype: float64"
      ]
     },
     "execution_count": 50,
     "metadata": {},
     "output_type": "execute_result"
    }
   ],
   "source": [
    "churn_percent= gym_churn.query('churn==1').groupby('cluster_km')['churn'].sum() / gym_churn.query('churn==1')['churn'].sum()\n",
    "churn_percent"
   ]
  },
  {
   "cell_type": "code",
   "execution_count": 52,
   "metadata": {},
   "outputs": [
    {
     "data": {
      "application/vnd.plotly.v1+json": {
       "config": {
        "plotlyServerURL": "https://plot.ly"
       },
       "data": [
        {
         "labels": [
          0,
          1,
          2,
          3,
          4
         ],
         "type": "pie",
         "values": [
          0.2111215834118756,
          0.11969839773798303,
          0.4071630537229029,
          0.1649387370405278,
          0.09707822808671066
         ]
        }
       ],
       "layout": {
        "height": 400,
        "template": {
         "data": {
          "bar": [
           {
            "error_x": {
             "color": "#2a3f5f"
            },
            "error_y": {
             "color": "#2a3f5f"
            },
            "marker": {
             "line": {
              "color": "#E5ECF6",
              "width": 0.5
             },
             "pattern": {
              "fillmode": "overlay",
              "size": 10,
              "solidity": 0.2
             }
            },
            "type": "bar"
           }
          ],
          "barpolar": [
           {
            "marker": {
             "line": {
              "color": "#E5ECF6",
              "width": 0.5
             },
             "pattern": {
              "fillmode": "overlay",
              "size": 10,
              "solidity": 0.2
             }
            },
            "type": "barpolar"
           }
          ],
          "carpet": [
           {
            "aaxis": {
             "endlinecolor": "#2a3f5f",
             "gridcolor": "white",
             "linecolor": "white",
             "minorgridcolor": "white",
             "startlinecolor": "#2a3f5f"
            },
            "baxis": {
             "endlinecolor": "#2a3f5f",
             "gridcolor": "white",
             "linecolor": "white",
             "minorgridcolor": "white",
             "startlinecolor": "#2a3f5f"
            },
            "type": "carpet"
           }
          ],
          "choropleth": [
           {
            "colorbar": {
             "outlinewidth": 0,
             "ticks": ""
            },
            "type": "choropleth"
           }
          ],
          "contour": [
           {
            "colorbar": {
             "outlinewidth": 0,
             "ticks": ""
            },
            "colorscale": [
             [
              0,
              "#0d0887"
             ],
             [
              0.1111111111111111,
              "#46039f"
             ],
             [
              0.2222222222222222,
              "#7201a8"
             ],
             [
              0.3333333333333333,
              "#9c179e"
             ],
             [
              0.4444444444444444,
              "#bd3786"
             ],
             [
              0.5555555555555556,
              "#d8576b"
             ],
             [
              0.6666666666666666,
              "#ed7953"
             ],
             [
              0.7777777777777778,
              "#fb9f3a"
             ],
             [
              0.8888888888888888,
              "#fdca26"
             ],
             [
              1,
              "#f0f921"
             ]
            ],
            "type": "contour"
           }
          ],
          "contourcarpet": [
           {
            "colorbar": {
             "outlinewidth": 0,
             "ticks": ""
            },
            "type": "contourcarpet"
           }
          ],
          "heatmap": [
           {
            "colorbar": {
             "outlinewidth": 0,
             "ticks": ""
            },
            "colorscale": [
             [
              0,
              "#0d0887"
             ],
             [
              0.1111111111111111,
              "#46039f"
             ],
             [
              0.2222222222222222,
              "#7201a8"
             ],
             [
              0.3333333333333333,
              "#9c179e"
             ],
             [
              0.4444444444444444,
              "#bd3786"
             ],
             [
              0.5555555555555556,
              "#d8576b"
             ],
             [
              0.6666666666666666,
              "#ed7953"
             ],
             [
              0.7777777777777778,
              "#fb9f3a"
             ],
             [
              0.8888888888888888,
              "#fdca26"
             ],
             [
              1,
              "#f0f921"
             ]
            ],
            "type": "heatmap"
           }
          ],
          "heatmapgl": [
           {
            "colorbar": {
             "outlinewidth": 0,
             "ticks": ""
            },
            "colorscale": [
             [
              0,
              "#0d0887"
             ],
             [
              0.1111111111111111,
              "#46039f"
             ],
             [
              0.2222222222222222,
              "#7201a8"
             ],
             [
              0.3333333333333333,
              "#9c179e"
             ],
             [
              0.4444444444444444,
              "#bd3786"
             ],
             [
              0.5555555555555556,
              "#d8576b"
             ],
             [
              0.6666666666666666,
              "#ed7953"
             ],
             [
              0.7777777777777778,
              "#fb9f3a"
             ],
             [
              0.8888888888888888,
              "#fdca26"
             ],
             [
              1,
              "#f0f921"
             ]
            ],
            "type": "heatmapgl"
           }
          ],
          "histogram": [
           {
            "marker": {
             "pattern": {
              "fillmode": "overlay",
              "size": 10,
              "solidity": 0.2
             }
            },
            "type": "histogram"
           }
          ],
          "histogram2d": [
           {
            "colorbar": {
             "outlinewidth": 0,
             "ticks": ""
            },
            "colorscale": [
             [
              0,
              "#0d0887"
             ],
             [
              0.1111111111111111,
              "#46039f"
             ],
             [
              0.2222222222222222,
              "#7201a8"
             ],
             [
              0.3333333333333333,
              "#9c179e"
             ],
             [
              0.4444444444444444,
              "#bd3786"
             ],
             [
              0.5555555555555556,
              "#d8576b"
             ],
             [
              0.6666666666666666,
              "#ed7953"
             ],
             [
              0.7777777777777778,
              "#fb9f3a"
             ],
             [
              0.8888888888888888,
              "#fdca26"
             ],
             [
              1,
              "#f0f921"
             ]
            ],
            "type": "histogram2d"
           }
          ],
          "histogram2dcontour": [
           {
            "colorbar": {
             "outlinewidth": 0,
             "ticks": ""
            },
            "colorscale": [
             [
              0,
              "#0d0887"
             ],
             [
              0.1111111111111111,
              "#46039f"
             ],
             [
              0.2222222222222222,
              "#7201a8"
             ],
             [
              0.3333333333333333,
              "#9c179e"
             ],
             [
              0.4444444444444444,
              "#bd3786"
             ],
             [
              0.5555555555555556,
              "#d8576b"
             ],
             [
              0.6666666666666666,
              "#ed7953"
             ],
             [
              0.7777777777777778,
              "#fb9f3a"
             ],
             [
              0.8888888888888888,
              "#fdca26"
             ],
             [
              1,
              "#f0f921"
             ]
            ],
            "type": "histogram2dcontour"
           }
          ],
          "mesh3d": [
           {
            "colorbar": {
             "outlinewidth": 0,
             "ticks": ""
            },
            "type": "mesh3d"
           }
          ],
          "parcoords": [
           {
            "line": {
             "colorbar": {
              "outlinewidth": 0,
              "ticks": ""
             }
            },
            "type": "parcoords"
           }
          ],
          "pie": [
           {
            "automargin": true,
            "type": "pie"
           }
          ],
          "scatter": [
           {
            "marker": {
             "colorbar": {
              "outlinewidth": 0,
              "ticks": ""
             }
            },
            "type": "scatter"
           }
          ],
          "scatter3d": [
           {
            "line": {
             "colorbar": {
              "outlinewidth": 0,
              "ticks": ""
             }
            },
            "marker": {
             "colorbar": {
              "outlinewidth": 0,
              "ticks": ""
             }
            },
            "type": "scatter3d"
           }
          ],
          "scattercarpet": [
           {
            "marker": {
             "colorbar": {
              "outlinewidth": 0,
              "ticks": ""
             }
            },
            "type": "scattercarpet"
           }
          ],
          "scattergeo": [
           {
            "marker": {
             "colorbar": {
              "outlinewidth": 0,
              "ticks": ""
             }
            },
            "type": "scattergeo"
           }
          ],
          "scattergl": [
           {
            "marker": {
             "colorbar": {
              "outlinewidth": 0,
              "ticks": ""
             }
            },
            "type": "scattergl"
           }
          ],
          "scattermapbox": [
           {
            "marker": {
             "colorbar": {
              "outlinewidth": 0,
              "ticks": ""
             }
            },
            "type": "scattermapbox"
           }
          ],
          "scatterpolar": [
           {
            "marker": {
             "colorbar": {
              "outlinewidth": 0,
              "ticks": ""
             }
            },
            "type": "scatterpolar"
           }
          ],
          "scatterpolargl": [
           {
            "marker": {
             "colorbar": {
              "outlinewidth": 0,
              "ticks": ""
             }
            },
            "type": "scatterpolargl"
           }
          ],
          "scatterternary": [
           {
            "marker": {
             "colorbar": {
              "outlinewidth": 0,
              "ticks": ""
             }
            },
            "type": "scatterternary"
           }
          ],
          "surface": [
           {
            "colorbar": {
             "outlinewidth": 0,
             "ticks": ""
            },
            "colorscale": [
             [
              0,
              "#0d0887"
             ],
             [
              0.1111111111111111,
              "#46039f"
             ],
             [
              0.2222222222222222,
              "#7201a8"
             ],
             [
              0.3333333333333333,
              "#9c179e"
             ],
             [
              0.4444444444444444,
              "#bd3786"
             ],
             [
              0.5555555555555556,
              "#d8576b"
             ],
             [
              0.6666666666666666,
              "#ed7953"
             ],
             [
              0.7777777777777778,
              "#fb9f3a"
             ],
             [
              0.8888888888888888,
              "#fdca26"
             ],
             [
              1,
              "#f0f921"
             ]
            ],
            "type": "surface"
           }
          ],
          "table": [
           {
            "cells": {
             "fill": {
              "color": "#EBF0F8"
             },
             "line": {
              "color": "white"
             }
            },
            "header": {
             "fill": {
              "color": "#C8D4E3"
             },
             "line": {
              "color": "white"
             }
            },
            "type": "table"
           }
          ]
         },
         "layout": {
          "annotationdefaults": {
           "arrowcolor": "#2a3f5f",
           "arrowhead": 0,
           "arrowwidth": 1
          },
          "autotypenumbers": "strict",
          "coloraxis": {
           "colorbar": {
            "outlinewidth": 0,
            "ticks": ""
           }
          },
          "colorscale": {
           "diverging": [
            [
             0,
             "#8e0152"
            ],
            [
             0.1,
             "#c51b7d"
            ],
            [
             0.2,
             "#de77ae"
            ],
            [
             0.3,
             "#f1b6da"
            ],
            [
             0.4,
             "#fde0ef"
            ],
            [
             0.5,
             "#f7f7f7"
            ],
            [
             0.6,
             "#e6f5d0"
            ],
            [
             0.7,
             "#b8e186"
            ],
            [
             0.8,
             "#7fbc41"
            ],
            [
             0.9,
             "#4d9221"
            ],
            [
             1,
             "#276419"
            ]
           ],
           "sequential": [
            [
             0,
             "#0d0887"
            ],
            [
             0.1111111111111111,
             "#46039f"
            ],
            [
             0.2222222222222222,
             "#7201a8"
            ],
            [
             0.3333333333333333,
             "#9c179e"
            ],
            [
             0.4444444444444444,
             "#bd3786"
            ],
            [
             0.5555555555555556,
             "#d8576b"
            ],
            [
             0.6666666666666666,
             "#ed7953"
            ],
            [
             0.7777777777777778,
             "#fb9f3a"
            ],
            [
             0.8888888888888888,
             "#fdca26"
            ],
            [
             1,
             "#f0f921"
            ]
           ],
           "sequentialminus": [
            [
             0,
             "#0d0887"
            ],
            [
             0.1111111111111111,
             "#46039f"
            ],
            [
             0.2222222222222222,
             "#7201a8"
            ],
            [
             0.3333333333333333,
             "#9c179e"
            ],
            [
             0.4444444444444444,
             "#bd3786"
            ],
            [
             0.5555555555555556,
             "#d8576b"
            ],
            [
             0.6666666666666666,
             "#ed7953"
            ],
            [
             0.7777777777777778,
             "#fb9f3a"
            ],
            [
             0.8888888888888888,
             "#fdca26"
            ],
            [
             1,
             "#f0f921"
            ]
           ]
          },
          "colorway": [
           "#636efa",
           "#EF553B",
           "#00cc96",
           "#ab63fa",
           "#FFA15A",
           "#19d3f3",
           "#FF6692",
           "#B6E880",
           "#FF97FF",
           "#FECB52"
          ],
          "font": {
           "color": "#2a3f5f"
          },
          "geo": {
           "bgcolor": "white",
           "lakecolor": "white",
           "landcolor": "#E5ECF6",
           "showlakes": true,
           "showland": true,
           "subunitcolor": "white"
          },
          "hoverlabel": {
           "align": "left"
          },
          "hovermode": "closest",
          "mapbox": {
           "style": "light"
          },
          "paper_bgcolor": "white",
          "plot_bgcolor": "#E5ECF6",
          "polar": {
           "angularaxis": {
            "gridcolor": "white",
            "linecolor": "white",
            "ticks": ""
           },
           "bgcolor": "#E5ECF6",
           "radialaxis": {
            "gridcolor": "white",
            "linecolor": "white",
            "ticks": ""
           }
          },
          "scene": {
           "xaxis": {
            "backgroundcolor": "#E5ECF6",
            "gridcolor": "white",
            "gridwidth": 2,
            "linecolor": "white",
            "showbackground": true,
            "ticks": "",
            "zerolinecolor": "white"
           },
           "yaxis": {
            "backgroundcolor": "#E5ECF6",
            "gridcolor": "white",
            "gridwidth": 2,
            "linecolor": "white",
            "showbackground": true,
            "ticks": "",
            "zerolinecolor": "white"
           },
           "zaxis": {
            "backgroundcolor": "#E5ECF6",
            "gridcolor": "white",
            "gridwidth": 2,
            "linecolor": "white",
            "showbackground": true,
            "ticks": "",
            "zerolinecolor": "white"
           }
          },
          "shapedefaults": {
           "line": {
            "color": "#2a3f5f"
           }
          },
          "ternary": {
           "aaxis": {
            "gridcolor": "white",
            "linecolor": "white",
            "ticks": ""
           },
           "baxis": {
            "gridcolor": "white",
            "linecolor": "white",
            "ticks": ""
           },
           "bgcolor": "#E5ECF6",
           "caxis": {
            "gridcolor": "white",
            "linecolor": "white",
            "ticks": ""
           }
          },
          "title": {
           "x": 0.05
          },
          "xaxis": {
           "automargin": true,
           "gridcolor": "white",
           "linecolor": "white",
           "ticks": "",
           "title": {
            "standoff": 15
           },
           "zerolinecolor": "white",
           "zerolinewidth": 2
          },
          "yaxis": {
           "automargin": true,
           "gridcolor": "white",
           "linecolor": "white",
           "ticks": "",
           "title": {
            "standoff": 15
           },
           "zerolinecolor": "white",
           "zerolinewidth": 2
          }
         }
        },
        "title": {
         "text": "Доля оттока по кластерам",
         "x": 0.48,
         "y": 0.9
        },
        "width": 900
       }
      },
      "text/html": [
       "<div>                            <div id=\"4c083dca-a28c-4c88-9ba7-bc8da76fca75\" class=\"plotly-graph-div\" style=\"height:400px; width:900px;\"></div>            <script type=\"text/javascript\">                require([\"plotly\"], function(Plotly) {                    window.PLOTLYENV=window.PLOTLYENV || {};                                    if (document.getElementById(\"4c083dca-a28c-4c88-9ba7-bc8da76fca75\")) {                    Plotly.newPlot(                        \"4c083dca-a28c-4c88-9ba7-bc8da76fca75\",                        [{\"labels\":[0,1,2,3,4],\"values\":[0.2111215834118756,0.11969839773798303,0.4071630537229029,0.1649387370405278,0.09707822808671066],\"type\":\"pie\"}],                        {\"template\":{\"data\":{\"bar\":[{\"error_x\":{\"color\":\"#2a3f5f\"},\"error_y\":{\"color\":\"#2a3f5f\"},\"marker\":{\"line\":{\"color\":\"#E5ECF6\",\"width\":0.5},\"pattern\":{\"fillmode\":\"overlay\",\"size\":10,\"solidity\":0.2}},\"type\":\"bar\"}],\"barpolar\":[{\"marker\":{\"line\":{\"color\":\"#E5ECF6\",\"width\":0.5},\"pattern\":{\"fillmode\":\"overlay\",\"size\":10,\"solidity\":0.2}},\"type\":\"barpolar\"}],\"carpet\":[{\"aaxis\":{\"endlinecolor\":\"#2a3f5f\",\"gridcolor\":\"white\",\"linecolor\":\"white\",\"minorgridcolor\":\"white\",\"startlinecolor\":\"#2a3f5f\"},\"baxis\":{\"endlinecolor\":\"#2a3f5f\",\"gridcolor\":\"white\",\"linecolor\":\"white\",\"minorgridcolor\":\"white\",\"startlinecolor\":\"#2a3f5f\"},\"type\":\"carpet\"}],\"choropleth\":[{\"colorbar\":{\"outlinewidth\":0,\"ticks\":\"\"},\"type\":\"choropleth\"}],\"contour\":[{\"colorbar\":{\"outlinewidth\":0,\"ticks\":\"\"},\"colorscale\":[[0.0,\"#0d0887\"],[0.1111111111111111,\"#46039f\"],[0.2222222222222222,\"#7201a8\"],[0.3333333333333333,\"#9c179e\"],[0.4444444444444444,\"#bd3786\"],[0.5555555555555556,\"#d8576b\"],[0.6666666666666666,\"#ed7953\"],[0.7777777777777778,\"#fb9f3a\"],[0.8888888888888888,\"#fdca26\"],[1.0,\"#f0f921\"]],\"type\":\"contour\"}],\"contourcarpet\":[{\"colorbar\":{\"outlinewidth\":0,\"ticks\":\"\"},\"type\":\"contourcarpet\"}],\"heatmap\":[{\"colorbar\":{\"outlinewidth\":0,\"ticks\":\"\"},\"colorscale\":[[0.0,\"#0d0887\"],[0.1111111111111111,\"#46039f\"],[0.2222222222222222,\"#7201a8\"],[0.3333333333333333,\"#9c179e\"],[0.4444444444444444,\"#bd3786\"],[0.5555555555555556,\"#d8576b\"],[0.6666666666666666,\"#ed7953\"],[0.7777777777777778,\"#fb9f3a\"],[0.8888888888888888,\"#fdca26\"],[1.0,\"#f0f921\"]],\"type\":\"heatmap\"}],\"heatmapgl\":[{\"colorbar\":{\"outlinewidth\":0,\"ticks\":\"\"},\"colorscale\":[[0.0,\"#0d0887\"],[0.1111111111111111,\"#46039f\"],[0.2222222222222222,\"#7201a8\"],[0.3333333333333333,\"#9c179e\"],[0.4444444444444444,\"#bd3786\"],[0.5555555555555556,\"#d8576b\"],[0.6666666666666666,\"#ed7953\"],[0.7777777777777778,\"#fb9f3a\"],[0.8888888888888888,\"#fdca26\"],[1.0,\"#f0f921\"]],\"type\":\"heatmapgl\"}],\"histogram\":[{\"marker\":{\"pattern\":{\"fillmode\":\"overlay\",\"size\":10,\"solidity\":0.2}},\"type\":\"histogram\"}],\"histogram2d\":[{\"colorbar\":{\"outlinewidth\":0,\"ticks\":\"\"},\"colorscale\":[[0.0,\"#0d0887\"],[0.1111111111111111,\"#46039f\"],[0.2222222222222222,\"#7201a8\"],[0.3333333333333333,\"#9c179e\"],[0.4444444444444444,\"#bd3786\"],[0.5555555555555556,\"#d8576b\"],[0.6666666666666666,\"#ed7953\"],[0.7777777777777778,\"#fb9f3a\"],[0.8888888888888888,\"#fdca26\"],[1.0,\"#f0f921\"]],\"type\":\"histogram2d\"}],\"histogram2dcontour\":[{\"colorbar\":{\"outlinewidth\":0,\"ticks\":\"\"},\"colorscale\":[[0.0,\"#0d0887\"],[0.1111111111111111,\"#46039f\"],[0.2222222222222222,\"#7201a8\"],[0.3333333333333333,\"#9c179e\"],[0.4444444444444444,\"#bd3786\"],[0.5555555555555556,\"#d8576b\"],[0.6666666666666666,\"#ed7953\"],[0.7777777777777778,\"#fb9f3a\"],[0.8888888888888888,\"#fdca26\"],[1.0,\"#f0f921\"]],\"type\":\"histogram2dcontour\"}],\"mesh3d\":[{\"colorbar\":{\"outlinewidth\":0,\"ticks\":\"\"},\"type\":\"mesh3d\"}],\"parcoords\":[{\"line\":{\"colorbar\":{\"outlinewidth\":0,\"ticks\":\"\"}},\"type\":\"parcoords\"}],\"pie\":[{\"automargin\":true,\"type\":\"pie\"}],\"scatter\":[{\"marker\":{\"colorbar\":{\"outlinewidth\":0,\"ticks\":\"\"}},\"type\":\"scatter\"}],\"scatter3d\":[{\"line\":{\"colorbar\":{\"outlinewidth\":0,\"ticks\":\"\"}},\"marker\":{\"colorbar\":{\"outlinewidth\":0,\"ticks\":\"\"}},\"type\":\"scatter3d\"}],\"scattercarpet\":[{\"marker\":{\"colorbar\":{\"outlinewidth\":0,\"ticks\":\"\"}},\"type\":\"scattercarpet\"}],\"scattergeo\":[{\"marker\":{\"colorbar\":{\"outlinewidth\":0,\"ticks\":\"\"}},\"type\":\"scattergeo\"}],\"scattergl\":[{\"marker\":{\"colorbar\":{\"outlinewidth\":0,\"ticks\":\"\"}},\"type\":\"scattergl\"}],\"scattermapbox\":[{\"marker\":{\"colorbar\":{\"outlinewidth\":0,\"ticks\":\"\"}},\"type\":\"scattermapbox\"}],\"scatterpolar\":[{\"marker\":{\"colorbar\":{\"outlinewidth\":0,\"ticks\":\"\"}},\"type\":\"scatterpolar\"}],\"scatterpolargl\":[{\"marker\":{\"colorbar\":{\"outlinewidth\":0,\"ticks\":\"\"}},\"type\":\"scatterpolargl\"}],\"scatterternary\":[{\"marker\":{\"colorbar\":{\"outlinewidth\":0,\"ticks\":\"\"}},\"type\":\"scatterternary\"}],\"surface\":[{\"colorbar\":{\"outlinewidth\":0,\"ticks\":\"\"},\"colorscale\":[[0.0,\"#0d0887\"],[0.1111111111111111,\"#46039f\"],[0.2222222222222222,\"#7201a8\"],[0.3333333333333333,\"#9c179e\"],[0.4444444444444444,\"#bd3786\"],[0.5555555555555556,\"#d8576b\"],[0.6666666666666666,\"#ed7953\"],[0.7777777777777778,\"#fb9f3a\"],[0.8888888888888888,\"#fdca26\"],[1.0,\"#f0f921\"]],\"type\":\"surface\"}],\"table\":[{\"cells\":{\"fill\":{\"color\":\"#EBF0F8\"},\"line\":{\"color\":\"white\"}},\"header\":{\"fill\":{\"color\":\"#C8D4E3\"},\"line\":{\"color\":\"white\"}},\"type\":\"table\"}]},\"layout\":{\"annotationdefaults\":{\"arrowcolor\":\"#2a3f5f\",\"arrowhead\":0,\"arrowwidth\":1},\"autotypenumbers\":\"strict\",\"coloraxis\":{\"colorbar\":{\"outlinewidth\":0,\"ticks\":\"\"}},\"colorscale\":{\"diverging\":[[0,\"#8e0152\"],[0.1,\"#c51b7d\"],[0.2,\"#de77ae\"],[0.3,\"#f1b6da\"],[0.4,\"#fde0ef\"],[0.5,\"#f7f7f7\"],[0.6,\"#e6f5d0\"],[0.7,\"#b8e186\"],[0.8,\"#7fbc41\"],[0.9,\"#4d9221\"],[1,\"#276419\"]],\"sequential\":[[0.0,\"#0d0887\"],[0.1111111111111111,\"#46039f\"],[0.2222222222222222,\"#7201a8\"],[0.3333333333333333,\"#9c179e\"],[0.4444444444444444,\"#bd3786\"],[0.5555555555555556,\"#d8576b\"],[0.6666666666666666,\"#ed7953\"],[0.7777777777777778,\"#fb9f3a\"],[0.8888888888888888,\"#fdca26\"],[1.0,\"#f0f921\"]],\"sequentialminus\":[[0.0,\"#0d0887\"],[0.1111111111111111,\"#46039f\"],[0.2222222222222222,\"#7201a8\"],[0.3333333333333333,\"#9c179e\"],[0.4444444444444444,\"#bd3786\"],[0.5555555555555556,\"#d8576b\"],[0.6666666666666666,\"#ed7953\"],[0.7777777777777778,\"#fb9f3a\"],[0.8888888888888888,\"#fdca26\"],[1.0,\"#f0f921\"]]},\"colorway\":[\"#636efa\",\"#EF553B\",\"#00cc96\",\"#ab63fa\",\"#FFA15A\",\"#19d3f3\",\"#FF6692\",\"#B6E880\",\"#FF97FF\",\"#FECB52\"],\"font\":{\"color\":\"#2a3f5f\"},\"geo\":{\"bgcolor\":\"white\",\"lakecolor\":\"white\",\"landcolor\":\"#E5ECF6\",\"showlakes\":true,\"showland\":true,\"subunitcolor\":\"white\"},\"hoverlabel\":{\"align\":\"left\"},\"hovermode\":\"closest\",\"mapbox\":{\"style\":\"light\"},\"paper_bgcolor\":\"white\",\"plot_bgcolor\":\"#E5ECF6\",\"polar\":{\"angularaxis\":{\"gridcolor\":\"white\",\"linecolor\":\"white\",\"ticks\":\"\"},\"bgcolor\":\"#E5ECF6\",\"radialaxis\":{\"gridcolor\":\"white\",\"linecolor\":\"white\",\"ticks\":\"\"}},\"scene\":{\"xaxis\":{\"backgroundcolor\":\"#E5ECF6\",\"gridcolor\":\"white\",\"gridwidth\":2,\"linecolor\":\"white\",\"showbackground\":true,\"ticks\":\"\",\"zerolinecolor\":\"white\"},\"yaxis\":{\"backgroundcolor\":\"#E5ECF6\",\"gridcolor\":\"white\",\"gridwidth\":2,\"linecolor\":\"white\",\"showbackground\":true,\"ticks\":\"\",\"zerolinecolor\":\"white\"},\"zaxis\":{\"backgroundcolor\":\"#E5ECF6\",\"gridcolor\":\"white\",\"gridwidth\":2,\"linecolor\":\"white\",\"showbackground\":true,\"ticks\":\"\",\"zerolinecolor\":\"white\"}},\"shapedefaults\":{\"line\":{\"color\":\"#2a3f5f\"}},\"ternary\":{\"aaxis\":{\"gridcolor\":\"white\",\"linecolor\":\"white\",\"ticks\":\"\"},\"baxis\":{\"gridcolor\":\"white\",\"linecolor\":\"white\",\"ticks\":\"\"},\"bgcolor\":\"#E5ECF6\",\"caxis\":{\"gridcolor\":\"white\",\"linecolor\":\"white\",\"ticks\":\"\"}},\"title\":{\"x\":0.05},\"xaxis\":{\"automargin\":true,\"gridcolor\":\"white\",\"linecolor\":\"white\",\"ticks\":\"\",\"title\":{\"standoff\":15},\"zerolinecolor\":\"white\",\"zerolinewidth\":2},\"yaxis\":{\"automargin\":true,\"gridcolor\":\"white\",\"linecolor\":\"white\",\"ticks\":\"\",\"title\":{\"standoff\":15},\"zerolinecolor\":\"white\",\"zerolinewidth\":2}}},\"title\":{\"text\":\"\\u0414\\u043e\\u043b\\u044f \\u043e\\u0442\\u0442\\u043e\\u043a\\u0430 \\u043f\\u043e \\u043a\\u043b\\u0430\\u0441\\u0442\\u0435\\u0440\\u0430\\u043c\",\"y\":0.9,\"x\":0.48},\"width\":900,\"height\":400},                        {\"responsive\": true}                    ).then(function(){\n",
       "                            \n",
       "var gd = document.getElementById('4c083dca-a28c-4c88-9ba7-bc8da76fca75');\n",
       "var x = new MutationObserver(function (mutations, observer) {{\n",
       "        var display = window.getComputedStyle(gd).display;\n",
       "        if (!display || display === 'none') {{\n",
       "            console.log([gd, 'removed!']);\n",
       "            Plotly.purge(gd);\n",
       "            observer.disconnect();\n",
       "        }}\n",
       "}});\n",
       "\n",
       "// Listen for the removal of the full notebook cells\n",
       "var notebookContainer = gd.closest('#notebook-container');\n",
       "if (notebookContainer) {{\n",
       "    x.observe(notebookContainer, {childList: true});\n",
       "}}\n",
       "\n",
       "// Listen for the clearing of the current output cell\n",
       "var outputEl = gd.closest('.output');\n",
       "if (outputEl) {{\n",
       "    x.observe(outputEl, {childList: true});\n",
       "}}\n",
       "\n",
       "                        })                };                });            </script>        </div>"
      ]
     },
     "metadata": {},
     "output_type": "display_data"
    }
   ],
   "source": [
    "fig = go.Figure(data=[go.Pie(labels=churn_percent.index, values=churn_percent.values)])\n",
    "fig.update_layout(\n",
    "    title={\n",
    "        'text':'Доля оттока по кластерам',\n",
    "        'y':0.9,\n",
    "        'x':0.48},\n",
    "    width=900,\n",
    "    height=400)\n",
    "fig.show();"
   ]
  },
  {
   "cell_type": "markdown",
   "metadata": {},
   "source": [
    "Самая большая доля оттока в кластере 2 - почти 41%. Отток из 0 кластера составляет 21% от общей суммы, при небольшом колличестве клиентов в кластере. Можно считать эти два кластера самыми проблемными и требующими плана по удержанию."
   ]
  },
  {
   "cell_type": "markdown",
   "metadata": {},
   "source": [
    "### Вывод\n",
    "Была проведена кластеризация клиентов фитнес-центра. Выделены 5 кластеров:\n",
    " \n",
    "**Кластер 0:**\n",
    "- Живут/ работают далеко от фитнес-центра;\n",
    "- Половина - участники партнерской программы;\n",
    "- Редко приходят по рекомендации друзей;\n",
    "- Абонементы в среднем на 3 месяца.\n",
    "\n",
    "**Кластер 1:**  \n",
    "- Участники партнерской программы -96%;\n",
    "- Пользуются рекомендацией друзей;\n",
    "- Самые длинные контракты среди всех кластеров- в среднем почти 8 мес;\n",
    "- Много тратят;\n",
    "- Посещают зал в среднем 2 раза в неделю.\n",
    "\n",
    "**Кластер 2:**\n",
    "- Не посещают групповые занятия вообще;\n",
    "- Реже всего приходят по приглашению друга;\n",
    "- Абонементы в среднем меньше 3 месяцев;\n",
    "\n",
    "**Кластер 3:**\n",
    "- Достаточно длинные абонементы, в среднем на 4-5 месяцев;\n",
    "- Все ходят на групповые занятия;\n",
    "- Живут рядом;\n",
    "- Тратят достаточно много на доп. услуги;\n",
    "\n",
    "**Кластер 4:**  \n",
    "- Половина -участники партнерской программы;\n",
    "- Не указали телефон;\n",
    "- Достаточно длинные абонементы, посещают часто;\n",
    "- Достаточно давно занимаются в этом фитнес-центре.\n",
    "\n",
    "**Разделение по кластерам нельзя назвать очень удачным, так как в основном разделение прошло по бинарным признакам (живет рядом- далеко, не посещают групповые - посещают, указали номер телефона - не указали), но при этом по другие количественные признаки \"размазаны по кластерам\" (хотелось бы более явного разделения по сроку абонемента, посещаемости и тд).**  \n",
    "\n",
    "\n",
    "Но тем не менее, **портрет пользователей каждого из класторов сформировался**:\n",
    "  - Самые проблемные - класстеры 0 и 2 (отток по ним составил почти 62% от общей суммы отпавших клиентов). Их характеристиками являются - короткие абонементы, редко приходят по приглашению, редко посещают групповые. \n",
    "  - Самый надежный кластер - 1. Клиенты этого кластера практически полностью являются участниками партнерской программы, имеют самые длинные абонементы, пользуются рекомендациями друзей, много тратят на доп услуги, часто посещают фитнес-зал. В среднем отток по кластеру -12%. Самые лояльные клиенты. \n",
    "  - Кластеры 3 и 4 тоже достаточно надежны. Часто посещают зал, имеют достаточно длинные абонементы. **Клиенты 3 кластера - пришли без рекомендации друга и часто не являются участниками партнерской программы. При этом доля оттока по кластеру не большая - 20%. Это самые \"органические\" и достаточно лояльные клиенты, этому кластеру нужно уделять особое внимание и стараться сильнее повышать их лояльность.**  Кластер 4- клиенты не указавшие телефон, но при этом достаточно вовлеченные. Их скорее можно было бы разделить между кластером 1 и 3."
   ]
  },
  {
   "cell_type": "markdown",
   "metadata": {},
   "source": [
    "## Выводы и рекомендации\n",
    "Для сети клубов был проведен анализ анкет клиентов для снижения уровня оттока.   \n",
    "\n",
    "1. Основые выводы в ходе исследовательского анализа: \n",
    "    - По полу клиенты разделяются практически поровну;\n",
    "    - По возрасту клиенты распределены очень равномерно, средний возраст - 29 лет;\n",
    "    - Большая часть клиентов (85%) живут или работают рядом с фитнес-центром;\n",
    "    - **Половина клиентов пришли по корпоративной программе (сотрудники компаний-партнеров)**;\n",
    "    - **31% клиентов пришли по рекомендации (воспользовались акцией \"Приведи друга\" при покупке первого абонемента);**\n",
    "    - **Половина клиентов имеют абонемент всего на месяц, только 25% приобрели абонементы на 6 и более месяцев**;\n",
    "    - Факт оттока в текущем месяце зафиксирован у 27% клиентов, т.е. более четверти клиентов перестали пользоваться услугами фитнес-центра, по сравнению с прошлым месяцем. Это очень высокий показатель. \n",
    "\n",
    "Среди оставшихся пользователей в среднем больше живущих/работающих рядом (но всего на 10%), занимающихся по партнерской программе и пришедших по рекомендации друга. Заметно отличается срок абонемента - средний срок абонементов отпавших клиентов 1,75 мес, против 5,75 для оставшихся (это скорее всего связано с партнерской программой, когда работодатель оплачивает абонемент на длительный срок - 6 мес). Отпавшие клиенты реже посещали групповые занятия, тратели деньги на дополнительные товары и услуги, а также реже посещали зал (в среднем 1 раз в неделю, против 2 раз среди оставшихся).\n",
    "\n",
    "При этом, **отпавшие клиенты по большей части живут/работают рядом, но редко приходят по приглашению друга и обычно покупают абонементы на короткий срок. Самой опасной длиной абонемента можно считать 1 мес.**;\n",
    "Чем дольше до конца абонемента, тем чаще клиенты остаются и не уходят в отток, чем больше срок жизни клиента, тем он лояльнее;  \n",
    "**В отток чаще уходят клиенты редко посещающие фитнес-центр. Если клиент посещает зал 2 и более раз в неделю, то он с большой долей вероятности останется.**\n",
    "\n",
    "Не было выявлено явной зависимости оттока клиентов от каких-либо конкретных признаков;\n",
    "\n",
    "2. Были построены 2 модели прогнозирования оттока клиентов (модель с использованием алгоритма логистической регрессией и случайного леса. Оцениены метрики accuracy, precision и recall для обеих моделей на валидационной выборке. Доля правильных ответов (accuracy) и точность прогноза (precision) для обеих моделей практически равны, полнота (recall) для модели логистической регрессии выше (81%) чем для модели случайного леса(76%). Таким образом, из-за достаточно высоких показателей метрик обе модели удачны, но **модель логистической регрессии показала себя чуть лучше**.\n",
    "\n",
    "\n",
    "3. Была проведена кластеризация клиентов фитнес-центра. Выделены 5 кластеров:\n",
    "\n",
    "**Кластер 0:**\n",
    "- Живут/ работают далеко от фитнес-центра;\n",
    "- Половина - участники партнерской программы;\n",
    "- Редко приходят по рекомендации друзей;\n",
    "- Абонементы в среднем на 3 месяца.\n",
    "\n",
    "**Кластер 1:**\n",
    "- Участники партнерской программы -96%;\n",
    "- Пользуются рекомендацией друзей;\n",
    "- Самые длинные контракты среди всех кластеров- в среднем почти 8 мес;\n",
    "- Много тратят;\n",
    "- Посещают зал в среднем 2 раза в неделю.\n",
    "\n",
    "**Кластер 2:**\n",
    "- Не посещают групповые занятия вообще;\n",
    "- Реже всего приходят по приглашению друга;\n",
    "- Абонементы в среднем меньше 3 месяцев;\n",
    "\n",
    "**Кластер 3:**\n",
    "- Достаточно длинные абонементы, в среднем на 4-5 месяцев;\n",
    "- Все ходят на групповые занятия;\n",
    "- Живут рядом;\n",
    "- Тратят достаточно много на доп. услуги;\n",
    "\n",
    "**Кластер 4:**\n",
    "- Половина -участники партнерской программы;\n",
    "- Не указали телефон;\n",
    "- Достаточно длинные абонементы, посещают часто;\n",
    "- Достаточно давно занимаются в этом фитнес-центре.\n",
    "\n",
    "**Разделение по кластерам нельзя назвать очень удачным, так как в основном разделение прошло по бинарным признакам (живет рядом- далеко, не посещают групповые - посещают, указали номер телефона - не указали), но при этом по другие количественные признаки \"размазаны по кластерам\" (хотелось бы более явного разделения по сроку абонемента, посещаемости и тд).**\n",
    "\n",
    "Но тем не менее, **портрет пользователей каждого из класторов сформировался**:\n",
    "\n",
    "- **Самые проблемные - класстеры 0 и 2 (отток по ним составил почти 62% от общей суммы отпавших клиентов).** Их характеристиками являются - короткие абонементы, редко приходят по приглашению, редко посещают групповые.  \n",
    "- **Самый надежный кластер - 1.** Клиенты этого кластера практически полностью являются участниками партнерской программы, имеют самые длинные абонементы, пользуются рекомендациями друзей, много тратят на доп услуги, часто посещают фитнес-зал. В среднем отток по кластеру -12%. Самые лояльные клиенты.\n",
    "- Кластеры 3 и 4 тоже достаточно надежны. Часто посещают зал, имеют достаточно длинные абонементы. **Клиенты 3 кластера - пришли без рекомендации друга и часто не являются участниками партнерской программы. При этом доля оттока по кластеру не большая - 20%. Это самые \"органические\" и достаточно лояльные клиенты, этому кластеру нужно уделять особое внимание и стараться сильнее повышать их лояльность.** Кластер 4- клиенты не указавшие телефон, но при этом достаточно вовлеченные. Их скорее можно было бы разделить между кластером 1 и 3.\n",
    "\n",
    "\n",
    "\n",
    "**Рекомендации:**\n",
    "1. Особое внимание нужно уделять продолжительности абонемента. Чем меньше продолжительность абонемента, тем больше вероятность, что это последний месяц когда клиент посещает фитнес-зал. Необходимо разработать систему абонементов на 3, 6, 12 месяцев. Предлагать абонементы от 6 месяцев на более выгодных условиях, чтобы снизить количество коротких абонементов.  \n",
    "2. Развивать корпоративную программу и рекламировать акцию \"приведи друга\" - клиенты привлеченные этими путями демонстрируют хорошую лояльность. \n",
    "3. Рекламировать групповые занятия и занятия с тренером, чтобы повысить количество посещений в неделю. Чем реже клиент посещает зал - тем больше вероятности, что он уйдет. \n",
    "4. Стоит обратить внимание на клиентов более старшего возраста. Возможно нынешний брендинг/реклама направлены только на молодежь, следует расширить целевую аудиторию (но среди живущих/работающих недалеко).\n",
    "5. Особое внимание уделять клиентам из 3 кластера (пришедших без корпоративной программы и рекомендаций друзей), предлагать акции и прочими способами повышать их лояльность.\n"
   ]
  }
 ],
 "metadata": {
  "ExecuteTimeLog": [
   {
    "duration": 4,
    "start_time": "2022-05-16T19:46:04.917Z"
   },
   {
    "duration": 2329,
    "start_time": "2022-05-16T19:49:02.469Z"
   },
   {
    "duration": 30,
    "start_time": "2022-05-16T19:51:45.125Z"
   },
   {
    "duration": 8,
    "start_time": "2022-05-16T19:51:47.932Z"
   },
   {
    "duration": 6,
    "start_time": "2022-05-16T19:51:50.501Z"
   },
   {
    "duration": 21,
    "start_time": "2022-05-16T19:51:52.408Z"
   },
   {
    "duration": 4,
    "start_time": "2022-05-16T19:53:21.196Z"
   },
   {
    "duration": 51,
    "start_time": "2022-05-16T19:53:55.424Z"
   },
   {
    "duration": 1845,
    "start_time": "2022-05-16T19:55:21.634Z"
   },
   {
    "duration": 27,
    "start_time": "2022-05-16T19:55:23.482Z"
   },
   {
    "duration": 4,
    "start_time": "2022-05-16T19:55:23.512Z"
   },
   {
    "duration": 61,
    "start_time": "2022-05-16T19:55:23.518Z"
   },
   {
    "duration": 4,
    "start_time": "2022-05-16T19:55:47.443Z"
   },
   {
    "duration": 33,
    "start_time": "2022-05-16T19:55:49.746Z"
   },
   {
    "duration": 6,
    "start_time": "2022-05-16T19:59:40.174Z"
   },
   {
    "duration": 14,
    "start_time": "2022-05-16T19:59:49.301Z"
   },
   {
    "duration": 15,
    "start_time": "2022-05-16T20:00:09.630Z"
   },
   {
    "duration": 4,
    "start_time": "2022-05-16T20:01:57.945Z"
   },
   {
    "duration": 46,
    "start_time": "2022-05-16T20:18:32.314Z"
   },
   {
    "duration": 16,
    "start_time": "2022-05-16T21:16:00.502Z"
   },
   {
    "duration": 2146,
    "start_time": "2022-05-17T07:55:23.848Z"
   },
   {
    "duration": 24,
    "start_time": "2022-05-17T07:55:25.996Z"
   },
   {
    "duration": 4,
    "start_time": "2022-05-17T07:55:26.022Z"
   },
   {
    "duration": 47,
    "start_time": "2022-05-17T07:55:26.030Z"
   },
   {
    "duration": 4,
    "start_time": "2022-05-17T07:55:26.080Z"
   },
   {
    "duration": 83,
    "start_time": "2022-05-17T07:55:26.086Z"
   },
   {
    "duration": 22,
    "start_time": "2022-05-17T07:55:26.172Z"
   },
   {
    "duration": 1945,
    "start_time": "2022-05-17T08:27:48.956Z"
   },
   {
    "duration": 26,
    "start_time": "2022-05-17T08:27:50.904Z"
   },
   {
    "duration": 5,
    "start_time": "2022-05-17T08:27:50.932Z"
   },
   {
    "duration": 56,
    "start_time": "2022-05-17T08:27:50.941Z"
   },
   {
    "duration": 5,
    "start_time": "2022-05-17T08:27:51.000Z"
   },
   {
    "duration": 98,
    "start_time": "2022-05-17T08:27:51.007Z"
   },
   {
    "duration": 25,
    "start_time": "2022-05-17T08:27:51.108Z"
   },
   {
    "duration": 22,
    "start_time": "2022-05-17T08:27:51.136Z"
   },
   {
    "duration": 174,
    "start_time": "2022-05-17T08:27:51.161Z"
   },
   {
    "duration": 4,
    "start_time": "2022-05-17T08:28:02.870Z"
   },
   {
    "duration": 5,
    "start_time": "2022-05-17T08:28:54.844Z"
   },
   {
    "duration": 5,
    "start_time": "2022-05-17T08:30:08.452Z"
   },
   {
    "duration": 5,
    "start_time": "2022-05-17T08:30:10.671Z"
   },
   {
    "duration": 5,
    "start_time": "2022-05-17T08:30:42.552Z"
   },
   {
    "duration": 5,
    "start_time": "2022-05-17T08:30:43.570Z"
   },
   {
    "duration": 5,
    "start_time": "2022-05-17T08:31:15.122Z"
   },
   {
    "duration": 160,
    "start_time": "2022-05-17T08:38:53.141Z"
   },
   {
    "duration": 13,
    "start_time": "2022-05-17T08:39:06.396Z"
   },
   {
    "duration": 2019,
    "start_time": "2022-05-17T08:39:19.670Z"
   },
   {
    "duration": 20,
    "start_time": "2022-05-17T08:39:21.692Z"
   },
   {
    "duration": 4,
    "start_time": "2022-05-17T08:39:21.714Z"
   },
   {
    "duration": 53,
    "start_time": "2022-05-17T08:39:21.720Z"
   },
   {
    "duration": 4,
    "start_time": "2022-05-17T08:39:21.778Z"
   },
   {
    "duration": 92,
    "start_time": "2022-05-17T08:39:21.784Z"
   },
   {
    "duration": 23,
    "start_time": "2022-05-17T08:39:21.878Z"
   },
   {
    "duration": 14,
    "start_time": "2022-05-17T08:39:21.903Z"
   },
   {
    "duration": 449,
    "start_time": "2022-05-17T08:39:21.918Z"
   },
   {
    "duration": 1644,
    "start_time": "2022-05-17T08:39:30.251Z"
   },
   {
    "duration": 2200,
    "start_time": "2022-05-17T08:40:32.063Z"
   },
   {
    "duration": 2089,
    "start_time": "2022-05-17T08:41:54.070Z"
   },
   {
    "duration": 2278,
    "start_time": "2022-05-17T08:43:00.545Z"
   },
   {
    "duration": 2233,
    "start_time": "2022-05-17T08:44:09.314Z"
   },
   {
    "duration": 2059,
    "start_time": "2022-05-17T08:51:31.226Z"
   },
   {
    "duration": 20,
    "start_time": "2022-05-17T08:51:33.289Z"
   },
   {
    "duration": 5,
    "start_time": "2022-05-17T08:51:33.312Z"
   },
   {
    "duration": 72,
    "start_time": "2022-05-17T08:51:33.320Z"
   },
   {
    "duration": 4,
    "start_time": "2022-05-17T08:51:33.395Z"
   },
   {
    "duration": 86,
    "start_time": "2022-05-17T08:51:33.401Z"
   },
   {
    "duration": 22,
    "start_time": "2022-05-17T08:51:33.489Z"
   },
   {
    "duration": 25,
    "start_time": "2022-05-17T08:51:33.513Z"
   },
   {
    "duration": 2293,
    "start_time": "2022-05-17T08:51:33.540Z"
   },
   {
    "duration": 2399,
    "start_time": "2022-05-17T09:00:04.024Z"
   },
   {
    "duration": 2139,
    "start_time": "2022-05-17T09:00:45.490Z"
   },
   {
    "duration": 2319,
    "start_time": "2022-05-17T09:01:34.418Z"
   },
   {
    "duration": 1358,
    "start_time": "2022-05-17T09:01:52.214Z"
   },
   {
    "duration": 1283,
    "start_time": "2022-05-17T09:02:06.010Z"
   },
   {
    "duration": 2345,
    "start_time": "2022-05-17T09:02:30.300Z"
   },
   {
    "duration": 3777,
    "start_time": "2022-05-17T09:19:06.546Z"
   },
   {
    "duration": 2138,
    "start_time": "2022-05-17T09:24:37.090Z"
   },
   {
    "duration": 3673,
    "start_time": "2022-05-17T09:29:08.323Z"
   },
   {
    "duration": 2266,
    "start_time": "2022-05-17T09:29:29.218Z"
   },
   {
    "duration": 5,
    "start_time": "2022-05-17T09:30:20.472Z"
   },
   {
    "duration": 5,
    "start_time": "2022-05-17T09:30:26.274Z"
   },
   {
    "duration": 142,
    "start_time": "2022-05-17T09:31:03.398Z"
   },
   {
    "duration": 3551,
    "start_time": "2022-05-17T09:31:50.970Z"
   },
   {
    "duration": 2969,
    "start_time": "2022-05-17T09:32:31.206Z"
   },
   {
    "duration": 2170,
    "start_time": "2022-05-17T09:34:22.247Z"
   },
   {
    "duration": 2059,
    "start_time": "2022-05-17T09:39:11.049Z"
   },
   {
    "duration": 2558,
    "start_time": "2022-05-17T09:39:50.221Z"
   },
   {
    "duration": 185,
    "start_time": "2022-05-17T09:47:28.042Z"
   },
   {
    "duration": 17,
    "start_time": "2022-05-17T09:48:51.605Z"
   },
   {
    "duration": 512,
    "start_time": "2022-05-17T09:52:27.579Z"
   },
   {
    "duration": 18,
    "start_time": "2022-05-17T09:54:41.040Z"
   },
   {
    "duration": 17,
    "start_time": "2022-05-17T09:57:32.354Z"
   },
   {
    "duration": 127,
    "start_time": "2022-05-17T09:58:22.588Z"
   },
   {
    "duration": 18,
    "start_time": "2022-05-17T10:01:37.986Z"
   },
   {
    "duration": 2950,
    "start_time": "2022-05-17T10:03:14.408Z"
   },
   {
    "duration": 2100,
    "start_time": "2022-05-17T10:07:32.479Z"
   },
   {
    "duration": 2111,
    "start_time": "2022-05-17T10:08:24.888Z"
   },
   {
    "duration": 207,
    "start_time": "2022-05-17T11:31:18.052Z"
   },
   {
    "duration": 16,
    "start_time": "2022-05-17T11:45:17.683Z"
   },
   {
    "duration": 18,
    "start_time": "2022-05-17T11:45:20.653Z"
   },
   {
    "duration": 12,
    "start_time": "2022-05-17T11:45:22.990Z"
   },
   {
    "duration": 9,
    "start_time": "2022-05-17T11:45:26.793Z"
   },
   {
    "duration": 20,
    "start_time": "2022-05-17T11:45:30.553Z"
   },
   {
    "duration": 9,
    "start_time": "2022-05-17T11:45:38.422Z"
   },
   {
    "duration": 14,
    "start_time": "2022-05-17T11:45:40.270Z"
   },
   {
    "duration": 2034,
    "start_time": "2022-05-17T11:45:54.648Z"
   },
   {
    "duration": 19,
    "start_time": "2022-05-17T11:45:56.685Z"
   },
   {
    "duration": 5,
    "start_time": "2022-05-17T11:45:56.706Z"
   },
   {
    "duration": 62,
    "start_time": "2022-05-17T11:45:56.714Z"
   },
   {
    "duration": 6,
    "start_time": "2022-05-17T11:45:56.778Z"
   },
   {
    "duration": 104,
    "start_time": "2022-05-17T11:45:56.786Z"
   },
   {
    "duration": 22,
    "start_time": "2022-05-17T11:45:56.892Z"
   },
   {
    "duration": 146,
    "start_time": "2022-05-17T11:45:56.916Z"
   },
   {
    "duration": 0,
    "start_time": "2022-05-17T11:45:57.066Z"
   },
   {
    "duration": 0,
    "start_time": "2022-05-17T11:45:57.068Z"
   },
   {
    "duration": 0,
    "start_time": "2022-05-17T11:45:57.071Z"
   },
   {
    "duration": 0,
    "start_time": "2022-05-17T11:45:57.073Z"
   },
   {
    "duration": 1,
    "start_time": "2022-05-17T11:45:57.074Z"
   },
   {
    "duration": 0,
    "start_time": "2022-05-17T11:45:57.076Z"
   },
   {
    "duration": 0,
    "start_time": "2022-05-17T11:45:57.078Z"
   },
   {
    "duration": 0,
    "start_time": "2022-05-17T11:45:57.079Z"
   },
   {
    "duration": 0,
    "start_time": "2022-05-17T11:45:57.081Z"
   },
   {
    "duration": 1966,
    "start_time": "2022-05-17T11:47:01.079Z"
   },
   {
    "duration": 21,
    "start_time": "2022-05-17T11:47:03.048Z"
   },
   {
    "duration": 6,
    "start_time": "2022-05-17T11:47:03.071Z"
   },
   {
    "duration": 86,
    "start_time": "2022-05-17T11:47:03.080Z"
   },
   {
    "duration": 5,
    "start_time": "2022-05-17T11:47:03.169Z"
   },
   {
    "duration": 81,
    "start_time": "2022-05-17T11:47:03.177Z"
   },
   {
    "duration": 23,
    "start_time": "2022-05-17T11:47:03.260Z"
   },
   {
    "duration": 14,
    "start_time": "2022-05-17T11:47:03.286Z"
   },
   {
    "duration": 201,
    "start_time": "2022-05-17T11:47:03.302Z"
   },
   {
    "duration": 1,
    "start_time": "2022-05-17T11:47:03.505Z"
   },
   {
    "duration": 0,
    "start_time": "2022-05-17T11:47:03.507Z"
   },
   {
    "duration": 0,
    "start_time": "2022-05-17T11:47:03.508Z"
   },
   {
    "duration": 0,
    "start_time": "2022-05-17T11:47:03.510Z"
   },
   {
    "duration": 0,
    "start_time": "2022-05-17T11:47:03.511Z"
   },
   {
    "duration": 0,
    "start_time": "2022-05-17T11:47:03.512Z"
   },
   {
    "duration": 0,
    "start_time": "2022-05-17T11:47:03.514Z"
   },
   {
    "duration": 0,
    "start_time": "2022-05-17T11:47:03.515Z"
   },
   {
    "duration": 9,
    "start_time": "2022-05-17T11:47:15.472Z"
   },
   {
    "duration": 12,
    "start_time": "2022-05-17T11:47:17.841Z"
   },
   {
    "duration": 17,
    "start_time": "2022-05-17T11:47:42.568Z"
   },
   {
    "duration": 485,
    "start_time": "2022-05-17T11:47:44.375Z"
   },
   {
    "duration": 16,
    "start_time": "2022-05-17T11:48:49.063Z"
   },
   {
    "duration": 7,
    "start_time": "2022-05-17T11:51:26.044Z"
   },
   {
    "duration": 436,
    "start_time": "2022-05-17T11:51:32.724Z"
   },
   {
    "duration": 7,
    "start_time": "2022-05-17T11:52:15.076Z"
   },
   {
    "duration": 1957,
    "start_time": "2022-05-17T11:52:22.645Z"
   },
   {
    "duration": 25,
    "start_time": "2022-05-17T11:52:24.605Z"
   },
   {
    "duration": 4,
    "start_time": "2022-05-17T11:52:24.632Z"
   },
   {
    "duration": 54,
    "start_time": "2022-05-17T11:52:24.640Z"
   },
   {
    "duration": 5,
    "start_time": "2022-05-17T11:52:24.696Z"
   },
   {
    "duration": 89,
    "start_time": "2022-05-17T11:52:24.704Z"
   },
   {
    "duration": 24,
    "start_time": "2022-05-17T11:52:24.796Z"
   },
   {
    "duration": 38,
    "start_time": "2022-05-17T11:52:24.822Z"
   },
   {
    "duration": 176,
    "start_time": "2022-05-17T11:52:24.863Z"
   },
   {
    "duration": 0,
    "start_time": "2022-05-17T11:52:25.042Z"
   },
   {
    "duration": 0,
    "start_time": "2022-05-17T11:52:25.044Z"
   },
   {
    "duration": 0,
    "start_time": "2022-05-17T11:52:25.046Z"
   },
   {
    "duration": 0,
    "start_time": "2022-05-17T11:52:25.047Z"
   },
   {
    "duration": 0,
    "start_time": "2022-05-17T11:52:25.056Z"
   },
   {
    "duration": 0,
    "start_time": "2022-05-17T11:52:25.058Z"
   },
   {
    "duration": 0,
    "start_time": "2022-05-17T11:52:25.060Z"
   },
   {
    "duration": 0,
    "start_time": "2022-05-17T11:52:25.062Z"
   },
   {
    "duration": 16,
    "start_time": "2022-05-17T11:52:57.452Z"
   },
   {
    "duration": 10,
    "start_time": "2022-05-17T11:53:03.694Z"
   },
   {
    "duration": 11,
    "start_time": "2022-05-17T20:04:48.947Z"
   },
   {
    "duration": 1570,
    "start_time": "2022-05-17T20:04:56.626Z"
   },
   {
    "duration": 45,
    "start_time": "2022-05-17T20:04:58.199Z"
   },
   {
    "duration": 4,
    "start_time": "2022-05-17T20:04:58.245Z"
   },
   {
    "duration": 36,
    "start_time": "2022-05-17T20:04:58.251Z"
   },
   {
    "duration": 3,
    "start_time": "2022-05-17T20:04:58.289Z"
   },
   {
    "duration": 48,
    "start_time": "2022-05-17T20:04:58.294Z"
   },
   {
    "duration": 38,
    "start_time": "2022-05-17T20:04:58.344Z"
   },
   {
    "duration": 11,
    "start_time": "2022-05-17T20:04:58.384Z"
   },
   {
    "duration": 898,
    "start_time": "2022-05-17T20:04:58.396Z"
   },
   {
    "duration": 144,
    "start_time": "2022-05-17T20:04:59.296Z"
   },
   {
    "duration": 0,
    "start_time": "2022-05-17T20:04:59.441Z"
   },
   {
    "duration": 0,
    "start_time": "2022-05-17T20:04:59.442Z"
   },
   {
    "duration": 0,
    "start_time": "2022-05-17T20:04:59.444Z"
   },
   {
    "duration": 0,
    "start_time": "2022-05-17T20:04:59.445Z"
   },
   {
    "duration": 0,
    "start_time": "2022-05-17T20:04:59.446Z"
   },
   {
    "duration": 0,
    "start_time": "2022-05-17T20:04:59.465Z"
   },
   {
    "duration": 0,
    "start_time": "2022-05-17T20:04:59.466Z"
   },
   {
    "duration": 0,
    "start_time": "2022-05-17T20:04:59.469Z"
   },
   {
    "duration": 14,
    "start_time": "2022-05-17T20:05:54.079Z"
   },
   {
    "duration": 1308,
    "start_time": "2022-05-17T20:06:06.427Z"
   },
   {
    "duration": 1235,
    "start_time": "2022-05-17T20:06:18.220Z"
   },
   {
    "duration": 1021,
    "start_time": "2022-05-17T20:07:04.684Z"
   },
   {
    "duration": 619,
    "start_time": "2022-05-17T20:10:01.891Z"
   },
   {
    "duration": 977,
    "start_time": "2022-05-17T20:10:11.308Z"
   },
   {
    "duration": 29,
    "start_time": "2022-05-17T20:10:43.722Z"
   },
   {
    "duration": 798,
    "start_time": "2022-05-17T20:11:27.990Z"
   },
   {
    "duration": 652,
    "start_time": "2022-05-17T20:16:06.093Z"
   },
   {
    "duration": 989,
    "start_time": "2022-05-17T20:18:14.743Z"
   },
   {
    "duration": 1358,
    "start_time": "2022-05-17T20:18:23.307Z"
   },
   {
    "duration": 24,
    "start_time": "2022-05-17T20:18:24.667Z"
   },
   {
    "duration": 5,
    "start_time": "2022-05-17T20:18:24.693Z"
   },
   {
    "duration": 44,
    "start_time": "2022-05-17T20:18:24.700Z"
   },
   {
    "duration": 3,
    "start_time": "2022-05-17T20:18:24.745Z"
   },
   {
    "duration": 73,
    "start_time": "2022-05-17T20:18:24.749Z"
   },
   {
    "duration": 17,
    "start_time": "2022-05-17T20:18:24.824Z"
   },
   {
    "duration": 17,
    "start_time": "2022-05-17T20:18:24.843Z"
   },
   {
    "duration": 815,
    "start_time": "2022-05-17T20:18:24.862Z"
   },
   {
    "duration": 1174,
    "start_time": "2022-05-17T20:18:25.679Z"
   },
   {
    "duration": 628,
    "start_time": "2022-05-17T20:18:26.854Z"
   },
   {
    "duration": 0,
    "start_time": "2022-05-17T20:18:27.484Z"
   },
   {
    "duration": 0,
    "start_time": "2022-05-17T20:18:27.489Z"
   },
   {
    "duration": 0,
    "start_time": "2022-05-17T20:18:27.490Z"
   },
   {
    "duration": 0,
    "start_time": "2022-05-17T20:18:27.492Z"
   },
   {
    "duration": 0,
    "start_time": "2022-05-17T20:18:27.493Z"
   },
   {
    "duration": 0,
    "start_time": "2022-05-17T20:18:27.495Z"
   },
   {
    "duration": 0,
    "start_time": "2022-05-17T20:18:27.496Z"
   },
   {
    "duration": 860,
    "start_time": "2022-05-17T20:19:51.584Z"
   },
   {
    "duration": 2248,
    "start_time": "2022-05-17T20:20:47.839Z"
   },
   {
    "duration": 1755,
    "start_time": "2022-05-17T20:22:38.553Z"
   },
   {
    "duration": 4,
    "start_time": "2022-05-17T20:38:42.419Z"
   },
   {
    "duration": 9,
    "start_time": "2022-05-17T20:38:45.916Z"
   },
   {
    "duration": 13,
    "start_time": "2022-05-17T20:38:47.539Z"
   },
   {
    "duration": 340,
    "start_time": "2022-05-17T20:38:57.238Z"
   },
   {
    "duration": 1336,
    "start_time": "2022-05-17T20:41:01.970Z"
   },
   {
    "duration": 23,
    "start_time": "2022-05-17T20:41:03.308Z"
   },
   {
    "duration": 4,
    "start_time": "2022-05-17T20:41:03.332Z"
   },
   {
    "duration": 42,
    "start_time": "2022-05-17T20:41:03.339Z"
   },
   {
    "duration": 4,
    "start_time": "2022-05-17T20:41:03.383Z"
   },
   {
    "duration": 60,
    "start_time": "2022-05-17T20:41:03.389Z"
   },
   {
    "duration": 16,
    "start_time": "2022-05-17T20:41:03.465Z"
   },
   {
    "duration": 10,
    "start_time": "2022-05-17T20:41:03.483Z"
   },
   {
    "duration": 873,
    "start_time": "2022-05-17T20:41:03.495Z"
   },
   {
    "duration": 1257,
    "start_time": "2022-05-17T20:41:04.371Z"
   },
   {
    "duration": 3,
    "start_time": "2022-05-17T20:41:05.629Z"
   },
   {
    "duration": 2100,
    "start_time": "2022-05-17T20:41:05.633Z"
   },
   {
    "duration": 1680,
    "start_time": "2022-05-17T20:41:07.734Z"
   },
   {
    "duration": 5,
    "start_time": "2022-05-17T20:41:09.417Z"
   },
   {
    "duration": 21,
    "start_time": "2022-05-17T20:41:09.424Z"
   },
   {
    "duration": 27,
    "start_time": "2022-05-17T20:41:09.447Z"
   },
   {
    "duration": 805,
    "start_time": "2022-05-17T20:41:09.476Z"
   },
   {
    "duration": 47,
    "start_time": "2022-05-17T20:41:10.284Z"
   },
   {
    "duration": 679,
    "start_time": "2022-05-17T20:42:42.467Z"
   },
   {
    "duration": 628,
    "start_time": "2022-05-17T20:43:03.421Z"
   },
   {
    "duration": 600,
    "start_time": "2022-05-17T20:44:02.853Z"
   },
   {
    "duration": 631,
    "start_time": "2022-05-17T20:44:29.421Z"
   },
   {
    "duration": 681,
    "start_time": "2022-05-17T20:53:58.815Z"
   },
   {
    "duration": 8,
    "start_time": "2022-05-17T22:04:15.511Z"
   },
   {
    "duration": 117235,
    "start_time": "2022-05-17T22:04:17.812Z"
   },
   {
    "duration": 117515,
    "start_time": "2022-05-17T22:06:49.215Z"
   },
   {
    "duration": 152,
    "start_time": "2022-05-17T22:17:10.135Z"
   },
   {
    "duration": 1246,
    "start_time": "2022-05-17T22:17:23.520Z"
   },
   {
    "duration": 18,
    "start_time": "2022-05-17T22:17:26.486Z"
   },
   {
    "duration": 1377,
    "start_time": "2022-05-17T22:19:15.988Z"
   },
   {
    "duration": 15,
    "start_time": "2022-05-17T22:19:22.154Z"
   },
   {
    "duration": 6,
    "start_time": "2022-05-17T22:59:36.303Z"
   },
   {
    "duration": 10,
    "start_time": "2022-05-17T23:09:21.680Z"
   },
   {
    "duration": 510,
    "start_time": "2022-05-17T23:09:30.841Z"
   },
   {
    "duration": 1520,
    "start_time": "2022-05-18T19:39:01.279Z"
   },
   {
    "duration": 141,
    "start_time": "2022-05-18T19:39:02.802Z"
   },
   {
    "duration": 4,
    "start_time": "2022-05-18T19:39:02.945Z"
   },
   {
    "duration": 29,
    "start_time": "2022-05-18T19:39:02.951Z"
   },
   {
    "duration": 3,
    "start_time": "2022-05-18T19:39:02.981Z"
   },
   {
    "duration": 48,
    "start_time": "2022-05-18T19:39:02.986Z"
   },
   {
    "duration": 16,
    "start_time": "2022-05-18T19:39:03.036Z"
   },
   {
    "duration": 9,
    "start_time": "2022-05-18T19:39:03.054Z"
   },
   {
    "duration": 731,
    "start_time": "2022-05-18T19:39:03.065Z"
   },
   {
    "duration": 1064,
    "start_time": "2022-05-18T19:39:03.798Z"
   },
   {
    "duration": 2,
    "start_time": "2022-05-18T19:39:04.864Z"
   },
   {
    "duration": 1924,
    "start_time": "2022-05-18T19:39:04.868Z"
   },
   {
    "duration": 1572,
    "start_time": "2022-05-18T19:39:06.794Z"
   },
   {
    "duration": 4,
    "start_time": "2022-05-18T19:39:08.367Z"
   },
   {
    "duration": 8,
    "start_time": "2022-05-18T19:39:08.373Z"
   },
   {
    "duration": 10,
    "start_time": "2022-05-18T19:39:08.383Z"
   },
   {
    "duration": 552,
    "start_time": "2022-05-18T19:39:08.395Z"
   },
   {
    "duration": 8,
    "start_time": "2022-05-18T19:39:08.948Z"
   },
   {
    "duration": 111560,
    "start_time": "2022-05-18T19:39:08.957Z"
   },
   {
    "duration": 1401,
    "start_time": "2022-05-18T19:41:00.518Z"
   },
   {
    "duration": 15,
    "start_time": "2022-05-18T19:41:01.921Z"
   },
   {
    "duration": 20,
    "start_time": "2022-05-18T19:41:01.938Z"
   },
   {
    "duration": 522,
    "start_time": "2022-05-18T19:41:01.960Z"
   },
   {
    "duration": 38,
    "start_time": "2022-05-18T20:29:39.323Z"
   },
   {
    "duration": 1655,
    "start_time": "2022-05-18T20:29:59.446Z"
   },
   {
    "duration": 1436,
    "start_time": "2022-05-18T20:30:56.267Z"
   },
   {
    "duration": 1425,
    "start_time": "2022-05-18T20:31:06.008Z"
   },
   {
    "duration": 249,
    "start_time": "2022-05-18T20:36:31.427Z"
   },
   {
    "duration": 1865,
    "start_time": "2022-05-18T20:37:21.733Z"
   },
   {
    "duration": 1506,
    "start_time": "2022-05-18T20:39:43.627Z"
   },
   {
    "duration": 4462,
    "start_time": "2022-05-18T20:41:13.409Z"
   },
   {
    "duration": 283,
    "start_time": "2022-05-18T20:47:34.506Z"
   },
   {
    "duration": 294,
    "start_time": "2022-05-18T20:48:08.703Z"
   },
   {
    "duration": 295,
    "start_time": "2022-05-18T20:49:29.948Z"
   },
   {
    "duration": 296,
    "start_time": "2022-05-18T20:49:48.956Z"
   },
   {
    "duration": 2407,
    "start_time": "2022-05-18T20:50:01.283Z"
   },
   {
    "duration": 2484,
    "start_time": "2022-05-18T20:50:26.488Z"
   },
   {
    "duration": 1030,
    "start_time": "2022-05-18T20:51:42.446Z"
   },
   {
    "duration": 1156,
    "start_time": "2022-05-18T20:52:53.105Z"
   },
   {
    "duration": 298,
    "start_time": "2022-05-18T20:56:50.497Z"
   },
   {
    "duration": 38,
    "start_time": "2022-05-18T20:57:19.030Z"
   },
   {
    "duration": 40,
    "start_time": "2022-05-18T20:57:33.306Z"
   },
   {
    "duration": 693,
    "start_time": "2022-05-18T20:58:14.153Z"
   },
   {
    "duration": 1926,
    "start_time": "2022-05-18T21:03:23.507Z"
   },
   {
    "duration": 2136,
    "start_time": "2022-05-18T21:03:42.925Z"
   },
   {
    "duration": 2320,
    "start_time": "2022-05-18T21:04:01.649Z"
   },
   {
    "duration": 2150,
    "start_time": "2022-05-18T21:04:17.957Z"
   },
   {
    "duration": 1679,
    "start_time": "2022-05-18T21:04:47.854Z"
   },
   {
    "duration": 2404,
    "start_time": "2022-05-18T21:05:01.528Z"
   },
   {
    "duration": 888,
    "start_time": "2022-05-18T21:08:21.928Z"
   },
   {
    "duration": 1183,
    "start_time": "2022-05-18T21:09:02.063Z"
   },
   {
    "duration": 1246,
    "start_time": "2022-05-18T21:10:48.028Z"
   },
   {
    "duration": 41,
    "start_time": "2022-05-18T21:11:06.289Z"
   },
   {
    "duration": 1206,
    "start_time": "2022-05-18T21:11:17.371Z"
   },
   {
    "duration": 1086,
    "start_time": "2022-05-18T21:11:44.200Z"
   },
   {
    "duration": 9,
    "start_time": "2022-05-18T21:13:14.039Z"
   },
   {
    "duration": 3,
    "start_time": "2022-05-18T21:13:38.704Z"
   },
   {
    "duration": 1295,
    "start_time": "2022-05-18T21:14:54.641Z"
   },
   {
    "duration": 33,
    "start_time": "2022-05-18T21:14:55.938Z"
   },
   {
    "duration": 4,
    "start_time": "2022-05-18T21:14:55.973Z"
   },
   {
    "duration": 42,
    "start_time": "2022-05-18T21:14:55.979Z"
   },
   {
    "duration": 4,
    "start_time": "2022-05-18T21:14:56.024Z"
   },
   {
    "duration": 54,
    "start_time": "2022-05-18T21:14:56.030Z"
   },
   {
    "duration": 37,
    "start_time": "2022-05-18T21:14:56.086Z"
   },
   {
    "duration": 13,
    "start_time": "2022-05-18T21:14:56.125Z"
   },
   {
    "duration": 11,
    "start_time": "2022-05-18T21:14:56.141Z"
   },
   {
    "duration": 1246,
    "start_time": "2022-05-18T21:14:56.153Z"
   },
   {
    "duration": 2649,
    "start_time": "2022-05-18T21:14:57.401Z"
   },
   {
    "duration": 1430,
    "start_time": "2022-05-18T21:15:00.051Z"
   },
   {
    "duration": 6,
    "start_time": "2022-05-18T21:15:01.483Z"
   },
   {
    "duration": 69,
    "start_time": "2022-05-18T21:15:01.492Z"
   },
   {
    "duration": 46,
    "start_time": "2022-05-18T21:15:01.563Z"
   },
   {
    "duration": 852,
    "start_time": "2022-05-18T21:15:01.611Z"
   },
   {
    "duration": 8,
    "start_time": "2022-05-18T21:15:02.465Z"
   },
   {
    "duration": 1309,
    "start_time": "2022-05-18T21:16:49.512Z"
   },
   {
    "duration": 31,
    "start_time": "2022-05-18T21:16:50.823Z"
   },
   {
    "duration": 3,
    "start_time": "2022-05-18T21:16:50.856Z"
   },
   {
    "duration": 31,
    "start_time": "2022-05-18T21:16:50.861Z"
   },
   {
    "duration": 3,
    "start_time": "2022-05-18T21:16:50.894Z"
   },
   {
    "duration": 52,
    "start_time": "2022-05-18T21:16:50.899Z"
   },
   {
    "duration": 16,
    "start_time": "2022-05-18T21:16:50.953Z"
   },
   {
    "duration": 10,
    "start_time": "2022-05-18T21:16:50.971Z"
   },
   {
    "duration": 5,
    "start_time": "2022-05-18T21:16:50.983Z"
   },
   {
    "duration": 1319,
    "start_time": "2022-05-18T21:16:50.990Z"
   },
   {
    "duration": 2427,
    "start_time": "2022-05-18T21:16:52.311Z"
   },
   {
    "duration": 1381,
    "start_time": "2022-05-18T21:16:54.739Z"
   },
   {
    "duration": 4,
    "start_time": "2022-05-18T21:16:56.122Z"
   },
   {
    "duration": 24,
    "start_time": "2022-05-18T21:16:56.128Z"
   },
   {
    "duration": 16,
    "start_time": "2022-05-18T21:16:56.153Z"
   },
   {
    "duration": 571,
    "start_time": "2022-05-18T21:16:56.171Z"
   },
   {
    "duration": 7,
    "start_time": "2022-05-18T21:16:56.744Z"
   },
   {
    "duration": 107234,
    "start_time": "2022-05-18T21:16:56.753Z"
   },
   {
    "duration": 1326,
    "start_time": "2022-05-18T21:18:43.988Z"
   },
   {
    "duration": 15,
    "start_time": "2022-05-18T21:18:45.315Z"
   },
   {
    "duration": 6,
    "start_time": "2022-05-18T21:18:45.332Z"
   },
   {
    "duration": 544,
    "start_time": "2022-05-18T21:18:45.340Z"
   },
   {
    "duration": 1575,
    "start_time": "2022-05-18T21:31:08.252Z"
   },
   {
    "duration": 1728,
    "start_time": "2022-05-18T21:31:52.029Z"
   },
   {
    "duration": 1530,
    "start_time": "2022-05-18T21:32:35.079Z"
   },
   {
    "duration": 435,
    "start_time": "2022-05-18T21:35:36.956Z"
   },
   {
    "duration": 127,
    "start_time": "2022-05-18T21:38:27.785Z"
   },
   {
    "duration": 139,
    "start_time": "2022-05-18T21:38:48.798Z"
   },
   {
    "duration": 160,
    "start_time": "2022-05-18T21:39:03.058Z"
   },
   {
    "duration": 849,
    "start_time": "2022-05-18T21:39:19.134Z"
   },
   {
    "duration": 2580,
    "start_time": "2022-05-18T21:41:40.138Z"
   },
   {
    "duration": 754,
    "start_time": "2022-05-18T21:42:17.155Z"
   },
   {
    "duration": 997,
    "start_time": "2022-05-18T21:46:23.054Z"
   },
   {
    "duration": 1659,
    "start_time": "2022-05-18T21:58:49.073Z"
   },
   {
    "duration": 1545,
    "start_time": "2022-05-18T21:59:05.397Z"
   },
   {
    "duration": 749,
    "start_time": "2022-05-18T21:59:59.425Z"
   },
   {
    "duration": 5,
    "start_time": "2022-05-18T22:01:31.132Z"
   },
   {
    "duration": 1491,
    "start_time": "2022-05-18T22:01:55.937Z"
   },
   {
    "duration": 1364,
    "start_time": "2022-05-18T22:06:45.737Z"
   },
   {
    "duration": 1477,
    "start_time": "2022-05-18T22:07:03.051Z"
   },
   {
    "duration": 1289,
    "start_time": "2022-05-18T22:07:12.477Z"
   },
   {
    "duration": 11,
    "start_time": "2022-05-18T22:46:40.035Z"
   },
   {
    "duration": 19,
    "start_time": "2022-05-18T22:48:59.439Z"
   },
   {
    "duration": 11,
    "start_time": "2022-05-18T22:49:04.770Z"
   },
   {
    "duration": 101,
    "start_time": "2022-05-18T22:51:17.443Z"
   },
   {
    "duration": 130,
    "start_time": "2022-05-18T22:52:33.178Z"
   },
   {
    "duration": 279,
    "start_time": "2022-05-18T22:54:59.935Z"
   },
   {
    "duration": 22,
    "start_time": "2022-05-18T22:56:34.808Z"
   },
   {
    "duration": 25,
    "start_time": "2022-05-18T22:57:50.009Z"
   },
   {
    "duration": 12,
    "start_time": "2022-05-18T22:58:12.630Z"
   },
   {
    "duration": 12,
    "start_time": "2022-05-18T23:03:29.575Z"
   },
   {
    "duration": 18,
    "start_time": "2022-05-18T23:03:47.905Z"
   }
  ],
  "kernelspec": {
   "display_name": "Python 3 (ipykernel)",
   "language": "python",
   "name": "python3"
  },
  "language_info": {
   "codemirror_mode": {
    "name": "ipython",
    "version": 3
   },
   "file_extension": ".py",
   "mimetype": "text/x-python",
   "name": "python",
   "nbconvert_exporter": "python",
   "pygments_lexer": "ipython3",
   "version": "3.9.5"
  },
  "toc": {
   "base_numbering": 1,
   "nav_menu": {},
   "number_sections": true,
   "sideBar": true,
   "skip_h1_title": true,
   "title_cell": "Table of Contents",
   "title_sidebar": "Contents",
   "toc_cell": true,
   "toc_position": {},
   "toc_section_display": true,
   "toc_window_display": true
  }
 },
 "nbformat": 4,
 "nbformat_minor": 2
}
