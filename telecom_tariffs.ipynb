{
 "cells": [
  {
   "cell_type": "markdown",
   "metadata": {
    "toc": true
   },
   "source": [
    "<h1>Table of Contents<span class=\"tocSkip\"></span></h1>\n",
    "<div class=\"toc\"><ul class=\"toc-item\"><li><span><a href=\"#Описание-проекта\" data-toc-modified-id=\"Описание-проекта-1\"><span class=\"toc-item-num\">1&nbsp;&nbsp;</span>Описание проекта</a></span></li><li><span><a href=\"#Изучение-данных-из-файлов\" data-toc-modified-id=\"Изучение-данных-из-файлов-2\"><span class=\"toc-item-num\">2&nbsp;&nbsp;</span>Изучение данных из файлов</a></span></li><li><span><a href=\"#Предобработка-данных\" data-toc-modified-id=\"Предобработка-данных-3\"><span class=\"toc-item-num\">3&nbsp;&nbsp;</span>Предобработка данных</a></span></li><li><span><a href=\"#Расчёты-и-добавление-результатов-в-таблицу\" data-toc-modified-id=\"Расчёты-и-добавление-результатов-в-таблицу-4\"><span class=\"toc-item-num\">4&nbsp;&nbsp;</span>Расчёты и добавление результатов в таблицу</a></span></li><li><span><a href=\"#Анализ-данных\" data-toc-modified-id=\"Анализ-данных-5\"><span class=\"toc-item-num\">5&nbsp;&nbsp;</span>Анализ данных</a></span></li><li><span><a href=\"#Статистический-анализ.-Проверка-гипотез\" data-toc-modified-id=\"Статистический-анализ.-Проверка-гипотез-6\"><span class=\"toc-item-num\">6&nbsp;&nbsp;</span>Статистический анализ. Проверка гипотез</a></span></li><li><span><a href=\"#Общий-вывод\" data-toc-modified-id=\"Общий-вывод-7\"><span class=\"toc-item-num\">7&nbsp;&nbsp;</span>Общий вывод</a></span></li></ul></div>"
   ]
  },
  {
   "cell_type": "markdown",
   "metadata": {},
   "source": [
    "<h1>Содержание<span class=\"tocSkip\"></span></h1>"
   ]
  },
  {
   "cell_type": "markdown",
   "metadata": {},
   "source": [
    "# Определение перспективного тарифа для телеком-компании"
   ]
  },
  {
   "cell_type": "markdown",
   "metadata": {},
   "source": [
    "## Описание проекта\n",
    "Вы аналитик компании «Мегалайн» — федерального оператора сотовой связи. Клиентам предлагают два тарифных плана: «Смарт» и «Ультра». Чтобы скорректировать рекламный бюджет, коммерческий департамент хочет понять, какой тариф приносит больше денег.\n",
    "Вам предстоит сделать предварительный анализ тарифов на небольшой выборке клиентов.\n",
    "\n",
    "В вашем распоряжении данные 500 пользователей «Мегалайна»: кто они, откуда, каким тарифом пользуются, сколько звонков и сообщений каждый отправил за 2018 год. Нужно проанализировать поведение клиентов и сделать вывод — какой тариф лучше."
   ]
  },
  {
   "cell_type": "markdown",
   "metadata": {},
   "source": [
    "**Описание тарифов**\n",
    "\n",
    "**Тариф «Смарт»**\n",
    "- Ежемесячная плата: 550 рублей\n",
    "- Включено 500 минут разговора, 50 сообщений и 15 Гб интернет-трафика\n",
    "\n",
    "Стоимость услуг сверх тарифного пакета: \n",
    "1. минута разговора: 3 рубля («Мегалайн» всегда округляет вверх значения минут и мегабайтов. Если пользователь проговорил всего 1 секунду, в тарифе засчитывается целая минута); \n",
    "\n",
    "2. сообщение: 3 рубля; 3. 1 Гб интернет-трафика: 200 рублей.\n",
    "\n",
    "**Тариф «Ультра»**\n",
    "- Ежемесячная плата: 1950 рублей\n",
    "- Включено 3000 минут разговора, 1000 сообщений и 30 Гб интернет-трафика\n",
    "\n",
    "Стоимость услуг сверх тарифного пакета: \n",
    "1. минута разговора: 1 рубль; \n",
    "\n",
    "2. сообщение: 1 рубль; 3. 1 Гб интернет-трафика: 150 рублей."
   ]
  },
  {
   "cell_type": "markdown",
   "metadata": {},
   "source": [
    "**Описание данных**\n",
    "\n",
    "**Таблица users (информация о пользователях):**\n",
    "- user_id — уникальный идентификатор пользователя\n",
    "- first_name — имя пользователя\n",
    "- last_name — фамилия пользователя\n",
    "- age — возраст пользователя (годы)\n",
    "- reg_date — дата подключения тарифа (день, месяц, год)\n",
    "- churn_date — дата прекращения пользования тарифом (если значение пропущено, то тариф ещё действовал на момент выгрузки данных)\n",
    "- city — город проживания пользователя\n",
    "- tarif — название тарифного плана\n",
    "\n",
    "**Таблица calls (информация о звонках):**\n",
    "- id — уникальный номер звонка\n",
    "- call_date — дата звонка\n",
    "- duration — длительность звонка в минутах\n",
    "- user_id — идентификатор пользователя, сделавшего звонок\n",
    "\n",
    "**Таблица messages (информация о сообщениях):**\n",
    "- id — уникальный номер сообщения\n",
    "- message_date — дата сообщения\n",
    "- user_id — идентификатор пользователя, отправившего сообщение\n",
    "\n",
    "**Таблица internet (информация об интернет-сессиях):**\n",
    "- id — уникальный номер сессии\n",
    "- mb_used — объём потраченного за сессию интернет-трафика (в мегабайтах)\n",
    "- session_date — дата интернет-сессии\n",
    "- user_id — идентификатор пользователя\n",
    "\n",
    "**Таблица tariffs (информация о тарифах):**\n",
    "- tariff_name — название тарифа\n",
    "- rub_monthly_fee — ежемесячная абонентская плата в рублях\n",
    "- minutes_included — количество минут разговора в месяц, включённых в абонентскую плату\n",
    "- messages_included — количество сообщений в месяц, включённых в абонентскую плату\n",
    "- mb_per_month_included — объём интернет-трафика, включённого в абонентскую плату (в мегабайтах)\n",
    "- rub_per_minute — стоимость минуты разговора сверх тарифного пакета (например, если в тарифе 100 минут разговора в месяц, то со 101 минуты будет взиматься плата)\n",
    "- rub_per_message — стоимость отправки сообщения сверх тарифного пакета\n",
    "- rub_per_gb — стоимость дополнительного гигабайта интернет-трафика сверх тарифного пакета (1 гигабайт = 1024 мегабайта)"
   ]
  },
  {
   "cell_type": "markdown",
   "metadata": {},
   "source": [
    "## Изучение данных из файлов\n"
   ]
  },
  {
   "cell_type": "code",
   "execution_count": 3,
   "metadata": {},
   "outputs": [],
   "source": [
    "import warnings\n",
    "warnings.filterwarnings('ignore')#скрытие предупреждений\n",
    "\n",
    "import pandas as pd\n",
    "import numpy as np\n",
    "import math\n",
    "import matplotlib.pyplot as plt\n",
    "from scipy import stats as st\n",
    "import seaborn as sns"
   ]
  },
  {
   "cell_type": "code",
   "execution_count": 4,
   "metadata": {},
   "outputs": [
    {
     "data": {
      "text/html": [
       "<div>\n",
       "<style scoped>\n",
       "    .dataframe tbody tr th:only-of-type {\n",
       "        vertical-align: middle;\n",
       "    }\n",
       "\n",
       "    .dataframe tbody tr th {\n",
       "        vertical-align: top;\n",
       "    }\n",
       "\n",
       "    .dataframe thead th {\n",
       "        text-align: right;\n",
       "    }\n",
       "</style>\n",
       "<table border=\"1\" class=\"dataframe\">\n",
       "  <thead>\n",
       "    <tr style=\"text-align: right;\">\n",
       "      <th></th>\n",
       "      <th>user_id</th>\n",
       "      <th>age</th>\n",
       "      <th>churn_date</th>\n",
       "      <th>city</th>\n",
       "      <th>first_name</th>\n",
       "      <th>last_name</th>\n",
       "      <th>reg_date</th>\n",
       "      <th>tariff</th>\n",
       "    </tr>\n",
       "  </thead>\n",
       "  <tbody>\n",
       "    <tr>\n",
       "      <td>0</td>\n",
       "      <td>1000</td>\n",
       "      <td>52</td>\n",
       "      <td>NaN</td>\n",
       "      <td>Краснодар</td>\n",
       "      <td>Рафаил</td>\n",
       "      <td>Верещагин</td>\n",
       "      <td>2018-05-25</td>\n",
       "      <td>ultra</td>\n",
       "    </tr>\n",
       "    <tr>\n",
       "      <td>1</td>\n",
       "      <td>1001</td>\n",
       "      <td>41</td>\n",
       "      <td>NaN</td>\n",
       "      <td>Москва</td>\n",
       "      <td>Иван</td>\n",
       "      <td>Ежов</td>\n",
       "      <td>2018-11-01</td>\n",
       "      <td>smart</td>\n",
       "    </tr>\n",
       "    <tr>\n",
       "      <td>2</td>\n",
       "      <td>1002</td>\n",
       "      <td>59</td>\n",
       "      <td>NaN</td>\n",
       "      <td>Стерлитамак</td>\n",
       "      <td>Евгений</td>\n",
       "      <td>Абрамович</td>\n",
       "      <td>2018-06-17</td>\n",
       "      <td>smart</td>\n",
       "    </tr>\n",
       "    <tr>\n",
       "      <td>3</td>\n",
       "      <td>1003</td>\n",
       "      <td>23</td>\n",
       "      <td>NaN</td>\n",
       "      <td>Москва</td>\n",
       "      <td>Белла</td>\n",
       "      <td>Белякова</td>\n",
       "      <td>2018-08-17</td>\n",
       "      <td>ultra</td>\n",
       "    </tr>\n",
       "    <tr>\n",
       "      <td>4</td>\n",
       "      <td>1004</td>\n",
       "      <td>68</td>\n",
       "      <td>NaN</td>\n",
       "      <td>Новокузнецк</td>\n",
       "      <td>Татьяна</td>\n",
       "      <td>Авдеенко</td>\n",
       "      <td>2018-05-14</td>\n",
       "      <td>ultra</td>\n",
       "    </tr>\n",
       "  </tbody>\n",
       "</table>\n",
       "</div>"
      ],
      "text/plain": [
       "   user_id  age churn_date         city first_name  last_name    reg_date  \\\n",
       "0     1000   52        NaN    Краснодар     Рафаил  Верещагин  2018-05-25   \n",
       "1     1001   41        NaN       Москва       Иван       Ежов  2018-11-01   \n",
       "2     1002   59        NaN  Стерлитамак    Евгений  Абрамович  2018-06-17   \n",
       "3     1003   23        NaN       Москва      Белла   Белякова  2018-08-17   \n",
       "4     1004   68        NaN  Новокузнецк    Татьяна   Авдеенко  2018-05-14   \n",
       "\n",
       "  tariff  \n",
       "0  ultra  \n",
       "1  smart  \n",
       "2  smart  \n",
       "3  ultra  \n",
       "4  ultra  "
      ]
     },
     "metadata": {},
     "output_type": "display_data"
    },
    {
     "name": "stdout",
     "output_type": "stream",
     "text": [
      "<class 'pandas.core.frame.DataFrame'>\n",
      "RangeIndex: 500 entries, 0 to 499\n",
      "Data columns (total 8 columns):\n",
      "user_id       500 non-null int64\n",
      "age           500 non-null int64\n",
      "churn_date    38 non-null object\n",
      "city          500 non-null object\n",
      "first_name    500 non-null object\n",
      "last_name     500 non-null object\n",
      "reg_date      500 non-null object\n",
      "tariff        500 non-null object\n",
      "dtypes: int64(2), object(6)\n",
      "memory usage: 31.4+ KB\n"
     ]
    }
   ],
   "source": [
    "users = pd.read_csv('/datasets/users.csv')\n",
    "display(users.head()) #вывод первых 5 строчек\n",
    "users.info() # получение общей информации о данных в таблице "
   ]
  },
  {
   "cell_type": "markdown",
   "metadata": {},
   "source": [
    "Таблица 'users' состотит из 8-и столбцов, названия в порядке. _Требуется обработка пропусков в 'churn_date'_. Столбец 'city' нужно проверить на наличие неявных дубликатов. Столбцы 'churn_date', 'reg_date' нужно привести к типу datetime."
   ]
  },
  {
   "cell_type": "code",
   "execution_count": 5,
   "metadata": {
    "scrolled": true
   },
   "outputs": [
    {
     "data": {
      "text/html": [
       "<div>\n",
       "<style scoped>\n",
       "    .dataframe tbody tr th:only-of-type {\n",
       "        vertical-align: middle;\n",
       "    }\n",
       "\n",
       "    .dataframe tbody tr th {\n",
       "        vertical-align: top;\n",
       "    }\n",
       "\n",
       "    .dataframe thead th {\n",
       "        text-align: right;\n",
       "    }\n",
       "</style>\n",
       "<table border=\"1\" class=\"dataframe\">\n",
       "  <thead>\n",
       "    <tr style=\"text-align: right;\">\n",
       "      <th></th>\n",
       "      <th>id</th>\n",
       "      <th>call_date</th>\n",
       "      <th>duration</th>\n",
       "      <th>user_id</th>\n",
       "    </tr>\n",
       "  </thead>\n",
       "  <tbody>\n",
       "    <tr>\n",
       "      <td>0</td>\n",
       "      <td>1000_0</td>\n",
       "      <td>2018-07-25</td>\n",
       "      <td>0.00</td>\n",
       "      <td>1000</td>\n",
       "    </tr>\n",
       "    <tr>\n",
       "      <td>1</td>\n",
       "      <td>1000_1</td>\n",
       "      <td>2018-08-17</td>\n",
       "      <td>0.00</td>\n",
       "      <td>1000</td>\n",
       "    </tr>\n",
       "    <tr>\n",
       "      <td>2</td>\n",
       "      <td>1000_2</td>\n",
       "      <td>2018-06-11</td>\n",
       "      <td>2.85</td>\n",
       "      <td>1000</td>\n",
       "    </tr>\n",
       "    <tr>\n",
       "      <td>3</td>\n",
       "      <td>1000_3</td>\n",
       "      <td>2018-09-21</td>\n",
       "      <td>13.80</td>\n",
       "      <td>1000</td>\n",
       "    </tr>\n",
       "    <tr>\n",
       "      <td>4</td>\n",
       "      <td>1000_4</td>\n",
       "      <td>2018-12-15</td>\n",
       "      <td>5.18</td>\n",
       "      <td>1000</td>\n",
       "    </tr>\n",
       "  </tbody>\n",
       "</table>\n",
       "</div>"
      ],
      "text/plain": [
       "       id   call_date  duration  user_id\n",
       "0  1000_0  2018-07-25      0.00     1000\n",
       "1  1000_1  2018-08-17      0.00     1000\n",
       "2  1000_2  2018-06-11      2.85     1000\n",
       "3  1000_3  2018-09-21     13.80     1000\n",
       "4  1000_4  2018-12-15      5.18     1000"
      ]
     },
     "metadata": {},
     "output_type": "display_data"
    },
    {
     "name": "stdout",
     "output_type": "stream",
     "text": [
      "<class 'pandas.core.frame.DataFrame'>\n",
      "RangeIndex: 202607 entries, 0 to 202606\n",
      "Data columns (total 4 columns):\n",
      "id           202607 non-null object\n",
      "call_date    202607 non-null object\n",
      "duration     202607 non-null float64\n",
      "user_id      202607 non-null int64\n",
      "dtypes: float64(1), int64(1), object(2)\n",
      "memory usage: 6.2+ MB\n"
     ]
    }
   ],
   "source": [
    "calls = pd.read_csv('/datasets/calls.csv')\n",
    "display(calls.head()) #вывод первых 5 строчек\n",
    "calls.info() # получение общей информации о данных в таблице "
   ]
  },
  {
   "cell_type": "code",
   "execution_count": 6,
   "metadata": {
    "scrolled": true
   },
   "outputs": [
    {
     "data": {
      "text/html": [
       "<div>\n",
       "<style scoped>\n",
       "    .dataframe tbody tr th:only-of-type {\n",
       "        vertical-align: middle;\n",
       "    }\n",
       "\n",
       "    .dataframe tbody tr th {\n",
       "        vertical-align: top;\n",
       "    }\n",
       "\n",
       "    .dataframe thead th {\n",
       "        text-align: right;\n",
       "    }\n",
       "</style>\n",
       "<table border=\"1\" class=\"dataframe\">\n",
       "  <thead>\n",
       "    <tr style=\"text-align: right;\">\n",
       "      <th></th>\n",
       "      <th>Unnamed: 0</th>\n",
       "      <th>id</th>\n",
       "      <th>mb_used</th>\n",
       "      <th>session_date</th>\n",
       "      <th>user_id</th>\n",
       "    </tr>\n",
       "  </thead>\n",
       "  <tbody>\n",
       "    <tr>\n",
       "      <td>0</td>\n",
       "      <td>0</td>\n",
       "      <td>1000_0</td>\n",
       "      <td>112.95</td>\n",
       "      <td>2018-11-25</td>\n",
       "      <td>1000</td>\n",
       "    </tr>\n",
       "    <tr>\n",
       "      <td>1</td>\n",
       "      <td>1</td>\n",
       "      <td>1000_1</td>\n",
       "      <td>1052.81</td>\n",
       "      <td>2018-09-07</td>\n",
       "      <td>1000</td>\n",
       "    </tr>\n",
       "    <tr>\n",
       "      <td>2</td>\n",
       "      <td>2</td>\n",
       "      <td>1000_2</td>\n",
       "      <td>1197.26</td>\n",
       "      <td>2018-06-25</td>\n",
       "      <td>1000</td>\n",
       "    </tr>\n",
       "    <tr>\n",
       "      <td>3</td>\n",
       "      <td>3</td>\n",
       "      <td>1000_3</td>\n",
       "      <td>550.27</td>\n",
       "      <td>2018-08-22</td>\n",
       "      <td>1000</td>\n",
       "    </tr>\n",
       "    <tr>\n",
       "      <td>4</td>\n",
       "      <td>4</td>\n",
       "      <td>1000_4</td>\n",
       "      <td>302.56</td>\n",
       "      <td>2018-09-24</td>\n",
       "      <td>1000</td>\n",
       "    </tr>\n",
       "  </tbody>\n",
       "</table>\n",
       "</div>"
      ],
      "text/plain": [
       "   Unnamed: 0      id  mb_used session_date  user_id\n",
       "0           0  1000_0   112.95   2018-11-25     1000\n",
       "1           1  1000_1  1052.81   2018-09-07     1000\n",
       "2           2  1000_2  1197.26   2018-06-25     1000\n",
       "3           3  1000_3   550.27   2018-08-22     1000\n",
       "4           4  1000_4   302.56   2018-09-24     1000"
      ]
     },
     "metadata": {},
     "output_type": "display_data"
    },
    {
     "name": "stdout",
     "output_type": "stream",
     "text": [
      "<class 'pandas.core.frame.DataFrame'>\n",
      "RangeIndex: 149396 entries, 0 to 149395\n",
      "Data columns (total 5 columns):\n",
      "Unnamed: 0      149396 non-null int64\n",
      "id              149396 non-null object\n",
      "mb_used         149396 non-null float64\n",
      "session_date    149396 non-null object\n",
      "user_id         149396 non-null int64\n",
      "dtypes: float64(1), int64(2), object(2)\n",
      "memory usage: 5.7+ MB\n"
     ]
    }
   ],
   "source": [
    "internet = pd.read_csv('/datasets/internet.csv')\n",
    "display(internet.head()) #вывод первых 5 строчек\n",
    "internet.info() # получение общей информации о данных в таблице "
   ]
  },
  {
   "cell_type": "markdown",
   "metadata": {},
   "source": [
    "Таблица 'internet' состотит из 5-и столбцов, названия в порядке, пропущенных значений нет. Столбец 'Unnamed: 0' - так как данного столбца нет в описании данных, видмо это столбец, дублирующий индексы - нужно удалить.\n",
    "Столбец session_date нужно привести к типу datetime.\n"
   ]
  },
  {
   "cell_type": "code",
   "execution_count": 7,
   "metadata": {
    "scrolled": true
   },
   "outputs": [
    {
     "data": {
      "text/html": [
       "<div>\n",
       "<style scoped>\n",
       "    .dataframe tbody tr th:only-of-type {\n",
       "        vertical-align: middle;\n",
       "    }\n",
       "\n",
       "    .dataframe tbody tr th {\n",
       "        vertical-align: top;\n",
       "    }\n",
       "\n",
       "    .dataframe thead th {\n",
       "        text-align: right;\n",
       "    }\n",
       "</style>\n",
       "<table border=\"1\" class=\"dataframe\">\n",
       "  <thead>\n",
       "    <tr style=\"text-align: right;\">\n",
       "      <th></th>\n",
       "      <th>id</th>\n",
       "      <th>message_date</th>\n",
       "      <th>user_id</th>\n",
       "    </tr>\n",
       "  </thead>\n",
       "  <tbody>\n",
       "    <tr>\n",
       "      <td>0</td>\n",
       "      <td>1000_0</td>\n",
       "      <td>2018-06-27</td>\n",
       "      <td>1000</td>\n",
       "    </tr>\n",
       "    <tr>\n",
       "      <td>1</td>\n",
       "      <td>1000_1</td>\n",
       "      <td>2018-10-08</td>\n",
       "      <td>1000</td>\n",
       "    </tr>\n",
       "    <tr>\n",
       "      <td>2</td>\n",
       "      <td>1000_2</td>\n",
       "      <td>2018-08-04</td>\n",
       "      <td>1000</td>\n",
       "    </tr>\n",
       "    <tr>\n",
       "      <td>3</td>\n",
       "      <td>1000_3</td>\n",
       "      <td>2018-06-16</td>\n",
       "      <td>1000</td>\n",
       "    </tr>\n",
       "    <tr>\n",
       "      <td>4</td>\n",
       "      <td>1000_4</td>\n",
       "      <td>2018-12-05</td>\n",
       "      <td>1000</td>\n",
       "    </tr>\n",
       "  </tbody>\n",
       "</table>\n",
       "</div>"
      ],
      "text/plain": [
       "       id message_date  user_id\n",
       "0  1000_0   2018-06-27     1000\n",
       "1  1000_1   2018-10-08     1000\n",
       "2  1000_2   2018-08-04     1000\n",
       "3  1000_3   2018-06-16     1000\n",
       "4  1000_4   2018-12-05     1000"
      ]
     },
     "metadata": {},
     "output_type": "display_data"
    },
    {
     "name": "stdout",
     "output_type": "stream",
     "text": [
      "<class 'pandas.core.frame.DataFrame'>\n",
      "RangeIndex: 123036 entries, 0 to 123035\n",
      "Data columns (total 3 columns):\n",
      "id              123036 non-null object\n",
      "message_date    123036 non-null object\n",
      "user_id         123036 non-null int64\n",
      "dtypes: int64(1), object(2)\n",
      "memory usage: 2.8+ MB\n"
     ]
    }
   ],
   "source": [
    "messages = pd.read_csv('/datasets/messages.csv')\n",
    "display(messages.head()) #вывод первых 5 строчек\n",
    "messages.info() # получение общей информации о данных в таблице "
   ]
  },
  {
   "cell_type": "markdown",
   "metadata": {},
   "source": [
    "Таблица 'messages' состотит из 3-х столбцов, названия в порядке, пропущенных значений нет.\n",
    "Столбец message_date нужно привести к типу datetime."
   ]
  },
  {
   "cell_type": "code",
   "execution_count": 8,
   "metadata": {
    "scrolled": true
   },
   "outputs": [
    {
     "data": {
      "text/html": [
       "<div>\n",
       "<style scoped>\n",
       "    .dataframe tbody tr th:only-of-type {\n",
       "        vertical-align: middle;\n",
       "    }\n",
       "\n",
       "    .dataframe tbody tr th {\n",
       "        vertical-align: top;\n",
       "    }\n",
       "\n",
       "    .dataframe thead th {\n",
       "        text-align: right;\n",
       "    }\n",
       "</style>\n",
       "<table border=\"1\" class=\"dataframe\">\n",
       "  <thead>\n",
       "    <tr style=\"text-align: right;\">\n",
       "      <th></th>\n",
       "      <th>messages_included</th>\n",
       "      <th>mb_per_month_included</th>\n",
       "      <th>minutes_included</th>\n",
       "      <th>rub_monthly_fee</th>\n",
       "      <th>rub_per_gb</th>\n",
       "      <th>rub_per_message</th>\n",
       "      <th>rub_per_minute</th>\n",
       "      <th>tariff_name</th>\n",
       "    </tr>\n",
       "  </thead>\n",
       "  <tbody>\n",
       "    <tr>\n",
       "      <td>0</td>\n",
       "      <td>50</td>\n",
       "      <td>15360</td>\n",
       "      <td>500</td>\n",
       "      <td>550</td>\n",
       "      <td>200</td>\n",
       "      <td>3</td>\n",
       "      <td>3</td>\n",
       "      <td>smart</td>\n",
       "    </tr>\n",
       "    <tr>\n",
       "      <td>1</td>\n",
       "      <td>1000</td>\n",
       "      <td>30720</td>\n",
       "      <td>3000</td>\n",
       "      <td>1950</td>\n",
       "      <td>150</td>\n",
       "      <td>1</td>\n",
       "      <td>1</td>\n",
       "      <td>ultra</td>\n",
       "    </tr>\n",
       "  </tbody>\n",
       "</table>\n",
       "</div>"
      ],
      "text/plain": [
       "   messages_included  mb_per_month_included  minutes_included  \\\n",
       "0                 50                  15360               500   \n",
       "1               1000                  30720              3000   \n",
       "\n",
       "   rub_monthly_fee  rub_per_gb  rub_per_message  rub_per_minute tariff_name  \n",
       "0              550         200                3               3       smart  \n",
       "1             1950         150                1               1       ultra  "
      ]
     },
     "metadata": {},
     "output_type": "display_data"
    },
    {
     "name": "stdout",
     "output_type": "stream",
     "text": [
      "<class 'pandas.core.frame.DataFrame'>\n",
      "RangeIndex: 2 entries, 0 to 1\n",
      "Data columns (total 8 columns):\n",
      "messages_included        2 non-null int64\n",
      "mb_per_month_included    2 non-null int64\n",
      "minutes_included         2 non-null int64\n",
      "rub_monthly_fee          2 non-null int64\n",
      "rub_per_gb               2 non-null int64\n",
      "rub_per_message          2 non-null int64\n",
      "rub_per_minute           2 non-null int64\n",
      "tariff_name              2 non-null object\n",
      "dtypes: int64(7), object(1)\n",
      "memory usage: 256.0+ bytes\n"
     ]
    }
   ],
   "source": [
    "tariffs = pd.read_csv('/datasets/tariffs.csv')\n",
    "display(tariffs.head()) #вывод первых 5 строчек\n",
    "tariffs.info() # получение общей информации о данных в таблице "
   ]
  },
  {
   "cell_type": "markdown",
   "metadata": {},
   "source": [
    "Таблица 'tariffs' состотит из 8-и столбцов, названия в порядке, пропущенных значений нет. Типы данных в порядке. Предобработка не требуется."
   ]
  },
  {
   "cell_type": "markdown",
   "metadata": {},
   "source": [
    "**Вывод:**\n",
    "\n",
    "Итого у нас 5 датафреймов с информацией по тарифам \"Смарт\" и \"Ультра\".\n",
    "\n",
    "Требуется привести данные к нужным типам, обработать пропуски и проверить на дубликаты. </font> "
   ]
  },
  {
   "cell_type": "markdown",
   "metadata": {},
   "source": [
    "## Предобработка данных"
   ]
  },
  {
   "cell_type": "markdown",
   "metadata": {},
   "source": [
    "**Нужно сделать:**\n",
    "- Приведите данные к нужным типам;\n",
    "- Найдите и исправьте ошибки в данных, если они есть. Поясните, какие ошибки вы нашли и как их исправили. В данных вы найдёте звонки с нулевой продолжительностью. Это не ошибка: нулями обозначены пропущенные звонки, поэтому их не нужно удалять.\n"
   ]
  },
  {
   "cell_type": "markdown",
   "metadata": {},
   "source": [
    "Обработаю **таблицу 'users'**. _Требуется обработка пропусков в 'churn_date'_ Столбец 'city' нужно проверить на наличие неявных дубликатов. Столбцы 'churn_date', 'reg_date' приведу к типу datetime."
   ]
  },
  {
   "cell_type": "code",
   "execution_count": 9,
   "metadata": {},
   "outputs": [],
   "source": [
    "# Приведу 'churn_date', 'reg_date' к типу datetime.\n",
    "users['churn_date'] = pd.to_datetime(users['churn_date'], format=\"%Y-%m-%d\")\n",
    "users['reg_date'] = pd.to_datetime(users['reg_date'], format=\"%Y-%m-%d\")"
   ]
  },
  {
   "cell_type": "code",
   "execution_count": 10,
   "metadata": {
    "scrolled": true
   },
   "outputs": [],
   "source": [
    "#display(sorted(users['city'].unique())) #вывожу список уникальных значений"
   ]
  },
  {
   "cell_type": "code",
   "execution_count": 11,
   "metadata": {
    "scrolled": true
   },
   "outputs": [
    {
     "data": {
      "text/html": [
       "<div>\n",
       "<style scoped>\n",
       "    .dataframe tbody tr th:only-of-type {\n",
       "        vertical-align: middle;\n",
       "    }\n",
       "\n",
       "    .dataframe tbody tr th {\n",
       "        vertical-align: top;\n",
       "    }\n",
       "\n",
       "    .dataframe thead th {\n",
       "        text-align: right;\n",
       "    }\n",
       "</style>\n",
       "<table border=\"1\" class=\"dataframe\">\n",
       "  <thead>\n",
       "    <tr style=\"text-align: right;\">\n",
       "      <th></th>\n",
       "      <th>user_id</th>\n",
       "      <th>age</th>\n",
       "      <th>churn_date</th>\n",
       "      <th>city</th>\n",
       "      <th>first_name</th>\n",
       "      <th>last_name</th>\n",
       "      <th>reg_date</th>\n",
       "      <th>tariff</th>\n",
       "    </tr>\n",
       "  </thead>\n",
       "  <tbody>\n",
       "    <tr>\n",
       "      <td>0</td>\n",
       "      <td>1000</td>\n",
       "      <td>52</td>\n",
       "      <td>NaT</td>\n",
       "      <td>Краснодар</td>\n",
       "      <td>Рафаил</td>\n",
       "      <td>Верещагин</td>\n",
       "      <td>2018-05-25</td>\n",
       "      <td>ultra</td>\n",
       "    </tr>\n",
       "    <tr>\n",
       "      <td>1</td>\n",
       "      <td>1001</td>\n",
       "      <td>41</td>\n",
       "      <td>NaT</td>\n",
       "      <td>Москва</td>\n",
       "      <td>Иван</td>\n",
       "      <td>Ежов</td>\n",
       "      <td>2018-11-01</td>\n",
       "      <td>smart</td>\n",
       "    </tr>\n",
       "    <tr>\n",
       "      <td>2</td>\n",
       "      <td>1002</td>\n",
       "      <td>59</td>\n",
       "      <td>NaT</td>\n",
       "      <td>Стерлитамак</td>\n",
       "      <td>Евгений</td>\n",
       "      <td>Абрамович</td>\n",
       "      <td>2018-06-17</td>\n",
       "      <td>smart</td>\n",
       "    </tr>\n",
       "    <tr>\n",
       "      <td>3</td>\n",
       "      <td>1003</td>\n",
       "      <td>23</td>\n",
       "      <td>NaT</td>\n",
       "      <td>Москва</td>\n",
       "      <td>Белла</td>\n",
       "      <td>Белякова</td>\n",
       "      <td>2018-08-17</td>\n",
       "      <td>ultra</td>\n",
       "    </tr>\n",
       "    <tr>\n",
       "      <td>4</td>\n",
       "      <td>1004</td>\n",
       "      <td>68</td>\n",
       "      <td>NaT</td>\n",
       "      <td>Новокузнецк</td>\n",
       "      <td>Татьяна</td>\n",
       "      <td>Авдеенко</td>\n",
       "      <td>2018-05-14</td>\n",
       "      <td>ultra</td>\n",
       "    </tr>\n",
       "  </tbody>\n",
       "</table>\n",
       "</div>"
      ],
      "text/plain": [
       "   user_id  age churn_date         city first_name  last_name   reg_date  \\\n",
       "0     1000   52        NaT    Краснодар     Рафаил  Верещагин 2018-05-25   \n",
       "1     1001   41        NaT       Москва       Иван       Ежов 2018-11-01   \n",
       "2     1002   59        NaT  Стерлитамак    Евгений  Абрамович 2018-06-17   \n",
       "3     1003   23        NaT       Москва      Белла   Белякова 2018-08-17   \n",
       "4     1004   68        NaT  Новокузнецк    Татьяна   Авдеенко 2018-05-14   \n",
       "\n",
       "  tariff  \n",
       "0  ultra  \n",
       "1  smart  \n",
       "2  smart  \n",
       "3  ultra  \n",
       "4  ultra  "
      ]
     },
     "metadata": {},
     "output_type": "display_data"
    },
    {
     "name": "stdout",
     "output_type": "stream",
     "text": [
      "<class 'pandas.core.frame.DataFrame'>\n",
      "RangeIndex: 500 entries, 0 to 499\n",
      "Data columns (total 8 columns):\n",
      "user_id       500 non-null int64\n",
      "age           500 non-null int64\n",
      "churn_date    38 non-null datetime64[ns]\n",
      "city          500 non-null object\n",
      "first_name    500 non-null object\n",
      "last_name     500 non-null object\n",
      "reg_date      500 non-null datetime64[ns]\n",
      "tariff        500 non-null object\n",
      "dtypes: datetime64[ns](2), int64(2), object(4)\n",
      "memory usage: 31.4+ KB\n"
     ]
    }
   ],
   "source": [
    "display(users.head())\n",
    "users.info() #Проверяю, если все в порядке, иду дальше"
   ]
  },
  {
   "cell_type": "markdown",
   "metadata": {},
   "source": [
    "В **таблице 'calls'** необходимо изменить типы данных: \n",
    "- call_date привести к типу datetime\n",
    "- id к int\n",
    "- duration к int с округлением вверх (так как оператор округляет все звонки)\n",
    "\n",
    "\n",
    "В соответсвии с описанием, звонки с нулевой продолжительностью - это пропущенные звонки, поэтому их не нужно удалять.\n"
   ]
  },
  {
   "cell_type": "code",
   "execution_count": 12,
   "metadata": {},
   "outputs": [],
   "source": [
    "calls['call_date'] = pd.to_datetime(calls['call_date'], format=\"%Y-%m-%d\")\n",
    "calls['id'] = calls['id'].astype('int')\n",
    "calls['duration'] = calls['duration'].apply(np.ceil).astype('int')"
   ]
  },
  {
   "cell_type": "code",
   "execution_count": 13,
   "metadata": {
    "scrolled": true
   },
   "outputs": [
    {
     "data": {
      "text/html": [
       "<div>\n",
       "<style scoped>\n",
       "    .dataframe tbody tr th:only-of-type {\n",
       "        vertical-align: middle;\n",
       "    }\n",
       "\n",
       "    .dataframe tbody tr th {\n",
       "        vertical-align: top;\n",
       "    }\n",
       "\n",
       "    .dataframe thead th {\n",
       "        text-align: right;\n",
       "    }\n",
       "</style>\n",
       "<table border=\"1\" class=\"dataframe\">\n",
       "  <thead>\n",
       "    <tr style=\"text-align: right;\">\n",
       "      <th></th>\n",
       "      <th>id</th>\n",
       "      <th>call_date</th>\n",
       "      <th>duration</th>\n",
       "      <th>user_id</th>\n",
       "    </tr>\n",
       "  </thead>\n",
       "  <tbody>\n",
       "    <tr>\n",
       "      <td>0</td>\n",
       "      <td>10000</td>\n",
       "      <td>2018-07-25</td>\n",
       "      <td>0</td>\n",
       "      <td>1000</td>\n",
       "    </tr>\n",
       "    <tr>\n",
       "      <td>1</td>\n",
       "      <td>10001</td>\n",
       "      <td>2018-08-17</td>\n",
       "      <td>0</td>\n",
       "      <td>1000</td>\n",
       "    </tr>\n",
       "    <tr>\n",
       "      <td>2</td>\n",
       "      <td>10002</td>\n",
       "      <td>2018-06-11</td>\n",
       "      <td>3</td>\n",
       "      <td>1000</td>\n",
       "    </tr>\n",
       "    <tr>\n",
       "      <td>3</td>\n",
       "      <td>10003</td>\n",
       "      <td>2018-09-21</td>\n",
       "      <td>14</td>\n",
       "      <td>1000</td>\n",
       "    </tr>\n",
       "    <tr>\n",
       "      <td>4</td>\n",
       "      <td>10004</td>\n",
       "      <td>2018-12-15</td>\n",
       "      <td>6</td>\n",
       "      <td>1000</td>\n",
       "    </tr>\n",
       "  </tbody>\n",
       "</table>\n",
       "</div>"
      ],
      "text/plain": [
       "      id  call_date  duration  user_id\n",
       "0  10000 2018-07-25         0     1000\n",
       "1  10001 2018-08-17         0     1000\n",
       "2  10002 2018-06-11         3     1000\n",
       "3  10003 2018-09-21        14     1000\n",
       "4  10004 2018-12-15         6     1000"
      ]
     },
     "metadata": {},
     "output_type": "display_data"
    },
    {
     "name": "stdout",
     "output_type": "stream",
     "text": [
      "<class 'pandas.core.frame.DataFrame'>\n",
      "RangeIndex: 202607 entries, 0 to 202606\n",
      "Data columns (total 4 columns):\n",
      "id           202607 non-null int64\n",
      "call_date    202607 non-null datetime64[ns]\n",
      "duration     202607 non-null int64\n",
      "user_id      202607 non-null int64\n",
      "dtypes: datetime64[ns](1), int64(3)\n",
      "memory usage: 6.2 MB\n"
     ]
    }
   ],
   "source": [
    "display(calls.head())\n",
    "calls.info()"
   ]
  },
  {
   "cell_type": "markdown",
   "metadata": {},
   "source": [
    "В **таблице 'internet'**  нужно:\n",
    "- удалить столбец 'Unnamed: 0' (так как данного столбца нет в описании данных, видимо это столбец дублирующий индексы); \n",
    "- id к int\n",
    "- столбец session_date нужно привести к типу datetime"
   ]
  },
  {
   "cell_type": "code",
   "execution_count": 14,
   "metadata": {
    "scrolled": true
   },
   "outputs": [],
   "source": [
    "internet.drop(columns = ['Unnamed: 0'],axis = 1)\n",
    "internet['id'] = internet['id'].astype('int')\n",
    "#internet['mb_used'] = internet['mb_used'].apply(math.ceil).astype('int')\n",
    "internet['session_date'] = pd.to_datetime(internet['session_date'], format=\"%Y-%m-%d\")"
   ]
  },
  {
   "cell_type": "markdown",
   "metadata": {},
   "source": [
    "**Так как, согласно ТЗ, для веб-трафика отдельные сессии не считаются и вместо этого общая сумма за месяц округляется в бо́льшую сторону, пока не буду изменять тип mb_used, чтобы не потерять знаки после запятой.</font>**"
   ]
  },
  {
   "cell_type": "code",
   "execution_count": 15,
   "metadata": {
    "scrolled": true
   },
   "outputs": [
    {
     "data": {
      "text/html": [
       "<div>\n",
       "<style scoped>\n",
       "    .dataframe tbody tr th:only-of-type {\n",
       "        vertical-align: middle;\n",
       "    }\n",
       "\n",
       "    .dataframe tbody tr th {\n",
       "        vertical-align: top;\n",
       "    }\n",
       "\n",
       "    .dataframe thead th {\n",
       "        text-align: right;\n",
       "    }\n",
       "</style>\n",
       "<table border=\"1\" class=\"dataframe\">\n",
       "  <thead>\n",
       "    <tr style=\"text-align: right;\">\n",
       "      <th></th>\n",
       "      <th>Unnamed: 0</th>\n",
       "      <th>id</th>\n",
       "      <th>mb_used</th>\n",
       "      <th>session_date</th>\n",
       "      <th>user_id</th>\n",
       "    </tr>\n",
       "  </thead>\n",
       "  <tbody>\n",
       "    <tr>\n",
       "      <td>0</td>\n",
       "      <td>0</td>\n",
       "      <td>10000</td>\n",
       "      <td>112.95</td>\n",
       "      <td>2018-11-25</td>\n",
       "      <td>1000</td>\n",
       "    </tr>\n",
       "    <tr>\n",
       "      <td>1</td>\n",
       "      <td>1</td>\n",
       "      <td>10001</td>\n",
       "      <td>1052.81</td>\n",
       "      <td>2018-09-07</td>\n",
       "      <td>1000</td>\n",
       "    </tr>\n",
       "    <tr>\n",
       "      <td>2</td>\n",
       "      <td>2</td>\n",
       "      <td>10002</td>\n",
       "      <td>1197.26</td>\n",
       "      <td>2018-06-25</td>\n",
       "      <td>1000</td>\n",
       "    </tr>\n",
       "    <tr>\n",
       "      <td>3</td>\n",
       "      <td>3</td>\n",
       "      <td>10003</td>\n",
       "      <td>550.27</td>\n",
       "      <td>2018-08-22</td>\n",
       "      <td>1000</td>\n",
       "    </tr>\n",
       "    <tr>\n",
       "      <td>4</td>\n",
       "      <td>4</td>\n",
       "      <td>10004</td>\n",
       "      <td>302.56</td>\n",
       "      <td>2018-09-24</td>\n",
       "      <td>1000</td>\n",
       "    </tr>\n",
       "  </tbody>\n",
       "</table>\n",
       "</div>"
      ],
      "text/plain": [
       "   Unnamed: 0     id  mb_used session_date  user_id\n",
       "0           0  10000   112.95   2018-11-25     1000\n",
       "1           1  10001  1052.81   2018-09-07     1000\n",
       "2           2  10002  1197.26   2018-06-25     1000\n",
       "3           3  10003   550.27   2018-08-22     1000\n",
       "4           4  10004   302.56   2018-09-24     1000"
      ]
     },
     "metadata": {},
     "output_type": "display_data"
    },
    {
     "name": "stdout",
     "output_type": "stream",
     "text": [
      "<class 'pandas.core.frame.DataFrame'>\n",
      "RangeIndex: 149396 entries, 0 to 149395\n",
      "Data columns (total 5 columns):\n",
      "Unnamed: 0      149396 non-null int64\n",
      "id              149396 non-null int64\n",
      "mb_used         149396 non-null float64\n",
      "session_date    149396 non-null datetime64[ns]\n",
      "user_id         149396 non-null int64\n",
      "dtypes: datetime64[ns](1), float64(1), int64(3)\n",
      "memory usage: 5.7 MB\n"
     ]
    }
   ],
   "source": [
    "display(internet.head())\n",
    "internet.info()"
   ]
  },
  {
   "cell_type": "markdown",
   "metadata": {},
   "source": [
    "В **таблица 'messages'**:\n",
    "- id к int\n",
    "- cтолбец message_date нужно привести к типу datetime."
   ]
  },
  {
   "cell_type": "code",
   "execution_count": 16,
   "metadata": {
    "scrolled": true
   },
   "outputs": [],
   "source": [
    "messages['id'] = messages['id'].astype('int')\n",
    "messages['message_date'] = pd.to_datetime(messages['message_date'], format=\"%Y-%m-%d\")"
   ]
  },
  {
   "cell_type": "code",
   "execution_count": 17,
   "metadata": {
    "scrolled": true
   },
   "outputs": [
    {
     "data": {
      "text/html": [
       "<div>\n",
       "<style scoped>\n",
       "    .dataframe tbody tr th:only-of-type {\n",
       "        vertical-align: middle;\n",
       "    }\n",
       "\n",
       "    .dataframe tbody tr th {\n",
       "        vertical-align: top;\n",
       "    }\n",
       "\n",
       "    .dataframe thead th {\n",
       "        text-align: right;\n",
       "    }\n",
       "</style>\n",
       "<table border=\"1\" class=\"dataframe\">\n",
       "  <thead>\n",
       "    <tr style=\"text-align: right;\">\n",
       "      <th></th>\n",
       "      <th>id</th>\n",
       "      <th>message_date</th>\n",
       "      <th>user_id</th>\n",
       "    </tr>\n",
       "  </thead>\n",
       "  <tbody>\n",
       "    <tr>\n",
       "      <td>0</td>\n",
       "      <td>10000</td>\n",
       "      <td>2018-06-27</td>\n",
       "      <td>1000</td>\n",
       "    </tr>\n",
       "    <tr>\n",
       "      <td>1</td>\n",
       "      <td>10001</td>\n",
       "      <td>2018-10-08</td>\n",
       "      <td>1000</td>\n",
       "    </tr>\n",
       "    <tr>\n",
       "      <td>2</td>\n",
       "      <td>10002</td>\n",
       "      <td>2018-08-04</td>\n",
       "      <td>1000</td>\n",
       "    </tr>\n",
       "    <tr>\n",
       "      <td>3</td>\n",
       "      <td>10003</td>\n",
       "      <td>2018-06-16</td>\n",
       "      <td>1000</td>\n",
       "    </tr>\n",
       "    <tr>\n",
       "      <td>4</td>\n",
       "      <td>10004</td>\n",
       "      <td>2018-12-05</td>\n",
       "      <td>1000</td>\n",
       "    </tr>\n",
       "  </tbody>\n",
       "</table>\n",
       "</div>"
      ],
      "text/plain": [
       "      id message_date  user_id\n",
       "0  10000   2018-06-27     1000\n",
       "1  10001   2018-10-08     1000\n",
       "2  10002   2018-08-04     1000\n",
       "3  10003   2018-06-16     1000\n",
       "4  10004   2018-12-05     1000"
      ]
     },
     "metadata": {},
     "output_type": "display_data"
    },
    {
     "name": "stdout",
     "output_type": "stream",
     "text": [
      "<class 'pandas.core.frame.DataFrame'>\n",
      "RangeIndex: 123036 entries, 0 to 123035\n",
      "Data columns (total 3 columns):\n",
      "id              123036 non-null int64\n",
      "message_date    123036 non-null datetime64[ns]\n",
      "user_id         123036 non-null int64\n",
      "dtypes: datetime64[ns](1), int64(2)\n",
      "memory usage: 2.8 MB\n"
     ]
    }
   ],
   "source": [
    "display(messages.head())\n",
    "messages.info()"
   ]
  },
  {
   "cell_type": "markdown",
   "metadata": {},
   "source": [
    "**Вывод:**\n",
    "\n",
    "Была проведена предобработка данных в таблицах. Удален лишний столбец в таблице 'internet'. Значения в вещественных столбцах округлены \"вверх\", изменены типы данных на подходящие."
   ]
  },
  {
   "cell_type": "markdown",
   "metadata": {},
   "source": [
    "## Расчёты и добавление результатов в таблицу"
   ]
  },
  {
   "cell_type": "markdown",
   "metadata": {},
   "source": [
    "\n",
    "**Посчитайте для каждого пользователя:**\n",
    "- количество сделанных звонков и израсходованных минут разговора по месяцам;\n",
    "- количество отправленных сообщений по месяцам;\n",
    "- объем израсходованного интернет-трафика по месяцам;\n",
    "- помесячную выручку с каждого пользователя (вычтите бесплатный лимит из суммарного количества звонков, сообщений и интернет-трафика; остаток умножьте на значение из тарифного плана; прибавьте абонентскую плату, соответствующую тарифному плану)."
   ]
  },
  {
   "cell_type": "markdown",
   "metadata": {},
   "source": [
    "**Подсчет количества сделанных звонков и израсходованных минут разговора по месяцам**"
   ]
  },
  {
   "cell_type": "code",
   "execution_count": 18,
   "metadata": {},
   "outputs": [],
   "source": [
    "calls['month'] = calls['call_date'].astype('datetime64[M]') #Добавлю столбец с номером месяца"
   ]
  },
  {
   "cell_type": "code",
   "execution_count": 19,
   "metadata": {
    "scrolled": false
   },
   "outputs": [
    {
     "data": {
      "text/html": [
       "<div>\n",
       "<style scoped>\n",
       "    .dataframe tbody tr th:only-of-type {\n",
       "        vertical-align: middle;\n",
       "    }\n",
       "\n",
       "    .dataframe tbody tr th {\n",
       "        vertical-align: top;\n",
       "    }\n",
       "\n",
       "    .dataframe thead th {\n",
       "        text-align: right;\n",
       "    }\n",
       "</style>\n",
       "<table border=\"1\" class=\"dataframe\">\n",
       "  <thead>\n",
       "    <tr style=\"text-align: right;\">\n",
       "      <th></th>\n",
       "      <th>user_id</th>\n",
       "      <th>month</th>\n",
       "      <th>total_calls_in_month</th>\n",
       "      <th>calls_duration_in_month</th>\n",
       "    </tr>\n",
       "  </thead>\n",
       "  <tbody>\n",
       "    <tr>\n",
       "      <td>0</td>\n",
       "      <td>1000</td>\n",
       "      <td>2018-05-01</td>\n",
       "      <td>22</td>\n",
       "      <td>159</td>\n",
       "    </tr>\n",
       "    <tr>\n",
       "      <td>1</td>\n",
       "      <td>1000</td>\n",
       "      <td>2018-06-01</td>\n",
       "      <td>43</td>\n",
       "      <td>172</td>\n",
       "    </tr>\n",
       "    <tr>\n",
       "      <td>2</td>\n",
       "      <td>1000</td>\n",
       "      <td>2018-07-01</td>\n",
       "      <td>47</td>\n",
       "      <td>340</td>\n",
       "    </tr>\n",
       "    <tr>\n",
       "      <td>3</td>\n",
       "      <td>1000</td>\n",
       "      <td>2018-08-01</td>\n",
       "      <td>52</td>\n",
       "      <td>408</td>\n",
       "    </tr>\n",
       "    <tr>\n",
       "      <td>4</td>\n",
       "      <td>1000</td>\n",
       "      <td>2018-09-01</td>\n",
       "      <td>58</td>\n",
       "      <td>466</td>\n",
       "    </tr>\n",
       "  </tbody>\n",
       "</table>\n",
       "</div>"
      ],
      "text/plain": [
       "   user_id      month  total_calls_in_month  calls_duration_in_month\n",
       "0     1000 2018-05-01                    22                      159\n",
       "1     1000 2018-06-01                    43                      172\n",
       "2     1000 2018-07-01                    47                      340\n",
       "3     1000 2018-08-01                    52                      408\n",
       "4     1000 2018-09-01                    58                      466"
      ]
     },
     "metadata": {},
     "output_type": "display_data"
    }
   ],
   "source": [
    "#Сделаю сводную таблицу с подсчетом количества сделанных звонков и израсходованных минут разговора по месяцам\n",
    "calls = calls.groupby(['user_id', 'month']).agg({'id':'count', 'duration':'sum'}).reset_index()\n",
    "calls = calls.rename(columns={'id':'total_calls_in_month','duration':'calls_duration_in_month'})\n",
    "display(calls.head())\n"
   ]
  },
  {
   "cell_type": "markdown",
   "metadata": {},
   "source": [
    "**Подсчет количества отправленных сообщений по месяцам**"
   ]
  },
  {
   "cell_type": "code",
   "execution_count": 20,
   "metadata": {},
   "outputs": [],
   "source": [
    "messages['month'] = messages['message_date'].astype('datetime64[M]') #Добавлю столбец с номером месяца"
   ]
  },
  {
   "cell_type": "code",
   "execution_count": 21,
   "metadata": {
    "scrolled": true
   },
   "outputs": [
    {
     "data": {
      "text/html": [
       "<div>\n",
       "<style scoped>\n",
       "    .dataframe tbody tr th:only-of-type {\n",
       "        vertical-align: middle;\n",
       "    }\n",
       "\n",
       "    .dataframe tbody tr th {\n",
       "        vertical-align: top;\n",
       "    }\n",
       "\n",
       "    .dataframe thead th {\n",
       "        text-align: right;\n",
       "    }\n",
       "</style>\n",
       "<table border=\"1\" class=\"dataframe\">\n",
       "  <thead>\n",
       "    <tr style=\"text-align: right;\">\n",
       "      <th></th>\n",
       "      <th>user_id</th>\n",
       "      <th>month</th>\n",
       "      <th>total_messages_in_month</th>\n",
       "    </tr>\n",
       "  </thead>\n",
       "  <tbody>\n",
       "    <tr>\n",
       "      <td>0</td>\n",
       "      <td>1000</td>\n",
       "      <td>2018-05-01</td>\n",
       "      <td>22</td>\n",
       "    </tr>\n",
       "    <tr>\n",
       "      <td>1</td>\n",
       "      <td>1000</td>\n",
       "      <td>2018-06-01</td>\n",
       "      <td>60</td>\n",
       "    </tr>\n",
       "    <tr>\n",
       "      <td>2</td>\n",
       "      <td>1000</td>\n",
       "      <td>2018-07-01</td>\n",
       "      <td>75</td>\n",
       "    </tr>\n",
       "    <tr>\n",
       "      <td>3</td>\n",
       "      <td>1000</td>\n",
       "      <td>2018-08-01</td>\n",
       "      <td>81</td>\n",
       "    </tr>\n",
       "    <tr>\n",
       "      <td>4</td>\n",
       "      <td>1000</td>\n",
       "      <td>2018-09-01</td>\n",
       "      <td>57</td>\n",
       "    </tr>\n",
       "  </tbody>\n",
       "</table>\n",
       "</div>"
      ],
      "text/plain": [
       "   user_id      month  total_messages_in_month\n",
       "0     1000 2018-05-01                       22\n",
       "1     1000 2018-06-01                       60\n",
       "2     1000 2018-07-01                       75\n",
       "3     1000 2018-08-01                       81\n",
       "4     1000 2018-09-01                       57"
      ]
     },
     "metadata": {},
     "output_type": "display_data"
    }
   ],
   "source": [
    "#Сделаю сводную таблицу с подсчетом количества отправленных сообщений по месяцам\n",
    "messages = messages.groupby(['user_id', 'month']).agg({'id':'count'}).reset_index()\n",
    "messages = messages.rename(columns={'id':'total_messages_in_month'})\n",
    "display(messages.head())"
   ]
  },
  {
   "cell_type": "markdown",
   "metadata": {},
   "source": [
    "**Вычисление объема израсходованного интернет-трафика по месяцам**"
   ]
  },
  {
   "cell_type": "code",
   "execution_count": 22,
   "metadata": {
    "scrolled": true
   },
   "outputs": [],
   "source": [
    "internet['month'] = internet['session_date'].astype('datetime64[M]') #Добавлю столбец с номером месяца"
   ]
  },
  {
   "cell_type": "code",
   "execution_count": 23,
   "metadata": {
    "scrolled": false
   },
   "outputs": [
    {
     "data": {
      "text/html": [
       "<div>\n",
       "<style scoped>\n",
       "    .dataframe tbody tr th:only-of-type {\n",
       "        vertical-align: middle;\n",
       "    }\n",
       "\n",
       "    .dataframe tbody tr th {\n",
       "        vertical-align: top;\n",
       "    }\n",
       "\n",
       "    .dataframe thead th {\n",
       "        text-align: right;\n",
       "    }\n",
       "</style>\n",
       "<table border=\"1\" class=\"dataframe\">\n",
       "  <thead>\n",
       "    <tr style=\"text-align: right;\">\n",
       "      <th></th>\n",
       "      <th>user_id</th>\n",
       "      <th>month</th>\n",
       "      <th>total_mb_in_month</th>\n",
       "    </tr>\n",
       "  </thead>\n",
       "  <tbody>\n",
       "    <tr>\n",
       "      <td>0</td>\n",
       "      <td>1000</td>\n",
       "      <td>2018-05-01</td>\n",
       "      <td>2253.49</td>\n",
       "    </tr>\n",
       "    <tr>\n",
       "      <td>1</td>\n",
       "      <td>1000</td>\n",
       "      <td>2018-06-01</td>\n",
       "      <td>23233.77</td>\n",
       "    </tr>\n",
       "    <tr>\n",
       "      <td>2</td>\n",
       "      <td>1000</td>\n",
       "      <td>2018-07-01</td>\n",
       "      <td>14003.64</td>\n",
       "    </tr>\n",
       "    <tr>\n",
       "      <td>3</td>\n",
       "      <td>1000</td>\n",
       "      <td>2018-08-01</td>\n",
       "      <td>14055.93</td>\n",
       "    </tr>\n",
       "    <tr>\n",
       "      <td>4</td>\n",
       "      <td>1000</td>\n",
       "      <td>2018-09-01</td>\n",
       "      <td>14568.91</td>\n",
       "    </tr>\n",
       "  </tbody>\n",
       "</table>\n",
       "</div>"
      ],
      "text/plain": [
       "   user_id      month  total_mb_in_month\n",
       "0     1000 2018-05-01            2253.49\n",
       "1     1000 2018-06-01           23233.77\n",
       "2     1000 2018-07-01           14003.64\n",
       "3     1000 2018-08-01           14055.93\n",
       "4     1000 2018-09-01           14568.91"
      ]
     },
     "metadata": {},
     "output_type": "display_data"
    }
   ],
   "source": [
    "#Сделаю сводную таблицу с вычислением объема израсходованного интернет-трафика по месяцам\n",
    "internet = internet.groupby(['user_id', 'month']).agg({'mb_used': 'sum'}).reset_index()\n",
    "internet= internet.rename(columns={'mb_used':'total_mb_in_month'})\n",
    "display(internet.head())"
   ]
  },
  {
   "cell_type": "markdown",
   "metadata": {},
   "source": [
    "**Расчет помесячной выручки с каждого пользователя**"
   ]
  },
  {
   "cell_type": "markdown",
   "metadata": {},
   "source": [
    "Для подсчёта выручки нужно объеденить сгруппированные таблицы (по звонкам, сообщениям и интернету), добавить название м условие тарифа."
   ]
  },
  {
   "cell_type": "code",
   "execution_count": 24,
   "metadata": {},
   "outputs": [],
   "source": [
    "#Создам новую таблицу, объединив таблицы по звонкам, сообщениям и интернету. Поочередно примененю метод merge к таблицам.\n",
    "df = calls.merge(messages, on=['user_id', 'month'], how='outer')\\\n",
    "    .merge(internet, on=['user_id', 'month'], how='outer')"
   ]
  },
  {
   "cell_type": "code",
   "execution_count": 25,
   "metadata": {
    "scrolled": false
   },
   "outputs": [
    {
     "data": {
      "text/html": [
       "<div>\n",
       "<style scoped>\n",
       "    .dataframe tbody tr th:only-of-type {\n",
       "        vertical-align: middle;\n",
       "    }\n",
       "\n",
       "    .dataframe tbody tr th {\n",
       "        vertical-align: top;\n",
       "    }\n",
       "\n",
       "    .dataframe thead th {\n",
       "        text-align: right;\n",
       "    }\n",
       "</style>\n",
       "<table border=\"1\" class=\"dataframe\">\n",
       "  <thead>\n",
       "    <tr style=\"text-align: right;\">\n",
       "      <th></th>\n",
       "      <th>user_id</th>\n",
       "      <th>month</th>\n",
       "      <th>total_calls_in_month</th>\n",
       "      <th>calls_duration_in_month</th>\n",
       "      <th>total_messages_in_month</th>\n",
       "      <th>total_mb_in_month</th>\n",
       "    </tr>\n",
       "  </thead>\n",
       "  <tbody>\n",
       "    <tr>\n",
       "      <td>0</td>\n",
       "      <td>1000</td>\n",
       "      <td>2018-05-01</td>\n",
       "      <td>22.0</td>\n",
       "      <td>159.0</td>\n",
       "      <td>22.0</td>\n",
       "      <td>2253.49</td>\n",
       "    </tr>\n",
       "    <tr>\n",
       "      <td>1</td>\n",
       "      <td>1000</td>\n",
       "      <td>2018-06-01</td>\n",
       "      <td>43.0</td>\n",
       "      <td>172.0</td>\n",
       "      <td>60.0</td>\n",
       "      <td>23233.77</td>\n",
       "    </tr>\n",
       "    <tr>\n",
       "      <td>2</td>\n",
       "      <td>1000</td>\n",
       "      <td>2018-07-01</td>\n",
       "      <td>47.0</td>\n",
       "      <td>340.0</td>\n",
       "      <td>75.0</td>\n",
       "      <td>14003.64</td>\n",
       "    </tr>\n",
       "    <tr>\n",
       "      <td>3</td>\n",
       "      <td>1000</td>\n",
       "      <td>2018-08-01</td>\n",
       "      <td>52.0</td>\n",
       "      <td>408.0</td>\n",
       "      <td>81.0</td>\n",
       "      <td>14055.93</td>\n",
       "    </tr>\n",
       "    <tr>\n",
       "      <td>4</td>\n",
       "      <td>1000</td>\n",
       "      <td>2018-09-01</td>\n",
       "      <td>58.0</td>\n",
       "      <td>466.0</td>\n",
       "      <td>57.0</td>\n",
       "      <td>14568.91</td>\n",
       "    </tr>\n",
       "  </tbody>\n",
       "</table>\n",
       "</div>"
      ],
      "text/plain": [
       "   user_id      month  total_calls_in_month  calls_duration_in_month  \\\n",
       "0     1000 2018-05-01                  22.0                    159.0   \n",
       "1     1000 2018-06-01                  43.0                    172.0   \n",
       "2     1000 2018-07-01                  47.0                    340.0   \n",
       "3     1000 2018-08-01                  52.0                    408.0   \n",
       "4     1000 2018-09-01                  58.0                    466.0   \n",
       "\n",
       "   total_messages_in_month  total_mb_in_month  \n",
       "0                     22.0            2253.49  \n",
       "1                     60.0           23233.77  \n",
       "2                     75.0           14003.64  \n",
       "3                     81.0           14055.93  \n",
       "4                     57.0           14568.91  "
      ]
     },
     "metadata": {},
     "output_type": "display_data"
    }
   ],
   "source": [
    "display(df.head()) #Проверяю, что получилось"
   ]
  },
  {
   "cell_type": "markdown",
   "metadata": {},
   "source": [
    "Далее добавлю к df столбцы таблицы 'users', а следом информацию по тарифам (через столбец 'tariff')"
   ]
  },
  {
   "cell_type": "code",
   "execution_count": 26,
   "metadata": {
    "scrolled": true
   },
   "outputs": [
    {
     "data": {
      "text/html": [
       "<div>\n",
       "<style scoped>\n",
       "    .dataframe tbody tr th:only-of-type {\n",
       "        vertical-align: middle;\n",
       "    }\n",
       "\n",
       "    .dataframe tbody tr th {\n",
       "        vertical-align: top;\n",
       "    }\n",
       "\n",
       "    .dataframe thead th {\n",
       "        text-align: right;\n",
       "    }\n",
       "</style>\n",
       "<table border=\"1\" class=\"dataframe\">\n",
       "  <thead>\n",
       "    <tr style=\"text-align: right;\">\n",
       "      <th></th>\n",
       "      <th>user_id</th>\n",
       "      <th>month</th>\n",
       "      <th>total_calls_in_month</th>\n",
       "      <th>calls_duration_in_month</th>\n",
       "      <th>total_messages_in_month</th>\n",
       "      <th>total_mb_in_month</th>\n",
       "      <th>age</th>\n",
       "      <th>churn_date</th>\n",
       "      <th>city</th>\n",
       "      <th>first_name</th>\n",
       "      <th>last_name</th>\n",
       "      <th>reg_date</th>\n",
       "      <th>tariff</th>\n",
       "    </tr>\n",
       "  </thead>\n",
       "  <tbody>\n",
       "    <tr>\n",
       "      <td>0</td>\n",
       "      <td>1000</td>\n",
       "      <td>2018-05-01</td>\n",
       "      <td>22.0</td>\n",
       "      <td>159.0</td>\n",
       "      <td>22.0</td>\n",
       "      <td>2253.49</td>\n",
       "      <td>52</td>\n",
       "      <td>NaT</td>\n",
       "      <td>Краснодар</td>\n",
       "      <td>Рафаил</td>\n",
       "      <td>Верещагин</td>\n",
       "      <td>2018-05-25</td>\n",
       "      <td>ultra</td>\n",
       "    </tr>\n",
       "    <tr>\n",
       "      <td>1</td>\n",
       "      <td>1000</td>\n",
       "      <td>2018-06-01</td>\n",
       "      <td>43.0</td>\n",
       "      <td>172.0</td>\n",
       "      <td>60.0</td>\n",
       "      <td>23233.77</td>\n",
       "      <td>52</td>\n",
       "      <td>NaT</td>\n",
       "      <td>Краснодар</td>\n",
       "      <td>Рафаил</td>\n",
       "      <td>Верещагин</td>\n",
       "      <td>2018-05-25</td>\n",
       "      <td>ultra</td>\n",
       "    </tr>\n",
       "    <tr>\n",
       "      <td>2</td>\n",
       "      <td>1000</td>\n",
       "      <td>2018-07-01</td>\n",
       "      <td>47.0</td>\n",
       "      <td>340.0</td>\n",
       "      <td>75.0</td>\n",
       "      <td>14003.64</td>\n",
       "      <td>52</td>\n",
       "      <td>NaT</td>\n",
       "      <td>Краснодар</td>\n",
       "      <td>Рафаил</td>\n",
       "      <td>Верещагин</td>\n",
       "      <td>2018-05-25</td>\n",
       "      <td>ultra</td>\n",
       "    </tr>\n",
       "    <tr>\n",
       "      <td>3</td>\n",
       "      <td>1000</td>\n",
       "      <td>2018-08-01</td>\n",
       "      <td>52.0</td>\n",
       "      <td>408.0</td>\n",
       "      <td>81.0</td>\n",
       "      <td>14055.93</td>\n",
       "      <td>52</td>\n",
       "      <td>NaT</td>\n",
       "      <td>Краснодар</td>\n",
       "      <td>Рафаил</td>\n",
       "      <td>Верещагин</td>\n",
       "      <td>2018-05-25</td>\n",
       "      <td>ultra</td>\n",
       "    </tr>\n",
       "    <tr>\n",
       "      <td>4</td>\n",
       "      <td>1000</td>\n",
       "      <td>2018-09-01</td>\n",
       "      <td>58.0</td>\n",
       "      <td>466.0</td>\n",
       "      <td>57.0</td>\n",
       "      <td>14568.91</td>\n",
       "      <td>52</td>\n",
       "      <td>NaT</td>\n",
       "      <td>Краснодар</td>\n",
       "      <td>Рафаил</td>\n",
       "      <td>Верещагин</td>\n",
       "      <td>2018-05-25</td>\n",
       "      <td>ultra</td>\n",
       "    </tr>\n",
       "  </tbody>\n",
       "</table>\n",
       "</div>"
      ],
      "text/plain": [
       "   user_id      month  total_calls_in_month  calls_duration_in_month  \\\n",
       "0     1000 2018-05-01                  22.0                    159.0   \n",
       "1     1000 2018-06-01                  43.0                    172.0   \n",
       "2     1000 2018-07-01                  47.0                    340.0   \n",
       "3     1000 2018-08-01                  52.0                    408.0   \n",
       "4     1000 2018-09-01                  58.0                    466.0   \n",
       "\n",
       "   total_messages_in_month  total_mb_in_month  age churn_date       city  \\\n",
       "0                     22.0            2253.49   52        NaT  Краснодар   \n",
       "1                     60.0           23233.77   52        NaT  Краснодар   \n",
       "2                     75.0           14003.64   52        NaT  Краснодар   \n",
       "3                     81.0           14055.93   52        NaT  Краснодар   \n",
       "4                     57.0           14568.91   52        NaT  Краснодар   \n",
       "\n",
       "  first_name  last_name   reg_date tariff  \n",
       "0     Рафаил  Верещагин 2018-05-25  ultra  \n",
       "1     Рафаил  Верещагин 2018-05-25  ultra  \n",
       "2     Рафаил  Верещагин 2018-05-25  ultra  \n",
       "3     Рафаил  Верещагин 2018-05-25  ultra  \n",
       "4     Рафаил  Верещагин 2018-05-25  ultra  "
      ]
     },
     "metadata": {},
     "output_type": "display_data"
    }
   ],
   "source": [
    "#Добавлю к общей таблице информацию о пользователях\n",
    "df = df.merge(users, on='user_id', how='left')\n",
    "display(df.head()) #Проверяю, что получилось"
   ]
  },
  {
   "cell_type": "code",
   "execution_count": 27,
   "metadata": {},
   "outputs": [
    {
     "data": {
      "text/html": [
       "<div>\n",
       "<style scoped>\n",
       "    .dataframe tbody tr th:only-of-type {\n",
       "        vertical-align: middle;\n",
       "    }\n",
       "\n",
       "    .dataframe tbody tr th {\n",
       "        vertical-align: top;\n",
       "    }\n",
       "\n",
       "    .dataframe thead th {\n",
       "        text-align: right;\n",
       "    }\n",
       "</style>\n",
       "<table border=\"1\" class=\"dataframe\">\n",
       "  <thead>\n",
       "    <tr style=\"text-align: right;\">\n",
       "      <th></th>\n",
       "      <th>messages_included</th>\n",
       "      <th>mb_per_month_included</th>\n",
       "      <th>minutes_included</th>\n",
       "      <th>rub_monthly_fee</th>\n",
       "      <th>rub_per_gb</th>\n",
       "      <th>rub_per_message</th>\n",
       "      <th>rub_per_minute</th>\n",
       "      <th>tariff_name</th>\n",
       "    </tr>\n",
       "  </thead>\n",
       "  <tbody>\n",
       "    <tr>\n",
       "      <td>0</td>\n",
       "      <td>50</td>\n",
       "      <td>15360</td>\n",
       "      <td>500</td>\n",
       "      <td>550</td>\n",
       "      <td>200</td>\n",
       "      <td>3</td>\n",
       "      <td>3</td>\n",
       "      <td>smart</td>\n",
       "    </tr>\n",
       "    <tr>\n",
       "      <td>1</td>\n",
       "      <td>1000</td>\n",
       "      <td>30720</td>\n",
       "      <td>3000</td>\n",
       "      <td>1950</td>\n",
       "      <td>150</td>\n",
       "      <td>1</td>\n",
       "      <td>1</td>\n",
       "      <td>ultra</td>\n",
       "    </tr>\n",
       "  </tbody>\n",
       "</table>\n",
       "</div>"
      ],
      "text/plain": [
       "   messages_included  mb_per_month_included  minutes_included  \\\n",
       "0                 50                  15360               500   \n",
       "1               1000                  30720              3000   \n",
       "\n",
       "   rub_monthly_fee  rub_per_gb  rub_per_message  rub_per_minute tariff_name  \n",
       "0              550         200                3               3       smart  \n",
       "1             1950         150                1               1       ultra  "
      ]
     },
     "metadata": {},
     "output_type": "display_data"
    }
   ],
   "source": [
    "display(tariffs) #Проверю названия столбцов"
   ]
  },
  {
   "cell_type": "code",
   "execution_count": 28,
   "metadata": {},
   "outputs": [],
   "source": [
    "#Заменю название tariff_name на tariff, для дальнейшего объединения таблиц\n",
    "tariffs = tariffs.rename(columns={'tariff_name':'tariff'}) "
   ]
  },
  {
   "cell_type": "code",
   "execution_count": 29,
   "metadata": {
    "scrolled": false
   },
   "outputs": [
    {
     "data": {
      "text/html": [
       "<div>\n",
       "<style scoped>\n",
       "    .dataframe tbody tr th:only-of-type {\n",
       "        vertical-align: middle;\n",
       "    }\n",
       "\n",
       "    .dataframe tbody tr th {\n",
       "        vertical-align: top;\n",
       "    }\n",
       "\n",
       "    .dataframe thead th {\n",
       "        text-align: right;\n",
       "    }\n",
       "</style>\n",
       "<table border=\"1\" class=\"dataframe\">\n",
       "  <thead>\n",
       "    <tr style=\"text-align: right;\">\n",
       "      <th></th>\n",
       "      <th>user_id</th>\n",
       "      <th>month</th>\n",
       "      <th>total_calls_in_month</th>\n",
       "      <th>calls_duration_in_month</th>\n",
       "      <th>total_messages_in_month</th>\n",
       "      <th>total_mb_in_month</th>\n",
       "      <th>age</th>\n",
       "      <th>churn_date</th>\n",
       "      <th>city</th>\n",
       "      <th>first_name</th>\n",
       "      <th>last_name</th>\n",
       "      <th>reg_date</th>\n",
       "      <th>tariff</th>\n",
       "      <th>messages_included</th>\n",
       "      <th>mb_per_month_included</th>\n",
       "      <th>minutes_included</th>\n",
       "      <th>rub_monthly_fee</th>\n",
       "      <th>rub_per_gb</th>\n",
       "      <th>rub_per_message</th>\n",
       "      <th>rub_per_minute</th>\n",
       "    </tr>\n",
       "  </thead>\n",
       "  <tbody>\n",
       "    <tr>\n",
       "      <td>0</td>\n",
       "      <td>1000</td>\n",
       "      <td>2018-05-01</td>\n",
       "      <td>22.0</td>\n",
       "      <td>159.0</td>\n",
       "      <td>22.0</td>\n",
       "      <td>2253.49</td>\n",
       "      <td>52</td>\n",
       "      <td>NaT</td>\n",
       "      <td>Краснодар</td>\n",
       "      <td>Рафаил</td>\n",
       "      <td>Верещагин</td>\n",
       "      <td>2018-05-25</td>\n",
       "      <td>ultra</td>\n",
       "      <td>1000</td>\n",
       "      <td>30720</td>\n",
       "      <td>3000</td>\n",
       "      <td>1950</td>\n",
       "      <td>150</td>\n",
       "      <td>1</td>\n",
       "      <td>1</td>\n",
       "    </tr>\n",
       "    <tr>\n",
       "      <td>1</td>\n",
       "      <td>1000</td>\n",
       "      <td>2018-06-01</td>\n",
       "      <td>43.0</td>\n",
       "      <td>172.0</td>\n",
       "      <td>60.0</td>\n",
       "      <td>23233.77</td>\n",
       "      <td>52</td>\n",
       "      <td>NaT</td>\n",
       "      <td>Краснодар</td>\n",
       "      <td>Рафаил</td>\n",
       "      <td>Верещагин</td>\n",
       "      <td>2018-05-25</td>\n",
       "      <td>ultra</td>\n",
       "      <td>1000</td>\n",
       "      <td>30720</td>\n",
       "      <td>3000</td>\n",
       "      <td>1950</td>\n",
       "      <td>150</td>\n",
       "      <td>1</td>\n",
       "      <td>1</td>\n",
       "    </tr>\n",
       "    <tr>\n",
       "      <td>2</td>\n",
       "      <td>1000</td>\n",
       "      <td>2018-07-01</td>\n",
       "      <td>47.0</td>\n",
       "      <td>340.0</td>\n",
       "      <td>75.0</td>\n",
       "      <td>14003.64</td>\n",
       "      <td>52</td>\n",
       "      <td>NaT</td>\n",
       "      <td>Краснодар</td>\n",
       "      <td>Рафаил</td>\n",
       "      <td>Верещагин</td>\n",
       "      <td>2018-05-25</td>\n",
       "      <td>ultra</td>\n",
       "      <td>1000</td>\n",
       "      <td>30720</td>\n",
       "      <td>3000</td>\n",
       "      <td>1950</td>\n",
       "      <td>150</td>\n",
       "      <td>1</td>\n",
       "      <td>1</td>\n",
       "    </tr>\n",
       "    <tr>\n",
       "      <td>3</td>\n",
       "      <td>1000</td>\n",
       "      <td>2018-08-01</td>\n",
       "      <td>52.0</td>\n",
       "      <td>408.0</td>\n",
       "      <td>81.0</td>\n",
       "      <td>14055.93</td>\n",
       "      <td>52</td>\n",
       "      <td>NaT</td>\n",
       "      <td>Краснодар</td>\n",
       "      <td>Рафаил</td>\n",
       "      <td>Верещагин</td>\n",
       "      <td>2018-05-25</td>\n",
       "      <td>ultra</td>\n",
       "      <td>1000</td>\n",
       "      <td>30720</td>\n",
       "      <td>3000</td>\n",
       "      <td>1950</td>\n",
       "      <td>150</td>\n",
       "      <td>1</td>\n",
       "      <td>1</td>\n",
       "    </tr>\n",
       "    <tr>\n",
       "      <td>4</td>\n",
       "      <td>1000</td>\n",
       "      <td>2018-09-01</td>\n",
       "      <td>58.0</td>\n",
       "      <td>466.0</td>\n",
       "      <td>57.0</td>\n",
       "      <td>14568.91</td>\n",
       "      <td>52</td>\n",
       "      <td>NaT</td>\n",
       "      <td>Краснодар</td>\n",
       "      <td>Рафаил</td>\n",
       "      <td>Верещагин</td>\n",
       "      <td>2018-05-25</td>\n",
       "      <td>ultra</td>\n",
       "      <td>1000</td>\n",
       "      <td>30720</td>\n",
       "      <td>3000</td>\n",
       "      <td>1950</td>\n",
       "      <td>150</td>\n",
       "      <td>1</td>\n",
       "      <td>1</td>\n",
       "    </tr>\n",
       "  </tbody>\n",
       "</table>\n",
       "</div>"
      ],
      "text/plain": [
       "   user_id      month  total_calls_in_month  calls_duration_in_month  \\\n",
       "0     1000 2018-05-01                  22.0                    159.0   \n",
       "1     1000 2018-06-01                  43.0                    172.0   \n",
       "2     1000 2018-07-01                  47.0                    340.0   \n",
       "3     1000 2018-08-01                  52.0                    408.0   \n",
       "4     1000 2018-09-01                  58.0                    466.0   \n",
       "\n",
       "   total_messages_in_month  total_mb_in_month  age churn_date       city  \\\n",
       "0                     22.0            2253.49   52        NaT  Краснодар   \n",
       "1                     60.0           23233.77   52        NaT  Краснодар   \n",
       "2                     75.0           14003.64   52        NaT  Краснодар   \n",
       "3                     81.0           14055.93   52        NaT  Краснодар   \n",
       "4                     57.0           14568.91   52        NaT  Краснодар   \n",
       "\n",
       "  first_name  last_name   reg_date tariff  messages_included  \\\n",
       "0     Рафаил  Верещагин 2018-05-25  ultra               1000   \n",
       "1     Рафаил  Верещагин 2018-05-25  ultra               1000   \n",
       "2     Рафаил  Верещагин 2018-05-25  ultra               1000   \n",
       "3     Рафаил  Верещагин 2018-05-25  ultra               1000   \n",
       "4     Рафаил  Верещагин 2018-05-25  ultra               1000   \n",
       "\n",
       "   mb_per_month_included  minutes_included  rub_monthly_fee  rub_per_gb  \\\n",
       "0                  30720              3000             1950         150   \n",
       "1                  30720              3000             1950         150   \n",
       "2                  30720              3000             1950         150   \n",
       "3                  30720              3000             1950         150   \n",
       "4                  30720              3000             1950         150   \n",
       "\n",
       "   rub_per_message  rub_per_minute  \n",
       "0                1               1  \n",
       "1                1               1  \n",
       "2                1               1  \n",
       "3                1               1  \n",
       "4                1               1  "
      ]
     },
     "metadata": {},
     "output_type": "display_data"
    }
   ],
   "source": [
    "#Прикреплю к общей таблице информацию о тарифах, через столбец tariff\n",
    "df = df.merge(tariffs, on='tariff', how='left')\n",
    "display(df.head())"
   ]
  },
  {
   "cell_type": "code",
   "execution_count": 30,
   "metadata": {},
   "outputs": [],
   "source": [
    "#Для удобства дальнейших расчетов, переведу мб в гб \n",
    "#Для веб-трафика отдельные сессии не считаются. Вместо этого общая сумма за месяц округляется в бо́льшую сторону\n",
    "df['total_mb_in_month'] = (df['total_mb_in_month'] / 1024).apply(np.ceil) #округляю в большую сторону \n",
    "df['mb_per_month_included'] = df['mb_per_month_included'] /1024\n",
    "df = df.rename(columns={'total_mb_in_month':'total_gb_in_month',\\\n",
    "                        'mb_per_month_included':'gb_per_month_included'})"
   ]
  },
  {
   "cell_type": "code",
   "execution_count": 31,
   "metadata": {
    "scrolled": false
   },
   "outputs": [
    {
     "name": "stdout",
     "output_type": "stream",
     "text": [
      "<class 'pandas.core.frame.DataFrame'>\n",
      "Int64Index: 3214 entries, 0 to 3213\n",
      "Data columns (total 20 columns):\n",
      "user_id                    3214 non-null int64\n",
      "month                      3214 non-null datetime64[ns]\n",
      "total_calls_in_month       3174 non-null float64\n",
      "calls_duration_in_month    3174 non-null float64\n",
      "total_messages_in_month    2717 non-null float64\n",
      "total_gb_in_month          3203 non-null float64\n",
      "age                        3214 non-null int64\n",
      "churn_date                 187 non-null datetime64[ns]\n",
      "city                       3214 non-null object\n",
      "first_name                 3214 non-null object\n",
      "last_name                  3214 non-null object\n",
      "reg_date                   3214 non-null datetime64[ns]\n",
      "tariff                     3214 non-null object\n",
      "messages_included          3214 non-null int64\n",
      "gb_per_month_included      3214 non-null float64\n",
      "minutes_included           3214 non-null int64\n",
      "rub_monthly_fee            3214 non-null int64\n",
      "rub_per_gb                 3214 non-null int64\n",
      "rub_per_message            3214 non-null int64\n",
      "rub_per_minute             3214 non-null int64\n",
      "dtypes: datetime64[ns](3), float64(5), int64(8), object(4)\n",
      "memory usage: 527.3+ KB\n"
     ]
    }
   ],
   "source": [
    "df.info()"
   ]
  },
  {
   "cell_type": "code",
   "execution_count": 32,
   "metadata": {
    "scrolled": false
   },
   "outputs": [
    {
     "data": {
      "text/plain": [
       "user_id                       0\n",
       "month                         0\n",
       "total_calls_in_month         40\n",
       "calls_duration_in_month      40\n",
       "total_messages_in_month     497\n",
       "total_gb_in_month            11\n",
       "age                           0\n",
       "churn_date                 3027\n",
       "city                          0\n",
       "first_name                    0\n",
       "last_name                     0\n",
       "reg_date                      0\n",
       "tariff                        0\n",
       "messages_included             0\n",
       "gb_per_month_included         0\n",
       "minutes_included              0\n",
       "rub_monthly_fee               0\n",
       "rub_per_gb                    0\n",
       "rub_per_message               0\n",
       "rub_per_minute                0\n",
       "dtype: int64"
      ]
     },
     "execution_count": 32,
     "metadata": {},
     "output_type": "execute_result"
    }
   ],
   "source": [
    "df.isna().sum() #Проверю пропуски"
   ]
  },
  {
   "cell_type": "markdown",
   "metadata": {},
   "source": [
    "Пропуски для столбцов с подсчетами по месяцам логично заменить на 0 (это пользователи, которые не использовали звонки, смс, интернет). Пропуски для 'churn_date' оставляю, так как это дата прекращения пользования тарифом (т.е. если значение пропущено, то тариф ещё действовал на момент выгрузки данных).\n"
   ]
  },
  {
   "cell_type": "code",
   "execution_count": 33,
   "metadata": {},
   "outputs": [
    {
     "data": {
      "text/plain": [
       "user_id                       0\n",
       "month                         0\n",
       "total_calls_in_month          0\n",
       "calls_duration_in_month       0\n",
       "total_messages_in_month       0\n",
       "total_gb_in_month             0\n",
       "age                           0\n",
       "churn_date                 3027\n",
       "city                          0\n",
       "first_name                    0\n",
       "last_name                     0\n",
       "reg_date                      0\n",
       "tariff                        0\n",
       "messages_included             0\n",
       "gb_per_month_included         0\n",
       "minutes_included              0\n",
       "rub_monthly_fee               0\n",
       "rub_per_gb                    0\n",
       "rub_per_message               0\n",
       "rub_per_minute                0\n",
       "dtype: int64"
      ]
     },
     "execution_count": 33,
     "metadata": {},
     "output_type": "execute_result"
    }
   ],
   "source": [
    "df['total_calls_in_month'] = df['total_calls_in_month'].fillna(0)\n",
    "df['calls_duration_in_month'] = df['calls_duration_in_month'].fillna(0)\n",
    "df['total_messages_in_month'] = df['total_messages_in_month'].fillna(0)\n",
    "df['total_gb_in_month'] = df['total_gb_in_month'].fillna(0)\n",
    "df.isna().sum() "
   ]
  },
  {
   "cell_type": "code",
   "execution_count": 34,
   "metadata": {},
   "outputs": [
    {
     "data": {
      "text/plain": [
       "0"
      ]
     },
     "execution_count": 34,
     "metadata": {},
     "output_type": "execute_result"
    }
   ],
   "source": [
    "df.duplicated().sum() #проверю на дубликаты"
   ]
  },
  {
   "cell_type": "markdown",
   "metadata": {},
   "source": [
    "С данными все в порядке - пропуски заполнены, дубликатов нет.\n",
    "\n",
    "Приступлю непосредственно к расчету помесячной выручки с каждого пользователя. Вычту бесплатный лимит из суммарного количества звонков, сообщений и интернет-трафика; остаток умножу на значение из тарифного плана; прибавлю абонентскую плату, соответствующую тарифному плану."
   ]
  },
  {
   "cell_type": "code",
   "execution_count": 35,
   "metadata": {},
   "outputs": [],
   "source": [
    "#Функция для посчета выручки \n",
    "def revenue(row):\n",
    "    monthly_fee = row['rub_monthly_fee']\n",
    "    \n",
    "    minutes = (row['calls_duration_in_month'] - row['minutes_included']) * row['rub_per_minute']\n",
    "    messages = (row['total_messages_in_month'] - row['messages_included']) * row['rub_per_message']\n",
    "    gb = (row['total_gb_in_month'] - row['gb_per_month_included']) * row['rub_per_gb']\n",
    "    total = 0\n",
    "    for i in [minutes, messages, gb]:\n",
    "        if i > 0:\n",
    "            total += i\n",
    "    revenue_per_user =  monthly_fee + total     \n",
    "    return revenue_per_user"
   ]
  },
  {
   "cell_type": "code",
   "execution_count": 36,
   "metadata": {
    "scrolled": true
   },
   "outputs": [
    {
     "data": {
      "text/html": [
       "<div>\n",
       "<style scoped>\n",
       "    .dataframe tbody tr th:only-of-type {\n",
       "        vertical-align: middle;\n",
       "    }\n",
       "\n",
       "    .dataframe tbody tr th {\n",
       "        vertical-align: top;\n",
       "    }\n",
       "\n",
       "    .dataframe thead th {\n",
       "        text-align: right;\n",
       "    }\n",
       "</style>\n",
       "<table border=\"1\" class=\"dataframe\">\n",
       "  <thead>\n",
       "    <tr style=\"text-align: right;\">\n",
       "      <th></th>\n",
       "      <th>user_id</th>\n",
       "      <th>month</th>\n",
       "      <th>total_calls_in_month</th>\n",
       "      <th>calls_duration_in_month</th>\n",
       "      <th>total_messages_in_month</th>\n",
       "      <th>total_gb_in_month</th>\n",
       "      <th>age</th>\n",
       "      <th>churn_date</th>\n",
       "      <th>city</th>\n",
       "      <th>first_name</th>\n",
       "      <th>...</th>\n",
       "      <th>reg_date</th>\n",
       "      <th>tariff</th>\n",
       "      <th>messages_included</th>\n",
       "      <th>gb_per_month_included</th>\n",
       "      <th>minutes_included</th>\n",
       "      <th>rub_monthly_fee</th>\n",
       "      <th>rub_per_gb</th>\n",
       "      <th>rub_per_message</th>\n",
       "      <th>rub_per_minute</th>\n",
       "      <th>revenue</th>\n",
       "    </tr>\n",
       "  </thead>\n",
       "  <tbody>\n",
       "    <tr>\n",
       "      <td>2127</td>\n",
       "      <td>1340</td>\n",
       "      <td>2018-01-01</td>\n",
       "      <td>5.0</td>\n",
       "      <td>25.0</td>\n",
       "      <td>0.0</td>\n",
       "      <td>3.0</td>\n",
       "      <td>50</td>\n",
       "      <td>NaT</td>\n",
       "      <td>Пенза</td>\n",
       "      <td>Тимофей</td>\n",
       "      <td>...</td>\n",
       "      <td>2018-01-30</td>\n",
       "      <td>smart</td>\n",
       "      <td>50</td>\n",
       "      <td>15.0</td>\n",
       "      <td>500</td>\n",
       "      <td>550</td>\n",
       "      <td>200</td>\n",
       "      <td>3</td>\n",
       "      <td>3</td>\n",
       "      <td>550.0</td>\n",
       "    </tr>\n",
       "    <tr>\n",
       "      <td>2982</td>\n",
       "      <td>1468</td>\n",
       "      <td>2018-11-01</td>\n",
       "      <td>36.0</td>\n",
       "      <td>276.0</td>\n",
       "      <td>13.0</td>\n",
       "      <td>13.0</td>\n",
       "      <td>29</td>\n",
       "      <td>NaT</td>\n",
       "      <td>Тамбов</td>\n",
       "      <td>Иван</td>\n",
       "      <td>...</td>\n",
       "      <td>2018-02-11</td>\n",
       "      <td>smart</td>\n",
       "      <td>50</td>\n",
       "      <td>15.0</td>\n",
       "      <td>500</td>\n",
       "      <td>550</td>\n",
       "      <td>200</td>\n",
       "      <td>3</td>\n",
       "      <td>3</td>\n",
       "      <td>550.0</td>\n",
       "    </tr>\n",
       "    <tr>\n",
       "      <td>2318</td>\n",
       "      <td>1373</td>\n",
       "      <td>2018-01-01</td>\n",
       "      <td>2.0</td>\n",
       "      <td>0.0</td>\n",
       "      <td>28.0</td>\n",
       "      <td>9.0</td>\n",
       "      <td>34</td>\n",
       "      <td>NaT</td>\n",
       "      <td>Улан-Удэ</td>\n",
       "      <td>Нелли</td>\n",
       "      <td>...</td>\n",
       "      <td>2018-01-17</td>\n",
       "      <td>smart</td>\n",
       "      <td>50</td>\n",
       "      <td>15.0</td>\n",
       "      <td>500</td>\n",
       "      <td>550</td>\n",
       "      <td>200</td>\n",
       "      <td>3</td>\n",
       "      <td>3</td>\n",
       "      <td>550.0</td>\n",
       "    </tr>\n",
       "    <tr>\n",
       "      <td>829</td>\n",
       "      <td>1134</td>\n",
       "      <td>2018-02-01</td>\n",
       "      <td>59.0</td>\n",
       "      <td>458.0</td>\n",
       "      <td>47.0</td>\n",
       "      <td>13.0</td>\n",
       "      <td>65</td>\n",
       "      <td>NaT</td>\n",
       "      <td>Красноярск</td>\n",
       "      <td>Марьяна</td>\n",
       "      <td>...</td>\n",
       "      <td>2018-01-16</td>\n",
       "      <td>smart</td>\n",
       "      <td>50</td>\n",
       "      <td>15.0</td>\n",
       "      <td>500</td>\n",
       "      <td>550</td>\n",
       "      <td>200</td>\n",
       "      <td>3</td>\n",
       "      <td>3</td>\n",
       "      <td>550.0</td>\n",
       "    </tr>\n",
       "    <tr>\n",
       "      <td>1721</td>\n",
       "      <td>1275</td>\n",
       "      <td>2018-12-01</td>\n",
       "      <td>61.0</td>\n",
       "      <td>364.0</td>\n",
       "      <td>17.0</td>\n",
       "      <td>15.0</td>\n",
       "      <td>48</td>\n",
       "      <td>NaT</td>\n",
       "      <td>Москва</td>\n",
       "      <td>Семён</td>\n",
       "      <td>...</td>\n",
       "      <td>2018-04-24</td>\n",
       "      <td>smart</td>\n",
       "      <td>50</td>\n",
       "      <td>15.0</td>\n",
       "      <td>500</td>\n",
       "      <td>550</td>\n",
       "      <td>200</td>\n",
       "      <td>3</td>\n",
       "      <td>3</td>\n",
       "      <td>550.0</td>\n",
       "    </tr>\n",
       "    <tr>\n",
       "      <td>...</td>\n",
       "      <td>...</td>\n",
       "      <td>...</td>\n",
       "      <td>...</td>\n",
       "      <td>...</td>\n",
       "      <td>...</td>\n",
       "      <td>...</td>\n",
       "      <td>...</td>\n",
       "      <td>...</td>\n",
       "      <td>...</td>\n",
       "      <td>...</td>\n",
       "      <td>...</td>\n",
       "      <td>...</td>\n",
       "      <td>...</td>\n",
       "      <td>...</td>\n",
       "      <td>...</td>\n",
       "      <td>...</td>\n",
       "      <td>...</td>\n",
       "      <td>...</td>\n",
       "      <td>...</td>\n",
       "      <td>...</td>\n",
       "      <td>...</td>\n",
       "    </tr>\n",
       "    <tr>\n",
       "      <td>1793</td>\n",
       "      <td>1286</td>\n",
       "      <td>2018-12-01</td>\n",
       "      <td>95.0</td>\n",
       "      <td>739.0</td>\n",
       "      <td>68.0</td>\n",
       "      <td>35.0</td>\n",
       "      <td>19</td>\n",
       "      <td>NaT</td>\n",
       "      <td>Москва</td>\n",
       "      <td>Рашид</td>\n",
       "      <td>...</td>\n",
       "      <td>2018-11-27</td>\n",
       "      <td>smart</td>\n",
       "      <td>50</td>\n",
       "      <td>15.0</td>\n",
       "      <td>500</td>\n",
       "      <td>550</td>\n",
       "      <td>200</td>\n",
       "      <td>3</td>\n",
       "      <td>3</td>\n",
       "      <td>5321.0</td>\n",
       "    </tr>\n",
       "    <tr>\n",
       "      <td>1622</td>\n",
       "      <td>1261</td>\n",
       "      <td>2018-12-01</td>\n",
       "      <td>141.0</td>\n",
       "      <td>1074.0</td>\n",
       "      <td>22.0</td>\n",
       "      <td>32.0</td>\n",
       "      <td>46</td>\n",
       "      <td>NaT</td>\n",
       "      <td>Казань</td>\n",
       "      <td>Мадина</td>\n",
       "      <td>...</td>\n",
       "      <td>2018-10-30</td>\n",
       "      <td>smart</td>\n",
       "      <td>50</td>\n",
       "      <td>15.0</td>\n",
       "      <td>500</td>\n",
       "      <td>550</td>\n",
       "      <td>200</td>\n",
       "      <td>3</td>\n",
       "      <td>3</td>\n",
       "      <td>5672.0</td>\n",
       "    </tr>\n",
       "    <tr>\n",
       "      <td>3105</td>\n",
       "      <td>1486</td>\n",
       "      <td>2018-11-01</td>\n",
       "      <td>108.0</td>\n",
       "      <td>764.0</td>\n",
       "      <td>96.0</td>\n",
       "      <td>36.0</td>\n",
       "      <td>35</td>\n",
       "      <td>NaT</td>\n",
       "      <td>Нижний Новгород</td>\n",
       "      <td>Матвей</td>\n",
       "      <td>...</td>\n",
       "      <td>2018-10-31</td>\n",
       "      <td>smart</td>\n",
       "      <td>50</td>\n",
       "      <td>15.0</td>\n",
       "      <td>500</td>\n",
       "      <td>550</td>\n",
       "      <td>200</td>\n",
       "      <td>3</td>\n",
       "      <td>3</td>\n",
       "      <td>5680.0</td>\n",
       "    </tr>\n",
       "    <tr>\n",
       "      <td>260</td>\n",
       "      <td>1042</td>\n",
       "      <td>2018-12-01</td>\n",
       "      <td>121.0</td>\n",
       "      <td>728.0</td>\n",
       "      <td>75.0</td>\n",
       "      <td>37.0</td>\n",
       "      <td>42</td>\n",
       "      <td>NaT</td>\n",
       "      <td>Хабаровск</td>\n",
       "      <td>Константин</td>\n",
       "      <td>...</td>\n",
       "      <td>2018-11-25</td>\n",
       "      <td>smart</td>\n",
       "      <td>50</td>\n",
       "      <td>15.0</td>\n",
       "      <td>500</td>\n",
       "      <td>550</td>\n",
       "      <td>200</td>\n",
       "      <td>3</td>\n",
       "      <td>3</td>\n",
       "      <td>5709.0</td>\n",
       "    </tr>\n",
       "    <tr>\n",
       "      <td>3106</td>\n",
       "      <td>1486</td>\n",
       "      <td>2018-12-01</td>\n",
       "      <td>133.0</td>\n",
       "      <td>1007.0</td>\n",
       "      <td>83.0</td>\n",
       "      <td>38.0</td>\n",
       "      <td>35</td>\n",
       "      <td>NaT</td>\n",
       "      <td>Нижний Новгород</td>\n",
       "      <td>Матвей</td>\n",
       "      <td>...</td>\n",
       "      <td>2018-10-31</td>\n",
       "      <td>smart</td>\n",
       "      <td>50</td>\n",
       "      <td>15.0</td>\n",
       "      <td>500</td>\n",
       "      <td>550</td>\n",
       "      <td>200</td>\n",
       "      <td>3</td>\n",
       "      <td>3</td>\n",
       "      <td>6770.0</td>\n",
       "    </tr>\n",
       "  </tbody>\n",
       "</table>\n",
       "<p>3214 rows × 21 columns</p>\n",
       "</div>"
      ],
      "text/plain": [
       "      user_id      month  total_calls_in_month  calls_duration_in_month  \\\n",
       "2127     1340 2018-01-01                   5.0                     25.0   \n",
       "2982     1468 2018-11-01                  36.0                    276.0   \n",
       "2318     1373 2018-01-01                   2.0                      0.0   \n",
       "829      1134 2018-02-01                  59.0                    458.0   \n",
       "1721     1275 2018-12-01                  61.0                    364.0   \n",
       "...       ...        ...                   ...                      ...   \n",
       "1793     1286 2018-12-01                  95.0                    739.0   \n",
       "1622     1261 2018-12-01                 141.0                   1074.0   \n",
       "3105     1486 2018-11-01                 108.0                    764.0   \n",
       "260      1042 2018-12-01                 121.0                    728.0   \n",
       "3106     1486 2018-12-01                 133.0                   1007.0   \n",
       "\n",
       "      total_messages_in_month  total_gb_in_month  age churn_date  \\\n",
       "2127                      0.0                3.0   50        NaT   \n",
       "2982                     13.0               13.0   29        NaT   \n",
       "2318                     28.0                9.0   34        NaT   \n",
       "829                      47.0               13.0   65        NaT   \n",
       "1721                     17.0               15.0   48        NaT   \n",
       "...                       ...                ...  ...        ...   \n",
       "1793                     68.0               35.0   19        NaT   \n",
       "1622                     22.0               32.0   46        NaT   \n",
       "3105                     96.0               36.0   35        NaT   \n",
       "260                      75.0               37.0   42        NaT   \n",
       "3106                     83.0               38.0   35        NaT   \n",
       "\n",
       "                 city  first_name  ...   reg_date tariff messages_included  \\\n",
       "2127            Пенза     Тимофей  ... 2018-01-30  smart                50   \n",
       "2982           Тамбов        Иван  ... 2018-02-11  smart                50   \n",
       "2318         Улан-Удэ       Нелли  ... 2018-01-17  smart                50   \n",
       "829        Красноярск     Марьяна  ... 2018-01-16  smart                50   \n",
       "1721           Москва       Семён  ... 2018-04-24  smart                50   \n",
       "...               ...         ...  ...        ...    ...               ...   \n",
       "1793           Москва       Рашид  ... 2018-11-27  smart                50   \n",
       "1622           Казань      Мадина  ... 2018-10-30  smart                50   \n",
       "3105  Нижний Новгород      Матвей  ... 2018-10-31  smart                50   \n",
       "260         Хабаровск  Константин  ... 2018-11-25  smart                50   \n",
       "3106  Нижний Новгород      Матвей  ... 2018-10-31  smart                50   \n",
       "\n",
       "      gb_per_month_included  minutes_included  rub_monthly_fee  rub_per_gb  \\\n",
       "2127                   15.0               500              550         200   \n",
       "2982                   15.0               500              550         200   \n",
       "2318                   15.0               500              550         200   \n",
       "829                    15.0               500              550         200   \n",
       "1721                   15.0               500              550         200   \n",
       "...                     ...               ...              ...         ...   \n",
       "1793                   15.0               500              550         200   \n",
       "1622                   15.0               500              550         200   \n",
       "3105                   15.0               500              550         200   \n",
       "260                    15.0               500              550         200   \n",
       "3106                   15.0               500              550         200   \n",
       "\n",
       "      rub_per_message  rub_per_minute  revenue  \n",
       "2127                3               3    550.0  \n",
       "2982                3               3    550.0  \n",
       "2318                3               3    550.0  \n",
       "829                 3               3    550.0  \n",
       "1721                3               3    550.0  \n",
       "...               ...             ...      ...  \n",
       "1793                3               3   5321.0  \n",
       "1622                3               3   5672.0  \n",
       "3105                3               3   5680.0  \n",
       "260                 3               3   5709.0  \n",
       "3106                3               3   6770.0  \n",
       "\n",
       "[3214 rows x 21 columns]"
      ]
     },
     "metadata": {},
     "output_type": "display_data"
    }
   ],
   "source": [
    "df['revenue'] = df.apply(revenue, axis=1)\n",
    "display(df.sort_values(by='revenue')) #для наглядности отсортирую таблицу и посмотрю на первые и последние строчки "
   ]
  },
  {
   "cell_type": "markdown",
   "metadata": {},
   "source": [
    "Помесячная выручка с каждого пользователя получена."
   ]
  },
  {
   "cell_type": "markdown",
   "metadata": {},
   "source": [
    "__Вывод:__\n",
    "\n",
    "Были расчитаны следующие показатели:\n",
    "- Количество сделанных звонков и израсходованных минут разговора по месяцам;\n",
    "- Количество отправленных сообщений по месяцам;\n",
    "- Объем израсходованного интернет-трафика по месяцам;\n",
    "\n",
    "\n",
    "- Для подсчёта выручки были объеденены сгруппированные таблицы (по звонкам, сообщениям и интернету), добавлены названия и условия тарифов.\n",
    "- Расчитана помесячная выручка с каждого пользователя."
   ]
  },
  {
   "cell_type": "markdown",
   "metadata": {},
   "source": [
    "## Анализ данных"
   ]
  },
  {
   "cell_type": "markdown",
   "metadata": {},
   "source": [
    "Опишите поведение клиентов оператора, исходя из выборки:\n",
    "- Сколько минут разговора, сколько сообщений и какой объём интернет-трафика требуется пользователям каждого тарифа в месяц? \n",
    "- Посчитайте среднее количество, дисперсию и стандартное отклонение. \n",
    "- Постройте гистограммы. \n",
    "- Опишите распределения."
   ]
  },
  {
   "cell_type": "markdown",
   "metadata": {},
   "source": [
    "Проанализирую выручку по тарифам.\n",
    "\n",
    "Для визуальной оценки разброса значений построю диаграмму размаха, оценю числовые характеристики. Чтобы визуально оценить как часто в наборе данных встречается то или иное значение - построю гистограммы. "
   ]
  },
  {
   "cell_type": "code",
   "execution_count": 37,
   "metadata": {},
   "outputs": [
    {
     "data": {
      "text/plain": [
       "count    3214.000000\n",
       "mean     1529.076229\n",
       "std       798.251091\n",
       "min       550.000000\n",
       "25%       750.000000\n",
       "50%      1653.500000\n",
       "75%      1950.000000\n",
       "max      6770.000000\n",
       "Name: revenue, dtype: float64"
      ]
     },
     "execution_count": 37,
     "metadata": {},
     "output_type": "execute_result"
    }
   ],
   "source": [
    "df['revenue'].describe()"
   ]
  },
  {
   "cell_type": "code",
   "execution_count": 38,
   "metadata": {},
   "outputs": [
    {
     "data": {
      "text/html": [
       "<div>\n",
       "<style scoped>\n",
       "    .dataframe tbody tr th:only-of-type {\n",
       "        vertical-align: middle;\n",
       "    }\n",
       "\n",
       "    .dataframe tbody tr th {\n",
       "        vertical-align: top;\n",
       "    }\n",
       "\n",
       "    .dataframe thead th {\n",
       "        text-align: right;\n",
       "    }\n",
       "</style>\n",
       "<table border=\"1\" class=\"dataframe\">\n",
       "  <thead>\n",
       "    <tr style=\"text-align: right;\">\n",
       "      <th></th>\n",
       "      <th>user_id</th>\n",
       "      <th>month</th>\n",
       "      <th>total_calls_in_month</th>\n",
       "      <th>calls_duration_in_month</th>\n",
       "      <th>total_messages_in_month</th>\n",
       "      <th>total_gb_in_month</th>\n",
       "      <th>age</th>\n",
       "      <th>churn_date</th>\n",
       "      <th>city</th>\n",
       "      <th>first_name</th>\n",
       "      <th>...</th>\n",
       "      <th>reg_date</th>\n",
       "      <th>tariff</th>\n",
       "      <th>messages_included</th>\n",
       "      <th>gb_per_month_included</th>\n",
       "      <th>minutes_included</th>\n",
       "      <th>rub_monthly_fee</th>\n",
       "      <th>rub_per_gb</th>\n",
       "      <th>rub_per_message</th>\n",
       "      <th>rub_per_minute</th>\n",
       "      <th>revenue</th>\n",
       "    </tr>\n",
       "  </thead>\n",
       "  <tbody>\n",
       "    <tr>\n",
       "      <td>0</td>\n",
       "      <td>1000</td>\n",
       "      <td>2018-05-01</td>\n",
       "      <td>22.0</td>\n",
       "      <td>159.0</td>\n",
       "      <td>22.0</td>\n",
       "      <td>3.0</td>\n",
       "      <td>52</td>\n",
       "      <td>NaT</td>\n",
       "      <td>Краснодар</td>\n",
       "      <td>Рафаил</td>\n",
       "      <td>...</td>\n",
       "      <td>2018-05-25</td>\n",
       "      <td>ultra</td>\n",
       "      <td>1000</td>\n",
       "      <td>30.0</td>\n",
       "      <td>3000</td>\n",
       "      <td>1950</td>\n",
       "      <td>150</td>\n",
       "      <td>1</td>\n",
       "      <td>1</td>\n",
       "      <td>1950.0</td>\n",
       "    </tr>\n",
       "    <tr>\n",
       "      <td>1</td>\n",
       "      <td>1000</td>\n",
       "      <td>2018-06-01</td>\n",
       "      <td>43.0</td>\n",
       "      <td>172.0</td>\n",
       "      <td>60.0</td>\n",
       "      <td>23.0</td>\n",
       "      <td>52</td>\n",
       "      <td>NaT</td>\n",
       "      <td>Краснодар</td>\n",
       "      <td>Рафаил</td>\n",
       "      <td>...</td>\n",
       "      <td>2018-05-25</td>\n",
       "      <td>ultra</td>\n",
       "      <td>1000</td>\n",
       "      <td>30.0</td>\n",
       "      <td>3000</td>\n",
       "      <td>1950</td>\n",
       "      <td>150</td>\n",
       "      <td>1</td>\n",
       "      <td>1</td>\n",
       "      <td>1950.0</td>\n",
       "    </tr>\n",
       "    <tr>\n",
       "      <td>2</td>\n",
       "      <td>1000</td>\n",
       "      <td>2018-07-01</td>\n",
       "      <td>47.0</td>\n",
       "      <td>340.0</td>\n",
       "      <td>75.0</td>\n",
       "      <td>14.0</td>\n",
       "      <td>52</td>\n",
       "      <td>NaT</td>\n",
       "      <td>Краснодар</td>\n",
       "      <td>Рафаил</td>\n",
       "      <td>...</td>\n",
       "      <td>2018-05-25</td>\n",
       "      <td>ultra</td>\n",
       "      <td>1000</td>\n",
       "      <td>30.0</td>\n",
       "      <td>3000</td>\n",
       "      <td>1950</td>\n",
       "      <td>150</td>\n",
       "      <td>1</td>\n",
       "      <td>1</td>\n",
       "      <td>1950.0</td>\n",
       "    </tr>\n",
       "    <tr>\n",
       "      <td>3</td>\n",
       "      <td>1000</td>\n",
       "      <td>2018-08-01</td>\n",
       "      <td>52.0</td>\n",
       "      <td>408.0</td>\n",
       "      <td>81.0</td>\n",
       "      <td>14.0</td>\n",
       "      <td>52</td>\n",
       "      <td>NaT</td>\n",
       "      <td>Краснодар</td>\n",
       "      <td>Рафаил</td>\n",
       "      <td>...</td>\n",
       "      <td>2018-05-25</td>\n",
       "      <td>ultra</td>\n",
       "      <td>1000</td>\n",
       "      <td>30.0</td>\n",
       "      <td>3000</td>\n",
       "      <td>1950</td>\n",
       "      <td>150</td>\n",
       "      <td>1</td>\n",
       "      <td>1</td>\n",
       "      <td>1950.0</td>\n",
       "    </tr>\n",
       "    <tr>\n",
       "      <td>4</td>\n",
       "      <td>1000</td>\n",
       "      <td>2018-09-01</td>\n",
       "      <td>58.0</td>\n",
       "      <td>466.0</td>\n",
       "      <td>57.0</td>\n",
       "      <td>15.0</td>\n",
       "      <td>52</td>\n",
       "      <td>NaT</td>\n",
       "      <td>Краснодар</td>\n",
       "      <td>Рафаил</td>\n",
       "      <td>...</td>\n",
       "      <td>2018-05-25</td>\n",
       "      <td>ultra</td>\n",
       "      <td>1000</td>\n",
       "      <td>30.0</td>\n",
       "      <td>3000</td>\n",
       "      <td>1950</td>\n",
       "      <td>150</td>\n",
       "      <td>1</td>\n",
       "      <td>1</td>\n",
       "      <td>1950.0</td>\n",
       "    </tr>\n",
       "    <tr>\n",
       "      <td>...</td>\n",
       "      <td>...</td>\n",
       "      <td>...</td>\n",
       "      <td>...</td>\n",
       "      <td>...</td>\n",
       "      <td>...</td>\n",
       "      <td>...</td>\n",
       "      <td>...</td>\n",
       "      <td>...</td>\n",
       "      <td>...</td>\n",
       "      <td>...</td>\n",
       "      <td>...</td>\n",
       "      <td>...</td>\n",
       "      <td>...</td>\n",
       "      <td>...</td>\n",
       "      <td>...</td>\n",
       "      <td>...</td>\n",
       "      <td>...</td>\n",
       "      <td>...</td>\n",
       "      <td>...</td>\n",
       "      <td>...</td>\n",
       "      <td>...</td>\n",
       "    </tr>\n",
       "    <tr>\n",
       "      <td>3209</td>\n",
       "      <td>1489</td>\n",
       "      <td>2018-09-01</td>\n",
       "      <td>0.0</td>\n",
       "      <td>0.0</td>\n",
       "      <td>32.0</td>\n",
       "      <td>17.0</td>\n",
       "      <td>35</td>\n",
       "      <td>NaT</td>\n",
       "      <td>Санкт-Петербург</td>\n",
       "      <td>Павел</td>\n",
       "      <td>...</td>\n",
       "      <td>2018-08-15</td>\n",
       "      <td>smart</td>\n",
       "      <td>50</td>\n",
       "      <td>15.0</td>\n",
       "      <td>500</td>\n",
       "      <td>550</td>\n",
       "      <td>200</td>\n",
       "      <td>3</td>\n",
       "      <td>3</td>\n",
       "      <td>950.0</td>\n",
       "    </tr>\n",
       "    <tr>\n",
       "      <td>3210</td>\n",
       "      <td>1489</td>\n",
       "      <td>2018-10-01</td>\n",
       "      <td>0.0</td>\n",
       "      <td>0.0</td>\n",
       "      <td>21.0</td>\n",
       "      <td>20.0</td>\n",
       "      <td>35</td>\n",
       "      <td>NaT</td>\n",
       "      <td>Санкт-Петербург</td>\n",
       "      <td>Павел</td>\n",
       "      <td>...</td>\n",
       "      <td>2018-08-15</td>\n",
       "      <td>smart</td>\n",
       "      <td>50</td>\n",
       "      <td>15.0</td>\n",
       "      <td>500</td>\n",
       "      <td>550</td>\n",
       "      <td>200</td>\n",
       "      <td>3</td>\n",
       "      <td>3</td>\n",
       "      <td>1550.0</td>\n",
       "    </tr>\n",
       "    <tr>\n",
       "      <td>3211</td>\n",
       "      <td>1489</td>\n",
       "      <td>2018-11-01</td>\n",
       "      <td>0.0</td>\n",
       "      <td>0.0</td>\n",
       "      <td>20.0</td>\n",
       "      <td>18.0</td>\n",
       "      <td>35</td>\n",
       "      <td>NaT</td>\n",
       "      <td>Санкт-Петербург</td>\n",
       "      <td>Павел</td>\n",
       "      <td>...</td>\n",
       "      <td>2018-08-15</td>\n",
       "      <td>smart</td>\n",
       "      <td>50</td>\n",
       "      <td>15.0</td>\n",
       "      <td>500</td>\n",
       "      <td>550</td>\n",
       "      <td>200</td>\n",
       "      <td>3</td>\n",
       "      <td>3</td>\n",
       "      <td>1150.0</td>\n",
       "    </tr>\n",
       "    <tr>\n",
       "      <td>3212</td>\n",
       "      <td>1489</td>\n",
       "      <td>2018-12-01</td>\n",
       "      <td>0.0</td>\n",
       "      <td>0.0</td>\n",
       "      <td>35.0</td>\n",
       "      <td>17.0</td>\n",
       "      <td>35</td>\n",
       "      <td>NaT</td>\n",
       "      <td>Санкт-Петербург</td>\n",
       "      <td>Павел</td>\n",
       "      <td>...</td>\n",
       "      <td>2018-08-15</td>\n",
       "      <td>smart</td>\n",
       "      <td>50</td>\n",
       "      <td>15.0</td>\n",
       "      <td>500</td>\n",
       "      <td>550</td>\n",
       "      <td>200</td>\n",
       "      <td>3</td>\n",
       "      <td>3</td>\n",
       "      <td>950.0</td>\n",
       "    </tr>\n",
       "    <tr>\n",
       "      <td>3213</td>\n",
       "      <td>1476</td>\n",
       "      <td>2018-04-01</td>\n",
       "      <td>0.0</td>\n",
       "      <td>0.0</td>\n",
       "      <td>0.0</td>\n",
       "      <td>1.0</td>\n",
       "      <td>50</td>\n",
       "      <td>NaT</td>\n",
       "      <td>Москва</td>\n",
       "      <td>Валентина</td>\n",
       "      <td>...</td>\n",
       "      <td>2018-04-30</td>\n",
       "      <td>ultra</td>\n",
       "      <td>1000</td>\n",
       "      <td>30.0</td>\n",
       "      <td>3000</td>\n",
       "      <td>1950</td>\n",
       "      <td>150</td>\n",
       "      <td>1</td>\n",
       "      <td>1</td>\n",
       "      <td>1950.0</td>\n",
       "    </tr>\n",
       "  </tbody>\n",
       "</table>\n",
       "<p>3214 rows × 21 columns</p>\n",
       "</div>"
      ],
      "text/plain": [
       "      user_id      month  total_calls_in_month  calls_duration_in_month  \\\n",
       "0        1000 2018-05-01                  22.0                    159.0   \n",
       "1        1000 2018-06-01                  43.0                    172.0   \n",
       "2        1000 2018-07-01                  47.0                    340.0   \n",
       "3        1000 2018-08-01                  52.0                    408.0   \n",
       "4        1000 2018-09-01                  58.0                    466.0   \n",
       "...       ...        ...                   ...                      ...   \n",
       "3209     1489 2018-09-01                   0.0                      0.0   \n",
       "3210     1489 2018-10-01                   0.0                      0.0   \n",
       "3211     1489 2018-11-01                   0.0                      0.0   \n",
       "3212     1489 2018-12-01                   0.0                      0.0   \n",
       "3213     1476 2018-04-01                   0.0                      0.0   \n",
       "\n",
       "      total_messages_in_month  total_gb_in_month  age churn_date  \\\n",
       "0                        22.0                3.0   52        NaT   \n",
       "1                        60.0               23.0   52        NaT   \n",
       "2                        75.0               14.0   52        NaT   \n",
       "3                        81.0               14.0   52        NaT   \n",
       "4                        57.0               15.0   52        NaT   \n",
       "...                       ...                ...  ...        ...   \n",
       "3209                     32.0               17.0   35        NaT   \n",
       "3210                     21.0               20.0   35        NaT   \n",
       "3211                     20.0               18.0   35        NaT   \n",
       "3212                     35.0               17.0   35        NaT   \n",
       "3213                      0.0                1.0   50        NaT   \n",
       "\n",
       "                 city first_name  ...   reg_date tariff messages_included  \\\n",
       "0           Краснодар     Рафаил  ... 2018-05-25  ultra              1000   \n",
       "1           Краснодар     Рафаил  ... 2018-05-25  ultra              1000   \n",
       "2           Краснодар     Рафаил  ... 2018-05-25  ultra              1000   \n",
       "3           Краснодар     Рафаил  ... 2018-05-25  ultra              1000   \n",
       "4           Краснодар     Рафаил  ... 2018-05-25  ultra              1000   \n",
       "...               ...        ...  ...        ...    ...               ...   \n",
       "3209  Санкт-Петербург      Павел  ... 2018-08-15  smart                50   \n",
       "3210  Санкт-Петербург      Павел  ... 2018-08-15  smart                50   \n",
       "3211  Санкт-Петербург      Павел  ... 2018-08-15  smart                50   \n",
       "3212  Санкт-Петербург      Павел  ... 2018-08-15  smart                50   \n",
       "3213           Москва  Валентина  ... 2018-04-30  ultra              1000   \n",
       "\n",
       "      gb_per_month_included  minutes_included  rub_monthly_fee  rub_per_gb  \\\n",
       "0                      30.0              3000             1950         150   \n",
       "1                      30.0              3000             1950         150   \n",
       "2                      30.0              3000             1950         150   \n",
       "3                      30.0              3000             1950         150   \n",
       "4                      30.0              3000             1950         150   \n",
       "...                     ...               ...              ...         ...   \n",
       "3209                   15.0               500              550         200   \n",
       "3210                   15.0               500              550         200   \n",
       "3211                   15.0               500              550         200   \n",
       "3212                   15.0               500              550         200   \n",
       "3213                   30.0              3000             1950         150   \n",
       "\n",
       "      rub_per_message  rub_per_minute  revenue  \n",
       "0                   1               1   1950.0  \n",
       "1                   1               1   1950.0  \n",
       "2                   1               1   1950.0  \n",
       "3                   1               1   1950.0  \n",
       "4                   1               1   1950.0  \n",
       "...               ...             ...      ...  \n",
       "3209                3               3    950.0  \n",
       "3210                3               3   1550.0  \n",
       "3211                3               3   1150.0  \n",
       "3212                3               3    950.0  \n",
       "3213                1               1   1950.0  \n",
       "\n",
       "[3214 rows x 21 columns]"
      ]
     },
     "execution_count": 38,
     "metadata": {},
     "output_type": "execute_result"
    }
   ],
   "source": [
    "df"
   ]
  },
  {
   "cell_type": "code",
   "execution_count": 39,
   "metadata": {
    "scrolled": false
   },
   "outputs": [
    {
     "data": {
      "text/plain": [
       "Text(0.5, 1.0, 'Диапазон выручки за месяц по тарифам.')"
      ]
     },
     "execution_count": 39,
     "metadata": {},
     "output_type": "execute_result"
    },
    {
     "data": {
      "image/png": "[encoded data removed]",
      "text/plain": [
       "<Figure size 504x504 with 1 Axes>"
      ]
     },
     "metadata": {
      "needs_background": "light"
     },
     "output_type": "display_data"
    }
   ],
   "source": [
    "df.boxplot('revenue', by='tariff', figsize=(7,7)).set_ylim(0,4000)\n",
    "plt.title('Диапазон выручки за месяц по тарифам.')"
   ]
  },
  {
   "cell_type": "markdown",
   "metadata": {},
   "source": [
    "Диаграммы размаха заметно отличаются для тарифов \"Смарт\" и \"Ультра\". Пользователи тарифа \"Смарт\" часто выходят за рамки тарифа. Медианное значение для выручки с тарифа \"Смарт\" порядка 1050 рублей. \n",
    "\n",
    "Диаграмма размаха для тарифа \"Ультра\" выглядит как медиана на уровне 1950 рублей(ежемесяная плата) с выбросами с приблизительно равными интервалами. Т.е. Большинство укладывается в рамки тарифа."
   ]
  },
  {
   "cell_type": "code",
   "execution_count": 40,
   "metadata": {
    "scrolled": false
   },
   "outputs": [
    {
     "data": {
      "text/html": [
       "<style  type=\"text/css\" >\n",
       "</style><table id=\"T_620a176a_8404_11ec_b51a_02420a3969ed\" ><thead>    <tr>        <th class=\"blank level0\" ></th>        <th class=\"col_heading level0 col0\" colspan=6>revenue</th>    </tr>    <tr>        <th class=\"blank level1\" ></th>        <th class=\"col_heading level1 col0\" >median</th>        <th class=\"col_heading level1 col1\" >mean</th>        <th class=\"col_heading level1 col2\" >var</th>        <th class=\"col_heading level1 col3\" >std</th>        <th class=\"col_heading level1 col4\" >count</th>        <th class=\"col_heading level1 col5\" >sum</th>    </tr>    <tr>        <th class=\"index_name level0\" >tariff</th>        <th class=\"blank\" ></th>        <th class=\"blank\" ></th>        <th class=\"blank\" ></th>        <th class=\"blank\" ></th>        <th class=\"blank\" ></th>        <th class=\"blank\" ></th>    </tr></thead><tbody>\n",
       "                <tr>\n",
       "                        <th id=\"T_620a176a_8404_11ec_b51a_02420a3969edlevel0_row0\" class=\"row_heading level0 row0\" >smart</th>\n",
       "                        <td id=\"T_620a176a_8404_11ec_b51a_02420a3969edrow0_col0\" class=\"data row0 col0\" >1023</td>\n",
       "                        <td id=\"T_620a176a_8404_11ec_b51a_02420a3969edrow0_col1\" class=\"data row0 col1\" >1290</td>\n",
       "                        <td id=\"T_620a176a_8404_11ec_b51a_02420a3969edrow0_col2\" class=\"data row0 col2\" >669786</td>\n",
       "                        <td id=\"T_620a176a_8404_11ec_b51a_02420a3969edrow0_col3\" class=\"data row0 col3\" >818</td>\n",
       "                        <td id=\"T_620a176a_8404_11ec_b51a_02420a3969edrow0_col4\" class=\"data row0 col4\" >2229</td>\n",
       "                        <td id=\"T_620a176a_8404_11ec_b51a_02420a3969edrow0_col5\" class=\"data row0 col5\" >2875351</td>\n",
       "            </tr>\n",
       "            <tr>\n",
       "                        <th id=\"T_620a176a_8404_11ec_b51a_02420a3969edlevel0_row1\" class=\"row_heading level0 row1\" >ultra</th>\n",
       "                        <td id=\"T_620a176a_8404_11ec_b51a_02420a3969edrow1_col0\" class=\"data row1 col0\" >1950</td>\n",
       "                        <td id=\"T_620a176a_8404_11ec_b51a_02420a3969edrow1_col1\" class=\"data row1 col1\" >2070</td>\n",
       "                        <td id=\"T_620a176a_8404_11ec_b51a_02420a3969edrow1_col2\" class=\"data row1 col2\" >141517</td>\n",
       "                        <td id=\"T_620a176a_8404_11ec_b51a_02420a3969edrow1_col3\" class=\"data row1 col3\" >376</td>\n",
       "                        <td id=\"T_620a176a_8404_11ec_b51a_02420a3969edrow1_col4\" class=\"data row1 col4\" >985</td>\n",
       "                        <td id=\"T_620a176a_8404_11ec_b51a_02420a3969edrow1_col5\" class=\"data row1 col5\" >2039100</td>\n",
       "            </tr>\n",
       "    </tbody></table>"
      ],
      "text/plain": [
       "<pandas.io.formats.style.Styler at 0x7f83406d1e90>"
      ]
     },
     "execution_count": 40,
     "metadata": {},
     "output_type": "execute_result"
    }
   ],
   "source": [
    "df.groupby('tariff')\\\n",
    "  .agg({'revenue':['median','mean','var','std', 'count', 'sum']})\\\n",
    "  .style.format(\"{:.0f}\")"
   ]
  },
  {
   "cell_type": "markdown",
   "metadata": {},
   "source": [
    "Средние значения выручки для тарифа \"Ультра\" больше, однако СКО значительно ниже чем у тарифа \"Смарт\". Т.е. пользователи тарифа \"Смарт\" чаще выходят за пределы тарифа и докупают дополнительный трафик/смс/минуты."
   ]
  },
  {
   "cell_type": "code",
   "execution_count": 41,
   "metadata": {
    "scrolled": true
   },
   "outputs": [],
   "source": [
    "#Построю гистгораммы распределния выручки по тарифам\n",
    "#plt.figure(figsize=(12,8))\n",
    "#plt.subplot(2,2,1)\n",
    "#df[df['tariff'] == 'smart']['revenue'].plot(kind='hist', bins=20)\n",
    "#plt.title('Тариф \"Смарт\". Выручка за месяц')\n",
    "#plt.subplot(2,2,2)\n",
    "#df[df['tariff'] == 'ultra']['revenue'].plot(kind='hist', bins=20)\n",
    "#plt.title('Тариф \"Ультра\". Выручка за месяц')\n",
    "#plt.show()"
   ]
  },
  {
   "cell_type": "code",
   "execution_count": 42,
   "metadata": {
    "scrolled": false
   },
   "outputs": [
    {
     "data": {
      "text/plain": [
       "Text(0.5, 1.0, 'Выручка за месяц по тарифам')"
      ]
     },
     "execution_count": 42,
     "metadata": {},
     "output_type": "execute_result"
    },
    {
     "data": {
      "image/png": "[encoded data removed]",
      "text/plain": [
       "<Figure size 720x360 with 1 Axes>"
      ]
     },
     "metadata": {
      "needs_background": "light"
     },
     "output_type": "display_data"
    }
   ],
   "source": [
    "#Построю гистгорамму распределния выручки для обоих тарифов на одном графике\n",
    "plt.figure(figsize=(10,5))\n",
    "df[df['tariff'] == 'smart']['revenue'].plot(kind='hist', bins=20, label = 'smart')\n",
    "df[df['tariff'] == 'ultra']['revenue'].plot(kind='hist', bins=20, alpha=0.7, label = 'ultra')\n",
    "plt.legend()\n",
    "plt.title('Выручка за месяц по тарифам')\n"
   ]
  },
  {
   "cell_type": "markdown",
   "metadata": {},
   "source": [
    "По гистограммам хорошо видно, что выручка за месяц по тарифу \"Смарт\" с одного пользователя часто привышает стоимость тарифа, а для тарифа \"Ультра\" редко привышает стоимость тарифа.\n"
   ]
  },
  {
   "cell_type": "markdown",
   "metadata": {},
   "source": [
    "Гистаграммы выручки за месяц далеки от нормлаьного распределения (как и большинство реальных бизнес-метрик). Могу для дополнительной оценки использовать график Q-Q plot, чтобы оценить степень отклонения данных от теоретического распределения."
   ]
  },
  {
   "cell_type": "code",
   "execution_count": 43,
   "metadata": {},
   "outputs": [
    {
     "data": {
      "image/png": "[encoded data removed]",
      "text/plain": [
       "<Figure size 864x576 with 2 Axes>"
      ]
     },
     "metadata": {
      "needs_background": "light"
     },
     "output_type": "display_data"
    }
   ],
   "source": [
    "#Строю графики Q-Q plot для выручки\n",
    "plt.figure(figsize=(12,8))\n",
    "plt.subplot(2,2,1)\n",
    "st.probplot(df[df['tariff'] == 'smart']['total_messages_in_month'], dist=\"norm\", plot=plt)\n",
    "plt.title('Тариф \"Смарт\". Распределение выручки')\n",
    "plt.subplot(2,2,2)\n",
    "st.probplot(df[df['tariff'] == 'ultra']['total_messages_in_month'], dist=\"norm\", plot=plt)\n",
    "plt.title('Тариф \"Ультра\". Распределение выручки')\n",
    "plt.show()"
   ]
  },
  {
   "cell_type": "markdown",
   "metadata": {},
   "source": [
    "По графикам видно, что начиная от 0 значения выборки стремятся к нормлаьному распределению.\n"
   ]
  },
  {
   "cell_type": "markdown",
   "metadata": {},
   "source": [
    "\n",
    "Изучив выручку за месяц по обоим тарифам, можно сделать вывод, что пользователи тарифа \"Смарт\" привыкли платить сверх тарифа, пользователи тарифа \"Ультра\" редко выходят за пределы тарифа. Средняя выручка с пользователя \"Смарт\" составляет 1233 руб., с \"Ультра\" - 2061 руб. Количество пользователей тарифа \"Смарт\" привышает количество пользоватлей \"Ультра\" более чем в два раза, поэтому в общем объеме выручка с тарифа \"Смарт\" выше  чем с тарифа \"Ультра\"."
   ]
  },
  {
   "cell_type": "markdown",
   "metadata": {},
   "source": [
    "Теперь проанализирую сколько минут разговора, сколько сообщений и какой объём интернет-трафика требуется пользователям каждого тарифа в месяц. Так же посчитаю среднее количество, дисперсию и стандартное отклонение."
   ]
  },
  {
   "cell_type": "code",
   "execution_count": 44,
   "metadata": {},
   "outputs": [
    {
     "data": {
      "text/html": [
       "<style  type=\"text/css\" >\n",
       "</style><table id=\"T_62beb094_8404_11ec_b51a_02420a3969ed\" ><thead>    <tr>        <th class=\"blank level0\" ></th>        <th class=\"col_heading level0 col0\" colspan=4>calls_duration_in_month</th>    </tr>    <tr>        <th class=\"blank level1\" ></th>        <th class=\"col_heading level1 col0\" >median</th>        <th class=\"col_heading level1 col1\" >mean</th>        <th class=\"col_heading level1 col2\" >var</th>        <th class=\"col_heading level1 col3\" >std</th>    </tr>    <tr>        <th class=\"index_name level0\" >tariff</th>        <th class=\"blank\" ></th>        <th class=\"blank\" ></th>        <th class=\"blank\" ></th>        <th class=\"blank\" ></th>    </tr></thead><tbody>\n",
       "                <tr>\n",
       "                        <th id=\"T_62beb094_8404_11ec_b51a_02420a3969edlevel0_row0\" class=\"row_heading level0 row0\" >smart</th>\n",
       "                        <td id=\"T_62beb094_8404_11ec_b51a_02420a3969edrow0_col0\" class=\"data row0 col0\" >422</td>\n",
       "                        <td id=\"T_62beb094_8404_11ec_b51a_02420a3969edrow0_col1\" class=\"data row0 col1\" >418</td>\n",
       "                        <td id=\"T_62beb094_8404_11ec_b51a_02420a3969edrow0_col2\" class=\"data row0 col2\" >36219</td>\n",
       "                        <td id=\"T_62beb094_8404_11ec_b51a_02420a3969edrow0_col3\" class=\"data row0 col3\" >190</td>\n",
       "            </tr>\n",
       "            <tr>\n",
       "                        <th id=\"T_62beb094_8404_11ec_b51a_02420a3969edlevel0_row1\" class=\"row_heading level0 row1\" >ultra</th>\n",
       "                        <td id=\"T_62beb094_8404_11ec_b51a_02420a3969edrow1_col0\" class=\"data row1 col0\" >518</td>\n",
       "                        <td id=\"T_62beb094_8404_11ec_b51a_02420a3969edrow1_col1\" class=\"data row1 col1\" >527</td>\n",
       "                        <td id=\"T_62beb094_8404_11ec_b51a_02420a3969edrow1_col2\" class=\"data row1 col2\" >100874</td>\n",
       "                        <td id=\"T_62beb094_8404_11ec_b51a_02420a3969edrow1_col3\" class=\"data row1 col3\" >318</td>\n",
       "            </tr>\n",
       "    </tbody></table>"
      ],
      "text/plain": [
       "<pandas.io.formats.style.Styler at 0x7f83abf72590>"
      ]
     },
     "execution_count": 44,
     "metadata": {},
     "output_type": "execute_result"
    }
   ],
   "source": [
    "#Оценю числовые характеристики по продолжительности звонков\n",
    "df.groupby('tariff')\\\n",
    "  .agg({'calls_duration_in_month':['median','mean','var','std']})\\\n",
    "  .style.format(\"{:.0f}\")"
   ]
  },
  {
   "cell_type": "code",
   "execution_count": 45,
   "metadata": {
    "scrolled": true
   },
   "outputs": [],
   "source": [
    "#Строю гистограммы для продолжительности звонков\n",
    "#plt.figure(figsize=(12,8))\n",
    "#plt.subplot(2,2,1)\n",
    "#df[df['tariff'] == 'smart']['calls_duration_in_month'].plot(kind='hist', bins=10)\n",
    "#plt.title('Тариф \"Смарт\". Звонки в минутах в месяц')\n",
    "#plt.subplot(2,2,2)\n",
    "#df[df['tariff'] == 'ultra']['calls_duration_in_month'].plot(kind='hist', bins=10)\n",
    "#plt.title('Тариф \"Ультра\". Звонки в минутах в месяц')\n",
    "#plt.show()"
   ]
  },
  {
   "cell_type": "code",
   "execution_count": 46,
   "metadata": {},
   "outputs": [
    {
     "data": {
      "text/plain": [
       "Text(0.5, 1.0, 'Звонки в минутах в месяц по тарифам')"
      ]
     },
     "execution_count": 46,
     "metadata": {},
     "output_type": "execute_result"
    },
    {
     "data": {
      "image/png": "[encoded data removed]",
      "text/plain": [
       "<Figure size 720x360 with 1 Axes>"
      ]
     },
     "metadata": {
      "needs_background": "light"
     },
     "output_type": "display_data"
    }
   ],
   "source": [
    "#Построю гистгорамму распределния продолжительности звонков для обоих тарифов на одном графике\n",
    "plt.figure(figsize=(10,5))\n",
    "df[df['tariff'] == 'smart']['calls_duration_in_month'].plot(kind='hist', bins=30, label = 'smart')\n",
    "df[df['tariff'] == 'ultra']['calls_duration_in_month'].plot(kind='hist', bins=30, alpha=0.7, label = 'ultra')\n",
    "plt.legend()\n",
    "plt.title('Звонки в минутах в месяц по тарифам')\n"
   ]
  },
  {
   "cell_type": "code",
   "execution_count": 47,
   "metadata": {},
   "outputs": [
    {
     "data": {
      "image/png": "[encoded data removed]",
      "text/plain": [
       "<Figure size 864x576 with 2 Axes>"
      ]
     },
     "metadata": {
      "needs_background": "light"
     },
     "output_type": "display_data"
    }
   ],
   "source": [
    "#Строю графики Q-Q plot для продолжительности звонков\n",
    "plt.figure(figsize=(12,8))\n",
    "plt.subplot(2,2,1)\n",
    "st.probplot(df[df['tariff'] == 'smart']['total_messages_in_month'], dist=\"norm\", plot=plt)\n",
    "plt.title('Тариф \"Смарт\". Распределение звонков')\n",
    "plt.subplot(2,2,2)\n",
    "st.probplot(df[df['tariff'] == 'ultra']['total_messages_in_month'], dist=\"norm\", plot=plt)\n",
    "plt.title('Тариф \"Ультра\". Распределение звонков')\n",
    "plt.show()"
   ]
  },
  {
   "cell_type": "markdown",
   "metadata": {},
   "source": [
    "\n",
    "Пользователи тарифов отличаются по количеству использованных минут разговора за месяц: \n",
    "- Пользователи тарифа \"Смарт\" в среднем тратят около 420 минут (т.е. обычно не выходят за пределы тарифа(500 мин)), но есть и те, кому тарифного времени не хватает. \n",
    "- Пользователи тарифа \"Ультра\" тратят больше, в среднем около 530 минут. Никто из пользователей тарифа \"Ультра\" не израсходовал лимит в 3000 минут.\n",
    "\n",
    "Пользователи тарифа \"Ультра\" разговаривают по телефону больше, СКО для этого тарифа выше чем для тарифа \"Смарт\"- т.е. больше людей, кто тратит минут больше среднего."
   ]
  },
  {
   "cell_type": "code",
   "execution_count": 48,
   "metadata": {},
   "outputs": [
    {
     "data": {
      "text/html": [
       "<style  type=\"text/css\" >\n",
       "</style><table id=\"T_63818560_8404_11ec_b51a_02420a3969ed\" ><thead>    <tr>        <th class=\"blank level0\" ></th>        <th class=\"col_heading level0 col0\" colspan=4>total_messages_in_month</th>    </tr>    <tr>        <th class=\"blank level1\" ></th>        <th class=\"col_heading level1 col0\" >median</th>        <th class=\"col_heading level1 col1\" >mean</th>        <th class=\"col_heading level1 col2\" >var</th>        <th class=\"col_heading level1 col3\" >std</th>    </tr>    <tr>        <th class=\"index_name level0\" >tariff</th>        <th class=\"blank\" ></th>        <th class=\"blank\" ></th>        <th class=\"blank\" ></th>        <th class=\"blank\" ></th>    </tr></thead><tbody>\n",
       "                <tr>\n",
       "                        <th id=\"T_63818560_8404_11ec_b51a_02420a3969edlevel0_row0\" class=\"row_heading level0 row0\" >smart</th>\n",
       "                        <td id=\"T_63818560_8404_11ec_b51a_02420a3969edrow0_col0\" class=\"data row0 col0\" >28</td>\n",
       "                        <td id=\"T_63818560_8404_11ec_b51a_02420a3969edrow0_col1\" class=\"data row0 col1\" >33</td>\n",
       "                        <td id=\"T_63818560_8404_11ec_b51a_02420a3969edrow0_col2\" class=\"data row0 col2\" >797</td>\n",
       "                        <td id=\"T_63818560_8404_11ec_b51a_02420a3969edrow0_col3\" class=\"data row0 col3\" >28</td>\n",
       "            </tr>\n",
       "            <tr>\n",
       "                        <th id=\"T_63818560_8404_11ec_b51a_02420a3969edlevel0_row1\" class=\"row_heading level0 row1\" >ultra</th>\n",
       "                        <td id=\"T_63818560_8404_11ec_b51a_02420a3969edrow1_col0\" class=\"data row1 col0\" >38</td>\n",
       "                        <td id=\"T_63818560_8404_11ec_b51a_02420a3969edrow1_col1\" class=\"data row1 col1\" >49</td>\n",
       "                        <td id=\"T_63818560_8404_11ec_b51a_02420a3969edrow1_col2\" class=\"data row1 col2\" >2285</td>\n",
       "                        <td id=\"T_63818560_8404_11ec_b51a_02420a3969edrow1_col3\" class=\"data row1 col3\" >48</td>\n",
       "            </tr>\n",
       "    </tbody></table>"
      ],
      "text/plain": [
       "<pandas.io.formats.style.Styler at 0x7f83abe81b90>"
      ]
     },
     "execution_count": 48,
     "metadata": {},
     "output_type": "execute_result"
    }
   ],
   "source": [
    "#Оценю числовые характеристики по колличеству смс\n",
    "df.groupby('tariff')\\\n",
    "  .agg({'total_messages_in_month':['median','mean','var','std']})\\\n",
    "  .style.format(\"{:.0f}\")"
   ]
  },
  {
   "cell_type": "code",
   "execution_count": 49,
   "metadata": {
    "scrolled": false
   },
   "outputs": [],
   "source": [
    "#Строю гистограммы для колличества смс\n",
    "#plt.figure(figsize=(12,8))\n",
    "#plt.subplot(2,2,1)\n",
    "#df[df['tariff'] == 'smart']['total_messages_in_month'].plot(kind='hist', bins=10)\n",
    "#plt.title('Тариф \"Смарт\". Количество смс в месяц')\n",
    "#plt.subplot(2,2,2)\n",
    "#df[df['tariff'] == 'ultra']['total_messages_in_month'].plot(kind='hist', bins=10)\n",
    "#plt.title('Тариф \"Ультра\". Количество смс в месяц')\n",
    "#plt.show()"
   ]
  },
  {
   "cell_type": "code",
   "execution_count": 50,
   "metadata": {
    "scrolled": false
   },
   "outputs": [
    {
     "data": {
      "text/plain": [
       "Text(0.5, 1.0, 'Колличество смс в месяц по тарифам')"
      ]
     },
     "execution_count": 50,
     "metadata": {},
     "output_type": "execute_result"
    },
    {
     "data": {
      "image/png": "[encoded data removed]",
      "text/plain": [
       "<Figure size 720x360 with 1 Axes>"
      ]
     },
     "metadata": {
      "needs_background": "light"
     },
     "output_type": "display_data"
    }
   ],
   "source": [
    "#Построю гистгорамму распределния колличества смс для обоих тарифов на одном графике\n",
    "plt.figure(figsize=(10,5))\n",
    "df[df['tariff'] == 'smart']['total_messages_in_month'].plot(kind='hist', bins=30, label = 'smart')\n",
    "df[df['tariff'] == 'ultra']['total_messages_in_month'].plot(kind='hist', bins=30, alpha=0.7, label = 'ultra')\n",
    "plt.legend()\n",
    "plt.title('Колличество смс в месяц по тарифам')"
   ]
  },
  {
   "cell_type": "code",
   "execution_count": 51,
   "metadata": {},
   "outputs": [
    {
     "data": {
      "image/png": "[encoded data removed]",
      "text/plain": [
       "<Figure size 864x576 with 2 Axes>"
      ]
     },
     "metadata": {
      "needs_background": "light"
     },
     "output_type": "display_data"
    }
   ],
   "source": [
    "#Строю графики Q-Q plot для колличества смс\n",
    "plt.figure(figsize=(12,8))\n",
    "plt.subplot(2,2,1)\n",
    "st.probplot(df[df['tariff'] == 'smart']['total_messages_in_month'], dist=\"norm\", plot=plt)\n",
    "plt.title('Тариф \"Смарт\". Распределение количества смс')\n",
    "plt.subplot(2,2,2)\n",
    "st.probplot(df[df['tariff'] == 'ultra']['total_messages_in_month'], dist=\"norm\", plot=plt)\n",
    "plt.title('Тариф \"Ультра\". Распределение количества смс')\n",
    "plt.show()"
   ]
  },
  {
   "cell_type": "markdown",
   "metadata": {},
   "source": [
    "\n",
    "\n",
    "Для обоих тарифов количество потраченных смс нечасто достигает 50. Т.е. в основной массе люди редко пишут смс. Небольшая часть пользователи тарифа \"Смарт\" выходит за предел тарифа по смс, пользователи тарифа \"Ультра\" - никогда, но все же тратят сообщений больше, чем пользователи \"Смарт\"."
   ]
  },
  {
   "cell_type": "code",
   "execution_count": 52,
   "metadata": {
    "scrolled": true
   },
   "outputs": [
    {
     "data": {
      "text/html": [
       "<style  type=\"text/css\" >\n",
       "</style><table id=\"T_64409aea_8404_11ec_b51a_02420a3969ed\" ><thead>    <tr>        <th class=\"blank level0\" ></th>        <th class=\"col_heading level0 col0\" colspan=4>total_gb_in_month</th>    </tr>    <tr>        <th class=\"blank level1\" ></th>        <th class=\"col_heading level1 col0\" >median</th>        <th class=\"col_heading level1 col1\" >mean</th>        <th class=\"col_heading level1 col2\" >var</th>        <th class=\"col_heading level1 col3\" >std</th>    </tr>    <tr>        <th class=\"index_name level0\" >tariff</th>        <th class=\"blank\" ></th>        <th class=\"blank\" ></th>        <th class=\"blank\" ></th>        <th class=\"blank\" ></th>    </tr></thead><tbody>\n",
       "                <tr>\n",
       "                        <th id=\"T_64409aea_8404_11ec_b51a_02420a3969edlevel0_row0\" class=\"row_heading level0 row0\" >smart</th>\n",
       "                        <td id=\"T_64409aea_8404_11ec_b51a_02420a3969edrow0_col0\" class=\"data row0 col0\" >17</td>\n",
       "                        <td id=\"T_64409aea_8404_11ec_b51a_02420a3969edrow0_col1\" class=\"data row0 col1\" >16</td>\n",
       "                        <td id=\"T_64409aea_8404_11ec_b51a_02420a3969edrow0_col2\" class=\"data row0 col2\" >33</td>\n",
       "                        <td id=\"T_64409aea_8404_11ec_b51a_02420a3969edrow0_col3\" class=\"data row0 col3\" >6</td>\n",
       "            </tr>\n",
       "            <tr>\n",
       "                        <th id=\"T_64409aea_8404_11ec_b51a_02420a3969edlevel0_row1\" class=\"row_heading level0 row1\" >ultra</th>\n",
       "                        <td id=\"T_64409aea_8404_11ec_b51a_02420a3969edrow1_col0\" class=\"data row1 col0\" >19</td>\n",
       "                        <td id=\"T_64409aea_8404_11ec_b51a_02420a3969edrow1_col1\" class=\"data row1 col1\" >19</td>\n",
       "                        <td id=\"T_64409aea_8404_11ec_b51a_02420a3969edrow1_col2\" class=\"data row1 col2\" >97</td>\n",
       "                        <td id=\"T_64409aea_8404_11ec_b51a_02420a3969edrow1_col3\" class=\"data row1 col3\" >10</td>\n",
       "            </tr>\n",
       "    </tbody></table>"
      ],
      "text/plain": [
       "<pandas.io.formats.style.Styler at 0x7f83abbced10>"
      ]
     },
     "execution_count": 52,
     "metadata": {},
     "output_type": "execute_result"
    }
   ],
   "source": [
    "#Оценю числовые характеристики по интернет-трафику\n",
    "df.groupby('tariff')\\\n",
    "  .agg({'total_gb_in_month' :['median','mean','var','std']})\\\n",
    "  .style.format(\"{:.0f}\")"
   ]
  },
  {
   "cell_type": "code",
   "execution_count": 53,
   "metadata": {
    "scrolled": true
   },
   "outputs": [],
   "source": [
    "#Строю гистограммы для интернет-трафика\n",
    "#plt.figure(figsize=(12,8))\n",
    "#plt.subplot(2,2,1)\n",
    "#df[df['tariff'] == 'smart']['total_gb_in_month'].plot(kind='hist', bins=10)\n",
    "#plt.title('Тариф \"Смарт\". Кол-во потраченного интернет-трафика')\n",
    "#plt.subplot(2,2,2)\n",
    "#df[df['tariff'] == 'ultra']['total_gb_in_month'].plot(kind='hist', bins=10)\n",
    "#plt.title('Тариф \"Ультра\". Кол-во потраченного интернет-трафика')\n",
    "#plt.show()"
   ]
  },
  {
   "cell_type": "code",
   "execution_count": 54,
   "metadata": {
    "scrolled": true
   },
   "outputs": [
    {
     "data": {
      "text/plain": [
       "Text(0.5, 1.0, 'Кол-во потраченного интернет-трафика по тарифам')"
      ]
     },
     "execution_count": 54,
     "metadata": {},
     "output_type": "execute_result"
    },
    {
     "data": {
      "image/png": "[encoded data removed]",
      "text/plain": [
       "<Figure size 720x360 with 1 Axes>"
      ]
     },
     "metadata": {
      "needs_background": "light"
     },
     "output_type": "display_data"
    }
   ],
   "source": [
    "#Построю гистгорамму распределния колличества потраченного интернет-трафика для обоих тарифов на одном графике\n",
    "plt.figure(figsize=(10,5))\n",
    "df[df['tariff'] == 'smart']['total_gb_in_month'].plot(kind='hist', bins=30, label = 'smart')\n",
    "df[df['tariff'] == 'ultra']['total_gb_in_month'].plot(kind='hist', bins=30, alpha=0.7, label = 'ultra')\n",
    "plt.legend()\n",
    "plt.title('Кол-во потраченного интернет-трафика по тарифам')"
   ]
  },
  {
   "cell_type": "code",
   "execution_count": 55,
   "metadata": {
    "scrolled": false
   },
   "outputs": [
    {
     "data": {
      "image/png": "[encoded data removed]",
      "text/plain": [
       "<Figure size 864x576 with 2 Axes>"
      ]
     },
     "metadata": {
      "needs_background": "light"
     },
     "output_type": "display_data"
    }
   ],
   "source": [
    "#Строю графики Q-Q plot для интернет-трафика\n",
    "plt.figure(figsize=(12,8))\n",
    "plt.subplot(2,2,1)\n",
    "st.probplot(df[df['tariff'] == 'smart']['total_gb_in_month'], dist=\"norm\", plot=plt)\n",
    "plt.title('Тариф \"Смарт\". Распределение потраченного интернета')\n",
    "plt.subplot(2,2,2)\n",
    "st.probplot(df[df['tariff'] == 'ultra']['total_gb_in_month'], dist=\"norm\", plot=plt)\n",
    "plt.title('Тариф \"Ультра\". Распределение потраченного интернета')\n",
    "plt.show()"
   ]
  },
  {
   "cell_type": "markdown",
   "metadata": {},
   "source": [
    "\n",
    "\n",
    "- Пользователи тарифа \"Смарт\" в среднем тратят 16гб интернета, т.е. выходят за пределы тарифа (тарифом предусмотрено 15 гб). \n",
    "- Пользователи тарифа \"Ультра\" в среднем тратят 19гб интернета, но есть часть людей, кто тратит больше 30гб и выходит за пределы тарифа.\n",
    "\n",
    "Распределение выборки интернет-трафика тарифа \"Смарт\" больше всего похоже на нормальное. В выборке есть люди, кто почти не пользуется интернетом и те, кто пользуется много. \n"
   ]
  },
  {
   "cell_type": "markdown",
   "metadata": {},
   "source": [
    "__Вывод:__\n",
    "\n",
    "* Изучив выручку за месяц по обоим тарифам, можно сделать вывод, что пользователи тарифа \"Смарт\" привыкли платить сверх тарифа, пользователи тарифа \"Ультра\" редко выходят за пределы тарифа. Средняя выручка с пользователя \"Смарт\" составляет 1233 руб., с \"Ультра\" - 2061 руб. Количество пользователей тарифа \"Смарт\" привышает количество пользоватлей \"Ультра\" более чем в два раза, поэтому в общем объеме выручка с тарифа \"Смарт\" выше  чем с тарифа \"Ультра\".\n",
    "\n",
    "\n",
    "* Пользователи тарифа \"Ультра\" разговаривают по телефону больше, среди них также больше людей, кто тратит минут больше среднего.\n",
    "\n",
    "  - Пользователи тарифа \"Смарт\" в среднем тратят около 420 минут (т.е. обычно не выходят за пределы тарифа(500 мин)), но есть и те, кому тарифного времени не хватает. \n",
    "  - Пользователи тарифа \"Ультра\" тратят больше, в среднем около 530 минут. Никто из пользователей тарифа \"Ультра\" не израсходовал лимит в 3000 минут.\n",
    "\n",
    "\n",
    "* Для обоих тарифов количество потраченных смс нечасто достигает 50. Т.е. в основной массе люди редко пишут смс. Небольшая часть пользователи тарифа \"Смарт\" выходит за предел тарифа по смс, пользователи тарифа \"Ультра\" - никогда, но все же тратят сообщений больше, чем пользователи \"Смарт\".\n",
    "\n",
    "\n",
    "* Пользователи тарифа \"Смарт\" в среднем тратят 16гб интернета, т.е. выходят за пределы тарифа (тарифом предусмотрено 15 гб). Пользователи тарифа \"Ультра\" в среднем тратят 19гб интернета, но есть часть людей, кто тратит больше 30гб и выходит за пределы тарифа.\n"
   ]
  },
  {
   "cell_type": "markdown",
   "metadata": {},
   "source": [
    "## Статистический анализ. Проверка гипотез"
   ]
  },
  {
   "cell_type": "markdown",
   "metadata": {},
   "source": [
    "Проверю следующие гипотезы:\n",
    "- средняя выручка пользователей тарифов «Ультра» и «Смарт» различаются;\n",
    "- средняя выручка пользователей из Москвы отличается от выручки пользователей из других регионов.\n",
    "\n",
    "Пороговое значение alpha задам самостоятельно."
   ]
  },
  {
   "cell_type": "markdown",
   "metadata": {},
   "source": [
    "Согласно Центральной предельной теореме сумма достаточно большого количества слабо зависимых случайных величин, имеющих примерно одинаковые масштабы имеет распределение, близкое к нормальному. Поэтому для проверки гипотиз могу использовать t-критерий Стьюдента (сравниваемые выборки независимы между собой).\n",
    "\n"
   ]
  },
  {
   "cell_type": "code",
   "execution_count": 56,
   "metadata": {
    "scrolled": true
   },
   "outputs": [],
   "source": [
    "smart = df.query('tariff == \"smart\"') #выборка по тарифу \"Смарт\"\n",
    "ultra = df.query('tariff == \"ultra\"') #выборка по тарифу \"Ультра\"\n",
    "\n",
    "moscow = df.query('city == \"Москва\"') #выборка по Москве\n",
    "another_city = df.query('city != \"Москва\"') #выборка по другим городам\n"
   ]
  },
  {
   "cell_type": "markdown",
   "metadata": {},
   "source": [
    "__Проверка гипотезы: средняя выручка пользователей тарифов «Ультра» и «Смарт» различаются.__"
   ]
  },
  {
   "cell_type": "markdown",
   "metadata": {},
   "source": [
    "Сформулирую нулевую и альтернативную гипотизы:\n",
    "- H0: Средние выручки тарифов «Ультра» и «Смарт» одинаковы\n",
    "- H1: Средние выручки тарифов «Ультра» и «Смарт» различаются\n",
    "\n",
    "Уровень значимости: alpha = 0.05\n",
    "\n",
    "Посчитаю p-value, используя ttest из библиотеки scipy для сравнения средних двух выборок.\n",
    "\n",
    "Если p-value будет меньше выбранного уровня значимости alpha = 0.05, то нулевую гипотезу оравенстве средних отвергну. В противном случае, сделаю вывод, что данные не позволили отвергнуть нулевую гипотезу."
   ]
  },
  {
   "cell_type": "code",
   "execution_count": 57,
   "metadata": {
    "scrolled": true
   },
   "outputs": [
    {
     "name": "stdout",
     "output_type": "stream",
     "text": [
      "p-значение: 4.2606313931076085e-250\n",
      "Отвергаем нулевую гипотезу\n"
     ]
    }
   ],
   "source": [
    "#Применю ttest к выручкам с тарифов \"Ультра\" и \"Смарт\"\n",
    "alpha = .05\n",
    "\n",
    "results = st.ttest_ind(\n",
    "    smart['revenue'],\n",
    "    ultra['revenue'], equal_var = False) #значение False, т.к. выборки разного размера.\n",
    "\n",
    "print('p-значение:', results.pvalue)\n",
    "\n",
    "if results.pvalue < alpha:\n",
    "    print('Отвергаем нулевую гипотезу')\n",
    "else:\n",
    "    print('Не получилось отвергнуть нулевую гипотезу')"
   ]
  },
  {
   "cell_type": "markdown",
   "metadata": {},
   "source": [
    "__Вывод:__\n",
    "p-value получилось меньше выбранного уровня значимости (alpha = 0.05). Отвергаем нулевую гипотезу. Средние выручки тарифов «Ультра» и «Смарт» различаются.\n"
   ]
  },
  {
   "cell_type": "markdown",
   "metadata": {},
   "source": [
    "__Проверка гипотезы: средняя выручка пользователей из Москвы отличается от выручки пользователей из других регионов.__"
   ]
  },
  {
   "cell_type": "markdown",
   "metadata": {},
   "source": [
    "Сформулирую нулевую и альтернативную гипотизы:\n",
    "- H0: Средние выручки пользователей из Москвы и других регионов одинаковы\n",
    "- H1: Средние выручки пользователей из Москвы и других регионов различаются\n",
    "\n",
    "Уровень значимости: alpha = 0.05\n",
    "\n",
    "Посчитаю p-value, используя ttest из библиотеки scipy для сравнения средних двух выборок.\n",
    "\n",
    "Если p-value будет меньше выбранного уровня значимости alpha = 0.05, то нулевую гипотезу оравенстве средних отвергну. В противном случае, сделаю вывод, что данные не позволили отвергнуть нулевую гипотезу."
   ]
  },
  {
   "cell_type": "code",
   "execution_count": 58,
   "metadata": {},
   "outputs": [
    {
     "name": "stdout",
     "output_type": "stream",
     "text": [
      "p-значение: 0.5257376663729298\n",
      "Не получилось отвергнуть нулевую гипотезу\n"
     ]
    }
   ],
   "source": [
    "#Применю ttest к выручкам пользователей из Москвы и других регионов\n",
    "alpha = .05\n",
    "\n",
    "results = st.ttest_ind(\n",
    "    moscow['revenue'],\n",
    "    another_city['revenue'], equal_var = False) #значение False, т.к. выборки разного размера.\n",
    "\n",
    "print('p-значение:', results.pvalue)\n",
    "\n",
    "if results.pvalue < alpha:\n",
    "    print('Отвергаем нулевую гипотезу')\n",
    "else:\n",
    "    print('Не получилось отвергнуть нулевую гипотезу')"
   ]
  },
  {
   "cell_type": "markdown",
   "metadata": {},
   "source": [
    "__Вывод:__\n",
    "p-value получилось больше выбранного уровня значимости (alpha = 0.05). Не получилось отвергнуть нулевую гипотезу. Средняя выручка пользователей из Москвы и других регионов не различаются при выбраном уровне статистической значимости.\n"
   ]
  },
  {
   "cell_type": "markdown",
   "metadata": {},
   "source": [
    "**Вывод**"
   ]
  },
  {
   "cell_type": "markdown",
   "metadata": {},
   "source": [
    "Был проведен статистический анализ показателей выручки.  \n",
    "\n",
    "С помощью t-критерия Стьюдента были проверены гипотезы: \n",
    "- Средняя выручка пользователей тарифов «Ультра» и «Смарт» различаются;\n",
    "- Средняя выручка пользователей из Москвы отличается от выручки пользователей из других регионов.\n",
    "\n",
    "Статистическая проверка гипотез показала, что:\n",
    "- Средняя выручка пользователей тарифов «Ультра» и «Смарт» различаются;\n",
    "- Средняя выручка пользователей из Москвы и других регионов не различается при выбраном уровне статистической значимости.\n"
   ]
  },
  {
   "cell_type": "markdown",
   "metadata": {},
   "source": [
    "## Общий вывод"
   ]
  },
  {
   "cell_type": "markdown",
   "metadata": {},
   "source": [
    "Данное исследование было подготовлено для коммерческого департамента компании «Мегалайн» — федерального оператора сотовой связи.Чтобы скорректировать рекламный бюджет, коммерческий департамент хочет понять, какой тариф приносит больше денег.\n",
    "\n",
    "- Были проанализированы выручка по тарифам, а так же их основные характеристики (количество используемых минут, смс, интернет-трафика:\n",
    "\n",
    "    1. Пользователи тарифов различаются в своем поведении. Пользователи тарифа \"Ультра\" больше разговаривают по телефону, пишут смс и тратят интернет-трафика.\n",
    "\n",
    "    2. Пользователи тарифа \"Смарт\" привыкли платить сверх тарифа, пользователи тарифа \"Ультра\" редко выходят за его пределы. Средняя выручка с пользователя \"Смарт\" составляет 1233 руб., с \"Ультра\" - 2061 руб. Количество пользователей тарифа \"Смарт\" привышает количество пользоватлей \"Ультра\" более чем в два раза, поэтому в общем объеме выручка с тарифа \"Смарт\" выше чем с тарифа \"Ультра\".\n",
    "\n",
    "    3. Пользователи тарифа \"Ультра\" разговаривают по телефону больше, среди них также больше людей, кто тратит минут больше среднего. Пользователи тарифа \"Смарт\" в среднем тратят около 420 минут (т.е. обычно не выходят за пределы тарифа(500 мин)), но есть и те, кому тарифного времени не хватает. Пользователи тарифа \"Ультра\" тратят больше, в среднем около 530 минут. Никто из пользователей тарифа \"Ультра\" не израсходовал лимит в 3000 минут.\n",
    "\n",
    "    4. Для обоих тарифов количество потраченных смс нечасто достигает 50. Т.е. в основной массе люди редко пишут смс. \n",
    "\n",
    "    5. Пользователи тарифа \"Смарт\" в среднем тратят 16гб интернета, т.е. выходят за пределы тарифа (тарифом предусмотрено 15 гб). Пользователи тарифа \"Ультра\" в среднем тратят 19гб интернета, но есть часть людей, кто тратит больше 30гб и выходит за пределы тарифа.\n",
    "\n",
    "\n",
    "- Статистический анализ показателей выручки показал, что:\n",
    "    1. Средняя выручка пользователей тарифов «Ультра» и «Смарт» различаются;\n",
    "    2. Средняя выручка пользователей из Москвы и других регионов не различается.\n",
    "\n",
    "\n",
    "Тариф \"Ультра\" - это некий безлимит, один раз в месяц заплатил и всегда на связи. Тариф \"Смарт\" на первый взгляд кажется более экономичным, но по факту требует постоянных дополнительных платежей, увеличивающих изначальную цену тарифа более чем в 2 раза. По большей части это происходит из-за нехватки гб интернет-трафика. __Такая постоянная необходимость платить сверх тарифа может привести к оттоку клиентов тарифа \"Смарт\".__\n",
    "\n",
    "Поэтому, целесообразно доработать тарифы, возможно добавить смежный тариф \"Ультра Лайт\" со стоимостью немного выше средней выручки тарифа \"Смарт\" с бОльшим запасом интернет-трафика и минут разговора. Это позволит просегментировать пользователей и повысить их удовлетвореность, при этом увеличив выручку.\n",
    "Так как средняя выручка пользователей из Москвы и других регионов не различается, не требуется дополнительных изменений тарифов для регионов. \n"
   ]
  }
 ],
 "metadata": {
  "ExecuteTimeLog": [
   {
    "duration": 324,
    "start_time": "2022-01-22T19:52:58.249Z"
   },
   {
    "duration": 3693,
    "start_time": "2022-01-22T19:53:04.729Z"
   },
   {
    "duration": 271,
    "start_time": "2022-01-22T19:53:10.324Z"
   },
   {
    "duration": 242,
    "start_time": "2022-01-22T19:53:24.511Z"
   },
   {
    "duration": 187,
    "start_time": "2022-01-22T19:54:06.532Z"
   },
   {
    "duration": 328,
    "start_time": "2022-01-22T19:54:36.580Z"
   },
   {
    "duration": 385,
    "start_time": "2022-01-22T19:54:57.544Z"
   },
   {
    "duration": 242,
    "start_time": "2022-01-22T19:55:16.104Z"
   },
   {
    "duration": 146,
    "start_time": "2022-01-22T19:55:49.876Z"
   },
   {
    "duration": 20,
    "start_time": "2022-01-22T19:56:00.418Z"
   },
   {
    "duration": 198,
    "start_time": "2022-01-22T19:56:35.445Z"
   },
   {
    "duration": 159,
    "start_time": "2022-01-22T19:57:46.811Z"
   },
   {
    "duration": 31,
    "start_time": "2022-01-22T19:58:13.237Z"
   },
   {
    "duration": 43,
    "start_time": "2022-01-22T20:00:08.319Z"
   },
   {
    "duration": 128,
    "start_time": "2022-01-22T20:25:22.584Z"
   },
   {
    "duration": 1327,
    "start_time": "2022-01-22T21:05:30.077Z"
   },
   {
    "duration": 248,
    "start_time": "2022-01-22T21:05:31.406Z"
   },
   {
    "duration": 207,
    "start_time": "2022-01-22T21:05:31.658Z"
   },
   {
    "duration": 143,
    "start_time": "2022-01-22T21:05:31.868Z"
   },
   {
    "duration": 34,
    "start_time": "2022-01-22T21:05:32.014Z"
   },
   {
    "duration": 41,
    "start_time": "2022-01-22T21:05:32.051Z"
   },
   {
    "duration": 28,
    "start_time": "2022-01-22T21:11:30.132Z"
   },
   {
    "duration": 8,
    "start_time": "2022-01-22T21:12:13.766Z"
   },
   {
    "duration": 21,
    "start_time": "2022-01-22T21:12:41.053Z"
   },
   {
    "duration": 7,
    "start_time": "2022-01-22T21:12:54.802Z"
   },
   {
    "duration": 19,
    "start_time": "2022-01-22T21:13:14.075Z"
   },
   {
    "duration": 400,
    "start_time": "2022-01-23T10:34:35.489Z"
   },
   {
    "duration": 1069,
    "start_time": "2022-01-23T10:34:44.175Z"
   },
   {
    "duration": 183,
    "start_time": "2022-01-23T10:34:45.246Z"
   },
   {
    "duration": 156,
    "start_time": "2022-01-23T10:34:45.431Z"
   },
   {
    "duration": 103,
    "start_time": "2022-01-23T10:34:45.589Z"
   },
   {
    "duration": 13,
    "start_time": "2022-01-23T10:34:45.693Z"
   },
   {
    "duration": 24,
    "start_time": "2022-01-23T10:34:45.708Z"
   },
   {
    "duration": 38,
    "start_time": "2022-01-23T10:34:45.734Z"
   },
   {
    "duration": 37,
    "start_time": "2022-01-23T10:58:29.023Z"
   },
   {
    "duration": 16,
    "start_time": "2022-01-23T11:03:18.454Z"
   },
   {
    "duration": 606,
    "start_time": "2022-01-23T20:08:59.964Z"
   },
   {
    "duration": 1064,
    "start_time": "2022-01-23T20:09:16.628Z"
   },
   {
    "duration": 47,
    "start_time": "2022-01-23T20:09:17.694Z"
   },
   {
    "duration": 158,
    "start_time": "2022-01-23T20:09:17.743Z"
   },
   {
    "duration": 158,
    "start_time": "2022-01-23T20:09:17.903Z"
   },
   {
    "duration": 96,
    "start_time": "2022-01-23T20:09:18.062Z"
   },
   {
    "duration": 22,
    "start_time": "2022-01-23T20:09:18.160Z"
   },
   {
    "duration": 6,
    "start_time": "2022-01-23T20:09:18.183Z"
   },
   {
    "duration": 15,
    "start_time": "2022-01-23T20:09:18.191Z"
   },
   {
    "duration": 4,
    "start_time": "2022-01-23T20:10:23.240Z"
   },
   {
    "duration": 126,
    "start_time": "2022-01-23T20:10:58.332Z"
   },
   {
    "duration": 6,
    "start_time": "2022-01-23T20:11:12.041Z"
   },
   {
    "duration": 150,
    "start_time": "2022-01-23T20:19:34.980Z"
   },
   {
    "duration": 112,
    "start_time": "2022-01-23T20:21:33.392Z"
   },
   {
    "duration": 3,
    "start_time": "2022-01-23T20:22:01.860Z"
   },
   {
    "duration": 108,
    "start_time": "2022-01-23T20:22:09.020Z"
   },
   {
    "duration": 107,
    "start_time": "2022-01-23T20:23:14.959Z"
   },
   {
    "duration": 187,
    "start_time": "2022-01-23T20:23:22.637Z"
   },
   {
    "duration": 106,
    "start_time": "2022-01-23T20:23:54.739Z"
   },
   {
    "duration": 26,
    "start_time": "2022-01-23T20:29:18.227Z"
   },
   {
    "duration": 8,
    "start_time": "2022-01-23T20:29:38.388Z"
   },
   {
    "duration": 2,
    "start_time": "2022-01-23T20:33:41.161Z"
   },
   {
    "duration": 7,
    "start_time": "2022-01-23T20:34:10.807Z"
   },
   {
    "duration": 52,
    "start_time": "2022-01-23T20:50:10.967Z"
   },
   {
    "duration": 7,
    "start_time": "2022-01-23T20:50:54.546Z"
   },
   {
    "duration": 116,
    "start_time": "2022-01-23T20:51:36.797Z"
   },
   {
    "duration": 50,
    "start_time": "2022-01-23T20:51:43.262Z"
   },
   {
    "duration": 7,
    "start_time": "2022-01-23T20:51:46.875Z"
   },
   {
    "duration": 49,
    "start_time": "2022-01-23T20:51:50.468Z"
   },
   {
    "duration": 434,
    "start_time": "2022-01-23T20:52:39.319Z"
   },
   {
    "duration": 47,
    "start_time": "2022-01-23T20:53:33.040Z"
   },
   {
    "duration": 49,
    "start_time": "2022-01-23T20:53:36.227Z"
   },
   {
    "duration": 6,
    "start_time": "2022-01-23T20:54:43.021Z"
   },
   {
    "duration": 7,
    "start_time": "2022-01-23T20:54:48.882Z"
   },
   {
    "duration": 5,
    "start_time": "2022-01-23T20:54:59.595Z"
   },
   {
    "duration": 971,
    "start_time": "2022-01-23T20:55:08.372Z"
   },
   {
    "duration": 37,
    "start_time": "2022-01-23T20:55:09.345Z"
   },
   {
    "duration": 163,
    "start_time": "2022-01-23T20:55:09.384Z"
   },
   {
    "duration": 137,
    "start_time": "2022-01-23T20:55:09.549Z"
   },
   {
    "duration": 97,
    "start_time": "2022-01-23T20:55:09.688Z"
   },
   {
    "duration": 22,
    "start_time": "2022-01-23T20:55:09.786Z"
   },
   {
    "duration": 6,
    "start_time": "2022-01-23T20:55:09.810Z"
   },
   {
    "duration": 3,
    "start_time": "2022-01-23T20:55:09.818Z"
   },
   {
    "duration": 6,
    "start_time": "2022-01-23T20:55:09.826Z"
   },
   {
    "duration": 30,
    "start_time": "2022-01-23T20:55:09.833Z"
   },
   {
    "duration": 4,
    "start_time": "2022-01-23T20:55:09.865Z"
   },
   {
    "duration": 7,
    "start_time": "2022-01-23T20:55:09.871Z"
   },
   {
    "duration": 3,
    "start_time": "2022-01-23T20:55:09.879Z"
   },
   {
    "duration": 8,
    "start_time": "2022-01-23T20:55:09.884Z"
   },
   {
    "duration": 44,
    "start_time": "2022-01-23T20:55:09.894Z"
   },
   {
    "duration": 112,
    "start_time": "2022-01-23T20:55:09.939Z"
   },
   {
    "duration": 3,
    "start_time": "2022-01-23T20:55:40.058Z"
   },
   {
    "duration": 97,
    "start_time": "2022-01-23T20:55:42.431Z"
   },
   {
    "duration": 1035,
    "start_time": "2022-01-23T20:55:55.056Z"
   },
   {
    "duration": 44,
    "start_time": "2022-01-23T20:55:56.093Z"
   },
   {
    "duration": 162,
    "start_time": "2022-01-23T20:55:56.139Z"
   },
   {
    "duration": 126,
    "start_time": "2022-01-23T20:55:56.304Z"
   },
   {
    "duration": 127,
    "start_time": "2022-01-23T20:55:56.432Z"
   },
   {
    "duration": 23,
    "start_time": "2022-01-23T20:55:56.561Z"
   },
   {
    "duration": 6,
    "start_time": "2022-01-23T20:55:56.586Z"
   },
   {
    "duration": 3,
    "start_time": "2022-01-23T20:55:56.594Z"
   },
   {
    "duration": 7,
    "start_time": "2022-01-23T20:55:56.599Z"
   },
   {
    "duration": 41,
    "start_time": "2022-01-23T20:55:56.607Z"
   },
   {
    "duration": 64,
    "start_time": "2022-01-23T20:55:56.650Z"
   },
   {
    "duration": 16,
    "start_time": "2022-01-23T20:55:56.715Z"
   },
   {
    "duration": 7,
    "start_time": "2022-01-23T20:55:56.732Z"
   },
   {
    "duration": 11,
    "start_time": "2022-01-23T20:55:56.740Z"
   },
   {
    "duration": 15,
    "start_time": "2022-01-23T20:55:56.753Z"
   },
   {
    "duration": 104,
    "start_time": "2022-01-23T20:55:56.769Z"
   },
   {
    "duration": 3,
    "start_time": "2022-01-23T20:56:25.652Z"
   },
   {
    "duration": 1112,
    "start_time": "2022-01-23T20:56:33.571Z"
   },
   {
    "duration": 37,
    "start_time": "2022-01-23T20:56:34.685Z"
   },
   {
    "duration": 153,
    "start_time": "2022-01-23T20:56:34.724Z"
   },
   {
    "duration": 132,
    "start_time": "2022-01-23T20:56:34.879Z"
   },
   {
    "duration": 92,
    "start_time": "2022-01-23T20:56:35.013Z"
   },
   {
    "duration": 22,
    "start_time": "2022-01-23T20:56:35.106Z"
   },
   {
    "duration": 5,
    "start_time": "2022-01-23T20:56:35.130Z"
   },
   {
    "duration": 5,
    "start_time": "2022-01-23T20:56:35.137Z"
   },
   {
    "duration": 10,
    "start_time": "2022-01-23T20:56:35.143Z"
   },
   {
    "duration": 29,
    "start_time": "2022-01-23T20:56:35.154Z"
   },
   {
    "duration": 586,
    "start_time": "2022-01-23T20:56:35.185Z"
   },
   {
    "duration": -210,
    "start_time": "2022-01-23T20:56:35.983Z"
   },
   {
    "duration": -218,
    "start_time": "2022-01-23T20:56:35.992Z"
   },
   {
    "duration": -229,
    "start_time": "2022-01-23T20:56:36.004Z"
   },
   {
    "duration": -250,
    "start_time": "2022-01-23T20:56:36.026Z"
   },
   {
    "duration": -259,
    "start_time": "2022-01-23T20:56:36.036Z"
   },
   {
    "duration": 3,
    "start_time": "2022-01-23T20:56:45.533Z"
   },
   {
    "duration": 1013,
    "start_time": "2022-01-23T20:56:50.670Z"
   },
   {
    "duration": 37,
    "start_time": "2022-01-23T20:56:51.685Z"
   },
   {
    "duration": 161,
    "start_time": "2022-01-23T20:56:51.723Z"
   },
   {
    "duration": 147,
    "start_time": "2022-01-23T20:56:51.886Z"
   },
   {
    "duration": 99,
    "start_time": "2022-01-23T20:56:52.034Z"
   },
   {
    "duration": 22,
    "start_time": "2022-01-23T20:56:52.135Z"
   },
   {
    "duration": 5,
    "start_time": "2022-01-23T20:56:52.159Z"
   },
   {
    "duration": 4,
    "start_time": "2022-01-23T20:56:52.166Z"
   },
   {
    "duration": 7,
    "start_time": "2022-01-23T20:56:52.171Z"
   },
   {
    "duration": 30,
    "start_time": "2022-01-23T20:56:52.180Z"
   },
   {
    "duration": 65,
    "start_time": "2022-01-23T20:56:52.227Z"
   },
   {
    "duration": 7,
    "start_time": "2022-01-23T20:56:52.294Z"
   },
   {
    "duration": 3,
    "start_time": "2022-01-23T20:56:52.302Z"
   },
   {
    "duration": 21,
    "start_time": "2022-01-23T20:56:52.307Z"
   },
   {
    "duration": 14,
    "start_time": "2022-01-23T20:56:52.330Z"
   },
   {
    "duration": 106,
    "start_time": "2022-01-23T20:56:52.346Z"
   },
   {
    "duration": 8,
    "start_time": "2022-01-23T20:58:36.915Z"
   },
   {
    "duration": 23,
    "start_time": "2022-01-23T20:58:58.034Z"
   },
   {
    "duration": 15,
    "start_time": "2022-01-23T21:05:18.511Z"
   },
   {
    "duration": 1150,
    "start_time": "2022-01-23T21:06:00.452Z"
   },
   {
    "duration": 40,
    "start_time": "2022-01-23T21:06:01.603Z"
   },
   {
    "duration": 170,
    "start_time": "2022-01-23T21:06:01.645Z"
   },
   {
    "duration": 142,
    "start_time": "2022-01-23T21:06:01.817Z"
   },
   {
    "duration": 102,
    "start_time": "2022-01-23T21:06:01.961Z"
   },
   {
    "duration": 23,
    "start_time": "2022-01-23T21:06:02.065Z"
   },
   {
    "duration": 7,
    "start_time": "2022-01-23T21:06:02.090Z"
   },
   {
    "duration": 11,
    "start_time": "2022-01-23T21:06:02.098Z"
   },
   {
    "duration": 16,
    "start_time": "2022-01-23T21:06:02.111Z"
   },
   {
    "duration": 29,
    "start_time": "2022-01-23T21:06:02.129Z"
   },
   {
    "duration": 78,
    "start_time": "2022-01-23T21:06:02.160Z"
   },
   {
    "duration": 25,
    "start_time": "2022-01-23T21:06:02.239Z"
   },
   {
    "duration": 13,
    "start_time": "2022-01-23T21:06:02.265Z"
   },
   {
    "duration": 104,
    "start_time": "2022-01-23T21:06:02.280Z"
   },
   {
    "duration": 66,
    "start_time": "2022-01-23T21:08:12.938Z"
   },
   {
    "duration": 18,
    "start_time": "2022-01-23T21:08:17.417Z"
   },
   {
    "duration": 22,
    "start_time": "2022-01-23T21:12:41.672Z"
   },
   {
    "duration": 8579,
    "start_time": "2022-01-23T21:15:19.882Z"
   },
   {
    "duration": -219,
    "start_time": "2022-01-23T21:15:28.682Z"
   },
   {
    "duration": 67,
    "start_time": "2022-01-23T21:15:59.574Z"
   },
   {
    "duration": 16,
    "start_time": "2022-01-23T21:16:04.744Z"
   },
   {
    "duration": 16,
    "start_time": "2022-01-23T21:17:27.871Z"
   },
   {
    "duration": 8461,
    "start_time": "2022-01-23T21:19:34.869Z"
   },
   {
    "duration": -220,
    "start_time": "2022-01-23T21:19:43.553Z"
   },
   {
    "duration": 17,
    "start_time": "2022-01-23T21:20:02.278Z"
   },
   {
    "duration": 13,
    "start_time": "2022-01-23T21:20:06.692Z"
   },
   {
    "duration": 21,
    "start_time": "2022-01-23T21:54:07.859Z"
   },
   {
    "duration": 23,
    "start_time": "2022-01-23T21:54:10.321Z"
   },
   {
    "duration": 12,
    "start_time": "2022-01-23T21:55:11.942Z"
   },
   {
    "duration": 12,
    "start_time": "2022-01-23T21:56:52.855Z"
   },
   {
    "duration": 345,
    "start_time": "2022-01-23T21:57:29.423Z"
   },
   {
    "duration": 326,
    "start_time": "2022-01-23T21:57:51.635Z"
   },
   {
    "duration": 318,
    "start_time": "2022-01-23T21:58:52.716Z"
   },
   {
    "duration": 8081,
    "start_time": "2022-01-23T21:59:24.621Z"
   },
   {
    "duration": 9287,
    "start_time": "2022-01-23T22:00:16.053Z"
   },
   {
    "duration": 978,
    "start_time": "2022-01-23T22:00:46.324Z"
   },
   {
    "duration": 40,
    "start_time": "2022-01-23T22:00:47.303Z"
   },
   {
    "duration": 159,
    "start_time": "2022-01-23T22:00:47.345Z"
   },
   {
    "duration": 130,
    "start_time": "2022-01-23T22:00:47.506Z"
   },
   {
    "duration": 94,
    "start_time": "2022-01-23T22:00:47.638Z"
   },
   {
    "duration": 22,
    "start_time": "2022-01-23T22:00:47.734Z"
   },
   {
    "duration": 5,
    "start_time": "2022-01-23T22:00:47.758Z"
   },
   {
    "duration": 4,
    "start_time": "2022-01-23T22:00:47.765Z"
   },
   {
    "duration": 14,
    "start_time": "2022-01-23T22:00:47.770Z"
   },
   {
    "duration": 143,
    "start_time": "2022-01-23T22:00:47.785Z"
   },
   {
    "duration": 17,
    "start_time": "2022-01-23T22:00:47.929Z"
   },
   {
    "duration": 95,
    "start_time": "2022-01-23T22:00:47.947Z"
   },
   {
    "duration": 15,
    "start_time": "2022-01-23T22:00:48.044Z"
   },
   {
    "duration": 27,
    "start_time": "2022-01-23T22:00:48.060Z"
   },
   {
    "duration": 10,
    "start_time": "2022-01-23T22:00:48.089Z"
   },
   {
    "duration": 44,
    "start_time": "2022-01-23T22:00:48.100Z"
   },
   {
    "duration": 26,
    "start_time": "2022-01-23T22:00:48.145Z"
   },
   {
    "duration": 433,
    "start_time": "2022-01-23T22:00:48.173Z"
   },
   {
    "duration": 13,
    "start_time": "2022-01-23T22:05:12.336Z"
   },
   {
    "duration": 992,
    "start_time": "2022-01-23T22:05:40.110Z"
   },
   {
    "duration": 43,
    "start_time": "2022-01-23T22:05:41.104Z"
   },
   {
    "duration": 158,
    "start_time": "2022-01-23T22:05:41.150Z"
   },
   {
    "duration": 142,
    "start_time": "2022-01-23T22:05:41.309Z"
   },
   {
    "duration": 100,
    "start_time": "2022-01-23T22:05:41.452Z"
   },
   {
    "duration": 23,
    "start_time": "2022-01-23T22:05:41.554Z"
   },
   {
    "duration": 6,
    "start_time": "2022-01-23T22:05:41.578Z"
   },
   {
    "duration": 4,
    "start_time": "2022-01-23T22:05:41.586Z"
   },
   {
    "duration": 14,
    "start_time": "2022-01-23T22:05:41.591Z"
   },
   {
    "duration": 128,
    "start_time": "2022-01-23T22:05:41.607Z"
   },
   {
    "duration": 19,
    "start_time": "2022-01-23T22:05:41.736Z"
   },
   {
    "duration": 92,
    "start_time": "2022-01-23T22:05:41.757Z"
   },
   {
    "duration": 14,
    "start_time": "2022-01-23T22:05:41.851Z"
   },
   {
    "duration": 26,
    "start_time": "2022-01-23T22:05:41.867Z"
   },
   {
    "duration": 10,
    "start_time": "2022-01-23T22:05:41.895Z"
   },
   {
    "duration": 20,
    "start_time": "2022-01-23T22:05:41.926Z"
   },
   {
    "duration": 29,
    "start_time": "2022-01-23T22:05:41.947Z"
   },
   {
    "duration": 407,
    "start_time": "2022-01-23T22:05:41.978Z"
   },
   {
    "duration": 8491,
    "start_time": "2022-01-23T22:06:31.677Z"
   },
   {
    "duration": 980,
    "start_time": "2022-01-23T22:06:54.751Z"
   },
   {
    "duration": 38,
    "start_time": "2022-01-23T22:06:55.732Z"
   },
   {
    "duration": 163,
    "start_time": "2022-01-23T22:06:55.772Z"
   },
   {
    "duration": 154,
    "start_time": "2022-01-23T22:06:55.937Z"
   },
   {
    "duration": 112,
    "start_time": "2022-01-23T22:06:56.092Z"
   },
   {
    "duration": 24,
    "start_time": "2022-01-23T22:06:56.206Z"
   },
   {
    "duration": 6,
    "start_time": "2022-01-23T22:06:56.231Z"
   },
   {
    "duration": 5,
    "start_time": "2022-01-23T22:06:56.240Z"
   },
   {
    "duration": 17,
    "start_time": "2022-01-23T22:06:56.246Z"
   },
   {
    "duration": 117,
    "start_time": "2022-01-23T22:06:56.264Z"
   },
   {
    "duration": 18,
    "start_time": "2022-01-23T22:06:56.383Z"
   },
   {
    "duration": 89,
    "start_time": "2022-01-23T22:06:56.402Z"
   },
   {
    "duration": 14,
    "start_time": "2022-01-23T22:06:56.493Z"
   },
   {
    "duration": 39,
    "start_time": "2022-01-23T22:06:56.509Z"
   },
   {
    "duration": 10,
    "start_time": "2022-01-23T22:06:56.550Z"
   },
   {
    "duration": 20,
    "start_time": "2022-01-23T22:06:56.562Z"
   },
   {
    "duration": 45,
    "start_time": "2022-01-23T22:06:56.583Z"
   },
   {
    "duration": 393,
    "start_time": "2022-01-23T22:06:56.629Z"
   },
   {
    "duration": 13,
    "start_time": "2022-01-23T22:11:38.189Z"
   },
   {
    "duration": 16,
    "start_time": "2022-01-23T22:14:46.492Z"
   },
   {
    "duration": 10417,
    "start_time": "2022-01-23T22:14:54.976Z"
   },
   {
    "duration": 7986,
    "start_time": "2022-01-23T22:15:13.777Z"
   },
   {
    "duration": 1010,
    "start_time": "2022-01-23T22:15:49.391Z"
   },
   {
    "duration": 39,
    "start_time": "2022-01-23T22:15:50.403Z"
   },
   {
    "duration": 161,
    "start_time": "2022-01-23T22:15:50.444Z"
   },
   {
    "duration": 135,
    "start_time": "2022-01-23T22:15:50.607Z"
   },
   {
    "duration": 97,
    "start_time": "2022-01-23T22:15:50.744Z"
   },
   {
    "duration": 22,
    "start_time": "2022-01-23T22:15:50.843Z"
   },
   {
    "duration": 6,
    "start_time": "2022-01-23T22:15:50.866Z"
   },
   {
    "duration": 5,
    "start_time": "2022-01-23T22:15:50.873Z"
   },
   {
    "duration": 14,
    "start_time": "2022-01-23T22:15:50.881Z"
   },
   {
    "duration": 126,
    "start_time": "2022-01-23T22:15:50.897Z"
   },
   {
    "duration": 19,
    "start_time": "2022-01-23T22:15:51.027Z"
   },
   {
    "duration": 107,
    "start_time": "2022-01-23T22:15:51.048Z"
   },
   {
    "duration": 18,
    "start_time": "2022-01-23T22:15:51.157Z"
   },
   {
    "duration": 52,
    "start_time": "2022-01-23T22:15:51.177Z"
   },
   {
    "duration": 12,
    "start_time": "2022-01-23T22:15:51.231Z"
   },
   {
    "duration": 21,
    "start_time": "2022-01-23T22:15:51.245Z"
   },
   {
    "duration": 25,
    "start_time": "2022-01-23T22:15:51.268Z"
   },
   {
    "duration": 38,
    "start_time": "2022-01-23T22:15:51.294Z"
   },
   {
    "duration": 16,
    "start_time": "2022-01-23T22:15:51.333Z"
   },
   {
    "duration": 2,
    "start_time": "2022-01-23T22:15:51.351Z"
   },
   {
    "duration": 9077,
    "start_time": "2022-01-23T22:16:07.889Z"
   },
   {
    "duration": 8095,
    "start_time": "2022-01-23T22:16:53.480Z"
   },
   {
    "duration": 8485,
    "start_time": "2022-01-23T22:17:48.486Z"
   },
   {
    "duration": 997,
    "start_time": "2022-01-23T22:18:06.314Z"
   },
   {
    "duration": 38,
    "start_time": "2022-01-23T22:18:07.313Z"
   },
   {
    "duration": 163,
    "start_time": "2022-01-23T22:18:07.353Z"
   },
   {
    "duration": 133,
    "start_time": "2022-01-23T22:18:07.518Z"
   },
   {
    "duration": 93,
    "start_time": "2022-01-23T22:18:07.653Z"
   },
   {
    "duration": 22,
    "start_time": "2022-01-23T22:18:07.747Z"
   },
   {
    "duration": 6,
    "start_time": "2022-01-23T22:18:07.771Z"
   },
   {
    "duration": 6,
    "start_time": "2022-01-23T22:18:07.779Z"
   },
   {
    "duration": 15,
    "start_time": "2022-01-23T22:18:07.786Z"
   },
   {
    "duration": 116,
    "start_time": "2022-01-23T22:18:07.802Z"
   },
   {
    "duration": 18,
    "start_time": "2022-01-23T22:18:07.920Z"
   },
   {
    "duration": 92,
    "start_time": "2022-01-23T22:18:07.940Z"
   },
   {
    "duration": 14,
    "start_time": "2022-01-23T22:18:08.034Z"
   },
   {
    "duration": 27,
    "start_time": "2022-01-23T22:18:08.050Z"
   },
   {
    "duration": 10,
    "start_time": "2022-01-23T22:18:08.079Z"
   },
   {
    "duration": 44,
    "start_time": "2022-01-23T22:18:08.090Z"
   },
   {
    "duration": 25,
    "start_time": "2022-01-23T22:18:08.136Z"
   },
   {
    "duration": 14,
    "start_time": "2022-01-23T22:18:08.162Z"
   },
   {
    "duration": 17,
    "start_time": "2022-01-23T22:18:08.178Z"
   },
   {
    "duration": 3,
    "start_time": "2022-01-23T22:18:08.196Z"
   },
   {
    "duration": 9722,
    "start_time": "2022-01-23T22:27:49.269Z"
   },
   {
    "duration": 1057,
    "start_time": "2022-01-23T22:28:37.231Z"
   },
   {
    "duration": 39,
    "start_time": "2022-01-23T22:28:38.290Z"
   },
   {
    "duration": 160,
    "start_time": "2022-01-23T22:28:38.331Z"
   },
   {
    "duration": 138,
    "start_time": "2022-01-23T22:28:38.493Z"
   },
   {
    "duration": 104,
    "start_time": "2022-01-23T22:28:38.633Z"
   },
   {
    "duration": 23,
    "start_time": "2022-01-23T22:28:38.738Z"
   },
   {
    "duration": 6,
    "start_time": "2022-01-23T22:28:38.763Z"
   },
   {
    "duration": 4,
    "start_time": "2022-01-23T22:28:38.771Z"
   },
   {
    "duration": 13,
    "start_time": "2022-01-23T22:28:38.778Z"
   },
   {
    "duration": 135,
    "start_time": "2022-01-23T22:28:38.793Z"
   },
   {
    "duration": 16,
    "start_time": "2022-01-23T22:28:38.930Z"
   },
   {
    "duration": 96,
    "start_time": "2022-01-23T22:28:38.948Z"
   },
   {
    "duration": 16,
    "start_time": "2022-01-23T22:28:39.046Z"
   },
   {
    "duration": 28,
    "start_time": "2022-01-23T22:28:39.063Z"
   },
   {
    "duration": 35,
    "start_time": "2022-01-23T22:28:39.093Z"
   },
   {
    "duration": 23,
    "start_time": "2022-01-23T22:28:39.130Z"
   },
   {
    "duration": 30,
    "start_time": "2022-01-23T22:28:39.155Z"
   },
   {
    "duration": 13,
    "start_time": "2022-01-23T22:28:39.186Z"
   },
   {
    "duration": 33,
    "start_time": "2022-01-23T22:28:39.201Z"
   },
   {
    "duration": 6,
    "start_time": "2022-01-23T22:28:39.236Z"
   },
   {
    "duration": 5,
    "start_time": "2022-01-23T22:28:39.244Z"
   },
   {
    "duration": 979,
    "start_time": "2022-01-23T22:29:05.143Z"
   },
   {
    "duration": 38,
    "start_time": "2022-01-23T22:29:06.124Z"
   },
   {
    "duration": 167,
    "start_time": "2022-01-23T22:29:06.166Z"
   },
   {
    "duration": 140,
    "start_time": "2022-01-23T22:29:06.335Z"
   },
   {
    "duration": 97,
    "start_time": "2022-01-23T22:29:06.477Z"
   },
   {
    "duration": 23,
    "start_time": "2022-01-23T22:29:06.575Z"
   },
   {
    "duration": 5,
    "start_time": "2022-01-23T22:29:06.601Z"
   },
   {
    "duration": 4,
    "start_time": "2022-01-23T22:29:06.608Z"
   },
   {
    "duration": 24,
    "start_time": "2022-01-23T22:29:06.613Z"
   },
   {
    "duration": 118,
    "start_time": "2022-01-23T22:29:06.639Z"
   },
   {
    "duration": 17,
    "start_time": "2022-01-23T22:29:06.759Z"
   },
   {
    "duration": 98,
    "start_time": "2022-01-23T22:29:06.778Z"
   },
   {
    "duration": 16,
    "start_time": "2022-01-23T22:29:06.877Z"
   },
   {
    "duration": 40,
    "start_time": "2022-01-23T22:29:06.894Z"
   },
   {
    "duration": 12,
    "start_time": "2022-01-23T22:29:06.935Z"
   },
   {
    "duration": 21,
    "start_time": "2022-01-23T22:29:06.949Z"
   },
   {
    "duration": 57,
    "start_time": "2022-01-23T22:29:06.971Z"
   },
   {
    "duration": 14,
    "start_time": "2022-01-23T22:29:07.029Z"
   },
   {
    "duration": 16,
    "start_time": "2022-01-23T22:29:07.045Z"
   },
   {
    "duration": 2,
    "start_time": "2022-01-23T22:29:07.063Z"
   },
   {
    "duration": 8320,
    "start_time": "2022-01-23T22:50:02.474Z"
   },
   {
    "duration": 8921,
    "start_time": "2022-01-23T22:50:22.847Z"
   },
   {
    "duration": 1158,
    "start_time": "2022-01-23T22:53:22.923Z"
   },
   {
    "duration": 38,
    "start_time": "2022-01-23T22:53:24.083Z"
   },
   {
    "duration": 162,
    "start_time": "2022-01-23T22:53:24.123Z"
   },
   {
    "duration": 134,
    "start_time": "2022-01-23T22:53:24.286Z"
   },
   {
    "duration": 97,
    "start_time": "2022-01-23T22:53:24.426Z"
   },
   {
    "duration": 22,
    "start_time": "2022-01-23T22:53:24.525Z"
   },
   {
    "duration": 8,
    "start_time": "2022-01-23T22:53:24.549Z"
   },
   {
    "duration": 5,
    "start_time": "2022-01-23T22:53:24.559Z"
   },
   {
    "duration": 16,
    "start_time": "2022-01-23T22:53:24.565Z"
   },
   {
    "duration": 117,
    "start_time": "2022-01-23T22:53:24.582Z"
   },
   {
    "duration": 26,
    "start_time": "2022-01-23T22:53:24.701Z"
   },
   {
    "duration": 78,
    "start_time": "2022-01-23T22:53:24.729Z"
   },
   {
    "duration": 28,
    "start_time": "2022-01-23T22:53:24.808Z"
   },
   {
    "duration": 28,
    "start_time": "2022-01-23T22:53:24.838Z"
   },
   {
    "duration": 12,
    "start_time": "2022-01-23T22:53:24.867Z"
   },
   {
    "duration": 47,
    "start_time": "2022-01-23T22:53:24.880Z"
   },
   {
    "duration": 24,
    "start_time": "2022-01-23T22:53:24.929Z"
   },
   {
    "duration": 13,
    "start_time": "2022-01-23T22:53:24.955Z"
   },
   {
    "duration": 15,
    "start_time": "2022-01-23T22:53:24.970Z"
   },
   {
    "duration": 40,
    "start_time": "2022-01-23T22:53:24.987Z"
   },
   {
    "duration": 20,
    "start_time": "2022-01-23T22:53:25.029Z"
   },
   {
    "duration": 127,
    "start_time": "2022-01-23T22:55:47.217Z"
   },
   {
    "duration": 120,
    "start_time": "2022-01-23T22:56:45.035Z"
   },
   {
    "duration": 1073,
    "start_time": "2022-01-23T22:56:53.016Z"
   },
   {
    "duration": 38,
    "start_time": "2022-01-23T22:56:54.091Z"
   },
   {
    "duration": 161,
    "start_time": "2022-01-23T22:56:54.131Z"
   },
   {
    "duration": 143,
    "start_time": "2022-01-23T22:56:54.294Z"
   },
   {
    "duration": 100,
    "start_time": "2022-01-23T22:56:54.439Z"
   },
   {
    "duration": 23,
    "start_time": "2022-01-23T22:56:54.541Z"
   },
   {
    "duration": 6,
    "start_time": "2022-01-23T22:56:54.566Z"
   },
   {
    "duration": 3,
    "start_time": "2022-01-23T22:56:54.575Z"
   },
   {
    "duration": 14,
    "start_time": "2022-01-23T22:56:54.580Z"
   },
   {
    "duration": 127,
    "start_time": "2022-01-23T22:56:54.596Z"
   },
   {
    "duration": 17,
    "start_time": "2022-01-23T22:56:54.727Z"
   },
   {
    "duration": 92,
    "start_time": "2022-01-23T22:56:54.745Z"
   },
   {
    "duration": 16,
    "start_time": "2022-01-23T22:56:54.839Z"
   },
   {
    "duration": 28,
    "start_time": "2022-01-23T22:56:54.856Z"
   },
   {
    "duration": 12,
    "start_time": "2022-01-23T22:56:54.886Z"
   },
   {
    "duration": 47,
    "start_time": "2022-01-23T22:56:54.899Z"
   },
   {
    "duration": 25,
    "start_time": "2022-01-23T22:56:54.947Z"
   },
   {
    "duration": 14,
    "start_time": "2022-01-23T22:56:54.974Z"
   },
   {
    "duration": 44,
    "start_time": "2022-01-23T22:56:54.990Z"
   },
   {
    "duration": 17,
    "start_time": "2022-01-23T22:56:55.036Z"
   },
   {
    "duration": 21,
    "start_time": "2022-01-23T22:56:55.054Z"
   },
   {
    "duration": 111,
    "start_time": "2022-01-23T22:56:55.077Z"
   },
   {
    "duration": 111,
    "start_time": "2022-01-23T22:59:08.963Z"
   },
   {
    "duration": 105,
    "start_time": "2022-01-23T22:59:36.025Z"
   },
   {
    "duration": 7,
    "start_time": "2022-01-23T23:00:39.998Z"
   },
   {
    "duration": 112,
    "start_time": "2022-01-23T23:01:49.578Z"
   },
   {
    "duration": 12,
    "start_time": "2022-01-23T23:02:10.607Z"
   },
   {
    "duration": 13,
    "start_time": "2022-01-23T23:02:31.091Z"
   },
   {
    "duration": 9,
    "start_time": "2022-01-23T23:10:47.908Z"
   },
   {
    "duration": 17,
    "start_time": "2022-01-23T23:11:57.014Z"
   },
   {
    "duration": 804,
    "start_time": "2022-01-23T23:15:09.956Z"
   },
   {
    "duration": 330,
    "start_time": "2022-01-23T23:16:00.178Z"
   },
   {
    "duration": 1012,
    "start_time": "2022-01-23T23:16:13.883Z"
   },
   {
    "duration": 39,
    "start_time": "2022-01-23T23:16:14.897Z"
   },
   {
    "duration": 161,
    "start_time": "2022-01-23T23:16:14.938Z"
   },
   {
    "duration": 133,
    "start_time": "2022-01-23T23:16:15.101Z"
   },
   {
    "duration": 97,
    "start_time": "2022-01-23T23:16:15.236Z"
   },
   {
    "duration": 22,
    "start_time": "2022-01-23T23:16:15.335Z"
   },
   {
    "duration": 5,
    "start_time": "2022-01-23T23:16:15.358Z"
   },
   {
    "duration": 4,
    "start_time": "2022-01-23T23:16:15.365Z"
   },
   {
    "duration": 15,
    "start_time": "2022-01-23T23:16:15.371Z"
   },
   {
    "duration": 124,
    "start_time": "2022-01-23T23:16:15.387Z"
   },
   {
    "duration": 20,
    "start_time": "2022-01-23T23:16:15.513Z"
   },
   {
    "duration": 74,
    "start_time": "2022-01-23T23:16:15.535Z"
   },
   {
    "duration": 25,
    "start_time": "2022-01-23T23:16:15.611Z"
   },
   {
    "duration": 27,
    "start_time": "2022-01-23T23:16:15.637Z"
   },
   {
    "duration": 10,
    "start_time": "2022-01-23T23:16:15.665Z"
   },
   {
    "duration": 20,
    "start_time": "2022-01-23T23:16:15.677Z"
   },
   {
    "duration": 48,
    "start_time": "2022-01-23T23:16:15.698Z"
   },
   {
    "duration": 13,
    "start_time": "2022-01-23T23:16:15.748Z"
   },
   {
    "duration": 15,
    "start_time": "2022-01-23T23:16:15.762Z"
   },
   {
    "duration": 15,
    "start_time": "2022-01-23T23:16:15.778Z"
   },
   {
    "duration": 42,
    "start_time": "2022-01-23T23:16:15.795Z"
   },
   {
    "duration": 10,
    "start_time": "2022-01-23T23:16:15.839Z"
   },
   {
    "duration": 7,
    "start_time": "2022-01-23T23:16:15.852Z"
   },
   {
    "duration": 16,
    "start_time": "2022-01-23T23:16:15.861Z"
   },
   {
    "duration": 389,
    "start_time": "2022-01-23T23:16:15.878Z"
   },
   {
    "duration": 336,
    "start_time": "2022-01-23T23:17:21.886Z"
   },
   {
    "duration": 8,
    "start_time": "2022-01-23T23:19:28.343Z"
   },
   {
    "duration": 371,
    "start_time": "2022-01-23T23:21:40.164Z"
   },
   {
    "duration": 4,
    "start_time": "2022-01-23T23:21:45.209Z"
   },
   {
    "duration": 18,
    "start_time": "2022-01-23T23:21:49.165Z"
   },
   {
    "duration": 10,
    "start_time": "2022-01-23T23:23:00.026Z"
   },
   {
    "duration": 461,
    "start_time": "2022-01-25T15:03:26.928Z"
   },
   {
    "duration": 1461,
    "start_time": "2022-01-25T15:03:40.855Z"
   },
   {
    "duration": 81,
    "start_time": "2022-01-25T15:03:42.319Z"
   },
   {
    "duration": 233,
    "start_time": "2022-01-25T15:03:42.404Z"
   },
   {
    "duration": 198,
    "start_time": "2022-01-25T15:03:42.640Z"
   },
   {
    "duration": 168,
    "start_time": "2022-01-25T15:03:42.841Z"
   },
   {
    "duration": 48,
    "start_time": "2022-01-25T15:03:43.012Z"
   },
   {
    "duration": 14,
    "start_time": "2022-01-25T15:03:43.063Z"
   },
   {
    "duration": 8,
    "start_time": "2022-01-25T15:03:43.080Z"
   },
   {
    "duration": 26,
    "start_time": "2022-01-25T15:03:43.092Z"
   },
   {
    "duration": 206,
    "start_time": "2022-01-25T15:03:43.121Z"
   },
   {
    "duration": 31,
    "start_time": "2022-01-25T15:03:43.329Z"
   },
   {
    "duration": 138,
    "start_time": "2022-01-25T15:03:43.363Z"
   },
   {
    "duration": 23,
    "start_time": "2022-01-25T15:03:43.504Z"
   },
   {
    "duration": 66,
    "start_time": "2022-01-25T15:03:43.529Z"
   },
   {
    "duration": 17,
    "start_time": "2022-01-25T15:03:43.597Z"
   },
   {
    "duration": 57,
    "start_time": "2022-01-25T15:03:43.616Z"
   },
   {
    "duration": 36,
    "start_time": "2022-01-25T15:03:43.676Z"
   },
   {
    "duration": 21,
    "start_time": "2022-01-25T15:03:43.714Z"
   },
   {
    "duration": 44,
    "start_time": "2022-01-25T15:03:43.737Z"
   },
   {
    "duration": 25,
    "start_time": "2022-01-25T15:03:43.783Z"
   },
   {
    "duration": 55,
    "start_time": "2022-01-25T15:03:43.810Z"
   },
   {
    "duration": 20,
    "start_time": "2022-01-25T15:03:43.868Z"
   },
   {
    "duration": 13,
    "start_time": "2022-01-25T15:03:43.890Z"
   },
   {
    "duration": 61,
    "start_time": "2022-01-25T15:03:43.905Z"
   },
   {
    "duration": 11,
    "start_time": "2022-01-25T15:03:43.968Z"
   },
   {
    "duration": 6,
    "start_time": "2022-01-25T15:03:43.982Z"
   },
   {
    "duration": 31,
    "start_time": "2022-01-25T15:03:43.994Z"
   },
   {
    "duration": 13,
    "start_time": "2022-01-25T15:03:44.060Z"
   },
   {
    "duration": 8,
    "start_time": "2022-01-25T15:03:44.075Z"
   },
   {
    "duration": 280,
    "start_time": "2022-01-25T22:11:18.115Z"
   },
   {
    "duration": 1283,
    "start_time": "2022-01-25T22:11:30.059Z"
   },
   {
    "duration": 55,
    "start_time": "2022-01-25T22:11:31.345Z"
   },
   {
    "duration": 285,
    "start_time": "2022-01-25T22:11:31.403Z"
   },
   {
    "duration": 227,
    "start_time": "2022-01-25T22:11:31.691Z"
   },
   {
    "duration": 177,
    "start_time": "2022-01-25T22:11:31.920Z"
   },
   {
    "duration": 34,
    "start_time": "2022-01-25T22:11:32.100Z"
   },
   {
    "duration": 9,
    "start_time": "2022-01-25T22:11:32.137Z"
   },
   {
    "duration": 6,
    "start_time": "2022-01-25T22:11:32.150Z"
   },
   {
    "duration": 23,
    "start_time": "2022-01-25T22:11:32.159Z"
   },
   {
    "duration": 165,
    "start_time": "2022-01-25T22:11:32.185Z"
   },
   {
    "duration": 19,
    "start_time": "2022-01-25T22:11:32.352Z"
   },
   {
    "duration": 111,
    "start_time": "2022-01-25T22:11:32.373Z"
   },
   {
    "duration": 27,
    "start_time": "2022-01-25T22:11:32.487Z"
   },
   {
    "duration": 35,
    "start_time": "2022-01-25T22:11:32.516Z"
   },
   {
    "duration": 15,
    "start_time": "2022-01-25T22:11:32.553Z"
   },
   {
    "duration": 60,
    "start_time": "2022-01-25T22:11:32.570Z"
   },
   {
    "duration": 36,
    "start_time": "2022-01-25T22:11:32.632Z"
   },
   {
    "duration": 37,
    "start_time": "2022-01-25T22:11:32.670Z"
   },
   {
    "duration": 20,
    "start_time": "2022-01-25T22:11:32.709Z"
   },
   {
    "duration": 20,
    "start_time": "2022-01-25T22:11:32.731Z"
   },
   {
    "duration": 55,
    "start_time": "2022-01-25T22:11:32.753Z"
   },
   {
    "duration": 15,
    "start_time": "2022-01-25T22:11:32.810Z"
   },
   {
    "duration": 11,
    "start_time": "2022-01-25T22:11:32.828Z"
   },
   {
    "duration": 25,
    "start_time": "2022-01-25T22:11:32.841Z"
   },
   {
    "duration": 8,
    "start_time": "2022-01-25T22:11:32.868Z"
   },
   {
    "duration": 4,
    "start_time": "2022-01-25T22:11:32.908Z"
   },
   {
    "duration": 31,
    "start_time": "2022-01-25T22:11:32.914Z"
   },
   {
    "duration": 10,
    "start_time": "2022-01-25T22:11:32.947Z"
   },
   {
    "duration": 7,
    "start_time": "2022-01-25T22:11:32.959Z"
   },
   {
    "duration": 43,
    "start_time": "2022-01-25T22:11:32.968Z"
   },
   {
    "duration": 10,
    "start_time": "2022-01-25T22:11:57.402Z"
   },
   {
    "duration": 14,
    "start_time": "2022-01-25T22:12:43.494Z"
   },
   {
    "duration": 5,
    "start_time": "2022-01-25T22:59:14.718Z"
   },
   {
    "duration": 571,
    "start_time": "2022-01-25T22:59:17.203Z"
   },
   {
    "duration": 5,
    "start_time": "2022-01-25T23:00:15.321Z"
   },
   {
    "duration": 535,
    "start_time": "2022-01-25T23:00:19.159Z"
   },
   {
    "duration": 5,
    "start_time": "2022-01-25T23:01:41.395Z"
   },
   {
    "duration": 242,
    "start_time": "2022-01-25T23:01:53.240Z"
   },
   {
    "duration": 4,
    "start_time": "2022-01-25T23:03:13.197Z"
   },
   {
    "duration": 888,
    "start_time": "2022-01-25T23:03:15.408Z"
   },
   {
    "duration": 510,
    "start_time": "2022-01-25T23:05:19.644Z"
   },
   {
    "duration": 5,
    "start_time": "2022-01-25T23:05:22.949Z"
   },
   {
    "duration": 528,
    "start_time": "2022-01-25T23:05:25.042Z"
   },
   {
    "duration": 4,
    "start_time": "2022-01-25T23:05:57.371Z"
   },
   {
    "duration": 525,
    "start_time": "2022-01-25T23:06:00.264Z"
   },
   {
    "duration": 1123,
    "start_time": "2022-01-25T23:06:34.691Z"
   },
   {
    "duration": 45,
    "start_time": "2022-01-25T23:06:35.816Z"
   },
   {
    "duration": 185,
    "start_time": "2022-01-25T23:06:35.863Z"
   },
   {
    "duration": 157,
    "start_time": "2022-01-25T23:06:36.050Z"
   },
   {
    "duration": 114,
    "start_time": "2022-01-25T23:06:36.209Z"
   },
   {
    "duration": 28,
    "start_time": "2022-01-25T23:06:36.325Z"
   },
   {
    "duration": 8,
    "start_time": "2022-01-25T23:06:36.354Z"
   },
   {
    "duration": 6,
    "start_time": "2022-01-25T23:06:36.365Z"
   },
   {
    "duration": 18,
    "start_time": "2022-01-25T23:06:36.374Z"
   },
   {
    "duration": 135,
    "start_time": "2022-01-25T23:06:36.407Z"
   },
   {
    "duration": 19,
    "start_time": "2022-01-25T23:06:36.544Z"
   },
   {
    "duration": 110,
    "start_time": "2022-01-25T23:06:36.565Z"
   },
   {
    "duration": 32,
    "start_time": "2022-01-25T23:06:36.677Z"
   },
   {
    "duration": 35,
    "start_time": "2022-01-25T23:06:36.710Z"
   },
   {
    "duration": 13,
    "start_time": "2022-01-25T23:06:36.747Z"
   },
   {
    "duration": 48,
    "start_time": "2022-01-25T23:06:36.761Z"
   },
   {
    "duration": 29,
    "start_time": "2022-01-25T23:06:36.811Z"
   },
   {
    "duration": 16,
    "start_time": "2022-01-25T23:06:36.842Z"
   },
   {
    "duration": 19,
    "start_time": "2022-01-25T23:06:36.860Z"
   },
   {
    "duration": 43,
    "start_time": "2022-01-25T23:06:36.881Z"
   },
   {
    "duration": 24,
    "start_time": "2022-01-25T23:06:36.926Z"
   },
   {
    "duration": 14,
    "start_time": "2022-01-25T23:06:36.952Z"
   },
   {
    "duration": 37,
    "start_time": "2022-01-25T23:06:36.970Z"
   },
   {
    "duration": 22,
    "start_time": "2022-01-25T23:06:37.010Z"
   },
   {
    "duration": 9,
    "start_time": "2022-01-25T23:06:37.034Z"
   },
   {
    "duration": 9,
    "start_time": "2022-01-25T23:06:37.045Z"
   },
   {
    "duration": 53,
    "start_time": "2022-01-25T23:06:37.056Z"
   },
   {
    "duration": 11,
    "start_time": "2022-01-25T23:06:37.111Z"
   },
   {
    "duration": 9,
    "start_time": "2022-01-25T23:06:37.124Z"
   },
   {
    "duration": 15,
    "start_time": "2022-01-25T23:06:37.135Z"
   },
   {
    "duration": 14,
    "start_time": "2022-01-25T23:06:37.152Z"
   },
   {
    "duration": 42,
    "start_time": "2022-01-25T23:06:37.168Z"
   },
   {
    "duration": 329,
    "start_time": "2022-01-25T23:06:37.213Z"
   },
   {
    "duration": 241,
    "start_time": "2022-01-25T23:06:54.684Z"
   },
   {
    "duration": 5,
    "start_time": "2022-01-25T23:08:09.878Z"
   },
   {
    "duration": 236,
    "start_time": "2022-01-25T23:08:18.559Z"
   },
   {
    "duration": 4,
    "start_time": "2022-01-25T23:08:57.126Z"
   },
   {
    "duration": 241,
    "start_time": "2022-01-25T23:09:00.207Z"
   },
   {
    "duration": 234,
    "start_time": "2022-01-25T23:14:45.143Z"
   },
   {
    "duration": 247,
    "start_time": "2022-01-25T23:16:54.848Z"
   },
   {
    "duration": 4,
    "start_time": "2022-01-25T23:17:53.952Z"
   },
   {
    "duration": 237,
    "start_time": "2022-01-25T23:17:55.849Z"
   },
   {
    "duration": 236,
    "start_time": "2022-01-25T23:18:12.646Z"
   },
   {
    "duration": 273,
    "start_time": "2022-01-25T23:18:51.364Z"
   },
   {
    "duration": 7,
    "start_time": "2022-01-25T23:27:48.168Z"
   },
   {
    "duration": 10,
    "start_time": "2022-01-25T23:27:50.883Z"
   },
   {
    "duration": 251,
    "start_time": "2022-01-25T23:28:55.275Z"
   },
   {
    "duration": 258,
    "start_time": "2022-01-25T23:29:15.899Z"
   },
   {
    "duration": 850,
    "start_time": "2022-01-27T15:45:26.287Z"
   },
   {
    "duration": 1499,
    "start_time": "2022-01-27T15:45:39.026Z"
   },
   {
    "duration": 56,
    "start_time": "2022-01-27T15:45:40.528Z"
   },
   {
    "duration": 241,
    "start_time": "2022-01-27T15:45:40.587Z"
   },
   {
    "duration": 198,
    "start_time": "2022-01-27T15:45:40.830Z"
   },
   {
    "duration": 151,
    "start_time": "2022-01-27T15:45:41.030Z"
   },
   {
    "duration": 34,
    "start_time": "2022-01-27T15:45:41.184Z"
   },
   {
    "duration": 13,
    "start_time": "2022-01-27T15:45:41.222Z"
   },
   {
    "duration": 21,
    "start_time": "2022-01-27T15:45:41.239Z"
   },
   {
    "duration": 21,
    "start_time": "2022-01-27T15:45:41.264Z"
   },
   {
    "duration": 223,
    "start_time": "2022-01-27T15:45:41.288Z"
   },
   {
    "duration": 23,
    "start_time": "2022-01-27T15:45:41.513Z"
   },
   {
    "duration": 142,
    "start_time": "2022-01-27T15:45:41.538Z"
   },
   {
    "duration": 22,
    "start_time": "2022-01-27T15:45:41.682Z"
   },
   {
    "duration": 67,
    "start_time": "2022-01-27T15:45:41.707Z"
   },
   {
    "duration": 20,
    "start_time": "2022-01-27T15:45:41.776Z"
   },
   {
    "duration": 60,
    "start_time": "2022-01-27T15:45:41.799Z"
   },
   {
    "duration": 41,
    "start_time": "2022-01-27T15:45:41.862Z"
   },
   {
    "duration": 23,
    "start_time": "2022-01-27T15:45:41.906Z"
   },
   {
    "duration": 48,
    "start_time": "2022-01-27T15:45:41.931Z"
   },
   {
    "duration": 25,
    "start_time": "2022-01-27T15:45:41.981Z"
   },
   {
    "duration": 59,
    "start_time": "2022-01-27T15:45:42.008Z"
   },
   {
    "duration": 21,
    "start_time": "2022-01-27T15:45:42.069Z"
   },
   {
    "duration": 15,
    "start_time": "2022-01-27T15:45:42.094Z"
   },
   {
    "duration": 68,
    "start_time": "2022-01-27T15:45:42.112Z"
   },
   {
    "duration": 14,
    "start_time": "2022-01-27T15:45:42.183Z"
   },
   {
    "duration": 6,
    "start_time": "2022-01-27T15:45:42.199Z"
   },
   {
    "duration": 58,
    "start_time": "2022-01-27T15:45:42.208Z"
   },
   {
    "duration": 14,
    "start_time": "2022-01-27T15:45:42.269Z"
   },
   {
    "duration": 9,
    "start_time": "2022-01-27T15:45:42.286Z"
   },
   {
    "duration": 13,
    "start_time": "2022-01-27T15:45:42.297Z"
   },
   {
    "duration": 57,
    "start_time": "2022-01-27T15:45:42.312Z"
   },
   {
    "duration": 6,
    "start_time": "2022-01-27T15:45:42.371Z"
   },
   {
    "duration": 471,
    "start_time": "2022-01-27T15:45:42.379Z"
   },
   {
    "duration": 13,
    "start_time": "2022-01-27T15:45:42.853Z"
   },
   {
    "duration": 12,
    "start_time": "2022-01-27T15:45:42.868Z"
   },
   {
    "duration": 462,
    "start_time": "2022-01-27T15:45:42.882Z"
   },
   {
    "duration": 297,
    "start_time": "2022-01-27T15:45:43.346Z"
   },
   {
    "duration": 418,
    "start_time": "2022-01-27T15:45:54.241Z"
   },
   {
    "duration": 392,
    "start_time": "2022-01-27T15:46:04.403Z"
   },
   {
    "duration": 281,
    "start_time": "2022-01-27T15:46:10.971Z"
   },
   {
    "duration": 294,
    "start_time": "2022-01-27T15:46:39.573Z"
   },
   {
    "duration": 474,
    "start_time": "2022-01-27T15:50:16.242Z"
   },
   {
    "duration": 610,
    "start_time": "2022-01-27T15:51:33.881Z"
   },
   {
    "duration": 520,
    "start_time": "2022-01-27T15:51:42.930Z"
   },
   {
    "duration": 307,
    "start_time": "2022-01-27T15:52:06.986Z"
   },
   {
    "duration": 183,
    "start_time": "2022-01-27T15:55:05.397Z"
   },
   {
    "duration": 783,
    "start_time": "2022-01-27T15:55:21.455Z"
   },
   {
    "duration": 418,
    "start_time": "2022-01-27T15:55:49.818Z"
   },
   {
    "duration": 308,
    "start_time": "2022-01-27T15:56:42.483Z"
   },
   {
    "duration": 866,
    "start_time": "2022-01-27T15:58:27.699Z"
   },
   {
    "duration": 24,
    "start_time": "2022-01-27T16:03:24.235Z"
   },
   {
    "duration": 343,
    "start_time": "2022-01-27T16:05:06.895Z"
   },
   {
    "duration": 729,
    "start_time": "2022-01-27T16:09:48.407Z"
   },
   {
    "duration": 771,
    "start_time": "2022-01-27T16:09:56.767Z"
   },
   {
    "duration": 631,
    "start_time": "2022-01-27T16:10:59.070Z"
   },
   {
    "duration": 18,
    "start_time": "2022-01-27T16:11:34.149Z"
   },
   {
    "duration": 17,
    "start_time": "2022-01-27T16:23:11.941Z"
   },
   {
    "duration": 644,
    "start_time": "2022-01-27T16:23:14.693Z"
   },
   {
    "duration": 182,
    "start_time": "2022-01-27T16:25:47.236Z"
   },
   {
    "duration": 20,
    "start_time": "2022-01-27T16:30:42.742Z"
   },
   {
    "duration": 659,
    "start_time": "2022-01-27T16:30:46.344Z"
   },
   {
    "duration": 361,
    "start_time": "2022-01-27T16:31:18.736Z"
   },
   {
    "duration": 21,
    "start_time": "2022-01-27T16:35:12.914Z"
   },
   {
    "duration": 1515,
    "start_time": "2022-01-27T16:35:37.238Z"
   },
   {
    "duration": 19,
    "start_time": "2022-01-27T16:35:47.849Z"
   },
   {
    "duration": 1087,
    "start_time": "2022-01-27T19:51:51.093Z"
   },
   {
    "duration": 46,
    "start_time": "2022-01-27T19:51:52.182Z"
   },
   {
    "duration": 184,
    "start_time": "2022-01-27T19:51:52.230Z"
   },
   {
    "duration": 147,
    "start_time": "2022-01-27T19:51:52.416Z"
   },
   {
    "duration": 104,
    "start_time": "2022-01-27T19:51:52.564Z"
   },
   {
    "duration": 24,
    "start_time": "2022-01-27T19:51:52.670Z"
   },
   {
    "duration": 14,
    "start_time": "2022-01-27T19:51:52.696Z"
   },
   {
    "duration": 20,
    "start_time": "2022-01-27T19:51:52.713Z"
   },
   {
    "duration": 32,
    "start_time": "2022-01-27T19:51:52.735Z"
   },
   {
    "duration": 123,
    "start_time": "2022-01-27T19:51:52.769Z"
   },
   {
    "duration": 18,
    "start_time": "2022-01-27T19:51:52.894Z"
   },
   {
    "duration": 96,
    "start_time": "2022-01-27T19:51:52.914Z"
   },
   {
    "duration": 16,
    "start_time": "2022-01-27T19:51:53.012Z"
   },
   {
    "duration": 31,
    "start_time": "2022-01-27T19:51:53.030Z"
   },
   {
    "duration": 37,
    "start_time": "2022-01-27T19:51:53.063Z"
   },
   {
    "duration": 22,
    "start_time": "2022-01-27T19:51:53.102Z"
   },
   {
    "duration": 30,
    "start_time": "2022-01-27T19:51:53.126Z"
   },
   {
    "duration": 15,
    "start_time": "2022-01-27T19:51:53.157Z"
   },
   {
    "duration": 39,
    "start_time": "2022-01-27T19:51:53.174Z"
   },
   {
    "duration": 17,
    "start_time": "2022-01-27T19:51:53.214Z"
   },
   {
    "duration": 25,
    "start_time": "2022-01-27T19:51:53.233Z"
   },
   {
    "duration": 13,
    "start_time": "2022-01-27T19:51:53.260Z"
   },
   {
    "duration": 27,
    "start_time": "2022-01-27T19:51:53.276Z"
   },
   {
    "duration": 36,
    "start_time": "2022-01-27T19:51:53.305Z"
   },
   {
    "duration": 7,
    "start_time": "2022-01-27T19:51:53.342Z"
   },
   {
    "duration": 12,
    "start_time": "2022-01-27T19:51:53.351Z"
   },
   {
    "duration": 45,
    "start_time": "2022-01-27T19:51:53.365Z"
   },
   {
    "duration": 8,
    "start_time": "2022-01-27T19:51:53.412Z"
   },
   {
    "duration": 33,
    "start_time": "2022-01-27T19:51:53.421Z"
   },
   {
    "duration": 35,
    "start_time": "2022-01-27T19:51:53.456Z"
   },
   {
    "duration": 37,
    "start_time": "2022-01-27T19:51:53.493Z"
   },
   {
    "duration": 18,
    "start_time": "2022-01-27T19:51:53.531Z"
   },
   {
    "duration": 276,
    "start_time": "2022-01-27T19:51:53.551Z"
   },
   {
    "duration": 5,
    "start_time": "2022-01-27T19:51:53.829Z"
   },
   {
    "duration": 32,
    "start_time": "2022-01-27T19:51:53.835Z"
   },
   {
    "duration": 263,
    "start_time": "2022-01-27T19:51:53.869Z"
   },
   {
    "duration": 313,
    "start_time": "2022-01-27T19:51:54.134Z"
   },
   {
    "duration": 420,
    "start_time": "2022-01-27T19:51:54.449Z"
   },
   {
    "duration": 12,
    "start_time": "2022-01-27T19:51:54.870Z"
   },
   {
    "duration": 428,
    "start_time": "2022-01-27T19:51:54.883Z"
   },
   {
    "duration": 11,
    "start_time": "2022-01-27T19:51:55.313Z"
   },
   {
    "duration": 451,
    "start_time": "2022-01-27T19:51:55.325Z"
   },
   {
    "duration": 11,
    "start_time": "2022-01-27T19:51:55.777Z"
   },
   {
    "duration": 516,
    "start_time": "2022-01-27T19:51:55.798Z"
   },
   {
    "duration": 6,
    "start_time": "2022-01-27T19:58:19.204Z"
   },
   {
    "duration": 5,
    "start_time": "2022-01-27T19:58:23.477Z"
   },
   {
    "duration": 9,
    "start_time": "2022-01-27T19:58:27.948Z"
   },
   {
    "duration": 5,
    "start_time": "2022-01-27T19:59:57.153Z"
   },
   {
    "duration": 7,
    "start_time": "2022-01-27T20:00:00.480Z"
   },
   {
    "duration": 7,
    "start_time": "2022-01-27T20:00:03.136Z"
   },
   {
    "duration": 1192,
    "start_time": "2022-01-27T20:00:25.411Z"
   },
   {
    "duration": 59,
    "start_time": "2022-01-27T20:00:26.605Z"
   },
   {
    "duration": 189,
    "start_time": "2022-01-27T20:00:26.666Z"
   },
   {
    "duration": 155,
    "start_time": "2022-01-27T20:00:26.857Z"
   },
   {
    "duration": 110,
    "start_time": "2022-01-27T20:00:27.014Z"
   },
   {
    "duration": 25,
    "start_time": "2022-01-27T20:00:27.126Z"
   },
   {
    "duration": 7,
    "start_time": "2022-01-27T20:00:27.152Z"
   },
   {
    "duration": 6,
    "start_time": "2022-01-27T20:00:27.161Z"
   },
   {
    "duration": 29,
    "start_time": "2022-01-27T20:00:27.169Z"
   },
   {
    "duration": 137,
    "start_time": "2022-01-27T20:00:27.200Z"
   },
   {
    "duration": 19,
    "start_time": "2022-01-27T20:00:27.339Z"
   },
   {
    "duration": 117,
    "start_time": "2022-01-27T20:00:27.360Z"
   },
   {
    "duration": 27,
    "start_time": "2022-01-27T20:00:27.479Z"
   },
   {
    "duration": 35,
    "start_time": "2022-01-27T20:00:27.507Z"
   },
   {
    "duration": 14,
    "start_time": "2022-01-27T20:00:27.543Z"
   },
   {
    "duration": 51,
    "start_time": "2022-01-27T20:00:27.559Z"
   },
   {
    "duration": 29,
    "start_time": "2022-01-27T20:00:27.611Z"
   },
   {
    "duration": 16,
    "start_time": "2022-01-27T20:00:27.642Z"
   },
   {
    "duration": 40,
    "start_time": "2022-01-27T20:00:27.660Z"
   },
   {
    "duration": 18,
    "start_time": "2022-01-27T20:00:27.702Z"
   },
   {
    "duration": 24,
    "start_time": "2022-01-27T20:00:27.722Z"
   },
   {
    "duration": 15,
    "start_time": "2022-01-27T20:00:27.747Z"
   },
   {
    "duration": 36,
    "start_time": "2022-01-27T20:00:27.765Z"
   },
   {
    "duration": 21,
    "start_time": "2022-01-27T20:00:27.804Z"
   },
   {
    "duration": 8,
    "start_time": "2022-01-27T20:00:27.828Z"
   },
   {
    "duration": 5,
    "start_time": "2022-01-27T20:00:27.838Z"
   },
   {
    "duration": 25,
    "start_time": "2022-01-27T20:00:27.845Z"
   },
   {
    "duration": 6,
    "start_time": "2022-01-27T20:00:27.898Z"
   },
   {
    "duration": 10,
    "start_time": "2022-01-27T20:00:27.906Z"
   },
   {
    "duration": 6,
    "start_time": "2022-01-27T20:00:27.918Z"
   },
   {
    "duration": 10,
    "start_time": "2022-01-27T20:00:27.926Z"
   },
   {
    "duration": 13,
    "start_time": "2022-01-27T20:00:27.938Z"
   },
   {
    "duration": 4,
    "start_time": "2022-01-27T20:00:27.953Z"
   },
   {
    "duration": 296,
    "start_time": "2022-01-27T20:00:27.998Z"
   },
   {
    "duration": 6,
    "start_time": "2022-01-27T20:00:28.296Z"
   },
   {
    "duration": 11,
    "start_time": "2022-01-27T20:00:28.304Z"
   },
   {
    "duration": 310,
    "start_time": "2022-01-27T20:00:28.316Z"
   },
   {
    "duration": 385,
    "start_time": "2022-01-27T20:00:28.628Z"
   },
   {
    "duration": 456,
    "start_time": "2022-01-27T20:00:29.015Z"
   },
   {
    "duration": 12,
    "start_time": "2022-01-27T20:00:29.473Z"
   },
   {
    "duration": 489,
    "start_time": "2022-01-27T20:00:29.487Z"
   },
   {
    "duration": 21,
    "start_time": "2022-01-27T20:00:29.978Z"
   },
   {
    "duration": 484,
    "start_time": "2022-01-27T20:00:30.001Z"
   },
   {
    "duration": 14,
    "start_time": "2022-01-27T20:00:30.487Z"
   },
   {
    "duration": 563,
    "start_time": "2022-01-27T20:00:30.503Z"
   },
   {
    "duration": 6774,
    "start_time": "2022-01-27T20:02:50.270Z"
   },
   {
    "duration": 1080,
    "start_time": "2022-01-27T20:03:36.601Z"
   },
   {
    "duration": 40,
    "start_time": "2022-01-27T20:03:37.683Z"
   },
   {
    "duration": 182,
    "start_time": "2022-01-27T20:03:37.726Z"
   },
   {
    "duration": 144,
    "start_time": "2022-01-27T20:03:37.910Z"
   },
   {
    "duration": 106,
    "start_time": "2022-01-27T20:03:38.056Z"
   },
   {
    "duration": 25,
    "start_time": "2022-01-27T20:03:38.163Z"
   },
   {
    "duration": 12,
    "start_time": "2022-01-27T20:03:38.190Z"
   },
   {
    "duration": 5,
    "start_time": "2022-01-27T20:03:38.205Z"
   },
   {
    "duration": 15,
    "start_time": "2022-01-27T20:03:38.212Z"
   },
   {
    "duration": 139,
    "start_time": "2022-01-27T20:03:38.229Z"
   },
   {
    "duration": 28,
    "start_time": "2022-01-27T20:03:38.370Z"
   },
   {
    "duration": 85,
    "start_time": "2022-01-27T20:03:38.400Z"
   },
   {
    "duration": 24,
    "start_time": "2022-01-27T20:03:38.487Z"
   },
   {
    "duration": 31,
    "start_time": "2022-01-27T20:03:38.512Z"
   },
   {
    "duration": 11,
    "start_time": "2022-01-27T20:03:38.545Z"
   },
   {
    "duration": 49,
    "start_time": "2022-01-27T20:03:38.558Z"
   },
   {
    "duration": 27,
    "start_time": "2022-01-27T20:03:38.608Z"
   },
   {
    "duration": 15,
    "start_time": "2022-01-27T20:03:38.637Z"
   },
   {
    "duration": 18,
    "start_time": "2022-01-27T20:03:38.653Z"
   },
   {
    "duration": 39,
    "start_time": "2022-01-27T20:03:38.673Z"
   },
   {
    "duration": 25,
    "start_time": "2022-01-27T20:03:38.713Z"
   },
   {
    "duration": 13,
    "start_time": "2022-01-27T20:03:38.740Z"
   },
   {
    "duration": 10,
    "start_time": "2022-01-27T20:03:38.756Z"
   },
   {
    "duration": 48,
    "start_time": "2022-01-27T20:03:38.768Z"
   },
   {
    "duration": 7,
    "start_time": "2022-01-27T20:03:38.818Z"
   },
   {
    "duration": 5,
    "start_time": "2022-01-27T20:03:38.827Z"
   },
   {
    "duration": 22,
    "start_time": "2022-01-27T20:03:38.833Z"
   },
   {
    "duration": 5,
    "start_time": "2022-01-27T20:03:38.857Z"
   },
   {
    "duration": 37,
    "start_time": "2022-01-27T20:03:38.864Z"
   },
   {
    "duration": 11,
    "start_time": "2022-01-27T20:03:38.903Z"
   },
   {
    "duration": 11,
    "start_time": "2022-01-27T20:03:38.915Z"
   },
   {
    "duration": 11,
    "start_time": "2022-01-27T20:03:38.928Z"
   },
   {
    "duration": 4,
    "start_time": "2022-01-27T20:03:38.940Z"
   },
   {
    "duration": 278,
    "start_time": "2022-01-27T20:03:38.946Z"
   },
   {
    "duration": 6,
    "start_time": "2022-01-27T20:03:39.225Z"
   },
   {
    "duration": 11,
    "start_time": "2022-01-27T20:03:39.232Z"
   },
   {
    "duration": 289,
    "start_time": "2022-01-27T20:03:39.244Z"
   },
   {
    "duration": 346,
    "start_time": "2022-01-27T20:03:39.535Z"
   },
   {
    "duration": 419,
    "start_time": "2022-01-27T20:03:39.883Z"
   },
   {
    "duration": 11,
    "start_time": "2022-01-27T20:03:40.304Z"
   },
   {
    "duration": 455,
    "start_time": "2022-01-27T20:03:40.317Z"
   },
   {
    "duration": 11,
    "start_time": "2022-01-27T20:03:40.774Z"
   },
   {
    "duration": 433,
    "start_time": "2022-01-27T20:03:40.787Z"
   },
   {
    "duration": 11,
    "start_time": "2022-01-27T20:03:41.222Z"
   },
   {
    "duration": 520,
    "start_time": "2022-01-27T20:03:41.235Z"
   },
   {
    "duration": 7,
    "start_time": "2022-01-27T20:06:10.916Z"
   },
   {
    "duration": 9,
    "start_time": "2022-01-27T20:06:13.793Z"
   },
   {
    "duration": 1042,
    "start_time": "2022-01-27T20:06:28.740Z"
   },
   {
    "duration": 42,
    "start_time": "2022-01-27T20:06:29.785Z"
   },
   {
    "duration": 183,
    "start_time": "2022-01-27T20:06:29.829Z"
   },
   {
    "duration": 152,
    "start_time": "2022-01-27T20:06:30.014Z"
   },
   {
    "duration": 112,
    "start_time": "2022-01-27T20:06:30.168Z"
   },
   {
    "duration": 26,
    "start_time": "2022-01-27T20:06:30.282Z"
   },
   {
    "duration": 27,
    "start_time": "2022-01-27T20:06:30.310Z"
   },
   {
    "duration": 26,
    "start_time": "2022-01-27T20:06:30.340Z"
   },
   {
    "duration": 29,
    "start_time": "2022-01-27T20:06:30.368Z"
   },
   {
    "duration": 133,
    "start_time": "2022-01-27T20:06:30.398Z"
   },
   {
    "duration": 19,
    "start_time": "2022-01-27T20:06:30.533Z"
   },
   {
    "duration": 100,
    "start_time": "2022-01-27T20:06:30.554Z"
   },
   {
    "duration": 23,
    "start_time": "2022-01-27T20:06:30.657Z"
   },
   {
    "duration": 48,
    "start_time": "2022-01-27T20:06:30.682Z"
   },
   {
    "duration": 34,
    "start_time": "2022-01-27T20:06:30.732Z"
   },
   {
    "duration": 49,
    "start_time": "2022-01-27T20:06:30.768Z"
   },
   {
    "duration": 37,
    "start_time": "2022-01-27T20:06:30.819Z"
   },
   {
    "duration": 14,
    "start_time": "2022-01-27T20:06:30.858Z"
   },
   {
    "duration": 25,
    "start_time": "2022-01-27T20:06:30.874Z"
   },
   {
    "duration": 27,
    "start_time": "2022-01-27T20:06:30.901Z"
   },
   {
    "duration": 23,
    "start_time": "2022-01-27T20:06:30.929Z"
   },
   {
    "duration": 12,
    "start_time": "2022-01-27T20:06:30.954Z"
   },
   {
    "duration": 30,
    "start_time": "2022-01-27T20:06:30.969Z"
   },
   {
    "duration": 45,
    "start_time": "2022-01-27T20:06:31.001Z"
   },
   {
    "duration": 16,
    "start_time": "2022-01-27T20:06:31.048Z"
   },
   {
    "duration": 18,
    "start_time": "2022-01-27T20:06:31.066Z"
   },
   {
    "duration": 37,
    "start_time": "2022-01-27T20:06:31.086Z"
   },
   {
    "duration": 11,
    "start_time": "2022-01-27T20:06:31.125Z"
   },
   {
    "duration": 25,
    "start_time": "2022-01-27T20:06:31.138Z"
   },
   {
    "duration": 39,
    "start_time": "2022-01-27T20:06:31.165Z"
   },
   {
    "duration": 6709,
    "start_time": "2022-01-27T20:06:31.206Z"
   },
   {
    "duration": -195,
    "start_time": "2022-01-27T20:06:38.111Z"
   },
   {
    "duration": -197,
    "start_time": "2022-01-27T20:06:38.115Z"
   },
   {
    "duration": -201,
    "start_time": "2022-01-27T20:06:38.120Z"
   },
   {
    "duration": -206,
    "start_time": "2022-01-27T20:06:38.126Z"
   },
   {
    "duration": -210,
    "start_time": "2022-01-27T20:06:38.131Z"
   },
   {
    "duration": -213,
    "start_time": "2022-01-27T20:06:38.135Z"
   },
   {
    "duration": -215,
    "start_time": "2022-01-27T20:06:38.138Z"
   },
   {
    "duration": -218,
    "start_time": "2022-01-27T20:06:38.142Z"
   },
   {
    "duration": -220,
    "start_time": "2022-01-27T20:06:38.146Z"
   },
   {
    "duration": -223,
    "start_time": "2022-01-27T20:06:38.150Z"
   },
   {
    "duration": -235,
    "start_time": "2022-01-27T20:06:38.163Z"
   },
   {
    "duration": -238,
    "start_time": "2022-01-27T20:06:38.167Z"
   },
   {
    "duration": -241,
    "start_time": "2022-01-27T20:06:38.171Z"
   },
   {
    "duration": -248,
    "start_time": "2022-01-27T20:06:38.179Z"
   },
   {
    "duration": 1093,
    "start_time": "2022-01-27T20:08:26.188Z"
   },
   {
    "duration": 42,
    "start_time": "2022-01-27T20:08:27.283Z"
   },
   {
    "duration": 187,
    "start_time": "2022-01-27T20:08:27.328Z"
   },
   {
    "duration": 158,
    "start_time": "2022-01-27T20:08:27.517Z"
   },
   {
    "duration": 110,
    "start_time": "2022-01-27T20:08:27.677Z"
   },
   {
    "duration": 23,
    "start_time": "2022-01-27T20:08:27.789Z"
   },
   {
    "duration": 10,
    "start_time": "2022-01-27T20:08:27.814Z"
   },
   {
    "duration": 15,
    "start_time": "2022-01-27T20:08:27.826Z"
   },
   {
    "duration": 28,
    "start_time": "2022-01-27T20:08:27.843Z"
   },
   {
    "duration": 142,
    "start_time": "2022-01-27T20:08:27.873Z"
   },
   {
    "duration": 17,
    "start_time": "2022-01-27T20:08:28.017Z"
   },
   {
    "duration": 105,
    "start_time": "2022-01-27T20:08:28.036Z"
   },
   {
    "duration": 16,
    "start_time": "2022-01-27T20:08:28.143Z"
   },
   {
    "duration": 44,
    "start_time": "2022-01-27T20:08:28.161Z"
   },
   {
    "duration": 12,
    "start_time": "2022-01-27T20:08:28.207Z"
   },
   {
    "duration": 25,
    "start_time": "2022-01-27T20:08:28.221Z"
   },
   {
    "duration": 55,
    "start_time": "2022-01-27T20:08:28.248Z"
   },
   {
    "duration": 16,
    "start_time": "2022-01-27T20:08:28.304Z"
   },
   {
    "duration": 16,
    "start_time": "2022-01-27T20:08:28.322Z"
   },
   {
    "duration": 17,
    "start_time": "2022-01-27T20:08:28.340Z"
   },
   {
    "duration": 47,
    "start_time": "2022-01-27T20:08:28.359Z"
   },
   {
    "duration": 13,
    "start_time": "2022-01-27T20:08:28.408Z"
   },
   {
    "duration": 10,
    "start_time": "2022-01-27T20:08:28.424Z"
   },
   {
    "duration": 22,
    "start_time": "2022-01-27T20:08:28.437Z"
   },
   {
    "duration": 7,
    "start_time": "2022-01-27T20:08:28.461Z"
   },
   {
    "duration": 4,
    "start_time": "2022-01-27T20:08:28.499Z"
   },
   {
    "duration": 26,
    "start_time": "2022-01-27T20:08:28.505Z"
   },
   {
    "duration": 9,
    "start_time": "2022-01-27T20:08:28.532Z"
   },
   {
    "duration": 8,
    "start_time": "2022-01-27T20:08:28.543Z"
   },
   {
    "duration": 7,
    "start_time": "2022-01-27T20:08:28.553Z"
   },
   {
    "duration": 44,
    "start_time": "2022-01-27T20:08:28.561Z"
   },
   {
    "duration": 11,
    "start_time": "2022-01-27T20:08:28.607Z"
   },
   {
    "duration": 4,
    "start_time": "2022-01-27T20:08:28.620Z"
   },
   {
    "duration": 274,
    "start_time": "2022-01-27T20:08:28.625Z"
   },
   {
    "duration": 6,
    "start_time": "2022-01-27T20:08:28.901Z"
   },
   {
    "duration": 25,
    "start_time": "2022-01-27T20:08:28.908Z"
   },
   {
    "duration": 300,
    "start_time": "2022-01-27T20:08:28.935Z"
   },
   {
    "duration": 353,
    "start_time": "2022-01-27T20:08:29.236Z"
   },
   {
    "duration": 463,
    "start_time": "2022-01-27T20:08:29.591Z"
   },
   {
    "duration": 13,
    "start_time": "2022-01-27T20:08:30.056Z"
   },
   {
    "duration": 486,
    "start_time": "2022-01-27T20:08:30.070Z"
   },
   {
    "duration": 13,
    "start_time": "2022-01-27T20:08:30.558Z"
   },
   {
    "duration": 560,
    "start_time": "2022-01-27T20:08:30.572Z"
   },
   {
    "duration": 369,
    "start_time": "2022-01-27T20:08:31.134Z"
   },
   {
    "duration": -50,
    "start_time": "2022-01-27T20:08:31.555Z"
   },
   {
    "duration": 12,
    "start_time": "2022-01-27T20:08:45.469Z"
   },
   {
    "duration": 445,
    "start_time": "2022-01-27T20:08:59.464Z"
   },
   {
    "duration": 449,
    "start_time": "2022-01-27T20:09:16.471Z"
   },
   {
    "duration": 225,
    "start_time": "2022-01-27T20:12:10.278Z"
   },
   {
    "duration": 670,
    "start_time": "2022-01-27T20:31:35.090Z"
   },
   {
    "duration": 387,
    "start_time": "2022-01-27T20:37:16.893Z"
   },
   {
    "duration": 396,
    "start_time": "2022-01-27T20:38:55.060Z"
   },
   {
    "duration": 411,
    "start_time": "2022-01-27T20:42:34.471Z"
   },
   {
    "duration": 528,
    "start_time": "2022-01-27T20:44:05.170Z"
   },
   {
    "duration": 393,
    "start_time": "2022-01-27T20:46:44.091Z"
   },
   {
    "duration": 3,
    "start_time": "2022-01-27T20:59:27.649Z"
   },
   {
    "duration": 27,
    "start_time": "2022-01-27T21:16:54.196Z"
   },
   {
    "duration": 25,
    "start_time": "2022-01-27T21:17:34.464Z"
   },
   {
    "duration": 9,
    "start_time": "2022-01-27T21:19:02.895Z"
   },
   {
    "duration": 5,
    "start_time": "2022-01-27T21:35:09.086Z"
   },
   {
    "duration": 115,
    "start_time": "2022-01-27T21:37:24.573Z"
   },
   {
    "duration": 12,
    "start_time": "2022-01-27T21:41:16.520Z"
   },
   {
    "duration": 13,
    "start_time": "2022-01-27T21:42:02.452Z"
   },
   {
    "duration": 6,
    "start_time": "2022-01-27T21:44:21.411Z"
   },
   {
    "duration": 317,
    "start_time": "2022-01-28T07:37:43.067Z"
   },
   {
    "duration": 1387,
    "start_time": "2022-01-28T07:37:51.916Z"
   },
   {
    "duration": 53,
    "start_time": "2022-01-28T07:37:53.306Z"
   },
   {
    "duration": 251,
    "start_time": "2022-01-28T07:37:53.362Z"
   },
   {
    "duration": 227,
    "start_time": "2022-01-28T07:37:53.616Z"
   },
   {
    "duration": 141,
    "start_time": "2022-01-28T07:37:53.847Z"
   },
   {
    "duration": 30,
    "start_time": "2022-01-28T07:37:53.991Z"
   },
   {
    "duration": 10,
    "start_time": "2022-01-28T07:37:54.034Z"
   },
   {
    "duration": 7,
    "start_time": "2022-01-28T07:37:54.049Z"
   },
   {
    "duration": 26,
    "start_time": "2022-01-28T07:37:54.058Z"
   },
   {
    "duration": 225,
    "start_time": "2022-01-28T07:37:54.087Z"
   },
   {
    "duration": 37,
    "start_time": "2022-01-28T07:37:54.314Z"
   },
   {
    "duration": 144,
    "start_time": "2022-01-28T07:37:54.354Z"
   },
   {
    "duration": 39,
    "start_time": "2022-01-28T07:37:54.501Z"
   },
   {
    "duration": 54,
    "start_time": "2022-01-28T07:37:54.543Z"
   },
   {
    "duration": 39,
    "start_time": "2022-01-28T07:37:54.599Z"
   },
   {
    "duration": 39,
    "start_time": "2022-01-28T07:37:54.641Z"
   },
   {
    "duration": 54,
    "start_time": "2022-01-28T07:37:54.682Z"
   },
   {
    "duration": 24,
    "start_time": "2022-01-28T07:37:54.739Z"
   },
   {
    "duration": 23,
    "start_time": "2022-01-28T07:37:54.765Z"
   },
   {
    "duration": 59,
    "start_time": "2022-01-28T07:37:54.791Z"
   },
   {
    "duration": 31,
    "start_time": "2022-01-28T07:37:54.853Z"
   },
   {
    "duration": 20,
    "start_time": "2022-01-28T07:37:54.887Z"
   },
   {
    "duration": 21,
    "start_time": "2022-01-28T07:37:54.933Z"
   },
   {
    "duration": 32,
    "start_time": "2022-01-28T07:37:54.957Z"
   },
   {
    "duration": 10,
    "start_time": "2022-01-28T07:37:54.991Z"
   },
   {
    "duration": 33,
    "start_time": "2022-01-28T07:37:55.004Z"
   },
   {
    "duration": 41,
    "start_time": "2022-01-28T07:37:55.040Z"
   },
   {
    "duration": 12,
    "start_time": "2022-01-28T07:37:55.083Z"
   },
   {
    "duration": 43,
    "start_time": "2022-01-28T07:37:55.097Z"
   },
   {
    "duration": 9,
    "start_time": "2022-01-28T07:37:55.145Z"
   },
   {
    "duration": 17,
    "start_time": "2022-01-28T07:37:55.157Z"
   },
   {
    "duration": 17,
    "start_time": "2022-01-28T07:37:55.176Z"
   },
   {
    "duration": 5,
    "start_time": "2022-01-28T07:37:55.196Z"
   },
   {
    "duration": 467,
    "start_time": "2022-01-28T07:37:55.203Z"
   },
   {
    "duration": 8,
    "start_time": "2022-01-28T07:37:55.673Z"
   },
   {
    "duration": 11,
    "start_time": "2022-01-28T07:37:55.683Z"
   },
   {
    "duration": 368,
    "start_time": "2022-01-28T07:37:55.696Z"
   },
   {
    "duration": 554,
    "start_time": "2022-01-28T07:37:56.066Z"
   },
   {
    "duration": 984,
    "start_time": "2022-01-28T07:37:56.631Z"
   },
   {
    "duration": 646,
    "start_time": "2022-01-28T07:37:57.617Z"
   },
   {
    "duration": 17,
    "start_time": "2022-01-28T07:37:58.265Z"
   },
   {
    "duration": 695,
    "start_time": "2022-01-28T07:37:58.284Z"
   },
   {
    "duration": 719,
    "start_time": "2022-01-28T07:37:58.982Z"
   },
   {
    "duration": 31,
    "start_time": "2022-01-28T07:37:59.703Z"
   },
   {
    "duration": 681,
    "start_time": "2022-01-28T07:37:59.736Z"
   },
   {
    "duration": 642,
    "start_time": "2022-01-28T07:38:00.421Z"
   },
   {
    "duration": 21,
    "start_time": "2022-01-28T07:38:01.066Z"
   },
   {
    "duration": 789,
    "start_time": "2022-01-28T07:38:01.090Z"
   },
   {
    "duration": 645,
    "start_time": "2022-01-28T07:38:01.881Z"
   },
   {
    "duration": 24,
    "start_time": "2022-01-28T07:38:02.533Z"
   },
   {
    "duration": 14,
    "start_time": "2022-01-28T07:38:02.559Z"
   },
   {
    "duration": 35,
    "start_time": "2022-01-28T07:38:02.575Z"
   },
   {
    "duration": 682,
    "start_time": "2022-01-28T07:41:07.299Z"
   },
   {
    "duration": 409,
    "start_time": "2022-01-28T08:20:50.284Z"
   },
   {
    "duration": 305,
    "start_time": "2022-01-28T08:21:03.396Z"
   },
   {
    "duration": 26,
    "start_time": "2022-01-28T08:21:48.435Z"
   },
   {
    "duration": 19,
    "start_time": "2022-01-28T08:22:15.787Z"
   },
   {
    "duration": 444,
    "start_time": "2022-01-28T12:29:48.339Z"
   },
   {
    "duration": 1813,
    "start_time": "2022-01-28T12:31:13.586Z"
   },
   {
    "duration": 73,
    "start_time": "2022-01-28T12:31:15.403Z"
   },
   {
    "duration": 342,
    "start_time": "2022-01-28T12:31:15.480Z"
   },
   {
    "duration": 299,
    "start_time": "2022-01-28T12:31:15.826Z"
   },
   {
    "duration": 202,
    "start_time": "2022-01-28T12:31:16.128Z"
   },
   {
    "duration": 33,
    "start_time": "2022-01-28T12:31:16.333Z"
   },
   {
    "duration": 10,
    "start_time": "2022-01-28T12:31:16.368Z"
   },
   {
    "duration": 7,
    "start_time": "2022-01-28T12:31:16.381Z"
   },
   {
    "duration": 24,
    "start_time": "2022-01-28T12:31:16.391Z"
   },
   {
    "duration": 212,
    "start_time": "2022-01-28T12:31:16.417Z"
   },
   {
    "duration": 33,
    "start_time": "2022-01-28T12:31:16.632Z"
   },
   {
    "duration": 144,
    "start_time": "2022-01-28T12:31:16.668Z"
   },
   {
    "duration": 25,
    "start_time": "2022-01-28T12:31:16.815Z"
   },
   {
    "duration": 44,
    "start_time": "2022-01-28T12:31:16.860Z"
   },
   {
    "duration": 17,
    "start_time": "2022-01-28T12:31:16.907Z"
   },
   {
    "duration": 60,
    "start_time": "2022-01-28T12:31:16.927Z"
   },
   {
    "duration": 37,
    "start_time": "2022-01-28T12:31:16.989Z"
   },
   {
    "duration": 40,
    "start_time": "2022-01-28T12:31:17.029Z"
   },
   {
    "duration": 24,
    "start_time": "2022-01-28T12:31:17.071Z"
   },
   {
    "duration": 24,
    "start_time": "2022-01-28T12:31:17.098Z"
   },
   {
    "duration": 61,
    "start_time": "2022-01-28T12:31:17.124Z"
   },
   {
    "duration": 18,
    "start_time": "2022-01-28T12:31:17.187Z"
   },
   {
    "duration": 14,
    "start_time": "2022-01-28T12:31:17.210Z"
   },
   {
    "duration": 57,
    "start_time": "2022-01-28T12:31:17.227Z"
   },
   {
    "duration": 12,
    "start_time": "2022-01-28T12:31:17.286Z"
   },
   {
    "duration": 7,
    "start_time": "2022-01-28T12:31:17.301Z"
   },
   {
    "duration": 67,
    "start_time": "2022-01-28T12:31:17.310Z"
   },
   {
    "duration": 14,
    "start_time": "2022-01-28T12:31:17.379Z"
   },
   {
    "duration": 13,
    "start_time": "2022-01-28T12:31:17.395Z"
   },
   {
    "duration": 8,
    "start_time": "2022-01-28T12:31:17.410Z"
   },
   {
    "duration": 42,
    "start_time": "2022-01-28T12:31:17.420Z"
   },
   {
    "duration": 22,
    "start_time": "2022-01-28T12:31:17.466Z"
   },
   {
    "duration": 7,
    "start_time": "2022-01-28T12:31:17.491Z"
   },
   {
    "duration": 725,
    "start_time": "2022-01-28T12:31:17.501Z"
   },
   {
    "duration": 15,
    "start_time": "2022-01-28T12:31:18.229Z"
   },
   {
    "duration": 479,
    "start_time": "2022-01-28T12:31:18.260Z"
   },
   {
    "duration": 743,
    "start_time": "2022-01-28T12:31:18.743Z"
   },
   {
    "duration": 661,
    "start_time": "2022-01-28T12:31:19.489Z"
   },
   {
    "duration": 601,
    "start_time": "2022-01-28T12:31:20.152Z"
   },
   {
    "duration": 20,
    "start_time": "2022-01-28T12:31:20.755Z"
   },
   {
    "duration": 784,
    "start_time": "2022-01-28T12:31:20.777Z"
   },
   {
    "duration": 689,
    "start_time": "2022-01-28T12:31:21.563Z"
   },
   {
    "duration": 17,
    "start_time": "2022-01-28T12:31:22.255Z"
   },
   {
    "duration": 642,
    "start_time": "2022-01-28T12:31:22.274Z"
   },
   {
    "duration": 614,
    "start_time": "2022-01-28T12:31:22.919Z"
   },
   {
    "duration": 29,
    "start_time": "2022-01-28T12:31:23.535Z"
   },
   {
    "duration": 635,
    "start_time": "2022-01-28T12:31:23.566Z"
   },
   {
    "duration": 598,
    "start_time": "2022-01-28T12:31:24.204Z"
   },
   {
    "duration": 17,
    "start_time": "2022-01-28T12:31:24.804Z"
   },
   {
    "duration": 8,
    "start_time": "2022-01-28T12:31:24.824Z"
   },
   {
    "duration": 25,
    "start_time": "2022-01-28T12:31:24.834Z"
   },
   {
    "duration": 1555,
    "start_time": "2022-01-28T12:43:52.879Z"
   },
   {
    "duration": 70,
    "start_time": "2022-01-28T12:43:54.437Z"
   },
   {
    "duration": 227,
    "start_time": "2022-01-28T12:43:54.511Z"
   },
   {
    "duration": 199,
    "start_time": "2022-01-28T12:43:54.741Z"
   },
   {
    "duration": 145,
    "start_time": "2022-01-28T12:43:54.943Z"
   },
   {
    "duration": 41,
    "start_time": "2022-01-28T12:43:55.091Z"
   },
   {
    "duration": 28,
    "start_time": "2022-01-28T12:43:55.135Z"
   },
   {
    "duration": 12,
    "start_time": "2022-01-28T12:43:55.168Z"
   },
   {
    "duration": 24,
    "start_time": "2022-01-28T12:43:55.187Z"
   },
   {
    "duration": 293,
    "start_time": "2022-01-28T12:43:55.213Z"
   },
   {
    "duration": 24,
    "start_time": "2022-01-28T12:43:55.508Z"
   },
   {
    "duration": 248,
    "start_time": "2022-01-28T12:43:55.535Z"
   },
   {
    "duration": 25,
    "start_time": "2022-01-28T12:43:55.788Z"
   },
   {
    "duration": 72,
    "start_time": "2022-01-28T12:43:55.816Z"
   },
   {
    "duration": 20,
    "start_time": "2022-01-28T12:43:55.890Z"
   },
   {
    "duration": 64,
    "start_time": "2022-01-28T12:43:55.913Z"
   },
   {
    "duration": 58,
    "start_time": "2022-01-28T12:43:55.980Z"
   },
   {
    "duration": 22,
    "start_time": "2022-01-28T12:43:56.040Z"
   },
   {
    "duration": 27,
    "start_time": "2022-01-28T12:43:56.068Z"
   },
   {
    "duration": 25,
    "start_time": "2022-01-28T12:43:56.098Z"
   },
   {
    "duration": 55,
    "start_time": "2022-01-28T12:43:56.125Z"
   },
   {
    "duration": 19,
    "start_time": "2022-01-28T12:43:56.182Z"
   },
   {
    "duration": 14,
    "start_time": "2022-01-28T12:43:56.207Z"
   },
   {
    "duration": 33,
    "start_time": "2022-01-28T12:43:56.259Z"
   },
   {
    "duration": 20,
    "start_time": "2022-01-28T12:43:56.296Z"
   },
   {
    "duration": 6,
    "start_time": "2022-01-28T12:43:56.319Z"
   },
   {
    "duration": 61,
    "start_time": "2022-01-28T12:43:56.327Z"
   },
   {
    "duration": 14,
    "start_time": "2022-01-28T12:43:56.391Z"
   },
   {
    "duration": 11,
    "start_time": "2022-01-28T12:43:56.408Z"
   },
   {
    "duration": 42,
    "start_time": "2022-01-28T12:43:56.421Z"
   },
   {
    "duration": 17,
    "start_time": "2022-01-28T12:43:56.465Z"
   },
   {
    "duration": 24,
    "start_time": "2022-01-28T12:43:56.484Z"
   },
   {
    "duration": 8,
    "start_time": "2022-01-28T12:43:56.511Z"
   },
   {
    "duration": 645,
    "start_time": "2022-01-28T12:43:56.522Z"
   },
   {
    "duration": 13,
    "start_time": "2022-01-28T12:43:57.170Z"
   },
   {
    "duration": 480,
    "start_time": "2022-01-28T12:43:57.187Z"
   },
   {
    "duration": 774,
    "start_time": "2022-01-28T12:43:57.670Z"
   },
   {
    "duration": 944,
    "start_time": "2022-01-28T12:43:58.448Z"
   },
   {
    "duration": 625,
    "start_time": "2022-01-28T12:43:59.394Z"
   },
   {
    "duration": 19,
    "start_time": "2022-01-28T12:44:00.022Z"
   },
   {
    "duration": 943,
    "start_time": "2022-01-28T12:44:00.044Z"
   },
   {
    "duration": 933,
    "start_time": "2022-01-28T12:44:00.991Z"
   },
   {
    "duration": 36,
    "start_time": "2022-01-28T12:44:01.928Z"
   },
   {
    "duration": 732,
    "start_time": "2022-01-28T12:44:01.967Z"
   },
   {
    "duration": 626,
    "start_time": "2022-01-28T12:44:02.702Z"
   },
   {
    "duration": 32,
    "start_time": "2022-01-28T12:44:03.331Z"
   },
   {
    "duration": 652,
    "start_time": "2022-01-28T12:44:03.366Z"
   },
   {
    "duration": 771,
    "start_time": "2022-01-28T12:44:04.022Z"
   },
   {
    "duration": 30,
    "start_time": "2022-01-28T12:44:04.796Z"
   },
   {
    "duration": 32,
    "start_time": "2022-01-28T12:44:04.829Z"
   },
   {
    "duration": 11,
    "start_time": "2022-01-28T12:44:04.865Z"
   },
   {
    "duration": 9,
    "start_time": "2022-01-28T13:00:29.304Z"
   },
   {
    "duration": 1324,
    "start_time": "2022-01-28T14:00:24.212Z"
   },
   {
    "duration": 56,
    "start_time": "2022-01-28T14:00:25.539Z"
   },
   {
    "duration": 262,
    "start_time": "2022-01-28T14:00:25.598Z"
   },
   {
    "duration": 222,
    "start_time": "2022-01-28T14:00:25.864Z"
   },
   {
    "duration": 148,
    "start_time": "2022-01-28T14:00:26.089Z"
   },
   {
    "duration": 34,
    "start_time": "2022-01-28T14:00:26.239Z"
   },
   {
    "duration": 9,
    "start_time": "2022-01-28T14:00:26.275Z"
   },
   {
    "duration": 5,
    "start_time": "2022-01-28T14:00:26.286Z"
   },
   {
    "duration": 22,
    "start_time": "2022-01-28T14:00:26.295Z"
   },
   {
    "duration": 216,
    "start_time": "2022-01-28T14:00:26.319Z"
   },
   {
    "duration": 30,
    "start_time": "2022-01-28T14:00:26.537Z"
   },
   {
    "duration": 139,
    "start_time": "2022-01-28T14:00:26.569Z"
   },
   {
    "duration": 22,
    "start_time": "2022-01-28T14:00:26.711Z"
   },
   {
    "duration": 66,
    "start_time": "2022-01-28T14:00:26.735Z"
   },
   {
    "duration": 18,
    "start_time": "2022-01-28T14:00:26.803Z"
   },
   {
    "duration": 55,
    "start_time": "2022-01-28T14:00:26.823Z"
   },
   {
    "duration": 45,
    "start_time": "2022-01-28T14:00:26.881Z"
   },
   {
    "duration": 42,
    "start_time": "2022-01-28T14:00:26.929Z"
   },
   {
    "duration": 26,
    "start_time": "2022-01-28T14:00:26.974Z"
   },
   {
    "duration": 26,
    "start_time": "2022-01-28T14:00:27.002Z"
   },
   {
    "duration": 33,
    "start_time": "2022-01-28T14:00:27.058Z"
   },
   {
    "duration": 22,
    "start_time": "2022-01-28T14:00:27.093Z"
   },
   {
    "duration": 45,
    "start_time": "2022-01-28T14:00:27.119Z"
   },
   {
    "duration": 31,
    "start_time": "2022-01-28T14:00:27.166Z"
   },
   {
    "duration": 17,
    "start_time": "2022-01-28T14:00:27.200Z"
   },
   {
    "duration": 42,
    "start_time": "2022-01-28T14:00:27.219Z"
   },
   {
    "duration": 33,
    "start_time": "2022-01-28T14:00:27.270Z"
   },
   {
    "duration": 16,
    "start_time": "2022-01-28T14:00:27.307Z"
   },
   {
    "duration": 39,
    "start_time": "2022-01-28T14:00:27.326Z"
   },
   {
    "duration": 8,
    "start_time": "2022-01-28T14:00:27.368Z"
   },
   {
    "duration": 12,
    "start_time": "2022-01-28T14:00:27.378Z"
   },
   {
    "duration": 15,
    "start_time": "2022-01-28T14:00:27.392Z"
   },
   {
    "duration": 5,
    "start_time": "2022-01-28T14:00:27.409Z"
   },
   {
    "duration": 448,
    "start_time": "2022-01-28T14:00:27.459Z"
   },
   {
    "duration": 12,
    "start_time": "2022-01-28T14:00:27.910Z"
   },
   {
    "duration": 355,
    "start_time": "2022-01-28T14:00:27.925Z"
   },
   {
    "duration": 813,
    "start_time": "2022-01-28T14:00:28.282Z"
   },
   {
    "duration": 720,
    "start_time": "2022-01-28T14:00:29.099Z"
   },
   {
    "duration": 637,
    "start_time": "2022-01-28T14:00:29.822Z"
   },
   {
    "duration": 18,
    "start_time": "2022-01-28T14:00:30.462Z"
   },
   {
    "duration": 713,
    "start_time": "2022-01-28T14:00:30.483Z"
   },
   {
    "duration": 738,
    "start_time": "2022-01-28T14:00:31.199Z"
   },
   {
    "duration": 29,
    "start_time": "2022-01-28T14:00:31.941Z"
   },
   {
    "duration": 669,
    "start_time": "2022-01-28T14:00:31.973Z"
   },
   {
    "duration": 686,
    "start_time": "2022-01-28T14:00:32.645Z"
   },
   {
    "duration": 27,
    "start_time": "2022-01-28T14:00:33.334Z"
   },
   {
    "duration": 708,
    "start_time": "2022-01-28T14:00:33.363Z"
   },
   {
    "duration": 666,
    "start_time": "2022-01-28T14:00:34.074Z"
   },
   {
    "duration": 29,
    "start_time": "2022-01-28T14:00:34.742Z"
   },
   {
    "duration": 7,
    "start_time": "2022-01-28T14:00:34.774Z"
   },
   {
    "duration": 9,
    "start_time": "2022-01-28T14:00:34.784Z"
   },
   {
    "duration": 89,
    "start_time": "2022-01-28T16:35:40.942Z"
   },
   {
    "duration": 1342,
    "start_time": "2022-01-28T19:35:17.489Z"
   },
   {
    "duration": 61,
    "start_time": "2022-01-28T19:35:18.835Z"
   },
   {
    "duration": 337,
    "start_time": "2022-01-28T19:35:18.901Z"
   },
   {
    "duration": 218,
    "start_time": "2022-01-28T19:35:19.250Z"
   },
   {
    "duration": 150,
    "start_time": "2022-01-28T19:35:19.472Z"
   },
   {
    "duration": 38,
    "start_time": "2022-01-28T19:35:19.624Z"
   },
   {
    "duration": 10,
    "start_time": "2022-01-28T19:35:19.665Z"
   },
   {
    "duration": 8,
    "start_time": "2022-01-28T19:35:19.679Z"
   },
   {
    "duration": 62,
    "start_time": "2022-01-28T19:35:19.690Z"
   },
   {
    "duration": 21,
    "start_time": "2022-01-28T19:35:57.029Z"
   },
   {
    "duration": 165,
    "start_time": "2022-01-28T19:36:05.995Z"
   },
   {
    "duration": 19,
    "start_time": "2022-01-28T19:36:11.777Z"
   },
   {
    "duration": 350,
    "start_time": "2022-01-28T19:52:40.030Z"
   },
   {
    "duration": 5,
    "start_time": "2022-01-28T19:52:44.975Z"
   },
   {
    "duration": 51,
    "start_time": "2022-01-28T19:52:44.982Z"
   },
   {
    "duration": 233,
    "start_time": "2022-01-28T19:52:45.036Z"
   },
   {
    "duration": 198,
    "start_time": "2022-01-28T19:52:45.272Z"
   },
   {
    "duration": 156,
    "start_time": "2022-01-28T19:52:45.473Z"
   },
   {
    "duration": 37,
    "start_time": "2022-01-28T19:52:45.632Z"
   },
   {
    "duration": 8,
    "start_time": "2022-01-28T19:52:45.673Z"
   },
   {
    "duration": 5,
    "start_time": "2022-01-28T19:52:45.684Z"
   },
   {
    "duration": 22,
    "start_time": "2022-01-28T19:52:45.691Z"
   },
   {
    "duration": 159,
    "start_time": "2022-01-28T19:52:45.749Z"
   },
   {
    "duration": 40,
    "start_time": "2022-01-28T19:52:45.910Z"
   },
   {
    "duration": 146,
    "start_time": "2022-01-28T19:52:45.952Z"
   },
   {
    "duration": 23,
    "start_time": "2022-01-28T19:52:46.100Z"
   },
   {
    "duration": 71,
    "start_time": "2022-01-28T19:52:46.125Z"
   },
   {
    "duration": 18,
    "start_time": "2022-01-28T19:52:46.198Z"
   },
   {
    "duration": 53,
    "start_time": "2022-01-28T19:52:46.219Z"
   },
   {
    "duration": 37,
    "start_time": "2022-01-28T19:52:46.275Z"
   },
   {
    "duration": 44,
    "start_time": "2022-01-28T19:52:46.315Z"
   },
   {
    "duration": 25,
    "start_time": "2022-01-28T19:52:46.363Z"
   },
   {
    "duration": 26,
    "start_time": "2022-01-28T19:52:46.392Z"
   },
   {
    "duration": 51,
    "start_time": "2022-01-28T19:52:46.420Z"
   },
   {
    "duration": 17,
    "start_time": "2022-01-28T19:52:46.474Z"
   },
   {
    "duration": 15,
    "start_time": "2022-01-28T19:52:46.493Z"
   },
   {
    "duration": 63,
    "start_time": "2022-01-28T19:52:46.511Z"
   },
   {
    "duration": 11,
    "start_time": "2022-01-28T19:52:46.576Z"
   },
   {
    "duration": 7,
    "start_time": "2022-01-28T19:52:46.589Z"
   },
   {
    "duration": 62,
    "start_time": "2022-01-28T19:52:46.598Z"
   },
   {
    "duration": 16,
    "start_time": "2022-01-28T19:52:46.662Z"
   },
   {
    "duration": 6954,
    "start_time": "2022-01-28T19:53:15.851Z"
   },
   {
    "duration": -131,
    "start_time": "2022-01-28T19:53:22.939Z"
   },
   {
    "duration": 6196,
    "start_time": "2022-01-28T19:53:57.938Z"
   },
   {
    "duration": 7,
    "start_time": "2022-01-28T19:54:53.670Z"
   },
   {
    "duration": 7759,
    "start_time": "2022-01-28T19:55:33.001Z"
   },
   {
    "duration": 6138,
    "start_time": "2022-01-28T19:56:06.818Z"
   },
   {
    "duration": 5,
    "start_time": "2022-01-28T19:56:22.856Z"
   },
   {
    "duration": 54,
    "start_time": "2022-01-28T19:56:22.863Z"
   },
   {
    "duration": 236,
    "start_time": "2022-01-28T19:56:22.922Z"
   },
   {
    "duration": 204,
    "start_time": "2022-01-28T19:56:23.161Z"
   },
   {
    "duration": 163,
    "start_time": "2022-01-28T19:56:23.368Z"
   },
   {
    "duration": 54,
    "start_time": "2022-01-28T19:56:23.534Z"
   },
   {
    "duration": 11,
    "start_time": "2022-01-28T19:56:23.591Z"
   },
   {
    "duration": 10,
    "start_time": "2022-01-28T19:56:23.607Z"
   },
   {
    "duration": 43,
    "start_time": "2022-01-28T19:56:23.621Z"
   },
   {
    "duration": 285,
    "start_time": "2022-01-28T19:56:23.668Z"
   },
   {
    "duration": 22,
    "start_time": "2022-01-28T19:56:23.956Z"
   },
   {
    "duration": 223,
    "start_time": "2022-01-28T19:56:23.981Z"
   },
   {
    "duration": 42,
    "start_time": "2022-01-28T19:56:24.207Z"
   },
   {
    "duration": 44,
    "start_time": "2022-01-28T19:56:24.252Z"
   },
   {
    "duration": 17,
    "start_time": "2022-01-28T19:56:24.298Z"
   },
   {
    "duration": 58,
    "start_time": "2022-01-28T19:56:24.317Z"
   },
   {
    "duration": 32,
    "start_time": "2022-01-28T19:56:24.377Z"
   },
   {
    "duration": 44,
    "start_time": "2022-01-28T19:56:24.412Z"
   },
   {
    "duration": 23,
    "start_time": "2022-01-28T19:56:24.459Z"
   },
   {
    "duration": 24,
    "start_time": "2022-01-28T19:56:24.484Z"
   },
   {
    "duration": 53,
    "start_time": "2022-01-28T19:56:24.510Z"
   },
   {
    "duration": 19,
    "start_time": "2022-01-28T19:56:24.566Z"
   },
   {
    "duration": 13,
    "start_time": "2022-01-28T19:56:24.589Z"
   },
   {
    "duration": 64,
    "start_time": "2022-01-28T19:56:24.605Z"
   },
   {
    "duration": 12,
    "start_time": "2022-01-28T19:56:24.671Z"
   },
   {
    "duration": 14,
    "start_time": "2022-01-28T19:56:24.686Z"
   },
   {
    "duration": 52,
    "start_time": "2022-01-28T19:56:24.702Z"
   },
   {
    "duration": 6,
    "start_time": "2022-01-28T19:56:24.756Z"
   },
   {
    "duration": 6,
    "start_time": "2022-01-28T19:56:26.090Z"
   },
   {
    "duration": 10,
    "start_time": "2022-01-28T19:56:26.652Z"
   },
   {
    "duration": 12,
    "start_time": "2022-01-28T19:56:29.252Z"
   },
   {
    "duration": 6422,
    "start_time": "2022-01-28T19:56:38.127Z"
   },
   {
    "duration": 5,
    "start_time": "2022-01-28T19:56:46.213Z"
   },
   {
    "duration": 52,
    "start_time": "2022-01-28T19:56:46.221Z"
   },
   {
    "duration": 243,
    "start_time": "2022-01-28T19:56:46.276Z"
   },
   {
    "duration": 248,
    "start_time": "2022-01-28T19:56:46.522Z"
   },
   {
    "duration": 136,
    "start_time": "2022-01-28T19:56:46.773Z"
   },
   {
    "duration": 40,
    "start_time": "2022-01-28T19:56:46.912Z"
   },
   {
    "duration": 9,
    "start_time": "2022-01-28T19:56:46.955Z"
   },
   {
    "duration": 7,
    "start_time": "2022-01-28T19:56:46.968Z"
   },
   {
    "duration": 27,
    "start_time": "2022-01-28T19:56:46.978Z"
   },
   {
    "duration": 216,
    "start_time": "2022-01-28T19:56:47.008Z"
   },
   {
    "duration": 38,
    "start_time": "2022-01-28T19:56:47.227Z"
   },
   {
    "duration": 143,
    "start_time": "2022-01-28T19:56:47.267Z"
   },
   {
    "duration": 42,
    "start_time": "2022-01-28T19:56:47.412Z"
   },
   {
    "duration": 55,
    "start_time": "2022-01-28T19:56:47.457Z"
   },
   {
    "duration": 41,
    "start_time": "2022-01-28T19:56:47.515Z"
   },
   {
    "duration": 35,
    "start_time": "2022-01-28T19:56:47.559Z"
   },
   {
    "duration": 66,
    "start_time": "2022-01-28T19:56:47.597Z"
   },
   {
    "duration": 22,
    "start_time": "2022-01-28T19:56:47.669Z"
   },
   {
    "duration": 27,
    "start_time": "2022-01-28T19:56:47.697Z"
   },
   {
    "duration": 25,
    "start_time": "2022-01-28T19:56:47.749Z"
   },
   {
    "duration": 42,
    "start_time": "2022-01-28T19:56:47.777Z"
   },
   {
    "duration": 44,
    "start_time": "2022-01-28T19:56:47.821Z"
   },
   {
    "duration": 14,
    "start_time": "2022-01-28T19:56:47.868Z"
   },
   {
    "duration": 66,
    "start_time": "2022-01-28T19:56:47.885Z"
   },
   {
    "duration": 12,
    "start_time": "2022-01-28T19:56:47.953Z"
   },
   {
    "duration": 7,
    "start_time": "2022-01-28T19:56:47.968Z"
   },
   {
    "duration": 38,
    "start_time": "2022-01-28T19:56:47.978Z"
   },
   {
    "duration": 9,
    "start_time": "2022-01-28T19:56:48.048Z"
   },
   {
    "duration": 15,
    "start_time": "2022-01-28T19:56:50.829Z"
   },
   {
    "duration": 398,
    "start_time": "2022-01-28T20:37:42.283Z"
   },
   {
    "duration": 4,
    "start_time": "2022-01-28T20:37:46.855Z"
   },
   {
    "duration": 48,
    "start_time": "2022-01-28T20:37:46.862Z"
   },
   {
    "duration": 263,
    "start_time": "2022-01-28T20:37:46.913Z"
   },
   {
    "duration": 287,
    "start_time": "2022-01-28T20:37:47.180Z"
   },
   {
    "duration": 123,
    "start_time": "2022-01-28T20:37:47.470Z"
   },
   {
    "duration": 34,
    "start_time": "2022-01-28T20:37:47.596Z"
   },
   {
    "duration": 9,
    "start_time": "2022-01-28T20:37:47.650Z"
   },
   {
    "duration": 8,
    "start_time": "2022-01-28T20:37:47.663Z"
   },
   {
    "duration": 24,
    "start_time": "2022-01-28T20:37:47.674Z"
   },
   {
    "duration": 177,
    "start_time": "2022-01-28T20:37:47.701Z"
   },
   {
    "duration": 20,
    "start_time": "2022-01-28T20:37:47.880Z"
   },
   {
    "duration": 129,
    "start_time": "2022-01-28T20:37:47.903Z"
   },
   {
    "duration": 27,
    "start_time": "2022-01-28T20:37:48.034Z"
   },
   {
    "duration": 43,
    "start_time": "2022-01-28T20:37:48.063Z"
   },
   {
    "duration": 45,
    "start_time": "2022-01-28T20:37:48.109Z"
   },
   {
    "duration": 30,
    "start_time": "2022-01-28T20:37:48.157Z"
   },
   {
    "duration": 62,
    "start_time": "2022-01-28T20:37:48.189Z"
   },
   {
    "duration": 20,
    "start_time": "2022-01-28T20:37:48.254Z"
   },
   {
    "duration": 24,
    "start_time": "2022-01-28T20:37:48.279Z"
   },
   {
    "duration": 52,
    "start_time": "2022-01-28T20:37:48.305Z"
   },
   {
    "duration": 27,
    "start_time": "2022-01-28T20:37:48.359Z"
   },
   {
    "duration": 18,
    "start_time": "2022-01-28T20:37:48.389Z"
   },
   {
    "duration": 42,
    "start_time": "2022-01-28T20:37:48.409Z"
   },
   {
    "duration": 30,
    "start_time": "2022-01-28T20:37:48.453Z"
   },
   {
    "duration": 10,
    "start_time": "2022-01-28T20:37:48.486Z"
   },
   {
    "duration": 14,
    "start_time": "2022-01-28T20:37:48.498Z"
   },
   {
    "duration": 59,
    "start_time": "2022-01-28T20:37:48.514Z"
   },
   {
    "duration": 9,
    "start_time": "2022-01-28T20:37:48.576Z"
   },
   {
    "duration": 16,
    "start_time": "2022-01-28T20:37:48.587Z"
   },
   {
    "duration": 8,
    "start_time": "2022-01-28T20:37:48.606Z"
   },
   {
    "duration": 42,
    "start_time": "2022-01-28T20:37:48.617Z"
   },
   {
    "duration": 16,
    "start_time": "2022-01-28T20:37:48.661Z"
   },
   {
    "duration": 5,
    "start_time": "2022-01-28T20:37:48.680Z"
   },
   {
    "duration": 400,
    "start_time": "2022-01-28T20:37:51.474Z"
   },
   {
    "duration": 60,
    "start_time": "2022-01-28T20:49:24.647Z"
   },
   {
    "duration": 6422,
    "start_time": "2022-01-28T20:50:19.706Z"
   },
   {
    "duration": 464,
    "start_time": "2022-01-28T20:50:42.533Z"
   },
   {
    "duration": 356,
    "start_time": "2022-01-28T20:51:19.490Z"
   },
   {
    "duration": 41,
    "start_time": "2022-01-28T20:51:26.777Z"
   },
   {
    "duration": 5,
    "start_time": "2022-01-28T21:50:44.055Z"
   },
   {
    "duration": 48,
    "start_time": "2022-01-28T21:50:44.064Z"
   },
   {
    "duration": 243,
    "start_time": "2022-01-28T21:50:44.114Z"
   },
   {
    "duration": 194,
    "start_time": "2022-01-28T21:50:44.360Z"
   },
   {
    "duration": 129,
    "start_time": "2022-01-28T21:50:44.557Z"
   },
   {
    "duration": 32,
    "start_time": "2022-01-28T21:50:44.689Z"
   },
   {
    "duration": 27,
    "start_time": "2022-01-28T21:50:44.723Z"
   },
   {
    "duration": 5,
    "start_time": "2022-01-28T21:50:44.753Z"
   },
   {
    "duration": 23,
    "start_time": "2022-01-28T21:50:44.761Z"
   },
   {
    "duration": 187,
    "start_time": "2022-01-28T21:50:44.788Z"
   },
   {
    "duration": 22,
    "start_time": "2022-01-28T21:50:44.978Z"
   },
   {
    "duration": 139,
    "start_time": "2022-01-28T21:50:45.002Z"
   },
   {
    "duration": 30,
    "start_time": "2022-01-28T21:50:45.144Z"
   },
   {
    "duration": 97,
    "start_time": "2022-01-28T21:50:45.178Z"
   },
   {
    "duration": 26,
    "start_time": "2022-01-28T21:50:45.278Z"
   },
   {
    "duration": 60,
    "start_time": "2022-01-28T21:50:45.307Z"
   },
   {
    "duration": 36,
    "start_time": "2022-01-28T21:50:45.369Z"
   },
   {
    "duration": 21,
    "start_time": "2022-01-28T21:50:45.408Z"
   },
   {
    "duration": 24,
    "start_time": "2022-01-28T21:50:45.450Z"
   },
   {
    "duration": 23,
    "start_time": "2022-01-28T21:50:45.477Z"
   },
   {
    "duration": 55,
    "start_time": "2022-01-28T21:50:45.503Z"
   },
   {
    "duration": 28,
    "start_time": "2022-01-28T21:50:45.561Z"
   },
   {
    "duration": 15,
    "start_time": "2022-01-28T21:50:45.592Z"
   },
   {
    "duration": 70,
    "start_time": "2022-01-28T21:50:45.611Z"
   },
   {
    "duration": 20,
    "start_time": "2022-01-28T21:50:45.705Z"
   },
   {
    "duration": 40,
    "start_time": "2022-01-28T21:50:45.728Z"
   },
   {
    "duration": 122,
    "start_time": "2022-01-28T21:50:45.778Z"
   },
   {
    "duration": 47,
    "start_time": "2022-01-28T21:50:45.908Z"
   },
   {
    "duration": 156,
    "start_time": "2022-01-28T21:50:45.960Z"
   },
   {
    "duration": 112,
    "start_time": "2022-01-28T21:50:46.119Z"
   },
   {
    "duration": 120,
    "start_time": "2022-01-28T21:50:46.235Z"
   },
   {
    "duration": 109,
    "start_time": "2022-01-28T21:50:46.359Z"
   },
   {
    "duration": 6,
    "start_time": "2022-01-28T21:50:46.470Z"
   },
   {
    "duration": 474,
    "start_time": "2022-01-28T21:50:46.479Z"
   },
   {
    "duration": 11,
    "start_time": "2022-01-28T21:50:46.955Z"
   },
   {
    "duration": 91,
    "start_time": "2022-01-28T21:50:46.968Z"
   },
   {
    "duration": 392,
    "start_time": "2022-01-28T21:50:47.062Z"
   },
   {
    "duration": 1167,
    "start_time": "2022-01-28T21:50:47.456Z"
   },
   {
    "duration": 765,
    "start_time": "2022-01-28T21:50:48.627Z"
   },
   {
    "duration": 630,
    "start_time": "2022-01-28T21:50:49.395Z"
   },
   {
    "duration": 32,
    "start_time": "2022-01-28T21:50:50.028Z"
   },
   {
    "duration": 747,
    "start_time": "2022-01-28T21:50:50.063Z"
   },
   {
    "duration": 715,
    "start_time": "2022-01-28T21:50:50.813Z"
   },
   {
    "duration": 31,
    "start_time": "2022-01-28T21:50:51.532Z"
   },
   {
    "duration": 653,
    "start_time": "2022-01-28T21:50:51.566Z"
   },
   {
    "duration": 613,
    "start_time": "2022-01-28T21:50:52.222Z"
   },
   {
    "duration": 25,
    "start_time": "2022-01-28T21:50:52.838Z"
   },
   {
    "duration": 643,
    "start_time": "2022-01-28T21:50:52.866Z"
   },
   {
    "duration": 580,
    "start_time": "2022-01-28T21:50:53.512Z"
   },
   {
    "duration": 20,
    "start_time": "2022-01-28T21:50:54.094Z"
   },
   {
    "duration": 112,
    "start_time": "2022-01-28T21:50:54.117Z"
   },
   {
    "duration": 21,
    "start_time": "2022-01-28T21:50:54.232Z"
   },
   {
    "duration": 4,
    "start_time": "2022-01-28T21:51:30.619Z"
   },
   {
    "duration": 62,
    "start_time": "2022-01-28T21:51:30.626Z"
   },
   {
    "duration": 264,
    "start_time": "2022-01-28T21:51:30.692Z"
   },
   {
    "duration": 205,
    "start_time": "2022-01-28T21:51:30.959Z"
   },
   {
    "duration": 145,
    "start_time": "2022-01-28T21:51:31.167Z"
   },
   {
    "duration": 39,
    "start_time": "2022-01-28T21:51:31.315Z"
   },
   {
    "duration": 12,
    "start_time": "2022-01-28T21:51:31.358Z"
   },
   {
    "duration": 27,
    "start_time": "2022-01-28T21:51:31.373Z"
   },
   {
    "duration": 38,
    "start_time": "2022-01-28T21:51:31.403Z"
   },
   {
    "duration": 164,
    "start_time": "2022-01-28T21:51:31.444Z"
   },
   {
    "duration": 22,
    "start_time": "2022-01-28T21:51:31.610Z"
   },
   {
    "duration": 170,
    "start_time": "2022-01-28T21:51:31.635Z"
   },
   {
    "duration": 21,
    "start_time": "2022-01-28T21:51:31.808Z"
   },
   {
    "duration": 59,
    "start_time": "2022-01-28T21:51:31.831Z"
   },
   {
    "duration": 17,
    "start_time": "2022-01-28T21:51:31.893Z"
   },
   {
    "duration": 64,
    "start_time": "2022-01-28T21:51:31.913Z"
   },
   {
    "duration": 40,
    "start_time": "2022-01-28T21:51:31.979Z"
   },
   {
    "duration": 41,
    "start_time": "2022-01-28T21:51:32.022Z"
   },
   {
    "duration": 39,
    "start_time": "2022-01-28T21:51:32.072Z"
   },
   {
    "duration": 59,
    "start_time": "2022-01-28T21:51:32.115Z"
   },
   {
    "duration": 42,
    "start_time": "2022-01-28T21:51:32.178Z"
   },
   {
    "duration": 42,
    "start_time": "2022-01-28T21:51:32.223Z"
   },
   {
    "duration": 19,
    "start_time": "2022-01-28T21:51:32.268Z"
   },
   {
    "duration": 68,
    "start_time": "2022-01-28T21:51:32.290Z"
   },
   {
    "duration": 11,
    "start_time": "2022-01-28T21:51:32.361Z"
   },
   {
    "duration": 14,
    "start_time": "2022-01-28T21:51:32.375Z"
   },
   {
    "duration": 69,
    "start_time": "2022-01-28T21:51:32.391Z"
   },
   {
    "duration": 12,
    "start_time": "2022-01-28T21:51:32.463Z"
   },
   {
    "duration": 18,
    "start_time": "2022-01-28T21:51:32.478Z"
   },
   {
    "duration": 10,
    "start_time": "2022-01-28T21:51:32.498Z"
   },
   {
    "duration": 41,
    "start_time": "2022-01-28T21:51:32.511Z"
   },
   {
    "duration": 23,
    "start_time": "2022-01-28T21:51:32.555Z"
   },
   {
    "duration": 10,
    "start_time": "2022-01-28T21:51:32.581Z"
   },
   {
    "duration": 516,
    "start_time": "2022-01-28T21:51:32.594Z"
   },
   {
    "duration": 11,
    "start_time": "2022-01-28T21:51:33.113Z"
   },
   {
    "duration": 87,
    "start_time": "2022-01-28T21:51:33.128Z"
   },
   {
    "duration": 402,
    "start_time": "2022-01-28T21:51:33.217Z"
   },
   {
    "duration": 44,
    "start_time": "2022-01-28T21:51:33.623Z"
   },
   {
    "duration": 1122,
    "start_time": "2022-01-28T21:51:33.671Z"
   },
   {
    "duration": 807,
    "start_time": "2022-01-28T21:51:34.796Z"
   },
   {
    "duration": 18,
    "start_time": "2022-01-28T21:51:35.605Z"
   },
   {
    "duration": 699,
    "start_time": "2022-01-28T21:51:35.649Z"
   },
   {
    "duration": 608,
    "start_time": "2022-01-28T21:51:36.351Z"
   },
   {
    "duration": 18,
    "start_time": "2022-01-28T21:51:36.962Z"
   },
   {
    "duration": 715,
    "start_time": "2022-01-28T21:51:36.983Z"
   },
   {
    "duration": 609,
    "start_time": "2022-01-28T21:51:37.700Z"
   },
   {
    "duration": 17,
    "start_time": "2022-01-28T21:51:38.312Z"
   },
   {
    "duration": 627,
    "start_time": "2022-01-28T21:51:38.348Z"
   },
   {
    "duration": 583,
    "start_time": "2022-01-28T21:51:38.977Z"
   },
   {
    "duration": 18,
    "start_time": "2022-01-28T21:51:39.563Z"
   },
   {
    "duration": 17,
    "start_time": "2022-01-28T21:51:39.584Z"
   },
   {
    "duration": 12,
    "start_time": "2022-01-28T21:51:39.604Z"
   },
   {
    "duration": 6,
    "start_time": "2022-01-28T21:52:11.878Z"
   },
   {
    "duration": 62,
    "start_time": "2022-01-28T21:52:11.888Z"
   },
   {
    "duration": 260,
    "start_time": "2022-01-28T21:52:11.953Z"
   },
   {
    "duration": 250,
    "start_time": "2022-01-28T21:52:12.218Z"
   },
   {
    "duration": 157,
    "start_time": "2022-01-28T21:52:12.471Z"
   },
   {
    "duration": 34,
    "start_time": "2022-01-28T21:52:12.631Z"
   },
   {
    "duration": 20,
    "start_time": "2022-01-28T21:52:12.670Z"
   },
   {
    "duration": 12,
    "start_time": "2022-01-28T21:52:12.694Z"
   },
   {
    "duration": 49,
    "start_time": "2022-01-28T21:52:12.709Z"
   },
   {
    "duration": 187,
    "start_time": "2022-01-28T21:52:12.762Z"
   },
   {
    "duration": 23,
    "start_time": "2022-01-28T21:52:12.951Z"
   },
   {
    "duration": 162,
    "start_time": "2022-01-28T21:52:12.977Z"
   },
   {
    "duration": 23,
    "start_time": "2022-01-28T21:52:13.141Z"
   },
   {
    "duration": 46,
    "start_time": "2022-01-28T21:52:13.166Z"
   },
   {
    "duration": 52,
    "start_time": "2022-01-28T21:52:13.215Z"
   },
   {
    "duration": 39,
    "start_time": "2022-01-28T21:52:13.270Z"
   },
   {
    "duration": 68,
    "start_time": "2022-01-28T21:52:13.312Z"
   },
   {
    "duration": 26,
    "start_time": "2022-01-28T21:52:13.384Z"
   },
   {
    "duration": 55,
    "start_time": "2022-01-28T21:52:13.418Z"
   },
   {
    "duration": 30,
    "start_time": "2022-01-28T21:52:13.478Z"
   },
   {
    "duration": 64,
    "start_time": "2022-01-28T21:52:13.511Z"
   },
   {
    "duration": 25,
    "start_time": "2022-01-28T21:52:13.578Z"
   },
   {
    "duration": 22,
    "start_time": "2022-01-28T21:52:13.605Z"
   },
   {
    "duration": 48,
    "start_time": "2022-01-28T21:52:13.650Z"
   },
   {
    "duration": 15,
    "start_time": "2022-01-28T21:52:13.701Z"
   },
   {
    "duration": 31,
    "start_time": "2022-01-28T21:52:13.719Z"
   },
   {
    "duration": 50,
    "start_time": "2022-01-28T21:52:13.754Z"
   },
   {
    "duration": 12,
    "start_time": "2022-01-28T21:52:13.807Z"
   },
   {
    "duration": 40,
    "start_time": "2022-01-28T21:52:13.822Z"
   },
   {
    "duration": 12,
    "start_time": "2022-01-28T21:52:13.865Z"
   },
   {
    "duration": 17,
    "start_time": "2022-01-28T21:52:13.880Z"
   },
   {
    "duration": 53,
    "start_time": "2022-01-28T21:52:13.900Z"
   },
   {
    "duration": 8,
    "start_time": "2022-01-28T21:52:13.956Z"
   },
   {
    "duration": 683,
    "start_time": "2022-01-28T21:52:13.967Z"
   },
   {
    "duration": 14,
    "start_time": "2022-01-28T21:52:14.654Z"
   },
   {
    "duration": 99,
    "start_time": "2022-01-28T21:52:14.671Z"
   },
   {
    "duration": 362,
    "start_time": "2022-01-28T21:52:14.773Z"
   },
   {
    "duration": 28,
    "start_time": "2022-01-28T21:52:15.138Z"
   },
   {
    "duration": 773,
    "start_time": "2022-01-28T21:52:15.169Z"
   },
   {
    "duration": 601,
    "start_time": "2022-01-28T21:52:15.949Z"
   },
   {
    "duration": 24,
    "start_time": "2022-01-28T21:52:16.553Z"
   },
   {
    "duration": 904,
    "start_time": "2022-01-28T21:52:16.579Z"
   },
   {
    "duration": 731,
    "start_time": "2022-01-28T21:52:17.486Z"
   },
   {
    "duration": 33,
    "start_time": "2022-01-28T21:52:18.221Z"
   },
   {
    "duration": 810,
    "start_time": "2022-01-28T21:52:18.257Z"
   },
   {
    "duration": 981,
    "start_time": "2022-01-28T21:52:19.070Z"
   },
   {
    "duration": 23,
    "start_time": "2022-01-28T21:52:20.054Z"
   },
   {
    "duration": 739,
    "start_time": "2022-01-28T21:52:20.080Z"
   },
   {
    "duration": 593,
    "start_time": "2022-01-28T21:52:20.822Z"
   },
   {
    "duration": 32,
    "start_time": "2022-01-28T21:52:21.418Z"
   },
   {
    "duration": 9,
    "start_time": "2022-01-28T21:52:21.453Z"
   },
   {
    "duration": 9,
    "start_time": "2022-01-28T21:52:21.464Z"
   },
   {
    "duration": 1054,
    "start_time": "2022-01-29T19:46:32.754Z"
   },
   {
    "duration": 73,
    "start_time": "2022-01-29T19:46:33.810Z"
   },
   {
    "duration": 188,
    "start_time": "2022-01-29T19:46:33.886Z"
   },
   {
    "duration": 192,
    "start_time": "2022-01-29T19:46:34.076Z"
   },
   {
    "duration": 115,
    "start_time": "2022-01-29T19:46:34.270Z"
   },
   {
    "duration": 26,
    "start_time": "2022-01-29T19:46:34.387Z"
   },
   {
    "duration": 21,
    "start_time": "2022-01-29T19:46:34.415Z"
   },
   {
    "duration": 5,
    "start_time": "2022-01-29T19:46:34.439Z"
   },
   {
    "duration": 32,
    "start_time": "2022-01-29T19:46:34.446Z"
   },
   {
    "duration": 146,
    "start_time": "2022-01-29T19:46:34.480Z"
   },
   {
    "duration": 19,
    "start_time": "2022-01-29T19:46:34.628Z"
   },
   {
    "duration": 110,
    "start_time": "2022-01-29T19:46:34.649Z"
   },
   {
    "duration": 17,
    "start_time": "2022-01-29T19:46:34.761Z"
   },
   {
    "duration": 46,
    "start_time": "2022-01-29T19:46:34.780Z"
   },
   {
    "duration": 13,
    "start_time": "2022-01-29T19:46:34.828Z"
   },
   {
    "duration": 55,
    "start_time": "2022-01-29T19:46:34.843Z"
   },
   {
    "duration": 33,
    "start_time": "2022-01-29T19:46:34.901Z"
   },
   {
    "duration": 21,
    "start_time": "2022-01-29T19:46:34.936Z"
   },
   {
    "duration": 50,
    "start_time": "2022-01-29T19:46:34.960Z"
   },
   {
    "duration": 25,
    "start_time": "2022-01-29T19:46:35.012Z"
   },
   {
    "duration": 25,
    "start_time": "2022-01-29T19:46:35.039Z"
   },
   {
    "duration": 40,
    "start_time": "2022-01-29T19:46:35.066Z"
   },
   {
    "duration": 10,
    "start_time": "2022-01-29T19:46:35.112Z"
   },
   {
    "duration": 24,
    "start_time": "2022-01-29T19:46:35.125Z"
   },
   {
    "duration": 9,
    "start_time": "2022-01-29T19:46:35.151Z"
   },
   {
    "duration": 7,
    "start_time": "2022-01-29T19:46:35.162Z"
   },
   {
    "duration": 52,
    "start_time": "2022-01-29T19:46:35.171Z"
   },
   {
    "duration": 8,
    "start_time": "2022-01-29T19:46:35.225Z"
   },
   {
    "duration": 11,
    "start_time": "2022-01-29T19:46:35.235Z"
   },
   {
    "duration": 10,
    "start_time": "2022-01-29T19:46:35.248Z"
   },
   {
    "duration": 40,
    "start_time": "2022-01-29T19:46:35.260Z"
   },
   {
    "duration": 13,
    "start_time": "2022-01-29T19:46:35.301Z"
   },
   {
    "duration": 4,
    "start_time": "2022-01-29T19:46:35.316Z"
   },
   {
    "duration": 314,
    "start_time": "2022-01-29T19:46:35.322Z"
   },
   {
    "duration": 9,
    "start_time": "2022-01-29T19:46:35.639Z"
   },
   {
    "duration": 54,
    "start_time": "2022-01-29T19:46:35.650Z"
   },
   {
    "duration": 282,
    "start_time": "2022-01-29T19:46:35.706Z"
   },
   {
    "duration": 316,
    "start_time": "2022-01-29T19:46:35.990Z"
   },
   {
    "duration": 488,
    "start_time": "2022-01-29T19:46:36.308Z"
   },
   {
    "duration": 451,
    "start_time": "2022-01-29T19:46:36.798Z"
   },
   {
    "duration": 14,
    "start_time": "2022-01-29T19:46:37.251Z"
   },
   {
    "duration": 560,
    "start_time": "2022-01-29T19:46:37.267Z"
   },
   {
    "duration": 445,
    "start_time": "2022-01-29T19:46:37.828Z"
   },
   {
    "duration": 25,
    "start_time": "2022-01-29T19:46:38.274Z"
   },
   {
    "duration": 482,
    "start_time": "2022-01-29T19:46:38.301Z"
   },
   {
    "duration": 451,
    "start_time": "2022-01-29T19:46:38.785Z"
   },
   {
    "duration": 13,
    "start_time": "2022-01-29T19:46:39.238Z"
   },
   {
    "duration": 487,
    "start_time": "2022-01-29T19:46:39.253Z"
   },
   {
    "duration": 444,
    "start_time": "2022-01-29T19:46:39.742Z"
   },
   {
    "duration": 19,
    "start_time": "2022-01-29T19:46:40.188Z"
   },
   {
    "duration": 11,
    "start_time": "2022-01-29T19:46:40.209Z"
   },
   {
    "duration": 15,
    "start_time": "2022-01-29T19:46:40.222Z"
   },
   {
    "duration": 1439,
    "start_time": "2022-02-01T20:42:28.084Z"
   },
   {
    "duration": 50,
    "start_time": "2022-02-01T20:42:29.526Z"
   },
   {
    "duration": 232,
    "start_time": "2022-02-01T20:42:29.578Z"
   },
   {
    "duration": 188,
    "start_time": "2022-02-01T20:42:29.824Z"
   },
   {
    "duration": 145,
    "start_time": "2022-02-01T20:42:30.015Z"
   },
   {
    "duration": 39,
    "start_time": "2022-02-01T20:42:30.163Z"
   },
   {
    "duration": 26,
    "start_time": "2022-02-01T20:42:30.205Z"
   },
   {
    "duration": 16,
    "start_time": "2022-02-01T20:42:30.235Z"
   },
   {
    "duration": 31,
    "start_time": "2022-02-01T20:42:30.254Z"
   },
   {
    "duration": 100,
    "start_time": "2022-02-01T20:42:30.288Z"
   },
   {
    "duration": 38,
    "start_time": "2022-02-01T20:42:30.391Z"
   },
   {
    "duration": 133,
    "start_time": "2022-02-01T20:42:30.431Z"
   },
   {
    "duration": 24,
    "start_time": "2022-02-01T20:42:30.566Z"
   },
   {
    "duration": 68,
    "start_time": "2022-02-01T20:42:30.592Z"
   },
   {
    "duration": 18,
    "start_time": "2022-02-01T20:42:30.663Z"
   },
   {
    "duration": 61,
    "start_time": "2022-02-01T20:42:30.683Z"
   },
   {
    "duration": 39,
    "start_time": "2022-02-01T20:42:30.746Z"
   },
   {
    "duration": 50,
    "start_time": "2022-02-01T20:42:30.788Z"
   },
   {
    "duration": 36,
    "start_time": "2022-02-01T20:42:30.841Z"
   },
   {
    "duration": 50,
    "start_time": "2022-02-01T20:42:30.880Z"
   },
   {
    "duration": 42,
    "start_time": "2022-02-01T20:42:30.933Z"
   },
   {
    "duration": 45,
    "start_time": "2022-02-01T20:42:30.978Z"
   },
   {
    "duration": 17,
    "start_time": "2022-02-01T20:42:31.030Z"
   },
   {
    "duration": 33,
    "start_time": "2022-02-01T20:42:31.050Z"
   },
   {
    "duration": 38,
    "start_time": "2022-02-01T20:42:31.087Z"
   },
   {
    "duration": 6,
    "start_time": "2022-02-01T20:42:31.128Z"
   },
   {
    "duration": 44,
    "start_time": "2022-02-01T20:42:31.137Z"
   },
   {
    "duration": 44,
    "start_time": "2022-02-01T20:42:31.184Z"
   },
   {
    "duration": 13,
    "start_time": "2022-02-01T20:42:31.230Z"
   },
   {
    "duration": 9,
    "start_time": "2022-02-01T20:42:31.246Z"
   },
   {
    "duration": 13,
    "start_time": "2022-02-01T20:42:31.258Z"
   },
   {
    "duration": 59,
    "start_time": "2022-02-01T20:42:31.274Z"
   },
   {
    "duration": 8,
    "start_time": "2022-02-01T20:42:31.336Z"
   },
   {
    "duration": 535,
    "start_time": "2022-02-01T20:42:31.347Z"
   },
   {
    "duration": 12,
    "start_time": "2022-02-01T20:42:31.885Z"
   },
   {
    "duration": 77,
    "start_time": "2022-02-01T20:42:31.899Z"
   },
   {
    "duration": 347,
    "start_time": "2022-02-01T20:42:31.979Z"
   },
   {
    "duration": 866,
    "start_time": "2022-02-01T20:42:32.329Z"
   },
   {
    "duration": 761,
    "start_time": "2022-02-01T20:42:33.198Z"
   },
   {
    "duration": 602,
    "start_time": "2022-02-01T20:42:33.962Z"
   },
   {
    "duration": 19,
    "start_time": "2022-02-01T20:42:34.567Z"
   },
   {
    "duration": 769,
    "start_time": "2022-02-01T20:42:34.589Z"
   },
   {
    "duration": 663,
    "start_time": "2022-02-01T20:42:35.361Z"
   },
   {
    "duration": 19,
    "start_time": "2022-02-01T20:42:36.026Z"
   },
   {
    "duration": 685,
    "start_time": "2022-02-01T20:42:36.048Z"
   },
   {
    "duration": 624,
    "start_time": "2022-02-01T20:42:36.735Z"
   },
   {
    "duration": 24,
    "start_time": "2022-02-01T20:42:37.362Z"
   },
   {
    "duration": 668,
    "start_time": "2022-02-01T20:42:37.389Z"
   },
   {
    "duration": 599,
    "start_time": "2022-02-01T20:42:38.060Z"
   },
   {
    "duration": 19,
    "start_time": "2022-02-01T20:42:38.663Z"
   },
   {
    "duration": 8,
    "start_time": "2022-02-01T20:42:38.685Z"
   },
   {
    "duration": 9,
    "start_time": "2022-02-01T20:42:38.724Z"
   },
   {
    "duration": 524,
    "start_time": "2022-02-01T20:46:25.805Z"
   },
   {
    "duration": 345,
    "start_time": "2022-02-01T20:46:59.677Z"
   },
   {
    "duration": 1324,
    "start_time": "2022-02-01T20:47:53.167Z"
   },
   {
    "duration": 57,
    "start_time": "2022-02-01T20:47:54.494Z"
   },
   {
    "duration": 236,
    "start_time": "2022-02-01T20:47:54.554Z"
   },
   {
    "duration": 203,
    "start_time": "2022-02-01T20:47:54.793Z"
   },
   {
    "duration": 150,
    "start_time": "2022-02-01T20:47:54.999Z"
   },
   {
    "duration": 30,
    "start_time": "2022-02-01T20:47:55.152Z"
   },
   {
    "duration": 10,
    "start_time": "2022-02-01T20:47:55.185Z"
   },
   {
    "duration": 5,
    "start_time": "2022-02-01T20:47:55.227Z"
   },
   {
    "duration": 26,
    "start_time": "2022-02-01T20:47:55.235Z"
   },
   {
    "duration": 162,
    "start_time": "2022-02-01T20:47:55.264Z"
   },
   {
    "duration": 27,
    "start_time": "2022-02-01T20:47:55.429Z"
   },
   {
    "duration": 472,
    "start_time": "2022-02-01T20:47:55.459Z"
   },
   {
    "duration": -2395,
    "start_time": "2022-02-01T20:47:58.330Z"
   },
   {
    "duration": -2409,
    "start_time": "2022-02-01T20:47:58.346Z"
   },
   {
    "duration": -2423,
    "start_time": "2022-02-01T20:47:58.361Z"
   },
   {
    "duration": -2444,
    "start_time": "2022-02-01T20:47:58.384Z"
   },
   {
    "duration": -2458,
    "start_time": "2022-02-01T20:47:58.400Z"
   },
   {
    "duration": -2461,
    "start_time": "2022-02-01T20:47:58.404Z"
   },
   {
    "duration": -2466,
    "start_time": "2022-02-01T20:47:58.411Z"
   },
   {
    "duration": -2468,
    "start_time": "2022-02-01T20:47:58.415Z"
   },
   {
    "duration": -2471,
    "start_time": "2022-02-01T20:47:58.419Z"
   },
   {
    "duration": -2477,
    "start_time": "2022-02-01T20:47:58.426Z"
   },
   {
    "duration": -2481,
    "start_time": "2022-02-01T20:47:58.431Z"
   },
   {
    "duration": -2483,
    "start_time": "2022-02-01T20:47:58.435Z"
   },
   {
    "duration": -2486,
    "start_time": "2022-02-01T20:47:58.440Z"
   },
   {
    "duration": -2491,
    "start_time": "2022-02-01T20:47:58.446Z"
   },
   {
    "duration": -2514,
    "start_time": "2022-02-01T20:47:58.471Z"
   },
   {
    "duration": -2541,
    "start_time": "2022-02-01T20:47:58.499Z"
   },
   {
    "duration": -2563,
    "start_time": "2022-02-01T20:47:58.523Z"
   },
   {
    "duration": -2569,
    "start_time": "2022-02-01T20:47:58.532Z"
   },
   {
    "duration": -2585,
    "start_time": "2022-02-01T20:47:58.550Z"
   },
   {
    "duration": -2608,
    "start_time": "2022-02-01T20:47:58.574Z"
   },
   {
    "duration": -2620,
    "start_time": "2022-02-01T20:47:58.588Z"
   },
   {
    "duration": -2580,
    "start_time": "2022-02-01T20:47:58.603Z"
   },
   {
    "duration": -3296,
    "start_time": "2022-02-01T20:47:59.321Z"
   },
   {
    "duration": -3312,
    "start_time": "2022-02-01T20:47:59.338Z"
   },
   {
    "duration": -3317,
    "start_time": "2022-02-01T20:47:59.345Z"
   },
   {
    "duration": -3318,
    "start_time": "2022-02-01T20:47:59.349Z"
   },
   {
    "duration": -3324,
    "start_time": "2022-02-01T20:47:59.357Z"
   },
   {
    "duration": -3334,
    "start_time": "2022-02-01T20:47:59.369Z"
   },
   {
    "duration": -3340,
    "start_time": "2022-02-01T20:47:59.377Z"
   },
   {
    "duration": -3352,
    "start_time": "2022-02-01T20:47:59.391Z"
   },
   {
    "duration": -3363,
    "start_time": "2022-02-01T20:47:59.405Z"
   },
   {
    "duration": -3368,
    "start_time": "2022-02-01T20:47:59.413Z"
   },
   {
    "duration": -3380,
    "start_time": "2022-02-01T20:47:59.427Z"
   },
   {
    "duration": -3387,
    "start_time": "2022-02-01T20:47:59.437Z"
   },
   {
    "duration": -3393,
    "start_time": "2022-02-01T20:47:59.445Z"
   },
   {
    "duration": -3405,
    "start_time": "2022-02-01T20:47:59.459Z"
   },
   {
    "duration": -3414,
    "start_time": "2022-02-01T20:47:59.470Z"
   },
   {
    "duration": -3420,
    "start_time": "2022-02-01T20:47:59.477Z"
   },
   {
    "duration": -3432,
    "start_time": "2022-02-01T20:47:59.491Z"
   },
   {
    "duration": -3434,
    "start_time": "2022-02-01T20:47:59.495Z"
   },
   {
    "duration": -3377,
    "start_time": "2022-02-01T20:47:59.500Z"
   },
   {
    "duration": 351,
    "start_time": "2022-02-01T20:49:08.997Z"
   },
   {
    "duration": 22,
    "start_time": "2022-02-01T20:49:42.862Z"
   },
   {
    "duration": 12,
    "start_time": "2022-02-01T20:53:19.097Z"
   },
   {
    "duration": 14,
    "start_time": "2022-02-01T20:53:27.563Z"
   },
   {
    "duration": 176,
    "start_time": "2022-02-01T20:54:16.203Z"
   },
   {
    "duration": 8,
    "start_time": "2022-02-01T20:54:33.467Z"
   },
   {
    "duration": 11,
    "start_time": "2022-02-01T20:54:52.160Z"
   },
   {
    "duration": 386,
    "start_time": "2022-02-01T20:55:51.755Z"
   },
   {
    "duration": 8024,
    "start_time": "2022-02-01T20:56:16.336Z"
   },
   {
    "duration": 12,
    "start_time": "2022-02-01T20:56:38.555Z"
   },
   {
    "duration": 31,
    "start_time": "2022-02-01T21:01:16.609Z"
   },
   {
    "duration": 1513,
    "start_time": "2022-02-01T21:01:33.832Z"
   },
   {
    "duration": 48,
    "start_time": "2022-02-01T21:01:35.348Z"
   },
   {
    "duration": 239,
    "start_time": "2022-02-01T21:01:35.399Z"
   },
   {
    "duration": 226,
    "start_time": "2022-02-01T21:01:35.641Z"
   },
   {
    "duration": 163,
    "start_time": "2022-02-01T21:01:35.870Z"
   },
   {
    "duration": 32,
    "start_time": "2022-02-01T21:01:36.036Z"
   },
   {
    "duration": 10,
    "start_time": "2022-02-01T21:01:36.072Z"
   },
   {
    "duration": 36,
    "start_time": "2022-02-01T21:01:36.088Z"
   },
   {
    "duration": 28,
    "start_time": "2022-02-01T21:01:36.127Z"
   },
   {
    "duration": 120,
    "start_time": "2022-02-01T21:01:36.159Z"
   },
   {
    "duration": 41,
    "start_time": "2022-02-01T21:01:36.282Z"
   },
   {
    "duration": 17,
    "start_time": "2022-02-01T21:01:36.327Z"
   },
   {
    "duration": 82,
    "start_time": "2022-02-01T21:01:36.347Z"
   },
   {
    "duration": 23,
    "start_time": "2022-02-01T21:01:36.432Z"
   },
   {
    "duration": 68,
    "start_time": "2022-02-01T21:01:36.458Z"
   },
   {
    "duration": 24,
    "start_time": "2022-02-01T21:01:36.529Z"
   },
   {
    "duration": 28,
    "start_time": "2022-02-01T21:01:36.556Z"
   },
   {
    "duration": 71,
    "start_time": "2022-02-01T21:01:36.586Z"
   },
   {
    "duration": 20,
    "start_time": "2022-02-01T21:01:36.660Z"
   },
   {
    "duration": 56,
    "start_time": "2022-02-01T21:01:36.683Z"
   },
   {
    "duration": 24,
    "start_time": "2022-02-01T21:01:36.742Z"
   },
   {
    "duration": 64,
    "start_time": "2022-02-01T21:01:36.769Z"
   },
   {
    "duration": 452,
    "start_time": "2022-02-01T21:01:36.841Z"
   },
   {
    "duration": -1196,
    "start_time": "2022-02-01T21:01:38.494Z"
   },
   {
    "duration": -1198,
    "start_time": "2022-02-01T21:01:38.498Z"
   },
   {
    "duration": -1204,
    "start_time": "2022-02-01T21:01:38.506Z"
   },
   {
    "duration": -1207,
    "start_time": "2022-02-01T21:01:38.511Z"
   },
   {
    "duration": -1211,
    "start_time": "2022-02-01T21:01:38.517Z"
   },
   {
    "duration": -1213,
    "start_time": "2022-02-01T21:01:38.521Z"
   },
   {
    "duration": -1217,
    "start_time": "2022-02-01T21:01:38.527Z"
   },
   {
    "duration": -1218,
    "start_time": "2022-02-01T21:01:38.531Z"
   },
   {
    "duration": -1220,
    "start_time": "2022-02-01T21:01:38.535Z"
   },
   {
    "duration": -1222,
    "start_time": "2022-02-01T21:01:38.539Z"
   },
   {
    "duration": -1223,
    "start_time": "2022-02-01T21:01:38.543Z"
   },
   {
    "duration": -1225,
    "start_time": "2022-02-01T21:01:38.548Z"
   },
   {
    "duration": -1227,
    "start_time": "2022-02-01T21:01:38.552Z"
   },
   {
    "duration": -1228,
    "start_time": "2022-02-01T21:01:38.556Z"
   },
   {
    "duration": -1240,
    "start_time": "2022-02-01T21:01:38.570Z"
   },
   {
    "duration": -1242,
    "start_time": "2022-02-01T21:01:38.574Z"
   },
   {
    "duration": -1245,
    "start_time": "2022-02-01T21:01:38.580Z"
   },
   {
    "duration": -1247,
    "start_time": "2022-02-01T21:01:38.584Z"
   },
   {
    "duration": -1249,
    "start_time": "2022-02-01T21:01:38.588Z"
   },
   {
    "duration": -1252,
    "start_time": "2022-02-01T21:01:38.593Z"
   },
   {
    "duration": -1254,
    "start_time": "2022-02-01T21:01:38.598Z"
   },
   {
    "duration": -1265,
    "start_time": "2022-02-01T21:01:38.611Z"
   },
   {
    "duration": -1268,
    "start_time": "2022-02-01T21:01:38.616Z"
   },
   {
    "duration": -1269,
    "start_time": "2022-02-01T21:01:38.620Z"
   },
   {
    "duration": -1272,
    "start_time": "2022-02-01T21:01:38.625Z"
   },
   {
    "duration": -1274,
    "start_time": "2022-02-01T21:01:38.629Z"
   },
   {
    "duration": -1277,
    "start_time": "2022-02-01T21:01:38.634Z"
   },
   {
    "duration": -1279,
    "start_time": "2022-02-01T21:01:38.637Z"
   },
   {
    "duration": -1284,
    "start_time": "2022-02-01T21:01:38.644Z"
   },
   {
    "duration": -1286,
    "start_time": "2022-02-01T21:01:38.648Z"
   },
   {
    "duration": 1408,
    "start_time": "2022-02-01T21:03:16.921Z"
   },
   {
    "duration": 49,
    "start_time": "2022-02-01T21:03:18.333Z"
   },
   {
    "duration": 298,
    "start_time": "2022-02-01T21:03:18.386Z"
   },
   {
    "duration": 253,
    "start_time": "2022-02-01T21:03:18.688Z"
   },
   {
    "duration": 187,
    "start_time": "2022-02-01T21:03:18.943Z"
   },
   {
    "duration": 38,
    "start_time": "2022-02-01T21:03:19.133Z"
   },
   {
    "duration": 13,
    "start_time": "2022-02-01T21:03:19.174Z"
   },
   {
    "duration": 4,
    "start_time": "2022-02-01T21:03:19.191Z"
   },
   {
    "duration": 49,
    "start_time": "2022-02-01T21:03:19.198Z"
   },
   {
    "duration": 103,
    "start_time": "2022-02-01T21:03:19.249Z"
   },
   {
    "duration": 25,
    "start_time": "2022-02-01T21:03:19.354Z"
   },
   {
    "duration": 17,
    "start_time": "2022-02-01T21:03:19.382Z"
   },
   {
    "duration": 59,
    "start_time": "2022-02-01T21:03:19.424Z"
   },
   {
    "duration": 38,
    "start_time": "2022-02-01T21:03:19.485Z"
   },
   {
    "duration": 42,
    "start_time": "2022-02-01T21:03:19.525Z"
   },
   {
    "duration": 16,
    "start_time": "2022-02-01T21:03:19.570Z"
   },
   {
    "duration": 56,
    "start_time": "2022-02-01T21:03:19.588Z"
   },
   {
    "duration": 45,
    "start_time": "2022-02-01T21:03:19.646Z"
   },
   {
    "duration": 40,
    "start_time": "2022-02-01T21:03:19.694Z"
   },
   {
    "duration": 29,
    "start_time": "2022-02-01T21:03:19.736Z"
   },
   {
    "duration": 23,
    "start_time": "2022-02-01T21:03:19.767Z"
   },
   {
    "duration": 60,
    "start_time": "2022-02-01T21:03:19.793Z"
   },
   {
    "duration": 21,
    "start_time": "2022-02-01T21:03:19.859Z"
   },
   {
    "duration": 43,
    "start_time": "2022-02-01T21:03:19.883Z"
   },
   {
    "duration": 32,
    "start_time": "2022-02-01T21:03:19.929Z"
   },
   {
    "duration": 11,
    "start_time": "2022-02-01T21:03:19.964Z"
   },
   {
    "duration": 11,
    "start_time": "2022-02-01T21:03:19.977Z"
   },
   {
    "duration": 34,
    "start_time": "2022-02-01T21:03:20.024Z"
   },
   {
    "duration": 9,
    "start_time": "2022-02-01T21:03:20.060Z"
   },
   {
    "duration": 21,
    "start_time": "2022-02-01T21:03:20.072Z"
   },
   {
    "duration": 34,
    "start_time": "2022-02-01T21:03:20.095Z"
   },
   {
    "duration": 19,
    "start_time": "2022-02-01T21:03:20.133Z"
   },
   {
    "duration": 17,
    "start_time": "2022-02-01T21:03:20.155Z"
   },
   {
    "duration": 5,
    "start_time": "2022-02-01T21:03:20.175Z"
   },
   {
    "duration": 545,
    "start_time": "2022-02-01T21:03:20.182Z"
   },
   {
    "duration": 11,
    "start_time": "2022-02-01T21:03:20.729Z"
   },
   {
    "duration": 84,
    "start_time": "2022-02-01T21:03:20.743Z"
   },
   {
    "duration": 337,
    "start_time": "2022-02-01T21:03:20.830Z"
   },
   {
    "duration": 727,
    "start_time": "2022-02-01T21:03:21.169Z"
   },
   {
    "duration": 729,
    "start_time": "2022-02-01T21:03:21.899Z"
   },
   {
    "duration": 610,
    "start_time": "2022-02-01T21:03:22.631Z"
   },
   {
    "duration": 21,
    "start_time": "2022-02-01T21:03:23.243Z"
   },
   {
    "duration": 806,
    "start_time": "2022-02-01T21:03:23.267Z"
   },
   {
    "duration": 601,
    "start_time": "2022-02-01T21:03:24.076Z"
   },
   {
    "duration": 18,
    "start_time": "2022-02-01T21:03:24.680Z"
   },
   {
    "duration": 694,
    "start_time": "2022-02-01T21:03:24.700Z"
   },
   {
    "duration": 733,
    "start_time": "2022-02-01T21:03:25.398Z"
   },
   {
    "duration": 17,
    "start_time": "2022-02-01T21:03:26.134Z"
   },
   {
    "duration": 676,
    "start_time": "2022-02-01T21:03:26.154Z"
   },
   {
    "duration": 706,
    "start_time": "2022-02-01T21:03:26.832Z"
   },
   {
    "duration": 20,
    "start_time": "2022-02-01T21:03:27.540Z"
   },
   {
    "duration": 11,
    "start_time": "2022-02-01T21:03:27.563Z"
   },
   {
    "duration": 46,
    "start_time": "2022-02-01T21:03:27.577Z"
   },
   {
    "duration": 6,
    "start_time": "2022-02-01T21:08:40.793Z"
   },
   {
    "duration": 543,
    "start_time": "2022-02-01T21:08:45.738Z"
   },
   {
    "duration": 7392,
    "start_time": "2022-02-01T21:11:03.474Z"
   },
   {
    "duration": 7498,
    "start_time": "2022-02-01T21:11:55.736Z"
   },
   {
    "duration": 1535,
    "start_time": "2022-02-01T21:12:17.104Z"
   },
   {
    "duration": 63,
    "start_time": "2022-02-01T21:12:18.643Z"
   },
   {
    "duration": 266,
    "start_time": "2022-02-01T21:12:18.710Z"
   },
   {
    "duration": 197,
    "start_time": "2022-02-01T21:12:18.979Z"
   },
   {
    "duration": 139,
    "start_time": "2022-02-01T21:12:19.178Z"
   },
   {
    "duration": 30,
    "start_time": "2022-02-01T21:12:19.319Z"
   },
   {
    "duration": 9,
    "start_time": "2022-02-01T21:12:19.351Z"
   },
   {
    "duration": 5,
    "start_time": "2022-02-01T21:12:19.363Z"
   },
   {
    "duration": 68,
    "start_time": "2022-02-01T21:12:19.373Z"
   },
   {
    "duration": 156,
    "start_time": "2022-02-01T21:12:19.445Z"
   },
   {
    "duration": 36,
    "start_time": "2022-02-01T21:12:19.604Z"
   },
   {
    "duration": 22,
    "start_time": "2022-02-01T21:12:19.643Z"
   },
   {
    "duration": 122,
    "start_time": "2022-02-01T21:12:19.668Z"
   },
   {
    "duration": 36,
    "start_time": "2022-02-01T21:12:19.793Z"
   },
   {
    "duration": 43,
    "start_time": "2022-02-01T21:12:19.831Z"
   },
   {
    "duration": 18,
    "start_time": "2022-02-01T21:12:19.877Z"
   },
   {
    "duration": 30,
    "start_time": "2022-02-01T21:12:19.924Z"
   },
   {
    "duration": 46,
    "start_time": "2022-02-01T21:12:19.956Z"
   },
   {
    "duration": 29,
    "start_time": "2022-02-01T21:12:20.024Z"
   },
   {
    "duration": 28,
    "start_time": "2022-02-01T21:12:20.055Z"
   },
   {
    "duration": 49,
    "start_time": "2022-02-01T21:12:20.086Z"
   },
   {
    "duration": 32,
    "start_time": "2022-02-01T21:12:20.138Z"
   },
   {
    "duration": 54,
    "start_time": "2022-02-01T21:12:20.172Z"
   },
   {
    "duration": 15,
    "start_time": "2022-02-01T21:12:20.228Z"
   },
   {
    "duration": 52,
    "start_time": "2022-02-01T21:12:20.245Z"
   },
   {
    "duration": 24,
    "start_time": "2022-02-01T21:12:20.299Z"
   },
   {
    "duration": 4,
    "start_time": "2022-02-01T21:12:20.329Z"
   },
   {
    "duration": 51,
    "start_time": "2022-02-01T21:12:20.336Z"
   },
   {
    "duration": 11,
    "start_time": "2022-02-01T21:12:20.390Z"
   },
   {
    "duration": 30,
    "start_time": "2022-02-01T21:12:20.404Z"
   },
   {
    "duration": 9,
    "start_time": "2022-02-01T21:12:20.437Z"
   },
   {
    "duration": 15,
    "start_time": "2022-02-01T21:12:20.449Z"
   },
   {
    "duration": 61,
    "start_time": "2022-02-01T21:12:20.467Z"
   },
   {
    "duration": 8,
    "start_time": "2022-02-01T21:12:20.531Z"
   },
   {
    "duration": 490,
    "start_time": "2022-02-01T21:12:20.542Z"
   },
   {
    "duration": 12,
    "start_time": "2022-02-01T21:12:21.034Z"
   },
   {
    "duration": 77,
    "start_time": "2022-02-01T21:12:21.048Z"
   },
   {
    "duration": 446,
    "start_time": "2022-02-01T21:12:21.128Z"
   },
   {
    "duration": 655,
    "start_time": "2022-02-01T21:12:21.577Z"
   },
   {
    "duration": 791,
    "start_time": "2022-02-01T21:12:22.235Z"
   },
   {
    "duration": 729,
    "start_time": "2022-02-01T21:12:23.029Z"
   },
   {
    "duration": 20,
    "start_time": "2022-02-01T21:12:23.761Z"
   },
   {
    "duration": 795,
    "start_time": "2022-02-01T21:12:23.784Z"
   },
   {
    "duration": 659,
    "start_time": "2022-02-01T21:12:24.581Z"
   },
   {
    "duration": 19,
    "start_time": "2022-02-01T21:12:25.243Z"
   },
   {
    "duration": 686,
    "start_time": "2022-02-01T21:12:25.265Z"
   },
   {
    "duration": 630,
    "start_time": "2022-02-01T21:12:25.953Z"
   },
   {
    "duration": 17,
    "start_time": "2022-02-01T21:12:26.585Z"
   },
   {
    "duration": 713,
    "start_time": "2022-02-01T21:12:26.604Z"
   },
   {
    "duration": 732,
    "start_time": "2022-02-01T21:12:27.323Z"
   },
   {
    "duration": 19,
    "start_time": "2022-02-01T21:12:28.058Z"
   },
   {
    "duration": 9,
    "start_time": "2022-02-01T21:12:28.080Z"
   },
   {
    "duration": 33,
    "start_time": "2022-02-01T21:12:28.091Z"
   },
   {
    "duration": 7993,
    "start_time": "2022-02-01T21:15:34.225Z"
   },
   {
    "duration": -1164,
    "start_time": "2022-02-01T21:15:43.384Z"
   },
   {
    "duration": 8766,
    "start_time": "2022-02-01T21:17:20.262Z"
   },
   {
    "duration": 1527,
    "start_time": "2022-02-01T21:17:55.449Z"
   },
   {
    "duration": 56,
    "start_time": "2022-02-01T21:17:56.979Z"
   },
   {
    "duration": 236,
    "start_time": "2022-02-01T21:17:57.039Z"
   },
   {
    "duration": 218,
    "start_time": "2022-02-01T21:17:57.277Z"
   },
   {
    "duration": 149,
    "start_time": "2022-02-01T21:17:57.497Z"
   },
   {
    "duration": 31,
    "start_time": "2022-02-01T21:17:57.649Z"
   },
   {
    "duration": 9,
    "start_time": "2022-02-01T21:17:57.682Z"
   },
   {
    "duration": 3,
    "start_time": "2022-02-01T21:17:57.695Z"
   },
   {
    "duration": 24,
    "start_time": "2022-02-01T21:17:57.725Z"
   },
   {
    "duration": 160,
    "start_time": "2022-02-01T21:17:57.753Z"
   },
   {
    "duration": 36,
    "start_time": "2022-02-01T21:17:57.916Z"
   },
   {
    "duration": 21,
    "start_time": "2022-02-01T21:17:57.955Z"
   },
   {
    "duration": 88,
    "start_time": "2022-02-01T21:17:57.979Z"
   },
   {
    "duration": 23,
    "start_time": "2022-02-01T21:17:58.069Z"
   },
   {
    "duration": 65,
    "start_time": "2022-02-01T21:17:58.094Z"
   },
   {
    "duration": 21,
    "start_time": "2022-02-01T21:17:58.162Z"
   },
   {
    "duration": 62,
    "start_time": "2022-02-01T21:17:58.186Z"
   },
   {
    "duration": 50,
    "start_time": "2022-02-01T21:17:58.251Z"
   },
   {
    "duration": 43,
    "start_time": "2022-02-01T21:17:58.303Z"
   },
   {
    "duration": 29,
    "start_time": "2022-02-01T21:17:58.349Z"
   },
   {
    "duration": 57,
    "start_time": "2022-02-01T21:17:58.380Z"
   },
   {
    "duration": 34,
    "start_time": "2022-02-01T21:17:58.439Z"
   },
   {
    "duration": 22,
    "start_time": "2022-02-01T21:17:58.479Z"
   },
   {
    "duration": 15,
    "start_time": "2022-02-01T21:17:58.525Z"
   },
   {
    "duration": 35,
    "start_time": "2022-02-01T21:17:58.543Z"
   },
   {
    "duration": 14,
    "start_time": "2022-02-01T21:17:58.581Z"
   },
   {
    "duration": 6,
    "start_time": "2022-02-01T21:17:58.624Z"
   },
   {
    "duration": 40,
    "start_time": "2022-02-01T21:17:58.633Z"
   },
   {
    "duration": 493,
    "start_time": "2022-02-01T21:17:58.676Z"
   },
   {
    "duration": -1219,
    "start_time": "2022-02-01T21:18:00.390Z"
   },
   {
    "duration": -1222,
    "start_time": "2022-02-01T21:18:00.395Z"
   },
   {
    "duration": -1226,
    "start_time": "2022-02-01T21:18:00.400Z"
   },
   {
    "duration": -1232,
    "start_time": "2022-02-01T21:18:00.407Z"
   },
   {
    "duration": -1234,
    "start_time": "2022-02-01T21:18:00.411Z"
   },
   {
    "duration": -1237,
    "start_time": "2022-02-01T21:18:00.416Z"
   },
   {
    "duration": -1241,
    "start_time": "2022-02-01T21:18:00.422Z"
   },
   {
    "duration": -1246,
    "start_time": "2022-02-01T21:18:00.429Z"
   },
   {
    "duration": -1250,
    "start_time": "2022-02-01T21:18:00.434Z"
   },
   {
    "duration": -1253,
    "start_time": "2022-02-01T21:18:00.439Z"
   },
   {
    "duration": -1255,
    "start_time": "2022-02-01T21:18:00.443Z"
   },
   {
    "duration": -1266,
    "start_time": "2022-02-01T21:18:00.455Z"
   },
   {
    "duration": -1268,
    "start_time": "2022-02-01T21:18:00.459Z"
   },
   {
    "duration": -1270,
    "start_time": "2022-02-01T21:18:00.463Z"
   },
   {
    "duration": -1274,
    "start_time": "2022-02-01T21:18:00.468Z"
   },
   {
    "duration": -1279,
    "start_time": "2022-02-01T21:18:00.475Z"
   },
   {
    "duration": -1282,
    "start_time": "2022-02-01T21:18:00.479Z"
   },
   {
    "duration": -1284,
    "start_time": "2022-02-01T21:18:00.483Z"
   },
   {
    "duration": -1289,
    "start_time": "2022-02-01T21:18:00.490Z"
   },
   {
    "duration": -1293,
    "start_time": "2022-02-01T21:18:00.495Z"
   },
   {
    "duration": -1295,
    "start_time": "2022-02-01T21:18:00.499Z"
   },
   {
    "duration": -1302,
    "start_time": "2022-02-01T21:18:00.507Z"
   },
   {
    "duration": -1288,
    "start_time": "2022-02-01T21:18:00.511Z"
   },
   {
    "duration": -1291,
    "start_time": "2022-02-01T21:18:00.515Z"
   },
   {
    "duration": 1637,
    "start_time": "2022-02-01T21:18:51.331Z"
   },
   {
    "duration": 53,
    "start_time": "2022-02-01T21:18:52.971Z"
   },
   {
    "duration": 236,
    "start_time": "2022-02-01T21:18:53.028Z"
   },
   {
    "duration": 196,
    "start_time": "2022-02-01T21:18:53.267Z"
   },
   {
    "duration": 158,
    "start_time": "2022-02-01T21:18:53.466Z"
   },
   {
    "duration": 39,
    "start_time": "2022-02-01T21:18:53.627Z"
   },
   {
    "duration": 12,
    "start_time": "2022-02-01T21:18:53.670Z"
   },
   {
    "duration": 3,
    "start_time": "2022-02-01T21:18:53.686Z"
   },
   {
    "duration": 24,
    "start_time": "2022-02-01T21:18:53.725Z"
   },
   {
    "duration": 98,
    "start_time": "2022-02-01T21:18:53.751Z"
   },
   {
    "duration": 24,
    "start_time": "2022-02-01T21:18:53.852Z"
   },
   {
    "duration": 17,
    "start_time": "2022-02-01T21:18:53.878Z"
   },
   {
    "duration": 67,
    "start_time": "2022-02-01T21:18:53.923Z"
   },
   {
    "duration": 38,
    "start_time": "2022-02-01T21:18:53.992Z"
   },
   {
    "duration": 44,
    "start_time": "2022-02-01T21:18:54.032Z"
   },
   {
    "duration": 48,
    "start_time": "2022-02-01T21:18:54.078Z"
   },
   {
    "duration": 44,
    "start_time": "2022-02-01T21:18:54.129Z"
   },
   {
    "duration": 82,
    "start_time": "2022-02-01T21:18:54.176Z"
   },
   {
    "duration": 21,
    "start_time": "2022-02-01T21:18:54.261Z"
   },
   {
    "duration": 50,
    "start_time": "2022-02-01T21:18:54.285Z"
   },
   {
    "duration": 23,
    "start_time": "2022-02-01T21:18:54.338Z"
   },
   {
    "duration": 31,
    "start_time": "2022-02-01T21:18:54.364Z"
   },
   {
    "duration": 20,
    "start_time": "2022-02-01T21:18:54.424Z"
   },
   {
    "duration": 16,
    "start_time": "2022-02-01T21:18:54.447Z"
   },
   {
    "duration": 29,
    "start_time": "2022-02-01T21:18:54.465Z"
   },
   {
    "duration": 12,
    "start_time": "2022-02-01T21:18:54.524Z"
   },
   {
    "duration": 6,
    "start_time": "2022-02-01T21:18:54.538Z"
   },
   {
    "duration": 34,
    "start_time": "2022-02-01T21:18:54.546Z"
   },
   {
    "duration": 42,
    "start_time": "2022-02-01T21:18:54.582Z"
   },
   {
    "duration": 12,
    "start_time": "2022-02-01T21:18:54.626Z"
   },
   {
    "duration": 8,
    "start_time": "2022-02-01T21:18:54.640Z"
   },
   {
    "duration": 15,
    "start_time": "2022-02-01T21:18:54.651Z"
   },
   {
    "duration": 55,
    "start_time": "2022-02-01T21:18:54.668Z"
   },
   {
    "duration": 6,
    "start_time": "2022-02-01T21:18:54.725Z"
   },
   {
    "duration": 485,
    "start_time": "2022-02-01T21:18:54.734Z"
   },
   {
    "duration": 11,
    "start_time": "2022-02-01T21:18:55.223Z"
   },
   {
    "duration": 51,
    "start_time": "2022-02-01T21:18:55.237Z"
   },
   {
    "duration": 356,
    "start_time": "2022-02-01T21:18:55.291Z"
   },
   {
    "duration": 646,
    "start_time": "2022-02-01T21:18:55.649Z"
   },
   {
    "duration": 781,
    "start_time": "2022-02-01T21:18:56.298Z"
   },
   {
    "duration": 641,
    "start_time": "2022-02-01T21:18:57.082Z"
   },
   {
    "duration": 19,
    "start_time": "2022-02-01T21:18:57.726Z"
   },
   {
    "duration": 1099,
    "start_time": "2022-02-01T21:18:57.748Z"
   },
   {
    "duration": 783,
    "start_time": "2022-02-01T21:18:58.850Z"
   },
   {
    "duration": 17,
    "start_time": "2022-02-01T21:18:59.636Z"
   },
   {
    "duration": 701,
    "start_time": "2022-02-01T21:18:59.655Z"
   },
   {
    "duration": 668,
    "start_time": "2022-02-01T21:19:00.359Z"
   },
   {
    "duration": 21,
    "start_time": "2022-02-01T21:19:01.030Z"
   },
   {
    "duration": 693,
    "start_time": "2022-02-01T21:19:01.054Z"
   },
   {
    "duration": 624,
    "start_time": "2022-02-01T21:19:01.750Z"
   },
   {
    "duration": 18,
    "start_time": "2022-02-01T21:19:02.376Z"
   },
   {
    "duration": 31,
    "start_time": "2022-02-01T21:19:02.396Z"
   },
   {
    "duration": 22,
    "start_time": "2022-02-01T21:19:02.430Z"
   },
   {
    "duration": 382,
    "start_time": "2022-02-01T21:40:56.974Z"
   },
   {
    "duration": 388,
    "start_time": "2022-02-01T21:44:57.715Z"
   },
   {
    "duration": 343,
    "start_time": "2022-02-01T21:46:01.414Z"
   },
   {
    "duration": 491,
    "start_time": "2022-02-01T21:47:52.844Z"
   },
   {
    "duration": 521,
    "start_time": "2022-02-01T21:48:02.191Z"
   },
   {
    "duration": 459,
    "start_time": "2022-02-01T21:48:55.238Z"
   },
   {
    "duration": 395,
    "start_time": "2022-02-01T21:49:04.618Z"
   },
   {
    "duration": 445,
    "start_time": "2022-02-01T21:49:14.129Z"
   },
   {
    "duration": 536,
    "start_time": "2022-02-01T21:49:54.247Z"
   },
   {
    "duration": 507,
    "start_time": "2022-02-01T21:50:07.050Z"
   },
   {
    "duration": 468,
    "start_time": "2022-02-01T22:03:56.001Z"
   },
   {
    "duration": 1009,
    "start_time": "2022-02-01T22:04:27.905Z"
   },
   {
    "duration": 864,
    "start_time": "2022-02-01T22:08:16.405Z"
   },
   {
    "duration": 742,
    "start_time": "2022-02-01T22:08:27.333Z"
   },
   {
    "duration": 508,
    "start_time": "2022-02-01T22:11:01.382Z"
   },
   {
    "duration": 449,
    "start_time": "2022-02-01T22:13:59.677Z"
   },
   {
    "duration": 584,
    "start_time": "2022-02-01T22:15:31.926Z"
   },
   {
    "duration": 528,
    "start_time": "2022-02-01T22:17:46.636Z"
   },
   {
    "duration": 503,
    "start_time": "2022-02-01T22:18:00.440Z"
   },
   {
    "duration": 680,
    "start_time": "2022-02-01T22:18:36.496Z"
   },
   {
    "duration": 686,
    "start_time": "2022-02-01T22:23:05.103Z"
   },
   {
    "duration": 602,
    "start_time": "2022-02-01T22:23:20.661Z"
   },
   {
    "duration": 3,
    "start_time": "2022-02-01T22:23:36.803Z"
   },
   {
    "duration": 4,
    "start_time": "2022-02-01T22:23:54.179Z"
   },
   {
    "duration": 561,
    "start_time": "2022-02-01T22:26:36.265Z"
   },
   {
    "duration": 527,
    "start_time": "2022-02-01T22:27:06.683Z"
   },
   {
    "duration": 549,
    "start_time": "2022-02-01T22:27:21.544Z"
   },
   {
    "duration": 3,
    "start_time": "2022-02-01T22:27:33.825Z"
   },
   {
    "duration": 107,
    "start_time": "2022-02-01T22:28:57.027Z"
   },
   {
    "duration": 846,
    "start_time": "2022-02-01T22:29:07.080Z"
   },
   {
    "duration": 4,
    "start_time": "2022-02-01T22:29:47.417Z"
   },
   {
    "duration": 1489,
    "start_time": "2022-02-01T22:31:12.156Z"
   },
   {
    "duration": 86,
    "start_time": "2022-02-01T22:31:13.647Z"
   },
   {
    "duration": 242,
    "start_time": "2022-02-01T22:31:13.737Z"
   },
   {
    "duration": 200,
    "start_time": "2022-02-01T22:31:13.983Z"
   },
   {
    "duration": 147,
    "start_time": "2022-02-01T22:31:14.186Z"
   },
   {
    "duration": 30,
    "start_time": "2022-02-01T22:31:14.336Z"
   },
   {
    "duration": 12,
    "start_time": "2022-02-01T22:31:14.369Z"
   },
   {
    "duration": 3,
    "start_time": "2022-02-01T22:31:14.387Z"
   },
   {
    "duration": 23,
    "start_time": "2022-02-01T22:31:14.425Z"
   },
   {
    "duration": 101,
    "start_time": "2022-02-01T22:31:14.451Z"
   },
   {
    "duration": 22,
    "start_time": "2022-02-01T22:31:14.555Z"
   },
   {
    "duration": 43,
    "start_time": "2022-02-01T22:31:14.580Z"
   },
   {
    "duration": 59,
    "start_time": "2022-02-01T22:31:14.626Z"
   },
   {
    "duration": 46,
    "start_time": "2022-02-01T22:31:14.688Z"
   },
   {
    "duration": 43,
    "start_time": "2022-02-01T22:31:14.737Z"
   },
   {
    "duration": 47,
    "start_time": "2022-02-01T22:31:14.783Z"
   },
   {
    "duration": 44,
    "start_time": "2022-02-01T22:31:14.834Z"
   },
   {
    "duration": 91,
    "start_time": "2022-02-01T22:31:14.881Z"
   },
   {
    "duration": 28,
    "start_time": "2022-02-01T22:31:14.975Z"
   },
   {
    "duration": 56,
    "start_time": "2022-02-01T22:31:15.007Z"
   },
   {
    "duration": 56,
    "start_time": "2022-02-01T22:31:15.067Z"
   },
   {
    "duration": 39,
    "start_time": "2022-02-01T22:31:15.127Z"
   },
   {
    "duration": 20,
    "start_time": "2022-02-01T22:31:15.171Z"
   },
   {
    "duration": 35,
    "start_time": "2022-02-01T22:31:15.194Z"
   },
   {
    "duration": 31,
    "start_time": "2022-02-01T22:31:15.231Z"
   },
   {
    "duration": 12,
    "start_time": "2022-02-01T22:31:15.264Z"
   },
   {
    "duration": 9,
    "start_time": "2022-02-01T22:31:15.278Z"
   },
   {
    "duration": 68,
    "start_time": "2022-02-01T22:31:15.289Z"
   },
   {
    "duration": 11,
    "start_time": "2022-02-01T22:31:15.359Z"
   },
   {
    "duration": 14,
    "start_time": "2022-02-01T22:31:15.372Z"
   },
   {
    "duration": 10,
    "start_time": "2022-02-01T22:31:15.424Z"
   },
   {
    "duration": 16,
    "start_time": "2022-02-01T22:31:15.436Z"
   },
   {
    "duration": 17,
    "start_time": "2022-02-01T22:31:15.455Z"
   },
   {
    "duration": 51,
    "start_time": "2022-02-01T22:31:15.475Z"
   },
   {
    "duration": 474,
    "start_time": "2022-02-01T22:31:15.529Z"
   },
   {
    "duration": 26,
    "start_time": "2022-02-01T22:31:16.006Z"
   },
   {
    "duration": 56,
    "start_time": "2022-02-01T22:31:16.034Z"
   },
   {
    "duration": 372,
    "start_time": "2022-02-01T22:31:16.092Z"
   },
   {
    "duration": 682,
    "start_time": "2022-02-01T22:31:16.467Z"
   },
   {
    "duration": 3,
    "start_time": "2022-02-01T22:31:17.152Z"
   },
   {
    "duration": 721,
    "start_time": "2022-02-01T22:31:17.158Z"
   },
   {
    "duration": 702,
    "start_time": "2022-02-01T22:31:17.882Z"
   },
   {
    "duration": 36,
    "start_time": "2022-02-01T22:31:18.587Z"
   },
   {
    "duration": 4,
    "start_time": "2022-02-01T22:31:18.626Z"
   },
   {
    "duration": 659,
    "start_time": "2022-02-01T22:31:18.634Z"
   },
   {
    "duration": 649,
    "start_time": "2022-02-01T22:31:19.296Z"
   },
   {
    "duration": 18,
    "start_time": "2022-02-01T22:31:19.947Z"
   },
   {
    "duration": 3,
    "start_time": "2022-02-01T22:31:19.967Z"
   },
   {
    "duration": 771,
    "start_time": "2022-02-01T22:31:19.974Z"
   },
   {
    "duration": 815,
    "start_time": "2022-02-01T22:31:20.748Z"
   },
   {
    "duration": 18,
    "start_time": "2022-02-01T22:31:21.566Z"
   },
   {
    "duration": 4,
    "start_time": "2022-02-01T22:31:21.587Z"
   },
   {
    "duration": 686,
    "start_time": "2022-02-01T22:31:21.594Z"
   },
   {
    "duration": 600,
    "start_time": "2022-02-01T22:31:22.283Z"
   },
   {
    "duration": 18,
    "start_time": "2022-02-01T22:31:22.885Z"
   },
   {
    "duration": 109,
    "start_time": "2022-02-01T22:31:22.905Z"
   },
   {
    "duration": 8,
    "start_time": "2022-02-01T22:31:23.024Z"
   },
   {
    "duration": 8076,
    "start_time": "2022-02-01T22:38:57.902Z"
   },
   {
    "duration": 7351,
    "start_time": "2022-02-01T22:39:35.493Z"
   },
   {
    "duration": 1610,
    "start_time": "2022-02-01T22:40:28.092Z"
   },
   {
    "duration": 83,
    "start_time": "2022-02-01T22:40:29.705Z"
   },
   {
    "duration": 331,
    "start_time": "2022-02-01T22:40:29.792Z"
   },
   {
    "duration": 308,
    "start_time": "2022-02-01T22:40:30.127Z"
   },
   {
    "duration": 138,
    "start_time": "2022-02-01T22:40:30.438Z"
   },
   {
    "duration": 30,
    "start_time": "2022-02-01T22:40:30.579Z"
   },
   {
    "duration": 20,
    "start_time": "2022-02-01T22:40:30.612Z"
   },
   {
    "duration": 5,
    "start_time": "2022-02-01T22:40:30.638Z"
   },
   {
    "duration": 25,
    "start_time": "2022-02-01T22:40:30.646Z"
   },
   {
    "duration": 126,
    "start_time": "2022-02-01T22:40:30.673Z"
   },
   {
    "duration": 33,
    "start_time": "2022-02-01T22:40:30.802Z"
   },
   {
    "duration": 516,
    "start_time": "2022-02-01T22:40:30.837Z"
   },
   {
    "duration": -24988,
    "start_time": "2022-02-01T22:40:56.349Z"
   },
   {
    "duration": -25001,
    "start_time": "2022-02-01T22:40:56.364Z"
   },
   {
    "duration": -25008,
    "start_time": "2022-02-01T22:40:56.373Z"
   },
   {
    "duration": -25009,
    "start_time": "2022-02-01T22:40:56.380Z"
   },
   {
    "duration": -25014,
    "start_time": "2022-02-01T22:40:56.387Z"
   },
   {
    "duration": -25031,
    "start_time": "2022-02-01T22:40:56.406Z"
   },
   {
    "duration": -25037,
    "start_time": "2022-02-01T22:40:56.414Z"
   },
   {
    "duration": -25042,
    "start_time": "2022-02-01T22:40:56.421Z"
   },
   {
    "duration": -25062,
    "start_time": "2022-02-01T22:40:56.443Z"
   },
   {
    "duration": -25076,
    "start_time": "2022-02-01T22:40:56.459Z"
   },
   {
    "duration": -25094,
    "start_time": "2022-02-01T22:40:56.478Z"
   },
   {
    "duration": -25103,
    "start_time": "2022-02-01T22:40:56.495Z"
   },
   {
    "duration": -26007,
    "start_time": "2022-02-01T22:40:57.401Z"
   },
   {
    "duration": -26050,
    "start_time": "2022-02-01T22:40:57.446Z"
   },
   {
    "duration": -26088,
    "start_time": "2022-02-01T22:40:57.486Z"
   },
   {
    "duration": -26097,
    "start_time": "2022-02-01T22:40:57.497Z"
   },
   {
    "duration": -27755,
    "start_time": "2022-02-01T22:40:59.157Z"
   },
   {
    "duration": -27772,
    "start_time": "2022-02-01T22:40:59.176Z"
   },
   {
    "duration": -27800,
    "start_time": "2022-02-01T22:40:59.207Z"
   },
   {
    "duration": -27816,
    "start_time": "2022-02-01T22:40:59.225Z"
   },
   {
    "duration": -27902,
    "start_time": "2022-02-01T22:40:59.313Z"
   },
   {
    "duration": -27896,
    "start_time": "2022-02-01T22:40:59.319Z"
   },
   {
    "duration": -27941,
    "start_time": "2022-02-01T22:40:59.366Z"
   },
   {
    "duration": -27944,
    "start_time": "2022-02-01T22:40:59.372Z"
   },
   {
    "duration": -27950,
    "start_time": "2022-02-01T22:40:59.380Z"
   },
   {
    "duration": -27953,
    "start_time": "2022-02-01T22:40:59.385Z"
   },
   {
    "duration": -27997,
    "start_time": "2022-02-01T22:40:59.431Z"
   },
   {
    "duration": -27999,
    "start_time": "2022-02-01T22:40:59.436Z"
   },
   {
    "duration": -28006,
    "start_time": "2022-02-01T22:40:59.445Z"
   },
   {
    "duration": -28009,
    "start_time": "2022-02-01T22:40:59.450Z"
   },
   {
    "duration": -28013,
    "start_time": "2022-02-01T22:40:59.456Z"
   },
   {
    "duration": -28018,
    "start_time": "2022-02-01T22:40:59.463Z"
   },
   {
    "duration": -28023,
    "start_time": "2022-02-01T22:40:59.470Z"
   },
   {
    "duration": -28027,
    "start_time": "2022-02-01T22:40:59.476Z"
   },
   {
    "duration": -28032,
    "start_time": "2022-02-01T22:40:59.483Z"
   },
   {
    "duration": -30563,
    "start_time": "2022-02-01T22:41:02.016Z"
   },
   {
    "duration": -30587,
    "start_time": "2022-02-01T22:41:02.042Z"
   },
   {
    "duration": -30592,
    "start_time": "2022-02-01T22:41:02.049Z"
   },
   {
    "duration": -35455,
    "start_time": "2022-02-01T22:41:06.914Z"
   },
   {
    "duration": -35483,
    "start_time": "2022-02-01T22:41:06.943Z"
   },
   {
    "duration": -35493,
    "start_time": "2022-02-01T22:41:06.955Z"
   },
   {
    "duration": -35441,
    "start_time": "2022-02-01T22:41:06.965Z"
   },
   {
    "duration": -35456,
    "start_time": "2022-02-01T22:41:06.982Z"
   },
   {
    "duration": -35461,
    "start_time": "2022-02-01T22:41:06.988Z"
   },
   {
    "duration": -35466,
    "start_time": "2022-02-01T22:41:06.995Z"
   },
   {
    "duration": 93,
    "start_time": "2022-02-01T22:47:24.912Z"
   },
   {
    "duration": 605,
    "start_time": "2022-02-01T22:47:34.853Z"
   },
   {
    "duration": 9,
    "start_time": "2022-02-01T22:47:50.639Z"
   },
   {
    "duration": 9,
    "start_time": "2022-02-01T22:49:13.725Z"
   },
   {
    "duration": 1502,
    "start_time": "2022-02-01T22:50:51.596Z"
   },
   {
    "duration": 55,
    "start_time": "2022-02-01T22:50:53.101Z"
   },
   {
    "duration": 250,
    "start_time": "2022-02-01T22:50:53.160Z"
   },
   {
    "duration": 206,
    "start_time": "2022-02-01T22:50:53.424Z"
   },
   {
    "duration": 141,
    "start_time": "2022-02-01T22:50:53.633Z"
   },
   {
    "duration": 30,
    "start_time": "2022-02-01T22:50:53.776Z"
   },
   {
    "duration": 17,
    "start_time": "2022-02-01T22:50:53.808Z"
   },
   {
    "duration": 13,
    "start_time": "2022-02-01T22:50:53.829Z"
   },
   {
    "duration": 23,
    "start_time": "2022-02-01T22:50:53.845Z"
   },
   {
    "duration": 110,
    "start_time": "2022-02-01T22:50:53.870Z"
   },
   {
    "duration": 40,
    "start_time": "2022-02-01T22:50:53.983Z"
   },
   {
    "duration": 10,
    "start_time": "2022-02-01T22:50:54.026Z"
   },
   {
    "duration": 86,
    "start_time": "2022-02-01T22:50:54.038Z"
   },
   {
    "duration": 22,
    "start_time": "2022-02-01T22:50:54.126Z"
   },
   {
    "duration": 75,
    "start_time": "2022-02-01T22:50:54.151Z"
   },
   {
    "duration": 20,
    "start_time": "2022-02-01T22:50:54.228Z"
   },
   {
    "duration": 28,
    "start_time": "2022-02-01T22:50:54.250Z"
   },
   {
    "duration": 79,
    "start_time": "2022-02-01T22:50:54.281Z"
   },
   {
    "duration": 19,
    "start_time": "2022-02-01T22:50:54.363Z"
   },
   {
    "duration": 51,
    "start_time": "2022-02-01T22:50:54.385Z"
   },
   {
    "duration": 23,
    "start_time": "2022-02-01T22:50:54.438Z"
   },
   {
    "duration": 32,
    "start_time": "2022-02-01T22:50:54.464Z"
   },
   {
    "duration": 19,
    "start_time": "2022-02-01T22:50:54.526Z"
   },
   {
    "duration": 13,
    "start_time": "2022-02-01T22:50:54.548Z"
   },
   {
    "duration": 61,
    "start_time": "2022-02-01T22:50:54.564Z"
   },
   {
    "duration": 12,
    "start_time": "2022-02-01T22:50:54.627Z"
   },
   {
    "duration": 7,
    "start_time": "2022-02-01T22:50:54.641Z"
   },
   {
    "duration": 39,
    "start_time": "2022-02-01T22:50:54.650Z"
   },
   {
    "duration": 45,
    "start_time": "2022-02-01T22:50:54.692Z"
   },
   {
    "duration": 14,
    "start_time": "2022-02-01T22:50:54.739Z"
   },
   {
    "duration": 15,
    "start_time": "2022-02-01T22:50:54.756Z"
   },
   {
    "duration": 12,
    "start_time": "2022-02-01T22:50:54.774Z"
   },
   {
    "duration": 48,
    "start_time": "2022-02-01T22:50:54.789Z"
   },
   {
    "duration": 6,
    "start_time": "2022-02-01T22:50:54.839Z"
   },
   {
    "duration": 475,
    "start_time": "2022-02-01T22:50:54.848Z"
   },
   {
    "duration": 11,
    "start_time": "2022-02-01T22:50:55.325Z"
   },
   {
    "duration": 51,
    "start_time": "2022-02-01T22:50:55.338Z"
   },
   {
    "duration": 372,
    "start_time": "2022-02-01T22:50:55.391Z"
   },
   {
    "duration": 698,
    "start_time": "2022-02-01T22:50:55.767Z"
   },
   {
    "duration": 4,
    "start_time": "2022-02-01T22:50:56.468Z"
   },
   {
    "duration": 550,
    "start_time": "2022-02-01T22:50:56.475Z"
   },
   {
    "duration": 613,
    "start_time": "2022-02-01T22:50:57.028Z"
   },
   {
    "duration": 17,
    "start_time": "2022-02-01T22:50:57.643Z"
   },
   {
    "duration": 3,
    "start_time": "2022-02-01T22:50:57.663Z"
   },
   {
    "duration": 992,
    "start_time": "2022-02-01T22:50:57.669Z"
   },
   {
    "duration": 796,
    "start_time": "2022-02-01T22:50:58.664Z"
   },
   {
    "duration": 17,
    "start_time": "2022-02-01T22:50:59.462Z"
   },
   {
    "duration": 4,
    "start_time": "2022-02-01T22:50:59.481Z"
   },
   {
    "duration": 622,
    "start_time": "2022-02-01T22:50:59.487Z"
   },
   {
    "duration": 621,
    "start_time": "2022-02-01T22:51:00.112Z"
   },
   {
    "duration": 19,
    "start_time": "2022-02-01T22:51:00.736Z"
   },
   {
    "duration": 12,
    "start_time": "2022-02-01T22:51:00.757Z"
   },
   {
    "duration": 579,
    "start_time": "2022-02-01T22:51:00.771Z"
   },
   {
    "duration": 604,
    "start_time": "2022-02-01T22:51:01.352Z"
   },
   {
    "duration": 18,
    "start_time": "2022-02-01T22:51:01.959Z"
   },
   {
    "duration": 120,
    "start_time": "2022-02-01T22:51:01.979Z"
   },
   {
    "duration": 23,
    "start_time": "2022-02-01T22:51:02.102Z"
   },
   {
    "duration": 8402,
    "start_time": "2022-02-01T22:53:21.892Z"
   },
   {
    "duration": 1493,
    "start_time": "2022-02-01T22:54:39.506Z"
   },
   {
    "duration": 55,
    "start_time": "2022-02-01T22:54:41.002Z"
   },
   {
    "duration": 283,
    "start_time": "2022-02-01T22:54:41.060Z"
   },
   {
    "duration": 210,
    "start_time": "2022-02-01T22:54:41.346Z"
   },
   {
    "duration": 151,
    "start_time": "2022-02-01T22:54:41.559Z"
   },
   {
    "duration": 31,
    "start_time": "2022-02-01T22:54:41.713Z"
   },
   {
    "duration": 9,
    "start_time": "2022-02-01T22:54:41.747Z"
   },
   {
    "duration": 7,
    "start_time": "2022-02-01T22:54:41.760Z"
   },
   {
    "duration": 24,
    "start_time": "2022-02-01T22:54:41.770Z"
   },
   {
    "duration": 85,
    "start_time": "2022-02-01T22:54:41.796Z"
   },
   {
    "duration": 26,
    "start_time": "2022-02-01T22:54:41.884Z"
   },
   {
    "duration": 65,
    "start_time": "2022-02-01T22:54:41.912Z"
   },
   {
    "duration": 70,
    "start_time": "2022-02-01T22:54:41.979Z"
   },
   {
    "duration": 24,
    "start_time": "2022-02-01T22:54:42.051Z"
   },
   {
    "duration": 49,
    "start_time": "2022-02-01T22:54:42.078Z"
   },
   {
    "duration": 18,
    "start_time": "2022-02-01T22:54:42.129Z"
   },
   {
    "duration": 30,
    "start_time": "2022-02-01T22:54:42.149Z"
   },
   {
    "duration": 57,
    "start_time": "2022-02-01T22:54:42.182Z"
   },
   {
    "duration": 19,
    "start_time": "2022-02-01T22:54:42.241Z"
   },
   {
    "duration": 27,
    "start_time": "2022-02-01T22:54:42.263Z"
   },
   {
    "duration": 42,
    "start_time": "2022-02-01T22:54:42.292Z"
   },
   {
    "duration": 87,
    "start_time": "2022-02-01T22:54:42.336Z"
   },
   {
    "duration": 19,
    "start_time": "2022-02-01T22:54:42.429Z"
   },
   {
    "duration": 15,
    "start_time": "2022-02-01T22:54:42.452Z"
   },
   {
    "duration": 32,
    "start_time": "2022-02-01T22:54:42.524Z"
   },
   {
    "duration": 11,
    "start_time": "2022-02-01T22:54:42.558Z"
   },
   {
    "duration": 10,
    "start_time": "2022-02-01T22:54:42.571Z"
   },
   {
    "duration": 58,
    "start_time": "2022-02-01T22:54:42.583Z"
   },
   {
    "duration": 28,
    "start_time": "2022-02-01T22:54:42.644Z"
   },
   {
    "duration": 11,
    "start_time": "2022-02-01T22:54:42.675Z"
   },
   {
    "duration": 18,
    "start_time": "2022-02-01T22:54:42.688Z"
   },
   {
    "duration": 13,
    "start_time": "2022-02-01T22:54:42.709Z"
   },
   {
    "duration": 31,
    "start_time": "2022-02-01T22:54:42.725Z"
   },
   {
    "duration": 8,
    "start_time": "2022-02-01T22:54:42.759Z"
   },
   {
    "duration": 921,
    "start_time": "2022-02-01T22:54:42.769Z"
   },
   {
    "duration": 31,
    "start_time": "2022-02-01T22:54:43.692Z"
   },
   {
    "duration": 56,
    "start_time": "2022-02-01T22:54:43.725Z"
   },
   {
    "duration": 347,
    "start_time": "2022-02-01T22:54:43.783Z"
   },
   {
    "duration": 743,
    "start_time": "2022-02-01T22:54:44.133Z"
   },
   {
    "duration": 4,
    "start_time": "2022-02-01T22:54:44.880Z"
   },
   {
    "duration": 606,
    "start_time": "2022-02-01T22:54:44.888Z"
   },
   {
    "duration": 629,
    "start_time": "2022-02-01T22:54:45.497Z"
   },
   {
    "duration": 18,
    "start_time": "2022-02-01T22:54:46.128Z"
   },
   {
    "duration": 3,
    "start_time": "2022-02-01T22:54:46.149Z"
   },
   {
    "duration": 752,
    "start_time": "2022-02-01T22:54:46.155Z"
   },
   {
    "duration": 623,
    "start_time": "2022-02-01T22:54:46.910Z"
   },
   {
    "duration": 17,
    "start_time": "2022-02-01T22:54:47.535Z"
   },
   {
    "duration": 3,
    "start_time": "2022-02-01T22:54:47.555Z"
   },
   {
    "duration": 595,
    "start_time": "2022-02-01T22:54:47.561Z"
   },
   {
    "duration": 685,
    "start_time": "2022-02-01T22:54:48.159Z"
   },
   {
    "duration": 18,
    "start_time": "2022-02-01T22:54:48.846Z"
   },
   {
    "duration": 3,
    "start_time": "2022-02-01T22:54:48.866Z"
   },
   {
    "duration": 761,
    "start_time": "2022-02-01T22:54:48.872Z"
   },
   {
    "duration": 616,
    "start_time": "2022-02-01T22:54:49.635Z"
   },
   {
    "duration": 19,
    "start_time": "2022-02-01T22:54:50.254Z"
   },
   {
    "duration": 114,
    "start_time": "2022-02-01T22:54:50.276Z"
   },
   {
    "duration": 12,
    "start_time": "2022-02-01T22:54:50.392Z"
   },
   {
    "duration": 7474,
    "start_time": "2022-02-01T22:57:27.262Z"
   },
   {
    "duration": 8222,
    "start_time": "2022-02-01T23:00:00.555Z"
   },
   {
    "duration": 6,
    "start_time": "2022-02-01T23:09:47.559Z"
   },
   {
    "duration": 7644,
    "start_time": "2022-02-01T23:10:22.206Z"
   },
   {
    "duration": 1449,
    "start_time": "2022-02-01T23:27:23.254Z"
   },
   {
    "duration": 55,
    "start_time": "2022-02-01T23:27:24.706Z"
   },
   {
    "duration": 236,
    "start_time": "2022-02-01T23:27:24.764Z"
   },
   {
    "duration": 235,
    "start_time": "2022-02-01T23:27:25.003Z"
   },
   {
    "duration": 139,
    "start_time": "2022-02-01T23:27:25.240Z"
   },
   {
    "duration": 30,
    "start_time": "2022-02-01T23:27:25.382Z"
   },
   {
    "duration": 9,
    "start_time": "2022-02-01T23:27:25.424Z"
   },
   {
    "duration": 4,
    "start_time": "2022-02-01T23:27:25.437Z"
   },
   {
    "duration": 24,
    "start_time": "2022-02-01T23:27:25.445Z"
   },
   {
    "duration": 130,
    "start_time": "2022-02-01T23:27:25.472Z"
   },
   {
    "duration": 33,
    "start_time": "2022-02-01T23:27:25.604Z"
   },
   {
    "duration": 57,
    "start_time": "2022-02-01T23:27:25.640Z"
   },
   {
    "duration": 47,
    "start_time": "2022-02-01T23:27:25.699Z"
   },
   {
    "duration": 46,
    "start_time": "2022-02-01T23:27:25.748Z"
   },
   {
    "duration": 43,
    "start_time": "2022-02-01T23:27:25.796Z"
   },
   {
    "duration": 30,
    "start_time": "2022-02-01T23:27:25.841Z"
   },
   {
    "duration": 76,
    "start_time": "2022-02-01T23:27:25.873Z"
   },
   {
    "duration": 19,
    "start_time": "2022-02-01T23:27:25.951Z"
   },
   {
    "duration": 27,
    "start_time": "2022-02-01T23:27:25.973Z"
   },
   {
    "duration": 23,
    "start_time": "2022-02-01T23:27:26.023Z"
   },
   {
    "duration": 31,
    "start_time": "2022-02-01T23:27:26.049Z"
   },
   {
    "duration": 52,
    "start_time": "2022-02-01T23:27:26.082Z"
   },
   {
    "duration": 15,
    "start_time": "2022-02-01T23:27:26.139Z"
   },
   {
    "duration": 32,
    "start_time": "2022-02-01T23:27:26.158Z"
   },
   {
    "duration": 13,
    "start_time": "2022-02-01T23:27:26.224Z"
   },
   {
    "duration": 6,
    "start_time": "2022-02-01T23:27:26.240Z"
   },
   {
    "duration": 79,
    "start_time": "2022-02-01T23:27:26.249Z"
   },
   {
    "duration": 20,
    "start_time": "2022-02-01T23:27:26.331Z"
   },
   {
    "duration": 13,
    "start_time": "2022-02-01T23:27:26.354Z"
   },
   {
    "duration": 12,
    "start_time": "2022-02-01T23:27:26.369Z"
   },
   {
    "duration": 45,
    "start_time": "2022-02-01T23:27:26.384Z"
   },
   {
    "duration": 15,
    "start_time": "2022-02-01T23:27:26.431Z"
   },
   {
    "duration": 7,
    "start_time": "2022-02-01T23:27:26.449Z"
   },
   {
    "duration": 510,
    "start_time": "2022-02-01T23:27:26.460Z"
   },
   {
    "duration": 11,
    "start_time": "2022-02-01T23:27:26.973Z"
   },
   {
    "duration": 79,
    "start_time": "2022-02-01T23:27:26.986Z"
   },
   {
    "duration": 339,
    "start_time": "2022-02-01T23:27:27.067Z"
   },
   {
    "duration": 920,
    "start_time": "2022-02-01T23:27:27.409Z"
   },
   {
    "duration": 5,
    "start_time": "2022-02-01T23:27:28.332Z"
   },
   {
    "duration": 561,
    "start_time": "2022-02-01T23:27:28.340Z"
   },
   {
    "duration": 621,
    "start_time": "2022-02-01T23:27:28.904Z"
   },
   {
    "duration": 18,
    "start_time": "2022-02-01T23:27:29.528Z"
   },
   {
    "duration": 4,
    "start_time": "2022-02-01T23:27:29.548Z"
   },
   {
    "duration": 667,
    "start_time": "2022-02-01T23:27:29.556Z"
   },
   {
    "duration": 667,
    "start_time": "2022-02-01T23:27:30.226Z"
   },
   {
    "duration": 35,
    "start_time": "2022-02-01T23:27:30.896Z"
   },
   {
    "duration": 3,
    "start_time": "2022-02-01T23:27:30.933Z"
   },
   {
    "duration": 601,
    "start_time": "2022-02-01T23:27:30.938Z"
   },
   {
    "duration": 673,
    "start_time": "2022-02-01T23:27:31.543Z"
   },
   {
    "duration": 18,
    "start_time": "2022-02-01T23:27:32.218Z"
   },
   {
    "duration": 3,
    "start_time": "2022-02-01T23:27:32.238Z"
   },
   {
    "duration": 588,
    "start_time": "2022-02-01T23:27:32.243Z"
   },
   {
    "duration": 612,
    "start_time": "2022-02-01T23:27:32.834Z"
   },
   {
    "duration": 27,
    "start_time": "2022-02-01T23:27:33.449Z"
   },
   {
    "duration": 113,
    "start_time": "2022-02-01T23:27:33.479Z"
   },
   {
    "duration": 10,
    "start_time": "2022-02-01T23:27:33.596Z"
   },
   {
    "duration": 149,
    "start_time": "2022-02-02T08:07:06.401Z"
   },
   {
    "duration": 111,
    "start_time": "2022-02-02T08:35:00.836Z"
   },
   {
    "duration": 1395,
    "start_time": "2022-02-02T08:44:45.454Z"
   },
   {
    "duration": 45,
    "start_time": "2022-02-02T08:44:46.852Z"
   },
   {
    "duration": 217,
    "start_time": "2022-02-02T08:44:46.900Z"
   },
   {
    "duration": 194,
    "start_time": "2022-02-02T08:44:47.119Z"
   },
   {
    "duration": 134,
    "start_time": "2022-02-02T08:44:47.315Z"
   },
   {
    "duration": 27,
    "start_time": "2022-02-02T08:44:47.451Z"
   },
   {
    "duration": 8,
    "start_time": "2022-02-02T08:44:47.480Z"
   },
   {
    "duration": 8,
    "start_time": "2022-02-02T08:44:47.492Z"
   },
   {
    "duration": 43,
    "start_time": "2022-02-02T08:44:47.503Z"
   },
   {
    "duration": 91,
    "start_time": "2022-02-02T08:44:47.549Z"
   },
   {
    "duration": 23,
    "start_time": "2022-02-02T08:44:47.642Z"
   },
   {
    "duration": 78,
    "start_time": "2022-02-02T08:44:47.668Z"
   },
   {
    "duration": 22,
    "start_time": "2022-02-02T08:44:47.748Z"
   },
   {
    "duration": 64,
    "start_time": "2022-02-02T08:44:47.772Z"
   },
   {
    "duration": 17,
    "start_time": "2022-02-02T08:44:47.838Z"
   },
   {
    "duration": 28,
    "start_time": "2022-02-02T08:44:47.858Z"
   },
   {
    "duration": 68,
    "start_time": "2022-02-02T08:44:47.889Z"
   },
   {
    "duration": 19,
    "start_time": "2022-02-02T08:44:47.959Z"
   },
   {
    "duration": 26,
    "start_time": "2022-02-02T08:44:47.980Z"
   },
   {
    "duration": 22,
    "start_time": "2022-02-02T08:44:48.032Z"
   },
   {
    "duration": 32,
    "start_time": "2022-02-02T08:44:48.057Z"
   },
   {
    "duration": 51,
    "start_time": "2022-02-02T08:44:48.092Z"
   },
   {
    "duration": 13,
    "start_time": "2022-02-02T08:44:48.149Z"
   },
   {
    "duration": 28,
    "start_time": "2022-02-02T08:44:48.165Z"
   },
   {
    "duration": 10,
    "start_time": "2022-02-02T08:44:48.196Z"
   },
   {
    "duration": 4,
    "start_time": "2022-02-02T08:44:48.233Z"
   },
   {
    "duration": 35,
    "start_time": "2022-02-02T08:44:48.240Z"
   },
   {
    "duration": 14,
    "start_time": "2022-02-02T08:44:48.277Z"
   },
   {
    "duration": 40,
    "start_time": "2022-02-02T08:44:48.294Z"
   },
   {
    "duration": 9,
    "start_time": "2022-02-02T08:44:48.336Z"
   },
   {
    "duration": 13,
    "start_time": "2022-02-02T08:44:48.348Z"
   },
   {
    "duration": 18,
    "start_time": "2022-02-02T08:44:48.364Z"
   },
   {
    "duration": 6,
    "start_time": "2022-02-02T08:44:48.384Z"
   },
   {
    "duration": 465,
    "start_time": "2022-02-02T08:44:48.392Z"
   },
   {
    "duration": 10,
    "start_time": "2022-02-02T08:44:48.859Z"
   },
   {
    "duration": 77,
    "start_time": "2022-02-02T08:44:48.872Z"
   },
   {
    "duration": 343,
    "start_time": "2022-02-02T08:44:48.952Z"
   },
   {
    "duration": 835,
    "start_time": "2022-02-02T08:44:49.297Z"
   },
   {
    "duration": 4,
    "start_time": "2022-02-02T08:44:50.134Z"
   },
   {
    "duration": 523,
    "start_time": "2022-02-02T08:44:50.140Z"
   },
   {
    "duration": 623,
    "start_time": "2022-02-02T08:44:50.665Z"
   },
   {
    "duration": 18,
    "start_time": "2022-02-02T08:44:51.291Z"
   },
   {
    "duration": 22,
    "start_time": "2022-02-02T08:44:51.312Z"
   },
   {
    "duration": 627,
    "start_time": "2022-02-02T08:44:51.337Z"
   },
   {
    "duration": 602,
    "start_time": "2022-02-02T08:44:51.966Z"
   },
   {
    "duration": 17,
    "start_time": "2022-02-02T08:44:52.570Z"
   },
   {
    "duration": 2,
    "start_time": "2022-02-02T08:44:52.590Z"
   },
   {
    "duration": 600,
    "start_time": "2022-02-02T08:44:52.594Z"
   },
   {
    "duration": 611,
    "start_time": "2022-02-02T08:44:53.197Z"
   },
   {
    "duration": 29,
    "start_time": "2022-02-02T08:44:53.810Z"
   },
   {
    "duration": 2,
    "start_time": "2022-02-02T08:44:53.842Z"
   },
   {
    "duration": 568,
    "start_time": "2022-02-02T08:44:53.846Z"
   },
   {
    "duration": 584,
    "start_time": "2022-02-02T08:44:54.416Z"
   },
   {
    "duration": 30,
    "start_time": "2022-02-02T08:44:55.003Z"
   },
   {
    "duration": 87,
    "start_time": "2022-02-02T08:44:55.035Z"
   },
   {
    "duration": 9,
    "start_time": "2022-02-02T08:44:55.134Z"
   }
  ],
  "kernelspec": {
   "display_name": "Python 3 (ipykernel)",
   "language": "python",
   "name": "python3"
  },
  "language_info": {
   "codemirror_mode": {
    "name": "ipython",
    "version": 3
   },
   "file_extension": ".py",
   "mimetype": "text/x-python",
   "name": "python",
   "nbconvert_exporter": "python",
   "pygments_lexer": "ipython3",
   "version": "3.9.5"
  },
  "toc": {
   "base_numbering": 1,
   "nav_menu": {},
   "number_sections": true,
   "sideBar": true,
   "skip_h1_title": true,
   "title_cell": "Table of Contents",
   "title_sidebar": "Contents",
   "toc_cell": true,
   "toc_position": {
    "height": "calc(100% - 180px)",
    "left": "10px",
    "top": "150px",
    "width": "289.6px"
   },
   "toc_section_display": true,
   "toc_window_display": true
  }
 },
 "nbformat": 4,
 "nbformat_minor": 2
}
