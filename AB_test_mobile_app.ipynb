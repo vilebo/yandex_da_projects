{
 "cells": [
  {
   "cell_type": "markdown",
   "metadata": {
    "toc": true
   },
   "source": [
    "<h1>Table of Contents<span class=\"tocSkip\"></span></h1>\n",
    "<div class=\"toc\"><ul class=\"toc-item\"><li><span><a href=\"#Описание-проекта\" data-toc-modified-id=\"Описание-проекта-1\"><span class=\"toc-item-num\">1&nbsp;&nbsp;</span>Описание проекта</a></span></li><li><span><a href=\"#Общая-информация\" data-toc-modified-id=\"Общая-информация-2\"><span class=\"toc-item-num\">2&nbsp;&nbsp;</span>Общая информация</a></span></li><li><span><a href=\"#Подготовка-данных\" data-toc-modified-id=\"Подготовка-данных-3\"><span class=\"toc-item-num\">3&nbsp;&nbsp;</span>Подготовка данных</a></span><ul class=\"toc-item\"><li><span><a href=\"#Вывод\" data-toc-modified-id=\"Вывод-3.1\"><span class=\"toc-item-num\">3.1&nbsp;&nbsp;</span>Вывод</a></span></li></ul></li><li><span><a href=\"#Изучение-и-проверка-данных\" data-toc-modified-id=\"Изучение-и-проверка-данных-4\"><span class=\"toc-item-num\">4&nbsp;&nbsp;</span>Изучение и проверка данных</a></span><ul class=\"toc-item\"><li><span><a href=\"#Всего-событий-в-логе\" data-toc-modified-id=\"Всего-событий-в-логе-4.1\"><span class=\"toc-item-num\">4.1&nbsp;&nbsp;</span>Всего событий в логе</a></span></li><li><span><a href=\"#Всего-пользователей-в-логе\" data-toc-modified-id=\"Всего-пользователей-в-логе-4.2\"><span class=\"toc-item-num\">4.2&nbsp;&nbsp;</span>Всего пользователей в логе</a></span></li><li><span><a href=\"#В-среднем-событий-приходится-на-пользователя\" data-toc-modified-id=\"В-среднем-событий-приходится-на-пользователя-4.3\"><span class=\"toc-item-num\">4.3&nbsp;&nbsp;</span>В среднем событий приходится на пользователя</a></span></li><li><span><a href=\"#Данными-за-какой-период--располагаю?\" data-toc-modified-id=\"Данными-за-какой-период--располагаю?-4.4\"><span class=\"toc-item-num\">4.4&nbsp;&nbsp;</span>Данными за какой период  располагаю?</a></span></li><li><span><a href=\"#Много-ли-событий-и-пользователей-потеряно-после-очистки-данных?\" data-toc-modified-id=\"Много-ли-событий-и-пользователей-потеряно-после-очистки-данных?-4.5\"><span class=\"toc-item-num\">4.5&nbsp;&nbsp;</span>Много ли событий и пользователей потеряно после очистки данных?</a></span></li><li><span><a href=\"#Проверка,-что-в-очищенных-данных--есть-пользователи-из-всех-трёх-экспериментальных-групп.\" data-toc-modified-id=\"Проверка,-что-в-очищенных-данных--есть-пользователи-из-всех-трёх-экспериментальных-групп.-4.6\"><span class=\"toc-item-num\">4.6&nbsp;&nbsp;</span>Проверка, что в очищенных данных  есть пользователи из всех трёх экспериментальных групп.</a></span></li><li><span><a href=\"#Вывод\" data-toc-modified-id=\"Вывод-4.7\"><span class=\"toc-item-num\">4.7&nbsp;&nbsp;</span>Вывод</a></span></li></ul></li><li><span><a href=\"#Изучение-воронки-событий\" data-toc-modified-id=\"Изучение-воронки-событий-5\"><span class=\"toc-item-num\">5&nbsp;&nbsp;</span>Изучение воронки событий</a></span><ul class=\"toc-item\"><li><span><a href=\"#Какие-события-есть-в-логах,-как-часто-они-встречаются.\" data-toc-modified-id=\"Какие-события-есть-в-логах,-как-часто-они-встречаются.-5.1\"><span class=\"toc-item-num\">5.1&nbsp;&nbsp;</span>Какие события есть в логах, как часто они встречаются.</a></span></li><li><span><a href=\"#Cколько-пользователей-совершали-каждое-из-этих-событий.\" data-toc-modified-id=\"Cколько-пользователей-совершали-каждое-из-этих-событий.-5.2\"><span class=\"toc-item-num\">5.2&nbsp;&nbsp;</span>Cколько пользователей совершали каждое из этих событий.</a></span></li><li><span><a href=\"#Все-ли-события-выстраиваются-в-последовательную-цепочку?\" data-toc-modified-id=\"Все-ли-события-выстраиваются-в-последовательную-цепочку?-5.3\"><span class=\"toc-item-num\">5.3&nbsp;&nbsp;</span>Все ли события выстраиваются в последовательную цепочку?</a></span></li><li><span><a href=\"#Какая-доля-пользователей-проходит-на-следующий-шаг-воронки-(от-числа-пользователей-на-предыдущем).\" data-toc-modified-id=\"Какая-доля-пользователей-проходит-на-следующий-шаг-воронки-(от-числа-пользователей-на-предыдущем).-5.4\"><span class=\"toc-item-num\">5.4&nbsp;&nbsp;</span>Какая доля пользователей проходит на следующий шаг воронки (от числа пользователей на предыдущем).</a></span></li><li><span><a href=\"#На-каком-шаге-теряете-больше-всего-пользователей?-Какая-доля-пользователей-доходит-от-первого-события-до-оплаты?\" data-toc-modified-id=\"На-каком-шаге-теряете-больше-всего-пользователей?-Какая-доля-пользователей-доходит-от-первого-события-до-оплаты?-5.5\"><span class=\"toc-item-num\">5.5&nbsp;&nbsp;</span>На каком шаге теряете больше всего пользователей? Какая доля пользователей доходит от первого события до оплаты?</a></span></li><li><span><a href=\"#Вывод\" data-toc-modified-id=\"Вывод-5.6\"><span class=\"toc-item-num\">5.6&nbsp;&nbsp;</span>Вывод</a></span></li></ul></li><li><span><a href=\"#Изучение-результата-эксперимента\" data-toc-modified-id=\"Изучение-результата-эксперимента-6\"><span class=\"toc-item-num\">6&nbsp;&nbsp;</span>Изучение результата эксперимента</a></span><ul class=\"toc-item\"><li><span><a href=\"#Сколько-пользователей-в-каждой-экспериментальной-группе?\" data-toc-modified-id=\"Сколько-пользователей-в-каждой-экспериментальной-группе?-6.1\"><span class=\"toc-item-num\">6.1&nbsp;&nbsp;</span>Сколько пользователей в каждой экспериментальной группе?</a></span></li><li><span><a href=\"#Проверка-равенства-долей-контрольных-групп-для-А/А-эксперимента\" data-toc-modified-id=\"Проверка-равенства-долей-контрольных-групп-для-А/А-эксперимента-6.2\"><span class=\"toc-item-num\">6.2&nbsp;&nbsp;</span>Проверка равенства долей контрольных групп для А/А-эксперимента</a></span></li><li><span><a href=\"#Вывод\" data-toc-modified-id=\"Вывод-6.3\"><span class=\"toc-item-num\">6.3&nbsp;&nbsp;</span>Вывод</a></span></li><li><span><a href=\"#Проверка-равенства-долей-контрольных-и-тестируемой-групп-для-А/В-эксперимента\" data-toc-modified-id=\"Проверка-равенства-долей-контрольных-и-тестируемой-групп-для-А/В-эксперимента-6.4\"><span class=\"toc-item-num\">6.4&nbsp;&nbsp;</span>Проверка равенства долей контрольных и тестируемой групп для А/В-эксперимента</a></span></li><li><span><a href=\"#Применение-поправки-Бонферрони-для-оценки-результатов-тестирвоания.\" data-toc-modified-id=\"Применение-поправки-Бонферрони-для-оценки-результатов-тестирвоания.-6.5\"><span class=\"toc-item-num\">6.5&nbsp;&nbsp;</span>Применение поправки Бонферрони для оценки результатов тестирвоания.</a></span></li><li><span><a href=\"#Вывод\" data-toc-modified-id=\"Вывод-6.6\"><span class=\"toc-item-num\">6.6&nbsp;&nbsp;</span>Вывод</a></span></li></ul></li><li><span><a href=\"#Вывод\" data-toc-modified-id=\"Вывод-7\"><span class=\"toc-item-num\">7&nbsp;&nbsp;</span>Вывод</a></span></li></ul></div>"
   ]
  },
  {
   "cell_type": "markdown",
   "metadata": {},
   "source": [
    "# Анализ пользовательского поведения в мобильном приложении"
   ]
  },
  {
   "cell_type": "markdown",
   "metadata": {},
   "source": [
    "## Описание проекта\n",
    "\n",
    "\n",
    "**Контекст**\n",
    "\n",
    "Стартап продаёт продукты питания. Нужно разобраться, как ведут себя пользователи мобильного приложения.  \n",
    "\n",
    "Изучите воронку продаж. Узнайте, как пользователи доходят до покупки. Сколько пользователей доходит до покупки, а сколько — «застревает» на предыдущих шагах? На каких именно?  \n",
    "\n",
    "После этого исследуйте результаты A/A/B-эксперимента. Дизайнеры захотели поменять шрифты во всём приложении, а менеджеры испугались, что пользователям будет непривычно. Договорились принять решение по результатам A/A/B-теста. Пользователей разбили на 3 группы: 2 контрольные со старыми шрифтами и одну экспериментальную — с новыми. Выясните, какой шрифт лучше.\n",
    "Создание двух групп A вместо одной имеет определённые преимущества. Если две контрольные группы окажутся равны, вы можете быть уверены в точности проведенного тестирования. Если же между значениями A и A будут существенные различия, это поможет обнаружить факторы, которые привели к искажению результатов. Сравнение контрольных групп также помогает понять, сколько времени и данных потребуется для дальнейших тестов.  \n",
    "\n",
    "В случае общей аналитики и A/A/B-эксперимента работайте с одними и теми же данными. В реальных проектах всегда идут эксперименты. Аналитики исследуют качество работы приложения по общим данным, не учитывая принадлежность пользователей к экспериментам.\n",
    "\n",
    "**Путь к файлу:**  /datasets/logs_exp.csv  \n",
    "\n",
    "**Описание данных**\n",
    "\n",
    "- **EventName** — название события;\n",
    "- **DeviceIDHash** — уникальный идентификатор пользователя;\n",
    "- **EventTimestamp** — время события;\n",
    "- **ExpId** — номер эксперимента: 246 и 247 — контрольные группы, а 248 — экспериментальная."
   ]
  },
  {
   "cell_type": "markdown",
   "metadata": {},
   "source": [
    "##  Общая информация"
   ]
  },
  {
   "cell_type": "code",
   "execution_count": 1,
   "metadata": {},
   "outputs": [],
   "source": [
    "import warnings\n",
    "warnings.filterwarnings('ignore') #скрытие предупреждений\n",
    "\n",
    "import pandas as pd\n",
    "import numpy as np\n",
    "import math  as mth\n",
    "import datetime as dt\n",
    "import matplotlib.pyplot as plt\n",
    "from pandas.plotting import register_matplotlib_converters\n",
    "from scipy import stats as st\n",
    "import seaborn as sns\n",
    "import plotly.graph_objs as go\n",
    "import plotly.express as px\n",
    "from plotly.subplots import make_subplots\n",
    "\n",
    "\n",
    "#сокращение количества цифр после запятой\n",
    "pd.set_option('display.precision',1)\n",
    "\n",
    "#увеличение максимальной ширины столбцов\n",
    "pd.options.display.max_colwidth = 100"
   ]
  },
  {
   "cell_type": "code",
   "execution_count": 2,
   "metadata": {},
   "outputs": [],
   "source": [
    "#загрузка таблицы\n",
    "logs = pd.read_csv('/datasets/logs_exp.csv', sep='\\t')"
   ]
  },
  {
   "cell_type": "code",
   "execution_count": 3,
   "metadata": {},
   "outputs": [],
   "source": [
    "#Напишу функцию для просмотра основных сведений о таблице\n",
    "def table_info(table):\n",
    "    \n",
    "    display(table.head(10))\n",
    "    display(table.info())\n",
    "    display(table.describe())\n",
    "    print('Явных дубликатов в таблице:', table.duplicated().sum())\n",
    "    \n",
    "    return table_info"
   ]
  },
  {
   "cell_type": "code",
   "execution_count": 4,
   "metadata": {
    "scrolled": true
   },
   "outputs": [
    {
     "data": {
      "text/html": [
       "<div>\n",
       "<style scoped>\n",
       "    .dataframe tbody tr th:only-of-type {\n",
       "        vertical-align: middle;\n",
       "    }\n",
       "\n",
       "    .dataframe tbody tr th {\n",
       "        vertical-align: top;\n",
       "    }\n",
       "\n",
       "    .dataframe thead th {\n",
       "        text-align: right;\n",
       "    }\n",
       "</style>\n",
       "<table border=\"1\" class=\"dataframe\">\n",
       "  <thead>\n",
       "    <tr style=\"text-align: right;\">\n",
       "      <th></th>\n",
       "      <th>EventName</th>\n",
       "      <th>DeviceIDHash</th>\n",
       "      <th>EventTimestamp</th>\n",
       "      <th>ExpId</th>\n",
       "    </tr>\n",
       "  </thead>\n",
       "  <tbody>\n",
       "    <tr>\n",
       "      <th>0</th>\n",
       "      <td>MainScreenAppear</td>\n",
       "      <td>4575588528974610257</td>\n",
       "      <td>1564029816</td>\n",
       "      <td>246</td>\n",
       "    </tr>\n",
       "    <tr>\n",
       "      <th>1</th>\n",
       "      <td>MainScreenAppear</td>\n",
       "      <td>7416695313311560658</td>\n",
       "      <td>1564053102</td>\n",
       "      <td>246</td>\n",
       "    </tr>\n",
       "    <tr>\n",
       "      <th>2</th>\n",
       "      <td>PaymentScreenSuccessful</td>\n",
       "      <td>3518123091307005509</td>\n",
       "      <td>1564054127</td>\n",
       "      <td>248</td>\n",
       "    </tr>\n",
       "    <tr>\n",
       "      <th>3</th>\n",
       "      <td>CartScreenAppear</td>\n",
       "      <td>3518123091307005509</td>\n",
       "      <td>1564054127</td>\n",
       "      <td>248</td>\n",
       "    </tr>\n",
       "    <tr>\n",
       "      <th>4</th>\n",
       "      <td>PaymentScreenSuccessful</td>\n",
       "      <td>6217807653094995999</td>\n",
       "      <td>1564055322</td>\n",
       "      <td>248</td>\n",
       "    </tr>\n",
       "    <tr>\n",
       "      <th>5</th>\n",
       "      <td>CartScreenAppear</td>\n",
       "      <td>6217807653094995999</td>\n",
       "      <td>1564055323</td>\n",
       "      <td>248</td>\n",
       "    </tr>\n",
       "    <tr>\n",
       "      <th>6</th>\n",
       "      <td>OffersScreenAppear</td>\n",
       "      <td>8351860793733343758</td>\n",
       "      <td>1564066242</td>\n",
       "      <td>246</td>\n",
       "    </tr>\n",
       "    <tr>\n",
       "      <th>7</th>\n",
       "      <td>MainScreenAppear</td>\n",
       "      <td>5682100281902512875</td>\n",
       "      <td>1564085677</td>\n",
       "      <td>246</td>\n",
       "    </tr>\n",
       "    <tr>\n",
       "      <th>8</th>\n",
       "      <td>MainScreenAppear</td>\n",
       "      <td>1850981295691852772</td>\n",
       "      <td>1564086702</td>\n",
       "      <td>247</td>\n",
       "    </tr>\n",
       "    <tr>\n",
       "      <th>9</th>\n",
       "      <td>MainScreenAppear</td>\n",
       "      <td>5407636962369102641</td>\n",
       "      <td>1564112112</td>\n",
       "      <td>246</td>\n",
       "    </tr>\n",
       "  </tbody>\n",
       "</table>\n",
       "</div>"
      ],
      "text/plain": [
       "                 EventName         DeviceIDHash  EventTimestamp  ExpId\n",
       "0         MainScreenAppear  4575588528974610257      1564029816    246\n",
       "1         MainScreenAppear  7416695313311560658      1564053102    246\n",
       "2  PaymentScreenSuccessful  3518123091307005509      1564054127    248\n",
       "3         CartScreenAppear  3518123091307005509      1564054127    248\n",
       "4  PaymentScreenSuccessful  6217807653094995999      1564055322    248\n",
       "5         CartScreenAppear  6217807653094995999      1564055323    248\n",
       "6       OffersScreenAppear  8351860793733343758      1564066242    246\n",
       "7         MainScreenAppear  5682100281902512875      1564085677    246\n",
       "8         MainScreenAppear  1850981295691852772      1564086702    247\n",
       "9         MainScreenAppear  5407636962369102641      1564112112    246"
      ]
     },
     "metadata": {},
     "output_type": "display_data"
    },
    {
     "name": "stdout",
     "output_type": "stream",
     "text": [
      "<class 'pandas.core.frame.DataFrame'>\n",
      "RangeIndex: 244126 entries, 0 to 244125\n",
      "Data columns (total 4 columns):\n",
      " #   Column          Non-Null Count   Dtype \n",
      "---  ------          --------------   ----- \n",
      " 0   EventName       244126 non-null  object\n",
      " 1   DeviceIDHash    244126 non-null  int64 \n",
      " 2   EventTimestamp  244126 non-null  int64 \n",
      " 3   ExpId           244126 non-null  int64 \n",
      "dtypes: int64(3), object(1)\n",
      "memory usage: 7.5+ MB\n"
     ]
    },
    {
     "data": {
      "text/plain": [
       "None"
      ]
     },
     "metadata": {},
     "output_type": "display_data"
    },
    {
     "data": {
      "text/html": [
       "<div>\n",
       "<style scoped>\n",
       "    .dataframe tbody tr th:only-of-type {\n",
       "        vertical-align: middle;\n",
       "    }\n",
       "\n",
       "    .dataframe tbody tr th {\n",
       "        vertical-align: top;\n",
       "    }\n",
       "\n",
       "    .dataframe thead th {\n",
       "        text-align: right;\n",
       "    }\n",
       "</style>\n",
       "<table border=\"1\" class=\"dataframe\">\n",
       "  <thead>\n",
       "    <tr style=\"text-align: right;\">\n",
       "      <th></th>\n",
       "      <th>DeviceIDHash</th>\n",
       "      <th>EventTimestamp</th>\n",
       "      <th>ExpId</th>\n",
       "    </tr>\n",
       "  </thead>\n",
       "  <tbody>\n",
       "    <tr>\n",
       "      <th>count</th>\n",
       "      <td>2.4e+05</td>\n",
       "      <td>2.4e+05</td>\n",
       "      <td>244126.0</td>\n",
       "    </tr>\n",
       "    <tr>\n",
       "      <th>mean</th>\n",
       "      <td>4.6e+18</td>\n",
       "      <td>1.6e+09</td>\n",
       "      <td>247.0</td>\n",
       "    </tr>\n",
       "    <tr>\n",
       "      <th>std</th>\n",
       "      <td>2.6e+18</td>\n",
       "      <td>1.8e+05</td>\n",
       "      <td>0.8</td>\n",
       "    </tr>\n",
       "    <tr>\n",
       "      <th>min</th>\n",
       "      <td>6.9e+15</td>\n",
       "      <td>1.6e+09</td>\n",
       "      <td>246.0</td>\n",
       "    </tr>\n",
       "    <tr>\n",
       "      <th>25%</th>\n",
       "      <td>2.4e+18</td>\n",
       "      <td>1.6e+09</td>\n",
       "      <td>246.0</td>\n",
       "    </tr>\n",
       "    <tr>\n",
       "      <th>50%</th>\n",
       "      <td>4.6e+18</td>\n",
       "      <td>1.6e+09</td>\n",
       "      <td>247.0</td>\n",
       "    </tr>\n",
       "    <tr>\n",
       "      <th>75%</th>\n",
       "      <td>6.9e+18</td>\n",
       "      <td>1.6e+09</td>\n",
       "      <td>248.0</td>\n",
       "    </tr>\n",
       "    <tr>\n",
       "      <th>max</th>\n",
       "      <td>9.2e+18</td>\n",
       "      <td>1.6e+09</td>\n",
       "      <td>248.0</td>\n",
       "    </tr>\n",
       "  </tbody>\n",
       "</table>\n",
       "</div>"
      ],
      "text/plain": [
       "       DeviceIDHash  EventTimestamp     ExpId\n",
       "count       2.4e+05         2.4e+05  244126.0\n",
       "mean        4.6e+18         1.6e+09     247.0\n",
       "std         2.6e+18         1.8e+05       0.8\n",
       "min         6.9e+15         1.6e+09     246.0\n",
       "25%         2.4e+18         1.6e+09     246.0\n",
       "50%         4.6e+18         1.6e+09     247.0\n",
       "75%         6.9e+18         1.6e+09     248.0\n",
       "max         9.2e+18         1.6e+09     248.0"
      ]
     },
     "metadata": {},
     "output_type": "display_data"
    },
    {
     "name": "stdout",
     "output_type": "stream",
     "text": [
      "Явных дубликатов в таблице: 413\n"
     ]
    }
   ],
   "source": [
    "#Информация о таблице logs\n",
    "logs_info = table_info(logs)"
   ]
  },
  {
   "cell_type": "markdown",
   "metadata": {},
   "source": [
    "В целом, на первый взгляд данные в порядке. Столбец с временем представлен в формате unix time (в секундах). Обработаю этот столбец и добавлю столбец даты и времени, а также отдельный столбец дат.\n",
    "\n",
    "Нужно исправить:  \n",
    "\n",
    "- удалить явные дубликаты;\n",
    "- переименовать столбцы;\n",
    "- добавить столбец даты и времени, а также отдельный столбец дат."
   ]
  },
  {
   "cell_type": "markdown",
   "metadata": {},
   "source": [
    "## Подготовка данных\n",
    "\n",
    "Проведу подготовку данных для дальнейшего анализа:\n",
    "- удалю явные дубликаты;\n",
    "- переименую столбцы;\n",
    "- добавлю столбец даты и времени, а также отдельный столбец дат."
   ]
  },
  {
   "cell_type": "code",
   "execution_count": 5,
   "metadata": {},
   "outputs": [
    {
     "name": "stdout",
     "output_type": "stream",
     "text": [
      "Явных дубликатов 0\n"
     ]
    }
   ],
   "source": [
    "# Удаляю явные дубликаты\n",
    "logs=logs.drop_duplicates().reset_index(drop=True)\n",
    "print ('Явных дубликатов', logs.duplicated().sum())\n"
   ]
  },
  {
   "cell_type": "code",
   "execution_count": 6,
   "metadata": {
    "scrolled": false
   },
   "outputs": [],
   "source": [
    "# Меняю названия столбцов\n",
    "#logs.columns=['event', 'user_id', 'event_timestamp', 'exp_group']\n",
    "\n",
    "logs.rename(columns = {'EventName':'event', 'DeviceIDHash':'user_id', 'EventTimestamp':'event_timestamp', 'ExpId':'exp_group'}, inplace = True)"
   ]
  },
  {
   "cell_type": "code",
   "execution_count": 7,
   "metadata": {},
   "outputs": [],
   "source": [
    "#Создаю столбец даты и времени\n",
    "logs['event_datetime']  = pd.to_datetime(logs['event_timestamp'], unit='s', origin='unix')\n",
    "#Создаю столбец дат\n",
    "logs['event_date'] = logs['event_datetime'].astype('datetime64[D]').dt.strftime('%Y-%m-%d')\n",
    "#Создаю столбец месяцев\n",
    "#logs['event_month'] = logs['event_datetime'].astype('datetime64[M]')\n"
   ]
  },
  {
   "cell_type": "code",
   "execution_count": 8,
   "metadata": {
    "scrolled": true
   },
   "outputs": [
    {
     "name": "stdout",
     "output_type": "stream",
     "text": [
      "<class 'pandas.core.frame.DataFrame'>\n",
      "RangeIndex: 243713 entries, 0 to 243712\n",
      "Data columns (total 6 columns):\n",
      " #   Column           Non-Null Count   Dtype         \n",
      "---  ------           --------------   -----         \n",
      " 0   event            243713 non-null  object        \n",
      " 1   user_id          243713 non-null  int64         \n",
      " 2   event_timestamp  243713 non-null  int64         \n",
      " 3   exp_group        243713 non-null  int64         \n",
      " 4   event_datetime   243713 non-null  datetime64[ns]\n",
      " 5   event_date       243713 non-null  object        \n",
      "dtypes: datetime64[ns](1), int64(3), object(2)\n",
      "memory usage: 11.2+ MB\n"
     ]
    },
    {
     "data": {
      "text/html": [
       "<div>\n",
       "<style scoped>\n",
       "    .dataframe tbody tr th:only-of-type {\n",
       "        vertical-align: middle;\n",
       "    }\n",
       "\n",
       "    .dataframe tbody tr th {\n",
       "        vertical-align: top;\n",
       "    }\n",
       "\n",
       "    .dataframe thead th {\n",
       "        text-align: right;\n",
       "    }\n",
       "</style>\n",
       "<table border=\"1\" class=\"dataframe\">\n",
       "  <thead>\n",
       "    <tr style=\"text-align: right;\">\n",
       "      <th></th>\n",
       "      <th>event</th>\n",
       "      <th>user_id</th>\n",
       "      <th>event_timestamp</th>\n",
       "      <th>exp_group</th>\n",
       "      <th>event_datetime</th>\n",
       "      <th>event_date</th>\n",
       "    </tr>\n",
       "  </thead>\n",
       "  <tbody>\n",
       "    <tr>\n",
       "      <th>0</th>\n",
       "      <td>MainScreenAppear</td>\n",
       "      <td>4575588528974610257</td>\n",
       "      <td>1564029816</td>\n",
       "      <td>246</td>\n",
       "      <td>2019-07-25 04:43:36</td>\n",
       "      <td>2019-07-25</td>\n",
       "    </tr>\n",
       "    <tr>\n",
       "      <th>1</th>\n",
       "      <td>MainScreenAppear</td>\n",
       "      <td>7416695313311560658</td>\n",
       "      <td>1564053102</td>\n",
       "      <td>246</td>\n",
       "      <td>2019-07-25 11:11:42</td>\n",
       "      <td>2019-07-25</td>\n",
       "    </tr>\n",
       "    <tr>\n",
       "      <th>2</th>\n",
       "      <td>PaymentScreenSuccessful</td>\n",
       "      <td>3518123091307005509</td>\n",
       "      <td>1564054127</td>\n",
       "      <td>248</td>\n",
       "      <td>2019-07-25 11:28:47</td>\n",
       "      <td>2019-07-25</td>\n",
       "    </tr>\n",
       "    <tr>\n",
       "      <th>3</th>\n",
       "      <td>CartScreenAppear</td>\n",
       "      <td>3518123091307005509</td>\n",
       "      <td>1564054127</td>\n",
       "      <td>248</td>\n",
       "      <td>2019-07-25 11:28:47</td>\n",
       "      <td>2019-07-25</td>\n",
       "    </tr>\n",
       "    <tr>\n",
       "      <th>4</th>\n",
       "      <td>PaymentScreenSuccessful</td>\n",
       "      <td>6217807653094995999</td>\n",
       "      <td>1564055322</td>\n",
       "      <td>248</td>\n",
       "      <td>2019-07-25 11:48:42</td>\n",
       "      <td>2019-07-25</td>\n",
       "    </tr>\n",
       "  </tbody>\n",
       "</table>\n",
       "</div>"
      ],
      "text/plain": [
       "                     event              user_id  event_timestamp  exp_group  \\\n",
       "0         MainScreenAppear  4575588528974610257       1564029816        246   \n",
       "1         MainScreenAppear  7416695313311560658       1564053102        246   \n",
       "2  PaymentScreenSuccessful  3518123091307005509       1564054127        248   \n",
       "3         CartScreenAppear  3518123091307005509       1564054127        248   \n",
       "4  PaymentScreenSuccessful  6217807653094995999       1564055322        248   \n",
       "\n",
       "       event_datetime  event_date  \n",
       "0 2019-07-25 04:43:36  2019-07-25  \n",
       "1 2019-07-25 11:11:42  2019-07-25  \n",
       "2 2019-07-25 11:28:47  2019-07-25  \n",
       "3 2019-07-25 11:28:47  2019-07-25  \n",
       "4 2019-07-25 11:48:42  2019-07-25  "
      ]
     },
     "execution_count": 8,
     "metadata": {},
     "output_type": "execute_result"
    }
   ],
   "source": [
    "logs.info()\n",
    "logs.head()"
   ]
  },
  {
   "cell_type": "markdown",
   "metadata": {},
   "source": [
    "### Вывод\n",
    "\n",
    "Данные подготовлены для дальнейшего анализа:измененны названия столбцов, удалены явные дубликаты, добавлены столбцы с датой и времением и датой. \n"
   ]
  },
  {
   "cell_type": "markdown",
   "metadata": {},
   "source": [
    "##  Изучение и проверка данных"
   ]
  },
  {
   "cell_type": "markdown",
   "metadata": {},
   "source": [
    "### Всего событий в логе"
   ]
  },
  {
   "cell_type": "code",
   "execution_count": 9,
   "metadata": {},
   "outputs": [
    {
     "name": "stdout",
     "output_type": "stream",
     "text": [
      "Всего событий в логе : 243713\n"
     ]
    }
   ],
   "source": [
    "events = len(logs)\n",
    "print('Всего событий в логе :', events)"
   ]
  },
  {
   "cell_type": "markdown",
   "metadata": {},
   "source": [
    "### Всего пользователей в логе"
   ]
  },
  {
   "cell_type": "code",
   "execution_count": 10,
   "metadata": {},
   "outputs": [
    {
     "name": "stdout",
     "output_type": "stream",
     "text": [
      "Всего пользователей в логе : 7551\n"
     ]
    }
   ],
   "source": [
    "users = logs['user_id'].nunique()\n",
    "print('Всего пользователей в логе :', users)"
   ]
  },
  {
   "cell_type": "markdown",
   "metadata": {},
   "source": [
    "### В среднем событий приходится на пользователя"
   ]
  },
  {
   "cell_type": "markdown",
   "metadata": {},
   "source": [
    "Сначала посмотрю на распределение событий на каждого пользователя. Сгруппирую пользоватлей по событиям и вызову метод describe(). В зависимости от разброса значений, опредлеюсь что брать как \"среднее\" - среднее или медиану."
   ]
  },
  {
   "cell_type": "code",
   "execution_count": 11,
   "metadata": {
    "scrolled": true
   },
   "outputs": [
    {
     "data": {
      "text/plain": [
       "count    7551.0\n",
       "mean       32.3\n",
       "std        65.2\n",
       "min         1.0\n",
       "25%         9.0\n",
       "50%        20.0\n",
       "75%        37.0\n",
       "max      2307.0\n",
       "Name: event, dtype: float64"
      ]
     },
     "metadata": {},
     "output_type": "display_data"
    }
   ],
   "source": [
    "# Группирую пользователей по событиям\n",
    "#user_event = logs.groupby('user_id')['event'].count()\n",
    "display(logs.groupby('user_id')['event'].count().describe())\n"
   ]
  },
  {
   "cell_type": "markdown",
   "metadata": {},
   "source": [
    "Разброс значений очень широкий. Есть пользователи совершающие как 1 действие, так и выбивающиеся из основной массы по количеству действий.   \n",
    "**Среднее количество событий на одного пользователя - 32** ,  \n",
    "**Медианное количество событий на одного пользователя - 20**.  \n",
    "\n",
    "**Учитывая, что есть пользователи с экстримально большим количеством посещений (до 2307), буду ориентироваться на медиану.**"
   ]
  },
  {
   "cell_type": "markdown",
   "metadata": {},
   "source": [
    "### Данными за какой период  располагаю?  \n",
    "\n",
    "План действий:\n",
    "- Найти  максимальную и минимальную дату. \n",
    "- Построить гистограмму по дате и времени. \n",
    "- Уточнить, одинаково  ли полные данные за весь период. Определить, с какого момента данные полные и отбросить более старые. \n",
    "- Определить данными за какой период времени в распоряжении на самом деле."
   ]
  },
  {
   "cell_type": "markdown",
   "metadata": {},
   "source": [
    "Сначала определю временные рамки - найду минимальную и максимальную даты предоставленных данных."
   ]
  },
  {
   "cell_type": "code",
   "execution_count": 12,
   "metadata": {
    "scrolled": true
   },
   "outputs": [
    {
     "name": "stdout",
     "output_type": "stream",
     "text": [
      "Временные рамки: минимальная дата - 2019-07-25, максимальная дата - 2019-08-07\n"
     ]
    }
   ],
   "source": [
    "print('Временные рамки: минимальная дата - {}, максимальная дата - {}'.format(logs['event_date'].min(), logs['event_date'].max()))"
   ]
  },
  {
   "cell_type": "code",
   "execution_count": 13,
   "metadata": {
    "scrolled": true
   },
   "outputs": [],
   "source": [
    "#a = logs['event_datetime'].max()\n",
    "#b = logs['event_datetime'].min()\n",
    "#a = a.split('-')\n",
    "#b = b.split('-')\n",
    "#aa = dt.date(int(a[0]),int(a[1]),int(a[2]))\n",
    "#bb = dt.date(int(b[0]),int(b[1]),int(b[2]))\n",
    "#cc = aa-bb\n",
    "#print(cc) # output days and time\n",
    "#dd = str(cc)\n",
    "#print(dd.split()[0])"
   ]
  },
  {
   "cell_type": "code",
   "execution_count": 14,
   "metadata": {
    "scrolled": true
   },
   "outputs": [
    {
     "data": {
      "text/plain": [
       "Text(0.5, 1.0, 'Распределение событий лога по времени')"
      ]
     },
     "execution_count": 14,
     "metadata": {},
     "output_type": "execute_result"
    },
    {
     "data": {
      "image/png": "[encoded data removed]",
      "text/plain": [
       "<Figure size 720x360 with 1 Axes>"
      ]
     },
     "metadata": {
      "needs_background": "light"
     },
     "output_type": "display_data"
    }
   ],
   "source": [
    "#logs['event_date'].hist(bins=13) # логи за 13 дней\n",
    "#plt.xticks(rotation=45)\n",
    "#plt.title('Распределение событий лога по времени');\n",
    "\n",
    "\n",
    "plt.figure(figsize=(10,5))\n",
    "logs.groupby('event_date')['event'].count().plot(kind='bar', rot=45)\n",
    "plt.title('Распределение событий лога по времени')\n"
   ]
  },
  {
   "cell_type": "markdown",
   "metadata": {},
   "source": [
    "Согласно гистограмме, данные до 01.08.2019 почти полностью отсутсвуют. В связи с этим, для дальнейшего анализа буду использовать данные начиная с этой даты. Остальные данные отброшу. "
   ]
  },
  {
   "cell_type": "code",
   "execution_count": 15,
   "metadata": {
    "scrolled": true
   },
   "outputs": [],
   "source": [
    "logs = logs.query('event_date > \"2019-07-31\"')"
   ]
  },
  {
   "cell_type": "markdown",
   "metadata": {},
   "source": [
    "### Много ли событий и пользователей потеряно после очистки данных?"
   ]
  },
  {
   "cell_type": "code",
   "execution_count": 16,
   "metadata": {},
   "outputs": [
    {
     "name": "stdout",
     "output_type": "stream",
     "text": [
      "Очищенные данные. Всего событий в логе : 240887\n",
      "Очищенные данные. Всего пользователей в логе : 7534\n"
     ]
    }
   ],
   "source": [
    "events = len(logs)\n",
    "print('Очищенные данные. Всего событий в логе :', events)\n",
    "users = logs['user_id'].nunique()\n",
    "print('Очищенные данные. Всего пользователей в логе :', users)"
   ]
  },
  {
   "cell_type": "markdown",
   "metadata": {},
   "source": [
    "С очисткой потерялось всего 796 событий и 9 пользователей. Эти потери можно считать несущественными и продолжить анализ. Далее проверю, есть ли в  очищенных данных пользователи из всех трёх экспериментальных групп."
   ]
  },
  {
   "cell_type": "markdown",
   "metadata": {},
   "source": [
    "### Проверка, что в очищенных данных  есть пользователи из всех трёх экспериментальных групп."
   ]
  },
  {
   "cell_type": "code",
   "execution_count": 17,
   "metadata": {
    "scrolled": true
   },
   "outputs": [
    {
     "data": {
      "text/plain": [
       "exp_group\n",
       "246    2484\n",
       "247    2513\n",
       "248    2537\n",
       "Name: user_id, dtype: int64"
      ]
     },
     "execution_count": 17,
     "metadata": {},
     "output_type": "execute_result"
    }
   ],
   "source": [
    "logs.groupby('exp_group')['user_id'].nunique()"
   ]
  },
  {
   "cell_type": "markdown",
   "metadata": {},
   "source": [
    "В данных есть пользователи из всех трех экспериментальных групп, причем практически в равных долях. Можно проводить эксперимент.\n"
   ]
  },
  {
   "cell_type": "markdown",
   "metadata": {},
   "source": [
    "### Вывод\n",
    "\n",
    "- Было определено что **среднее количество событий на одного пользователя - 20**.\n",
    "- С помощью гистограммы было опредлено, что не за весь период данные полные (до 31.07.19 они практически полностью отсуствуют). Поэтому, для анализа отобраны данные  **с 31.07.2019 по 07.08.2019**.\n",
    "- **Всего событий в логе после очистки: 240887**\n",
    "- **Всего пользователей в логе после очистки : 7534**\n",
    "- Проведена проверка, что **в данных есть пользователи из всех трех экспериментальных групп, причем практически в равных долях.**\n"
   ]
  },
  {
   "cell_type": "markdown",
   "metadata": {},
   "source": [
    "## Изучение воронки событий"
   ]
  },
  {
   "cell_type": "markdown",
   "metadata": {},
   "source": [
    "### Какие события есть в логах, как часто они встречаются. \n",
    "\n",
    "Определю события и отсортирую их по частоте."
   ]
  },
  {
   "cell_type": "code",
   "execution_count": 18,
   "metadata": {
    "scrolled": false
   },
   "outputs": [
    {
     "data": {
      "text/plain": [
       "MainScreenAppear           117328\n",
       "OffersScreenAppear          46333\n",
       "CartScreenAppear            42303\n",
       "PaymentScreenSuccessful     33918\n",
       "Tutorial                     1005\n",
       "Name: event, dtype: int64"
      ]
     },
     "execution_count": 18,
     "metadata": {},
     "output_type": "execute_result"
    }
   ],
   "source": [
    "events_count = logs['event'].value_counts().sort_values(ascending=False)\n",
    "events_count"
   ]
  },
  {
   "cell_type": "markdown",
   "metadata": {},
   "source": [
    "Итак, всего 5 событий:\n",
    "1. Main Screen Appear - появление главного экрана; \n",
    "2. Offers Screen Appear - появление экрана с предложениями;\n",
    "3. Cart Screen Appear - появление экрана с корзиной покупок;\n",
    "4. Payment Screen Successful - появление экрана с подтвреждением оплаты;\n",
    "5. Tutorial - обучение. Огромная разница частоты обучения и других событий вероятна связана с тем, что обучение проходят единажды (скорее всего при первом запуске приложения), а остальные события случаются регулярно."
   ]
  },
  {
   "cell_type": "markdown",
   "metadata": {},
   "source": [
    "### Cколько пользователей совершали каждое из этих событий. \n",
    "Отсортирую события по числу пользователей. Посчитаю долю пользователей, которые хоть раз совершали событие."
   ]
  },
  {
   "cell_type": "code",
   "execution_count": 19,
   "metadata": {
    "scrolled": false
   },
   "outputs": [
    {
     "data": {
      "text/html": [
       "<div>\n",
       "<style scoped>\n",
       "    .dataframe tbody tr th:only-of-type {\n",
       "        vertical-align: middle;\n",
       "    }\n",
       "\n",
       "    .dataframe tbody tr th {\n",
       "        vertical-align: top;\n",
       "    }\n",
       "\n",
       "    .dataframe thead th {\n",
       "        text-align: right;\n",
       "    }\n",
       "</style>\n",
       "<table border=\"1\" class=\"dataframe\">\n",
       "  <thead>\n",
       "    <tr style=\"text-align: right;\">\n",
       "      <th></th>\n",
       "      <th>event</th>\n",
       "      <th>user_id</th>\n",
       "      <th>percent</th>\n",
       "    </tr>\n",
       "  </thead>\n",
       "  <tbody>\n",
       "    <tr>\n",
       "      <th>0</th>\n",
       "      <td>MainScreenAppear</td>\n",
       "      <td>7419</td>\n",
       "      <td>98.5</td>\n",
       "    </tr>\n",
       "    <tr>\n",
       "      <th>1</th>\n",
       "      <td>OffersScreenAppear</td>\n",
       "      <td>4593</td>\n",
       "      <td>61.0</td>\n",
       "    </tr>\n",
       "    <tr>\n",
       "      <th>2</th>\n",
       "      <td>CartScreenAppear</td>\n",
       "      <td>3734</td>\n",
       "      <td>49.6</td>\n",
       "    </tr>\n",
       "    <tr>\n",
       "      <th>3</th>\n",
       "      <td>PaymentScreenSuccessful</td>\n",
       "      <td>3539</td>\n",
       "      <td>47.0</td>\n",
       "    </tr>\n",
       "    <tr>\n",
       "      <th>4</th>\n",
       "      <td>Tutorial</td>\n",
       "      <td>840</td>\n",
       "      <td>11.1</td>\n",
       "    </tr>\n",
       "  </tbody>\n",
       "</table>\n",
       "</div>"
      ],
      "text/plain": [
       "                     event  user_id  percent\n",
       "0         MainScreenAppear     7419     98.5\n",
       "1       OffersScreenAppear     4593     61.0\n",
       "2         CartScreenAppear     3734     49.6\n",
       "3  PaymentScreenSuccessful     3539     47.0\n",
       "4                 Tutorial      840     11.1"
      ]
     },
     "metadata": {},
     "output_type": "display_data"
    }
   ],
   "source": [
    "#сортирую события по числу пользователей и считаю долю\n",
    "users_by_event = logs.groupby('event').agg({'user_id':'nunique'}).sort_values(by='user_id', ascending=False).reset_index()\n",
    "users_by_event['percent'] = ((users_by_event['user_id']/logs['user_id'].nunique()*100))\n",
    "                                      \n",
    "display(users_by_event)"
   ]
  },
  {
   "cell_type": "markdown",
   "metadata": {},
   "source": [
    "### Все ли события выстраиваются в последовательную цепочку?"
   ]
  },
  {
   "cell_type": "markdown",
   "metadata": {},
   "source": [
    "Итак, вырисовывется вполне логичная воронка. Однако, врядли обучение идет после подтверждения оплаты. Так как его проходят всего 11%, видимо оно не обязательное и его часто пропускают. Поэтому не буду его учитывать при создании воронки событий.\n",
    "\n",
    "Воронка событий:\n",
    "1. Main Screen Appear (появление главного экрана) - 98.5%;\n",
    "2. Offers Screen Appear (появление экрана с предложениями) - 61.1%;\n",
    "3. Cart Screen Appear (появление экрана с корзиной покупок) - 49.6%;\n",
    "4. Payment Screen Successful (появление экрана с подтвреждением оплаты) - 47%."
   ]
  },
  {
   "cell_type": "code",
   "execution_count": 20,
   "metadata": {},
   "outputs": [],
   "source": [
    "#уберу Tutorial из воронки\n",
    "users_by_event = users_by_event.query('event != \"Tutorial\"')\n"
   ]
  },
  {
   "cell_type": "markdown",
   "metadata": {},
   "source": [
    "### Какая доля пользователей проходит на следующий шаг воронки (от числа пользователей на предыдущем). \n",
    "\n",
    "Для последовательности событий A → B → C посчитаю отношение числа пользователей с событием B к количеству пользователей с событием A, а также отношение числа пользователей с событием C к количеству пользователей с событием B."
   ]
  },
  {
   "cell_type": "markdown",
   "metadata": {},
   "source": [
    "Чтобы посчитать долю пользоватлей, переходящих на следующий шаг воронки (от числа пользователей на предыдущем) воспользуюсь функцией iloc. С помощью iloc разделю поочередно ячейки с количеством пользователей на следующем шаге на ячейки с количеством пользователей на предыдущем. "
   ]
  },
  {
   "cell_type": "code",
   "execution_count": 21,
   "metadata": {
    "scrolled": false
   },
   "outputs": [
    {
     "data": {
      "text/html": [
       "<div>\n",
       "<style scoped>\n",
       "    .dataframe tbody tr th:only-of-type {\n",
       "        vertical-align: middle;\n",
       "    }\n",
       "\n",
       "    .dataframe tbody tr th {\n",
       "        vertical-align: top;\n",
       "    }\n",
       "\n",
       "    .dataframe thead th {\n",
       "        text-align: right;\n",
       "    }\n",
       "</style>\n",
       "<table border=\"1\" class=\"dataframe\">\n",
       "  <thead>\n",
       "    <tr style=\"text-align: right;\">\n",
       "      <th></th>\n",
       "      <th>event</th>\n",
       "      <th>user_id</th>\n",
       "      <th>percent</th>\n",
       "      <th>percent_by_step</th>\n",
       "    </tr>\n",
       "  </thead>\n",
       "  <tbody>\n",
       "    <tr>\n",
       "      <th>0</th>\n",
       "      <td>MainScreenAppear</td>\n",
       "      <td>7419</td>\n",
       "      <td>98.5</td>\n",
       "      <td>100.0</td>\n",
       "    </tr>\n",
       "    <tr>\n",
       "      <th>1</th>\n",
       "      <td>OffersScreenAppear</td>\n",
       "      <td>4593</td>\n",
       "      <td>61.0</td>\n",
       "      <td>61.9</td>\n",
       "    </tr>\n",
       "    <tr>\n",
       "      <th>2</th>\n",
       "      <td>CartScreenAppear</td>\n",
       "      <td>3734</td>\n",
       "      <td>49.6</td>\n",
       "      <td>81.3</td>\n",
       "    </tr>\n",
       "    <tr>\n",
       "      <th>3</th>\n",
       "      <td>PaymentScreenSuccessful</td>\n",
       "      <td>3539</td>\n",
       "      <td>47.0</td>\n",
       "      <td>94.8</td>\n",
       "    </tr>\n",
       "  </tbody>\n",
       "</table>\n",
       "</div>"
      ],
      "text/plain": [
       "                     event  user_id  percent  percent_by_step\n",
       "0         MainScreenAppear     7419     98.5            100.0\n",
       "1       OffersScreenAppear     4593     61.0             61.9\n",
       "2         CartScreenAppear     3734     49.6             81.3\n",
       "3  PaymentScreenSuccessful     3539     47.0             94.8"
      ]
     },
     "execution_count": 21,
     "metadata": {},
     "output_type": "execute_result"
    }
   ],
   "source": [
    "#создам столбец с долей пользователей, переходящих на следующий шаг. \n",
    "users_by_event['percent_by_step'] = 0\n",
    "users_by_event.iloc[0,3] = 100\n",
    "users_by_event.iloc[1,3] = users_by_event.iloc[1,1] / users_by_event.iloc[0,1]*100\n",
    "users_by_event.iloc[2,3] = users_by_event.iloc[2,1] / users_by_event.iloc[1,1]*100\n",
    "users_by_event.iloc[3,3] = users_by_event.iloc[3,1] / users_by_event.iloc[2,1]*100\n",
    "users_by_event"
   ]
  },
  {
   "cell_type": "markdown",
   "metadata": {},
   "source": [
    "Визуализирую полученные результаты с помощью графика воронки (из библиотеки plotly)."
   ]
  },
  {
   "cell_type": "code",
   "execution_count": null,
   "metadata": {
    "scrolled": true
   },
   "outputs": [],
   "source": [
    "fig = go.Figure(go.Funnel(y = users_by_event['event'], x = users_by_event['user_id'], textinfo = \"value+percent initial+percent previous\"))\n",
    "fig.show()"
   ]
  },
  {
   "cell_type": "markdown",
   "metadata": {},
   "source": [
    "Данные расчетов и графика сходятся.\n",
    "\n",
    "На первом шаге (после появления главного экрана) теряется 38% пользователй. Т.е. **38% пользоваталей не доходят до экрана с предложениями**. Далее до корзины не доходят еще 18.8%. Но если пользователи положили товары в корзину, то в 95% случаев оплачивают товары.  "
   ]
  },
  {
   "cell_type": "markdown",
   "metadata": {},
   "source": [
    "### На каком шаге теряете больше всего пользователей? Какая доля пользователей доходит от первого события до оплаты?"
   ]
  },
  {
   "cell_type": "markdown",
   "metadata": {},
   "source": [
    "Как было замечено выше, **больше всего пользователей теряется на первом шаге (38%), т.е. до выбора товара. Стоит обратить на это внимание и передать информацию коллегам из отдела маркетинга и разработчикам. Возможно имеет место не только недостаточная вовлеченность, но и какие-то технические проблемы/недостаточная эргономичность пользовательского интерфейса.**\n",
    "\n",
    "\n",
    "Дополнительно проверю, какая доля пользователей доходит от главного экрана (запуска приложения) до успешной оплаты."
   ]
  },
  {
   "cell_type": "code",
   "execution_count": 23,
   "metadata": {
    "scrolled": false
   },
   "outputs": [
    {
     "name": "stdout",
     "output_type": "stream",
     "text": [
      "47.7% пользователей доходит от запуска приложения до успешной оплаты\n"
     ]
    }
   ],
   "source": [
    "print('{:.1%} пользователей доходит от запуска приложения до успешной оплаты'.format(users_by_event.iloc[3,1] / users_by_event.iloc[0,1]))"
   ]
  },
  {
   "cell_type": "markdown",
   "metadata": {},
   "source": [
    "### Вывод\n",
    "\n",
    "Можно сделать следующие выводы:\n",
    "\n",
    "1. Воронка событий:\n",
    "\n",
    "- Main Screen Appear (появление главного экрана);\n",
    "- Offers Screen Appear (появление экрана с предложениями);\n",
    "- Cart Screen Appear (появление экрана с корзиной покупок);\n",
    "- Payment Screen Successful (появление экрана с подтвреждением оплаты).\n",
    "\n",
    "2. Больше всего пользователей теряется на первом шаге (38%), т.е. до выбора товара. Стоит обратить на это внимание и передать информацию коллегам из отдела маркетинга и разработчикам. Возможно имеет место не только недостаточная вовлеченность, но и какие-то технические проблемы/недостаточная эргономичность пользовательского интерфейса.\n",
    "\n",
    "3. До корзины не доходят еще 18.8%. Но если пользователи положили товары в корзину, то в 95% случаев оплачивают товары.\n",
    "\n",
    "4. 47.7% пользователей доходит от запуска приложения до успешной оплаты."
   ]
  },
  {
   "cell_type": "markdown",
   "metadata": {},
   "source": [
    "##  Изучение результата эксперимента"
   ]
  },
  {
   "cell_type": "markdown",
   "metadata": {},
   "source": [
    "Для удобства првоедения эксперимента заменю названия групп в таблице: \n",
    "\n",
    "- А1 - группа 246;\n",
    "- А2 - группа 247;\n",
    "- В - группа 248."
   ]
  },
  {
   "cell_type": "code",
   "execution_count": 24,
   "metadata": {},
   "outputs": [
    {
     "data": {
      "text/html": [
       "<div>\n",
       "<style scoped>\n",
       "    .dataframe tbody tr th:only-of-type {\n",
       "        vertical-align: middle;\n",
       "    }\n",
       "\n",
       "    .dataframe tbody tr th {\n",
       "        vertical-align: top;\n",
       "    }\n",
       "\n",
       "    .dataframe thead th {\n",
       "        text-align: right;\n",
       "    }\n",
       "</style>\n",
       "<table border=\"1\" class=\"dataframe\">\n",
       "  <thead>\n",
       "    <tr style=\"text-align: right;\">\n",
       "      <th></th>\n",
       "      <th>event</th>\n",
       "      <th>user_id</th>\n",
       "      <th>event_timestamp</th>\n",
       "      <th>exp_group</th>\n",
       "      <th>event_datetime</th>\n",
       "      <th>event_date</th>\n",
       "    </tr>\n",
       "  </thead>\n",
       "  <tbody>\n",
       "    <tr>\n",
       "      <th>2826</th>\n",
       "      <td>Tutorial</td>\n",
       "      <td>3737462046622621720</td>\n",
       "      <td>1564618048</td>\n",
       "      <td>A1</td>\n",
       "      <td>2019-08-01 00:07:28</td>\n",
       "      <td>2019-08-01</td>\n",
       "    </tr>\n",
       "    <tr>\n",
       "      <th>2827</th>\n",
       "      <td>MainScreenAppear</td>\n",
       "      <td>3737462046622621720</td>\n",
       "      <td>1564618080</td>\n",
       "      <td>A1</td>\n",
       "      <td>2019-08-01 00:08:00</td>\n",
       "      <td>2019-08-01</td>\n",
       "    </tr>\n",
       "    <tr>\n",
       "      <th>2828</th>\n",
       "      <td>MainScreenAppear</td>\n",
       "      <td>3737462046622621720</td>\n",
       "      <td>1564618135</td>\n",
       "      <td>A1</td>\n",
       "      <td>2019-08-01 00:08:55</td>\n",
       "      <td>2019-08-01</td>\n",
       "    </tr>\n",
       "    <tr>\n",
       "      <th>2829</th>\n",
       "      <td>OffersScreenAppear</td>\n",
       "      <td>3737462046622621720</td>\n",
       "      <td>1564618138</td>\n",
       "      <td>A1</td>\n",
       "      <td>2019-08-01 00:08:58</td>\n",
       "      <td>2019-08-01</td>\n",
       "    </tr>\n",
       "    <tr>\n",
       "      <th>2830</th>\n",
       "      <td>MainScreenAppear</td>\n",
       "      <td>1433840883824088890</td>\n",
       "      <td>1564618139</td>\n",
       "      <td>A2</td>\n",
       "      <td>2019-08-01 00:08:59</td>\n",
       "      <td>2019-08-01</td>\n",
       "    </tr>\n",
       "  </tbody>\n",
       "</table>\n",
       "</div>"
      ],
      "text/plain": [
       "                   event              user_id  event_timestamp exp_group  \\\n",
       "2826            Tutorial  3737462046622621720       1564618048        A1   \n",
       "2827    MainScreenAppear  3737462046622621720       1564618080        A1   \n",
       "2828    MainScreenAppear  3737462046622621720       1564618135        A1   \n",
       "2829  OffersScreenAppear  3737462046622621720       1564618138        A1   \n",
       "2830    MainScreenAppear  1433840883824088890       1564618139        A2   \n",
       "\n",
       "          event_datetime  event_date  \n",
       "2826 2019-08-01 00:07:28  2019-08-01  \n",
       "2827 2019-08-01 00:08:00  2019-08-01  \n",
       "2828 2019-08-01 00:08:55  2019-08-01  \n",
       "2829 2019-08-01 00:08:58  2019-08-01  \n",
       "2830 2019-08-01 00:08:59  2019-08-01  "
      ]
     },
     "execution_count": 24,
     "metadata": {},
     "output_type": "execute_result"
    }
   ],
   "source": [
    "#функция для замены названий групп\n",
    "def aab_group(group):\n",
    "    if group == 246:\n",
    "        return 'A1'\n",
    "    elif group == 247:\n",
    "        return 'A2'\n",
    "    elif group == 248:\n",
    "        return 'B'\n",
    "\n",
    "logs['exp_group'] = logs['exp_group'].apply(aab_group)\n",
    "logs.head()"
   ]
  },
  {
   "cell_type": "markdown",
   "metadata": {},
   "source": [
    "Буквенный формат для названия тестовых групп удобней. Буду продолжать работу."
   ]
  },
  {
   "cell_type": "markdown",
   "metadata": {},
   "source": [
    "### Сколько пользователей в каждой экспериментальной группе?"
   ]
  },
  {
   "cell_type": "markdown",
   "metadata": {},
   "source": [
    "Приступая к изучению результата эксперимента, еще раз проверю количество пользоватлей в гурппах. "
   ]
  },
  {
   "cell_type": "code",
   "execution_count": 25,
   "metadata": {
    "scrolled": true
   },
   "outputs": [
    {
     "data": {
      "text/plain": [
       "exp_group\n",
       "A1       2484\n",
       "A2       2513\n",
       "B        2537\n",
       "A1+A2    4997\n",
       "Name: user_id, dtype: int64"
      ]
     },
     "execution_count": 25,
     "metadata": {},
     "output_type": "execute_result"
    }
   ],
   "source": [
    "user_counts = logs.groupby('exp_group')['user_id'].nunique()\n",
    "#добавлю столбец с количеством пользователей в объединенной контрольной группе (для A/B теста)\n",
    "user_counts['A1+A2'] = user_counts['A1'] + user_counts['A2'] \n",
    "user_counts "
   ]
  },
  {
   "cell_type": "markdown",
   "metadata": {},
   "source": [
    "Для оптимальной длительности теста желательно чтобы группы были примерно равными. Также, для А/В тестирования важно, чтобы группы были достаточно большими. \n",
    "Размер экспериментальных групп большой, расхождения в количестве пользователей групп допустимы, около 1-1.2%.\n",
    "\n",
    "Еще проверю, есть  ли пользователи, вошедшие в разные группы. Сгруппирую таблицу по user_id и отберу пользователей входящих несколько  групп."
   ]
  },
  {
   "cell_type": "code",
   "execution_count": 26,
   "metadata": {},
   "outputs": [
    {
     "data": {
      "text/html": [
       "<div>\n",
       "<style scoped>\n",
       "    .dataframe tbody tr th:only-of-type {\n",
       "        vertical-align: middle;\n",
       "    }\n",
       "\n",
       "    .dataframe tbody tr th {\n",
       "        vertical-align: top;\n",
       "    }\n",
       "\n",
       "    .dataframe thead th {\n",
       "        text-align: right;\n",
       "    }\n",
       "</style>\n",
       "<table border=\"1\" class=\"dataframe\">\n",
       "  <thead>\n",
       "    <tr style=\"text-align: right;\">\n",
       "      <th></th>\n",
       "      <th>groups</th>\n",
       "      <th>group_names</th>\n",
       "    </tr>\n",
       "    <tr>\n",
       "      <th>user_id</th>\n",
       "      <th></th>\n",
       "      <th></th>\n",
       "    </tr>\n",
       "  </thead>\n",
       "  <tbody>\n",
       "  </tbody>\n",
       "</table>\n",
       "</div>"
      ],
      "text/plain": [
       "Empty DataFrame\n",
       "Columns: [groups, group_names]\n",
       "Index: []"
      ]
     },
     "metadata": {},
     "output_type": "display_data"
    },
    {
     "name": "stdout",
     "output_type": "stream",
     "text": [
      "Пользователей, вошедших разные группы: 0\n"
     ]
    }
   ],
   "source": [
    "#Сводная таблица с пользователями, вошедшими в разные группы.\n",
    "duplicated_users = logs.groupby('user_id').agg({'exp_group':['nunique', 'unique']})\n",
    "duplicated_users.columns= ['groups', 'group_names']\n",
    "duplicated_users = duplicated_users.query('groups > 1')\n",
    "display(duplicated_users)\n",
    "\n",
    "print('Пользователей, вошедших разные группы:', duplicated_users['groups'].count())\n"
   ]
  },
  {
   "cell_type": "markdown",
   "metadata": {},
   "source": [
    "Отлично, дублирующихся пользователей нет, расхождения в колличестве по группам минимальны, размер достаточен. Можно переходить к экперименту.  \n",
    "\n",
    "Построю воронку для каждой тестовой группы и сравню шаги этих воронок с помощью z-теста."
   ]
  },
  {
   "cell_type": "markdown",
   "metadata": {},
   "source": [
    "### Проверка равенства долей контрольных групп для А/А-эксперимента\n",
    "\n",
    "**Главная цель А/А-теста — показать, можно ли доверять результатам эксперимента, который будет запущен в тех же условиях, но уже с разными вариантами страницы. Если в ходе А/А-теста победителя выявить не удалось, можно запускать А/Б-тест. В противном случае придется проверить настройки сервиса и однородность выборки. Сравнение контрольных групп также помогает понять, сколько времени и данных потребуется для дальнейших тестов. Таким образом, А/А-тест предоставляет контрольные данные для проверки точности А/Б-теста.**\n",
    "\n",
    "Есть 2 контрольные группы для А/А-эксперимента, чтобы проверить корректность всех механизмов и расчётов. Проверю, находят ли статистические критерии разницу между выборками А1 (246 группа) и А2 (247 группа).\n"
   ]
  },
  {
   "cell_type": "markdown",
   "metadata": {},
   "source": [
    "Сгруппирую таблицу с логами (без события \"Tutorial\") по событиям и группам. Получится воронка для каждой группы"
   ]
  },
  {
   "cell_type": "code",
   "execution_count": 27,
   "metadata": {
    "scrolled": false
   },
   "outputs": [
    {
     "data": {
      "text/html": [
       "<div>\n",
       "<style scoped>\n",
       "    .dataframe tbody tr th:only-of-type {\n",
       "        vertical-align: middle;\n",
       "    }\n",
       "\n",
       "    .dataframe tbody tr th {\n",
       "        vertical-align: top;\n",
       "    }\n",
       "\n",
       "    .dataframe thead th {\n",
       "        text-align: right;\n",
       "    }\n",
       "</style>\n",
       "<table border=\"1\" class=\"dataframe\">\n",
       "  <thead>\n",
       "    <tr style=\"text-align: right;\">\n",
       "      <th>exp_group</th>\n",
       "      <th>event</th>\n",
       "      <th>A1</th>\n",
       "      <th>A2</th>\n",
       "      <th>B</th>\n",
       "    </tr>\n",
       "  </thead>\n",
       "  <tbody>\n",
       "    <tr>\n",
       "      <th>0</th>\n",
       "      <td>MainScreenAppear</td>\n",
       "      <td>2450</td>\n",
       "      <td>2476</td>\n",
       "      <td>2493</td>\n",
       "    </tr>\n",
       "    <tr>\n",
       "      <th>1</th>\n",
       "      <td>OffersScreenAppear</td>\n",
       "      <td>1542</td>\n",
       "      <td>1520</td>\n",
       "      <td>1531</td>\n",
       "    </tr>\n",
       "    <tr>\n",
       "      <th>2</th>\n",
       "      <td>CartScreenAppear</td>\n",
       "      <td>1266</td>\n",
       "      <td>1238</td>\n",
       "      <td>1230</td>\n",
       "    </tr>\n",
       "    <tr>\n",
       "      <th>3</th>\n",
       "      <td>PaymentScreenSuccessful</td>\n",
       "      <td>1200</td>\n",
       "      <td>1158</td>\n",
       "      <td>1181</td>\n",
       "    </tr>\n",
       "  </tbody>\n",
       "</table>\n",
       "</div>"
      ],
      "text/plain": [
       "exp_group                    event    A1    A2     B\n",
       "0                 MainScreenAppear  2450  2476  2493\n",
       "1               OffersScreenAppear  1542  1520  1531\n",
       "2                 CartScreenAppear  1266  1238  1230\n",
       "3          PaymentScreenSuccessful  1200  1158  1181"
      ]
     },
     "execution_count": 27,
     "metadata": {},
     "output_type": "execute_result"
    }
   ],
   "source": [
    "funnel = logs.query('event != \"Tutorial\"').pivot_table(\n",
    "    index='event', \n",
    "    columns='exp_group', \n",
    "    values='user_id',\n",
    "    aggfunc='nunique')\n",
    "\n",
    "funnel = funnel.sort_values(by=['A1'], ascending=False).reset_index()\n",
    "\n",
    "funnel"
   ]
  },
  {
   "cell_type": "markdown",
   "metadata": {},
   "source": [
    "При сортировке по одной из групп получилась правильная воронка для каждой. Добавлю дополнительные столбцы:\n",
    "- объединенную контрольную группу (понадобится для A/B теста)\n",
    "- столбцы с конверсиями по каждой группе"
   ]
  },
  {
   "cell_type": "markdown",
   "metadata": {},
   "source": [
    "Самое популярное событие для всех групп - Main Screen Appear (появление главного экрана). \n",
    "Посчитаю долю пользователей, совершивших это событие, а также все остальные собятия воронки. Затем проверю, будет ли отличие между группами статистически достоверным. "
   ]
  },
  {
   "cell_type": "code",
   "execution_count": 28,
   "metadata": {
    "scrolled": true
   },
   "outputs": [
    {
     "data": {
      "text/html": [
       "<div>\n",
       "<style scoped>\n",
       "    .dataframe tbody tr th:only-of-type {\n",
       "        vertical-align: middle;\n",
       "    }\n",
       "\n",
       "    .dataframe tbody tr th {\n",
       "        vertical-align: top;\n",
       "    }\n",
       "\n",
       "    .dataframe thead th {\n",
       "        text-align: right;\n",
       "    }\n",
       "</style>\n",
       "<table border=\"1\" class=\"dataframe\">\n",
       "  <thead>\n",
       "    <tr style=\"text-align: right;\">\n",
       "      <th>exp_group</th>\n",
       "      <th>event</th>\n",
       "      <th>A1</th>\n",
       "      <th>A2</th>\n",
       "      <th>B</th>\n",
       "      <th>A1+A2</th>\n",
       "      <th>conv_A1</th>\n",
       "      <th>conv_A2</th>\n",
       "      <th>conv_B</th>\n",
       "      <th>conv_A1+A2</th>\n",
       "    </tr>\n",
       "  </thead>\n",
       "  <tbody>\n",
       "    <tr>\n",
       "      <th>0</th>\n",
       "      <td>MainScreenAppear</td>\n",
       "      <td>2450</td>\n",
       "      <td>2476</td>\n",
       "      <td>2493</td>\n",
       "      <td>4926</td>\n",
       "      <td>98.6</td>\n",
       "      <td>98.5</td>\n",
       "      <td>98.3</td>\n",
       "      <td>98.6</td>\n",
       "    </tr>\n",
       "    <tr>\n",
       "      <th>1</th>\n",
       "      <td>OffersScreenAppear</td>\n",
       "      <td>1542</td>\n",
       "      <td>1520</td>\n",
       "      <td>1531</td>\n",
       "      <td>3062</td>\n",
       "      <td>62.1</td>\n",
       "      <td>60.5</td>\n",
       "      <td>60.3</td>\n",
       "      <td>61.3</td>\n",
       "    </tr>\n",
       "    <tr>\n",
       "      <th>2</th>\n",
       "      <td>CartScreenAppear</td>\n",
       "      <td>1266</td>\n",
       "      <td>1238</td>\n",
       "      <td>1230</td>\n",
       "      <td>2504</td>\n",
       "      <td>51.0</td>\n",
       "      <td>49.3</td>\n",
       "      <td>48.5</td>\n",
       "      <td>50.1</td>\n",
       "    </tr>\n",
       "    <tr>\n",
       "      <th>3</th>\n",
       "      <td>PaymentScreenSuccessful</td>\n",
       "      <td>1200</td>\n",
       "      <td>1158</td>\n",
       "      <td>1181</td>\n",
       "      <td>2358</td>\n",
       "      <td>48.3</td>\n",
       "      <td>46.1</td>\n",
       "      <td>46.6</td>\n",
       "      <td>47.2</td>\n",
       "    </tr>\n",
       "  </tbody>\n",
       "</table>\n",
       "</div>"
      ],
      "text/plain": [
       "exp_group                    event    A1    A2     B  A1+A2  conv_A1  conv_A2  \\\n",
       "0                 MainScreenAppear  2450  2476  2493   4926     98.6     98.5   \n",
       "1               OffersScreenAppear  1542  1520  1531   3062     62.1     60.5   \n",
       "2                 CartScreenAppear  1266  1238  1230   2504     51.0     49.3   \n",
       "3          PaymentScreenSuccessful  1200  1158  1181   2358     48.3     46.1   \n",
       "\n",
       "exp_group  conv_B  conv_A1+A2  \n",
       "0            98.3        98.6  \n",
       "1            60.3        61.3  \n",
       "2            48.5        50.1  \n",
       "3            46.6        47.2  "
      ]
     },
     "execution_count": 28,
     "metadata": {},
     "output_type": "execute_result"
    }
   ],
   "source": [
    "#объединённая контрольная группа\n",
    "funnel['A1+A2'] = funnel['A1'] + funnel['A2']\n",
    "\n",
    "\n",
    "#конверсия событий по группам (от общего числа пользователей в группе)\n",
    "funnel['conv_A1'] = (funnel['A1'] / user_counts['A1'] * 100) \n",
    "funnel['conv_A2'] = (funnel['A2'] / user_counts['A2'] * 100)\n",
    "funnel['conv_B'] = (funnel['B'] / user_counts['B'] * 100)\n",
    "funnel['conv_A1+A2'] = ((funnel['A1'] + funnel['A2']) / (user_counts['A1'] +  user_counts['A2']) * 100)\n",
    "\n",
    "funnel"
   ]
  },
  {
   "cell_type": "markdown",
   "metadata": {},
   "source": [
    "**Буду сравнивать конверсии на каждом шаге воронки (долю пользователей прошедших шаг от общего количества пользователей). Для этого напишу функцию с циклом.**"
   ]
  },
  {
   "cell_type": "code",
   "execution_count": 29,
   "metadata": {},
   "outputs": [],
   "source": [
    "def z_test(group1, group2, alpha):\n",
    "    for i in funnel.index:\n",
    "        p1 = funnel[group1][i] / user_counts[group1]\n",
    "        # пропорция успехов во второй группе:\n",
    "        p2 = funnel[group2][i] / user_counts[group2]\n",
    "        # пропорция успехов в комбинированном датасете:\n",
    "        p_combined = ((funnel[group1][i] + funnel[group2][i]) / \n",
    "                      (user_counts[group1] + user_counts[group2]))\n",
    "        # разница пропорций в датасетах\n",
    "        difference = p1 - p2\n",
    "        # считаем статистику в ст.отклонениях стандартного нормального распределения\n",
    "        z_value = difference / mth.sqrt(p_combined * (1 - p_combined) * \n",
    "                                        (1/user_counts[group1] + 1/user_counts[group2]))\n",
    "        # задаем стандартное нормальное распределение (среднее 0, ст.отклонение 1)\n",
    "        distr = st.norm(0, 1) \n",
    "        p_value = (1 - distr.cdf(abs(z_value))) * 2\n",
    "        print('{} p-значение: {}'.format(funnel['event'][i], p_value))\n",
    "        if (p_value < alpha):\n",
    "            print(\"Отвергаем нулевую гипотезу: разница между долями статистически значима \")\n",
    "        else:\n",
    "            print(\"Не получилось отвергнуть нулевую гипотезу, различие долей не статистически значимо\")\n",
    "        print('')\n",
    "        \n",
    " "
   ]
  },
  {
   "cell_type": "code",
   "execution_count": 30,
   "metadata": {
    "scrolled": true
   },
   "outputs": [],
   "source": [
    "#z_test('A1', 'A2', 0.05)"
   ]
  },
  {
   "cell_type": "code",
   "execution_count": 31,
   "metadata": {
    "scrolled": false
   },
   "outputs": [
    {
     "name": "stdout",
     "output_type": "stream",
     "text": [
      "MainScreenAppear p-значение: 0.7570597232046099\n",
      "Не получилось отвергнуть нулевую гипотезу, различие долей не статистически значимо\n",
      "\n",
      "OffersScreenAppear p-значение: 0.2480954578522181\n",
      "Не получилось отвергнуть нулевую гипотезу, различие долей не статистически значимо\n",
      "\n",
      "CartScreenAppear p-значение: 0.22883372237997213\n",
      "Не получилось отвергнуть нулевую гипотезу, различие долей не статистически значимо\n",
      "\n",
      "PaymentScreenSuccessful p-значение: 0.11456679313141849\n",
      "Не получилось отвергнуть нулевую гипотезу, различие долей не статистически значимо\n",
      "\n"
     ]
    }
   ],
   "source": [
    "z_test('A1', 'A2', 0.003)"
   ]
  },
  {
   "cell_type": "markdown",
   "metadata": {},
   "source": [
    "### Вывод\n",
    "\n",
    "**При проверке всех четырех событий воронки в контрольных группах А1(246) и А2(247) не было выявлено статистически значимых различий.** Это значит, что разбивка на группы корректна, данных для проведения А/В эксперимента хватает. Если бы статистическая значимость различий долей была бы обнаружена, запуск А/В теста пришлось бы отложить и проверить размер, однородность выборки и настройки эксперимента. Проведение А/А теста помогает предотвратить ошибочные результаты А/В теста, сэкономить время и избежать лишних затрат. **Таким образом, можно запускать А/В-тест и быть уверенным в точности тестирования.**"
   ]
  },
  {
   "cell_type": "markdown",
   "metadata": {},
   "source": [
    "### Проверка равенства долей контрольных и тестируемой групп для А/В-эксперимента"
   ]
  },
  {
   "cell_type": "markdown",
   "metadata": {},
   "source": [
    "**A1/B - эксперимент**"
   ]
  },
  {
   "cell_type": "code",
   "execution_count": 32,
   "metadata": {
    "scrolled": true
   },
   "outputs": [],
   "source": [
    "#z_test('A1', 'B', 0.05)"
   ]
  },
  {
   "cell_type": "code",
   "execution_count": 33,
   "metadata": {
    "scrolled": false
   },
   "outputs": [
    {
     "name": "stdout",
     "output_type": "stream",
     "text": [
      "MainScreenAppear p-значение: 0.2949721933554552\n",
      "Не получилось отвергнуть нулевую гипотезу, различие долей не статистически значимо\n",
      "\n",
      "OffersScreenAppear p-значение: 0.20836205402738917\n",
      "Не получилось отвергнуть нулевую гипотезу, различие долей не статистически значимо\n",
      "\n",
      "CartScreenAppear p-значение: 0.07842923237520116\n",
      "Не получилось отвергнуть нулевую гипотезу, различие долей не статистически значимо\n",
      "\n",
      "PaymentScreenSuccessful p-значение: 0.2122553275697796\n",
      "Не получилось отвергнуть нулевую гипотезу, различие долей не статистически значимо\n",
      "\n"
     ]
    }
   ],
   "source": [
    "z_test('A1', 'B', 0.003)"
   ]
  },
  {
   "cell_type": "markdown",
   "metadata": {},
   "source": [
    "При проверке всех четырех событий воронки в контрольной группе А1(246) и тестируемой В(248) не было выявлено статистически значимых различий. Значит в сравнениваемых группах не было обнаружено значимого эффекта от изменения шрифта в приложении."
   ]
  },
  {
   "cell_type": "markdown",
   "metadata": {},
   "source": [
    "**A2/B - эксперимент**"
   ]
  },
  {
   "cell_type": "code",
   "execution_count": 34,
   "metadata": {
    "scrolled": false
   },
   "outputs": [],
   "source": [
    "#z_test('A2', 'B', 0.05)"
   ]
  },
  {
   "cell_type": "code",
   "execution_count": 35,
   "metadata": {
    "scrolled": true
   },
   "outputs": [
    {
     "name": "stdout",
     "output_type": "stream",
     "text": [
      "MainScreenAppear p-значение: 0.4587053616621515\n",
      "Не получилось отвергнуть нулевую гипотезу, различие долей не статистически значимо\n",
      "\n",
      "OffersScreenAppear p-значение: 0.9197817830592261\n",
      "Не получилось отвергнуть нулевую гипотезу, различие долей не статистически значимо\n",
      "\n",
      "CartScreenAppear p-значение: 0.5786197879539783\n",
      "Не получилось отвергнуть нулевую гипотезу, различие долей не статистически значимо\n",
      "\n",
      "PaymentScreenSuccessful p-значение: 0.7373415053803964\n",
      "Не получилось отвергнуть нулевую гипотезу, различие долей не статистически значимо\n",
      "\n"
     ]
    }
   ],
   "source": [
    "z_test('A2', 'B', 0.003)"
   ]
  },
  {
   "cell_type": "markdown",
   "metadata": {},
   "source": [
    "При проверке всех четырех событий воронки в контрольной группе А2(247) и тестируемой В(248) не было выявлено статистически значимых различий. Значит в сравнениваемых группах не было обнаружено значимого эффекта от изменения шрифта в приложении."
   ]
  },
  {
   "cell_type": "markdown",
   "metadata": {},
   "source": [
    "**A1+A2/B - эксперимент**"
   ]
  },
  {
   "cell_type": "code",
   "execution_count": 36,
   "metadata": {
    "scrolled": false
   },
   "outputs": [],
   "source": [
    "#z_test(\"A1+A2\", 'B', 0.05)"
   ]
  },
  {
   "cell_type": "code",
   "execution_count": 37,
   "metadata": {
    "scrolled": true
   },
   "outputs": [
    {
     "name": "stdout",
     "output_type": "stream",
     "text": [
      "MainScreenAppear p-значение: 0.29424526837179577\n",
      "Не получилось отвергнуть нулевую гипотезу, различие долей не статистически значимо\n",
      "\n",
      "OffersScreenAppear p-значение: 0.43425549655188256\n",
      "Не получилось отвергнуть нулевую гипотезу, различие долей не статистически значимо\n",
      "\n",
      "CartScreenAppear p-значение: 0.18175875284404386\n",
      "Не получилось отвергнуть нулевую гипотезу, различие долей не статистически значимо\n",
      "\n",
      "PaymentScreenSuccessful p-значение: 0.6004294282308704\n",
      "Не получилось отвергнуть нулевую гипотезу, различие долей не статистически значимо\n",
      "\n"
     ]
    }
   ],
   "source": [
    "z_test(\"A1+A2\", 'B', 0.003)"
   ]
  },
  {
   "cell_type": "markdown",
   "metadata": {},
   "source": [
    "При проверке всех четырех событий воронки в комбинированной контрольной группе A1+A2 (246+247) и тестируемой В(248) не было выявлено статистически значимых различий. Значит в сравнениваемых группах не было обнаружено значимого эффекта от изменения шрифта в приложении."
   ]
  },
  {
   "cell_type": "markdown",
   "metadata": {},
   "source": [
    "### Применение поправки Бонферрони для оценки результатов тестирвоания. "
   ]
  },
  {
   "cell_type": "markdown",
   "metadata": {},
   "source": [
    "В оценке эксперимента было проведено множество сравнений одних и тех же данных - гипотез о различии конверсии на четырех шагах событийной воронки в группах:\n",
    "\n",
    "- А1(246) и А2(247);\n",
    "- В(248) и А1(246);\n",
    "- В(248) и А2(247);\n",
    "- В(248) и А1+А2(246+247).\n",
    "\n",
    "Итого, 16 сравнений. Поэтому, тест следует считать множественным, значит с каждой новой проверкой гипотез растет вероятность ошибки 1 рода. Чтобы снизить вероятность ложноположительного результата эксперимента при множественном тестировании гипотез, можно применить поправку Бонферрони. Суть метода — принять альтернативную гипотезу, если:  𝑝≥𝛼/𝑛, \n",
    "где  𝑛  — количество тестируемых гипотез. Т.е. нужно разделить уровень значимости на число гипотез, т.е. 16. \n",
    "\n",
    "В оценке эксперимента был использован 5% уровень статистической значимости и для его корректировки нужно разделить 0,05 на 16. Таким образом, уровень статистической значимости будет равен 0,003.  Проверю (выше), не изменились ли результаты при применении данного уровня статистической значимости. \n",
    "\n"
   ]
  },
  {
   "cell_type": "markdown",
   "metadata": {},
   "source": [
    "### Вывод\n",
    "\n",
    "**При изменении уровня статистической значимости, результаты оценки экспериментов не изменились. Таким образом, можно с уверенностью утверждать, что на поведение пользователей изменение шрифта значимого эффекта не оказало. Тестирование можно назвать успешным - не будет затрат на внедрение изменений, которые не прирнесут ожидаемоего эффекта.** "
   ]
  },
  {
   "cell_type": "markdown",
   "metadata": {},
   "source": [
    "## Вывод\n",
    "\n",
    "Данный анализ был выполнен в рамках стартапа по продаже продуктов питания. Проанализировано поведение пользователей мобильного приложения.\n",
    "\n",
    "1. При изучении данных выявлено:\n",
    "     - Было определено что среднее количество событий на одного пользователя - 20.\n",
    "     - С помощью гистограммы было опредлено, что не за весь период данные полные (до 01.08.19 они практически полностью отсуствуют). Поэтому, для анализа отобраны данные с 01.08.2019 по 07.08.2019.\n",
    "     - Всего событий в логе после очистки: 242917\n",
    "     - Всего пользователей в логе после очистки : 7542\n",
    "     - Проведена проверка, что в данных есть пользователи из всех трех экспериментальных групп, причем практически в равных долях.\n",
    "\n",
    "2. **Изучена воронка продаж** \n",
    "\n",
    "    2.1.Воронка событий:\n",
    "    - Main Screen Appear (появление главного экрана);\n",
    "    - Offers Screen Appear (появление экрана с предложениями);\n",
    "    - Cart Screen Appear (появление экрана с корзиной покупок);\n",
    "    - Payment Screen Successful (появление экрана с подтвреждением оплаты).  \n",
    "    \n",
    "    2.2 **Больше всего пользователей теряется на первом шаге (38%), т.е. до выбора товара. Стоит обратить на это внимание и передать информацию коллегам из отдела маркетинга и разработчикам. Возможно имеет место не только недостаточная вовлеченность, но и какие-то технические проблемы/недостаточная эргономичность пользовательского интерфейса.** \n",
    "    \n",
    "    2.3 До корзины не доходят еще 18.8%. Но **если пользователи положили товары в корзину, то в 95% случаев оплачивают товары.** \n",
    "    \n",
    "    2.4 **47.7% пользователей доходит от запуска приложения до успешной оплаты.**\n",
    "\n",
    "\n",
    "3. **Проведена оценка А/А теста**\n",
    "\n",
    "    **При проверке всех четырех событий воронки в контрольных группах А1(246) и А2(247) не было выявлено статистически значимых различий.** Это значит, что разбивка на группы корректна, данных для проведения А/В эксперимента хватает. Если бы статистическая значимость различий долей была бы обнаружена, запуск А/В теста пришлось бы отложить и проверить размер, однородность выборки и настройки эксперимента. Проведение А/А теста помогает предотвратить ошибочные результаты А/В теста, сэкономить время и избежать лишних затрат. **Таким образом, можно быть уверенным в точности тестирования при запуске А/В-теста.**\n",
    "\n",
    "\n",
    "4. **Проведена оценка А/В теста**\n",
    "    **При проверке всех четырех событий воронки в контролых группах А1(246), А2(247), A1+A2 (246+247) и тестируемой В(248) не было выявлено статистически значимых различий.** Значит в сравнениваемых группах не было обнаружено значимого эффекта от изменения шрифта в приложении.\n",
    "\n",
    "\n",
    "5. Кроме того, для снижения вероятности получения ложноположительного результата (так как были проведены множественные тесты на один данных) результаты были проверены при уровне статистической значимости в 0,003. Результаты оценки экспериментов не изменились. **Таким образом, можно с уверенностью утверждать, что на поведение пользователей изменение шрифта значимого эффекта не оказало. Тестирование можно назвать успешным - не будет затрат на внедрение изменений, которые не прирнесут ожидаемоего эффекта.**\n",
    "\n",
    "\n",
    "\n",
    "**Рекомендации:**\n",
    "\n",
    "1. В данных были найдены полные дубликаты, стоит обратить на это внимание разработчиков;   \n",
    "\n",
    "\n",
    "2. При изучении воронки было обнаружено, что **почти 40% не доходят до выбора товара**, т.е. теряются на первом шаге воронки продаж. На этот факт стоит обратить внимание  отделу маркетинга и разработчикам. Возможно **имеет место недостаточная вовлеченность, а также какие-то технические проблемы/недостаточная эргономичность пользовательского интерфейса**;  \n",
    "\n",
    "\n",
    "3. Так как было обнаружено, что изменение шрифта в приложении статистически значимого влияния на конверсию ни на одном уровне воронки не оказывает, **следует остановить А/В тест и отменить внедрение изменения шрифта в приложении.**\n",
    "\n"
   ]
  }
 ],
 "metadata": {
  "ExecuteTimeLog": [
   {
    "duration": 1388,
    "start_time": "2022-04-11T09:55:50.039Z"
   },
   {
    "duration": 257,
    "start_time": "2022-04-11T09:55:51.429Z"
   },
   {
    "duration": 3,
    "start_time": "2022-04-11T09:56:03.461Z"
   },
   {
    "duration": 3,
    "start_time": "2022-04-11T09:57:34.136Z"
   },
   {
    "duration": 93,
    "start_time": "2022-04-11T09:57:35.951Z"
   },
   {
    "duration": 141,
    "start_time": "2022-04-11T09:57:39.892Z"
   },
   {
    "duration": 3,
    "start_time": "2022-04-11T09:57:41.761Z"
   },
   {
    "duration": 113,
    "start_time": "2022-04-11T09:57:43.610Z"
   },
   {
    "duration": 124,
    "start_time": "2022-04-11T10:00:56.213Z"
   },
   {
    "duration": 123,
    "start_time": "2022-04-11T10:01:11.945Z"
   },
   {
    "duration": 130,
    "start_time": "2022-04-11T10:01:32.487Z"
   },
   {
    "duration": 3,
    "start_time": "2022-04-11T10:12:58.186Z"
   },
   {
    "duration": 2,
    "start_time": "2022-04-11T10:21:56.030Z"
   },
   {
    "duration": 36,
    "start_time": "2022-04-11T10:23:18.850Z"
   },
   {
    "duration": 8,
    "start_time": "2022-04-11T10:23:57.206Z"
   },
   {
    "duration": 11,
    "start_time": "2022-04-11T10:24:22.299Z"
   },
   {
    "duration": 8,
    "start_time": "2022-04-11T10:24:25.117Z"
   },
   {
    "duration": 11,
    "start_time": "2022-04-11T10:24:30.083Z"
   },
   {
    "duration": 11,
    "start_time": "2022-04-11T10:30:36.868Z"
   },
   {
    "duration": 7,
    "start_time": "2022-04-11T10:30:39.823Z"
   },
   {
    "duration": 2348,
    "start_time": "2022-04-11T10:42:00.954Z"
   },
   {
    "duration": 3,
    "start_time": "2022-04-11T10:42:42.293Z"
   },
   {
    "duration": 17,
    "start_time": "2022-04-11T10:42:45.145Z"
   },
   {
    "duration": 88,
    "start_time": "2022-04-11T10:47:58.533Z"
   },
   {
    "duration": 9,
    "start_time": "2022-04-11T10:49:47.577Z"
   },
   {
    "duration": 98,
    "start_time": "2022-04-11T10:55:21.337Z"
   },
   {
    "duration": 1205,
    "start_time": "2022-04-11T10:55:32.304Z"
   },
   {
    "duration": 141,
    "start_time": "2022-04-11T10:55:33.511Z"
   },
   {
    "duration": 4,
    "start_time": "2022-04-11T10:55:33.653Z"
   },
   {
    "duration": 135,
    "start_time": "2022-04-11T10:55:33.658Z"
   },
   {
    "duration": 124,
    "start_time": "2022-04-11T10:55:33.795Z"
   },
   {
    "duration": 2,
    "start_time": "2022-04-11T10:55:33.921Z"
   },
   {
    "duration": 1937,
    "start_time": "2022-04-11T10:55:33.925Z"
   },
   {
    "duration": 0,
    "start_time": "2022-04-11T10:55:35.864Z"
   },
   {
    "duration": 8,
    "start_time": "2022-04-11T10:56:31.537Z"
   },
   {
    "duration": 8,
    "start_time": "2022-04-11T10:56:34.551Z"
   },
   {
    "duration": 9,
    "start_time": "2022-04-11T10:56:37.216Z"
   },
   {
    "duration": 83,
    "start_time": "2022-04-11T10:58:46.994Z"
   },
   {
    "duration": 10,
    "start_time": "2022-04-11T10:58:49.226Z"
   },
   {
    "duration": 73,
    "start_time": "2022-04-11T11:00:16.084Z"
   },
   {
    "duration": 280,
    "start_time": "2022-04-11T11:03:32.472Z"
   },
   {
    "duration": 532,
    "start_time": "2022-04-11T11:03:33.930Z"
   },
   {
    "duration": 1194,
    "start_time": "2022-04-11T11:03:46.087Z"
   },
   {
    "duration": 143,
    "start_time": "2022-04-11T11:03:47.283Z"
   },
   {
    "duration": 4,
    "start_time": "2022-04-11T11:03:47.428Z"
   },
   {
    "duration": 134,
    "start_time": "2022-04-11T11:03:47.433Z"
   },
   {
    "duration": 121,
    "start_time": "2022-04-11T11:03:47.569Z"
   },
   {
    "duration": 2,
    "start_time": "2022-04-11T11:03:47.692Z"
   },
   {
    "duration": 78,
    "start_time": "2022-04-11T11:03:47.696Z"
   },
   {
    "duration": 10,
    "start_time": "2022-04-11T11:03:47.775Z"
   },
   {
    "duration": 35,
    "start_time": "2022-04-11T11:04:47.880Z"
   },
   {
    "duration": 36,
    "start_time": "2022-04-11T11:04:54.841Z"
   },
   {
    "duration": 866,
    "start_time": "2022-04-11T11:07:26.010Z"
   },
   {
    "duration": 38,
    "start_time": "2022-04-11T11:07:31.002Z"
   },
   {
    "duration": 818,
    "start_time": "2022-04-11T11:07:53.009Z"
   },
   {
    "duration": 37,
    "start_time": "2022-04-11T11:09:26.052Z"
   },
   {
    "duration": 4,
    "start_time": "2022-04-11T11:17:20.993Z"
   },
   {
    "duration": 8,
    "start_time": "2022-04-11T11:18:28.914Z"
   },
   {
    "duration": 3,
    "start_time": "2022-04-11T11:21:54.662Z"
   },
   {
    "duration": 5,
    "start_time": "2022-04-11T11:22:04.381Z"
   },
   {
    "duration": 4,
    "start_time": "2022-04-11T11:22:13.425Z"
   },
   {
    "duration": 4,
    "start_time": "2022-04-11T11:23:47.170Z"
   },
   {
    "duration": 19,
    "start_time": "2022-04-11T11:24:19.894Z"
   },
   {
    "duration": 106,
    "start_time": "2022-04-11T11:25:04.860Z"
   },
   {
    "duration": 22,
    "start_time": "2022-04-11T11:25:17.321Z"
   },
   {
    "duration": 27,
    "start_time": "2022-04-11T11:25:31.606Z"
   },
   {
    "duration": 22,
    "start_time": "2022-04-11T11:29:45.384Z"
   },
   {
    "duration": 124,
    "start_time": "2022-04-11T11:43:24.599Z"
   },
   {
    "duration": 31,
    "start_time": "2022-04-11T11:43:40.141Z"
   },
   {
    "duration": 38,
    "start_time": "2022-04-11T11:47:59.129Z"
   },
   {
    "duration": 133,
    "start_time": "2022-04-11T11:54:21.128Z"
   },
   {
    "duration": 40,
    "start_time": "2022-04-11T11:54:29.122Z"
   },
   {
    "duration": 34,
    "start_time": "2022-04-11T11:54:51.341Z"
   },
   {
    "duration": 33,
    "start_time": "2022-04-11T11:55:12.889Z"
   },
   {
    "duration": 260,
    "start_time": "2022-04-11T11:56:15.845Z"
   },
   {
    "duration": 176,
    "start_time": "2022-04-11T11:56:33.295Z"
   },
   {
    "duration": 1612,
    "start_time": "2022-04-12T12:20:10.838Z"
   },
   {
    "duration": 156,
    "start_time": "2022-04-12T12:20:12.453Z"
   },
   {
    "duration": 3,
    "start_time": "2022-04-12T12:20:12.611Z"
   },
   {
    "duration": 160,
    "start_time": "2022-04-12T12:20:12.616Z"
   },
   {
    "duration": 152,
    "start_time": "2022-04-12T12:20:12.778Z"
   },
   {
    "duration": 4,
    "start_time": "2022-04-12T12:20:12.937Z"
   },
   {
    "duration": 1169,
    "start_time": "2022-04-12T12:20:12.943Z"
   },
   {
    "duration": 45,
    "start_time": "2022-04-12T12:20:14.114Z"
   },
   {
    "duration": 3,
    "start_time": "2022-04-12T12:20:14.161Z"
   },
   {
    "duration": 8,
    "start_time": "2022-04-12T12:20:14.167Z"
   },
   {
    "duration": 61,
    "start_time": "2022-04-12T12:20:14.176Z"
   },
   {
    "duration": 34,
    "start_time": "2022-04-12T12:20:14.239Z"
   },
   {
    "duration": 53,
    "start_time": "2022-04-12T12:20:14.275Z"
   },
   {
    "duration": 297,
    "start_time": "2022-04-12T12:20:14.330Z"
   },
   {
    "duration": 996,
    "start_time": "2022-04-12T12:21:00.721Z"
   },
   {
    "duration": 39,
    "start_time": "2022-04-12T12:21:03.968Z"
   },
   {
    "duration": 45,
    "start_time": "2022-04-12T12:21:29.121Z"
   },
   {
    "duration": 28,
    "start_time": "2022-04-12T12:21:36.071Z"
   },
   {
    "duration": 200,
    "start_time": "2022-04-12T12:22:22.484Z"
   },
   {
    "duration": 189,
    "start_time": "2022-04-12T12:23:33.517Z"
   },
   {
    "duration": 177,
    "start_time": "2022-04-12T12:53:42.788Z"
   },
   {
    "duration": 168,
    "start_time": "2022-04-12T12:53:53.659Z"
   },
   {
    "duration": 100,
    "start_time": "2022-04-12T12:54:51.481Z"
   },
   {
    "duration": 23,
    "start_time": "2022-04-12T12:55:04.666Z"
   },
   {
    "duration": 14,
    "start_time": "2022-04-12T12:55:43.836Z"
   },
   {
    "duration": 16,
    "start_time": "2022-04-12T12:56:52.100Z"
   },
   {
    "duration": 12,
    "start_time": "2022-04-12T12:57:02.498Z"
   },
   {
    "duration": 9,
    "start_time": "2022-04-12T12:57:11.084Z"
   },
   {
    "duration": 191,
    "start_time": "2022-04-12T12:57:14.666Z"
   },
   {
    "duration": 187,
    "start_time": "2022-04-12T12:57:24.049Z"
   },
   {
    "duration": 1372,
    "start_time": "2022-04-13T12:14:02.083Z"
   },
   {
    "duration": 143,
    "start_time": "2022-04-13T12:14:03.457Z"
   },
   {
    "duration": 3,
    "start_time": "2022-04-13T12:14:03.602Z"
   },
   {
    "duration": 134,
    "start_time": "2022-04-13T12:14:03.607Z"
   },
   {
    "duration": 122,
    "start_time": "2022-04-13T12:14:03.743Z"
   },
   {
    "duration": 4,
    "start_time": "2022-04-13T12:14:03.866Z"
   },
   {
    "duration": 23,
    "start_time": "2022-04-13T12:14:03.871Z"
   },
   {
    "duration": 26,
    "start_time": "2022-04-13T12:14:03.896Z"
   },
   {
    "duration": 3,
    "start_time": "2022-04-13T12:14:03.924Z"
   },
   {
    "duration": 32,
    "start_time": "2022-04-13T12:14:03.929Z"
   },
   {
    "duration": 21,
    "start_time": "2022-04-13T12:14:03.963Z"
   },
   {
    "duration": 6,
    "start_time": "2022-04-13T12:14:03.985Z"
   },
   {
    "duration": 118,
    "start_time": "2022-04-13T12:14:03.993Z"
   },
   {
    "duration": 0,
    "start_time": "2022-04-13T12:14:04.113Z"
   },
   {
    "duration": 1,
    "start_time": "2022-04-13T12:14:04.114Z"
   },
   {
    "duration": 0,
    "start_time": "2022-04-13T12:14:04.116Z"
   },
   {
    "duration": 0,
    "start_time": "2022-04-13T12:14:04.117Z"
   },
   {
    "duration": 11,
    "start_time": "2022-04-13T12:14:36.510Z"
   },
   {
    "duration": 11,
    "start_time": "2022-04-13T12:15:47.512Z"
   },
   {
    "duration": 1664,
    "start_time": "2022-04-13T12:16:12.305Z"
   },
   {
    "duration": 140,
    "start_time": "2022-04-13T12:16:13.972Z"
   },
   {
    "duration": 4,
    "start_time": "2022-04-13T12:16:14.113Z"
   },
   {
    "duration": 143,
    "start_time": "2022-04-13T12:16:14.119Z"
   },
   {
    "duration": 136,
    "start_time": "2022-04-13T12:16:14.264Z"
   },
   {
    "duration": 3,
    "start_time": "2022-04-13T12:16:14.402Z"
   },
   {
    "duration": 21,
    "start_time": "2022-04-13T12:16:14.407Z"
   },
   {
    "duration": 35,
    "start_time": "2022-04-13T12:16:14.430Z"
   },
   {
    "duration": 4,
    "start_time": "2022-04-13T12:16:14.467Z"
   },
   {
    "duration": 12,
    "start_time": "2022-04-13T12:16:14.473Z"
   },
   {
    "duration": 33,
    "start_time": "2022-04-13T12:16:14.488Z"
   },
   {
    "duration": 35,
    "start_time": "2022-04-13T12:16:14.523Z"
   },
   {
    "duration": 161,
    "start_time": "2022-04-13T12:16:14.560Z"
   },
   {
    "duration": 0,
    "start_time": "2022-04-13T12:16:14.723Z"
   },
   {
    "duration": 0,
    "start_time": "2022-04-13T12:16:14.724Z"
   },
   {
    "duration": 0,
    "start_time": "2022-04-13T12:16:14.726Z"
   },
   {
    "duration": 0,
    "start_time": "2022-04-13T12:16:14.727Z"
   },
   {
    "duration": 358,
    "start_time": "2022-04-13T12:16:27.302Z"
   },
   {
    "duration": 3,
    "start_time": "2022-04-13T12:17:05.195Z"
   },
   {
    "duration": 20,
    "start_time": "2022-04-13T12:20:26.490Z"
   },
   {
    "duration": 9,
    "start_time": "2022-04-13T12:20:28.116Z"
   },
   {
    "duration": 33,
    "start_time": "2022-04-13T12:21:41.224Z"
   },
   {
    "duration": 32,
    "start_time": "2022-04-13T12:21:53.069Z"
   },
   {
    "duration": 11,
    "start_time": "2022-04-13T12:24:12.124Z"
   },
   {
    "duration": 28,
    "start_time": "2022-04-13T12:57:46.638Z"
   },
   {
    "duration": 41,
    "start_time": "2022-04-13T12:57:56.899Z"
   },
   {
    "duration": 39,
    "start_time": "2022-04-13T12:59:06.340Z"
   },
   {
    "duration": 25,
    "start_time": "2022-04-13T12:59:40.426Z"
   },
   {
    "duration": 1600,
    "start_time": "2022-04-13T19:38:05.870Z"
   },
   {
    "duration": 161,
    "start_time": "2022-04-13T19:38:07.473Z"
   },
   {
    "duration": 4,
    "start_time": "2022-04-13T19:38:07.636Z"
   },
   {
    "duration": 155,
    "start_time": "2022-04-13T19:38:07.657Z"
   },
   {
    "duration": 131,
    "start_time": "2022-04-13T19:38:07.814Z"
   },
   {
    "duration": 11,
    "start_time": "2022-04-13T19:38:07.946Z"
   },
   {
    "duration": 32,
    "start_time": "2022-04-13T19:38:07.959Z"
   },
   {
    "duration": 43,
    "start_time": "2022-04-13T19:38:07.994Z"
   },
   {
    "duration": 24,
    "start_time": "2022-04-13T19:38:08.038Z"
   },
   {
    "duration": 23,
    "start_time": "2022-04-13T19:38:08.065Z"
   },
   {
    "duration": 21,
    "start_time": "2022-04-13T19:38:08.090Z"
   },
   {
    "duration": 5,
    "start_time": "2022-04-13T19:38:08.113Z"
   },
   {
    "duration": 5,
    "start_time": "2022-04-13T19:38:08.120Z"
   },
   {
    "duration": 285,
    "start_time": "2022-04-13T19:38:08.126Z"
   },
   {
    "duration": 18,
    "start_time": "2022-04-13T19:38:08.412Z"
   },
   {
    "duration": 8,
    "start_time": "2022-04-13T19:38:08.433Z"
   },
   {
    "duration": 42,
    "start_time": "2022-04-13T19:38:08.460Z"
   },
   {
    "duration": 37,
    "start_time": "2022-04-13T19:38:08.505Z"
   },
   {
    "duration": 78,
    "start_time": "2022-04-13T19:49:42.185Z"
   },
   {
    "duration": 90,
    "start_time": "2022-04-13T19:49:55.794Z"
   },
   {
    "duration": 101,
    "start_time": "2022-04-13T19:54:36.210Z"
   },
   {
    "duration": 14,
    "start_time": "2022-04-13T19:55:03.926Z"
   },
   {
    "duration": 135,
    "start_time": "2022-04-13T19:55:25.345Z"
   },
   {
    "duration": 62,
    "start_time": "2022-04-13T19:55:40.701Z"
   },
   {
    "duration": 55,
    "start_time": "2022-04-13T19:55:57.261Z"
   },
   {
    "duration": 58,
    "start_time": "2022-04-13T19:56:08.941Z"
   },
   {
    "duration": 138,
    "start_time": "2022-04-13T20:08:21.038Z"
   },
   {
    "duration": 59,
    "start_time": "2022-04-13T20:08:31.331Z"
   },
   {
    "duration": 12,
    "start_time": "2022-04-13T20:12:02.200Z"
   },
   {
    "duration": 13,
    "start_time": "2022-04-13T20:12:53.005Z"
   },
   {
    "duration": 58,
    "start_time": "2022-04-13T20:13:07.341Z"
   },
   {
    "duration": 6,
    "start_time": "2022-04-13T21:08:20.485Z"
   },
   {
    "duration": 10,
    "start_time": "2022-04-13T21:08:31.980Z"
   },
   {
    "duration": 11,
    "start_time": "2022-04-13T21:09:08.140Z"
   },
   {
    "duration": 11,
    "start_time": "2022-04-13T21:09:31.247Z"
   },
   {
    "duration": 2202,
    "start_time": "2022-04-13T21:10:10.394Z"
   },
   {
    "duration": 11,
    "start_time": "2022-04-13T21:11:31.916Z"
   },
   {
    "duration": 57,
    "start_time": "2022-04-13T21:13:17.589Z"
   },
   {
    "duration": 11,
    "start_time": "2022-04-13T21:13:19.736Z"
   },
   {
    "duration": 15,
    "start_time": "2022-04-13T21:13:49.515Z"
   },
   {
    "duration": 10,
    "start_time": "2022-04-13T21:14:53.356Z"
   },
   {
    "duration": 11,
    "start_time": "2022-04-13T21:14:58.645Z"
   },
   {
    "duration": 12,
    "start_time": "2022-04-13T21:15:02.285Z"
   },
   {
    "duration": 11,
    "start_time": "2022-04-13T21:15:47.256Z"
   },
   {
    "duration": 1211,
    "start_time": "2022-04-13T21:15:53.881Z"
   },
   {
    "duration": 138,
    "start_time": "2022-04-13T21:15:55.094Z"
   },
   {
    "duration": 3,
    "start_time": "2022-04-13T21:15:55.234Z"
   },
   {
    "duration": 134,
    "start_time": "2022-04-13T21:15:55.239Z"
   },
   {
    "duration": 129,
    "start_time": "2022-04-13T21:15:55.375Z"
   },
   {
    "duration": 3,
    "start_time": "2022-04-13T21:15:55.506Z"
   },
   {
    "duration": 25,
    "start_time": "2022-04-13T21:15:55.510Z"
   },
   {
    "duration": 33,
    "start_time": "2022-04-13T21:15:55.537Z"
   },
   {
    "duration": 3,
    "start_time": "2022-04-13T21:15:55.571Z"
   },
   {
    "duration": 7,
    "start_time": "2022-04-13T21:15:55.577Z"
   },
   {
    "duration": 20,
    "start_time": "2022-04-13T21:15:55.586Z"
   },
   {
    "duration": 5,
    "start_time": "2022-04-13T21:15:55.607Z"
   },
   {
    "duration": 4,
    "start_time": "2022-04-13T21:15:55.613Z"
   },
   {
    "duration": 278,
    "start_time": "2022-04-13T21:15:55.618Z"
   },
   {
    "duration": 16,
    "start_time": "2022-04-13T21:15:55.897Z"
   },
   {
    "duration": 7,
    "start_time": "2022-04-13T21:15:55.915Z"
   },
   {
    "duration": 51,
    "start_time": "2022-04-13T21:15:55.924Z"
   },
   {
    "duration": 23,
    "start_time": "2022-04-13T21:15:55.976Z"
   },
   {
    "duration": 76,
    "start_time": "2022-04-13T21:15:56.001Z"
   },
   {
    "duration": 9,
    "start_time": "2022-04-13T21:15:56.078Z"
   },
   {
    "duration": 13,
    "start_time": "2022-04-13T21:15:56.089Z"
   },
   {
    "duration": 6,
    "start_time": "2022-04-13T21:16:21.673Z"
   },
   {
    "duration": 11,
    "start_time": "2022-04-13T21:16:23.739Z"
   },
   {
    "duration": 44,
    "start_time": "2022-04-14T11:37:48.850Z"
   },
   {
    "duration": 1304,
    "start_time": "2022-04-14T11:37:57.335Z"
   },
   {
    "duration": 135,
    "start_time": "2022-04-14T11:37:58.641Z"
   },
   {
    "duration": 3,
    "start_time": "2022-04-14T11:37:58.778Z"
   },
   {
    "duration": 117,
    "start_time": "2022-04-14T11:37:58.783Z"
   },
   {
    "duration": 112,
    "start_time": "2022-04-14T11:37:58.901Z"
   },
   {
    "duration": 2,
    "start_time": "2022-04-14T11:37:59.015Z"
   },
   {
    "duration": 32,
    "start_time": "2022-04-14T11:37:59.019Z"
   },
   {
    "duration": 45,
    "start_time": "2022-04-14T11:37:59.053Z"
   },
   {
    "duration": 4,
    "start_time": "2022-04-14T11:37:59.099Z"
   },
   {
    "duration": 27,
    "start_time": "2022-04-14T11:37:59.105Z"
   },
   {
    "duration": 27,
    "start_time": "2022-04-14T11:37:59.134Z"
   },
   {
    "duration": 8,
    "start_time": "2022-04-14T11:37:59.162Z"
   },
   {
    "duration": 20,
    "start_time": "2022-04-14T11:37:59.171Z"
   },
   {
    "duration": 235,
    "start_time": "2022-04-14T11:37:59.193Z"
   },
   {
    "duration": 15,
    "start_time": "2022-04-14T11:37:59.429Z"
   },
   {
    "duration": 13,
    "start_time": "2022-04-14T11:37:59.445Z"
   },
   {
    "duration": 36,
    "start_time": "2022-04-14T11:37:59.459Z"
   },
   {
    "duration": 23,
    "start_time": "2022-04-14T11:37:59.500Z"
   },
   {
    "duration": 56,
    "start_time": "2022-04-14T11:37:59.525Z"
   },
   {
    "duration": 11,
    "start_time": "2022-04-14T11:37:59.600Z"
   },
   {
    "duration": 5,
    "start_time": "2022-04-14T11:40:35.233Z"
   },
   {
    "duration": 11,
    "start_time": "2022-04-14T11:40:38.675Z"
   },
   {
    "duration": 12,
    "start_time": "2022-04-14T11:47:10.301Z"
   },
   {
    "duration": 63,
    "start_time": "2022-04-14T17:02:01.840Z"
   },
   {
    "duration": 1590,
    "start_time": "2022-04-14T17:02:13.228Z"
   },
   {
    "duration": 161,
    "start_time": "2022-04-14T17:02:14.820Z"
   },
   {
    "duration": 11,
    "start_time": "2022-04-14T17:02:14.983Z"
   },
   {
    "duration": 155,
    "start_time": "2022-04-14T17:02:14.997Z"
   },
   {
    "duration": 151,
    "start_time": "2022-04-14T17:02:15.156Z"
   },
   {
    "duration": 2,
    "start_time": "2022-04-14T17:02:15.309Z"
   },
   {
    "duration": 22,
    "start_time": "2022-04-14T17:02:15.313Z"
   },
   {
    "duration": 48,
    "start_time": "2022-04-14T17:02:15.337Z"
   },
   {
    "duration": 3,
    "start_time": "2022-04-14T17:02:15.391Z"
   },
   {
    "duration": 14,
    "start_time": "2022-04-14T17:02:15.396Z"
   },
   {
    "duration": 21,
    "start_time": "2022-04-14T17:02:15.412Z"
   },
   {
    "duration": 29,
    "start_time": "2022-04-14T17:02:15.435Z"
   },
   {
    "duration": 10,
    "start_time": "2022-04-14T17:02:15.467Z"
   },
   {
    "duration": 315,
    "start_time": "2022-04-14T17:02:15.479Z"
   },
   {
    "duration": 18,
    "start_time": "2022-04-14T17:02:15.796Z"
   },
   {
    "duration": 7,
    "start_time": "2022-04-14T17:02:15.816Z"
   },
   {
    "duration": 40,
    "start_time": "2022-04-14T17:02:15.824Z"
   },
   {
    "duration": 39,
    "start_time": "2022-04-14T17:02:15.868Z"
   },
   {
    "duration": 82,
    "start_time": "2022-04-14T17:02:15.909Z"
   },
   {
    "duration": 6,
    "start_time": "2022-04-14T17:02:15.992Z"
   },
   {
    "duration": 19,
    "start_time": "2022-04-14T17:02:16.000Z"
   },
   {
    "duration": 6,
    "start_time": "2022-04-14T17:02:16.021Z"
   },
   {
    "duration": 4,
    "start_time": "2022-04-14T17:03:43.157Z"
   },
   {
    "duration": 4,
    "start_time": "2022-04-14T17:09:13.441Z"
   },
   {
    "duration": 54,
    "start_time": "2022-04-14T17:21:11.968Z"
   },
   {
    "duration": 38,
    "start_time": "2022-04-14T17:21:22.380Z"
   },
   {
    "duration": 58,
    "start_time": "2022-04-15T11:58:33.678Z"
   },
   {
    "duration": 1475,
    "start_time": "2022-04-15T11:58:43.069Z"
   },
   {
    "duration": 158,
    "start_time": "2022-04-15T11:58:44.546Z"
   },
   {
    "duration": 3,
    "start_time": "2022-04-15T11:58:44.706Z"
   },
   {
    "duration": 155,
    "start_time": "2022-04-15T11:58:44.711Z"
   },
   {
    "duration": 128,
    "start_time": "2022-04-15T11:58:44.868Z"
   },
   {
    "duration": 3,
    "start_time": "2022-04-15T11:58:44.998Z"
   },
   {
    "duration": 41,
    "start_time": "2022-04-15T11:58:45.003Z"
   },
   {
    "duration": 27,
    "start_time": "2022-04-15T11:58:45.046Z"
   },
   {
    "duration": 3,
    "start_time": "2022-04-15T11:58:45.075Z"
   },
   {
    "duration": 13,
    "start_time": "2022-04-15T11:58:45.081Z"
   },
   {
    "duration": 51,
    "start_time": "2022-04-15T11:58:45.095Z"
   },
   {
    "duration": 5,
    "start_time": "2022-04-15T11:58:45.147Z"
   },
   {
    "duration": 3,
    "start_time": "2022-04-15T11:58:45.154Z"
   },
   {
    "duration": 298,
    "start_time": "2022-04-15T11:58:45.158Z"
   },
   {
    "duration": 17,
    "start_time": "2022-04-15T11:58:45.458Z"
   },
   {
    "duration": 7,
    "start_time": "2022-04-15T11:58:45.477Z"
   },
   {
    "duration": 63,
    "start_time": "2022-04-15T11:58:45.486Z"
   },
   {
    "duration": 25,
    "start_time": "2022-04-15T11:58:45.550Z"
   },
   {
    "duration": 77,
    "start_time": "2022-04-15T11:58:45.577Z"
   },
   {
    "duration": 5,
    "start_time": "2022-04-15T11:58:45.656Z"
   },
   {
    "duration": 14,
    "start_time": "2022-04-15T11:58:45.662Z"
   },
   {
    "duration": 6,
    "start_time": "2022-04-15T11:58:45.678Z"
   },
   {
    "duration": 67,
    "start_time": "2022-04-15T11:58:45.685Z"
   },
   {
    "duration": 438,
    "start_time": "2022-04-15T11:58:45.754Z"
   },
   {
    "duration": 109,
    "start_time": "2022-04-15T11:58:46.193Z"
   },
   {
    "duration": 446,
    "start_time": "2022-04-15T11:59:34.030Z"
   },
   {
    "duration": 406,
    "start_time": "2022-04-15T11:59:49.893Z"
   },
   {
    "duration": 426,
    "start_time": "2022-04-15T12:00:29.753Z"
   },
   {
    "duration": 9,
    "start_time": "2022-04-15T12:33:47.941Z"
   },
   {
    "duration": 99,
    "start_time": "2022-04-15T12:33:58.306Z"
   },
   {
    "duration": 97,
    "start_time": "2022-04-15T12:34:07.959Z"
   },
   {
    "duration": 107,
    "start_time": "2022-04-15T12:35:38.510Z"
   },
   {
    "duration": 99,
    "start_time": "2022-04-15T12:36:33.838Z"
   },
   {
    "duration": 102,
    "start_time": "2022-04-15T12:37:11.704Z"
   },
   {
    "duration": 97,
    "start_time": "2022-04-15T12:37:27.877Z"
   },
   {
    "duration": 98,
    "start_time": "2022-04-15T12:38:42.784Z"
   },
   {
    "duration": 107,
    "start_time": "2022-04-15T12:39:03.651Z"
   },
   {
    "duration": 111,
    "start_time": "2022-04-15T12:41:22.625Z"
   },
   {
    "duration": 40,
    "start_time": "2022-04-15T21:04:56.413Z"
   },
   {
    "duration": 1273,
    "start_time": "2022-04-15T21:05:06.293Z"
   },
   {
    "duration": 123,
    "start_time": "2022-04-15T21:05:07.568Z"
   },
   {
    "duration": 3,
    "start_time": "2022-04-15T21:05:07.693Z"
   },
   {
    "duration": 125,
    "start_time": "2022-04-15T21:05:07.698Z"
   },
   {
    "duration": 109,
    "start_time": "2022-04-15T21:05:07.825Z"
   },
   {
    "duration": 3,
    "start_time": "2022-04-15T21:05:07.936Z"
   },
   {
    "duration": 20,
    "start_time": "2022-04-15T21:05:07.941Z"
   },
   {
    "duration": 22,
    "start_time": "2022-04-15T21:05:07.962Z"
   },
   {
    "duration": 3,
    "start_time": "2022-04-15T21:05:07.986Z"
   },
   {
    "duration": 32,
    "start_time": "2022-04-15T21:05:07.992Z"
   },
   {
    "duration": 17,
    "start_time": "2022-04-15T21:05:08.026Z"
   },
   {
    "duration": 5,
    "start_time": "2022-04-15T21:05:08.045Z"
   },
   {
    "duration": 2,
    "start_time": "2022-04-15T21:05:08.052Z"
   },
   {
    "duration": 251,
    "start_time": "2022-04-15T21:05:08.056Z"
   },
   {
    "duration": 25,
    "start_time": "2022-04-15T21:05:08.308Z"
   },
   {
    "duration": 8,
    "start_time": "2022-04-15T21:05:08.334Z"
   },
   {
    "duration": 28,
    "start_time": "2022-04-15T21:05:08.344Z"
   },
   {
    "duration": 18,
    "start_time": "2022-04-15T21:05:08.374Z"
   },
   {
    "duration": 74,
    "start_time": "2022-04-15T21:05:08.394Z"
   },
   {
    "duration": 4,
    "start_time": "2022-04-15T21:05:08.469Z"
   },
   {
    "duration": 21,
    "start_time": "2022-04-15T21:05:08.475Z"
   },
   {
    "duration": 8,
    "start_time": "2022-04-15T21:05:08.498Z"
   },
   {
    "duration": 35,
    "start_time": "2022-04-15T21:05:08.507Z"
   },
   {
    "duration": 387,
    "start_time": "2022-04-15T21:05:08.543Z"
   },
   {
    "duration": 92,
    "start_time": "2022-04-15T21:05:08.932Z"
   },
   {
    "duration": 84,
    "start_time": "2022-04-15T21:05:26.474Z"
   },
   {
    "duration": 64,
    "start_time": "2022-04-16T12:49:50.967Z"
   },
   {
    "duration": 1593,
    "start_time": "2022-04-16T12:50:01.829Z"
   },
   {
    "duration": 162,
    "start_time": "2022-04-16T12:50:03.424Z"
   },
   {
    "duration": 5,
    "start_time": "2022-04-16T12:50:03.588Z"
   },
   {
    "duration": 158,
    "start_time": "2022-04-16T12:50:03.594Z"
   },
   {
    "duration": 133,
    "start_time": "2022-04-16T12:50:03.754Z"
   },
   {
    "duration": 6,
    "start_time": "2022-04-16T12:50:03.888Z"
   },
   {
    "duration": 36,
    "start_time": "2022-04-16T12:50:03.896Z"
   },
   {
    "duration": 29,
    "start_time": "2022-04-16T12:50:03.934Z"
   },
   {
    "duration": 3,
    "start_time": "2022-04-16T12:50:03.965Z"
   },
   {
    "duration": 23,
    "start_time": "2022-04-16T12:50:03.970Z"
   },
   {
    "duration": 37,
    "start_time": "2022-04-16T12:50:03.995Z"
   },
   {
    "duration": 6,
    "start_time": "2022-04-16T12:50:04.034Z"
   },
   {
    "duration": 5,
    "start_time": "2022-04-16T12:50:04.042Z"
   },
   {
    "duration": 325,
    "start_time": "2022-04-16T12:50:04.051Z"
   },
   {
    "duration": 23,
    "start_time": "2022-04-16T12:50:04.378Z"
   },
   {
    "duration": 11,
    "start_time": "2022-04-16T12:50:04.404Z"
   },
   {
    "duration": 56,
    "start_time": "2022-04-16T12:50:04.417Z"
   },
   {
    "duration": 56,
    "start_time": "2022-04-16T12:50:04.475Z"
   },
   {
    "duration": 92,
    "start_time": "2022-04-16T12:50:04.533Z"
   },
   {
    "duration": 6,
    "start_time": "2022-04-16T12:50:04.627Z"
   },
   {
    "duration": 16,
    "start_time": "2022-04-16T12:50:04.635Z"
   },
   {
    "duration": 8,
    "start_time": "2022-04-16T12:50:04.653Z"
   },
   {
    "duration": 61,
    "start_time": "2022-04-16T12:50:04.663Z"
   },
   {
    "duration": 530,
    "start_time": "2022-04-16T12:50:04.726Z"
   },
   {
    "duration": 130,
    "start_time": "2022-04-16T12:50:05.258Z"
   },
   {
    "duration": 2527,
    "start_time": "2022-04-16T12:50:05.390Z"
   },
   {
    "duration": 168,
    "start_time": "2022-04-16T12:51:00.938Z"
   },
   {
    "duration": 118,
    "start_time": "2022-04-16T12:51:32.062Z"
   },
   {
    "duration": 52,
    "start_time": "2022-04-16T12:58:29.428Z"
   },
   {
    "duration": 583,
    "start_time": "2022-04-16T12:59:31.477Z"
   },
   {
    "duration": 2700,
    "start_time": "2022-04-16T13:00:04.097Z"
   },
   {
    "duration": 47,
    "start_time": "2022-04-16T13:00:42.584Z"
   },
   {
    "duration": 699,
    "start_time": "2022-04-16T13:00:46.066Z"
   },
   {
    "duration": 571,
    "start_time": "2022-04-16T13:01:27.606Z"
   },
   {
    "duration": 1276,
    "start_time": "2022-04-16T13:01:51.538Z"
   },
   {
    "duration": 161,
    "start_time": "2022-04-16T13:01:52.817Z"
   },
   {
    "duration": 3,
    "start_time": "2022-04-16T13:01:52.980Z"
   },
   {
    "duration": 151,
    "start_time": "2022-04-16T13:01:52.992Z"
   },
   {
    "duration": 136,
    "start_time": "2022-04-16T13:01:53.144Z"
   },
   {
    "duration": 3,
    "start_time": "2022-04-16T13:01:53.282Z"
   },
   {
    "duration": 27,
    "start_time": "2022-04-16T13:01:53.292Z"
   },
   {
    "duration": 30,
    "start_time": "2022-04-16T13:01:53.321Z"
   },
   {
    "duration": 4,
    "start_time": "2022-04-16T13:01:53.352Z"
   },
   {
    "duration": 44,
    "start_time": "2022-04-16T13:01:53.359Z"
   },
   {
    "duration": 37,
    "start_time": "2022-04-16T13:01:53.405Z"
   },
   {
    "duration": 7,
    "start_time": "2022-04-16T13:01:53.444Z"
   },
   {
    "duration": 3,
    "start_time": "2022-04-16T13:01:53.453Z"
   },
   {
    "duration": 449,
    "start_time": "2022-04-16T13:01:53.458Z"
   },
   {
    "duration": 21,
    "start_time": "2022-04-16T13:01:53.909Z"
   },
   {
    "duration": 9,
    "start_time": "2022-04-16T13:01:53.932Z"
   },
   {
    "duration": 60,
    "start_time": "2022-04-16T13:01:53.944Z"
   },
   {
    "duration": 28,
    "start_time": "2022-04-16T13:01:54.005Z"
   },
   {
    "duration": 87,
    "start_time": "2022-04-16T13:01:54.035Z"
   },
   {
    "duration": 5,
    "start_time": "2022-04-16T13:01:54.124Z"
   },
   {
    "duration": 14,
    "start_time": "2022-04-16T13:01:54.131Z"
   },
   {
    "duration": 8,
    "start_time": "2022-04-16T13:01:54.148Z"
   },
   {
    "duration": 58,
    "start_time": "2022-04-16T13:01:54.158Z"
   },
   {
    "duration": 509,
    "start_time": "2022-04-16T13:01:54.218Z"
   },
   {
    "duration": 116,
    "start_time": "2022-04-16T13:01:54.728Z"
   },
   {
    "duration": 12,
    "start_time": "2022-04-16T13:01:54.846Z"
   },
   {
    "duration": 742,
    "start_time": "2022-04-16T13:05:03.086Z"
   },
   {
    "duration": 23,
    "start_time": "2022-04-16T13:05:18.583Z"
   },
   {
    "duration": 17,
    "start_time": "2022-04-16T13:05:32.678Z"
   },
   {
    "duration": 18,
    "start_time": "2022-04-16T13:05:58.014Z"
   },
   {
    "duration": 27,
    "start_time": "2022-04-16T13:18:00.685Z"
   },
   {
    "duration": 32,
    "start_time": "2022-04-16T13:18:24.526Z"
   },
   {
    "duration": 36,
    "start_time": "2022-04-16T13:18:31.180Z"
   },
   {
    "duration": 1328,
    "start_time": "2022-04-16T13:18:45.927Z"
   },
   {
    "duration": 168,
    "start_time": "2022-04-16T13:18:47.257Z"
   },
   {
    "duration": 4,
    "start_time": "2022-04-16T13:18:47.427Z"
   },
   {
    "duration": 164,
    "start_time": "2022-04-16T13:18:47.433Z"
   },
   {
    "duration": 152,
    "start_time": "2022-04-16T13:18:47.603Z"
   },
   {
    "duration": 3,
    "start_time": "2022-04-16T13:18:47.757Z"
   },
   {
    "duration": 35,
    "start_time": "2022-04-16T13:18:47.762Z"
   },
   {
    "duration": 35,
    "start_time": "2022-04-16T13:18:47.803Z"
   },
   {
    "duration": 4,
    "start_time": "2022-04-16T13:18:47.840Z"
   },
   {
    "duration": 11,
    "start_time": "2022-04-16T13:18:47.847Z"
   },
   {
    "duration": 43,
    "start_time": "2022-04-16T13:18:47.860Z"
   },
   {
    "duration": 7,
    "start_time": "2022-04-16T13:18:47.908Z"
   },
   {
    "duration": 3,
    "start_time": "2022-04-16T13:18:47.917Z"
   },
   {
    "duration": 328,
    "start_time": "2022-04-16T13:18:47.922Z"
   },
   {
    "duration": 18,
    "start_time": "2022-04-16T13:18:48.252Z"
   },
   {
    "duration": 33,
    "start_time": "2022-04-16T13:18:48.272Z"
   },
   {
    "duration": 49,
    "start_time": "2022-04-16T13:18:48.307Z"
   },
   {
    "duration": 57,
    "start_time": "2022-04-16T13:18:48.359Z"
   },
   {
    "duration": 85,
    "start_time": "2022-04-16T13:18:48.419Z"
   },
   {
    "duration": 7,
    "start_time": "2022-04-16T13:18:48.509Z"
   },
   {
    "duration": 31,
    "start_time": "2022-04-16T13:18:48.517Z"
   },
   {
    "duration": 8,
    "start_time": "2022-04-16T13:18:48.550Z"
   },
   {
    "duration": 50,
    "start_time": "2022-04-16T13:18:48.560Z"
   },
   {
    "duration": 504,
    "start_time": "2022-04-16T13:18:48.612Z"
   },
   {
    "duration": 124,
    "start_time": "2022-04-16T13:18:49.118Z"
   },
   {
    "duration": 4,
    "start_time": "2022-04-16T13:18:49.243Z"
   },
   {
    "duration": 21,
    "start_time": "2022-04-16T13:18:49.248Z"
   },
   {
    "duration": 16,
    "start_time": "2022-04-16T13:24:26.407Z"
   },
   {
    "duration": 1434,
    "start_time": "2022-04-16T21:16:20.022Z"
   },
   {
    "duration": 155,
    "start_time": "2022-04-16T21:16:21.458Z"
   },
   {
    "duration": 4,
    "start_time": "2022-04-16T21:16:21.617Z"
   },
   {
    "duration": 138,
    "start_time": "2022-04-16T21:16:21.622Z"
   },
   {
    "duration": 125,
    "start_time": "2022-04-16T21:16:21.762Z"
   },
   {
    "duration": 3,
    "start_time": "2022-04-16T21:16:21.892Z"
   },
   {
    "duration": 23,
    "start_time": "2022-04-16T21:16:21.897Z"
   },
   {
    "duration": 29,
    "start_time": "2022-04-16T21:16:21.921Z"
   },
   {
    "duration": 3,
    "start_time": "2022-04-16T21:16:21.953Z"
   },
   {
    "duration": 39,
    "start_time": "2022-04-16T21:16:21.957Z"
   },
   {
    "duration": 23,
    "start_time": "2022-04-16T21:16:21.997Z"
   },
   {
    "duration": 5,
    "start_time": "2022-04-16T21:16:22.022Z"
   },
   {
    "duration": 3,
    "start_time": "2022-04-16T21:16:22.029Z"
   },
   {
    "duration": 295,
    "start_time": "2022-04-16T21:16:22.033Z"
   },
   {
    "duration": 19,
    "start_time": "2022-04-16T21:16:22.330Z"
   },
   {
    "duration": 8,
    "start_time": "2022-04-16T21:16:22.351Z"
   },
   {
    "duration": 51,
    "start_time": "2022-04-16T21:16:22.361Z"
   },
   {
    "duration": 25,
    "start_time": "2022-04-16T21:16:22.413Z"
   },
   {
    "duration": 83,
    "start_time": "2022-04-16T21:16:22.440Z"
   },
   {
    "duration": 5,
    "start_time": "2022-04-16T21:16:22.524Z"
   },
   {
    "duration": 13,
    "start_time": "2022-04-16T21:16:22.531Z"
   },
   {
    "duration": 13,
    "start_time": "2022-04-16T21:16:22.545Z"
   },
   {
    "duration": 50,
    "start_time": "2022-04-16T21:16:22.560Z"
   },
   {
    "duration": 471,
    "start_time": "2022-04-16T21:16:22.612Z"
   },
   {
    "duration": 111,
    "start_time": "2022-04-16T21:16:23.085Z"
   },
   {
    "duration": 3,
    "start_time": "2022-04-16T21:16:23.198Z"
   },
   {
    "duration": 20,
    "start_time": "2022-04-16T21:16:23.204Z"
   },
   {
    "duration": 54,
    "start_time": "2022-04-16T21:33:47.821Z"
   },
   {
    "duration": 87,
    "start_time": "2022-04-16T21:33:57.975Z"
   },
   {
    "duration": 86,
    "start_time": "2022-04-16T21:34:14.280Z"
   },
   {
    "duration": 1341,
    "start_time": "2022-04-16T21:34:34.053Z"
   },
   {
    "duration": 156,
    "start_time": "2022-04-16T21:34:35.396Z"
   },
   {
    "duration": 3,
    "start_time": "2022-04-16T21:34:35.554Z"
   },
   {
    "duration": 143,
    "start_time": "2022-04-16T21:34:35.559Z"
   },
   {
    "duration": 133,
    "start_time": "2022-04-16T21:34:35.704Z"
   },
   {
    "duration": 3,
    "start_time": "2022-04-16T21:34:35.838Z"
   },
   {
    "duration": 24,
    "start_time": "2022-04-16T21:34:35.843Z"
   },
   {
    "duration": 41,
    "start_time": "2022-04-16T21:34:35.869Z"
   },
   {
    "duration": 4,
    "start_time": "2022-04-16T21:34:35.911Z"
   },
   {
    "duration": 11,
    "start_time": "2022-04-16T21:34:35.916Z"
   },
   {
    "duration": 22,
    "start_time": "2022-04-16T21:34:35.928Z"
   },
   {
    "duration": 5,
    "start_time": "2022-04-16T21:34:35.952Z"
   },
   {
    "duration": 35,
    "start_time": "2022-04-16T21:34:35.958Z"
   },
   {
    "duration": 278,
    "start_time": "2022-04-16T21:34:35.996Z"
   },
   {
    "duration": 30,
    "start_time": "2022-04-16T21:34:36.276Z"
   },
   {
    "duration": 9,
    "start_time": "2022-04-16T21:34:36.308Z"
   },
   {
    "duration": 35,
    "start_time": "2022-04-16T21:34:36.318Z"
   },
   {
    "duration": 47,
    "start_time": "2022-04-16T21:34:36.355Z"
   },
   {
    "duration": 71,
    "start_time": "2022-04-16T21:34:36.403Z"
   },
   {
    "duration": 5,
    "start_time": "2022-04-16T21:34:36.475Z"
   },
   {
    "duration": 12,
    "start_time": "2022-04-16T21:34:36.493Z"
   },
   {
    "duration": 6,
    "start_time": "2022-04-16T21:34:36.507Z"
   },
   {
    "duration": 52,
    "start_time": "2022-04-16T21:34:36.514Z"
   },
   {
    "duration": 63,
    "start_time": "2022-04-16T21:34:36.567Z"
   },
   {
    "duration": 520,
    "start_time": "2022-04-16T21:34:36.632Z"
   },
   {
    "duration": 238,
    "start_time": "2022-04-16T21:34:37.154Z"
   },
   {
    "duration": 0,
    "start_time": "2022-04-16T21:34:37.394Z"
   },
   {
    "duration": 0,
    "start_time": "2022-04-16T21:34:37.395Z"
   },
   {
    "duration": 1,
    "start_time": "2022-04-16T21:34:37.396Z"
   },
   {
    "duration": 0,
    "start_time": "2022-04-16T21:34:37.398Z"
   },
   {
    "duration": 182,
    "start_time": "2022-04-16T21:35:44.903Z"
   },
   {
    "duration": 1440,
    "start_time": "2022-04-16T21:46:46.366Z"
   },
   {
    "duration": 161,
    "start_time": "2022-04-16T21:46:47.808Z"
   },
   {
    "duration": 4,
    "start_time": "2022-04-16T21:46:47.971Z"
   },
   {
    "duration": 150,
    "start_time": "2022-04-16T21:46:47.977Z"
   },
   {
    "duration": 134,
    "start_time": "2022-04-16T21:46:48.130Z"
   },
   {
    "duration": 3,
    "start_time": "2022-04-16T21:46:48.265Z"
   },
   {
    "duration": 36,
    "start_time": "2022-04-16T21:46:48.270Z"
   },
   {
    "duration": 31,
    "start_time": "2022-04-16T21:46:48.308Z"
   },
   {
    "duration": 4,
    "start_time": "2022-04-16T21:46:48.342Z"
   },
   {
    "duration": 9,
    "start_time": "2022-04-16T21:46:48.348Z"
   },
   {
    "duration": 56,
    "start_time": "2022-04-16T21:46:48.359Z"
   },
   {
    "duration": 6,
    "start_time": "2022-04-16T21:46:48.417Z"
   },
   {
    "duration": 5,
    "start_time": "2022-04-16T21:46:48.425Z"
   },
   {
    "duration": 304,
    "start_time": "2022-04-16T21:46:48.434Z"
   },
   {
    "duration": 19,
    "start_time": "2022-04-16T21:46:48.740Z"
   },
   {
    "duration": 9,
    "start_time": "2022-04-16T21:46:48.761Z"
   },
   {
    "duration": 36,
    "start_time": "2022-04-16T21:46:48.792Z"
   },
   {
    "duration": 27,
    "start_time": "2022-04-16T21:46:48.830Z"
   },
   {
    "duration": 90,
    "start_time": "2022-04-16T21:46:48.859Z"
   },
   {
    "duration": 6,
    "start_time": "2022-04-16T21:46:48.951Z"
   },
   {
    "duration": 15,
    "start_time": "2022-04-16T21:46:48.959Z"
   },
   {
    "duration": 5,
    "start_time": "2022-04-16T21:46:48.993Z"
   },
   {
    "duration": 55,
    "start_time": "2022-04-16T21:46:49.000Z"
   },
   {
    "duration": 72,
    "start_time": "2022-04-16T21:46:49.058Z"
   },
   {
    "duration": 550,
    "start_time": "2022-04-16T21:46:49.132Z"
   },
   {
    "duration": 131,
    "start_time": "2022-04-16T21:46:49.692Z"
   },
   {
    "duration": 183,
    "start_time": "2022-04-16T21:46:49.825Z"
   },
   {
    "duration": 0,
    "start_time": "2022-04-16T21:46:50.010Z"
   },
   {
    "duration": 0,
    "start_time": "2022-04-16T21:46:50.012Z"
   },
   {
    "duration": 22,
    "start_time": "2022-04-16T21:47:40.465Z"
   },
   {
    "duration": 6,
    "start_time": "2022-04-16T21:47:50.416Z"
   },
   {
    "duration": 14,
    "start_time": "2022-04-16T21:47:53.079Z"
   },
   {
    "duration": 5,
    "start_time": "2022-04-16T21:49:10.942Z"
   },
   {
    "duration": 6,
    "start_time": "2022-04-16T21:49:15.096Z"
   },
   {
    "duration": 9,
    "start_time": "2022-04-16T21:49:16.914Z"
   },
   {
    "duration": 6,
    "start_time": "2022-04-16T21:51:54.488Z"
   },
   {
    "duration": 8,
    "start_time": "2022-04-16T21:54:27.160Z"
   },
   {
    "duration": 9,
    "start_time": "2022-04-16T21:54:38.230Z"
   },
   {
    "duration": 2585,
    "start_time": "2022-04-16T21:55:28.331Z"
   },
   {
    "duration": 2393,
    "start_time": "2022-04-16T21:56:15.154Z"
   },
   {
    "duration": 1286,
    "start_time": "2022-04-16T21:56:22.608Z"
   },
   {
    "duration": 156,
    "start_time": "2022-04-16T21:56:23.896Z"
   },
   {
    "duration": 4,
    "start_time": "2022-04-16T21:56:24.053Z"
   },
   {
    "duration": 164,
    "start_time": "2022-04-16T21:56:24.058Z"
   },
   {
    "duration": 136,
    "start_time": "2022-04-16T21:56:24.224Z"
   },
   {
    "duration": 3,
    "start_time": "2022-04-16T21:56:24.362Z"
   },
   {
    "duration": 35,
    "start_time": "2022-04-16T21:56:24.367Z"
   },
   {
    "duration": 29,
    "start_time": "2022-04-16T21:56:24.404Z"
   },
   {
    "duration": 3,
    "start_time": "2022-04-16T21:56:24.435Z"
   },
   {
    "duration": 10,
    "start_time": "2022-04-16T21:56:24.440Z"
   },
   {
    "duration": 47,
    "start_time": "2022-04-16T21:56:24.452Z"
   },
   {
    "duration": 5,
    "start_time": "2022-04-16T21:56:24.501Z"
   },
   {
    "duration": 3,
    "start_time": "2022-04-16T21:56:24.508Z"
   },
   {
    "duration": 289,
    "start_time": "2022-04-16T21:56:24.514Z"
   },
   {
    "duration": 18,
    "start_time": "2022-04-16T21:56:24.805Z"
   },
   {
    "duration": 8,
    "start_time": "2022-04-16T21:56:24.825Z"
   },
   {
    "duration": 35,
    "start_time": "2022-04-16T21:56:24.834Z"
   },
   {
    "duration": 27,
    "start_time": "2022-04-16T21:56:24.893Z"
   },
   {
    "duration": 79,
    "start_time": "2022-04-16T21:56:24.922Z"
   },
   {
    "duration": 5,
    "start_time": "2022-04-16T21:56:25.003Z"
   },
   {
    "duration": 16,
    "start_time": "2022-04-16T21:56:25.010Z"
   },
   {
    "duration": 8,
    "start_time": "2022-04-16T21:56:25.028Z"
   },
   {
    "duration": 69,
    "start_time": "2022-04-16T21:56:25.038Z"
   },
   {
    "duration": 46,
    "start_time": "2022-04-16T21:56:25.108Z"
   },
   {
    "duration": 513,
    "start_time": "2022-04-16T21:56:25.156Z"
   },
   {
    "duration": 135,
    "start_time": "2022-04-16T21:56:25.671Z"
   },
   {
    "duration": 17,
    "start_time": "2022-04-16T21:56:25.808Z"
   },
   {
    "duration": 12,
    "start_time": "2022-04-16T21:56:25.826Z"
   },
   {
    "duration": 18,
    "start_time": "2022-04-16T21:56:25.840Z"
   },
   {
    "duration": 8,
    "start_time": "2022-04-16T21:56:25.860Z"
   },
   {
    "duration": 28,
    "start_time": "2022-04-16T21:56:25.870Z"
   },
   {
    "duration": 2432,
    "start_time": "2022-04-16T21:56:25.900Z"
   },
   {
    "duration": 2155,
    "start_time": "2022-04-16T21:56:39.251Z"
   },
   {
    "duration": 50,
    "start_time": "2022-04-16T22:00:03.873Z"
   },
   {
    "duration": 46,
    "start_time": "2022-04-16T22:01:45.885Z"
   },
   {
    "duration": 9,
    "start_time": "2022-04-16T22:01:50.030Z"
   },
   {
    "duration": 9,
    "start_time": "2022-04-16T22:02:26.121Z"
   },
   {
    "duration": 9,
    "start_time": "2022-04-16T22:02:30.902Z"
   },
   {
    "duration": 11,
    "start_time": "2022-04-16T22:02:33.474Z"
   },
   {
    "duration": 9,
    "start_time": "2022-04-16T22:02:36.294Z"
   },
   {
    "duration": 10,
    "start_time": "2022-04-16T22:07:52.334Z"
   },
   {
    "duration": 9,
    "start_time": "2022-04-16T22:08:08.155Z"
   },
   {
    "duration": 9,
    "start_time": "2022-04-16T22:08:14.286Z"
   },
   {
    "duration": 11,
    "start_time": "2022-04-16T22:08:15.930Z"
   },
   {
    "duration": 9,
    "start_time": "2022-04-16T22:08:20.189Z"
   },
   {
    "duration": 171,
    "start_time": "2022-04-16T22:12:04.392Z"
   },
   {
    "duration": 10,
    "start_time": "2022-04-16T22:13:27.399Z"
   },
   {
    "duration": 9,
    "start_time": "2022-04-16T22:18:02.491Z"
   },
   {
    "duration": 3,
    "start_time": "2022-04-16T22:19:45.068Z"
   },
   {
    "duration": 3,
    "start_time": "2022-04-16T22:20:23.866Z"
   },
   {
    "duration": 9,
    "start_time": "2022-04-16T22:20:40.548Z"
   },
   {
    "duration": 2,
    "start_time": "2022-04-16T22:20:50.784Z"
   },
   {
    "duration": 9,
    "start_time": "2022-04-16T22:20:53.868Z"
   },
   {
    "duration": 9,
    "start_time": "2022-04-16T22:20:56.605Z"
   },
   {
    "duration": 3,
    "start_time": "2022-04-16T22:20:59.098Z"
   },
   {
    "duration": 9,
    "start_time": "2022-04-16T22:21:02.290Z"
   },
   {
    "duration": 16,
    "start_time": "2022-04-16T22:22:35.742Z"
   },
   {
    "duration": 261,
    "start_time": "2022-04-16T22:35:03.500Z"
   },
   {
    "duration": 4,
    "start_time": "2022-04-16T22:36:22.965Z"
   },
   {
    "duration": 2464,
    "start_time": "2022-04-16T22:36:25.682Z"
   },
   {
    "duration": 3,
    "start_time": "2022-04-16T22:37:30.984Z"
   },
   {
    "duration": 316,
    "start_time": "2022-04-16T22:37:33.645Z"
   },
   {
    "duration": 9,
    "start_time": "2022-04-16T22:38:16.887Z"
   },
   {
    "duration": 3,
    "start_time": "2022-04-16T22:38:21.227Z"
   },
   {
    "duration": 8,
    "start_time": "2022-04-16T22:38:22.890Z"
   },
   {
    "duration": 3,
    "start_time": "2022-04-16T22:38:30.092Z"
   },
   {
    "duration": 10,
    "start_time": "2022-04-16T22:38:37.137Z"
   },
   {
    "duration": 4,
    "start_time": "2022-04-16T22:38:54.429Z"
   },
   {
    "duration": 3,
    "start_time": "2022-04-16T22:39:08.638Z"
   },
   {
    "duration": 9,
    "start_time": "2022-04-16T22:39:10.492Z"
   },
   {
    "duration": 9,
    "start_time": "2022-04-16T22:39:14.827Z"
   },
   {
    "duration": 1299,
    "start_time": "2022-04-16T22:39:37.590Z"
   },
   {
    "duration": 162,
    "start_time": "2022-04-16T22:39:38.891Z"
   },
   {
    "duration": 3,
    "start_time": "2022-04-16T22:39:39.055Z"
   },
   {
    "duration": 162,
    "start_time": "2022-04-16T22:39:39.061Z"
   },
   {
    "duration": 141,
    "start_time": "2022-04-16T22:39:39.225Z"
   },
   {
    "duration": 3,
    "start_time": "2022-04-16T22:39:39.368Z"
   },
   {
    "duration": 31,
    "start_time": "2022-04-16T22:39:39.372Z"
   },
   {
    "duration": 29,
    "start_time": "2022-04-16T22:39:39.405Z"
   },
   {
    "duration": 3,
    "start_time": "2022-04-16T22:39:39.435Z"
   },
   {
    "duration": 10,
    "start_time": "2022-04-16T22:39:39.441Z"
   },
   {
    "duration": 44,
    "start_time": "2022-04-16T22:39:39.452Z"
   },
   {
    "duration": 5,
    "start_time": "2022-04-16T22:39:39.498Z"
   },
   {
    "duration": 3,
    "start_time": "2022-04-16T22:39:39.505Z"
   },
   {
    "duration": 292,
    "start_time": "2022-04-16T22:39:39.510Z"
   },
   {
    "duration": 18,
    "start_time": "2022-04-16T22:39:39.803Z"
   },
   {
    "duration": 8,
    "start_time": "2022-04-16T22:39:39.823Z"
   },
   {
    "duration": 60,
    "start_time": "2022-04-16T22:39:39.833Z"
   },
   {
    "duration": 27,
    "start_time": "2022-04-16T22:39:39.894Z"
   },
   {
    "duration": 79,
    "start_time": "2022-04-16T22:39:39.923Z"
   },
   {
    "duration": 5,
    "start_time": "2022-04-16T22:39:40.003Z"
   },
   {
    "duration": 19,
    "start_time": "2022-04-16T22:39:40.009Z"
   },
   {
    "duration": 188,
    "start_time": "2022-04-16T22:39:40.029Z"
   },
   {
    "duration": 5,
    "start_time": "2022-04-16T22:39:40.219Z"
   },
   {
    "duration": 169,
    "start_time": "2022-04-16T22:39:40.226Z"
   },
   {
    "duration": 96,
    "start_time": "2022-04-16T22:39:40.398Z"
   },
   {
    "duration": 500,
    "start_time": "2022-04-16T22:39:40.495Z"
   },
   {
    "duration": 130,
    "start_time": "2022-04-16T22:39:40.997Z"
   },
   {
    "duration": 17,
    "start_time": "2022-04-16T22:39:41.131Z"
   },
   {
    "duration": 14,
    "start_time": "2022-04-16T22:39:41.149Z"
   },
   {
    "duration": 3,
    "start_time": "2022-04-16T22:39:41.165Z"
   },
   {
    "duration": 135,
    "start_time": "2022-04-16T22:39:41.170Z"
   },
   {
    "duration": 0,
    "start_time": "2022-04-16T22:39:41.307Z"
   },
   {
    "duration": 0,
    "start_time": "2022-04-16T22:39:41.308Z"
   },
   {
    "duration": 0,
    "start_time": "2022-04-16T22:39:41.309Z"
   },
   {
    "duration": 0,
    "start_time": "2022-04-16T22:39:41.310Z"
   },
   {
    "duration": 0,
    "start_time": "2022-04-16T22:39:41.311Z"
   },
   {
    "duration": 0,
    "start_time": "2022-04-16T22:39:41.312Z"
   },
   {
    "duration": 0,
    "start_time": "2022-04-16T22:39:41.313Z"
   },
   {
    "duration": 0,
    "start_time": "2022-04-16T22:39:41.315Z"
   },
   {
    "duration": 0,
    "start_time": "2022-04-16T22:39:41.316Z"
   },
   {
    "duration": 23,
    "start_time": "2022-04-16T22:40:01.116Z"
   },
   {
    "duration": 4,
    "start_time": "2022-04-16T22:42:34.180Z"
   },
   {
    "duration": 22,
    "start_time": "2022-04-16T22:42:37.055Z"
   },
   {
    "duration": 4,
    "start_time": "2022-04-16T22:45:30.656Z"
   },
   {
    "duration": 17,
    "start_time": "2022-04-16T22:45:45.600Z"
   },
   {
    "duration": 4,
    "start_time": "2022-04-16T22:46:19.835Z"
   },
   {
    "duration": 31,
    "start_time": "2022-04-16T22:46:27.663Z"
   },
   {
    "duration": 104,
    "start_time": "2022-04-16T22:46:56.813Z"
   },
   {
    "duration": 1965,
    "start_time": "2022-04-17T18:38:24.958Z"
   },
   {
    "duration": 207,
    "start_time": "2022-04-17T18:38:26.926Z"
   },
   {
    "duration": 5,
    "start_time": "2022-04-17T18:38:27.135Z"
   },
   {
    "duration": 211,
    "start_time": "2022-04-17T18:38:27.142Z"
   },
   {
    "duration": 199,
    "start_time": "2022-04-17T18:38:27.357Z"
   },
   {
    "duration": 5,
    "start_time": "2022-04-17T18:38:27.558Z"
   },
   {
    "duration": 39,
    "start_time": "2022-04-17T18:38:27.565Z"
   },
   {
    "duration": 66,
    "start_time": "2022-04-17T18:38:27.607Z"
   },
   {
    "duration": 4,
    "start_time": "2022-04-17T18:38:27.676Z"
   },
   {
    "duration": 30,
    "start_time": "2022-04-17T18:38:27.682Z"
   },
   {
    "duration": 50,
    "start_time": "2022-04-17T18:38:27.714Z"
   },
   {
    "duration": 6,
    "start_time": "2022-04-17T18:38:27.767Z"
   },
   {
    "duration": 15,
    "start_time": "2022-04-17T18:38:27.776Z"
   },
   {
    "duration": 441,
    "start_time": "2022-04-17T18:38:27.796Z"
   },
   {
    "duration": 28,
    "start_time": "2022-04-17T18:38:28.239Z"
   },
   {
    "duration": 34,
    "start_time": "2022-04-17T18:38:28.269Z"
   },
   {
    "duration": 78,
    "start_time": "2022-04-17T18:38:28.305Z"
   },
   {
    "duration": 32,
    "start_time": "2022-04-17T18:38:28.385Z"
   },
   {
    "duration": 107,
    "start_time": "2022-04-17T18:38:28.420Z"
   },
   {
    "duration": 7,
    "start_time": "2022-04-17T18:38:28.529Z"
   },
   {
    "duration": 30,
    "start_time": "2022-04-17T18:38:28.538Z"
   },
   {
    "duration": 300,
    "start_time": "2022-04-17T18:38:28.570Z"
   },
   {
    "duration": 6,
    "start_time": "2022-04-17T18:38:28.873Z"
   },
   {
    "duration": 281,
    "start_time": "2022-04-17T18:38:28.882Z"
   },
   {
    "duration": 102,
    "start_time": "2022-04-17T18:38:29.165Z"
   },
   {
    "duration": 907,
    "start_time": "2022-04-17T18:38:29.269Z"
   },
   {
    "duration": 180,
    "start_time": "2022-04-17T18:38:30.178Z"
   },
   {
    "duration": 24,
    "start_time": "2022-04-17T18:38:30.360Z"
   },
   {
    "duration": 19,
    "start_time": "2022-04-17T18:38:30.386Z"
   },
   {
    "duration": 45,
    "start_time": "2022-04-17T18:38:30.407Z"
   },
   {
    "duration": 240,
    "start_time": "2022-04-17T18:38:30.454Z"
   },
   {
    "duration": 11,
    "start_time": "2022-04-17T18:38:30.697Z"
   },
   {
    "duration": 21,
    "start_time": "2022-04-17T18:38:30.710Z"
   },
   {
    "duration": 37,
    "start_time": "2022-04-17T18:38:30.733Z"
   },
   {
    "duration": 8,
    "start_time": "2022-04-17T18:38:30.773Z"
   },
   {
    "duration": 21,
    "start_time": "2022-04-17T18:38:30.784Z"
   },
   {
    "duration": 22,
    "start_time": "2022-04-17T18:38:30.807Z"
   },
   {
    "duration": 39,
    "start_time": "2022-04-17T18:38:30.832Z"
   },
   {
    "duration": 16,
    "start_time": "2022-04-17T18:38:30.874Z"
   },
   {
    "duration": 30,
    "start_time": "2022-04-17T18:38:30.893Z"
   },
   {
    "duration": 13,
    "start_time": "2022-04-17T19:02:37.031Z"
   },
   {
    "duration": 3,
    "start_time": "2022-04-17T19:03:18.827Z"
   },
   {
    "duration": 13,
    "start_time": "2022-04-17T19:26:23.622Z"
   },
   {
    "duration": 15,
    "start_time": "2022-04-17T19:26:28.971Z"
   },
   {
    "duration": 12,
    "start_time": "2022-04-17T19:26:33.087Z"
   },
   {
    "duration": 4,
    "start_time": "2022-04-17T19:30:09.217Z"
   },
   {
    "duration": 5,
    "start_time": "2022-04-17T19:30:15.365Z"
   },
   {
    "duration": 4,
    "start_time": "2022-04-17T19:30:20.875Z"
   },
   {
    "duration": 18,
    "start_time": "2022-04-17T19:55:11.256Z"
   },
   {
    "duration": 17,
    "start_time": "2022-04-17T19:55:32.397Z"
   },
   {
    "duration": 17,
    "start_time": "2022-04-17T19:55:50.371Z"
   },
   {
    "duration": 4,
    "start_time": "2022-04-17T20:27:55.594Z"
   },
   {
    "duration": 12,
    "start_time": "2022-04-17T20:28:00.080Z"
   },
   {
    "duration": 2182,
    "start_time": "2022-04-18T17:47:02.441Z"
   },
   {
    "duration": 194,
    "start_time": "2022-04-18T17:47:04.626Z"
   },
   {
    "duration": 5,
    "start_time": "2022-04-18T17:47:04.822Z"
   },
   {
    "duration": 209,
    "start_time": "2022-04-18T17:47:04.831Z"
   },
   {
    "duration": 195,
    "start_time": "2022-04-18T17:47:05.043Z"
   },
   {
    "duration": 3,
    "start_time": "2022-04-18T17:47:05.241Z"
   },
   {
    "duration": 65,
    "start_time": "2022-04-18T17:47:05.247Z"
   },
   {
    "duration": 52,
    "start_time": "2022-04-18T17:47:05.314Z"
   },
   {
    "duration": 5,
    "start_time": "2022-04-18T17:47:05.382Z"
   },
   {
    "duration": 13,
    "start_time": "2022-04-18T17:47:05.392Z"
   },
   {
    "duration": 34,
    "start_time": "2022-04-18T17:47:05.408Z"
   },
   {
    "duration": 9,
    "start_time": "2022-04-18T17:47:05.481Z"
   },
   {
    "duration": 28,
    "start_time": "2022-04-18T17:47:05.493Z"
   },
   {
    "duration": 637,
    "start_time": "2022-04-18T17:47:05.523Z"
   },
   {
    "duration": 37,
    "start_time": "2022-04-18T17:47:06.163Z"
   },
   {
    "duration": 14,
    "start_time": "2022-04-18T17:47:06.202Z"
   },
   {
    "duration": 83,
    "start_time": "2022-04-18T17:47:06.219Z"
   },
   {
    "duration": 53,
    "start_time": "2022-04-18T17:47:06.305Z"
   },
   {
    "duration": 102,
    "start_time": "2022-04-18T17:47:06.361Z"
   },
   {
    "duration": 19,
    "start_time": "2022-04-18T17:47:06.465Z"
   },
   {
    "duration": 20,
    "start_time": "2022-04-18T17:47:06.487Z"
   },
   {
    "duration": 333,
    "start_time": "2022-04-18T17:47:06.509Z"
   },
   {
    "duration": 5,
    "start_time": "2022-04-18T17:47:06.845Z"
   },
   {
    "duration": 255,
    "start_time": "2022-04-18T17:47:06.853Z"
   },
   {
    "duration": 132,
    "start_time": "2022-04-18T17:47:07.111Z"
   },
   {
    "duration": 1663,
    "start_time": "2022-04-18T17:47:07.246Z"
   },
   {
    "duration": 175,
    "start_time": "2022-04-18T17:47:08.911Z"
   },
   {
    "duration": 33,
    "start_time": "2022-04-18T17:47:09.093Z"
   },
   {
    "duration": 12,
    "start_time": "2022-04-18T17:47:09.128Z"
   },
   {
    "duration": 40,
    "start_time": "2022-04-18T17:47:09.143Z"
   },
   {
    "duration": 16,
    "start_time": "2022-04-18T17:47:09.189Z"
   },
   {
    "duration": 7,
    "start_time": "2022-04-18T17:47:09.208Z"
   },
   {
    "duration": 23,
    "start_time": "2022-04-18T17:47:09.218Z"
   },
   {
    "duration": 7,
    "start_time": "2022-04-18T17:47:09.243Z"
   },
   {
    "duration": 45,
    "start_time": "2022-04-18T17:47:09.252Z"
   },
   {
    "duration": 8,
    "start_time": "2022-04-18T17:47:09.300Z"
   },
   {
    "duration": 23,
    "start_time": "2022-04-18T17:47:09.310Z"
   },
   {
    "duration": 74,
    "start_time": "2022-04-18T20:16:26.496Z"
   },
   {
    "duration": 2141,
    "start_time": "2022-04-18T20:16:37.765Z"
   },
   {
    "duration": 386,
    "start_time": "2022-04-18T20:16:39.909Z"
   },
   {
    "duration": 6,
    "start_time": "2022-04-18T20:16:40.298Z"
   },
   {
    "duration": 250,
    "start_time": "2022-04-18T20:16:40.307Z"
   },
   {
    "duration": 207,
    "start_time": "2022-04-18T20:16:40.560Z"
   },
   {
    "duration": 4,
    "start_time": "2022-04-18T20:16:40.769Z"
   },
   {
    "duration": 32,
    "start_time": "2022-04-18T20:16:40.785Z"
   },
   {
    "duration": 71,
    "start_time": "2022-04-18T20:16:40.820Z"
   },
   {
    "duration": 5,
    "start_time": "2022-04-18T20:16:40.895Z"
   },
   {
    "duration": 14,
    "start_time": "2022-04-18T20:16:40.903Z"
   },
   {
    "duration": 65,
    "start_time": "2022-04-18T20:16:40.920Z"
   },
   {
    "duration": 11,
    "start_time": "2022-04-18T20:16:40.988Z"
   },
   {
    "duration": 5,
    "start_time": "2022-04-18T20:16:41.002Z"
   },
   {
    "duration": 497,
    "start_time": "2022-04-18T20:16:41.013Z"
   },
   {
    "duration": 28,
    "start_time": "2022-04-18T20:16:41.513Z"
   },
   {
    "duration": 10,
    "start_time": "2022-04-18T20:16:41.543Z"
   },
   {
    "duration": 72,
    "start_time": "2022-04-18T20:16:41.555Z"
   },
   {
    "duration": 57,
    "start_time": "2022-04-18T20:16:41.630Z"
   },
   {
    "duration": 105,
    "start_time": "2022-04-18T20:16:41.690Z"
   },
   {
    "duration": 6,
    "start_time": "2022-04-18T20:16:41.801Z"
   },
   {
    "duration": 20,
    "start_time": "2022-04-18T20:16:41.810Z"
   },
   {
    "duration": 243,
    "start_time": "2022-04-18T20:16:41.832Z"
   },
   {
    "duration": 4,
    "start_time": "2022-04-18T20:16:42.077Z"
   },
   {
    "duration": 144,
    "start_time": "2022-04-18T20:16:42.085Z"
   },
   {
    "duration": 108,
    "start_time": "2022-04-18T20:16:42.232Z"
   },
   {
    "duration": 1043,
    "start_time": "2022-04-18T20:16:42.342Z"
   },
   {
    "duration": 182,
    "start_time": "2022-04-18T20:16:43.389Z"
   },
   {
    "duration": 34,
    "start_time": "2022-04-18T20:16:43.573Z"
   },
   {
    "duration": 10,
    "start_time": "2022-04-18T20:16:43.609Z"
   },
   {
    "duration": 9,
    "start_time": "2022-04-18T20:16:43.621Z"
   },
   {
    "duration": 15,
    "start_time": "2022-04-18T20:16:43.632Z"
   },
   {
    "duration": 11,
    "start_time": "2022-04-18T20:16:43.649Z"
   },
   {
    "duration": 29,
    "start_time": "2022-04-18T20:16:43.684Z"
   },
   {
    "duration": 3,
    "start_time": "2022-04-18T20:16:43.716Z"
   },
   {
    "duration": 18,
    "start_time": "2022-04-18T20:16:43.721Z"
   },
   {
    "duration": 4,
    "start_time": "2022-04-18T20:16:43.741Z"
   },
   {
    "duration": 44,
    "start_time": "2022-04-18T20:16:43.747Z"
   },
   {
    "duration": 5,
    "start_time": "2022-04-18T20:18:45.199Z"
   },
   {
    "duration": 49,
    "start_time": "2022-04-18T20:18:51.029Z"
   },
   {
    "duration": 1632,
    "start_time": "2022-04-18T20:24:50.526Z"
   },
   {
    "duration": 210,
    "start_time": "2022-04-18T20:24:52.161Z"
   },
   {
    "duration": 8,
    "start_time": "2022-04-18T20:24:52.374Z"
   },
   {
    "duration": 214,
    "start_time": "2022-04-18T20:24:52.384Z"
   },
   {
    "duration": 206,
    "start_time": "2022-04-18T20:24:52.601Z"
   },
   {
    "duration": 4,
    "start_time": "2022-04-18T20:24:52.810Z"
   },
   {
    "duration": 32,
    "start_time": "2022-04-18T20:24:52.816Z"
   },
   {
    "duration": 57,
    "start_time": "2022-04-18T20:24:52.850Z"
   },
   {
    "duration": 4,
    "start_time": "2022-04-18T20:24:52.909Z"
   },
   {
    "duration": 17,
    "start_time": "2022-04-18T20:24:52.915Z"
   },
   {
    "duration": 55,
    "start_time": "2022-04-18T20:24:52.934Z"
   },
   {
    "duration": 7,
    "start_time": "2022-04-18T20:24:52.991Z"
   },
   {
    "duration": 4,
    "start_time": "2022-04-18T20:24:53.000Z"
   },
   {
    "duration": 75,
    "start_time": "2022-04-18T20:35:11.085Z"
   },
   {
    "duration": 2275,
    "start_time": "2022-04-18T20:35:31.965Z"
   },
   {
    "duration": 336,
    "start_time": "2022-04-18T20:35:34.244Z"
   },
   {
    "duration": 5,
    "start_time": "2022-04-18T20:35:34.582Z"
   },
   {
    "duration": 202,
    "start_time": "2022-04-18T20:35:34.590Z"
   },
   {
    "duration": 194,
    "start_time": "2022-04-18T20:35:34.794Z"
   },
   {
    "duration": 5,
    "start_time": "2022-04-18T20:35:34.990Z"
   },
   {
    "duration": 32,
    "start_time": "2022-04-18T20:35:34.997Z"
   },
   {
    "duration": 62,
    "start_time": "2022-04-18T20:35:35.031Z"
   },
   {
    "duration": 4,
    "start_time": "2022-04-18T20:35:35.095Z"
   },
   {
    "duration": 11,
    "start_time": "2022-04-18T20:35:35.103Z"
   },
   {
    "duration": 30,
    "start_time": "2022-04-18T20:35:35.116Z"
   },
   {
    "duration": 40,
    "start_time": "2022-04-18T20:35:35.148Z"
   },
   {
    "duration": 4,
    "start_time": "2022-04-18T20:35:35.190Z"
   },
   {
    "duration": 181,
    "start_time": "2022-04-18T20:35:35.196Z"
   },
   {
    "duration": 0,
    "start_time": "2022-04-18T20:35:35.382Z"
   },
   {
    "duration": 0,
    "start_time": "2022-04-18T20:35:35.384Z"
   },
   {
    "duration": 0,
    "start_time": "2022-04-18T20:35:35.385Z"
   },
   {
    "duration": 0,
    "start_time": "2022-04-18T20:35:35.387Z"
   },
   {
    "duration": 0,
    "start_time": "2022-04-18T20:35:35.389Z"
   },
   {
    "duration": 0,
    "start_time": "2022-04-18T20:35:35.390Z"
   },
   {
    "duration": 0,
    "start_time": "2022-04-18T20:35:35.392Z"
   },
   {
    "duration": 0,
    "start_time": "2022-04-18T20:35:35.393Z"
   },
   {
    "duration": 0,
    "start_time": "2022-04-18T20:35:35.395Z"
   },
   {
    "duration": 0,
    "start_time": "2022-04-18T20:35:35.396Z"
   },
   {
    "duration": 0,
    "start_time": "2022-04-18T20:35:35.397Z"
   },
   {
    "duration": 0,
    "start_time": "2022-04-18T20:35:35.399Z"
   },
   {
    "duration": 0,
    "start_time": "2022-04-18T20:35:35.400Z"
   },
   {
    "duration": 1,
    "start_time": "2022-04-18T20:35:35.401Z"
   },
   {
    "duration": 0,
    "start_time": "2022-04-18T20:35:35.403Z"
   },
   {
    "duration": 0,
    "start_time": "2022-04-18T20:35:35.404Z"
   },
   {
    "duration": 0,
    "start_time": "2022-04-18T20:35:35.405Z"
   },
   {
    "duration": 0,
    "start_time": "2022-04-18T20:35:35.407Z"
   },
   {
    "duration": 0,
    "start_time": "2022-04-18T20:35:35.408Z"
   },
   {
    "duration": 0,
    "start_time": "2022-04-18T20:35:35.410Z"
   },
   {
    "duration": 0,
    "start_time": "2022-04-18T20:35:35.411Z"
   },
   {
    "duration": 0,
    "start_time": "2022-04-18T20:35:35.412Z"
   },
   {
    "duration": 0,
    "start_time": "2022-04-18T20:35:35.413Z"
   },
   {
    "duration": 396,
    "start_time": "2022-04-18T20:36:12.495Z"
   },
   {
    "duration": 1449,
    "start_time": "2022-04-18T20:40:06.260Z"
   },
   {
    "duration": 60,
    "start_time": "2022-04-18T20:40:09.994Z"
   },
   {
    "duration": 42,
    "start_time": "2022-04-18T20:40:16.151Z"
   },
   {
    "duration": 345,
    "start_time": "2022-04-18T20:40:19.147Z"
   },
   {
    "duration": 54,
    "start_time": "2022-04-18T20:41:20.207Z"
   },
   {
    "duration": 1638,
    "start_time": "2022-04-18T20:41:31.313Z"
   },
   {
    "duration": 204,
    "start_time": "2022-04-18T20:41:32.954Z"
   },
   {
    "duration": 5,
    "start_time": "2022-04-18T20:41:33.160Z"
   },
   {
    "duration": 200,
    "start_time": "2022-04-18T20:41:33.168Z"
   },
   {
    "duration": 208,
    "start_time": "2022-04-18T20:41:33.370Z"
   },
   {
    "duration": 5,
    "start_time": "2022-04-18T20:41:33.582Z"
   },
   {
    "duration": 1545,
    "start_time": "2022-04-18T20:41:33.590Z"
   },
   {
    "duration": 61,
    "start_time": "2022-04-18T20:41:35.137Z"
   },
   {
    "duration": 5,
    "start_time": "2022-04-18T20:41:35.200Z"
   },
   {
    "duration": 20,
    "start_time": "2022-04-18T20:41:35.208Z"
   },
   {
    "duration": 58,
    "start_time": "2022-04-18T20:41:35.230Z"
   },
   {
    "duration": 46,
    "start_time": "2022-04-18T20:41:35.290Z"
   },
   {
    "duration": 5,
    "start_time": "2022-04-18T20:41:35.339Z"
   },
   {
    "duration": 420,
    "start_time": "2022-04-18T20:41:35.347Z"
   },
   {
    "duration": 80,
    "start_time": "2022-04-18T20:41:35.770Z"
   },
   {
    "duration": 29,
    "start_time": "2022-04-18T20:41:35.853Z"
   },
   {
    "duration": 45,
    "start_time": "2022-04-18T20:41:35.885Z"
   },
   {
    "duration": 54,
    "start_time": "2022-04-18T20:41:35.933Z"
   },
   {
    "duration": 104,
    "start_time": "2022-04-18T20:41:35.990Z"
   },
   {
    "duration": 7,
    "start_time": "2022-04-18T20:41:36.097Z"
   },
   {
    "duration": 23,
    "start_time": "2022-04-18T20:41:36.106Z"
   },
   {
    "duration": 214,
    "start_time": "2022-04-18T20:41:36.132Z"
   },
   {
    "duration": 5,
    "start_time": "2022-04-18T20:41:36.348Z"
   },
   {
    "duration": 152,
    "start_time": "2022-04-18T20:41:36.356Z"
   },
   {
    "duration": 104,
    "start_time": "2022-04-18T20:41:36.510Z"
   },
   {
    "duration": 971,
    "start_time": "2022-04-18T20:41:36.616Z"
   },
   {
    "duration": 195,
    "start_time": "2022-04-18T20:41:37.589Z"
   },
   {
    "duration": 24,
    "start_time": "2022-04-18T20:41:37.789Z"
   },
   {
    "duration": 8,
    "start_time": "2022-04-18T20:41:37.815Z"
   },
   {
    "duration": 9,
    "start_time": "2022-04-18T20:41:37.825Z"
   },
   {
    "duration": 50,
    "start_time": "2022-04-18T20:41:37.836Z"
   },
   {
    "duration": 7,
    "start_time": "2022-04-18T20:41:37.888Z"
   },
   {
    "duration": 15,
    "start_time": "2022-04-18T20:41:37.897Z"
   },
   {
    "duration": 3,
    "start_time": "2022-04-18T20:41:37.914Z"
   },
   {
    "duration": 16,
    "start_time": "2022-04-18T20:41:37.919Z"
   },
   {
    "duration": 5,
    "start_time": "2022-04-18T20:41:37.938Z"
   },
   {
    "duration": 12,
    "start_time": "2022-04-18T20:41:37.982Z"
   },
   {
    "duration": 291,
    "start_time": "2022-04-18T20:42:14.042Z"
   },
   {
    "duration": 1774,
    "start_time": "2022-04-18T20:44:00.801Z"
   },
   {
    "duration": 206,
    "start_time": "2022-04-18T20:44:02.581Z"
   },
   {
    "duration": 6,
    "start_time": "2022-04-18T20:44:02.789Z"
   },
   {
    "duration": 214,
    "start_time": "2022-04-18T20:44:02.800Z"
   },
   {
    "duration": 205,
    "start_time": "2022-04-18T20:44:03.017Z"
   },
   {
    "duration": 6,
    "start_time": "2022-04-18T20:44:03.224Z"
   },
   {
    "duration": 1469,
    "start_time": "2022-04-18T20:44:03.232Z"
   },
   {
    "duration": 48,
    "start_time": "2022-04-18T20:44:04.704Z"
   },
   {
    "duration": 5,
    "start_time": "2022-04-18T20:44:04.754Z"
   },
   {
    "duration": 11,
    "start_time": "2022-04-18T20:44:04.782Z"
   },
   {
    "duration": 28,
    "start_time": "2022-04-18T20:44:04.795Z"
   },
   {
    "duration": 71,
    "start_time": "2022-04-18T20:44:04.826Z"
   },
   {
    "duration": 3,
    "start_time": "2022-04-18T20:44:04.899Z"
   },
   {
    "duration": 401,
    "start_time": "2022-04-18T20:44:04.905Z"
   },
   {
    "duration": 53,
    "start_time": "2022-04-18T20:44:05.308Z"
   },
   {
    "duration": 25,
    "start_time": "2022-04-18T20:44:05.363Z"
   },
   {
    "duration": 43,
    "start_time": "2022-04-18T20:44:05.390Z"
   },
   {
    "duration": 57,
    "start_time": "2022-04-18T20:44:05.436Z"
   },
   {
    "duration": 150,
    "start_time": "2022-04-18T20:44:05.496Z"
   },
   {
    "duration": 9,
    "start_time": "2022-04-18T20:44:05.648Z"
   },
   {
    "duration": 39,
    "start_time": "2022-04-18T20:44:05.660Z"
   },
   {
    "duration": 203,
    "start_time": "2022-04-18T20:44:05.701Z"
   },
   {
    "duration": 6,
    "start_time": "2022-04-18T20:44:05.906Z"
   },
   {
    "duration": 223,
    "start_time": "2022-04-18T20:44:05.914Z"
   },
   {
    "duration": 61,
    "start_time": "2022-04-18T20:44:06.183Z"
   },
   {
    "duration": 998,
    "start_time": "2022-04-18T20:44:06.246Z"
   },
   {
    "duration": 194,
    "start_time": "2022-04-18T20:44:07.246Z"
   },
   {
    "duration": 24,
    "start_time": "2022-04-18T20:44:07.445Z"
   },
   {
    "duration": 8,
    "start_time": "2022-04-18T20:44:07.482Z"
   },
   {
    "duration": 14,
    "start_time": "2022-04-18T20:44:07.492Z"
   },
   {
    "duration": 14,
    "start_time": "2022-04-18T20:44:07.508Z"
   },
   {
    "duration": 6,
    "start_time": "2022-04-18T20:44:07.524Z"
   },
   {
    "duration": 17,
    "start_time": "2022-04-18T20:44:07.533Z"
   },
   {
    "duration": 32,
    "start_time": "2022-04-18T20:44:07.552Z"
   },
   {
    "duration": 15,
    "start_time": "2022-04-18T20:44:07.587Z"
   },
   {
    "duration": 4,
    "start_time": "2022-04-18T20:44:07.605Z"
   },
   {
    "duration": 14,
    "start_time": "2022-04-18T20:44:07.611Z"
   },
   {
    "duration": 59,
    "start_time": "2022-06-07T16:37:55.631Z"
   },
   {
    "duration": 1624,
    "start_time": "2022-06-07T16:38:03.582Z"
   },
   {
    "duration": 552,
    "start_time": "2022-06-07T16:38:05.210Z"
   },
   {
    "duration": 4,
    "start_time": "2022-06-07T16:38:05.764Z"
   },
   {
    "duration": 159,
    "start_time": "2022-06-07T16:38:05.771Z"
   },
   {
    "duration": 156,
    "start_time": "2022-06-07T16:38:05.933Z"
   },
   {
    "duration": 5,
    "start_time": "2022-06-07T16:38:06.091Z"
   },
   {
    "duration": 1039,
    "start_time": "2022-06-07T16:38:06.097Z"
   },
   {
    "duration": 38,
    "start_time": "2022-06-07T16:38:07.137Z"
   },
   {
    "duration": 4,
    "start_time": "2022-06-07T16:38:07.177Z"
   },
   {
    "duration": 21,
    "start_time": "2022-06-07T16:38:07.184Z"
   },
   {
    "duration": 41,
    "start_time": "2022-06-07T16:38:07.207Z"
   },
   {
    "duration": 35,
    "start_time": "2022-06-07T16:38:07.249Z"
   },
   {
    "duration": 3,
    "start_time": "2022-06-07T16:38:07.288Z"
   },
   {
    "duration": 381,
    "start_time": "2022-06-07T16:38:07.293Z"
   },
   {
    "duration": 54,
    "start_time": "2022-06-07T16:38:07.676Z"
   },
   {
    "duration": 11,
    "start_time": "2022-06-07T16:38:07.732Z"
   },
   {
    "duration": 50,
    "start_time": "2022-06-07T16:38:07.745Z"
   },
   {
    "duration": 57,
    "start_time": "2022-06-07T16:38:07.797Z"
   },
   {
    "duration": 96,
    "start_time": "2022-06-07T16:38:07.856Z"
   },
   {
    "duration": 6,
    "start_time": "2022-06-07T16:38:07.954Z"
   },
   {
    "duration": 31,
    "start_time": "2022-06-07T16:38:07.962Z"
   },
   {
    "duration": 143,
    "start_time": "2022-06-07T16:38:07.995Z"
   },
   {
    "duration": 3,
    "start_time": "2022-06-07T16:38:08.141Z"
   },
   {
    "duration": 108,
    "start_time": "2022-06-07T16:38:08.146Z"
   },
   {
    "duration": 115,
    "start_time": "2022-06-07T16:38:08.256Z"
   },
   {
    "duration": 1008,
    "start_time": "2022-06-07T16:38:08.374Z"
   },
   {
    "duration": 142,
    "start_time": "2022-06-07T16:38:09.384Z"
   },
   {
    "duration": 20,
    "start_time": "2022-06-07T16:38:09.530Z"
   },
   {
    "duration": 7,
    "start_time": "2022-06-07T16:38:09.552Z"
   },
   {
    "duration": 16,
    "start_time": "2022-06-07T16:38:09.560Z"
   },
   {
    "duration": 14,
    "start_time": "2022-06-07T16:38:09.578Z"
   },
   {
    "duration": 9,
    "start_time": "2022-06-07T16:38:09.593Z"
   },
   {
    "duration": 13,
    "start_time": "2022-06-07T16:38:09.603Z"
   },
   {
    "duration": 3,
    "start_time": "2022-06-07T16:38:09.626Z"
   },
   {
    "duration": 15,
    "start_time": "2022-06-07T16:38:09.630Z"
   },
   {
    "duration": 14,
    "start_time": "2022-06-07T16:38:09.647Z"
   },
   {
    "duration": 16,
    "start_time": "2022-06-07T16:38:09.662Z"
   }
  ],
  "kernelspec": {
   "display_name": "Python 3 (ipykernel)",
   "language": "python",
   "name": "python3"
  },
  "language_info": {
   "codemirror_mode": {
    "name": "ipython",
    "version": 3
   },
   "file_extension": ".py",
   "mimetype": "text/x-python",
   "name": "python",
   "nbconvert_exporter": "python",
   "pygments_lexer": "ipython3",
   "version": "3.9.5"
  },
  "toc": {
   "base_numbering": 1,
   "nav_menu": {},
   "number_sections": true,
   "sideBar": true,
   "skip_h1_title": true,
   "title_cell": "Table of Contents",
   "title_sidebar": "Contents",
   "toc_cell": true,
   "toc_position": {},
   "toc_section_display": true,
   "toc_window_display": false
  }
 },
 "nbformat": 4,
 "nbformat_minor": 2
}
